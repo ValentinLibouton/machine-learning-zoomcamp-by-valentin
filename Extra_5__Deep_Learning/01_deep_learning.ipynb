{
 "cells": [
  {
   "cell_type": "markdown",
   "source": [
    "# Deep Learning"
   ],
   "metadata": {
    "collapsed": false
   },
   "id": "f7be9c0f9be7f7f2"
  },
  {
   "cell_type": "code",
   "outputs": [
    {
     "name": "stdout",
     "output_type": "stream",
     "text": [
      "[name: \"/device:CPU:0\"\n",
      "device_type: \"CPU\"\n",
      "memory_limit: 268435456\n",
      "locality {\n",
      "}\n",
      "incarnation: 11910351434407170551\n",
      "xla_global_id: -1\n",
      ", name: \"/device:GPU:0\"\n",
      "device_type: \"GPU\"\n",
      "memory_limit: 5105057792\n",
      "locality {\n",
      "  bus_id: 1\n",
      "  links {\n",
      "  }\n",
      "}\n",
      "incarnation: 12429485763216470515\n",
      "physical_device_desc: \"device: 0, name: NVIDIA GeForce RTX 3050, pci bus id: 0000:09:00.0, compute capability: 8.6\"\n",
      "xla_global_id: 416903419\n",
      "]\n"
     ]
    },
    {
     "name": "stderr",
     "output_type": "stream",
     "text": [
      "2024-01-19 15:21:19.308470: I tensorflow/compiler/xla/stream_executor/cuda/cuda_gpu_executor.cc:894] successful NUMA node read from SysFS had negative value (-1), but there must be at least one NUMA node, so returning NUMA node zero. See more at https://github.com/torvalds/linux/blob/v6.0/Documentation/ABI/testing/sysfs-bus-pci#L344-L355\n",
      "2024-01-19 15:21:19.340008: I tensorflow/compiler/xla/stream_executor/cuda/cuda_gpu_executor.cc:894] successful NUMA node read from SysFS had negative value (-1), but there must be at least one NUMA node, so returning NUMA node zero. See more at https://github.com/torvalds/linux/blob/v6.0/Documentation/ABI/testing/sysfs-bus-pci#L344-L355\n",
      "2024-01-19 15:21:19.340208: I tensorflow/compiler/xla/stream_executor/cuda/cuda_gpu_executor.cc:894] successful NUMA node read from SysFS had negative value (-1), but there must be at least one NUMA node, so returning NUMA node zero. See more at https://github.com/torvalds/linux/blob/v6.0/Documentation/ABI/testing/sysfs-bus-pci#L344-L355\n",
      "2024-01-19 15:21:19.412374: I tensorflow/compiler/xla/stream_executor/cuda/cuda_gpu_executor.cc:894] successful NUMA node read from SysFS had negative value (-1), but there must be at least one NUMA node, so returning NUMA node zero. See more at https://github.com/torvalds/linux/blob/v6.0/Documentation/ABI/testing/sysfs-bus-pci#L344-L355\n",
      "2024-01-19 15:21:19.412532: I tensorflow/compiler/xla/stream_executor/cuda/cuda_gpu_executor.cc:894] successful NUMA node read from SysFS had negative value (-1), but there must be at least one NUMA node, so returning NUMA node zero. See more at https://github.com/torvalds/linux/blob/v6.0/Documentation/ABI/testing/sysfs-bus-pci#L344-L355\n",
      "2024-01-19 15:21:19.412666: I tensorflow/compiler/xla/stream_executor/cuda/cuda_gpu_executor.cc:894] successful NUMA node read from SysFS had negative value (-1), but there must be at least one NUMA node, so returning NUMA node zero. See more at https://github.com/torvalds/linux/blob/v6.0/Documentation/ABI/testing/sysfs-bus-pci#L344-L355\n",
      "2024-01-19 15:21:19.412762: I tensorflow/core/common_runtime/gpu/gpu_device.cc:1886] Created device /device:GPU:0 with 4868 MB memory:  -> device: 0, name: NVIDIA GeForce RTX 3050, pci bus id: 0000:09:00.0, compute capability: 8.6\n"
     ]
    }
   ],
   "source": [
    "from tensorflow.python.client import device_lib\n",
    "\n",
    "print(device_lib.list_local_devices())\n"
   ],
   "metadata": {
    "collapsed": false,
    "ExecuteTime": {
     "end_time": "2024-01-19T14:21:19.457942181Z",
     "start_time": "2024-01-19T14:21:19.414281178Z"
    }
   },
   "id": "5918cb37e11ff34e",
   "execution_count": 9
  },
  {
   "cell_type": "code",
   "outputs": [
    {
     "name": "stderr",
     "output_type": "stream",
     "text": [
      "2024-01-19 15:21:56.110884: I tensorflow/compiler/xla/stream_executor/cuda/cuda_gpu_executor.cc:894] successful NUMA node read from SysFS had negative value (-1), but there must be at least one NUMA node, so returning NUMA node zero. See more at https://github.com/torvalds/linux/blob/v6.0/Documentation/ABI/testing/sysfs-bus-pci#L344-L355\n",
      "2024-01-19 15:21:56.111158: I tensorflow/compiler/xla/stream_executor/cuda/cuda_gpu_executor.cc:894] successful NUMA node read from SysFS had negative value (-1), but there must be at least one NUMA node, so returning NUMA node zero. See more at https://github.com/torvalds/linux/blob/v6.0/Documentation/ABI/testing/sysfs-bus-pci#L344-L355\n",
      "2024-01-19 15:21:56.111355: I tensorflow/compiler/xla/stream_executor/cuda/cuda_gpu_executor.cc:894] successful NUMA node read from SysFS had negative value (-1), but there must be at least one NUMA node, so returning NUMA node zero. See more at https://github.com/torvalds/linux/blob/v6.0/Documentation/ABI/testing/sysfs-bus-pci#L344-L355\n"
     ]
    }
   ],
   "source": [
    "physical_devices = tf.config.experimental.list_physical_devices('GPU')\n",
    "if len(physical_devices) > 0:\n",
    "    tf.config.experimental.set_memory_growth(physical_devices[0], True)\n"
   ],
   "metadata": {
    "collapsed": false,
    "ExecuteTime": {
     "end_time": "2024-01-19T14:21:56.158004659Z",
     "start_time": "2024-01-19T14:21:56.113443835Z"
    }
   },
   "id": "cc732060196271c7",
   "execution_count": 10
  },
  {
   "cell_type": "code",
   "outputs": [],
   "source": [
    "import numpy as np\n",
    "import pandas as pd\n",
    "import tensorflow as tf\n",
    "from tensorflow import keras\n",
    "import matplotlib.pyplot as plt\n",
    "import seaborn as sns\n",
    "\n",
    "%matplotlib inline"
   ],
   "metadata": {
    "collapsed": true,
    "ExecuteTime": {
     "end_time": "2024-01-19T15:34:21.836050350Z",
     "start_time": "2024-01-19T15:34:21.427377817Z"
    }
   },
   "id": "initial_id",
   "execution_count": 84
  },
  {
   "cell_type": "code",
   "outputs": [],
   "source": [
    "Train, Test = keras.datasets.mnist.load_data()"
   ],
   "metadata": {
    "collapsed": false,
    "ExecuteTime": {
     "end_time": "2024-01-19T14:24:11.690975977Z",
     "start_time": "2024-01-19T14:24:11.445864361Z"
    }
   },
   "id": "77c2790d924901d5",
   "execution_count": 17
  },
  {
   "cell_type": "code",
   "outputs": [
    {
     "data": {
      "text/plain": "2"
     },
     "execution_count": 18,
     "metadata": {},
     "output_type": "execute_result"
    }
   ],
   "source": [
    "len(Train)"
   ],
   "metadata": {
    "collapsed": false,
    "ExecuteTime": {
     "end_time": "2024-01-19T14:24:11.753161258Z",
     "start_time": "2024-01-19T14:24:11.752304708Z"
    }
   },
   "id": "9729535ca9bc1a4b",
   "execution_count": 18
  },
  {
   "cell_type": "code",
   "outputs": [
    {
     "data": {
      "text/plain": "60000"
     },
     "execution_count": 19,
     "metadata": {},
     "output_type": "execute_result"
    }
   ],
   "source": [
    "len(Train[0])"
   ],
   "metadata": {
    "collapsed": false,
    "ExecuteTime": {
     "end_time": "2024-01-19T14:24:12.017693446Z",
     "start_time": "2024-01-19T14:24:12.009051529Z"
    }
   },
   "id": "9929643ed9d1632b",
   "execution_count": 19
  },
  {
   "cell_type": "code",
   "outputs": [
    {
     "data": {
      "text/plain": "60000"
     },
     "execution_count": 20,
     "metadata": {},
     "output_type": "execute_result"
    }
   ],
   "source": [
    "len(Train[1])"
   ],
   "metadata": {
    "collapsed": false,
    "ExecuteTime": {
     "end_time": "2024-01-19T14:24:12.460353438Z",
     "start_time": "2024-01-19T14:24:12.453761457Z"
    }
   },
   "id": "6d711e153fa40cd",
   "execution_count": 20
  },
  {
   "cell_type": "code",
   "outputs": [
    {
     "name": "stdout",
     "output_type": "stream",
     "text": [
      "10000\n",
      "10000\n"
     ]
    }
   ],
   "source": [
    "print(len(Test[0]))\n",
    "print(len(Test[1]))"
   ],
   "metadata": {
    "collapsed": false,
    "ExecuteTime": {
     "end_time": "2024-01-19T14:24:36.804451812Z",
     "start_time": "2024-01-19T14:24:36.792147985Z"
    }
   },
   "id": "7e0fda169c8c5e4c",
   "execution_count": 21
  },
  {
   "cell_type": "code",
   "outputs": [
    {
     "data": {
      "text/plain": "array([0, 0, 0, 0, 0, 0, 0, 0, 0, 0, 0, 0, 0, 0, 0, 0, 0, 0, 0, 0, 0, 0,\n       0, 0, 0, 0, 0, 0], dtype=uint8)"
     },
     "execution_count": 22,
     "metadata": {},
     "output_type": "execute_result"
    }
   ],
   "source": [
    "Train[0][0][0]"
   ],
   "metadata": {
    "collapsed": false,
    "ExecuteTime": {
     "end_time": "2024-01-19T14:24:51.318256374Z",
     "start_time": "2024-01-19T14:24:51.273118067Z"
    }
   },
   "id": "bcb7975db8c1ec50",
   "execution_count": 22
  },
  {
   "cell_type": "code",
   "outputs": [
    {
     "data": {
      "text/plain": "28"
     },
     "execution_count": 23,
     "metadata": {},
     "output_type": "execute_result"
    }
   ],
   "source": [
    "len(Train[0][0][0])"
   ],
   "metadata": {
    "collapsed": false,
    "ExecuteTime": {
     "end_time": "2024-01-19T14:25:01.613021725Z",
     "start_time": "2024-01-19T14:25:01.598136705Z"
    }
   },
   "id": "48aaa68fbd101d43",
   "execution_count": 23
  },
  {
   "cell_type": "code",
   "outputs": [
    {
     "data": {
      "text/plain": "array([[  0,   0,   0,   0,   0,   0,   0,   0,   0,   0,   0,   0,   0,\n          0,   0,   0,   0,   0,   0,   0,   0,   0,   0,   0,   0,   0,\n          0,   0],\n       [  0,   0,   0,   0,   0,   0,   0,   0,   0,   0,   0,   0,   0,\n          0,   0,   0,   0,   0,   0,   0,   0,   0,   0,   0,   0,   0,\n          0,   0],\n       [  0,   0,   0,   0,   0,   0,   0,   0,   0,   0,   0,   0,   0,\n          0,   0,   0,   0,   0,   0,   0,   0,   0,   0,   0,   0,   0,\n          0,   0],\n       [  0,   0,   0,   0,   0,   0,   0,   0,   0,   0,   0,   0,   0,\n          0,   0,   0,   0,   0,   0,   0,   0,   0,   0,   0,   0,   0,\n          0,   0],\n       [  0,   0,   0,   0,   0,   0,   0,   0,   0,   0,   0,   0,   0,\n          0,   0,   0,   0,   0,   0,   0,   0,   0,   0,   0,   0,   0,\n          0,   0],\n       [  0,   0,   0,   0,   0,   0,   0,   0,   0,   0,   0,   0,   3,\n         18,  18,  18, 126, 136, 175,  26, 166, 255, 247, 127,   0,   0,\n          0,   0],\n       [  0,   0,   0,   0,   0,   0,   0,   0,  30,  36,  94, 154, 170,\n        253, 253, 253, 253, 253, 225, 172, 253, 242, 195,  64,   0,   0,\n          0,   0],\n       [  0,   0,   0,   0,   0,   0,   0,  49, 238, 253, 253, 253, 253,\n        253, 253, 253, 253, 251,  93,  82,  82,  56,  39,   0,   0,   0,\n          0,   0],\n       [  0,   0,   0,   0,   0,   0,   0,  18, 219, 253, 253, 253, 253,\n        253, 198, 182, 247, 241,   0,   0,   0,   0,   0,   0,   0,   0,\n          0,   0],\n       [  0,   0,   0,   0,   0,   0,   0,   0,  80, 156, 107, 253, 253,\n        205,  11,   0,  43, 154,   0,   0,   0,   0,   0,   0,   0,   0,\n          0,   0],\n       [  0,   0,   0,   0,   0,   0,   0,   0,   0,  14,   1, 154, 253,\n         90,   0,   0,   0,   0,   0,   0,   0,   0,   0,   0,   0,   0,\n          0,   0],\n       [  0,   0,   0,   0,   0,   0,   0,   0,   0,   0,   0, 139, 253,\n        190,   2,   0,   0,   0,   0,   0,   0,   0,   0,   0,   0,   0,\n          0,   0],\n       [  0,   0,   0,   0,   0,   0,   0,   0,   0,   0,   0,  11, 190,\n        253,  70,   0,   0,   0,   0,   0,   0,   0,   0,   0,   0,   0,\n          0,   0],\n       [  0,   0,   0,   0,   0,   0,   0,   0,   0,   0,   0,   0,  35,\n        241, 225, 160, 108,   1,   0,   0,   0,   0,   0,   0,   0,   0,\n          0,   0],\n       [  0,   0,   0,   0,   0,   0,   0,   0,   0,   0,   0,   0,   0,\n         81, 240, 253, 253, 119,  25,   0,   0,   0,   0,   0,   0,   0,\n          0,   0],\n       [  0,   0,   0,   0,   0,   0,   0,   0,   0,   0,   0,   0,   0,\n          0,  45, 186, 253, 253, 150,  27,   0,   0,   0,   0,   0,   0,\n          0,   0],\n       [  0,   0,   0,   0,   0,   0,   0,   0,   0,   0,   0,   0,   0,\n          0,   0,  16,  93, 252, 253, 187,   0,   0,   0,   0,   0,   0,\n          0,   0],\n       [  0,   0,   0,   0,   0,   0,   0,   0,   0,   0,   0,   0,   0,\n          0,   0,   0,   0, 249, 253, 249,  64,   0,   0,   0,   0,   0,\n          0,   0],\n       [  0,   0,   0,   0,   0,   0,   0,   0,   0,   0,   0,   0,   0,\n          0,  46, 130, 183, 253, 253, 207,   2,   0,   0,   0,   0,   0,\n          0,   0],\n       [  0,   0,   0,   0,   0,   0,   0,   0,   0,   0,   0,   0,  39,\n        148, 229, 253, 253, 253, 250, 182,   0,   0,   0,   0,   0,   0,\n          0,   0],\n       [  0,   0,   0,   0,   0,   0,   0,   0,   0,   0,  24, 114, 221,\n        253, 253, 253, 253, 201,  78,   0,   0,   0,   0,   0,   0,   0,\n          0,   0],\n       [  0,   0,   0,   0,   0,   0,   0,   0,  23,  66, 213, 253, 253,\n        253, 253, 198,  81,   2,   0,   0,   0,   0,   0,   0,   0,   0,\n          0,   0],\n       [  0,   0,   0,   0,   0,   0,  18, 171, 219, 253, 253, 253, 253,\n        195,  80,   9,   0,   0,   0,   0,   0,   0,   0,   0,   0,   0,\n          0,   0],\n       [  0,   0,   0,   0,  55, 172, 226, 253, 253, 253, 253, 244, 133,\n         11,   0,   0,   0,   0,   0,   0,   0,   0,   0,   0,   0,   0,\n          0,   0],\n       [  0,   0,   0,   0, 136, 253, 253, 253, 212, 135, 132,  16,   0,\n          0,   0,   0,   0,   0,   0,   0,   0,   0,   0,   0,   0,   0,\n          0,   0],\n       [  0,   0,   0,   0,   0,   0,   0,   0,   0,   0,   0,   0,   0,\n          0,   0,   0,   0,   0,   0,   0,   0,   0,   0,   0,   0,   0,\n          0,   0],\n       [  0,   0,   0,   0,   0,   0,   0,   0,   0,   0,   0,   0,   0,\n          0,   0,   0,   0,   0,   0,   0,   0,   0,   0,   0,   0,   0,\n          0,   0],\n       [  0,   0,   0,   0,   0,   0,   0,   0,   0,   0,   0,   0,   0,\n          0,   0,   0,   0,   0,   0,   0,   0,   0,   0,   0,   0,   0,\n          0,   0]], dtype=uint8)"
     },
     "execution_count": 24,
     "metadata": {},
     "output_type": "execute_result"
    }
   ],
   "source": [
    "Train[0][0]"
   ],
   "metadata": {
    "collapsed": false,
    "ExecuteTime": {
     "end_time": "2024-01-19T14:25:13.241298877Z",
     "start_time": "2024-01-19T14:25:13.194957395Z"
    }
   },
   "id": "1c0cfa13d250269c",
   "execution_count": 24
  },
  {
   "cell_type": "code",
   "outputs": [
    {
     "data": {
      "text/plain": "28"
     },
     "execution_count": 25,
     "metadata": {},
     "output_type": "execute_result"
    }
   ],
   "source": [
    "len(Train[0][0])"
   ],
   "metadata": {
    "collapsed": false,
    "ExecuteTime": {
     "end_time": "2024-01-19T14:25:23.972347466Z",
     "start_time": "2024-01-19T14:25:23.946777685Z"
    }
   },
   "id": "c873d2379360454c",
   "execution_count": 25
  },
  {
   "cell_type": "code",
   "outputs": [
    {
     "data": {
      "text/plain": "28"
     },
     "execution_count": 26,
     "metadata": {},
     "output_type": "execute_result"
    }
   ],
   "source": [
    "len(Train[0][1])"
   ],
   "metadata": {
    "collapsed": false,
    "ExecuteTime": {
     "end_time": "2024-01-19T14:25:33.892031381Z",
     "start_time": "2024-01-19T14:25:33.868070108Z"
    }
   },
   "id": "2f44219dcd8f031e",
   "execution_count": 26
  },
  {
   "cell_type": "code",
   "outputs": [],
   "source": [
    "(X_train, y_train), (X_test, y_test) = Train, Test"
   ],
   "metadata": {
    "collapsed": false,
    "ExecuteTime": {
     "end_time": "2024-01-19T14:25:48.516688851Z",
     "start_time": "2024-01-19T14:25:48.469639797Z"
    }
   },
   "id": "85570d9b2780e56d",
   "execution_count": 27
  },
  {
   "cell_type": "code",
   "outputs": [
    {
     "data": {
      "text/plain": "784"
     },
     "execution_count": 28,
     "metadata": {},
     "output_type": "execute_result"
    }
   ],
   "source": [
    "X_train[0].size"
   ],
   "metadata": {
    "collapsed": false,
    "ExecuteTime": {
     "end_time": "2024-01-19T14:25:56.931777180Z",
     "start_time": "2024-01-19T14:25:56.916884085Z"
    }
   },
   "id": "bbaf82cfc57c6871",
   "execution_count": 28
  },
  {
   "cell_type": "code",
   "outputs": [
    {
     "data": {
      "text/plain": "28"
     },
     "execution_count": 29,
     "metadata": {},
     "output_type": "execute_result"
    }
   ],
   "source": [
    "len(X_train[0][0])"
   ],
   "metadata": {
    "collapsed": false,
    "ExecuteTime": {
     "end_time": "2024-01-19T14:26:03.599290612Z",
     "start_time": "2024-01-19T14:26:03.570211665Z"
    }
   },
   "id": "bdf7080e659c255a",
   "execution_count": 29
  },
  {
   "cell_type": "code",
   "outputs": [
    {
     "data": {
      "text/plain": "784"
     },
     "execution_count": 30,
     "metadata": {},
     "output_type": "execute_result"
    }
   ],
   "source": [
    "28*28"
   ],
   "metadata": {
    "collapsed": false,
    "ExecuteTime": {
     "end_time": "2024-01-19T14:26:12.209400193Z",
     "start_time": "2024-01-19T14:26:12.165404798Z"
    }
   },
   "id": "c4830a16d6bfa82a",
   "execution_count": 30
  },
  {
   "cell_type": "code",
   "outputs": [
    {
     "data": {
      "text/plain": "0"
     },
     "execution_count": 31,
     "metadata": {},
     "output_type": "execute_result"
    }
   ],
   "source": [
    "y_train[1]"
   ],
   "metadata": {
    "collapsed": false,
    "ExecuteTime": {
     "end_time": "2024-01-19T14:26:20.087967357Z",
     "start_time": "2024-01-19T14:26:20.070783238Z"
    }
   },
   "id": "35922b9600466e06",
   "execution_count": 31
  },
  {
   "cell_type": "code",
   "outputs": [
    {
     "name": "stdout",
     "output_type": "stream",
     "text": [
      "[[  0   0   0   0   0   0   0   0   0   0   0   0   0   0   0   0   0   0\n",
      "    0   0   0   0   0   0   0   0   0   0]\n",
      " [  0   0   0   0   0   0   0   0   0   0   0   0   0   0   0   0   0   0\n",
      "    0   0   0   0   0   0   0   0   0   0]\n",
      " [  0   0   0   0   0   0   0   0   0   0   0   0   0   0   0   0   0   0\n",
      "    0   0   0   0   0   0   0   0   0   0]\n",
      " [  0   0   0   0   0   0   0   0   0   0   0   0   0   0   0   0   0   0\n",
      "    0   0   0   0   0   0   0   0   0   0]\n",
      " [  0   0   0   0   0   0   0   0   0   0   0   0   0   0   0  51 159 253\n",
      "  159  50   0   0   0   0   0   0   0   0]\n",
      " [  0   0   0   0   0   0   0   0   0   0   0   0   0   0  48 238 252 252\n",
      "  252 237   0   0   0   0   0   0   0   0]\n",
      " [  0   0   0   0   0   0   0   0   0   0   0   0   0  54 227 253 252 239\n",
      "  233 252  57   6   0   0   0   0   0   0]\n",
      " [  0   0   0   0   0   0   0   0   0   0   0  10  60 224 252 253 252 202\n",
      "   84 252 253 122   0   0   0   0   0   0]\n",
      " [  0   0   0   0   0   0   0   0   0   0   0 163 252 252 252 253 252 252\n",
      "   96 189 253 167   0   0   0   0   0   0]\n",
      " [  0   0   0   0   0   0   0   0   0   0  51 238 253 253 190 114 253 228\n",
      "   47  79 255 168   0   0   0   0   0   0]\n",
      " [  0   0   0   0   0   0   0   0   0  48 238 252 252 179  12  75 121  21\n",
      "    0   0 253 243  50   0   0   0   0   0]\n",
      " [  0   0   0   0   0   0   0   0  38 165 253 233 208  84   0   0   0   0\n",
      "    0   0 253 252 165   0   0   0   0   0]\n",
      " [  0   0   0   0   0   0   0   7 178 252 240  71  19  28   0   0   0   0\n",
      "    0   0 253 252 195   0   0   0   0   0]\n",
      " [  0   0   0   0   0   0   0  57 252 252  63   0   0   0   0   0   0   0\n",
      "    0   0 253 252 195   0   0   0   0   0]\n",
      " [  0   0   0   0   0   0   0 198 253 190   0   0   0   0   0   0   0   0\n",
      "    0   0 255 253 196   0   0   0   0   0]\n",
      " [  0   0   0   0   0   0  76 246 252 112   0   0   0   0   0   0   0   0\n",
      "    0   0 253 252 148   0   0   0   0   0]\n",
      " [  0   0   0   0   0   0  85 252 230  25   0   0   0   0   0   0   0   0\n",
      "    7 135 253 186  12   0   0   0   0   0]\n",
      " [  0   0   0   0   0   0  85 252 223   0   0   0   0   0   0   0   0   7\n",
      "  131 252 225  71   0   0   0   0   0   0]\n",
      " [  0   0   0   0   0   0  85 252 145   0   0   0   0   0   0   0  48 165\n",
      "  252 173   0   0   0   0   0   0   0   0]\n",
      " [  0   0   0   0   0   0  86 253 225   0   0   0   0   0   0 114 238 253\n",
      "  162   0   0   0   0   0   0   0   0   0]\n",
      " [  0   0   0   0   0   0  85 252 249 146  48  29  85 178 225 253 223 167\n",
      "   56   0   0   0   0   0   0   0   0   0]\n",
      " [  0   0   0   0   0   0  85 252 252 252 229 215 252 252 252 196 130   0\n",
      "    0   0   0   0   0   0   0   0   0   0]\n",
      " [  0   0   0   0   0   0  28 199 252 252 253 252 252 233 145   0   0   0\n",
      "    0   0   0   0   0   0   0   0   0   0]\n",
      " [  0   0   0   0   0   0   0  25 128 252 253 252 141  37   0   0   0   0\n",
      "    0   0   0   0   0   0   0   0   0   0]\n",
      " [  0   0   0   0   0   0   0   0   0   0   0   0   0   0   0   0   0   0\n",
      "    0   0   0   0   0   0   0   0   0   0]\n",
      " [  0   0   0   0   0   0   0   0   0   0   0   0   0   0   0   0   0   0\n",
      "    0   0   0   0   0   0   0   0   0   0]\n",
      " [  0   0   0   0   0   0   0   0   0   0   0   0   0   0   0   0   0   0\n",
      "    0   0   0   0   0   0   0   0   0   0]\n",
      " [  0   0   0   0   0   0   0   0   0   0   0   0   0   0   0   0   0   0\n",
      "    0   0   0   0   0   0   0   0   0   0]]\n"
     ]
    }
   ],
   "source": [
    "print(X_train[1])"
   ],
   "metadata": {
    "collapsed": false,
    "ExecuteTime": {
     "end_time": "2024-01-19T14:26:29.262017018Z",
     "start_time": "2024-01-19T14:26:29.203692104Z"
    }
   },
   "id": "6ca8ae0720e6675a",
   "execution_count": 32
  },
  {
   "cell_type": "code",
   "outputs": [
    {
     "name": "stdout",
     "output_type": "stream",
     "text": [
      "from class: 5\n"
     ]
    },
    {
     "data": {
      "text/plain": "<matplotlib.image.AxesImage at 0x7f594bb19b40>"
     },
     "execution_count": 34,
     "metadata": {},
     "output_type": "execute_result"
    },
    {
     "data": {
      "text/plain": "<Figure size 200x200 with 1 Axes>",
      "image/png": "[encoded data removed]"
     },
     "metadata": {},
     "output_type": "display_data"
    }
   ],
   "source": [
    "print(f'from class: {y_train[0]}')\n",
    "\n",
    "plt.figure(figsize=(2,2))\n",
    "plt.imshow(X_train[0])"
   ],
   "metadata": {
    "collapsed": false,
    "ExecuteTime": {
     "end_time": "2024-01-19T14:27:10.371092834Z",
     "start_time": "2024-01-19T14:27:10.203998866Z"
    }
   },
   "id": "5c579849668bfd06",
   "execution_count": 34
  },
  {
   "cell_type": "markdown",
   "source": [
    "## Flattening Images - preprocessing"
   ],
   "metadata": {
    "collapsed": false
   },
   "id": "acf97a3abe7ebc29"
  },
  {
   "cell_type": "code",
   "outputs": [
    {
     "data": {
      "text/plain": "(60000, 28, 28)"
     },
     "execution_count": 35,
     "metadata": {},
     "output_type": "execute_result"
    }
   ],
   "source": [
    "X_train.shape"
   ],
   "metadata": {
    "collapsed": false,
    "ExecuteTime": {
     "end_time": "2024-01-19T14:31:17.886891389Z",
     "start_time": "2024-01-19T14:31:17.837319798Z"
    }
   },
   "id": "17b30c81942b9659",
   "execution_count": 35
  },
  {
   "cell_type": "code",
   "outputs": [
    {
     "data": {
      "text/plain": "(60000, 784)"
     },
     "execution_count": 36,
     "metadata": {},
     "output_type": "execute_result"
    }
   ],
   "source": [
    "X_train_flat = X_train.reshape(len(X_train), 28*28)\n",
    "X_train_flat.shape"
   ],
   "metadata": {
    "collapsed": false,
    "ExecuteTime": {
     "end_time": "2024-01-19T14:31:54.150562560Z",
     "start_time": "2024-01-19T14:31:54.106931271Z"
    }
   },
   "id": "a8d38ee9331b7eef",
   "execution_count": 36
  },
  {
   "cell_type": "code",
   "outputs": [
    {
     "data": {
      "text/plain": "(10000, 784)"
     },
     "execution_count": 49,
     "metadata": {},
     "output_type": "execute_result"
    }
   ],
   "source": [
    "X_test_flat = X_test.reshape(len(X_test), 28*28)\n",
    "X_test_flat.shape"
   ],
   "metadata": {
    "collapsed": false,
    "ExecuteTime": {
     "end_time": "2024-01-19T14:39:57.429778436Z",
     "start_time": "2024-01-19T14:39:57.387078322Z"
    }
   },
   "id": "4863b8701cf3e9f3",
   "execution_count": 49
  },
  {
   "cell_type": "code",
   "outputs": [
    {
     "data": {
      "text/plain": "10"
     },
     "execution_count": 46,
     "metadata": {},
     "output_type": "execute_result"
    }
   ],
   "source": [
    "# number of input neurone in the input\n",
    "len(np.unique(y_train))"
   ],
   "metadata": {
    "collapsed": false,
    "ExecuteTime": {
     "end_time": "2024-01-19T14:38:54.242129608Z",
     "start_time": "2024-01-19T14:38:54.189159240Z"
    }
   },
   "id": "deca963ea9d697a0",
   "execution_count": 46
  },
  {
   "cell_type": "code",
   "outputs": [
    {
     "data": {
      "text/plain": "(784,)"
     },
     "execution_count": 47,
     "metadata": {},
     "output_type": "execute_result"
    }
   ],
   "source": [
    "# input_shape\n",
    "X_train_flat[0].shape"
   ],
   "metadata": {
    "collapsed": false,
    "ExecuteTime": {
     "end_time": "2024-01-19T14:39:07.693313913Z",
     "start_time": "2024-01-19T14:39:07.671474664Z"
    }
   },
   "id": "507ea48ed30aa2f4",
   "execution_count": 47
  },
  {
   "cell_type": "code",
   "outputs": [
    {
     "data": {
      "text/plain": "array([  0,   0,   0,   0,   0,   0,   0,   0,   0,   0,   0,   0,   0,\n         0,   0,   0,   0,   0,   0,   0,   0,   0,   0,   0,   0,   0,\n         0,   0,   0,   0,   0,   0,   0,   0,   0,   0,   0,   0,   0,\n         0,   0,   0,   0,   0,   0,   0,   0,   0,   0,   0,   0,   0,\n         0,   0,   0,   0,   0,   0,   0,   0,   0,   0,   0,   0,   0,\n         0,   0,   0,   0,   0,   0,   0,   0,   0,   0,   0,   0,   0,\n         0,   0,   0,   0,   0,   0,   0,   0,   0,   0,   0,   0,   0,\n         0,   0,   0,   0,   0,   0,   0,   0,   0,   0,   0,   0,   0,\n         0,   0,   0,   0,   0,   0,   0,   0,   0,   0,   0,   0,   0,\n         0,   0,   0,   0,   0,   0,   0,   0,   0,   0,   0,   0,   0,\n         0,   0,   0,   0,   0,   0,   0,   0,   0,   0,   0,   0,   0,\n         0,   0,   0,   0,   0,   0,   0,   0,   0,   3,  18,  18,  18,\n       126, 136, 175,  26, 166, 255, 247, 127,   0,   0,   0,   0,   0,\n         0,   0,   0,   0,   0,   0,   0,  30,  36,  94, 154, 170, 253,\n       253, 253, 253, 253, 225, 172, 253, 242, 195,  64,   0,   0,   0,\n         0,   0,   0,   0,   0,   0,   0,   0,  49, 238, 253, 253, 253,\n       253, 253, 253, 253, 253, 251,  93,  82,  82,  56,  39,   0,   0,\n         0,   0,   0,   0,   0,   0,   0,   0,   0,   0,  18, 219, 253,\n       253, 253, 253, 253, 198, 182, 247, 241,   0,   0,   0,   0,   0,\n         0,   0,   0,   0,   0,   0,   0,   0,   0,   0,   0,   0,   0,\n        80, 156, 107, 253, 253, 205,  11,   0,  43, 154,   0,   0,   0,\n         0,   0,   0,   0,   0,   0,   0,   0,   0,   0,   0,   0,   0,\n         0,   0,   0,  14,   1, 154, 253,  90,   0,   0,   0,   0,   0,\n         0,   0,   0,   0,   0,   0,   0,   0,   0,   0,   0,   0,   0,\n         0,   0,   0,   0,   0,   0,   0, 139, 253, 190,   2,   0,   0,\n         0,   0,   0,   0,   0,   0,   0,   0,   0,   0,   0,   0,   0,\n         0,   0,   0,   0,   0,   0,   0,   0,   0,  11, 190, 253,  70,\n         0,   0,   0,   0,   0,   0,   0,   0,   0,   0,   0,   0,   0,\n         0,   0,   0,   0,   0,   0,   0,   0,   0,   0,   0,   0,  35,\n       241, 225, 160, 108,   1,   0,   0,   0,   0,   0,   0,   0,   0,\n         0,   0,   0,   0,   0,   0,   0,   0,   0,   0,   0,   0,   0,\n         0,   0,  81, 240, 253, 253, 119,  25,   0,   0,   0,   0,   0,\n         0,   0,   0,   0,   0,   0,   0,   0,   0,   0,   0,   0,   0,\n         0,   0,   0,   0,   0,  45, 186, 253, 253, 150,  27,   0,   0,\n         0,   0,   0,   0,   0,   0,   0,   0,   0,   0,   0,   0,   0,\n         0,   0,   0,   0,   0,   0,   0,   0,  16,  93, 252, 253, 187,\n         0,   0,   0,   0,   0,   0,   0,   0,   0,   0,   0,   0,   0,\n         0,   0,   0,   0,   0,   0,   0,   0,   0,   0,   0,   0, 249,\n       253, 249,  64,   0,   0,   0,   0,   0,   0,   0,   0,   0,   0,\n         0,   0,   0,   0,   0,   0,   0,   0,   0,   0,   0,  46, 130,\n       183, 253, 253, 207,   2,   0,   0,   0,   0,   0,   0,   0,   0,\n         0,   0,   0,   0,   0,   0,   0,   0,   0,   0,   0,  39, 148,\n       229, 253, 253, 253, 250, 182,   0,   0,   0,   0,   0,   0,   0,\n         0,   0,   0,   0,   0,   0,   0,   0,   0,   0,   0,  24, 114,\n       221, 253, 253, 253, 253, 201,  78,   0,   0,   0,   0,   0,   0,\n         0,   0,   0,   0,   0,   0,   0,   0,   0,   0,   0,  23,  66,\n       213, 253, 253, 253, 253, 198,  81,   2,   0,   0,   0,   0,   0,\n         0,   0,   0,   0,   0,   0,   0,   0,   0,   0,   0,  18, 171,\n       219, 253, 253, 253, 253, 195,  80,   9,   0,   0,   0,   0,   0,\n         0,   0,   0,   0,   0,   0,   0,   0,   0,   0,   0,  55, 172,\n       226, 253, 253, 253, 253, 244, 133,  11,   0,   0,   0,   0,   0,\n         0,   0,   0,   0,   0,   0,   0,   0,   0,   0,   0,   0,   0,\n       136, 253, 253, 253, 212, 135, 132,  16,   0,   0,   0,   0,   0,\n         0,   0,   0,   0,   0,   0,   0,   0,   0,   0,   0,   0,   0,\n         0,   0,   0,   0,   0,   0,   0,   0,   0,   0,   0,   0,   0,\n         0,   0,   0,   0,   0,   0,   0,   0,   0,   0,   0,   0,   0,\n         0,   0,   0,   0,   0,   0,   0,   0,   0,   0,   0,   0,   0,\n         0,   0,   0,   0,   0,   0,   0,   0,   0,   0,   0,   0,   0,\n         0,   0,   0,   0,   0,   0,   0,   0,   0,   0,   0,   0,   0,\n         0,   0,   0,   0,   0,   0,   0,   0,   0,   0,   0,   0,   0,\n         0,   0,   0,   0], dtype=uint8)"
     },
     "execution_count": 48,
     "metadata": {},
     "output_type": "execute_result"
    }
   ],
   "source": [
    "X_train_flat[0]"
   ],
   "metadata": {
    "collapsed": false,
    "ExecuteTime": {
     "end_time": "2024-01-19T14:39:17.338190123Z",
     "start_time": "2024-01-19T14:39:17.293085598Z"
    }
   },
   "id": "39d91c7b4ad64eef",
   "execution_count": 48
  },
  {
   "cell_type": "code",
   "outputs": [
    {
     "name": "stderr",
     "output_type": "stream",
     "text": [
      "2024-01-19 15:40:26.954922: I tensorflow/compiler/xla/stream_executor/cuda/cuda_gpu_executor.cc:894] successful NUMA node read from SysFS had negative value (-1), but there must be at least one NUMA node, so returning NUMA node zero. See more at https://github.com/torvalds/linux/blob/v6.0/Documentation/ABI/testing/sysfs-bus-pci#L344-L355\n",
      "2024-01-19 15:40:26.955224: I tensorflow/compiler/xla/stream_executor/cuda/cuda_gpu_executor.cc:894] successful NUMA node read from SysFS had negative value (-1), but there must be at least one NUMA node, so returning NUMA node zero. See more at https://github.com/torvalds/linux/blob/v6.0/Documentation/ABI/testing/sysfs-bus-pci#L344-L355\n",
      "2024-01-19 15:40:26.955440: I tensorflow/compiler/xla/stream_executor/cuda/cuda_gpu_executor.cc:894] successful NUMA node read from SysFS had negative value (-1), but there must be at least one NUMA node, so returning NUMA node zero. See more at https://github.com/torvalds/linux/blob/v6.0/Documentation/ABI/testing/sysfs-bus-pci#L344-L355\n",
      "2024-01-19 15:40:26.955704: I tensorflow/compiler/xla/stream_executor/cuda/cuda_gpu_executor.cc:894] successful NUMA node read from SysFS had negative value (-1), but there must be at least one NUMA node, so returning NUMA node zero. See more at https://github.com/torvalds/linux/blob/v6.0/Documentation/ABI/testing/sysfs-bus-pci#L344-L355\n",
      "2024-01-19 15:40:26.955982: I tensorflow/compiler/xla/stream_executor/cuda/cuda_gpu_executor.cc:894] successful NUMA node read from SysFS had negative value (-1), but there must be at least one NUMA node, so returning NUMA node zero. See more at https://github.com/torvalds/linux/blob/v6.0/Documentation/ABI/testing/sysfs-bus-pci#L344-L355\n",
      "2024-01-19 15:40:26.956154: I tensorflow/core/common_runtime/gpu/gpu_device.cc:1886] Created device /job:localhost/replica:0/task:0/device:GPU:0 with 4868 MB memory:  -> device: 0, name: NVIDIA GeForce RTX 3050, pci bus id: 0000:09:00.0, compute capability: 8.6\n"
     ]
    }
   ],
   "source": [
    "model = keras.Sequential([\n",
    "    keras.layers.Dense(10, input_shape=(784,), activation='sigmoid')\n",
    "])"
   ],
   "metadata": {
    "collapsed": false,
    "ExecuteTime": {
     "end_time": "2024-01-19T14:40:27.129345264Z",
     "start_time": "2024-01-19T14:40:26.944156404Z"
    }
   },
   "id": "bc260884135c56d1",
   "execution_count": 50
  },
  {
   "cell_type": "code",
   "outputs": [],
   "source": [
    "# optimisation - during backpropagation\n",
    "model.compile(\n",
    "    optimizer='adam',\n",
    "    loss='sparse_categorical_crossentropy',\n",
    "    metrics=['accuracy']\n",
    ")"
   ],
   "metadata": {
    "collapsed": false,
    "ExecuteTime": {
     "end_time": "2024-01-19T14:43:52.981686370Z",
     "start_time": "2024-01-19T14:43:52.937846408Z"
    }
   },
   "id": "f0e59ce636038c18",
   "execution_count": 51
  },
  {
   "cell_type": "code",
   "outputs": [
    {
     "name": "stdout",
     "output_type": "stream",
     "text": [
      "Epoch 1/10\n"
     ]
    },
    {
     "name": "stderr",
     "output_type": "stream",
     "text": [
      "2024-01-19 15:45:17.544699: I tensorflow/compiler/xla/service/service.cc:168] XLA service 0x7f587698b9c0 initialized for platform CUDA (this does not guarantee that XLA will be used). Devices:\n",
      "2024-01-19 15:45:17.544883: I tensorflow/compiler/xla/service/service.cc:176]   StreamExecutor device (0): NVIDIA GeForce RTX 3050, Compute Capability 8.6\n",
      "2024-01-19 15:45:17.580348: I tensorflow/compiler/mlir/tensorflow/utils/dump_mlir_util.cc:269] disabling MLIR crash reproducer, set env var `MLIR_CRASH_REPRODUCER_DIRECTORY` to enable.\n",
      "2024-01-19 15:45:17.629629: I tensorflow/compiler/xla/stream_executor/cuda/cuda_dnn.cc:442] Loaded cuDNN version 8700\n",
      "2024-01-19 15:45:17.692220: I tensorflow/tsl/platform/default/subprocess.cc:304] Start cannot spawn child process: No such file or directory\n"
     ]
    },
    {
     "name": "stdout",
     "output_type": "stream",
     "text": [
      "  21/1875 [..............................] - ETA: 4s - loss: 98.5490 - accuracy: 0.2202    "
     ]
    },
    {
     "name": "stderr",
     "output_type": "stream",
     "text": [
      "2024-01-19 15:45:17.759621: I ./tensorflow/compiler/jit/device_compiler.h:186] Compiled cluster using XLA!  This line is logged at most once for the lifetime of the process.\n"
     ]
    },
    {
     "name": "stdout",
     "output_type": "stream",
     "text": [
      "1875/1875 [==============================] - 5s 2ms/step - loss: 9.5733 - accuracy: 0.8414\n",
      "Epoch 2/10\n",
      "1875/1875 [==============================] - 3s 2ms/step - loss: 6.0479 - accuracy: 0.8790\n",
      "Epoch 3/10\n",
      "1875/1875 [==============================] - 4s 2ms/step - loss: 5.6514 - accuracy: 0.8831\n",
      "Epoch 4/10\n",
      "1875/1875 [==============================] - 4s 2ms/step - loss: 5.4031 - accuracy: 0.8859\n",
      "Epoch 5/10\n",
      "1875/1875 [==============================] - 4s 2ms/step - loss: 5.3607 - accuracy: 0.8856\n",
      "Epoch 6/10\n",
      "1875/1875 [==============================] - 3s 2ms/step - loss: 5.3511 - accuracy: 0.8876\n",
      "Epoch 7/10\n",
      "1875/1875 [==============================] - 4s 2ms/step - loss: 5.1487 - accuracy: 0.8881\n",
      "Epoch 8/10\n",
      "1875/1875 [==============================] - 4s 2ms/step - loss: 5.3323 - accuracy: 0.8899\n",
      "Epoch 9/10\n",
      "1875/1875 [==============================] - 4s 2ms/step - loss: 5.3231 - accuracy: 0.8881\n",
      "Epoch 10/10\n",
      "1875/1875 [==============================] - 4s 2ms/step - loss: 5.2419 - accuracy: 0.8914\n"
     ]
    },
    {
     "data": {
      "text/plain": "<keras.src.callbacks.History at 0x7f594413b340>"
     },
     "execution_count": 52,
     "metadata": {},
     "output_type": "execute_result"
    }
   ],
   "source": [
    "# Fit / Training\n",
    "model.fit(X_train_flat, y_train, epochs=10)"
   ],
   "metadata": {
    "collapsed": false,
    "ExecuteTime": {
     "end_time": "2024-01-19T14:45:53.827034512Z",
     "start_time": "2024-01-19T14:45:16.918298016Z"
    }
   },
   "id": "60fac017a947ecd3",
   "execution_count": 52
  },
  {
   "cell_type": "markdown",
   "source": [
    "![digits_nn.jpg](digits_nn.jpg)"
   ],
   "metadata": {
    "collapsed": false
   },
   "id": "5837a7749980e862"
  },
  {
   "cell_type": "code",
   "outputs": [
    {
     "name": "stdout",
     "output_type": "stream",
     "text": [
      "313/313 [==============================] - 1s 2ms/step - loss: 6.4104 - accuracy: 0.8763\n"
     ]
    },
    {
     "data": {
      "text/plain": "[6.410350799560547, 0.8762999773025513]"
     },
     "execution_count": 53,
     "metadata": {},
     "output_type": "execute_result"
    }
   ],
   "source": [
    "# Evaluation\n",
    "model.evaluate(X_test_flat, y_test)"
   ],
   "metadata": {
    "collapsed": false,
    "ExecuteTime": {
     "end_time": "2024-01-19T14:52:48.100252792Z",
     "start_time": "2024-01-19T14:52:47.391950684Z"
    }
   },
   "id": "eec8a437d8bd3ab5",
   "execution_count": 53
  },
  {
   "cell_type": "code",
   "outputs": [
    {
     "name": "stdout",
     "output_type": "stream",
     "text": [
      "313/313 [==============================] - 0s 1ms/step\n"
     ]
    },
    {
     "data": {
      "text/plain": "array([[4.9331602e-26, 0.0000000e+00, 9.6966562e-24, ..., 1.0000000e+00,\n        1.0000000e+00, 1.0000000e+00],\n       [1.0000000e+00, 1.0000000e+00, 1.0000000e+00, ..., 0.0000000e+00,\n        1.0000000e+00, 0.0000000e+00],\n       [0.0000000e+00, 1.0000000e+00, 1.0000000e+00, ..., 6.9842065e-26,\n        1.0000000e+00, 1.5990627e-11],\n       ...,\n       [0.0000000e+00, 0.0000000e+00, 9.9977839e-01, ..., 1.0000000e+00,\n        1.0000000e+00, 1.0000000e+00],\n       [0.0000000e+00, 0.0000000e+00, 1.8435952e-01, ..., 1.0000000e+00,\n        1.0000000e+00, 4.0466092e-10],\n       [1.0000000e+00, 0.0000000e+00, 1.0000000e+00, ..., 0.0000000e+00,\n        1.0000000e+00, 8.6938413e-26]], dtype=float32)"
     },
     "execution_count": 56,
     "metadata": {},
     "output_type": "execute_result"
    }
   ],
   "source": [
    "# Check prediction or simply to predict\n",
    "y_pred = model.predict(X_test_flat)\n",
    "y_pred"
   ],
   "metadata": {
    "collapsed": false,
    "ExecuteTime": {
     "end_time": "2024-01-19T14:54:29.915120909Z",
     "start_time": "2024-01-19T14:54:29.379857472Z"
    }
   },
   "id": "5411f281ab07902e",
   "execution_count": 56
  },
  {
   "cell_type": "code",
   "outputs": [
    {
     "data": {
      "text/plain": "(10,)"
     },
     "execution_count": 59,
     "metadata": {},
     "output_type": "execute_result"
    }
   ],
   "source": [
    "y_pred[0].shape #probability of the ten classes"
   ],
   "metadata": {
    "collapsed": false,
    "ExecuteTime": {
     "end_time": "2024-01-19T14:55:48.756709720Z",
     "start_time": "2024-01-19T14:55:48.712915015Z"
    }
   },
   "id": "efab9b7b2bd316ee",
   "execution_count": 59
  },
  {
   "cell_type": "code",
   "outputs": [
    {
     "data": {
      "text/plain": "array([4.9331602e-26, 0.0000000e+00, 9.6966562e-24, 1.0000000e+00,\n       8.0039629e-38, 1.0000000e+00, 0.0000000e+00, 1.0000000e+00,\n       1.0000000e+00, 1.0000000e+00], dtype=float32)"
     },
     "execution_count": 73,
     "metadata": {},
     "output_type": "execute_result"
    }
   ],
   "source": [
    "y_pred[0]"
   ],
   "metadata": {
    "collapsed": false,
    "ExecuteTime": {
     "end_time": "2024-01-19T15:10:37.215083345Z",
     "start_time": "2024-01-19T15:10:37.164683725Z"
    }
   },
   "id": "e3d5fdd59130f9",
   "execution_count": 73
  },
  {
   "cell_type": "code",
   "outputs": [
    {
     "data": {
      "text/plain": "3"
     },
     "execution_count": 74,
     "metadata": {},
     "output_type": "execute_result"
    }
   ],
   "source": [
    "y_pred[0].argmax()"
   ],
   "metadata": {
    "collapsed": false,
    "ExecuteTime": {
     "end_time": "2024-01-19T15:10:53.422222727Z",
     "start_time": "2024-01-19T15:10:53.378691817Z"
    }
   },
   "id": "a12add63a43b81a9",
   "execution_count": 74
  },
  {
   "cell_type": "code",
   "outputs": [],
   "source": [
    "index_class_max_probability = np.argmax(y_pred[0])"
   ],
   "metadata": {
    "collapsed": false,
    "ExecuteTime": {
     "end_time": "2024-01-19T15:11:05.023590198Z",
     "start_time": "2024-01-19T15:11:04.982984181Z"
    }
   },
   "id": "c3fa742ba5a59900",
   "execution_count": 75
  },
  {
   "cell_type": "code",
   "outputs": [
    {
     "data": {
      "text/plain": "1.0"
     },
     "execution_count": 76,
     "metadata": {},
     "output_type": "execute_result"
    }
   ],
   "source": [
    "y_pred[0][index_class_max_probability]"
   ],
   "metadata": {
    "collapsed": false,
    "ExecuteTime": {
     "end_time": "2024-01-19T15:11:12.827870210Z",
     "start_time": "2024-01-19T15:11:12.778901800Z"
    }
   },
   "id": "e9cf7608fa34c5aa",
   "execution_count": 76
  },
  {
   "cell_type": "code",
   "outputs": [
    {
     "name": "stdout",
     "output_type": "stream",
     "text": [
      "True class: 7\n",
      "Predicted class: 3\n"
     ]
    },
    {
     "data": {
      "text/plain": "<matplotlib.image.AxesImage at 0x7f587a75a080>"
     },
     "execution_count": 77,
     "metadata": {},
     "output_type": "execute_result"
    },
    {
     "data": {
      "text/plain": "<Figure size 640x480 with 1 Axes>",
      "image/png": "[encoded data removed]"
     },
     "metadata": {},
     "output_type": "display_data"
    }
   ],
   "source": [
    "print(f'True class: {y_test[0]}')\n",
    "print(f'Predicted class: {index_class_max_probability}')\n",
    "plt.imshow(X_test[0])"
   ],
   "metadata": {
    "collapsed": false,
    "ExecuteTime": {
     "end_time": "2024-01-19T15:11:23.975820690Z",
     "start_time": "2024-01-19T15:11:23.801181385Z"
    }
   },
   "id": "4c1aa0a30f9893d5",
   "execution_count": 77
  },
  {
   "cell_type": "code",
   "outputs": [
    {
     "data": {
      "text/plain": "3"
     },
     "execution_count": 78,
     "metadata": {},
     "output_type": "execute_result"
    }
   ],
   "source": [
    "np.argmax(y_pred[:-1])"
   ],
   "metadata": {
    "collapsed": false,
    "ExecuteTime": {
     "end_time": "2024-01-19T15:17:04.272535340Z",
     "start_time": "2024-01-19T15:17:04.226173708Z"
    }
   },
   "id": "3673f793015e25fb",
   "execution_count": 78
  },
  {
   "cell_type": "markdown",
   "source": [
    "# Confusion Matrix"
   ],
   "metadata": {
    "collapsed": false
   },
   "id": "7f37232dd3560ac1"
  },
  {
   "cell_type": "code",
   "outputs": [
    {
     "data": {
      "text/plain": "[3,\n 0,\n 1,\n 0,\n 0,\n 1,\n 3,\n 1,\n 0,\n 3,\n 0,\n 2,\n 3,\n 0,\n 1,\n 3,\n 2,\n 3,\n 2,\n 3,\n 0,\n 2,\n 2,\n 2,\n 4,\n 0,\n 3,\n 2,\n 0,\n 1,\n 3,\n 1,\n 2,\n 0,\n 0,\n 1,\n 2,\n 1,\n 0,\n 1,\n 1,\n 3,\n 3,\n 2,\n 2,\n 0,\n 1,\n 1,\n 3,\n 4,\n 0,\n 3,\n 0,\n 3,\n 0,\n 0,\n 4,\n 1,\n 3,\n 0,\n 3,\n 0,\n 2,\n 2,\n 2,\n 3,\n 2,\n 0,\n 2,\n 0,\n 0,\n 0,\n 0,\n 1,\n 1,\n 2,\n 1,\n 1,\n 1,\n 3,\n 3,\n 0,\n 0,\n 3,\n 2,\n 3,\n 2,\n 3,\n 2,\n 1,\n 0,\n 2,\n 2,\n 0,\n 1,\n 4,\n 1,\n 1,\n 0,\n 2,\n 1,\n 0,\n 3,\n 2,\n 2,\n 3,\n 0,\n 0,\n 3,\n 4,\n 0,\n 1,\n 0,\n 3,\n 2,\n 1,\n 2,\n 4,\n 2,\n 2,\n 2,\n 0,\n 2,\n 2,\n 3,\n 1,\n 0,\n 0,\n 2,\n 0,\n 2,\n 0,\n 2,\n 0,\n 0,\n 1,\n 0,\n 1,\n 2,\n 2,\n 0,\n 2,\n 2,\n 1,\n 2,\n 1,\n 2,\n 2,\n 0,\n 2,\n 3,\n 0,\n 0,\n 2,\n 1,\n 0,\n 2,\n 0,\n 0,\n 1,\n 1,\n 0,\n 0,\n 4,\n 2,\n 3,\n 2,\n 3,\n 1,\n 3,\n 2,\n 1,\n 0,\n 0,\n 1,\n 1,\n 1,\n 2,\n 1,\n 1,\n 1,\n 1,\n 0,\n 0,\n 2,\n 2,\n 1,\n 2,\n 0,\n 1,\n 1,\n 1,\n 0,\n 2,\n 0,\n 1,\n 1,\n 0,\n 2,\n 1,\n 0,\n 0,\n 1,\n 1,\n 1,\n 3,\n 3,\n 3,\n 2,\n 3,\n 4,\n 0,\n 3,\n 2,\n 2,\n 0,\n 2,\n 0,\n 0,\n 3,\n 2,\n 0,\n 0,\n 3,\n 1,\n 0,\n 1,\n 2,\n 1,\n 3,\n 2,\n 0,\n 2,\n 2,\n 3,\n 3,\n 2,\n 1,\n 4,\n 1,\n 2,\n 2,\n 0,\n 3,\n 2,\n 3,\n 0,\n 2,\n 0,\n 1,\n 2,\n 1,\n 3,\n 2,\n 2,\n 2,\n 1,\n 1,\n 0,\n 0,\n 0,\n 0,\n 3,\n 3,\n 1,\n 1,\n 0,\n 1,\n 2,\n 0,\n 0,\n 0,\n 1,\n 2,\n 2,\n 2,\n 1,\n 2,\n 2,\n 1,\n 1,\n 2,\n 1,\n 3,\n 2,\n 2,\n 1,\n 3,\n 1,\n 2,\n 1,\n 0,\n 2,\n 1,\n 0,\n 3,\n 0,\n 0,\n 2,\n 0,\n 2,\n 2,\n 1,\n 2,\n 3,\n 0,\n 1,\n 2,\n 4,\n 1,\n 3,\n 0,\n 0,\n 2,\n 1,\n 2,\n 0,\n 4,\n 0,\n 2,\n 1,\n 2,\n 3,\n 3,\n 0,\n 0,\n 1,\n 0,\n 2,\n 1,\n 1,\n 1,\n 1,\n 2,\n 3,\n 2,\n 2,\n 2,\n 0,\n 2,\n 1,\n 2,\n 1,\n 0,\n 1,\n 1,\n 0,\n 1,\n 1,\n 2,\n 1,\n 0,\n 0,\n 2,\n 1,\n 0,\n 3,\n 1,\n 3,\n 1,\n 2,\n 2,\n 0,\n 1,\n 0,\n 0,\n 2,\n 2,\n 2,\n 3,\n 3,\n 1,\n 0,\n 1,\n 2,\n 2,\n 3,\n 1,\n 1,\n 3,\n 0,\n 3,\n 3,\n 3,\n 2,\n 1,\n 0,\n 2,\n 1,\n 1,\n 0,\n 0,\n 2,\n 1,\n 0,\n 0,\n 2,\n 2,\n 4,\n 0,\n 0,\n 1,\n 3,\n 0,\n 2,\n 3,\n 0,\n 0,\n 0,\n 1,\n 3,\n 1,\n 3,\n 3,\n 1,\n 3,\n 1,\n 1,\n 0,\n 1,\n 0,\n 0,\n 3,\n 2,\n 0,\n 2,\n 3,\n 1,\n 1,\n 2,\n 1,\n 2,\n 2,\n 4,\n 2,\n 1,\n 0,\n 2,\n 0,\n 0,\n 0,\n 0,\n 3,\n 0,\n 2,\n 0,\n 2,\n 3,\n 0,\n 2,\n 1,\n 2,\n 1,\n 0,\n 3,\n 1,\n 1,\n 0,\n 2,\n 0,\n 3,\n 2,\n 2,\n 2,\n 2,\n 2,\n 1,\n 2,\n 2,\n 2,\n 0,\n 3,\n 2,\n 1,\n 0,\n 2,\n 1,\n 1,\n 2,\n 2,\n 1,\n 2,\n 3,\n 0,\n 4,\n 0,\n 2,\n 3,\n 3,\n 1,\n 0,\n 3,\n 0,\n 2,\n 3,\n 0,\n 2,\n 1,\n 0,\n 2,\n 3,\n 2,\n 2,\n 0,\n 1,\n 1,\n 1,\n 3,\n 0,\n 3,\n 0,\n 1,\n 1,\n 2,\n 2,\n 1,\n 2,\n 2,\n 2,\n 1,\n 1,\n 1,\n 2,\n 1,\n 2,\n 0,\n 0,\n 0,\n 2,\n 1,\n 1,\n 1,\n 0,\n 2,\n 2,\n 2,\n 1,\n 1,\n 0,\n 2,\n 3,\n 0,\n 2,\n 2,\n 3,\n 0,\n 0,\n 1,\n 2,\n 0,\n 2,\n 1,\n 0,\n 2,\n 3,\n 0,\n 2,\n 2,\n 1,\n 0,\n 3,\n 0,\n 2,\n 1,\n 0,\n 1,\n 0,\n 0,\n 2,\n 2,\n 2,\n 0,\n 2,\n 3,\n 2,\n 3,\n 1,\n 2,\n 2,\n 0,\n 0,\n 0,\n 1,\n 0,\n 1,\n 3,\n 0,\n 2,\n 0,\n 3,\n 2,\n 0,\n 0,\n 3,\n 2,\n 3,\n 2,\n 0,\n 3,\n 2,\n 2,\n 2,\n 2,\n 2,\n 2,\n 1,\n 0,\n 2,\n 0,\n 2,\n 0,\n 0,\n 2,\n 0,\n 1,\n 1,\n 3,\n 2,\n 3,\n 1,\n 0,\n 2,\n 2,\n 2,\n 1,\n 0,\n 3,\n 1,\n 3,\n 2,\n 2,\n 2,\n 0,\n 1,\n 3,\n 1,\n 0,\n 2,\n 0,\n 1,\n 1,\n 0,\n 0,\n 1,\n 0,\n 2,\n 0,\n 1,\n 2,\n 3,\n 0,\n 3,\n 1,\n 1,\n 0,\n 1,\n 0,\n 3,\n 0,\n 1,\n 2,\n 0,\n 3,\n 1,\n 0,\n 0,\n 3,\n 1,\n 3,\n 1,\n 1,\n 2,\n 1,\n 0,\n 2,\n 1,\n 0,\n 2,\n 2,\n 2,\n 2,\n 3,\n 1,\n 1,\n 1,\n 2,\n 1,\n 1,\n 0,\n 3,\n 0,\n 3,\n 3,\n 1,\n 2,\n 1,\n 1,\n 2,\n 4,\n 1,\n 1,\n 0,\n 1,\n 3,\n 0,\n 2,\n 3,\n 1,\n 3,\n 0,\n 0,\n 0,\n 0,\n 0,\n 0,\n 2,\n 1,\n 0,\n 1,\n 4,\n 2,\n 0,\n 0,\n 0,\n 2,\n 1,\n 3,\n 2,\n 0,\n 0,\n 3,\n 2,\n 0,\n 2,\n 2,\n 1,\n 2,\n 0,\n 1,\n 0,\n 3,\n 2,\n 0,\n 2,\n 0,\n 1,\n 1,\n 2,\n 0,\n 1,\n 0,\n 0,\n 2,\n 3,\n 1,\n 1,\n 2,\n 2,\n 3,\n 3,\n 1,\n 0,\n 2,\n 0,\n 0,\n 2,\n 2,\n 1,\n 1,\n 0,\n 0,\n 3,\n 1,\n 3,\n 3,\n 1,\n 2,\n 1,\n 2,\n 3,\n 0,\n 1,\n 2,\n 1,\n 2,\n 3,\n 2,\n 2,\n 2,\n 2,\n 1,\n 2,\n 1,\n 2,\n 0,\n 1,\n 0,\n 2,\n 1,\n 2,\n 0,\n 3,\n 4,\n 2,\n 0,\n 1,\n 2,\n 2,\n 3,\n 1,\n 2,\n 2,\n 3,\n 2,\n 2,\n 3,\n 1,\n 0,\n 1,\n 2,\n 0,\n 0,\n 2,\n 0,\n 1,\n 3,\n 1,\n 4,\n 2,\n 2,\n 2,\n 1,\n 3,\n 3,\n 1,\n 1,\n 1,\n 1,\n 4,\n 0,\n 1,\n 2,\n 3,\n 4,\n 3,\n 0,\n 0,\n 1,\n 1,\n 2,\n 1,\n 0,\n 2,\n 3,\n 0,\n 3,\n 0,\n 0,\n 0,\n 1,\n 2,\n 2,\n 2,\n 2,\n 0,\n 3,\n 3,\n 1,\n 0,\n 2,\n 0,\n 0,\n 2,\n 0,\n 2,\n 0,\n 2,\n 2,\n 2,\n 0,\n 0,\n 2,\n 3,\n 1,\n 0,\n 2,\n 0,\n 2,\n 2,\n 1,\n 0,\n 1,\n 2,\n 3,\n 2,\n 0,\n 0,\n 0,\n 2,\n 2,\n 1,\n 3,\n 3,\n 2,\n 0,\n 0,\n 3,\n 1,\n 0,\n 2,\n 4,\n 2,\n 1,\n 2,\n 1,\n 1,\n 4,\n 2,\n 1,\n 1,\n 1,\n 0,\n 2,\n 2,\n 0,\n 3,\n 0,\n 3,\n 2,\n 1,\n 2,\n 3,\n 0,\n 3,\n 3,\n 0,\n 2,\n 2,\n 2,\n 0,\n 2,\n 2,\n 2,\n 1,\n 1,\n 0,\n 2,\n 2,\n 1,\n 1,\n 2,\n 3,\n 0,\n 1,\n 2,\n 2,\n 1,\n 2,\n 0,\n 1,\n 1,\n 0,\n 3,\n 1,\n 1,\n 0,\n 3,\n 1,\n 2,\n 0,\n 2,\n 2,\n 0,\n 2,\n 1,\n 0,\n 1,\n 1,\n 2,\n 1,\n 1,\n 0,\n 1,\n 1,\n 1,\n 2,\n 2,\n 1,\n 1,\n 0,\n 2,\n 2,\n 3,\n 0,\n 1,\n 0,\n 1,\n 0,\n 0,\n 2,\n ...]"
     },
     "execution_count": 80,
     "metadata": {},
     "output_type": "execute_result"
    }
   ],
   "source": [
    "y_pred_labels = [np.argmax(i) for i in y_pred]\n",
    "y_pred_labels"
   ],
   "metadata": {
    "collapsed": false,
    "ExecuteTime": {
     "end_time": "2024-01-19T15:17:58.747581273Z",
     "start_time": "2024-01-19T15:17:58.699238574Z"
    }
   },
   "id": "94bdb1287ad88f79",
   "execution_count": 80
  },
  {
   "cell_type": "code",
   "outputs": [
    {
     "data": {
      "text/plain": "<tf.Tensor: shape=(10, 10), dtype=int32, numpy=\narray([[ 979,    0,    0,    0,    1,    0,    0,    0,    0,    0],\n       [  11, 1123,    1,    0,    0,    0,    0,    0,    0,    0],\n       [ 374,  307,  347,    3,    1,    0,    0,    0,    0,    0],\n       [ 250,  162,  380,  218,    0,    0,    0,    0,    0,    0],\n       [ 236,   92,  261,  206,  187,    0,    0,    0,    0,    0],\n       [ 466,   24,  212,  151,   22,   17,    0,    0,    0,    0],\n       [ 350,   54,  545,    4,    2,    1,    2,    0,    0,    0],\n       [ 194,  126,  240,  456,    9,    3,    0,    0,    0,    0],\n       [ 361,  252,  342,   11,    4,    4,    0,    0,    0,    0],\n       [ 124,  112,  310,  450,   11,    2,    0,    0,    0,    0]],\n      dtype=int32)>"
     },
     "execution_count": 82,
     "metadata": {},
     "output_type": "execute_result"
    }
   ],
   "source": [
    "cm1 = tf.math.confusion_matrix(labels=y_test, predictions=y_pred_labels) # il faut mettre les labels réels\n",
    "cm1"
   ],
   "metadata": {
    "collapsed": false,
    "ExecuteTime": {
     "end_time": "2024-01-19T15:22:05.867993165Z",
     "start_time": "2024-01-19T15:22:05.853636114Z"
    }
   },
   "id": "3465f35749ab2292",
   "execution_count": 82
  },
  {
   "cell_type": "code",
   "outputs": [
    {
     "data": {
      "text/plain": "Text(95.72222222222221, 0.5, 'Predicted Value')"
     },
     "execution_count": 85,
     "metadata": {},
     "output_type": "execute_result"
    },
    {
     "data": {
      "text/plain": "<Figure size 1000x800 with 2 Axes>",
      "image/png": "[encoded data removed]"
     },
     "metadata": {},
     "output_type": "display_data"
    }
   ],
   "source": [
    "# import seaborn as sns\n",
    "plt.figure(figsize=(10, 8))\n",
    "sns.heatmap(cm1, annot=True, cmap='ocean')\n",
    "plt.xlabel(\"True Value\")\n",
    "plt.ylabel(\"Predicted Value\")"
   ],
   "metadata": {
    "collapsed": false,
    "ExecuteTime": {
     "end_time": "2024-01-19T15:34:29.380257504Z",
     "start_time": "2024-01-19T15:34:28.964725639Z"
    }
   },
   "id": "76b42240b72ad1b3",
   "execution_count": 85
  },
  {
   "cell_type": "markdown",
   "source": [
    "# Using Hidden Layer"
   ],
   "metadata": {
    "collapsed": false
   },
   "id": "3894c99c021f6684"
  },
  {
   "cell_type": "code",
   "outputs": [
    {
     "name": "stdout",
     "output_type": "stream",
     "text": [
      "Epoch 1/20\n",
      "1875/1875 [==============================] - 5s 2ms/step - loss: 2.6295 - accuracy: 0.8469\n",
      "Epoch 2/20\n",
      "1875/1875 [==============================] - 4s 2ms/step - loss: 0.3991 - accuracy: 0.9078\n",
      "Epoch 3/20\n",
      "1875/1875 [==============================] - 4s 2ms/step - loss: 0.2972 - accuracy: 0.9249\n",
      "Epoch 4/20\n",
      "1875/1875 [==============================] - 4s 2ms/step - loss: 0.2478 - accuracy: 0.9366\n",
      "Epoch 5/20\n",
      "1875/1875 [==============================] - 4s 2ms/step - loss: 0.2293 - accuracy: 0.9416\n",
      "Epoch 6/20\n",
      "1875/1875 [==============================] - 4s 2ms/step - loss: 0.2128 - accuracy: 0.9449\n",
      "Epoch 7/20\n",
      "1875/1875 [==============================] - 5s 2ms/step - loss: 0.2120 - accuracy: 0.9488\n",
      "Epoch 8/20\n",
      "1875/1875 [==============================] - 5s 2ms/step - loss: 0.1957 - accuracy: 0.9512\n",
      "Epoch 9/20\n",
      "1875/1875 [==============================] - 4s 2ms/step - loss: 0.1937 - accuracy: 0.9522\n",
      "Epoch 10/20\n",
      "1875/1875 [==============================] - 5s 2ms/step - loss: 0.1851 - accuracy: 0.9546\n",
      "Epoch 11/20\n",
      "1875/1875 [==============================] - 4s 2ms/step - loss: 0.1805 - accuracy: 0.9558\n",
      "Epoch 12/20\n",
      "1875/1875 [==============================] - 5s 2ms/step - loss: 0.1811 - accuracy: 0.9555\n",
      "Epoch 13/20\n",
      "1875/1875 [==============================] - 4s 2ms/step - loss: 0.1760 - accuracy: 0.9582\n",
      "Epoch 14/20\n",
      "1875/1875 [==============================] - 4s 2ms/step - loss: 0.1691 - accuracy: 0.9586\n",
      "Epoch 15/20\n",
      "1875/1875 [==============================] - 4s 2ms/step - loss: 0.1631 - accuracy: 0.9611\n",
      "Epoch 16/20\n",
      "1875/1875 [==============================] - 4s 2ms/step - loss: 0.1654 - accuracy: 0.9606\n",
      "Epoch 17/20\n",
      "1875/1875 [==============================] - 5s 2ms/step - loss: 0.1656 - accuracy: 0.9606\n",
      "Epoch 18/20\n",
      "1875/1875 [==============================] - 4s 2ms/step - loss: 0.1613 - accuracy: 0.9615\n",
      "Epoch 19/20\n",
      "1875/1875 [==============================] - 5s 2ms/step - loss: 0.1587 - accuracy: 0.9619\n",
      "Epoch 20/20\n",
      "1875/1875 [==============================] - 4s 2ms/step - loss: 0.1554 - accuracy: 0.9620\n"
     ]
    },
    {
     "data": {
      "text/plain": "<keras.src.callbacks.History at 0x7f57256e6290>"
     },
     "execution_count": 86,
     "metadata": {},
     "output_type": "execute_result"
    }
   ],
   "source": [
    "model_plus = keras.Sequential([\n",
    "    keras.layers.Dense(100, input_shape=(784,), activation='relu'),    # hidden\n",
    "    keras.layers.Dense(10, activation=\"sigmoid\")\n",
    "])\n",
    "\n",
    "model_plus.compile(\n",
    "    optimizer='adam',\n",
    "    loss='sparse_categorical_crossentropy',\n",
    "    metrics=[\"accuracy\"]\n",
    ")\n",
    "\n",
    "model_plus.fit(X_train_flat, y_train, epochs=20)"
   ],
   "metadata": {
    "collapsed": false,
    "ExecuteTime": {
     "end_time": "2024-01-19T15:44:40.736114873Z",
     "start_time": "2024-01-19T15:43:10.815776346Z"
    }
   },
   "id": "dcd3965acf2ed9c9",
   "execution_count": 86
  },
  {
   "cell_type": "code",
   "outputs": [
    {
     "name": "stdout",
     "output_type": "stream",
     "text": [
      "313/313 [==============================] - 0s 1ms/step\n"
     ]
    },
    {
     "data": {
      "text/plain": "Text(95.72222222222221, 0.5, 'Predicted Value')"
     },
     "execution_count": 87,
     "metadata": {},
     "output_type": "execute_result"
    },
    {
     "data": {
      "text/plain": "<Figure size 1000x800 with 2 Axes>",
      "image/png": "[encoded data removed]"
     },
     "metadata": {},
     "output_type": "display_data"
    }
   ],
   "source": [
    "y_pred_plus = model_plus.predict(X_test_flat)\n",
    "y_pred_labels_plus = [np.argmax(i) for i in y_pred_plus]\n",
    "cm_plus = tf.math.confusion_matrix(labels=y_test, predictions=y_pred_labels_plus)\n",
    "\n",
    "\n",
    "# import seaborn as sns\n",
    "plt.figure(figsize=(10, 8))\n",
    "sns.heatmap(cm_plus, annot=True, cmap='ocean')\n",
    "plt.xlabel(\"True Value\")\n",
    "plt.ylabel(\"Predicted Value\")"
   ],
   "metadata": {
    "collapsed": false,
    "ExecuteTime": {
     "end_time": "2024-01-19T15:47:27.556764197Z",
     "start_time": "2024-01-19T15:47:26.563490688Z"
    }
   },
   "id": "b05153e08278bdc1",
   "execution_count": 87
  },
  {
   "cell_type": "markdown",
   "source": [
    "Flatten done by keras"
   ],
   "metadata": {
    "collapsed": false
   },
   "id": "88336624c80fc830"
  },
  {
   "cell_type": "code",
   "outputs": [
    {
     "name": "stdout",
     "output_type": "stream",
     "text": [
      "Epoch 1/20\n",
      "1875/1875 [==============================] - 7s 3ms/step - loss: 0.3823 - accuracy: 0.8894\n",
      "Epoch 2/20\n",
      "1875/1875 [==============================] - 6s 3ms/step - loss: 0.2049 - accuracy: 0.9387\n",
      "Epoch 3/20\n",
      "1875/1875 [==============================] - 6s 3ms/step - loss: 0.1890 - accuracy: 0.9427\n",
      "Epoch 4/20\n",
      "1875/1875 [==============================] - 6s 3ms/step - loss: 0.1753 - accuracy: 0.9466\n",
      "Epoch 5/20\n",
      "1875/1875 [==============================] - 5s 3ms/step - loss: 0.1704 - accuracy: 0.9482\n",
      "Epoch 6/20\n",
      "1875/1875 [==============================] - 6s 3ms/step - loss: 0.1596 - accuracy: 0.9518\n",
      "Epoch 7/20\n",
      "1875/1875 [==============================] - 6s 3ms/step - loss: 0.1531 - accuracy: 0.9532\n",
      "Epoch 8/20\n",
      "1875/1875 [==============================] - 5s 3ms/step - loss: 0.1524 - accuracy: 0.9529\n",
      "Epoch 9/20\n",
      "1875/1875 [==============================] - 5s 3ms/step - loss: 0.1571 - accuracy: 0.9515\n",
      "Epoch 10/20\n",
      "1875/1875 [==============================] - 5s 3ms/step - loss: 0.1451 - accuracy: 0.9551\n",
      "Epoch 11/20\n",
      "1875/1875 [==============================] - 6s 3ms/step - loss: 0.1438 - accuracy: 0.9554\n",
      "Epoch 12/20\n",
      "1875/1875 [==============================] - 5s 3ms/step - loss: 0.1389 - accuracy: 0.9567\n",
      "Epoch 13/20\n",
      "1875/1875 [==============================] - 5s 3ms/step - loss: 0.1446 - accuracy: 0.9555\n",
      "Epoch 14/20\n",
      "1875/1875 [==============================] - 6s 3ms/step - loss: 0.1332 - accuracy: 0.9594\n",
      "Epoch 15/20\n",
      "1875/1875 [==============================] - 5s 3ms/step - loss: 0.1360 - accuracy: 0.9585\n",
      "Epoch 16/20\n",
      "1875/1875 [==============================] - 6s 3ms/step - loss: 0.1374 - accuracy: 0.9592\n",
      "Epoch 17/20\n",
      "1875/1875 [==============================] - 5s 3ms/step - loss: 0.1373 - accuracy: 0.9576\n",
      "Epoch 18/20\n",
      "1875/1875 [==============================] - 5s 3ms/step - loss: 0.1534 - accuracy: 0.9535\n",
      "Epoch 19/20\n",
      "1875/1875 [==============================] - 5s 3ms/step - loss: 0.1465 - accuracy: 0.9558\n",
      "Epoch 20/20\n",
      "1875/1875 [==============================] - 5s 3ms/step - loss: 0.1477 - accuracy: 0.9545\n"
     ]
    },
    {
     "data": {
      "text/plain": "<keras.src.callbacks.History at 0x7f57272437f0>"
     },
     "execution_count": 91,
     "metadata": {},
     "output_type": "execute_result"
    }
   ],
   "source": [
    "model_complete = keras.Sequential([\n",
    "    keras.layers.Flatten(input_shape=(28,28)),\n",
    "    keras.layers.Dense(100, activation= \"relu\"),\n",
    "    keras.layers.Dense(200, activation= \"sigmoid\"),\n",
    "    keras.layers.Dense(10, activation= \"softmax\"),\n",
    "\n",
    "])\n",
    "\n",
    "model_complete.compile(\n",
    "    optimizer='adam',\n",
    "    loss='sparse_categorical_crossentropy',\n",
    "    metrics=[\"accuracy\"]\n",
    ")\n",
    "\n",
    "model_complete.fit(X_train, y_train, epochs=20)"
   ],
   "metadata": {
    "collapsed": false,
    "ExecuteTime": {
     "end_time": "2024-01-19T16:05:24.618427189Z",
     "start_time": "2024-01-19T16:03:33.146042300Z"
    }
   },
   "id": "9d86d7807dfdf7e5",
   "execution_count": 91
  },
  {
   "cell_type": "code",
   "outputs": [
    {
     "name": "stdout",
     "output_type": "stream",
     "text": [
      "313/313 [==============================] - 0s 1ms/step\n"
     ]
    },
    {
     "data": {
      "text/plain": "Text(95.72222222222221, 0.5, 'Predicted Value')"
     },
     "execution_count": 93,
     "metadata": {},
     "output_type": "execute_result"
    },
    {
     "data": {
      "text/plain": "<Figure size 1000x800 with 2 Axes>",
      "image/png": "[encoded data removed]"
     },
     "metadata": {},
     "output_type": "display_data"
    }
   ],
   "source": [
    "y_pred_comple = model_complete.predict(X_test)\n",
    "y_pred_labels_comple = [np.argmax(i) for i in y_pred_comple]\n",
    "cm_comple = tf.math.confusion_matrix(labels=y_test, predictions=y_pred_labels_comple)\n",
    "\n",
    "\n",
    "# import seaborn as sns\n",
    "plt.figure(figsize=(10, 8))\n",
    "sns.heatmap(cm_comple, annot=True, cmap='ocean')\n",
    "plt.xlabel(\"True Value\")\n",
    "plt.ylabel(\"Predicted Value\")"
   ],
   "metadata": {
    "collapsed": false,
    "ExecuteTime": {
     "end_time": "2024-01-19T16:05:39.500945471Z",
     "start_time": "2024-01-19T16:05:38.590877877Z"
    }
   },
   "id": "778ecbe80789907f",
   "execution_count": 93
  },
  {
   "cell_type": "code",
   "outputs": [],
   "source": [],
   "metadata": {
    "collapsed": false
   },
   "id": "1935db26ba60612"
  }
 ],
 "metadata": {
  "kernelspec": {
   "display_name": "Python 3",
   "language": "python",
   "name": "python3"
  },
  "language_info": {
   "codemirror_mode": {
    "name": "ipython",
    "version": 2
   },
   "file_extension": ".py",
   "mimetype": "text/x-python",
   "name": "python",
   "nbconvert_exporter": "python",
   "pygments_lexer": "ipython2",
   "version": "2.7.6"
  }
 },
 "nbformat": 4,
 "nbformat_minor": 5
}
