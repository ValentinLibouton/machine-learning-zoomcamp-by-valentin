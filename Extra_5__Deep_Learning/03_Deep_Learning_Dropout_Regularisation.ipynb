{
 "cells": [
  {
   "cell_type": "markdown",
   "source": [
    "https://colab.research.google.com/drive/1gvKwGnlQJc4A6ZBQz1tZPLKNDct_T1Y8?usp=sharing"
   ],
   "metadata": {
    "collapsed": false
   },
   "id": "e2e6d759dc4002dc"
  },
  {
   "cell_type": "markdown",
   "source": [
    "# Dropout Regularization in Deep Neural Network\n",
    "\n",
    "This is a dataset that describes sonar chirp returns bouncing off different services. The 60 input variables are the strength of the returns at different angles. It is a **binary classification problem** that requires a model to differentiate rocks from metal cylinders.\n",
    "\n",
    "Dataset information: https://archive.ics.uci.edu/ml/datasets/Connectionist+Bench+(Sonar,+Mines+vs.+Rocks)\n",
    "Download it from here: https://archive.ics.uci.edu/ml/machine-learning-databases/undocumented/connectionist-bench/sonar/sonar.all-data"
   ],
   "metadata": {
    "collapsed": false
   },
   "id": "3cd64fc53a557c0b"
  },
  {
   "cell_type": "code",
   "outputs": [],
   "source": [
    "from personnal_utils import gpu_activation\n",
    "gpu_activation()"
   ],
   "metadata": {
    "collapsed": false,
    "ExecuteTime": {
     "end_time": "2024-01-22T14:32:42.224144801Z",
     "start_time": "2024-01-22T14:32:42.125725079Z"
    }
   },
   "id": "a9af18b71b2e9c",
   "execution_count": 67
  },
  {
   "cell_type": "code",
   "outputs": [],
   "source": [
    "import numpy as np\n",
    "import pandas as pd\n",
    "import tensorflow as tf\n",
    "from tensorflow import keras\n",
    "import seaborn\n",
    "from matplotlib import pyplot as plt\n",
    "\n",
    "%matplotlib inline"
   ],
   "metadata": {
    "collapsed": false,
    "ExecuteTime": {
     "end_time": "2024-01-22T14:32:42.233492500Z",
     "start_time": "2024-01-22T14:32:42.223818545Z"
    }
   },
   "id": "52a530aadfc961d0",
   "execution_count": 68
  },
  {
   "cell_type": "code",
   "outputs": [],
   "source": [
    "# helps to filter warnings\n",
    "\n",
    "import warnings\n",
    "warnings.filterwarnings('ignore')"
   ],
   "metadata": {
    "collapsed": false,
    "ExecuteTime": {
     "end_time": "2024-01-22T14:32:42.255326508Z",
     "start_time": "2024-01-22T14:32:42.237598425Z"
    }
   },
   "id": "833f5e5689fbd8b6",
   "execution_count": 69
  },
  {
   "cell_type": "code",
   "outputs": [
    {
     "data": {
      "text/plain": "      col_0   col_1   col_2   col_3   col_4   col_5   col_6   col_7   col_8  \\\n172  0.0180  0.0444  0.0476  0.0698  0.1615  0.0887  0.0596  0.1071  0.3175   \n152  0.0131  0.0201  0.0045  0.0217  0.0230  0.0481  0.0742  0.0333  0.1369   \n151  0.0231  0.0315  0.0170  0.0226  0.0410  0.0116  0.0223  0.0805  0.2365   \n178  0.0197  0.0394  0.0384  0.0076  0.0251  0.0629  0.0747  0.0578  0.1357   \n35   0.0206  0.0132  0.0533  0.0569  0.0647  0.1432  0.1344  0.2041  0.1571   \n\n      col_9  ...  col_51  col_52  col_53  col_54  col_55  col_56  col_57  \\\n172  0.2918  ...  0.0122  0.0114  0.0098  0.0027  0.0025  0.0026  0.0050   \n152  0.2079  ...  0.0168  0.0086  0.0045  0.0062  0.0065  0.0030  0.0066   \n151  0.2461  ...  0.0125  0.0036  0.0123  0.0043  0.0114  0.0052  0.0091   \n178  0.1695  ...  0.0134  0.0097  0.0042  0.0058  0.0072  0.0041  0.0045   \n35   0.1573  ...  0.0386  0.0147  0.0018  0.0100  0.0096  0.0077  0.0180   \n\n     col_58  col_59  col_60  \n172  0.0073  0.0022       M  \n152  0.0029  0.0053       M  \n151  0.0008  0.0092       M  \n178  0.0047  0.0054       M  \n35   0.0109  0.0070       R  \n\n[5 rows x 61 columns]",
      "text/html": "<div>\n<style scoped>\n    .dataframe tbody tr th:only-of-type {\n        vertical-align: middle;\n    }\n\n    .dataframe tbody tr th {\n        vertical-align: top;\n    }\n\n    .dataframe thead th {\n        text-align: right;\n    }\n</style>\n<table border=\"1\" class=\"dataframe\">\n  <thead>\n    <tr style=\"text-align: right;\">\n      <th></th>\n      <th>col_0</th>\n      <th>col_1</th>\n      <th>col_2</th>\n      <th>col_3</th>\n      <th>col_4</th>\n      <th>col_5</th>\n      <th>col_6</th>\n      <th>col_7</th>\n      <th>col_8</th>\n      <th>col_9</th>\n      <th>...</th>\n      <th>col_51</th>\n      <th>col_52</th>\n      <th>col_53</th>\n      <th>col_54</th>\n      <th>col_55</th>\n      <th>col_56</th>\n      <th>col_57</th>\n      <th>col_58</th>\n      <th>col_59</th>\n      <th>col_60</th>\n    </tr>\n  </thead>\n  <tbody>\n    <tr>\n      <th>172</th>\n      <td>0.0180</td>\n      <td>0.0444</td>\n      <td>0.0476</td>\n      <td>0.0698</td>\n      <td>0.1615</td>\n      <td>0.0887</td>\n      <td>0.0596</td>\n      <td>0.1071</td>\n      <td>0.3175</td>\n      <td>0.2918</td>\n      <td>...</td>\n      <td>0.0122</td>\n      <td>0.0114</td>\n      <td>0.0098</td>\n      <td>0.0027</td>\n      <td>0.0025</td>\n      <td>0.0026</td>\n      <td>0.0050</td>\n      <td>0.0073</td>\n      <td>0.0022</td>\n      <td>M</td>\n    </tr>\n    <tr>\n      <th>152</th>\n      <td>0.0131</td>\n      <td>0.0201</td>\n      <td>0.0045</td>\n      <td>0.0217</td>\n      <td>0.0230</td>\n      <td>0.0481</td>\n      <td>0.0742</td>\n      <td>0.0333</td>\n      <td>0.1369</td>\n      <td>0.2079</td>\n      <td>...</td>\n      <td>0.0168</td>\n      <td>0.0086</td>\n      <td>0.0045</td>\n      <td>0.0062</td>\n      <td>0.0065</td>\n      <td>0.0030</td>\n      <td>0.0066</td>\n      <td>0.0029</td>\n      <td>0.0053</td>\n      <td>M</td>\n    </tr>\n    <tr>\n      <th>151</th>\n      <td>0.0231</td>\n      <td>0.0315</td>\n      <td>0.0170</td>\n      <td>0.0226</td>\n      <td>0.0410</td>\n      <td>0.0116</td>\n      <td>0.0223</td>\n      <td>0.0805</td>\n      <td>0.2365</td>\n      <td>0.2461</td>\n      <td>...</td>\n      <td>0.0125</td>\n      <td>0.0036</td>\n      <td>0.0123</td>\n      <td>0.0043</td>\n      <td>0.0114</td>\n      <td>0.0052</td>\n      <td>0.0091</td>\n      <td>0.0008</td>\n      <td>0.0092</td>\n      <td>M</td>\n    </tr>\n    <tr>\n      <th>178</th>\n      <td>0.0197</td>\n      <td>0.0394</td>\n      <td>0.0384</td>\n      <td>0.0076</td>\n      <td>0.0251</td>\n      <td>0.0629</td>\n      <td>0.0747</td>\n      <td>0.0578</td>\n      <td>0.1357</td>\n      <td>0.1695</td>\n      <td>...</td>\n      <td>0.0134</td>\n      <td>0.0097</td>\n      <td>0.0042</td>\n      <td>0.0058</td>\n      <td>0.0072</td>\n      <td>0.0041</td>\n      <td>0.0045</td>\n      <td>0.0047</td>\n      <td>0.0054</td>\n      <td>M</td>\n    </tr>\n    <tr>\n      <th>35</th>\n      <td>0.0206</td>\n      <td>0.0132</td>\n      <td>0.0533</td>\n      <td>0.0569</td>\n      <td>0.0647</td>\n      <td>0.1432</td>\n      <td>0.1344</td>\n      <td>0.2041</td>\n      <td>0.1571</td>\n      <td>0.1573</td>\n      <td>...</td>\n      <td>0.0386</td>\n      <td>0.0147</td>\n      <td>0.0018</td>\n      <td>0.0100</td>\n      <td>0.0096</td>\n      <td>0.0077</td>\n      <td>0.0180</td>\n      <td>0.0109</td>\n      <td>0.0070</td>\n      <td>R</td>\n    </tr>\n  </tbody>\n</table>\n<p>5 rows × 61 columns</p>\n</div>"
     },
     "execution_count": 70,
     "metadata": {},
     "output_type": "execute_result"
    }
   ],
   "source": [
    "url = \"https://archive.ics.uci.edu/ml/machine-learning-databases/undocumented/connectionist-bench/sonar/sonar.all-data\"\n",
    "\n",
    "sonar = pd.read_csv(url, names=[\"col_\"+ str(i) for i in list(range(61))])\n",
    "sonar.sample(5) # random sample"
   ],
   "metadata": {
    "collapsed": false,
    "ExecuteTime": {
     "end_time": "2024-01-22T14:32:43.386693290Z",
     "start_time": "2024-01-22T14:32:42.252781231Z"
    }
   },
   "id": "1bfed19fdb621f66",
   "execution_count": 70
  },
  {
   "cell_type": "code",
   "outputs": [
    {
     "data": {
      "text/plain": "(208, 61)"
     },
     "execution_count": 71,
     "metadata": {},
     "output_type": "execute_result"
    }
   ],
   "source": [
    "sonar.shape"
   ],
   "metadata": {
    "collapsed": false,
    "ExecuteTime": {
     "end_time": "2024-01-22T14:32:43.387731297Z",
     "start_time": "2024-01-22T14:32:43.355597142Z"
    }
   },
   "id": "4f86aa8def6ce1d8",
   "execution_count": 71
  },
  {
   "cell_type": "markdown",
   "source": [
    "## mini EDA"
   ],
   "metadata": {
    "collapsed": false
   },
   "id": "54e8c23ea23dd06a"
  },
  {
   "cell_type": "code",
   "outputs": [
    {
     "data": {
      "text/plain": "<Axes: >"
     },
     "execution_count": 72,
     "metadata": {},
     "output_type": "execute_result"
    },
    {
     "data": {
      "text/plain": "<Figure size 640x480 with 2 Axes>",
      "image/png": "[encoded data removed]"
     },
     "metadata": {},
     "output_type": "display_data"
    }
   ],
   "source": [
    "# MIssing VAlue\n",
    "\n",
    "seaborn.heatmap(sonar.isna(), cmap=\"gray\")"
   ],
   "metadata": {
    "collapsed": false,
    "ExecuteTime": {
     "end_time": "2024-01-22T14:32:44.120165085Z",
     "start_time": "2024-01-22T14:32:43.355688622Z"
    }
   },
   "id": "9f0cd3bae6bf4680",
   "execution_count": 72
  },
  {
   "cell_type": "code",
   "outputs": [
    {
     "data": {
      "text/plain": "Index(['col_0', 'col_1', 'col_2', 'col_3', 'col_4', 'col_5', 'col_6', 'col_7',\n       'col_8', 'col_9', 'col_10', 'col_11', 'col_12', 'col_13', 'col_14',\n       'col_15', 'col_16', 'col_17', 'col_18', 'col_19', 'col_20', 'col_21',\n       'col_22', 'col_23', 'col_24', 'col_25', 'col_26', 'col_27', 'col_28',\n       'col_29', 'col_30', 'col_31', 'col_32', 'col_33', 'col_34', 'col_35',\n       'col_36', 'col_37', 'col_38', 'col_39', 'col_40', 'col_41', 'col_42',\n       'col_43', 'col_44', 'col_45', 'col_46', 'col_47', 'col_48', 'col_49',\n       'col_50', 'col_51', 'col_52', 'col_53', 'col_54', 'col_55', 'col_56',\n       'col_57', 'col_58', 'col_59', 'col_60'],\n      dtype='object')"
     },
     "execution_count": 73,
     "metadata": {},
     "output_type": "execute_result"
    }
   ],
   "source": [
    "sonar.columns"
   ],
   "metadata": {
    "collapsed": false,
    "ExecuteTime": {
     "end_time": "2024-01-22T14:32:44.125708920Z",
     "start_time": "2024-01-22T14:32:44.121923841Z"
    }
   },
   "id": "2aeb98c4a94f42e2",
   "execution_count": 73
  },
  {
   "cell_type": "code",
   "outputs": [
    {
     "data": {
      "text/plain": "<Axes: xlabel='col_60'>"
     },
     "execution_count": 74,
     "metadata": {},
     "output_type": "execute_result"
    },
    {
     "data": {
      "text/plain": "<Figure size 300x300 with 1 Axes>",
      "image/png": "[encoded data removed]"
     },
     "metadata": {},
     "output_type": "display_data"
    }
   ],
   "source": [
    "sonar.head(1)\n",
    "# We know that our target is in the last column ==> we could just watch the unique values and their frequencies\n",
    "plt.figure(figsize=(3,3))\n",
    "sonar['col_60'].value_counts().plot(kind='bar')\n"
   ],
   "metadata": {
    "collapsed": false,
    "ExecuteTime": {
     "end_time": "2024-01-22T14:32:44.269567825Z",
     "start_time": "2024-01-22T14:32:44.130987773Z"
    }
   },
   "id": "64775e529064c332",
   "execution_count": 74
  },
  {
   "cell_type": "markdown",
   "source": [
    "### Separate the Features from target"
   ],
   "metadata": {
    "collapsed": false
   },
   "id": "2e08103b0f575598"
  },
  {
   "cell_type": "code",
   "outputs": [
    {
     "data": {
      "text/plain": "0    R\n1    R\n2    R\n3    R\n4    R\nName: col_60, dtype: object"
     },
     "execution_count": 75,
     "metadata": {},
     "output_type": "execute_result"
    }
   ],
   "source": [
    "X = sonar.drop('col_60', axis=1)\n",
    "y = sonar.col_60\n",
    "\n",
    "y.head()"
   ],
   "metadata": {
    "collapsed": false,
    "ExecuteTime": {
     "end_time": "2024-01-22T14:32:44.273259401Z",
     "start_time": "2024-01-22T14:32:44.267490458Z"
    }
   },
   "id": "37ee6bf1015d5627",
   "execution_count": 75
  },
  {
   "cell_type": "code",
   "outputs": [
    {
     "data": {
      "text/plain": "         R\n68    True\n148  False\n134  False\n10    True",
      "text/html": "<div>\n<style scoped>\n    .dataframe tbody tr th:only-of-type {\n        vertical-align: middle;\n    }\n\n    .dataframe tbody tr th {\n        vertical-align: top;\n    }\n\n    .dataframe thead th {\n        text-align: right;\n    }\n</style>\n<table border=\"1\" class=\"dataframe\">\n  <thead>\n    <tr style=\"text-align: right;\">\n      <th></th>\n      <th>R</th>\n    </tr>\n  </thead>\n  <tbody>\n    <tr>\n      <th>68</th>\n      <td>True</td>\n    </tr>\n    <tr>\n      <th>148</th>\n      <td>False</td>\n    </tr>\n    <tr>\n      <th>134</th>\n      <td>False</td>\n    </tr>\n    <tr>\n      <th>10</th>\n      <td>True</td>\n    </tr>\n  </tbody>\n</table>\n</div>"
     },
     "execution_count": 76,
     "metadata": {},
     "output_type": "execute_result"
    }
   ],
   "source": [
    "y = pd.get_dummies(y, drop_first=True)\n",
    "y.sample(4)"
   ],
   "metadata": {
    "collapsed": false,
    "ExecuteTime": {
     "end_time": "2024-01-22T14:32:44.316520169Z",
     "start_time": "2024-01-22T14:32:44.280674802Z"
    }
   },
   "id": "3891f43afb901033",
   "execution_count": 76
  },
  {
   "cell_type": "code",
   "outputs": [
    {
     "data": {
      "text/plain": "R    \nFalse    111\nTrue      97\nName: count, dtype: int64"
     },
     "execution_count": 77,
     "metadata": {},
     "output_type": "execute_result"
    }
   ],
   "source": [
    "y.value_counts()"
   ],
   "metadata": {
    "collapsed": false,
    "ExecuteTime": {
     "end_time": "2024-01-22T14:32:44.317726769Z",
     "start_time": "2024-01-22T14:32:44.289673623Z"
    }
   },
   "id": "8b3d759b21adf579",
   "execution_count": 77
  },
  {
   "cell_type": "code",
   "outputs": [
    {
     "data": {
      "text/plain": "    col_0   col_1   col_2   col_3   col_4   col_5   col_6   col_7   col_8  \\\n0  0.0200  0.0371  0.0428  0.0207  0.0954  0.0986  0.1539  0.1601  0.3109   \n1  0.0453  0.0523  0.0843  0.0689  0.1183  0.2583  0.2156  0.3481  0.3337   \n2  0.0262  0.0582  0.1099  0.1083  0.0974  0.2280  0.2431  0.3771  0.5598   \n3  0.0100  0.0171  0.0623  0.0205  0.0205  0.0368  0.1098  0.1276  0.0598   \n4  0.0762  0.0666  0.0481  0.0394  0.0590  0.0649  0.1209  0.2467  0.3564   \n\n    col_9  ...  col_50  col_51  col_52  col_53  col_54  col_55  col_56  \\\n0  0.2111  ...  0.0232  0.0027  0.0065  0.0159  0.0072  0.0167  0.0180   \n1  0.2872  ...  0.0125  0.0084  0.0089  0.0048  0.0094  0.0191  0.0140   \n2  0.6194  ...  0.0033  0.0232  0.0166  0.0095  0.0180  0.0244  0.0316   \n3  0.1264  ...  0.0241  0.0121  0.0036  0.0150  0.0085  0.0073  0.0050   \n4  0.4459  ...  0.0156  0.0031  0.0054  0.0105  0.0110  0.0015  0.0072   \n\n   col_57  col_58  col_59  \n0  0.0084  0.0090  0.0032  \n1  0.0049  0.0052  0.0044  \n2  0.0164  0.0095  0.0078  \n3  0.0044  0.0040  0.0117  \n4  0.0048  0.0107  0.0094  \n\n[5 rows x 60 columns]",
      "text/html": "<div>\n<style scoped>\n    .dataframe tbody tr th:only-of-type {\n        vertical-align: middle;\n    }\n\n    .dataframe tbody tr th {\n        vertical-align: top;\n    }\n\n    .dataframe thead th {\n        text-align: right;\n    }\n</style>\n<table border=\"1\" class=\"dataframe\">\n  <thead>\n    <tr style=\"text-align: right;\">\n      <th></th>\n      <th>col_0</th>\n      <th>col_1</th>\n      <th>col_2</th>\n      <th>col_3</th>\n      <th>col_4</th>\n      <th>col_5</th>\n      <th>col_6</th>\n      <th>col_7</th>\n      <th>col_8</th>\n      <th>col_9</th>\n      <th>...</th>\n      <th>col_50</th>\n      <th>col_51</th>\n      <th>col_52</th>\n      <th>col_53</th>\n      <th>col_54</th>\n      <th>col_55</th>\n      <th>col_56</th>\n      <th>col_57</th>\n      <th>col_58</th>\n      <th>col_59</th>\n    </tr>\n  </thead>\n  <tbody>\n    <tr>\n      <th>0</th>\n      <td>0.0200</td>\n      <td>0.0371</td>\n      <td>0.0428</td>\n      <td>0.0207</td>\n      <td>0.0954</td>\n      <td>0.0986</td>\n      <td>0.1539</td>\n      <td>0.1601</td>\n      <td>0.3109</td>\n      <td>0.2111</td>\n      <td>...</td>\n      <td>0.0232</td>\n      <td>0.0027</td>\n      <td>0.0065</td>\n      <td>0.0159</td>\n      <td>0.0072</td>\n      <td>0.0167</td>\n      <td>0.0180</td>\n      <td>0.0084</td>\n      <td>0.0090</td>\n      <td>0.0032</td>\n    </tr>\n    <tr>\n      <th>1</th>\n      <td>0.0453</td>\n      <td>0.0523</td>\n      <td>0.0843</td>\n      <td>0.0689</td>\n      <td>0.1183</td>\n      <td>0.2583</td>\n      <td>0.2156</td>\n      <td>0.3481</td>\n      <td>0.3337</td>\n      <td>0.2872</td>\n      <td>...</td>\n      <td>0.0125</td>\n      <td>0.0084</td>\n      <td>0.0089</td>\n      <td>0.0048</td>\n      <td>0.0094</td>\n      <td>0.0191</td>\n      <td>0.0140</td>\n      <td>0.0049</td>\n      <td>0.0052</td>\n      <td>0.0044</td>\n    </tr>\n    <tr>\n      <th>2</th>\n      <td>0.0262</td>\n      <td>0.0582</td>\n      <td>0.1099</td>\n      <td>0.1083</td>\n      <td>0.0974</td>\n      <td>0.2280</td>\n      <td>0.2431</td>\n      <td>0.3771</td>\n      <td>0.5598</td>\n      <td>0.6194</td>\n      <td>...</td>\n      <td>0.0033</td>\n      <td>0.0232</td>\n      <td>0.0166</td>\n      <td>0.0095</td>\n      <td>0.0180</td>\n      <td>0.0244</td>\n      <td>0.0316</td>\n      <td>0.0164</td>\n      <td>0.0095</td>\n      <td>0.0078</td>\n    </tr>\n    <tr>\n      <th>3</th>\n      <td>0.0100</td>\n      <td>0.0171</td>\n      <td>0.0623</td>\n      <td>0.0205</td>\n      <td>0.0205</td>\n      <td>0.0368</td>\n      <td>0.1098</td>\n      <td>0.1276</td>\n      <td>0.0598</td>\n      <td>0.1264</td>\n      <td>...</td>\n      <td>0.0241</td>\n      <td>0.0121</td>\n      <td>0.0036</td>\n      <td>0.0150</td>\n      <td>0.0085</td>\n      <td>0.0073</td>\n      <td>0.0050</td>\n      <td>0.0044</td>\n      <td>0.0040</td>\n      <td>0.0117</td>\n    </tr>\n    <tr>\n      <th>4</th>\n      <td>0.0762</td>\n      <td>0.0666</td>\n      <td>0.0481</td>\n      <td>0.0394</td>\n      <td>0.0590</td>\n      <td>0.0649</td>\n      <td>0.1209</td>\n      <td>0.2467</td>\n      <td>0.3564</td>\n      <td>0.4459</td>\n      <td>...</td>\n      <td>0.0156</td>\n      <td>0.0031</td>\n      <td>0.0054</td>\n      <td>0.0105</td>\n      <td>0.0110</td>\n      <td>0.0015</td>\n      <td>0.0072</td>\n      <td>0.0048</td>\n      <td>0.0107</td>\n      <td>0.0094</td>\n    </tr>\n  </tbody>\n</table>\n<p>5 rows × 60 columns</p>\n</div>"
     },
     "execution_count": 78,
     "metadata": {},
     "output_type": "execute_result"
    }
   ],
   "source": [
    "X.head()"
   ],
   "metadata": {
    "collapsed": false,
    "ExecuteTime": {
     "end_time": "2024-01-22T14:32:44.331810665Z",
     "start_time": "2024-01-22T14:32:44.305921216Z"
    }
   },
   "id": "b9171d84f682f190",
   "execution_count": 78
  },
  {
   "cell_type": "markdown",
   "source": [
    "### Splitting data"
   ],
   "metadata": {
    "collapsed": false
   },
   "id": "21f4274e734065a4"
  },
  {
   "cell_type": "code",
   "outputs": [],
   "source": [
    "from sklearn.model_selection import train_test_split\n",
    "\n",
    "X_train, X_test, y_train, y_test = train_test_split(X, y, test_size=0.25, random_state=1)"
   ],
   "metadata": {
    "collapsed": false,
    "ExecuteTime": {
     "end_time": "2024-01-22T14:32:44.357415795Z",
     "start_time": "2024-01-22T14:32:44.313990782Z"
    }
   },
   "id": "faf9ec80c67077dc",
   "execution_count": 79
  },
  {
   "cell_type": "code",
   "outputs": [
    {
     "data": {
      "text/plain": "      col_0   col_1   col_2   col_3   col_4   col_5   col_6   col_7   col_8  \\\n67   0.0368  0.0403  0.0317  0.0293  0.0820  0.1342  0.1161  0.0663  0.0155   \n14   0.0124  0.0433  0.0604  0.0449  0.0597  0.0355  0.0531  0.0343  0.1052   \n164  0.0163  0.0198  0.0202  0.0386  0.0752  0.1444  0.1487  0.1484  0.2442   \n\n      col_9  ...  col_50  col_51  col_52  col_53  col_54  col_55  col_56  \\\n67   0.0506  ...  0.0058  0.0091  0.0160  0.0160  0.0081  0.0070  0.0135   \n14   0.2120  ...  0.0078  0.0083  0.0057  0.0174  0.0188  0.0054  0.0114   \n164  0.2822  ...  0.0027  0.0077  0.0026  0.0031  0.0083  0.0020  0.0084   \n\n     col_57  col_58  col_59  \n67   0.0067  0.0078  0.0068  \n14   0.0196  0.0147  0.0062  \n164  0.0108  0.0083  0.0033  \n\n[3 rows x 60 columns]",
      "text/html": "<div>\n<style scoped>\n    .dataframe tbody tr th:only-of-type {\n        vertical-align: middle;\n    }\n\n    .dataframe tbody tr th {\n        vertical-align: top;\n    }\n\n    .dataframe thead th {\n        text-align: right;\n    }\n</style>\n<table border=\"1\" class=\"dataframe\">\n  <thead>\n    <tr style=\"text-align: right;\">\n      <th></th>\n      <th>col_0</th>\n      <th>col_1</th>\n      <th>col_2</th>\n      <th>col_3</th>\n      <th>col_4</th>\n      <th>col_5</th>\n      <th>col_6</th>\n      <th>col_7</th>\n      <th>col_8</th>\n      <th>col_9</th>\n      <th>...</th>\n      <th>col_50</th>\n      <th>col_51</th>\n      <th>col_52</th>\n      <th>col_53</th>\n      <th>col_54</th>\n      <th>col_55</th>\n      <th>col_56</th>\n      <th>col_57</th>\n      <th>col_58</th>\n      <th>col_59</th>\n    </tr>\n  </thead>\n  <tbody>\n    <tr>\n      <th>67</th>\n      <td>0.0368</td>\n      <td>0.0403</td>\n      <td>0.0317</td>\n      <td>0.0293</td>\n      <td>0.0820</td>\n      <td>0.1342</td>\n      <td>0.1161</td>\n      <td>0.0663</td>\n      <td>0.0155</td>\n      <td>0.0506</td>\n      <td>...</td>\n      <td>0.0058</td>\n      <td>0.0091</td>\n      <td>0.0160</td>\n      <td>0.0160</td>\n      <td>0.0081</td>\n      <td>0.0070</td>\n      <td>0.0135</td>\n      <td>0.0067</td>\n      <td>0.0078</td>\n      <td>0.0068</td>\n    </tr>\n    <tr>\n      <th>14</th>\n      <td>0.0124</td>\n      <td>0.0433</td>\n      <td>0.0604</td>\n      <td>0.0449</td>\n      <td>0.0597</td>\n      <td>0.0355</td>\n      <td>0.0531</td>\n      <td>0.0343</td>\n      <td>0.1052</td>\n      <td>0.2120</td>\n      <td>...</td>\n      <td>0.0078</td>\n      <td>0.0083</td>\n      <td>0.0057</td>\n      <td>0.0174</td>\n      <td>0.0188</td>\n      <td>0.0054</td>\n      <td>0.0114</td>\n      <td>0.0196</td>\n      <td>0.0147</td>\n      <td>0.0062</td>\n    </tr>\n    <tr>\n      <th>164</th>\n      <td>0.0163</td>\n      <td>0.0198</td>\n      <td>0.0202</td>\n      <td>0.0386</td>\n      <td>0.0752</td>\n      <td>0.1444</td>\n      <td>0.1487</td>\n      <td>0.1484</td>\n      <td>0.2442</td>\n      <td>0.2822</td>\n      <td>...</td>\n      <td>0.0027</td>\n      <td>0.0077</td>\n      <td>0.0026</td>\n      <td>0.0031</td>\n      <td>0.0083</td>\n      <td>0.0020</td>\n      <td>0.0084</td>\n      <td>0.0108</td>\n      <td>0.0083</td>\n      <td>0.0033</td>\n    </tr>\n  </tbody>\n</table>\n<p>3 rows × 60 columns</p>\n</div>"
     },
     "execution_count": 80,
     "metadata": {},
     "output_type": "execute_result"
    }
   ],
   "source": [
    "X_train.head(3)"
   ],
   "metadata": {
    "collapsed": false,
    "ExecuteTime": {
     "end_time": "2024-01-22T14:32:44.399552415Z",
     "start_time": "2024-01-22T14:32:44.330970775Z"
    }
   },
   "id": "ede85dff0707df1c",
   "execution_count": 80
  },
  {
   "cell_type": "markdown",
   "source": [],
   "metadata": {
    "collapsed": false
   },
   "id": "4ec8985d2acbfa8e"
  },
  {
   "cell_type": "markdown",
   "source": [
    "### Using Deep learning Model\n",
    "*Without the Dropout Layer*"
   ],
   "metadata": {
    "collapsed": false
   },
   "id": "659992c1153dc887"
  },
  {
   "cell_type": "code",
   "outputs": [
    {
     "name": "stdout",
     "output_type": "stream",
     "text": [
      "Epoch 1/100\n",
      "20/20 [==============================] - 1s 5ms/step - loss: 0.6917 - accuracy: 0.5192\n",
      "Epoch 2/100\n",
      "20/20 [==============================] - 0s 5ms/step - loss: 0.6765 - accuracy: 0.6859\n",
      "Epoch 3/100\n",
      "20/20 [==============================] - 0s 5ms/step - loss: 0.6637 - accuracy: 0.6090\n",
      "Epoch 4/100\n",
      "20/20 [==============================] - 0s 4ms/step - loss: 0.6493 - accuracy: 0.7051\n",
      "Epoch 5/100\n",
      "20/20 [==============================] - 0s 4ms/step - loss: 0.6218 - accuracy: 0.7372\n",
      "Epoch 6/100\n",
      "20/20 [==============================] - 0s 5ms/step - loss: 0.5829 - accuracy: 0.7564\n",
      "Epoch 7/100\n",
      "20/20 [==============================] - 0s 4ms/step - loss: 0.5530 - accuracy: 0.7692\n",
      "Epoch 8/100\n",
      "20/20 [==============================] - 0s 5ms/step - loss: 0.5119 - accuracy: 0.7949\n",
      "Epoch 9/100\n",
      "20/20 [==============================] - 0s 5ms/step - loss: 0.4946 - accuracy: 0.7564\n",
      "Epoch 10/100\n",
      "20/20 [==============================] - 0s 5ms/step - loss: 0.4557 - accuracy: 0.8654\n",
      "Epoch 11/100\n",
      "20/20 [==============================] - 0s 4ms/step - loss: 0.4319 - accuracy: 0.8397\n",
      "Epoch 12/100\n",
      "20/20 [==============================] - 0s 4ms/step - loss: 0.4082 - accuracy: 0.8397\n",
      "Epoch 13/100\n",
      "20/20 [==============================] - 0s 5ms/step - loss: 0.4132 - accuracy: 0.8077\n",
      "Epoch 14/100\n",
      "20/20 [==============================] - 0s 5ms/step - loss: 0.3720 - accuracy: 0.8654\n",
      "Epoch 15/100\n",
      "20/20 [==============================] - 0s 5ms/step - loss: 0.3777 - accuracy: 0.8397\n",
      "Epoch 16/100\n",
      "20/20 [==============================] - 0s 4ms/step - loss: 0.3475 - accuracy: 0.8718\n",
      "Epoch 17/100\n",
      "20/20 [==============================] - 0s 4ms/step - loss: 0.3331 - accuracy: 0.8846\n",
      "Epoch 18/100\n",
      "20/20 [==============================] - 0s 5ms/step - loss: 0.3100 - accuracy: 0.9038\n",
      "Epoch 19/100\n",
      "20/20 [==============================] - 0s 5ms/step - loss: 0.2991 - accuracy: 0.8910\n",
      "Epoch 20/100\n",
      "20/20 [==============================] - 0s 6ms/step - loss: 0.3436 - accuracy: 0.8654\n",
      "Epoch 21/100\n",
      "20/20 [==============================] - 0s 5ms/step - loss: 0.3119 - accuracy: 0.8846\n",
      "Epoch 22/100\n",
      "20/20 [==============================] - 0s 5ms/step - loss: 0.2996 - accuracy: 0.8846\n",
      "Epoch 23/100\n",
      "20/20 [==============================] - 0s 5ms/step - loss: 0.3183 - accuracy: 0.8590\n",
      "Epoch 24/100\n",
      "20/20 [==============================] - 0s 5ms/step - loss: 0.2619 - accuracy: 0.8974\n",
      "Epoch 25/100\n",
      "20/20 [==============================] - 0s 5ms/step - loss: 0.2506 - accuracy: 0.9167\n",
      "Epoch 26/100\n",
      "20/20 [==============================] - 0s 5ms/step - loss: 0.2777 - accuracy: 0.9038\n",
      "Epoch 27/100\n",
      "20/20 [==============================] - 0s 4ms/step - loss: 0.2291 - accuracy: 0.9359\n",
      "Epoch 28/100\n",
      "20/20 [==============================] - 0s 5ms/step - loss: 0.2344 - accuracy: 0.9231\n",
      "Epoch 29/100\n",
      "20/20 [==============================] - 0s 5ms/step - loss: 0.2211 - accuracy: 0.9295\n",
      "Epoch 30/100\n",
      "20/20 [==============================] - 0s 5ms/step - loss: 0.2086 - accuracy: 0.9295\n",
      "Epoch 31/100\n",
      "20/20 [==============================] - 0s 5ms/step - loss: 0.2067 - accuracy: 0.9295\n",
      "Epoch 32/100\n",
      "20/20 [==============================] - 0s 5ms/step - loss: 0.2201 - accuracy: 0.9103\n",
      "Epoch 33/100\n",
      "20/20 [==============================] - 0s 5ms/step - loss: 0.3115 - accuracy: 0.8205\n",
      "Epoch 34/100\n",
      "20/20 [==============================] - 0s 5ms/step - loss: 0.1951 - accuracy: 0.9551\n",
      "Epoch 35/100\n",
      "20/20 [==============================] - 0s 4ms/step - loss: 0.1952 - accuracy: 0.9487\n",
      "Epoch 36/100\n",
      "20/20 [==============================] - 0s 5ms/step - loss: 0.1668 - accuracy: 0.9615\n",
      "Epoch 37/100\n",
      "20/20 [==============================] - 0s 5ms/step - loss: 0.1952 - accuracy: 0.9423\n",
      "Epoch 38/100\n",
      "20/20 [==============================] - 0s 5ms/step - loss: 0.1772 - accuracy: 0.9487\n",
      "Epoch 39/100\n",
      "20/20 [==============================] - 0s 5ms/step - loss: 0.1771 - accuracy: 0.9295\n",
      "Epoch 40/100\n",
      "20/20 [==============================] - 0s 5ms/step - loss: 0.1664 - accuracy: 0.9551\n",
      "Epoch 41/100\n",
      "20/20 [==============================] - 0s 5ms/step - loss: 0.1462 - accuracy: 0.9679\n",
      "Epoch 42/100\n",
      "20/20 [==============================] - 0s 5ms/step - loss: 0.1393 - accuracy: 0.9744\n",
      "Epoch 43/100\n",
      "20/20 [==============================] - 0s 5ms/step - loss: 0.1348 - accuracy: 0.9551\n",
      "Epoch 44/100\n",
      "20/20 [==============================] - 0s 4ms/step - loss: 0.1325 - accuracy: 0.9615\n",
      "Epoch 45/100\n",
      "20/20 [==============================] - 0s 4ms/step - loss: 0.1321 - accuracy: 0.9679\n",
      "Epoch 46/100\n",
      "20/20 [==============================] - 0s 5ms/step - loss: 0.1110 - accuracy: 0.9679\n",
      "Epoch 47/100\n",
      "20/20 [==============================] - 0s 4ms/step - loss: 0.1173 - accuracy: 0.9615\n",
      "Epoch 48/100\n",
      "20/20 [==============================] - 0s 4ms/step - loss: 0.0999 - accuracy: 0.9808\n",
      "Epoch 49/100\n",
      "20/20 [==============================] - 0s 4ms/step - loss: 0.0974 - accuracy: 0.9808\n",
      "Epoch 50/100\n",
      "20/20 [==============================] - 0s 4ms/step - loss: 0.0944 - accuracy: 0.9808\n",
      "Epoch 51/100\n",
      "20/20 [==============================] - 0s 5ms/step - loss: 0.0877 - accuracy: 0.9808\n",
      "Epoch 52/100\n",
      "20/20 [==============================] - 0s 4ms/step - loss: 0.0962 - accuracy: 0.9808\n",
      "Epoch 53/100\n",
      "20/20 [==============================] - 0s 5ms/step - loss: 0.0877 - accuracy: 0.9808\n",
      "Epoch 54/100\n",
      "20/20 [==============================] - 0s 5ms/step - loss: 0.1046 - accuracy: 0.9744\n",
      "Epoch 55/100\n",
      "20/20 [==============================] - 0s 5ms/step - loss: 0.0823 - accuracy: 0.9936\n",
      "Epoch 56/100\n",
      "20/20 [==============================] - 0s 4ms/step - loss: 0.0932 - accuracy: 0.9679\n",
      "Epoch 57/100\n",
      "20/20 [==============================] - 0s 6ms/step - loss: 0.0706 - accuracy: 0.9936\n",
      "Epoch 58/100\n",
      "20/20 [==============================] - 0s 4ms/step - loss: 0.0663 - accuracy: 0.9936\n",
      "Epoch 59/100\n",
      "20/20 [==============================] - 0s 4ms/step - loss: 0.0623 - accuracy: 0.9936\n",
      "Epoch 60/100\n",
      "20/20 [==============================] - 0s 4ms/step - loss: 0.0555 - accuracy: 0.9936\n",
      "Epoch 61/100\n",
      "20/20 [==============================] - 0s 4ms/step - loss: 0.0540 - accuracy: 0.9936\n",
      "Epoch 62/100\n",
      "20/20 [==============================] - 0s 5ms/step - loss: 0.0560 - accuracy: 0.9936\n",
      "Epoch 63/100\n",
      "20/20 [==============================] - 0s 4ms/step - loss: 0.0526 - accuracy: 0.9936\n",
      "Epoch 64/100\n",
      "20/20 [==============================] - 0s 4ms/step - loss: 0.0488 - accuracy: 0.9936\n",
      "Epoch 65/100\n",
      "20/20 [==============================] - 0s 5ms/step - loss: 0.0566 - accuracy: 0.9936\n",
      "Epoch 66/100\n",
      "20/20 [==============================] - 0s 4ms/step - loss: 0.0484 - accuracy: 0.9936\n",
      "Epoch 67/100\n",
      "20/20 [==============================] - 0s 4ms/step - loss: 0.0431 - accuracy: 0.9936\n",
      "Epoch 68/100\n",
      "20/20 [==============================] - 0s 4ms/step - loss: 0.0407 - accuracy: 0.9936\n",
      "Epoch 69/100\n",
      "20/20 [==============================] - 0s 5ms/step - loss: 0.0362 - accuracy: 0.9936\n",
      "Epoch 70/100\n",
      "20/20 [==============================] - 0s 5ms/step - loss: 0.0351 - accuracy: 0.9936\n",
      "Epoch 71/100\n",
      "20/20 [==============================] - 0s 4ms/step - loss: 0.0302 - accuracy: 0.9936\n",
      "Epoch 72/100\n",
      "20/20 [==============================] - 0s 4ms/step - loss: 0.0264 - accuracy: 0.9936\n",
      "Epoch 73/100\n",
      "20/20 [==============================] - 0s 5ms/step - loss: 0.0345 - accuracy: 1.0000\n",
      "Epoch 74/100\n",
      "20/20 [==============================] - 0s 5ms/step - loss: 0.0364 - accuracy: 0.9936\n",
      "Epoch 75/100\n",
      "20/20 [==============================] - 0s 5ms/step - loss: 0.0297 - accuracy: 1.0000\n",
      "Epoch 76/100\n",
      "20/20 [==============================] - 0s 4ms/step - loss: 0.0261 - accuracy: 1.0000\n",
      "Epoch 77/100\n",
      "20/20 [==============================] - 0s 4ms/step - loss: 0.0179 - accuracy: 1.0000\n",
      "Epoch 78/100\n",
      "20/20 [==============================] - 0s 4ms/step - loss: 0.0172 - accuracy: 1.0000\n",
      "Epoch 79/100\n",
      "20/20 [==============================] - 0s 4ms/step - loss: 0.0144 - accuracy: 1.0000\n",
      "Epoch 80/100\n",
      "20/20 [==============================] - 0s 5ms/step - loss: 0.0138 - accuracy: 1.0000\n",
      "Epoch 81/100\n",
      "20/20 [==============================] - 0s 5ms/step - loss: 0.0130 - accuracy: 1.0000\n",
      "Epoch 82/100\n",
      "20/20 [==============================] - 0s 5ms/step - loss: 0.0144 - accuracy: 1.0000\n",
      "Epoch 83/100\n",
      "20/20 [==============================] - 0s 5ms/step - loss: 0.0106 - accuracy: 1.0000\n",
      "Epoch 84/100\n",
      "20/20 [==============================] - 0s 5ms/step - loss: 0.0103 - accuracy: 1.0000\n",
      "Epoch 85/100\n",
      "20/20 [==============================] - 0s 4ms/step - loss: 0.0096 - accuracy: 1.0000\n",
      "Epoch 86/100\n",
      "20/20 [==============================] - 0s 5ms/step - loss: 0.0096 - accuracy: 1.0000\n",
      "Epoch 87/100\n",
      "20/20 [==============================] - 0s 5ms/step - loss: 0.0086 - accuracy: 1.0000\n",
      "Epoch 88/100\n",
      "20/20 [==============================] - 0s 4ms/step - loss: 0.0090 - accuracy: 1.0000\n",
      "Epoch 89/100\n",
      "20/20 [==============================] - 0s 5ms/step - loss: 0.0083 - accuracy: 1.0000\n",
      "Epoch 90/100\n",
      "20/20 [==============================] - 0s 4ms/step - loss: 0.0087 - accuracy: 1.0000\n",
      "Epoch 91/100\n",
      "20/20 [==============================] - 0s 5ms/step - loss: 0.0075 - accuracy: 1.0000\n",
      "Epoch 92/100\n",
      "20/20 [==============================] - 0s 4ms/step - loss: 0.0069 - accuracy: 1.0000\n",
      "Epoch 93/100\n",
      "20/20 [==============================] - 0s 6ms/step - loss: 0.0065 - accuracy: 1.0000\n",
      "Epoch 94/100\n",
      "20/20 [==============================] - 0s 5ms/step - loss: 0.0059 - accuracy: 1.0000\n",
      "Epoch 95/100\n",
      "20/20 [==============================] - 0s 5ms/step - loss: 0.0061 - accuracy: 1.0000\n",
      "Epoch 96/100\n",
      "20/20 [==============================] - 0s 4ms/step - loss: 0.0055 - accuracy: 1.0000\n",
      "Epoch 97/100\n",
      "20/20 [==============================] - 0s 5ms/step - loss: 0.0054 - accuracy: 1.0000\n",
      "Epoch 98/100\n",
      "20/20 [==============================] - 0s 5ms/step - loss: 0.0049 - accuracy: 1.0000\n",
      "Epoch 99/100\n",
      "20/20 [==============================] - 0s 4ms/step - loss: 0.0047 - accuracy: 1.0000\n",
      "Epoch 100/100\n",
      "20/20 [==============================] - 0s 4ms/step - loss: 0.0045 - accuracy: 1.0000\n"
     ]
    },
    {
     "data": {
      "text/plain": "<keras.src.callbacks.History at 0x7f941449bf70>"
     },
     "execution_count": 81,
     "metadata": {},
     "output_type": "execute_result"
    }
   ],
   "source": [
    "# Architecture of my model\n",
    "\n",
    "model_no_drop = keras.Sequential(\n",
    "    [\n",
    "        keras.layers.Dense(60, input_dim=60, activation='relu'),\n",
    "        keras.layers.Dense(30, activation='relu'),\n",
    "        keras.layers.Dense(15, activation='relu'),\n",
    "        keras.layers.Dense(1, activation='sigmoid'),\n",
    "    ]\n",
    ")\n",
    "\n",
    "\n",
    "model_no_drop.compile(loss='binary_crossentropy', optimizer='adam', metrics=['accuracy'])\n",
    "\n",
    "model_no_drop.fit(X_train, y_train, epochs=100, batch_size=8)"
   ],
   "metadata": {
    "collapsed": false,
    "ExecuteTime": {
     "end_time": "2024-01-22T14:32:55.296809958Z",
     "start_time": "2024-01-22T14:32:44.344530646Z"
    }
   },
   "id": "f900e951c4d409fd",
   "execution_count": 81
  },
  {
   "cell_type": "code",
   "outputs": [
    {
     "name": "stdout",
     "output_type": "stream",
     "text": [
      "WARNING:tensorflow:6 out of the last 11 calls to <function Model.make_test_function.<locals>.test_function at 0x7f93fc34d900> triggered tf.function retracing. Tracing is expensive and the excessive number of tracings could be due to (1) creating @tf.function repeatedly in a loop, (2) passing tensors with different shapes, (3) passing Python objects instead of tensors. For (1), please define your @tf.function outside of the loop. For (2), @tf.function has reduce_retracing=True option that can avoid unnecessary retracing. For (3), please refer to https://www.tensorflow.org/guide/function#controlling_retracing and https://www.tensorflow.org/api_docs/python/tf/function for  more details.\n",
      "2/2 [==============================] - 0s 3ms/step - loss: 0.8254 - accuracy: 0.8077\n"
     ]
    },
    {
     "data": {
      "text/plain": "[0.8253851532936096, 0.807692289352417]"
     },
     "execution_count": 82,
     "metadata": {},
     "output_type": "execute_result"
    }
   ],
   "source": [
    "model_no_drop.evaluate(X_test, y_test)"
   ],
   "metadata": {
    "collapsed": false,
    "ExecuteTime": {
     "end_time": "2024-01-22T14:32:55.469544596Z",
     "start_time": "2024-01-22T14:32:55.299384158Z"
    }
   },
   "id": "b37ad00e49b662c7",
   "execution_count": 82
  },
  {
   "cell_type": "markdown",
   "source": [
    "On voit que l'accuracy sur le set de test n'est pas top, du à l'overfitting"
   ],
   "metadata": {
    "collapsed": false
   },
   "id": "49dfb4f2ff7d2cb2"
  },
  {
   "cell_type": "markdown",
   "source": [
    "Training Accuracy is > higher than Test Accuracy"
   ],
   "metadata": {
    "collapsed": false
   },
   "id": "4265b2b4459f6847"
  },
  {
   "cell_type": "code",
   "outputs": [
    {
     "name": "stdout",
     "output_type": "stream",
     "text": [
      "2/2 [==============================] - 0s 2ms/step\n",
      "old y_pred: \n",
      " [1.7295682e-05 9.4582534e-01 9.9990821e-01 2.8331068e-04 1.0000000e+00]\n",
      "------------\n",
      "new y_pred:\n"
     ]
    },
    {
     "data": {
      "text/plain": "array([0., 1., 1., 0., 1., 1., 0., 1., 0., 1., 0., 0., 0., 0., 0., 0., 1.,\n       0., 0., 1., 0., 1., 0., 1., 0., 0., 0., 0., 1., 0., 0., 0., 0., 1.,\n       1., 1., 1., 1., 1., 0., 0., 0., 0., 0., 0., 0., 1., 1., 0., 0., 0.,\n       0.], dtype=float32)"
     },
     "execution_count": 83,
     "metadata": {},
     "output_type": "execute_result"
    }
   ],
   "source": [
    "y_pred = model_no_drop.predict(X_test).reshape(-1)\n",
    "print(f'old y_pred: \\n {y_pred[:5]}')\n",
    "y_pred = np.round(y_pred) # round makes our prediction close to his original form which is or 0 or 1\n",
    "print(\"------------\\nnew y_pred:\")\n",
    "y_pred"
   ],
   "metadata": {
    "collapsed": false,
    "ExecuteTime": {
     "end_time": "2024-01-22T14:32:55.573945565Z",
     "start_time": "2024-01-22T14:32:55.468872739Z"
    }
   },
   "id": "aa306a81d9873fd7",
   "execution_count": 83
  },
  {
   "cell_type": "code",
   "outputs": [
    {
     "data": {
      "text/plain": "         R\n186  False\n155  False\n165  False\n200  False\n58    True",
      "text/html": "<div>\n<style scoped>\n    .dataframe tbody tr th:only-of-type {\n        vertical-align: middle;\n    }\n\n    .dataframe tbody tr th {\n        vertical-align: top;\n    }\n\n    .dataframe thead th {\n        text-align: right;\n    }\n</style>\n<table border=\"1\" class=\"dataframe\">\n  <thead>\n    <tr style=\"text-align: right;\">\n      <th></th>\n      <th>R</th>\n    </tr>\n  </thead>\n  <tbody>\n    <tr>\n      <th>186</th>\n      <td>False</td>\n    </tr>\n    <tr>\n      <th>155</th>\n      <td>False</td>\n    </tr>\n    <tr>\n      <th>165</th>\n      <td>False</td>\n    </tr>\n    <tr>\n      <th>200</th>\n      <td>False</td>\n    </tr>\n    <tr>\n      <th>58</th>\n      <td>True</td>\n    </tr>\n  </tbody>\n</table>\n</div>"
     },
     "execution_count": 84,
     "metadata": {},
     "output_type": "execute_result"
    }
   ],
   "source": [
    "y_test[:5]"
   ],
   "metadata": {
    "collapsed": false,
    "ExecuteTime": {
     "end_time": "2024-01-22T14:32:55.620117519Z",
     "start_time": "2024-01-22T14:32:55.577381296Z"
    }
   },
   "id": "2d59c458d4363fe2",
   "execution_count": 84
  },
  {
   "cell_type": "code",
   "outputs": [
    {
     "name": "stdout",
     "output_type": "stream",
     "text": [
      "              precision    recall  f1-score   support\n",
      "\n",
      "       False       0.76      0.93      0.83        27\n",
      "        True       0.89      0.68      0.77        25\n",
      "\n",
      "    accuracy                           0.81        52\n",
      "   macro avg       0.83      0.80      0.80        52\n",
      "weighted avg       0.82      0.81      0.80        52\n"
     ]
    }
   ],
   "source": [
    "from sklearn.metrics import classification_report, confusion_matrix\n",
    "\n",
    "print(classification_report(y_test, y_pred))"
   ],
   "metadata": {
    "collapsed": false,
    "ExecuteTime": {
     "end_time": "2024-01-22T14:32:55.621834558Z",
     "start_time": "2024-01-22T14:32:55.619720943Z"
    }
   },
   "id": "d063dbd79a89b938",
   "execution_count": 85
  },
  {
   "cell_type": "code",
   "outputs": [
    {
     "data": {
      "text/plain": "<Axes: >"
     },
     "execution_count": 86,
     "metadata": {},
     "output_type": "execute_result"
    },
    {
     "data": {
      "text/plain": "<Figure size 640x480 with 2 Axes>",
      "image/png": "[encoded data removed]"
     },
     "metadata": {},
     "output_type": "display_data"
    }
   ],
   "source": [
    "seaborn.heatmap(confusion_matrix(y_true=y_test, y_pred=y_pred), annot=True, cmap='ocean')"
   ],
   "metadata": {
    "collapsed": false,
    "ExecuteTime": {
     "end_time": "2024-01-22T14:32:55.796223899Z",
     "start_time": "2024-01-22T14:32:55.619848339Z"
    }
   },
   "id": "64afd987a659e799",
   "execution_count": 86
  },
  {
   "cell_type": "code",
   "outputs": [
    {
     "name": "stdout",
     "output_type": "stream",
     "text": [
      "Epoch 1/100\n",
      "20/20 [==============================] - 1s 5ms/step - loss: 0.7462 - accuracy: 0.5769\n",
      "Epoch 2/100\n",
      "20/20 [==============================] - 0s 5ms/step - loss: 0.7273 - accuracy: 0.5769\n",
      "Epoch 3/100\n",
      "20/20 [==============================] - 0s 6ms/step - loss: 0.7355 - accuracy: 0.5321\n",
      "Epoch 4/100\n",
      "20/20 [==============================] - 0s 5ms/step - loss: 0.6837 - accuracy: 0.5833\n",
      "Epoch 5/100\n",
      "20/20 [==============================] - 0s 5ms/step - loss: 0.6949 - accuracy: 0.5256\n",
      "Epoch 6/100\n",
      "20/20 [==============================] - 0s 4ms/step - loss: 0.6928 - accuracy: 0.5256\n",
      "Epoch 7/100\n",
      "20/20 [==============================] - 0s 5ms/step - loss: 0.6752 - accuracy: 0.5256\n",
      "Epoch 8/100\n",
      "20/20 [==============================] - 0s 5ms/step - loss: 0.7007 - accuracy: 0.5577\n",
      "Epoch 9/100\n",
      "20/20 [==============================] - 0s 5ms/step - loss: 0.6953 - accuracy: 0.5321\n",
      "Epoch 10/100\n",
      "20/20 [==============================] - 0s 4ms/step - loss: 0.7025 - accuracy: 0.5513\n",
      "Epoch 11/100\n",
      "20/20 [==============================] - 0s 5ms/step - loss: 0.6888 - accuracy: 0.5064\n",
      "Epoch 12/100\n",
      "20/20 [==============================] - 0s 4ms/step - loss: 0.6716 - accuracy: 0.5385\n",
      "Epoch 13/100\n",
      "20/20 [==============================] - 0s 4ms/step - loss: 0.6505 - accuracy: 0.6154\n",
      "Epoch 14/100\n",
      "20/20 [==============================] - 0s 4ms/step - loss: 0.6525 - accuracy: 0.6474\n",
      "Epoch 15/100\n",
      "20/20 [==============================] - 0s 5ms/step - loss: 0.6924 - accuracy: 0.5513\n",
      "Epoch 16/100\n",
      "20/20 [==============================] - 0s 4ms/step - loss: 0.6616 - accuracy: 0.5962\n",
      "Epoch 17/100\n",
      "20/20 [==============================] - 0s 5ms/step - loss: 0.6808 - accuracy: 0.5256\n",
      "Epoch 18/100\n",
      "20/20 [==============================] - 0s 5ms/step - loss: 0.6741 - accuracy: 0.6090\n",
      "Epoch 19/100\n",
      "20/20 [==============================] - 0s 4ms/step - loss: 0.6578 - accuracy: 0.5897\n",
      "Epoch 20/100\n",
      "20/20 [==============================] - 0s 5ms/step - loss: 0.6363 - accuracy: 0.6667\n",
      "Epoch 21/100\n",
      "20/20 [==============================] - 0s 4ms/step - loss: 0.6833 - accuracy: 0.5897\n",
      "Epoch 22/100\n",
      "20/20 [==============================] - 0s 5ms/step - loss: 0.6528 - accuracy: 0.6154\n",
      "Epoch 23/100\n",
      "20/20 [==============================] - 0s 5ms/step - loss: 0.6381 - accuracy: 0.6282\n",
      "Epoch 24/100\n",
      "20/20 [==============================] - 0s 5ms/step - loss: 0.6354 - accuracy: 0.6538\n",
      "Epoch 25/100\n",
      "20/20 [==============================] - 0s 5ms/step - loss: 0.6442 - accuracy: 0.6282\n",
      "Epoch 26/100\n",
      "20/20 [==============================] - 0s 5ms/step - loss: 0.6271 - accuracy: 0.6346\n",
      "Epoch 27/100\n",
      "20/20 [==============================] - 0s 5ms/step - loss: 0.6284 - accuracy: 0.6538\n",
      "Epoch 28/100\n",
      "20/20 [==============================] - 0s 5ms/step - loss: 0.5885 - accuracy: 0.7051\n",
      "Epoch 29/100\n",
      "20/20 [==============================] - 0s 5ms/step - loss: 0.5822 - accuracy: 0.6859\n",
      "Epoch 30/100\n",
      "20/20 [==============================] - 0s 5ms/step - loss: 0.6079 - accuracy: 0.7051\n",
      "Epoch 31/100\n",
      "20/20 [==============================] - 0s 4ms/step - loss: 0.5782 - accuracy: 0.6859\n",
      "Epoch 32/100\n",
      "20/20 [==============================] - 0s 5ms/step - loss: 0.6242 - accuracy: 0.6603\n",
      "Epoch 33/100\n",
      "20/20 [==============================] - 0s 5ms/step - loss: 0.6465 - accuracy: 0.6859\n",
      "Epoch 34/100\n",
      "20/20 [==============================] - 0s 4ms/step - loss: 0.5723 - accuracy: 0.7500\n",
      "Epoch 35/100\n",
      "20/20 [==============================] - 0s 5ms/step - loss: 0.5664 - accuracy: 0.6923\n",
      "Epoch 36/100\n",
      "20/20 [==============================] - 0s 5ms/step - loss: 0.5758 - accuracy: 0.6923\n",
      "Epoch 37/100\n",
      "20/20 [==============================] - 0s 5ms/step - loss: 0.5480 - accuracy: 0.7372\n",
      "Epoch 38/100\n",
      "20/20 [==============================] - 0s 5ms/step - loss: 0.5550 - accuracy: 0.7244\n",
      "Epoch 39/100\n",
      "20/20 [==============================] - 0s 5ms/step - loss: 0.5550 - accuracy: 0.6795\n",
      "Epoch 40/100\n",
      "20/20 [==============================] - 0s 5ms/step - loss: 0.5807 - accuracy: 0.6795\n",
      "Epoch 41/100\n",
      "20/20 [==============================] - 0s 5ms/step - loss: 0.5366 - accuracy: 0.7436\n",
      "Epoch 42/100\n",
      "20/20 [==============================] - 0s 5ms/step - loss: 0.5243 - accuracy: 0.7372\n",
      "Epoch 43/100\n",
      "20/20 [==============================] - 0s 5ms/step - loss: 0.5558 - accuracy: 0.7179\n",
      "Epoch 44/100\n",
      "20/20 [==============================] - 0s 4ms/step - loss: 0.5113 - accuracy: 0.7179\n",
      "Epoch 45/100\n",
      "20/20 [==============================] - 0s 5ms/step - loss: 0.5410 - accuracy: 0.7821\n",
      "Epoch 46/100\n",
      "20/20 [==============================] - 0s 5ms/step - loss: 0.5520 - accuracy: 0.7244\n",
      "Epoch 47/100\n",
      "20/20 [==============================] - 0s 5ms/step - loss: 0.4928 - accuracy: 0.8013\n",
      "Epoch 48/100\n",
      "20/20 [==============================] - 0s 5ms/step - loss: 0.4826 - accuracy: 0.7372\n",
      "Epoch 49/100\n",
      "20/20 [==============================] - 0s 5ms/step - loss: 0.5192 - accuracy: 0.7436\n",
      "Epoch 50/100\n",
      "20/20 [==============================] - 0s 5ms/step - loss: 0.5319 - accuracy: 0.7564\n",
      "Epoch 51/100\n",
      "20/20 [==============================] - 0s 5ms/step - loss: 0.4696 - accuracy: 0.8141\n",
      "Epoch 52/100\n",
      "20/20 [==============================] - 0s 5ms/step - loss: 0.5132 - accuracy: 0.7500\n",
      "Epoch 53/100\n",
      "20/20 [==============================] - 0s 6ms/step - loss: 0.4803 - accuracy: 0.7756\n",
      "Epoch 54/100\n",
      "20/20 [==============================] - 0s 5ms/step - loss: 0.4629 - accuracy: 0.7756\n",
      "Epoch 55/100\n",
      "20/20 [==============================] - 0s 5ms/step - loss: 0.5065 - accuracy: 0.7244\n",
      "Epoch 56/100\n",
      "20/20 [==============================] - 0s 4ms/step - loss: 0.4823 - accuracy: 0.7821\n",
      "Epoch 57/100\n",
      "20/20 [==============================] - 0s 5ms/step - loss: 0.4447 - accuracy: 0.7821\n",
      "Epoch 58/100\n",
      "20/20 [==============================] - 0s 5ms/step - loss: 0.4958 - accuracy: 0.7949\n",
      "Epoch 59/100\n",
      "20/20 [==============================] - 0s 4ms/step - loss: 0.4526 - accuracy: 0.7885\n",
      "Epoch 60/100\n",
      "20/20 [==============================] - 0s 4ms/step - loss: 0.4152 - accuracy: 0.8590\n",
      "Epoch 61/100\n",
      "20/20 [==============================] - 0s 4ms/step - loss: 0.4759 - accuracy: 0.7692\n",
      "Epoch 62/100\n",
      "20/20 [==============================] - 0s 4ms/step - loss: 0.4936 - accuracy: 0.7885\n",
      "Epoch 63/100\n",
      "20/20 [==============================] - 0s 5ms/step - loss: 0.4553 - accuracy: 0.7949\n",
      "Epoch 64/100\n",
      "20/20 [==============================] - 0s 4ms/step - loss: 0.4515 - accuracy: 0.7949\n",
      "Epoch 65/100\n",
      "20/20 [==============================] - 0s 5ms/step - loss: 0.4027 - accuracy: 0.8269\n",
      "Epoch 66/100\n",
      "20/20 [==============================] - 0s 4ms/step - loss: 0.4067 - accuracy: 0.8333\n",
      "Epoch 67/100\n",
      "20/20 [==============================] - 0s 4ms/step - loss: 0.4585 - accuracy: 0.7628\n",
      "Epoch 68/100\n",
      "20/20 [==============================] - 0s 5ms/step - loss: 0.4562 - accuracy: 0.7756\n",
      "Epoch 69/100\n",
      "20/20 [==============================] - 0s 5ms/step - loss: 0.3923 - accuracy: 0.8462\n",
      "Epoch 70/100\n",
      "20/20 [==============================] - 0s 5ms/step - loss: 0.4335 - accuracy: 0.7949\n",
      "Epoch 71/100\n",
      "20/20 [==============================] - 0s 5ms/step - loss: 0.4109 - accuracy: 0.8141\n",
      "Epoch 72/100\n",
      "20/20 [==============================] - 0s 4ms/step - loss: 0.4460 - accuracy: 0.7628\n",
      "Epoch 73/100\n",
      "20/20 [==============================] - 0s 5ms/step - loss: 0.3969 - accuracy: 0.8397\n",
      "Epoch 74/100\n",
      "20/20 [==============================] - 0s 4ms/step - loss: 0.4226 - accuracy: 0.8013\n",
      "Epoch 75/100\n",
      "20/20 [==============================] - 0s 4ms/step - loss: 0.3485 - accuracy: 0.8269\n",
      "Epoch 76/100\n",
      "20/20 [==============================] - 0s 4ms/step - loss: 0.3909 - accuracy: 0.8590\n",
      "Epoch 77/100\n",
      "20/20 [==============================] - 0s 5ms/step - loss: 0.3362 - accuracy: 0.8462\n",
      "Epoch 78/100\n",
      "20/20 [==============================] - 0s 6ms/step - loss: 0.3875 - accuracy: 0.8397\n",
      "Epoch 79/100\n",
      "20/20 [==============================] - 0s 5ms/step - loss: 0.3709 - accuracy: 0.8590\n",
      "Epoch 80/100\n",
      "20/20 [==============================] - 0s 4ms/step - loss: 0.3637 - accuracy: 0.8333\n",
      "Epoch 81/100\n",
      "20/20 [==============================] - 0s 5ms/step - loss: 0.3587 - accuracy: 0.8333\n",
      "Epoch 82/100\n",
      "20/20 [==============================] - 0s 5ms/step - loss: 0.4083 - accuracy: 0.7885\n",
      "Epoch 83/100\n",
      "20/20 [==============================] - 0s 5ms/step - loss: 0.3573 - accuracy: 0.8590\n",
      "Epoch 84/100\n",
      "20/20 [==============================] - 0s 5ms/step - loss: 0.3939 - accuracy: 0.8205\n",
      "Epoch 85/100\n",
      "20/20 [==============================] - 0s 5ms/step - loss: 0.3756 - accuracy: 0.8526\n",
      "Epoch 86/100\n",
      "20/20 [==============================] - 0s 4ms/step - loss: 0.3619 - accuracy: 0.8333\n",
      "Epoch 87/100\n",
      "20/20 [==============================] - 0s 4ms/step - loss: 0.3381 - accuracy: 0.8590\n",
      "Epoch 88/100\n",
      "20/20 [==============================] - 0s 4ms/step - loss: 0.3783 - accuracy: 0.8462\n",
      "Epoch 89/100\n",
      "20/20 [==============================] - 0s 4ms/step - loss: 0.3335 - accuracy: 0.8654\n",
      "Epoch 90/100\n",
      "20/20 [==============================] - 0s 5ms/step - loss: 0.3616 - accuracy: 0.8718\n",
      "Epoch 91/100\n",
      "20/20 [==============================] - 0s 5ms/step - loss: 0.3495 - accuracy: 0.8654\n",
      "Epoch 92/100\n",
      "20/20 [==============================] - 0s 5ms/step - loss: 0.3951 - accuracy: 0.8205\n",
      "Epoch 93/100\n",
      "20/20 [==============================] - 0s 5ms/step - loss: 0.3655 - accuracy: 0.8333\n",
      "Epoch 94/100\n",
      "20/20 [==============================] - 0s 5ms/step - loss: 0.3003 - accuracy: 0.9038\n",
      "Epoch 95/100\n",
      "20/20 [==============================] - 0s 5ms/step - loss: 0.3871 - accuracy: 0.8397\n",
      "Epoch 96/100\n",
      "20/20 [==============================] - 0s 4ms/step - loss: 0.3654 - accuracy: 0.8462\n",
      "Epoch 97/100\n",
      "20/20 [==============================] - 0s 5ms/step - loss: 0.3333 - accuracy: 0.8526\n",
      "Epoch 98/100\n",
      "20/20 [==============================] - 0s 5ms/step - loss: 0.3446 - accuracy: 0.8462\n",
      "Epoch 99/100\n",
      "20/20 [==============================] - 0s 4ms/step - loss: 0.3377 - accuracy: 0.8397\n",
      "Epoch 100/100\n",
      "20/20 [==============================] - 0s 4ms/step - loss: 0.2989 - accuracy: 0.8654\n"
     ]
    },
    {
     "data": {
      "text/plain": "<keras.src.callbacks.History at 0x7f93fc1b9de0>"
     },
     "execution_count": 87,
     "metadata": {},
     "output_type": "execute_result"
    }
   ],
   "source": [
    "# Architecture of my model\n",
    "\n",
    "model_with_drop = keras.Sequential(\n",
    "    [\n",
    "        keras.layers.Dense(60, input_dim=60, activation='relu'),\n",
    "\n",
    "        keras.layers.Dropout(0.5), # Dropout\n",
    "\n",
    "        keras.layers.Dense(30, activation='relu'),\n",
    "\n",
    "        keras.layers.Dropout(0.5),  # Dropout\n",
    "\n",
    "        keras.layers.Dense(15, activation='relu'),\n",
    "        # Dropout\n",
    "        keras.layers.Dropout(0.5),\n",
    "\n",
    "        keras.layers.Dense(1, activation='sigmoid'),\n",
    "    ]\n",
    ")\n",
    "\n",
    "\n",
    "model_with_drop.compile(loss='binary_crossentropy', optimizer='adam', metrics=['accuracy'])\n",
    "\n",
    "model_with_drop.fit(X_train, y_train, epochs=100, batch_size=8)"
   ],
   "metadata": {
    "collapsed": false,
    "ExecuteTime": {
     "end_time": "2024-01-22T14:33:07.058342061Z",
     "start_time": "2024-01-22T14:32:55.808141311Z"
    }
   },
   "id": "8c3168e9d65f9ac4",
   "execution_count": 87
  },
  {
   "cell_type": "markdown",
   "source": [
    "On the Train set the accuracy here is less than the accuracy of model_no_drop"
   ],
   "metadata": {
    "collapsed": false
   },
   "id": "f56dddd156eaff19"
  },
  {
   "cell_type": "code",
   "outputs": [
    {
     "name": "stdout",
     "output_type": "stream",
     "text": [
      "2/2 [==============================] - 0s 5ms/step - loss: 0.3969 - accuracy: 0.7692\n"
     ]
    },
    {
     "data": {
      "text/plain": "[0.3969223201274872, 0.7692307829856873]"
     },
     "execution_count": 88,
     "metadata": {},
     "output_type": "execute_result"
    }
   ],
   "source": [
    "model_with_drop.evaluate(X_test, y_test)"
   ],
   "metadata": {
    "collapsed": false,
    "ExecuteTime": {
     "end_time": "2024-01-22T14:33:07.215994340Z",
     "start_time": "2024-01-22T14:33:07.048899166Z"
    }
   },
   "id": "c03705473c132736",
   "execution_count": 88
  },
  {
   "cell_type": "markdown",
   "source": [
    "Most of the time we will have better accuracy with dropout layers on Test dataset.<br> The Accuracy improved."
   ],
   "metadata": {
    "collapsed": false
   },
   "id": "23d231eff3589882"
  },
  {
   "cell_type": "code",
   "outputs": [
    {
     "name": "stdout",
     "output_type": "stream",
     "text": [
      "2/2 [==============================] - 0s 2ms/step\n",
      "old y_pred_with_drop: \n",
      " [1.2969624e-04 7.6408452e-01 9.2411840e-01 1.1391829e-02 9.9590129e-01]\n",
      "------------\n",
      "new y_pred_with_drop:\n",
      "              precision    recall  f1-score   support\n",
      "\n",
      "       False       0.74      0.85      0.79        27\n",
      "        True       0.81      0.68      0.74        25\n",
      "\n",
      "    accuracy                           0.77        52\n",
      "   macro avg       0.78      0.77      0.77        52\n",
      "weighted avg       0.77      0.77      0.77        52\n"
     ]
    }
   ],
   "source": [
    "y_pred_with_drop = model_with_drop.predict(X_test).reshape(-1)\n",
    "print(f'old y_pred_with_drop: \\n {y_pred_with_drop[:5]}')\n",
    "y_pred_with_drop = np.round(y_pred_with_drop) # round makes our prediction close to his original form which is or 0 or 1\n",
    "print(\"------------\\nnew y_pred_with_drop:\")\n",
    "y_pred_with_drop\n",
    "\n",
    "print(classification_report(y_test, y_pred_with_drop))"
   ],
   "metadata": {
    "collapsed": false,
    "ExecuteTime": {
     "end_time": "2024-01-22T14:52:42.404903784Z",
     "start_time": "2024-01-22T14:52:42.249006836Z"
    }
   },
   "id": "b6fc5d4541804e94",
   "execution_count": 90
  },
  {
   "cell_type": "code",
   "outputs": [
    {
     "data": {
      "text/plain": "<Axes: >"
     },
     "execution_count": 91,
     "metadata": {},
     "output_type": "execute_result"
    },
    {
     "data": {
      "text/plain": "<Figure size 640x480 with 2 Axes>",
      "image/png": "[encoded data removed]"
     },
     "metadata": {},
     "output_type": "display_data"
    }
   ],
   "source": [
    "seaborn.heatmap(confusion_matrix(y_test, y_pred_with_drop), annot=True, cmap='ocean')"
   ],
   "metadata": {
    "collapsed": false,
    "ExecuteTime": {
     "end_time": "2024-01-22T14:52:58.103066512Z",
     "start_time": "2024-01-22T14:52:57.873515484Z"
    }
   },
   "id": "6de33dcbce2ebccd",
   "execution_count": 91
  }
 ],
 "metadata": {
  "kernelspec": {
   "display_name": "Python 3",
   "language": "python",
   "name": "python3"
  },
  "language_info": {
   "codemirror_mode": {
    "name": "ipython",
    "version": 2
   },
   "file_extension": ".py",
   "mimetype": "text/x-python",
   "name": "python",
   "nbconvert_exporter": "python",
   "pygments_lexer": "ipython2",
   "version": "2.7.6"
  }
 },
 "nbformat": 4,
 "nbformat_minor": 5
}
