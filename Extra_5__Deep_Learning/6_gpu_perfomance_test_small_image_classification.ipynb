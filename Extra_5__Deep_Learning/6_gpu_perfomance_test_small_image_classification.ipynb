{
 "nbformat": 4,
 "nbformat_minor": 0,
 "metadata": {
  "colab": {
   "provenance": [],
   "gpuType": "T4",
   "authorship_tag": "ABX9TyOoyfB1IAz/OQjIbwKxMOMl"
  },
  "kernelspec": {
   "name": "python3",
   "language": "python",
   "display_name": "Python 3 (ipykernel)"
  },
  "language_info": {
   "name": "python"
  },
  "accelerator": "GPU"
 },
 "cells": [
  {
   "cell_type": "markdown",
   "source": [
    "# GPU Benchmarking\n",
    "\n",
    "\n",
    "IN this Notebook we will check the **CPU perfomance** on a deep learning model *during the training *VS **GPU performance** the Training"
   ],
   "metadata": {
    "id": "0NCj7hE7qJzo"
   }
  },
  {
   "cell_type": "code",
   "execution_count": 1,
   "metadata": {
    "id": "lcZSiInfpv66",
    "executionInfo": {
     "status": "ok",
     "timestamp": 1705935868688,
     "user_tz": -60,
     "elapsed": 5626,
     "user": {
      "displayName": "Didier Ukanda",
      "userId": "01015408761707207781"
     }
    },
    "ExecuteTime": {
     "end_time": "2024-01-22T15:17:45.492761400Z",
     "start_time": "2024-01-22T15:17:43.803552112Z"
    }
   },
   "outputs": [
    {
     "name": "stderr",
     "output_type": "stream",
     "text": [
      "2024-01-22 16:17:44.033046: E tensorflow/compiler/xla/stream_executor/cuda/cuda_dnn.cc:9342] Unable to register cuDNN factory: Attempting to register factory for plugin cuDNN when one has already been registered\n",
      "2024-01-22 16:17:44.033084: E tensorflow/compiler/xla/stream_executor/cuda/cuda_fft.cc:609] Unable to register cuFFT factory: Attempting to register factory for plugin cuFFT when one has already been registered\n",
      "2024-01-22 16:17:44.033103: E tensorflow/compiler/xla/stream_executor/cuda/cuda_blas.cc:1518] Unable to register cuBLAS factory: Attempting to register factory for plugin cuBLAS when one has already been registered\n",
      "2024-01-22 16:17:44.039114: I tensorflow/core/platform/cpu_feature_guard.cc:182] This TensorFlow binary is optimized to use available CPU instructions in performance-critical operations.\n",
      "To enable the following instructions: AVX2 FMA, in other operations, rebuild TensorFlow with the appropriate compiler flags.\n"
     ]
    }
   ],
   "source": [
    "import numpy as np\n",
    "import tensorflow as tf\n",
    "import matplotlib.pyplot as plt\n",
    "import warnings\n",
    "from tensorflow import keras\n",
    "\n",
    "warnings.filterwarnings('ignore')"
   ]
  },
  {
   "cell_type": "markdown",
   "source": [
    "**This command shows list of physical devices available for tensorflow. You can see GPU listed here. If you have NVIDIA GPU you need to install CUDA toolkit and cuDNN as per instruction on the webpage below. Without proper installation you will not see GPU in the list of devices.**\n",
    "\n",
    "[how to install tensorflow with GPU Cuda ==> Cudnn](https://shawnhymel.com/1961/how-to-install-tensorflow-with-gpu-support-on-windows/)"
   ],
   "metadata": {
    "id": "sW5O25qxrbkw"
   }
  },
  {
   "cell_type": "code",
   "source": [
    "tf.config.experimental.list_logical_devices()"
   ],
   "metadata": {
    "colab": {
     "base_uri": "https://localhost:8080/"
    },
    "id": "RpeaPKqOrL61",
    "executionInfo": {
     "status": "ok",
     "timestamp": 1705935871447,
     "user_tz": -60,
     "elapsed": 1150,
     "user": {
      "displayName": "Didier Ukanda",
      "userId": "01015408761707207781"
     }
    },
    "outputId": "4e9ad350-bfab-4150-f024-d0ff6d7779f9",
    "ExecuteTime": {
     "end_time": "2024-01-22T15:17:45.721703276Z",
     "start_time": "2024-01-22T15:17:45.710352275Z"
    }
   },
   "execution_count": 2,
   "outputs": [
    {
     "name": "stderr",
     "output_type": "stream",
     "text": [
      "2024-01-22 16:17:45.499373: I tensorflow/compiler/xla/stream_executor/cuda/cuda_gpu_executor.cc:894] successful NUMA node read from SysFS had negative value (-1), but there must be at least one NUMA node, so returning NUMA node zero. See more at https://github.com/torvalds/linux/blob/v6.0/Documentation/ABI/testing/sysfs-bus-pci#L344-L355\n",
      "2024-01-22 16:17:45.503582: I tensorflow/compiler/xla/stream_executor/cuda/cuda_gpu_executor.cc:894] successful NUMA node read from SysFS had negative value (-1), but there must be at least one NUMA node, so returning NUMA node zero. See more at https://github.com/torvalds/linux/blob/v6.0/Documentation/ABI/testing/sysfs-bus-pci#L344-L355\n",
      "2024-01-22 16:17:45.503779: I tensorflow/compiler/xla/stream_executor/cuda/cuda_gpu_executor.cc:894] successful NUMA node read from SysFS had negative value (-1), but there must be at least one NUMA node, so returning NUMA node zero. See more at https://github.com/torvalds/linux/blob/v6.0/Documentation/ABI/testing/sysfs-bus-pci#L344-L355\n",
      "2024-01-22 16:17:45.505082: I tensorflow/compiler/xla/stream_executor/cuda/cuda_gpu_executor.cc:894] successful NUMA node read from SysFS had negative value (-1), but there must be at least one NUMA node, so returning NUMA node zero. See more at https://github.com/torvalds/linux/blob/v6.0/Documentation/ABI/testing/sysfs-bus-pci#L344-L355\n",
      "2024-01-22 16:17:45.505263: I tensorflow/compiler/xla/stream_executor/cuda/cuda_gpu_executor.cc:894] successful NUMA node read from SysFS had negative value (-1), but there must be at least one NUMA node, so returning NUMA node zero. See more at https://github.com/torvalds/linux/blob/v6.0/Documentation/ABI/testing/sysfs-bus-pci#L344-L355\n",
      "2024-01-22 16:17:45.505410: I tensorflow/compiler/xla/stream_executor/cuda/cuda_gpu_executor.cc:894] successful NUMA node read from SysFS had negative value (-1), but there must be at least one NUMA node, so returning NUMA node zero. See more at https://github.com/torvalds/linux/blob/v6.0/Documentation/ABI/testing/sysfs-bus-pci#L344-L355\n",
      "2024-01-22 16:17:45.565420: I tensorflow/compiler/xla/stream_executor/cuda/cuda_gpu_executor.cc:894] successful NUMA node read from SysFS had negative value (-1), but there must be at least one NUMA node, so returning NUMA node zero. See more at https://github.com/torvalds/linux/blob/v6.0/Documentation/ABI/testing/sysfs-bus-pci#L344-L355\n",
      "2024-01-22 16:17:45.565626: I tensorflow/compiler/xla/stream_executor/cuda/cuda_gpu_executor.cc:894] successful NUMA node read from SysFS had negative value (-1), but there must be at least one NUMA node, so returning NUMA node zero. See more at https://github.com/torvalds/linux/blob/v6.0/Documentation/ABI/testing/sysfs-bus-pci#L344-L355\n",
      "2024-01-22 16:17:45.565813: I tensorflow/compiler/xla/stream_executor/cuda/cuda_gpu_executor.cc:894] successful NUMA node read from SysFS had negative value (-1), but there must be at least one NUMA node, so returning NUMA node zero. See more at https://github.com/torvalds/linux/blob/v6.0/Documentation/ABI/testing/sysfs-bus-pci#L344-L355\n",
      "2024-01-22 16:17:45.565921: I tensorflow/core/common_runtime/gpu/gpu_device.cc:1886] Created device /job:localhost/replica:0/task:0/device:GPU:0 with 4678 MB memory:  -> device: 0, name: NVIDIA GeForce RTX 3050, pci bus id: 0000:09:00.0, compute capability: 8.6\n"
     ]
    },
    {
     "data": {
      "text/plain": "[LogicalDevice(name='/device:CPU:0', device_type='CPU'),\n LogicalDevice(name='/device:GPU:0', device_type='GPU')]"
     },
     "execution_count": 2,
     "metadata": {},
     "output_type": "execute_result"
    }
   ]
  },
  {
   "cell_type": "code",
   "source": [
    "tf.config.experimental.list_physical_devices()"
   ],
   "metadata": {
    "colab": {
     "base_uri": "https://localhost:8080/"
    },
    "id": "coWYJM1vsmL1",
    "executionInfo": {
     "status": "ok",
     "timestamp": 1705935873646,
     "user_tz": -60,
     "elapsed": 223,
     "user": {
      "displayName": "Didier Ukanda",
      "userId": "01015408761707207781"
     }
    },
    "outputId": "3752afdc-c638-4557-cc27-9345bd28a819",
    "ExecuteTime": {
     "end_time": "2024-01-22T15:17:47.628340786Z",
     "start_time": "2024-01-22T15:17:47.615977386Z"
    }
   },
   "execution_count": 3,
   "outputs": [
    {
     "data": {
      "text/plain": "[PhysicalDevice(name='/physical_device:CPU:0', device_type='CPU'),\n PhysicalDevice(name='/physical_device:GPU:0', device_type='GPU')]"
     },
     "execution_count": 3,
     "metadata": {},
     "output_type": "execute_result"
    }
   ]
  },
  {
   "cell_type": "code",
   "source": [
    "print(f\"We could check physical device 1 by 1: {tf.config.list_physical_devices('GPU')}\")"
   ],
   "metadata": {
    "colab": {
     "base_uri": "https://localhost:8080/"
    },
    "id": "rOmDcPjctsJr",
    "executionInfo": {
     "status": "ok",
     "timestamp": 1705936118832,
     "user_tz": -60,
     "elapsed": 18,
     "user": {
      "displayName": "Didier Ukanda",
      "userId": "01015408761707207781"
     }
    },
    "outputId": "84a5a087-67f6-414e-e382-54b348bd8a7e",
    "ExecuteTime": {
     "end_time": "2024-01-22T15:17:49.532029380Z",
     "start_time": "2024-01-22T15:17:49.528564435Z"
    }
   },
   "execution_count": 4,
   "outputs": [
    {
     "name": "stdout",
     "output_type": "stream",
     "text": [
      "We could check physical device 1 by 1: [PhysicalDevice(name='/physical_device:GPU:0', device_type='GPU')]\n"
     ]
    }
   ]
  },
  {
   "cell_type": "code",
   "source": [
    "print(f\"tensorflow version: {tf.__version__}\")"
   ],
   "metadata": {
    "colab": {
     "base_uri": "https://localhost:8080/"
    },
    "id": "uyvJMCJJsq72",
    "executionInfo": {
     "status": "ok",
     "timestamp": 1705935930883,
     "user_tz": -60,
     "elapsed": 216,
     "user": {
      "displayName": "Didier Ukanda",
      "userId": "01015408761707207781"
     }
    },
    "outputId": "3241bbbb-3c28-4b0c-c5b8-e43033461720",
    "ExecuteTime": {
     "end_time": "2024-01-22T15:18:14.139866455Z",
     "start_time": "2024-01-22T15:18:14.095743774Z"
    }
   },
   "execution_count": 5,
   "outputs": [
    {
     "name": "stdout",
     "output_type": "stream",
     "text": [
      "tensorflow version: 2.14.0\n"
     ]
    }
   ]
  },
  {
   "cell_type": "code",
   "source": [
    "print(f\"Is the machine has a cuda GPU built in : {tf.test.is_built_with_cuda()}\")"
   ],
   "metadata": {
    "colab": {
     "base_uri": "https://localhost:8080/"
    },
    "id": "5NzqXIEos_Rs",
    "executionInfo": {
     "status": "ok",
     "timestamp": 1705936058832,
     "user_tz": -60,
     "elapsed": 209,
     "user": {
      "displayName": "Didier Ukanda",
      "userId": "01015408761707207781"
     }
    },
    "outputId": "d4095d75-5283-49e0-f03e-7355c38b66df",
    "ExecuteTime": {
     "end_time": "2024-01-22T15:18:15.271587871Z",
     "start_time": "2024-01-22T15:18:15.265370315Z"
    }
   },
   "execution_count": 6,
   "outputs": [
    {
     "name": "stdout",
     "output_type": "stream",
     "text": [
      "Is the machine has a cuda GPU built in : True\n"
     ]
    }
   ]
  },
  {
   "cell_type": "markdown",
   "source": [
    "### Load Dataset\n",
    "\n",
    "The CIFAR-10 dataset consists of 60000 32x32 colour images in 10 classes, with 6000 images per class. There are 50000 training images and 10000 test images.\n",
    "\n",
    "<img src=\"https://media5.datahacker.rs/2022/09/Picture10.jpg\">"
   ],
   "metadata": {
    "id": "QC2jRCWYt7EO"
   }
  },
  {
   "cell_type": "code",
   "source": [
    "(X_train, y_train),(X_test, y_test) = tf.keras.datasets.cifar10.load_data()"
   ],
   "metadata": {
    "id": "6ZBLJS9ztaw3",
    "ExecuteTime": {
     "end_time": "2024-01-22T15:25:43.845148835Z",
     "start_time": "2024-01-22T15:25:43.394655415Z"
    }
   },
   "execution_count": 8,
   "outputs": []
  },
  {
   "cell_type": "code",
   "outputs": [
    {
     "data": {
      "text/plain": "(50000, 32, 32, 3)"
     },
     "execution_count": 9,
     "metadata": {},
     "output_type": "execute_result"
    }
   ],
   "source": [
    "X_train.shape"
   ],
   "metadata": {
    "collapsed": false,
    "ExecuteTime": {
     "end_time": "2024-01-22T15:25:48.989688734Z",
     "start_time": "2024-01-22T15:25:48.982830136Z"
    }
   },
   "execution_count": 9
  },
  {
   "cell_type": "code",
   "outputs": [
    {
     "data": {
      "text/plain": "(50000, 1)"
     },
     "execution_count": 10,
     "metadata": {},
     "output_type": "execute_result"
    }
   ],
   "source": [
    "y_train.shape"
   ],
   "metadata": {
    "collapsed": false,
    "ExecuteTime": {
     "end_time": "2024-01-22T15:25:57.106271220Z",
     "start_time": "2024-01-22T15:25:57.089428529Z"
    }
   },
   "execution_count": 10
  },
  {
   "cell_type": "markdown",
   "source": [
    "Visualisation of image"
   ],
   "metadata": {
    "collapsed": false
   }
  },
  {
   "cell_type": "code",
   "outputs": [],
   "source": [
    "def plot_image(idx):\n",
    "    plt.figure(figsize=(10,1))\n",
    "    plt.imshow(X_train[idx])"
   ],
   "metadata": {
    "collapsed": false,
    "ExecuteTime": {
     "end_time": "2024-01-22T15:28:43.300325683Z",
     "start_time": "2024-01-22T15:28:43.256590697Z"
    }
   },
   "execution_count": 17
  },
  {
   "cell_type": "code",
   "outputs": [
    {
     "data": {
      "text/plain": "<Figure size 1000x100 with 1 Axes>",
      "image/png": "[encoded data removed]"
     },
     "metadata": {},
     "output_type": "display_data"
    }
   ],
   "source": [
    "plot_image(56)"
   ],
   "metadata": {
    "collapsed": false,
    "ExecuteTime": {
     "end_time": "2024-01-22T15:29:01.940684337Z",
     "start_time": "2024-01-22T15:29:01.813534620Z"
    }
   },
   "execution_count": 19
  },
  {
   "cell_type": "code",
   "outputs": [],
   "source": [
    "classes = [\"airplane\",\"automobile\",\"bird\",\"cat\",\"deer\",\"dog\",\"frog\",\"horse\",\"ship\",\"truck\"]"
   ],
   "metadata": {
    "collapsed": false,
    "ExecuteTime": {
     "end_time": "2024-01-22T15:41:54.815825819Z",
     "start_time": "2024-01-22T15:41:54.771928794Z"
    }
   },
   "execution_count": 20
  },
  {
   "cell_type": "code",
   "outputs": [
    {
     "data": {
      "text/plain": "9"
     },
     "execution_count": 21,
     "metadata": {},
     "output_type": "execute_result"
    }
   ],
   "source": [
    "y_train[102][0]"
   ],
   "metadata": {
    "collapsed": false,
    "ExecuteTime": {
     "end_time": "2024-01-22T15:42:01.079836962Z",
     "start_time": "2024-01-22T15:42:01.060436853Z"
    }
   },
   "execution_count": 21
  },
  {
   "cell_type": "code",
   "outputs": [
    {
     "data": {
      "text/plain": "'truck'"
     },
     "execution_count": 22,
     "metadata": {},
     "output_type": "execute_result"
    }
   ],
   "source": [
    "classes[y_train[102][0]]"
   ],
   "metadata": {
    "collapsed": false,
    "ExecuteTime": {
     "end_time": "2024-01-22T15:42:12.788744247Z",
     "start_time": "2024-01-22T15:42:12.762824650Z"
    }
   },
   "execution_count": 22
  },
  {
   "cell_type": "code",
   "outputs": [
    {
     "data": {
      "text/plain": "(50000, 1)"
     },
     "execution_count": 23,
     "metadata": {},
     "output_type": "execute_result"
    }
   ],
   "source": [
    "y_train.shape"
   ],
   "metadata": {
    "collapsed": false,
    "ExecuteTime": {
     "end_time": "2024-01-22T15:42:19.975932627Z",
     "start_time": "2024-01-22T15:42:19.934443304Z"
    }
   },
   "execution_count": 23
  },
  {
   "cell_type": "code",
   "outputs": [
    {
     "data": {
      "text/plain": "(10000, 1)"
     },
     "execution_count": 24,
     "metadata": {},
     "output_type": "execute_result"
    }
   ],
   "source": [
    "y_test.shape"
   ],
   "metadata": {
    "collapsed": false,
    "ExecuteTime": {
     "end_time": "2024-01-22T15:42:24.647254585Z",
     "start_time": "2024-01-22T15:42:24.640961347Z"
    }
   },
   "execution_count": 24
  },
  {
   "cell_type": "code",
   "outputs": [],
   "source": [
    "# Preprocessing image\n",
    "\n",
    "X_train_scaled = X_train.astype('float32')\n",
    "X_test_scaled = X_test.astype('float32')\n",
    "X_train_scaled /= 255\n",
    "X_test_scaled /= 255"
   ],
   "metadata": {
    "collapsed": false,
    "ExecuteTime": {
     "end_time": "2024-01-22T15:42:29.927868825Z",
     "start_time": "2024-01-22T15:42:29.668835990Z"
    }
   },
   "execution_count": 25
  },
  {
   "cell_type": "code",
   "outputs": [],
   "source": [
    "from keras.utils import to_categorical\n",
    "\n",
    "### Convert `y_train_raw` and `y_test_raw` to binary class matrices\n",
    "### ENTER YOUR CODE HERE ### (2 lines)\n",
    "y_train_categorical = to_categorical(y_train, num_classes=10,dtype='float')\n",
    "y_test_categorical = to_categorical(y_test, num_classes=10,dtype='float')"
   ],
   "metadata": {
    "collapsed": false,
    "ExecuteTime": {
     "end_time": "2024-01-22T15:42:37.345979029Z",
     "start_time": "2024-01-22T15:42:37.316932284Z"
    }
   },
   "execution_count": 26
  },
  {
   "cell_type": "code",
   "outputs": [
    {
     "data": {
      "text/plain": "array([[6],\n       [9],\n       [9],\n       [4],\n       [1]], dtype=uint8)"
     },
     "execution_count": 27,
     "metadata": {},
     "output_type": "execute_result"
    }
   ],
   "source": [
    "y_train[0:5]"
   ],
   "metadata": {
    "collapsed": false,
    "ExecuteTime": {
     "end_time": "2024-01-22T15:42:44.115865505Z",
     "start_time": "2024-01-22T15:42:44.068386238Z"
    }
   },
   "execution_count": 27
  },
  {
   "cell_type": "code",
   "outputs": [
    {
     "data": {
      "text/plain": "array([[0., 0., 0., 0., 0., 0., 1., 0., 0., 0.],\n       [0., 0., 0., 0., 0., 0., 0., 0., 0., 1.],\n       [0., 0., 0., 0., 0., 0., 0., 0., 0., 1.],\n       [0., 0., 0., 0., 1., 0., 0., 0., 0., 0.],\n       [0., 1., 0., 0., 0., 0., 0., 0., 0., 0.]])"
     },
     "execution_count": 28,
     "metadata": {},
     "output_type": "execute_result"
    }
   ],
   "source": [
    "y_train_categorical[0:5]"
   ],
   "metadata": {
    "collapsed": false,
    "ExecuteTime": {
     "end_time": "2024-01-22T15:43:01.032037895Z",
     "start_time": "2024-01-22T15:43:01.016012583Z"
    }
   },
   "execution_count": 28
  },
  {
   "cell_type": "code",
   "outputs": [
    {
     "data": {
      "text/plain": "(32, 32, 3)"
     },
     "execution_count": 29,
     "metadata": {},
     "output_type": "execute_result"
    }
   ],
   "source": [
    "# The shape of one picture\n",
    "X_test[0].shape"
   ],
   "metadata": {
    "collapsed": false,
    "ExecuteTime": {
     "end_time": "2024-01-22T15:43:44.168853062Z",
     "start_time": "2024-01-22T15:43:44.119614949Z"
    }
   },
   "execution_count": 29
  },
  {
   "cell_type": "markdown",
   "source": [
    "### Building The Model"
   ],
   "metadata": {
    "collapsed": false
   }
  },
  {
   "cell_type": "code",
   "outputs": [
    {
     "name": "stderr",
     "output_type": "stream",
     "text": [
      "2024-01-22 16:47:00.990880: W tensorflow/tsl/framework/cpu_allocator_impl.cc:83] Allocation of 614400000 exceeds 10% of free system memory.\n",
      "2024-01-22 16:47:01.369145: W tensorflow/tsl/framework/cpu_allocator_impl.cc:83] Allocation of 614400000 exceeds 10% of free system memory.\n",
      "2024-01-22 16:47:02.040997: I tensorflow/tsl/platform/default/subprocess.cc:304] Start cannot spawn child process: No such file or directory\n",
      "2024-01-22 16:47:02.120715: I tensorflow/compiler/xla/service/service.cc:168] XLA service 0x7efa580454e0 initialized for platform CUDA (this does not guarantee that XLA will be used). Devices:\n",
      "2024-01-22 16:47:02.120741: I tensorflow/compiler/xla/service/service.cc:176]   StreamExecutor device (0): NVIDIA GeForce RTX 3050, Compute Capability 8.6\n",
      "2024-01-22 16:47:02.126972: I tensorflow/compiler/xla/stream_executor/cuda/cuda_dnn.cc:442] Loaded cuDNN version 8700\n",
      "2024-01-22 16:47:02.163907: I ./tensorflow/compiler/jit/device_compiler.h:186] Compiled cluster using XLA!  This line is logged at most once for the lifetime of the process.\n"
     ]
    },
    {
     "name": "stdout",
     "output_type": "stream",
     "text": [
      "1563/1563 [==============================] - 10s 6ms/step - loss: 1.8093 - accuracy: 0.3545\n"
     ]
    },
    {
     "data": {
      "text/plain": "<keras.src.callbacks.History at 0x7efabc1f7550>"
     },
     "execution_count": 30,
     "metadata": {},
     "output_type": "execute_result"
    }
   ],
   "source": [
    "model = keras.Sequential([\n",
    "    keras.layers.Flatten(input_shape=(32,32,3)),\n",
    "    keras.layers.Dense(3000, activation='relu'),\n",
    "    keras.layers.Dense(1000, activation='relu'),\n",
    "    keras.layers.Dense(10, activation='softmax')\n",
    "])\n",
    "\n",
    "model.compile(\n",
    "    optimizer='SGD',\n",
    "    loss='categorical_crossentropy',\n",
    "    metrics=['accuracy']\n",
    ")\n",
    "\n",
    "model.fit(X_train_scaled, y_train_categorical, epochs=1)"
   ],
   "metadata": {
    "collapsed": false,
    "ExecuteTime": {
     "end_time": "2024-01-22T15:47:11.874858988Z",
     "start_time": "2024-01-22T15:47:00.121649149Z"
    }
   },
   "execution_count": 30
  },
  {
   "cell_type": "code",
   "outputs": [
    {
     "name": "stdout",
     "output_type": "stream",
     "text": [
      "313/313 [==============================] - 0s 2ms/step\n"
     ]
    },
    {
     "data": {
      "text/plain": "array([3, 8, 8, ..., 5, 6, 7])"
     },
     "execution_count": 34,
     "metadata": {},
     "output_type": "execute_result"
    }
   ],
   "source": [
    "# let's make a prediction\n",
    "\n",
    "np.argmax(model.predict(X_test_scaled), axis=1)"
   ],
   "metadata": {
    "collapsed": false,
    "ExecuteTime": {
     "end_time": "2024-01-22T15:49:06.601470144Z",
     "start_time": "2024-01-22T15:49:05.791399410Z"
    }
   },
   "execution_count": 34
  },
  {
   "cell_type": "code",
   "outputs": [],
   "source": [
    "def get_model():\n",
    "    model = keras.Sequential([\n",
    "        keras.layers.Flatten(input_shape=(32,32,3)),\n",
    "        keras.layers.Dense(3000, activation='relu'),\n",
    "        keras.layers.Dense(1000, activation='relu'),\n",
    "        keras.layers.Dense(10, activation='softmax')\n",
    "    ])\n",
    "\n",
    "    model.compile(\n",
    "        optimizer='SGD',\n",
    "        loss='categorical_crossentropy',\n",
    "        metrics=['accuracy']\n",
    "    )\n",
    "    \n",
    "    #model.fit(X_train_scaled, y_train_categorical, epochs=1)\n",
    "    \n",
    "    return model"
   ],
   "metadata": {
    "collapsed": false,
    "ExecuteTime": {
     "end_time": "2024-01-22T15:53:33.583344692Z",
     "start_time": "2024-01-22T15:53:33.576783027Z"
    }
   },
   "execution_count": 37
  },
  {
   "cell_type": "code",
   "outputs": [
    {
     "name": "stdout",
     "output_type": "stream",
     "text": [
      "Epoch 1/10\n",
      "1563/1563 [==============================] - 64s 41ms/step - loss: 1.8109 - accuracy: 0.3550\n",
      "Epoch 2/10\n",
      "1563/1563 [==============================] - 64s 41ms/step - loss: 1.6239 - accuracy: 0.4284\n",
      "Epoch 3/10\n",
      "1563/1563 [==============================] - 64s 41ms/step - loss: 1.5408 - accuracy: 0.4561\n",
      "Epoch 4/10\n",
      "1563/1563 [==============================] - 64s 41ms/step - loss: 1.4805 - accuracy: 0.4765\n",
      "Epoch 5/10\n",
      "1563/1563 [==============================] - 63s 41ms/step - loss: 1.4328 - accuracy: 0.4930\n",
      "Epoch 6/10\n",
      " 853/1563 [===============>..............] - ETA: 29s - loss: 1.3889 - accuracy: 0.5129"
     ]
    },
    {
     "name": "stderr",
     "output_type": "stream",
     "text": [
      "2024-01-22 17:03:00.759722: E ./tensorflow/compiler/xla/stream_executor/stream_executor_internal.h:124] SetPriority unimplemented for this stream.\n"
     ]
    },
    {
     "name": "stdout",
     "output_type": "stream",
     "text": [
      "1563/1563 [==============================] - 64s 41ms/step - loss: 1.3899 - accuracy: 0.5124\n",
      "Epoch 7/10\n",
      "1563/1563 [==============================] - 63s 40ms/step - loss: 1.3508 - accuracy: 0.5273\n",
      "Epoch 8/10\n",
      "1563/1563 [==============================] - 63s 40ms/step - loss: 1.3165 - accuracy: 0.5378\n",
      "Epoch 9/10\n",
      "1563/1563 [==============================] - 64s 41ms/step - loss: 1.2829 - accuracy: 0.5509\n",
      "Epoch 10/10\n",
      "1563/1563 [==============================] - 64s 41ms/step - loss: 1.2536 - accuracy: 0.5600\n",
      "10min 38s ± 0 ns per loop (mean ± std. dev. of 1 run, 1 loop each)\n"
     ]
    }
   ],
   "source": [
    "%%timeit -n1 -r1\n",
    "with tf.device('/CPU:0'):\n",
    "    cpu_model = get_model()\n",
    "    cpu_model.fit(X_train_scaled, y_train_categorical, epochs=10)"
   ],
   "metadata": {
    "collapsed": false,
    "ExecuteTime": {
     "end_time": "2024-01-22T16:07:43.679971271Z",
     "start_time": "2024-01-22T15:57:05.117574149Z"
    }
   },
   "execution_count": 40
  },
  {
   "cell_type": "code",
   "outputs": [
    {
     "name": "stdout",
     "output_type": "stream",
     "text": [
      "Epoch 1/10\n",
      "1563/1563 [==============================] - 10s 6ms/step - loss: 1.8157 - accuracy: 0.3528\n",
      "Epoch 2/10\n",
      "1563/1563 [==============================] - 10s 6ms/step - loss: 1.6261 - accuracy: 0.4253\n",
      "Epoch 3/10\n",
      "1563/1563 [==============================] - 10s 6ms/step - loss: 1.5394 - accuracy: 0.4579\n",
      "Epoch 4/10\n",
      "1563/1563 [==============================] - 10s 6ms/step - loss: 1.4815 - accuracy: 0.4803\n",
      "Epoch 5/10\n",
      "1563/1563 [==============================] - 10s 6ms/step - loss: 1.4338 - accuracy: 0.4953\n",
      "Epoch 6/10\n",
      "1563/1563 [==============================] - 9s 6ms/step - loss: 1.3888 - accuracy: 0.5115\n",
      "Epoch 7/10\n",
      "1563/1563 [==============================] - 9s 6ms/step - loss: 1.3509 - accuracy: 0.5262\n",
      "Epoch 8/10\n",
      "1563/1563 [==============================] - 9s 6ms/step - loss: 1.3167 - accuracy: 0.5378\n",
      "Epoch 9/10\n",
      "1563/1563 [==============================] - 9s 6ms/step - loss: 1.2844 - accuracy: 0.5487\n",
      "Epoch 10/10\n",
      "1563/1563 [==============================] - 9s 6ms/step - loss: 1.2520 - accuracy: 0.5593\n",
      "1min 36s ± 0 ns per loop (mean ± std. dev. of 1 run, 1 loop each)\n"
     ]
    }
   ],
   "source": [
    "%%timeit -n1 -r1\n",
    "with tf.device('/GPU:0'):\n",
    "    cpu_model = get_model()\n",
    "    cpu_model.fit(X_train_scaled, y_train_categorical, epochs=10)"
   ],
   "metadata": {
    "collapsed": false,
    "ExecuteTime": {
     "end_time": "2024-01-22T16:09:20.356879070Z",
     "start_time": "2024-01-22T16:07:43.685057597Z"
    }
   },
   "execution_count": 41
  },
  {
   "cell_type": "markdown",
   "source": [
    "here is the summary of the performances with GPU and without:\n",
    "\n",
    "| Epoch | CPU      | GPU     |\n",
    "|-------|----------|---------|\n",
    "| 10    | 10min38s | 1min36s |"
   ],
   "metadata": {
    "collapsed": false
   }
  },
  {
   "cell_type": "code",
   "outputs": [],
   "source": [],
   "metadata": {
    "collapsed": false
   }
  }
 ]
}
