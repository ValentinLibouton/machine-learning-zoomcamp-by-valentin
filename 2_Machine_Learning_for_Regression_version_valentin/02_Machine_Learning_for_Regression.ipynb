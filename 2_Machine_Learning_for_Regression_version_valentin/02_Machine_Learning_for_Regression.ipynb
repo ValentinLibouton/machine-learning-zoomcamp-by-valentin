{
 "cells": [
  {
   "cell_type": "raw",
   "source": [
    "a#%% md\n",
    "# 2. Machine Learning for Regression "
   ],
   "metadata": {
    "collapsed": false
   },
   "id": "4b2fc2067944c156"
  },
  {
   "cell_type": "code",
   "outputs": [],
   "source": [
    "import pandas as pd\n",
    "import numpy as np"
   ],
   "metadata": {
    "collapsed": false,
    "ExecuteTime": {
     "end_time": "2024-01-02T20:49:04.682845803Z",
     "start_time": "2024-01-02T20:49:02.888901693Z"
    }
   },
   "id": "91ee32af353d3784",
   "execution_count": 1
  },
  {
   "cell_type": "markdown",
   "source": [
    "## 2.2 Data preparation"
   ],
   "metadata": {
    "collapsed": false
   },
   "id": "74e3863664fd0b31"
  },
  {
   "cell_type": "code",
   "outputs": [
    {
     "name": "stdout",
     "output_type": "stream",
     "text": [
      "/bin/bash: warning: setlocale: LC_ALL: cannot change locale (en_US.UTF-8)\r\n",
      "--2024-01-02 21:49:03--  https://raw.githubusercontent.com/alexeygrigorev/mlbookcamp-code/master/chapter-02-car-price/data.csv\r\n",
      "Resolving raw.githubusercontent.com (raw.githubusercontent.com)... failed: Name or service not known.\r\n",
      "wget: unable to resolve host address 'raw.githubusercontent.com'\r\n"
     ]
    }
   ],
   "source": [
    "data = 'https://raw.githubusercontent.com/alexeygrigorev/mlbookcamp-code/master/chapter-02-car-price/data.csv'\n",
    "!wget $data"
   ],
   "metadata": {
    "collapsed": false,
    "ExecuteTime": {
     "end_time": "2024-01-02T20:49:05.634781358Z",
     "start_time": "2024-01-02T20:49:02.921730174Z"
    }
   },
   "id": "d781b2d501661a53",
   "execution_count": 2
  },
  {
   "cell_type": "code",
   "outputs": [],
   "source": [
    "df = pd.read_csv('data.csv')"
   ],
   "metadata": {
    "collapsed": false,
    "ExecuteTime": {
     "end_time": "2024-01-02T20:49:06.092187969Z",
     "start_time": "2024-01-02T20:49:03.746881766Z"
    }
   },
   "id": "17d7013f5e4a8830",
   "execution_count": 3
  },
  {
   "cell_type": "code",
   "outputs": [],
   "source": [
    "df.columns = df.columns.str.lower().str.replace(' ', '_')"
   ],
   "metadata": {
    "collapsed": false,
    "ExecuteTime": {
     "end_time": "2024-01-02T20:49:08.632050615Z",
     "start_time": "2024-01-02T20:49:05.659073358Z"
    }
   },
   "id": "798e628c8760a6fb",
   "execution_count": 4
  },
  {
   "cell_type": "markdown",
   "source": [
    "Toutes les colonnes de type string"
   ],
   "metadata": {
    "collapsed": false
   },
   "id": "e5212b8353cead18"
  },
  {
   "cell_type": "code",
   "outputs": [
    {
     "data": {
      "text/plain": "['make',\n 'model',\n 'engine_fuel_type',\n 'transmission_type',\n 'driven_wheels',\n 'market_category',\n 'vehicle_size',\n 'vehicle_style']"
     },
     "execution_count": 5,
     "metadata": {},
     "output_type": "execute_result"
    }
   ],
   "source": [
    "strings = list(df.dtypes[df.dtypes == 'object'].index)\n",
    "strings"
   ],
   "metadata": {
    "collapsed": false,
    "ExecuteTime": {
     "end_time": "2024-01-02T20:49:10.364175744Z",
     "start_time": "2024-01-02T20:49:08.534940652Z"
    }
   },
   "id": "f627a827f7b4b000",
   "execution_count": 5
  },
  {
   "cell_type": "code",
   "outputs": [
    {
     "data": {
      "text/plain": "['make',\n 'model',\n 'engine_fuel_type',\n 'transmission_type',\n 'driven_wheels',\n 'market_category',\n 'vehicle_size',\n 'vehicle_style']"
     },
     "execution_count": 6,
     "metadata": {},
     "output_type": "execute_result"
    }
   ],
   "source": [
    "# ou encore:\n",
    "[col for col in df.columns if df[col].dtype == 'object']"
   ],
   "metadata": {
    "collapsed": false,
    "ExecuteTime": {
     "end_time": "2024-01-02T20:49:12.370287854Z",
     "start_time": "2024-01-02T20:49:10.284391633Z"
    }
   },
   "id": "dbb9cc625c2eff0e",
   "execution_count": 6
  },
  {
   "cell_type": "code",
   "outputs": [],
   "source": [
    "for col in strings:\n",
    "    df[col] = df[col].str.lower().str.replace(' ', '_')"
   ],
   "metadata": {
    "collapsed": false,
    "ExecuteTime": {
     "end_time": "2024-01-02T20:49:13.702294890Z",
     "start_time": "2024-01-02T20:49:11.640041280Z"
    }
   },
   "id": "a7eec5dccc494c67",
   "execution_count": 7
  },
  {
   "cell_type": "code",
   "outputs": [
    {
     "data": {
      "text/plain": "  make       model  year             engine_fuel_type  engine_hp  \\\n0  bmw  1_series_m  2011  premium_unleaded_(required)      335.0   \n1  bmw    1_series  2011  premium_unleaded_(required)      300.0   \n2  bmw    1_series  2011  premium_unleaded_(required)      300.0   \n3  bmw    1_series  2011  premium_unleaded_(required)      230.0   \n4  bmw    1_series  2011  premium_unleaded_(required)      230.0   \n\n   engine_cylinders transmission_type     driven_wheels  number_of_doors  \\\n0               6.0            manual  rear_wheel_drive              2.0   \n1               6.0            manual  rear_wheel_drive              2.0   \n2               6.0            manual  rear_wheel_drive              2.0   \n3               6.0            manual  rear_wheel_drive              2.0   \n4               6.0            manual  rear_wheel_drive              2.0   \n\n                         market_category vehicle_size vehicle_style  \\\n0  factory_tuner,luxury,high-performance      compact         coupe   \n1                     luxury,performance      compact   convertible   \n2                luxury,high-performance      compact         coupe   \n3                     luxury,performance      compact         coupe   \n4                                 luxury      compact   convertible   \n\n   highway_mpg  city_mpg  popularity   msrp  \n0           26        19        3916  46135  \n1           28        19        3916  40650  \n2           28        20        3916  36350  \n3           28        18        3916  29450  \n4           28        18        3916  34500  ",
      "text/html": "<div>\n<style scoped>\n    .dataframe tbody tr th:only-of-type {\n        vertical-align: middle;\n    }\n\n    .dataframe tbody tr th {\n        vertical-align: top;\n    }\n\n    .dataframe thead th {\n        text-align: right;\n    }\n</style>\n<table border=\"1\" class=\"dataframe\">\n  <thead>\n    <tr style=\"text-align: right;\">\n      <th></th>\n      <th>make</th>\n      <th>model</th>\n      <th>year</th>\n      <th>engine_fuel_type</th>\n      <th>engine_hp</th>\n      <th>engine_cylinders</th>\n      <th>transmission_type</th>\n      <th>driven_wheels</th>\n      <th>number_of_doors</th>\n      <th>market_category</th>\n      <th>vehicle_size</th>\n      <th>vehicle_style</th>\n      <th>highway_mpg</th>\n      <th>city_mpg</th>\n      <th>popularity</th>\n      <th>msrp</th>\n    </tr>\n  </thead>\n  <tbody>\n    <tr>\n      <th>0</th>\n      <td>bmw</td>\n      <td>1_series_m</td>\n      <td>2011</td>\n      <td>premium_unleaded_(required)</td>\n      <td>335.0</td>\n      <td>6.0</td>\n      <td>manual</td>\n      <td>rear_wheel_drive</td>\n      <td>2.0</td>\n      <td>factory_tuner,luxury,high-performance</td>\n      <td>compact</td>\n      <td>coupe</td>\n      <td>26</td>\n      <td>19</td>\n      <td>3916</td>\n      <td>46135</td>\n    </tr>\n    <tr>\n      <th>1</th>\n      <td>bmw</td>\n      <td>1_series</td>\n      <td>2011</td>\n      <td>premium_unleaded_(required)</td>\n      <td>300.0</td>\n      <td>6.0</td>\n      <td>manual</td>\n      <td>rear_wheel_drive</td>\n      <td>2.0</td>\n      <td>luxury,performance</td>\n      <td>compact</td>\n      <td>convertible</td>\n      <td>28</td>\n      <td>19</td>\n      <td>3916</td>\n      <td>40650</td>\n    </tr>\n    <tr>\n      <th>2</th>\n      <td>bmw</td>\n      <td>1_series</td>\n      <td>2011</td>\n      <td>premium_unleaded_(required)</td>\n      <td>300.0</td>\n      <td>6.0</td>\n      <td>manual</td>\n      <td>rear_wheel_drive</td>\n      <td>2.0</td>\n      <td>luxury,high-performance</td>\n      <td>compact</td>\n      <td>coupe</td>\n      <td>28</td>\n      <td>20</td>\n      <td>3916</td>\n      <td>36350</td>\n    </tr>\n    <tr>\n      <th>3</th>\n      <td>bmw</td>\n      <td>1_series</td>\n      <td>2011</td>\n      <td>premium_unleaded_(required)</td>\n      <td>230.0</td>\n      <td>6.0</td>\n      <td>manual</td>\n      <td>rear_wheel_drive</td>\n      <td>2.0</td>\n      <td>luxury,performance</td>\n      <td>compact</td>\n      <td>coupe</td>\n      <td>28</td>\n      <td>18</td>\n      <td>3916</td>\n      <td>29450</td>\n    </tr>\n    <tr>\n      <th>4</th>\n      <td>bmw</td>\n      <td>1_series</td>\n      <td>2011</td>\n      <td>premium_unleaded_(required)</td>\n      <td>230.0</td>\n      <td>6.0</td>\n      <td>manual</td>\n      <td>rear_wheel_drive</td>\n      <td>2.0</td>\n      <td>luxury</td>\n      <td>compact</td>\n      <td>convertible</td>\n      <td>28</td>\n      <td>18</td>\n      <td>3916</td>\n      <td>34500</td>\n    </tr>\n  </tbody>\n</table>\n</div>"
     },
     "execution_count": 8,
     "metadata": {},
     "output_type": "execute_result"
    }
   ],
   "source": [
    "df.head()"
   ],
   "metadata": {
    "collapsed": false,
    "ExecuteTime": {
     "end_time": "2024-01-02T20:49:15.423955796Z",
     "start_time": "2024-01-02T20:49:13.306992316Z"
    }
   },
   "id": "3236c4206a472a91",
   "execution_count": 8
  },
  {
   "cell_type": "markdown",
   "source": [
    "## 2.3 Exploratory data analysis"
   ],
   "metadata": {
    "collapsed": false
   },
   "id": "d2de355f6e41b94e"
  },
  {
   "cell_type": "code",
   "outputs": [
    {
     "name": "stdout",
     "output_type": "stream",
     "text": [
      "make\n",
      "['bmw' 'audi' 'fiat' 'mercedes-benz' 'chrysler']\n",
      "48\n",
      "\n",
      "model\n",
      "['1_series_m' '1_series' '100' '124_spider' '190-class']\n",
      "914\n",
      "\n",
      "year\n",
      "[2011 2012 2013 1992 1993]\n",
      "28\n",
      "\n",
      "engine_fuel_type\n",
      "['premium_unleaded_(required)' 'regular_unleaded'\n",
      " 'premium_unleaded_(recommended)' 'flex-fuel_(unleaded/e85)' 'diesel']\n",
      "10\n",
      "\n",
      "engine_hp\n",
      "[335. 300. 230. 320. 172.]\n",
      "356\n",
      "\n",
      "engine_cylinders\n",
      "[ 6.  4.  5.  8. 12.]\n",
      "9\n",
      "\n",
      "transmission_type\n",
      "['manual' 'automatic' 'automated_manual' 'direct_drive' 'unknown']\n",
      "5\n",
      "\n",
      "driven_wheels\n",
      "['rear_wheel_drive' 'front_wheel_drive' 'all_wheel_drive'\n",
      " 'four_wheel_drive']\n",
      "4\n",
      "\n",
      "number_of_doors\n",
      "[ 2.  4.  3. nan]\n",
      "3\n",
      "\n",
      "market_category\n",
      "['factory_tuner,luxury,high-performance' 'luxury,performance'\n",
      " 'luxury,high-performance' 'luxury' 'performance']\n",
      "71\n",
      "\n",
      "vehicle_size\n",
      "['compact' 'midsize' 'large']\n",
      "3\n",
      "\n",
      "vehicle_style\n",
      "['coupe' 'convertible' 'sedan' 'wagon' '4dr_hatchback']\n",
      "16\n",
      "\n",
      "highway_mpg\n",
      "[26 28 27 25 24]\n",
      "59\n",
      "\n",
      "city_mpg\n",
      "[19 20 18 17 16]\n",
      "69\n",
      "\n",
      "popularity\n",
      "[3916 3105  819  617 1013]\n",
      "48\n",
      "\n",
      "msrp\n",
      "[46135 40650 36350 29450 34500]\n",
      "6049\n"
     ]
    }
   ],
   "source": [
    "for col in df.columns:\n",
    "    print(col)\n",
    "    print(df[col].unique()[:5])\n",
    "    print(df[col].nunique())\n",
    "    print()"
   ],
   "metadata": {
    "collapsed": false,
    "ExecuteTime": {
     "end_time": "2024-01-02T20:49:17.197700906Z",
     "start_time": "2024-01-02T20:49:15.020421704Z"
    }
   },
   "id": "17436f8e3f2aeef3",
   "execution_count": 9
  },
  {
   "cell_type": "markdown",
   "source": [
    "Distribution of price"
   ],
   "metadata": {
    "collapsed": false
   },
   "id": "798067ab5efe83de"
  },
  {
   "cell_type": "code",
   "outputs": [],
   "source": [
    "import matplotlib.pyplot as plt\n",
    "import seaborn as sns\n",
    "%matplotlib inline"
   ],
   "metadata": {
    "collapsed": false,
    "ExecuteTime": {
     "end_time": "2024-01-02T20:49:18.828942128Z",
     "start_time": "2024-01-02T20:49:16.645983610Z"
    }
   },
   "id": "e4d4681a2b41a831",
   "execution_count": 10
  },
  {
   "cell_type": "code",
   "outputs": [
    {
     "name": "stderr",
     "output_type": "stream",
     "text": [
      "/home/wm18vw/miniconda3/envs/machineLearning/lib/python3.11/site-packages/seaborn/_oldcore.py:1119: FutureWarning: use_inf_as_na option is deprecated and will be removed in a future version. Convert inf values to NaN before operating instead.\n",
      "  with pd.option_context('mode.use_inf_as_na', True):\n"
     ]
    },
    {
     "data": {
      "text/plain": "<Axes: xlabel='msrp', ylabel='Count'>"
     },
     "execution_count": 11,
     "metadata": {},
     "output_type": "execute_result"
    },
    {
     "data": {
      "text/plain": "<Figure size 640x480 with 1 Axes>",
      "image/png": "[encoded data removed]"
     },
     "metadata": {},
     "output_type": "display_data"
    }
   ],
   "source": [
    "# bins c'est le nombre de bars que l'on peut mettre sur tout l'axe des x\n",
    "# 1e6 = 1000000\n",
    "sns.histplot(data=df.msrp, bins=50)"
   ],
   "metadata": {
    "collapsed": false,
    "ExecuteTime": {
     "end_time": "2024-01-02T20:49:21.230294274Z",
     "start_time": "2024-01-02T20:49:18.067116517Z"
    }
   },
   "id": "360eeab39ebdd7f9",
   "execution_count": 11
  },
  {
   "cell_type": "code",
   "outputs": [
    {
     "data": {
      "text/plain": "<Axes: >"
     },
     "execution_count": 12,
     "metadata": {},
     "output_type": "execute_result"
    },
    {
     "data": {
      "text/plain": "<Figure size 640x480 with 1 Axes>",
      "image/png": "[encoded data removed]"
     },
     "metadata": {},
     "output_type": "display_data"
    }
   ],
   "source": [
    "# avec le matplotlib intégré à Pandas\n",
    "df.msrp.hist(bins=50)"
   ],
   "metadata": {
    "collapsed": false,
    "ExecuteTime": {
     "end_time": "2024-01-02T20:49:23.986376421Z",
     "start_time": "2024-01-02T20:49:20.745247627Z"
    }
   },
   "id": "74f902c973b052df",
   "execution_count": 12
  },
  {
   "cell_type": "code",
   "outputs": [
    {
     "name": "stderr",
     "output_type": "stream",
     "text": [
      "/home/wm18vw/miniconda3/envs/machineLearning/lib/python3.11/site-packages/seaborn/_oldcore.py:1119: FutureWarning: use_inf_as_na option is deprecated and will be removed in a future version. Convert inf values to NaN before operating instead.\n",
      "  with pd.option_context('mode.use_inf_as_na', True):\n"
     ]
    },
    {
     "data": {
      "text/plain": "<Axes: xlabel='msrp', ylabel='Count'>"
     },
     "execution_count": 13,
     "metadata": {},
     "output_type": "execute_result"
    },
    {
     "data": {
      "text/plain": "<Figure size 640x480 with 1 Axes>",
      "image/png": "[encoded data removed]"
     },
     "metadata": {},
     "output_type": "display_data"
    }
   ],
   "source": [
    "sns.histplot(df.msrp[df.msrp < 100000], bins=50)"
   ],
   "metadata": {
    "collapsed": false,
    "ExecuteTime": {
     "end_time": "2024-01-02T20:49:25.566675198Z",
     "start_time": "2024-01-02T20:49:22.969351588Z"
    }
   },
   "id": "61199d3c3d423bb5",
   "execution_count": 13
  },
  {
   "cell_type": "code",
   "outputs": [
    {
     "name": "stderr",
     "output_type": "stream",
     "text": [
      "/tmp/ipykernel_2530/3676589626.py:1: RuntimeWarning: divide by zero encountered in log\n",
      "  np.log([0, 1, 10, 1000, 100000])\n"
     ]
    },
    {
     "data": {
      "text/plain": "array([       -inf,  0.        ,  2.30258509,  6.90775528, 11.51292546])"
     },
     "execution_count": 14,
     "metadata": {},
     "output_type": "execute_result"
    }
   ],
   "source": [
    "np.log([0, 1, 10, 1000, 100000])"
   ],
   "metadata": {
    "collapsed": false,
    "ExecuteTime": {
     "end_time": "2024-01-02T20:49:28.436275622Z",
     "start_time": "2024-01-02T20:49:25.432860809Z"
    }
   },
   "id": "3fdeb907b26d54b3",
   "execution_count": 14
  },
  {
   "cell_type": "markdown",
   "source": [
    "Pour contrer le problème avec le 0, on fait +1"
   ],
   "metadata": {
    "collapsed": false
   },
   "id": "8af89ae0eefc4eae"
  },
  {
   "cell_type": "code",
   "outputs": [
    {
     "data": {
      "text/plain": "array([ 0.        ,  0.69314718,  2.39789527,  6.90875478, 11.51293546])"
     },
     "execution_count": 15,
     "metadata": {},
     "output_type": "execute_result"
    }
   ],
   "source": [
    "np.log([0 + 1 , 1 + 1, 10 + 1, 1000 + 1, 100000 + 1])"
   ],
   "metadata": {
    "collapsed": false,
    "ExecuteTime": {
     "end_time": "2024-01-02T20:49:30.356878232Z",
     "start_time": "2024-01-02T20:49:27.824091159Z"
    }
   },
   "id": "26a651bcb5a2dc47",
   "execution_count": 15
  },
  {
   "cell_type": "markdown",
   "source": [
    "log1p fait la meme chose:"
   ],
   "metadata": {
    "collapsed": false
   },
   "id": "12e6f17a742a324"
  },
  {
   "cell_type": "code",
   "outputs": [
    {
     "data": {
      "text/plain": "array([ 0.        ,  0.69314718,  2.39789527,  6.90875478, 11.51293546])"
     },
     "execution_count": 16,
     "metadata": {},
     "output_type": "execute_result"
    }
   ],
   "source": [
    "np.log1p([0, 1, 10, 1000, 100000])"
   ],
   "metadata": {
    "collapsed": false,
    "ExecuteTime": {
     "end_time": "2024-01-02T20:49:31.490347361Z",
     "start_time": "2024-01-02T20:49:29.914184880Z"
    }
   },
   "id": "d0ff701276180ab7",
   "execution_count": 16
  },
  {
   "cell_type": "code",
   "outputs": [],
   "source": [
    "price_logs = np.log1p(df.msrp)"
   ],
   "metadata": {
    "collapsed": false,
    "ExecuteTime": {
     "end_time": "2024-01-02T20:49:33.451315582Z",
     "start_time": "2024-01-02T20:49:31.478186435Z"
    }
   },
   "id": "ceef11b86ebca3e2",
   "execution_count": 17
  },
  {
   "cell_type": "code",
   "outputs": [
    {
     "data": {
      "text/plain": "0        10.739349\n1        10.612779\n2        10.500977\n3        10.290483\n4        10.448744\n           ...    \n11909    10.739024\n11910    10.945018\n11911    10.832122\n11912    10.838031\n11913    10.274913\nName: msrp, Length: 11914, dtype: float64"
     },
     "execution_count": 18,
     "metadata": {},
     "output_type": "execute_result"
    }
   ],
   "source": [
    "price_logs"
   ],
   "metadata": {
    "collapsed": false,
    "ExecuteTime": {
     "end_time": "2024-01-02T20:49:34.821823433Z",
     "start_time": "2024-01-02T20:49:33.115069878Z"
    }
   },
   "id": "5c1cfe8c9aa7290f",
   "execution_count": 18
  },
  {
   "cell_type": "code",
   "outputs": [
    {
     "name": "stderr",
     "output_type": "stream",
     "text": [
      "/home/wm18vw/miniconda3/envs/machineLearning/lib/python3.11/site-packages/seaborn/_oldcore.py:1119: FutureWarning: use_inf_as_na option is deprecated and will be removed in a future version. Convert inf values to NaN before operating instead.\n",
      "  with pd.option_context('mode.use_inf_as_na', True):\n"
     ]
    },
    {
     "data": {
      "text/plain": "<Axes: xlabel='msrp', ylabel='Count'>"
     },
     "execution_count": 19,
     "metadata": {},
     "output_type": "execute_result"
    },
    {
     "data": {
      "text/plain": "<Figure size 640x480 with 1 Axes>",
      "image/png": "[encoded data removed]"
     },
     "metadata": {},
     "output_type": "display_data"
    }
   ],
   "source": [
    "sns.histplot(data=price_logs, bins=50)"
   ],
   "metadata": {
    "collapsed": false,
    "ExecuteTime": {
     "end_time": "2024-01-02T20:49:36.257091988Z",
     "start_time": "2024-01-02T20:49:34.374151989Z"
    }
   },
   "id": "10233f7edcbd9412",
   "execution_count": 19
  },
  {
   "cell_type": "markdown",
   "source": [
    "Nous avons obtenus une distribution normale, c'est un situation idéale pour le modèle"
   ],
   "metadata": {
    "collapsed": false
   },
   "id": "9394e28c03e2703"
  },
  {
   "cell_type": "markdown",
   "source": [
    "Missing values (nan)"
   ],
   "metadata": {
    "collapsed": false
   },
   "id": "f32ab27970554c96"
  },
  {
   "cell_type": "code",
   "outputs": [
    {
     "data": {
      "text/plain": "make                    0\nmodel                   0\nyear                    0\nengine_fuel_type        3\nengine_hp              69\nengine_cylinders       30\ntransmission_type       0\ndriven_wheels           0\nnumber_of_doors         6\nmarket_category      3742\nvehicle_size            0\nvehicle_style           0\nhighway_mpg             0\ncity_mpg                0\npopularity              0\nmsrp                    0\ndtype: int64"
     },
     "execution_count": 20,
     "metadata": {},
     "output_type": "execute_result"
    }
   ],
   "source": [
    "df.isnull().sum()"
   ],
   "metadata": {
    "collapsed": false,
    "ExecuteTime": {
     "end_time": "2024-01-02T20:49:37.720120302Z",
     "start_time": "2024-01-02T20:49:35.941172988Z"
    }
   },
   "id": "6d8f3dfd12fa83db",
   "execution_count": 20
  },
  {
   "cell_type": "markdown",
   "source": [
    "engine_fuel_type, engine_cylinders, number_of_doors, market_category  ont des valeurs manquantes"
   ],
   "metadata": {
    "collapsed": false
   },
   "id": "d86d75fb427d246"
  },
  {
   "cell_type": "markdown",
   "source": [
    "## 2.4 Setting up the validation framework"
   ],
   "metadata": {
    "collapsed": false
   },
   "id": "309a603ccf8361db"
  },
  {
   "cell_type": "markdown",
   "source": [
    "On divise le dataset en une partie d'entraintement, une de validation et une de test\n",
    "**Train** 60%\n",
    "**Validation** 20%\n",
    "**Test** 20%"
   ],
   "metadata": {
    "collapsed": false
   },
   "id": "73f309ad893ce5da"
  },
  {
   "cell_type": "code",
   "outputs": [],
   "source": [
    "n = len(df)\n",
    "n_val = int(n * 0.2)\n",
    "n_test = int(n * 0.2)\n",
    "n_train = int(n * 0.6)"
   ],
   "metadata": {
    "collapsed": false,
    "ExecuteTime": {
     "end_time": "2024-01-02T20:49:38.881423523Z",
     "start_time": "2024-01-02T20:49:37.039339469Z"
    }
   },
   "id": "d75502899f4322e7",
   "execution_count": 21
  },
  {
   "cell_type": "code",
   "outputs": [
    {
     "data": {
      "text/plain": "(11914, 11912)"
     },
     "execution_count": 22,
     "metadata": {},
     "output_type": "execute_result"
    }
   ],
   "source": [
    "n, n_val + n_test + n_train"
   ],
   "metadata": {
    "collapsed": false,
    "ExecuteTime": {
     "end_time": "2024-01-02T20:49:40.022652245Z",
     "start_time": "2024-01-02T20:49:38.886780042Z"
    }
   },
   "id": "23ee6a653f592833",
   "execution_count": 22
  },
  {
   "cell_type": "markdown",
   "source": [
    "Les valeurs ne sont pas les mêmes du aux arrondis, donc on fait autrement:"
   ],
   "metadata": {
    "collapsed": false
   },
   "id": "ae1809c6d3b46f08"
  },
  {
   "cell_type": "code",
   "outputs": [],
   "source": [
    "n = len(df)\n",
    "n_val = int(n * 0.2)\n",
    "n_test = int(n * 0.2)\n",
    "n_train = n - n_val - n_test"
   ],
   "metadata": {
    "collapsed": false,
    "ExecuteTime": {
     "end_time": "2024-01-02T20:49:40.745400504Z",
     "start_time": "2024-01-02T20:49:39.949705263Z"
    }
   },
   "id": "2dbbb2a5c6100096",
   "execution_count": 23
  },
  {
   "cell_type": "code",
   "outputs": [
    {
     "data": {
      "text/plain": "(11914, 11914)"
     },
     "execution_count": 24,
     "metadata": {},
     "output_type": "execute_result"
    }
   ],
   "source": [
    "n, n_val + n_test + n_train"
   ],
   "metadata": {
    "collapsed": false,
    "ExecuteTime": {
     "end_time": "2024-01-02T20:49:42.452812614Z",
     "start_time": "2024-01-02T20:49:40.666889392Z"
    }
   },
   "id": "d2bcdb4e62b9fb83",
   "execution_count": 24
  },
  {
   "cell_type": "code",
   "outputs": [
    {
     "data": {
      "text/plain": "(2382, 2382, 7150)"
     },
     "execution_count": 25,
     "metadata": {},
     "output_type": "execute_result"
    }
   ],
   "source": [
    "n_val, n_test, n_train"
   ],
   "metadata": {
    "collapsed": false,
    "ExecuteTime": {
     "end_time": "2024-01-02T20:49:43.203598095Z",
     "start_time": "2024-01-02T20:49:42.033347503Z"
    }
   },
   "id": "9e1e89f24d88049b",
   "execution_count": 25
  },
  {
   "cell_type": "code",
   "outputs": [],
   "source": [
    "df_train = df.iloc[n_train:]\n",
    "df_val = df.iloc[n_train:n_train+n_val]\n",
    "df_test = df.iloc[n_train+n_val:]"
   ],
   "metadata": {
    "collapsed": false,
    "ExecuteTime": {
     "end_time": "2024-01-02T20:49:43.976209483Z",
     "start_time": "2024-01-02T20:49:42.813828391Z"
    }
   },
   "id": "159f89148085499d",
   "execution_count": 26
  },
  {
   "cell_type": "code",
   "outputs": [
    {
     "data": {
      "text/plain": "          make      model  year                engine_fuel_type  engine_hp  \\\n7150   lincoln  navigator  2015                regular_unleaded      365.0   \n7151   lincoln  navigator  2016                regular_unleaded      380.0   \n7152   lincoln  navigator  2016                regular_unleaded      380.0   \n7153   lincoln  navigator  2016                regular_unleaded      380.0   \n7154   lincoln  navigator  2016                regular_unleaded      380.0   \n...        ...        ...   ...                             ...        ...   \n11909    acura        zdx  2012     premium_unleaded_(required)      300.0   \n11910    acura        zdx  2012     premium_unleaded_(required)      300.0   \n11911    acura        zdx  2012     premium_unleaded_(required)      300.0   \n11912    acura        zdx  2013  premium_unleaded_(recommended)      300.0   \n11913  lincoln     zephyr  2006                regular_unleaded      221.0   \n\n       engine_cylinders transmission_type      driven_wheels  number_of_doors  \\\n7150                6.0         automatic   rear_wheel_drive              4.0   \n7151                6.0         automatic   rear_wheel_drive              4.0   \n7152                6.0         automatic   four_wheel_drive              4.0   \n7153                6.0         automatic   four_wheel_drive              4.0   \n7154                6.0         automatic   rear_wheel_drive              4.0   \n...                 ...               ...                ...              ...   \n11909               6.0         automatic    all_wheel_drive              4.0   \n11910               6.0         automatic    all_wheel_drive              4.0   \n11911               6.0         automatic    all_wheel_drive              4.0   \n11912               6.0         automatic    all_wheel_drive              4.0   \n11913               6.0         automatic  front_wheel_drive              4.0   \n\n                  market_category vehicle_size  vehicle_style  highway_mpg  \\\n7150                       luxury        large        4dr_suv           20   \n7151                       luxury        large        4dr_suv           22   \n7152                       luxury        large        4dr_suv           19   \n7153                       luxury        large        4dr_suv           19   \n7154                       luxury        large        4dr_suv           20   \n...                           ...          ...            ...          ...   \n11909  crossover,hatchback,luxury      midsize  4dr_hatchback           23   \n11910  crossover,hatchback,luxury      midsize  4dr_hatchback           23   \n11911  crossover,hatchback,luxury      midsize  4dr_hatchback           23   \n11912  crossover,hatchback,luxury      midsize  4dr_hatchback           23   \n11913                      luxury      midsize          sedan           26   \n\n       city_mpg  popularity   msrp  \n7150         15          61  63645  \n7151         16          61  63195  \n7152         15          61  76650  \n7153         15          61  69135  \n7154         15          61  65560  \n...         ...         ...    ...  \n11909        16         204  46120  \n11910        16         204  56670  \n11911        16         204  50620  \n11912        16         204  50920  \n11913        17          61  28995  \n\n[4764 rows x 16 columns]",
      "text/html": "<div>\n<style scoped>\n    .dataframe tbody tr th:only-of-type {\n        vertical-align: middle;\n    }\n\n    .dataframe tbody tr th {\n        vertical-align: top;\n    }\n\n    .dataframe thead th {\n        text-align: right;\n    }\n</style>\n<table border=\"1\" class=\"dataframe\">\n  <thead>\n    <tr style=\"text-align: right;\">\n      <th></th>\n      <th>make</th>\n      <th>model</th>\n      <th>year</th>\n      <th>engine_fuel_type</th>\n      <th>engine_hp</th>\n      <th>engine_cylinders</th>\n      <th>transmission_type</th>\n      <th>driven_wheels</th>\n      <th>number_of_doors</th>\n      <th>market_category</th>\n      <th>vehicle_size</th>\n      <th>vehicle_style</th>\n      <th>highway_mpg</th>\n      <th>city_mpg</th>\n      <th>popularity</th>\n      <th>msrp</th>\n    </tr>\n  </thead>\n  <tbody>\n    <tr>\n      <th>7150</th>\n      <td>lincoln</td>\n      <td>navigator</td>\n      <td>2015</td>\n      <td>regular_unleaded</td>\n      <td>365.0</td>\n      <td>6.0</td>\n      <td>automatic</td>\n      <td>rear_wheel_drive</td>\n      <td>4.0</td>\n      <td>luxury</td>\n      <td>large</td>\n      <td>4dr_suv</td>\n      <td>20</td>\n      <td>15</td>\n      <td>61</td>\n      <td>63645</td>\n    </tr>\n    <tr>\n      <th>7151</th>\n      <td>lincoln</td>\n      <td>navigator</td>\n      <td>2016</td>\n      <td>regular_unleaded</td>\n      <td>380.0</td>\n      <td>6.0</td>\n      <td>automatic</td>\n      <td>rear_wheel_drive</td>\n      <td>4.0</td>\n      <td>luxury</td>\n      <td>large</td>\n      <td>4dr_suv</td>\n      <td>22</td>\n      <td>16</td>\n      <td>61</td>\n      <td>63195</td>\n    </tr>\n    <tr>\n      <th>7152</th>\n      <td>lincoln</td>\n      <td>navigator</td>\n      <td>2016</td>\n      <td>regular_unleaded</td>\n      <td>380.0</td>\n      <td>6.0</td>\n      <td>automatic</td>\n      <td>four_wheel_drive</td>\n      <td>4.0</td>\n      <td>luxury</td>\n      <td>large</td>\n      <td>4dr_suv</td>\n      <td>19</td>\n      <td>15</td>\n      <td>61</td>\n      <td>76650</td>\n    </tr>\n    <tr>\n      <th>7153</th>\n      <td>lincoln</td>\n      <td>navigator</td>\n      <td>2016</td>\n      <td>regular_unleaded</td>\n      <td>380.0</td>\n      <td>6.0</td>\n      <td>automatic</td>\n      <td>four_wheel_drive</td>\n      <td>4.0</td>\n      <td>luxury</td>\n      <td>large</td>\n      <td>4dr_suv</td>\n      <td>19</td>\n      <td>15</td>\n      <td>61</td>\n      <td>69135</td>\n    </tr>\n    <tr>\n      <th>7154</th>\n      <td>lincoln</td>\n      <td>navigator</td>\n      <td>2016</td>\n      <td>regular_unleaded</td>\n      <td>380.0</td>\n      <td>6.0</td>\n      <td>automatic</td>\n      <td>rear_wheel_drive</td>\n      <td>4.0</td>\n      <td>luxury</td>\n      <td>large</td>\n      <td>4dr_suv</td>\n      <td>20</td>\n      <td>15</td>\n      <td>61</td>\n      <td>65560</td>\n    </tr>\n    <tr>\n      <th>...</th>\n      <td>...</td>\n      <td>...</td>\n      <td>...</td>\n      <td>...</td>\n      <td>...</td>\n      <td>...</td>\n      <td>...</td>\n      <td>...</td>\n      <td>...</td>\n      <td>...</td>\n      <td>...</td>\n      <td>...</td>\n      <td>...</td>\n      <td>...</td>\n      <td>...</td>\n      <td>...</td>\n    </tr>\n    <tr>\n      <th>11909</th>\n      <td>acura</td>\n      <td>zdx</td>\n      <td>2012</td>\n      <td>premium_unleaded_(required)</td>\n      <td>300.0</td>\n      <td>6.0</td>\n      <td>automatic</td>\n      <td>all_wheel_drive</td>\n      <td>4.0</td>\n      <td>crossover,hatchback,luxury</td>\n      <td>midsize</td>\n      <td>4dr_hatchback</td>\n      <td>23</td>\n      <td>16</td>\n      <td>204</td>\n      <td>46120</td>\n    </tr>\n    <tr>\n      <th>11910</th>\n      <td>acura</td>\n      <td>zdx</td>\n      <td>2012</td>\n      <td>premium_unleaded_(required)</td>\n      <td>300.0</td>\n      <td>6.0</td>\n      <td>automatic</td>\n      <td>all_wheel_drive</td>\n      <td>4.0</td>\n      <td>crossover,hatchback,luxury</td>\n      <td>midsize</td>\n      <td>4dr_hatchback</td>\n      <td>23</td>\n      <td>16</td>\n      <td>204</td>\n      <td>56670</td>\n    </tr>\n    <tr>\n      <th>11911</th>\n      <td>acura</td>\n      <td>zdx</td>\n      <td>2012</td>\n      <td>premium_unleaded_(required)</td>\n      <td>300.0</td>\n      <td>6.0</td>\n      <td>automatic</td>\n      <td>all_wheel_drive</td>\n      <td>4.0</td>\n      <td>crossover,hatchback,luxury</td>\n      <td>midsize</td>\n      <td>4dr_hatchback</td>\n      <td>23</td>\n      <td>16</td>\n      <td>204</td>\n      <td>50620</td>\n    </tr>\n    <tr>\n      <th>11912</th>\n      <td>acura</td>\n      <td>zdx</td>\n      <td>2013</td>\n      <td>premium_unleaded_(recommended)</td>\n      <td>300.0</td>\n      <td>6.0</td>\n      <td>automatic</td>\n      <td>all_wheel_drive</td>\n      <td>4.0</td>\n      <td>crossover,hatchback,luxury</td>\n      <td>midsize</td>\n      <td>4dr_hatchback</td>\n      <td>23</td>\n      <td>16</td>\n      <td>204</td>\n      <td>50920</td>\n    </tr>\n    <tr>\n      <th>11913</th>\n      <td>lincoln</td>\n      <td>zephyr</td>\n      <td>2006</td>\n      <td>regular_unleaded</td>\n      <td>221.0</td>\n      <td>6.0</td>\n      <td>automatic</td>\n      <td>front_wheel_drive</td>\n      <td>4.0</td>\n      <td>luxury</td>\n      <td>midsize</td>\n      <td>sedan</td>\n      <td>26</td>\n      <td>17</td>\n      <td>61</td>\n      <td>28995</td>\n    </tr>\n  </tbody>\n</table>\n<p>4764 rows × 16 columns</p>\n</div>"
     },
     "execution_count": 27,
     "metadata": {},
     "output_type": "execute_result"
    }
   ],
   "source": [
    "df_train"
   ],
   "metadata": {
    "collapsed": false,
    "ExecuteTime": {
     "end_time": "2024-01-02T20:49:46.292941741Z",
     "start_time": "2024-01-02T20:49:43.998402168Z"
    }
   },
   "id": "26bedbc19e006381",
   "execution_count": 27
  },
  {
   "cell_type": "markdown",
   "source": [
    "On constate qu'il faut trier le dataset"
   ],
   "metadata": {
    "collapsed": false
   },
   "id": "86bfce985641ce60"
  },
  {
   "cell_type": "code",
   "outputs": [],
   "source": [
    "idx = np.arange(n)"
   ],
   "metadata": {
    "collapsed": false,
    "ExecuteTime": {
     "end_time": "2024-01-02T20:49:46.646984500Z",
     "start_time": "2024-01-02T20:49:45.179775168Z"
    }
   },
   "id": "fb07f1c7450bb7fc",
   "execution_count": 28
  },
  {
   "cell_type": "code",
   "outputs": [],
   "source": [
    "np.random.seed(2)\n",
    "np.random.shuffle(idx)"
   ],
   "metadata": {
    "collapsed": false,
    "ExecuteTime": {
     "end_time": "2024-01-02T20:49:47.819926333Z",
     "start_time": "2024-01-02T20:49:46.655006148Z"
    }
   },
   "id": "40001e761107a324",
   "execution_count": 29
  },
  {
   "cell_type": "code",
   "outputs": [],
   "source": [
    "df_train = df.iloc[idx[:n_train]]\n",
    "df_val = df.iloc[idx[n_train:n_train+n_val]]\n",
    "df_test = df.iloc[idx[n_train+n_val:]]"
   ],
   "metadata": {
    "collapsed": false,
    "ExecuteTime": {
     "end_time": "2024-01-02T20:49:48.896497313Z",
     "start_time": "2024-01-02T20:49:47.435078962Z"
    }
   },
   "id": "4f6221a99473029c",
   "execution_count": 30
  },
  {
   "cell_type": "code",
   "outputs": [
    {
     "data": {
      "text/plain": "              make        model  year                engine_fuel_type  \\\n2735     chevrolet       cobalt  2008                regular_unleaded   \n6720        toyota       matrix  2012                regular_unleaded   \n5878        subaru      impreza  2016                regular_unleaded   \n11190   volkswagen      vanagon  1991                regular_unleaded   \n4554          ford        f-150  2017        flex-fuel_(unleaded/e85)   \n...            ...          ...   ...                             ...   \n434            bmw     4_series  2015     premium_unleaded_(required)   \n1902    volkswagen       beetle  2015  premium_unleaded_(recommended)   \n9334           gmc  sierra_1500  2015        flex-fuel_(unleaded/e85)   \n5284   rolls-royce        ghost  2014     premium_unleaded_(required)   \n2420    volkswagen           cc  2017  premium_unleaded_(recommended)   \n\n       engine_hp  engine_cylinders transmission_type      driven_wheels  \\\n2735       148.0               4.0            manual  front_wheel_drive   \n6720       132.0               4.0         automatic  front_wheel_drive   \n5878       148.0               4.0         automatic    all_wheel_drive   \n11190       90.0               4.0            manual   rear_wheel_drive   \n4554       385.0               8.0         automatic   four_wheel_drive   \n...          ...               ...               ...                ...   \n434        300.0               6.0         automatic   rear_wheel_drive   \n1902       210.0               4.0  automated_manual  front_wheel_drive   \n9334       285.0               6.0         automatic   four_wheel_drive   \n5284       563.0              12.0         automatic   rear_wheel_drive   \n2420       200.0               4.0  automated_manual  front_wheel_drive   \n\n       number_of_doors            market_category vehicle_size  \\\n2735               2.0                        NaN      compact   \n6720               4.0                  hatchback      compact   \n5878               4.0                  hatchback      compact   \n11190              3.0                        NaN        large   \n4554               4.0                  flex_fuel        large   \n...                ...                        ...          ...   \n434                2.0         luxury,performance      midsize   \n1902               2.0      hatchback,performance      compact   \n9334               4.0                  flex_fuel        large   \n5284               4.0  exotic,luxury,performance        large   \n2420               4.0                performance      midsize   \n\n             vehicle_style  highway_mpg  city_mpg  popularity    msrp  \n2735                 coupe           33        24        1385   14410  \n6720         4dr_hatchback           32        25        2031   19685  \n5878         4dr_hatchback           37        28         640   19795  \n11190    passenger_minivan           18        16         873    2000  \n4554       crew_cab_pickup           21        15        5657   56260  \n...                    ...          ...       ...         ...     ...  \n434            convertible           31        20        3916   54900  \n1902         2dr_hatchback           30        24         873   29215  \n9334   extended_cab_pickup           22        17         549   34675  \n5284                 sedan           21        13          86  303300  \n2420                 sedan           31        22         873   37820  \n\n[7150 rows x 16 columns]",
      "text/html": "<div>\n<style scoped>\n    .dataframe tbody tr th:only-of-type {\n        vertical-align: middle;\n    }\n\n    .dataframe tbody tr th {\n        vertical-align: top;\n    }\n\n    .dataframe thead th {\n        text-align: right;\n    }\n</style>\n<table border=\"1\" class=\"dataframe\">\n  <thead>\n    <tr style=\"text-align: right;\">\n      <th></th>\n      <th>make</th>\n      <th>model</th>\n      <th>year</th>\n      <th>engine_fuel_type</th>\n      <th>engine_hp</th>\n      <th>engine_cylinders</th>\n      <th>transmission_type</th>\n      <th>driven_wheels</th>\n      <th>number_of_doors</th>\n      <th>market_category</th>\n      <th>vehicle_size</th>\n      <th>vehicle_style</th>\n      <th>highway_mpg</th>\n      <th>city_mpg</th>\n      <th>popularity</th>\n      <th>msrp</th>\n    </tr>\n  </thead>\n  <tbody>\n    <tr>\n      <th>2735</th>\n      <td>chevrolet</td>\n      <td>cobalt</td>\n      <td>2008</td>\n      <td>regular_unleaded</td>\n      <td>148.0</td>\n      <td>4.0</td>\n      <td>manual</td>\n      <td>front_wheel_drive</td>\n      <td>2.0</td>\n      <td>NaN</td>\n      <td>compact</td>\n      <td>coupe</td>\n      <td>33</td>\n      <td>24</td>\n      <td>1385</td>\n      <td>14410</td>\n    </tr>\n    <tr>\n      <th>6720</th>\n      <td>toyota</td>\n      <td>matrix</td>\n      <td>2012</td>\n      <td>regular_unleaded</td>\n      <td>132.0</td>\n      <td>4.0</td>\n      <td>automatic</td>\n      <td>front_wheel_drive</td>\n      <td>4.0</td>\n      <td>hatchback</td>\n      <td>compact</td>\n      <td>4dr_hatchback</td>\n      <td>32</td>\n      <td>25</td>\n      <td>2031</td>\n      <td>19685</td>\n    </tr>\n    <tr>\n      <th>5878</th>\n      <td>subaru</td>\n      <td>impreza</td>\n      <td>2016</td>\n      <td>regular_unleaded</td>\n      <td>148.0</td>\n      <td>4.0</td>\n      <td>automatic</td>\n      <td>all_wheel_drive</td>\n      <td>4.0</td>\n      <td>hatchback</td>\n      <td>compact</td>\n      <td>4dr_hatchback</td>\n      <td>37</td>\n      <td>28</td>\n      <td>640</td>\n      <td>19795</td>\n    </tr>\n    <tr>\n      <th>11190</th>\n      <td>volkswagen</td>\n      <td>vanagon</td>\n      <td>1991</td>\n      <td>regular_unleaded</td>\n      <td>90.0</td>\n      <td>4.0</td>\n      <td>manual</td>\n      <td>rear_wheel_drive</td>\n      <td>3.0</td>\n      <td>NaN</td>\n      <td>large</td>\n      <td>passenger_minivan</td>\n      <td>18</td>\n      <td>16</td>\n      <td>873</td>\n      <td>2000</td>\n    </tr>\n    <tr>\n      <th>4554</th>\n      <td>ford</td>\n      <td>f-150</td>\n      <td>2017</td>\n      <td>flex-fuel_(unleaded/e85)</td>\n      <td>385.0</td>\n      <td>8.0</td>\n      <td>automatic</td>\n      <td>four_wheel_drive</td>\n      <td>4.0</td>\n      <td>flex_fuel</td>\n      <td>large</td>\n      <td>crew_cab_pickup</td>\n      <td>21</td>\n      <td>15</td>\n      <td>5657</td>\n      <td>56260</td>\n    </tr>\n    <tr>\n      <th>...</th>\n      <td>...</td>\n      <td>...</td>\n      <td>...</td>\n      <td>...</td>\n      <td>...</td>\n      <td>...</td>\n      <td>...</td>\n      <td>...</td>\n      <td>...</td>\n      <td>...</td>\n      <td>...</td>\n      <td>...</td>\n      <td>...</td>\n      <td>...</td>\n      <td>...</td>\n      <td>...</td>\n    </tr>\n    <tr>\n      <th>434</th>\n      <td>bmw</td>\n      <td>4_series</td>\n      <td>2015</td>\n      <td>premium_unleaded_(required)</td>\n      <td>300.0</td>\n      <td>6.0</td>\n      <td>automatic</td>\n      <td>rear_wheel_drive</td>\n      <td>2.0</td>\n      <td>luxury,performance</td>\n      <td>midsize</td>\n      <td>convertible</td>\n      <td>31</td>\n      <td>20</td>\n      <td>3916</td>\n      <td>54900</td>\n    </tr>\n    <tr>\n      <th>1902</th>\n      <td>volkswagen</td>\n      <td>beetle</td>\n      <td>2015</td>\n      <td>premium_unleaded_(recommended)</td>\n      <td>210.0</td>\n      <td>4.0</td>\n      <td>automated_manual</td>\n      <td>front_wheel_drive</td>\n      <td>2.0</td>\n      <td>hatchback,performance</td>\n      <td>compact</td>\n      <td>2dr_hatchback</td>\n      <td>30</td>\n      <td>24</td>\n      <td>873</td>\n      <td>29215</td>\n    </tr>\n    <tr>\n      <th>9334</th>\n      <td>gmc</td>\n      <td>sierra_1500</td>\n      <td>2015</td>\n      <td>flex-fuel_(unleaded/e85)</td>\n      <td>285.0</td>\n      <td>6.0</td>\n      <td>automatic</td>\n      <td>four_wheel_drive</td>\n      <td>4.0</td>\n      <td>flex_fuel</td>\n      <td>large</td>\n      <td>extended_cab_pickup</td>\n      <td>22</td>\n      <td>17</td>\n      <td>549</td>\n      <td>34675</td>\n    </tr>\n    <tr>\n      <th>5284</th>\n      <td>rolls-royce</td>\n      <td>ghost</td>\n      <td>2014</td>\n      <td>premium_unleaded_(required)</td>\n      <td>563.0</td>\n      <td>12.0</td>\n      <td>automatic</td>\n      <td>rear_wheel_drive</td>\n      <td>4.0</td>\n      <td>exotic,luxury,performance</td>\n      <td>large</td>\n      <td>sedan</td>\n      <td>21</td>\n      <td>13</td>\n      <td>86</td>\n      <td>303300</td>\n    </tr>\n    <tr>\n      <th>2420</th>\n      <td>volkswagen</td>\n      <td>cc</td>\n      <td>2017</td>\n      <td>premium_unleaded_(recommended)</td>\n      <td>200.0</td>\n      <td>4.0</td>\n      <td>automated_manual</td>\n      <td>front_wheel_drive</td>\n      <td>4.0</td>\n      <td>performance</td>\n      <td>midsize</td>\n      <td>sedan</td>\n      <td>31</td>\n      <td>22</td>\n      <td>873</td>\n      <td>37820</td>\n    </tr>\n  </tbody>\n</table>\n<p>7150 rows × 16 columns</p>\n</div>"
     },
     "execution_count": 31,
     "metadata": {},
     "output_type": "execute_result"
    }
   ],
   "source": [
    "df_train"
   ],
   "metadata": {
    "collapsed": false,
    "ExecuteTime": {
     "end_time": "2024-01-02T20:49:50.494360775Z",
     "start_time": "2024-01-02T20:49:48.240209221Z"
    }
   },
   "id": "1a4b174e6fd63ccd",
   "execution_count": 31
  },
  {
   "cell_type": "code",
   "outputs": [
    {
     "data": {
      "text/plain": "(7150, 2382, 2382)"
     },
     "execution_count": 32,
     "metadata": {},
     "output_type": "execute_result"
    }
   ],
   "source": [
    "len(df_train), len(df_val), len(df_test)"
   ],
   "metadata": {
    "collapsed": false,
    "ExecuteTime": {
     "end_time": "2024-01-02T20:49:52.208652700Z",
     "start_time": "2024-01-02T20:49:50.408498127Z"
    }
   },
   "id": "68f1d10d2c9823f8",
   "execution_count": 32
  },
  {
   "cell_type": "code",
   "outputs": [],
   "source": [
    "df_train = df_train.reset_index(drop=True)\n",
    "df_val = df_val.reset_index(drop=True)\n",
    "df_test = df_test.reset_index(drop=True)"
   ],
   "metadata": {
    "collapsed": false,
    "ExecuteTime": {
     "end_time": "2024-01-02T20:49:53.981124144Z",
     "start_time": "2024-01-02T20:49:52.115669830Z"
    }
   },
   "id": "69151a39805f6e17",
   "execution_count": 33
  },
  {
   "cell_type": "code",
   "outputs": [
    {
     "data": {
      "text/plain": "0        14410\n1        19685\n2        19795\n3         2000\n4        56260\n         ...  \n7145     54900\n7146     29215\n7147     34675\n7148    303300\n7149     37820\nName: msrp, Length: 7150, dtype: int64"
     },
     "execution_count": 34,
     "metadata": {},
     "output_type": "execute_result"
    }
   ],
   "source": [
    "df_train.msrp"
   ],
   "metadata": {
    "collapsed": false,
    "ExecuteTime": {
     "end_time": "2024-01-02T20:49:55.487366421Z",
     "start_time": "2024-01-02T20:49:53.229358496Z"
    }
   },
   "id": "9ef2faf6da9a13b7",
   "execution_count": 34
  },
  {
   "cell_type": "markdown",
   "source": [
    "Visualisation en valeurs logarithmique + création des vars"
   ],
   "metadata": {
    "collapsed": false
   },
   "id": "c32c953dcd17a31d"
  },
  {
   "cell_type": "code",
   "outputs": [],
   "source": [
    "y_train = np.log1p(df_train.msrp.values)\n",
    "y_val = np.log1p(df_val.msrp.values)\n",
    "y_test = np.log1p(df_test.msrp.values)"
   ],
   "metadata": {
    "collapsed": false,
    "ExecuteTime": {
     "end_time": "2024-01-02T20:49:57.171569883Z",
     "start_time": "2024-01-02T20:49:55.425666069Z"
    }
   },
   "id": "71d0947808a2ab21",
   "execution_count": 35
  },
  {
   "cell_type": "code",
   "outputs": [],
   "source": [
    "del df_train['msrp']\n",
    "del df_val['msrp']\n",
    "del df_test['msrp']"
   ],
   "metadata": {
    "collapsed": false,
    "ExecuteTime": {
     "end_time": "2024-01-02T20:49:58.520217030Z",
     "start_time": "2024-01-02T20:49:57.178505031Z"
    }
   },
   "id": "dd7ef83622829cd6",
   "execution_count": 36
  },
  {
   "cell_type": "code",
   "outputs": [
    {
     "data": {
      "text/plain": "7150"
     },
     "execution_count": 37,
     "metadata": {},
     "output_type": "execute_result"
    }
   ],
   "source": [
    "len(y_train)"
   ],
   "metadata": {
    "collapsed": false,
    "ExecuteTime": {
     "end_time": "2024-01-02T20:49:59.443655418Z",
     "start_time": "2024-01-02T20:49:58.184728345Z"
    }
   },
   "id": "178a2f39c4c6edaa",
   "execution_count": 37
  },
  {
   "cell_type": "markdown",
   "source": [
    "## 2.5 Linear regression"
   ],
   "metadata": {
    "collapsed": false
   },
   "id": "523079962f743f09"
  },
  {
   "cell_type": "code",
   "outputs": [
    {
     "data": {
      "text/plain": "make                                 rolls-royce\nmodel                     phantom_drophead_coupe\nyear                                        2015\nengine_fuel_type     premium_unleaded_(required)\nengine_hp                                  453.0\nengine_cylinders                            12.0\ntransmission_type                      automatic\ndriven_wheels                   rear_wheel_drive\nnumber_of_doors                              2.0\nmarket_category        exotic,luxury,performance\nvehicle_size                               large\nvehicle_style                        convertible\nhighway_mpg                                   19\ncity_mpg                                      11\npopularity                                    86\nName: 10, dtype: object"
     },
     "execution_count": 38,
     "metadata": {},
     "output_type": "execute_result"
    }
   ],
   "source": [
    "df_train.iloc[10]"
   ],
   "metadata": {
    "collapsed": false,
    "ExecuteTime": {
     "end_time": "2024-01-03T08:29:04.829860281Z",
     "start_time": "2024-01-03T08:29:04.630606645Z"
    }
   },
   "id": "958fccd926f284ea",
   "execution_count": 38
  },
  {
   "cell_type": "code",
   "execution_count": 39,
   "outputs": [],
   "source": [
    "xi = [453, 11, 86]"
   ],
   "metadata": {
    "collapsed": false,
    "ExecuteTime": {
     "end_time": "2024-01-03T08:32:02.748165229Z",
     "start_time": "2024-01-03T08:32:02.568845438Z"
    }
   },
   "id": "7176fc1fb10a83d0"
  },
  {
   "cell_type": "code",
   "execution_count": 40,
   "outputs": [],
   "source": [
    "def g(xi):\n",
    "    return 10000"
   ],
   "metadata": {
    "collapsed": false,
    "ExecuteTime": {
     "end_time": "2024-01-03T08:32:24.008811894Z",
     "start_time": "2024-01-03T08:32:23.295716055Z"
    }
   },
   "id": "6e7f2d2370d229e1"
  },
  {
   "cell_type": "code",
   "execution_count": 42,
   "outputs": [
    {
     "data": {
      "text/plain": "10000"
     },
     "execution_count": 42,
     "metadata": {},
     "output_type": "execute_result"
    }
   ],
   "source": [
    "g(xi)"
   ],
   "metadata": {
    "collapsed": false,
    "ExecuteTime": {
     "end_time": "2024-01-03T08:32:40.669655282Z",
     "start_time": "2024-01-03T08:32:40.267061743Z"
    }
   },
   "id": "221181ce72edc8d2"
  },
  {
   "cell_type": "markdown",
   "source": [
    "g(xi) = W0 + W1 * xi1 + W2 * xi2\n",
    "W0: Bias term (is the prediction that we will make)\n",
    "Par exemple:\n",
    "xi1:    engine capacity\n",
    "W1:     engine horse power (453Hp)\n",
    "xi2:    city_mpg (miles per gallon in the city) (11)\n",
    "W2:     11\n",
    "xi3:    popularity\n",
    "W3: 86"
   ],
   "metadata": {
    "collapsed": false
   },
   "id": "d330fd6e0b124696"
  },
  {
   "cell_type": "markdown",
   "source": [
    "Forme compacte:\n",
    "g(xi) = W0 + Sum de j=1 à 3 de Wj * xij"
   ],
   "metadata": {
    "collapsed": false
   },
   "id": "fee5bbfa72fb6448"
  },
  {
   "cell_type": "code",
   "execution_count": 43,
   "outputs": [],
   "source": [
    "w0 = 0\n",
    "w = [1, 1, 1]"
   ],
   "metadata": {
    "collapsed": false,
    "ExecuteTime": {
     "end_time": "2024-01-03T08:53:54.866859832Z",
     "start_time": "2024-01-03T08:53:54.648896610Z"
    }
   },
   "id": "f3eed410a97c69e2"
  },
  {
   "cell_type": "code",
   "execution_count": 44,
   "outputs": [],
   "source": [
    "def linear_regression(xi):\n",
    "    n = len(xi)\n",
    "    pred = w0\n",
    "    for j in range(n):\n",
    "        pred = pred + w[j] * xi[j]\n",
    "    return pred"
   ],
   "metadata": {
    "collapsed": false,
    "ExecuteTime": {
     "end_time": "2024-01-03T08:56:51.328772976Z",
     "start_time": "2024-01-03T08:56:50.575848235Z"
    }
   },
   "id": "9f2720f7abbb0c04"
  },
  {
   "cell_type": "code",
   "execution_count": 45,
   "outputs": [
    {
     "data": {
      "text/plain": "550"
     },
     "execution_count": 45,
     "metadata": {},
     "output_type": "execute_result"
    }
   ],
   "source": [
    "linear_regression(xi)"
   ],
   "metadata": {
    "collapsed": false,
    "ExecuteTime": {
     "end_time": "2024-01-03T08:57:01.283358631Z",
     "start_time": "2024-01-03T08:57:00.459422994Z"
    }
   },
   "id": "c94911aa1bcabc0e"
  },
  {
   "cell_type": "code",
   "execution_count": 48,
   "outputs": [],
   "source": [
    "w0 = 7.17 # bias term\n",
    "w = [0.01, 0.04, 0.002] # weight w1, w2, w3"
   ],
   "metadata": {
    "collapsed": false,
    "ExecuteTime": {
     "end_time": "2024-01-03T09:00:53.605666344Z",
     "start_time": "2024-01-03T09:00:53.118290396Z"
    }
   },
   "id": "16c1e23655dd534e"
  },
  {
   "cell_type": "code",
   "execution_count": 49,
   "outputs": [
    {
     "data": {
      "text/plain": "12.312"
     },
     "execution_count": 49,
     "metadata": {},
     "output_type": "execute_result"
    }
   ],
   "source": [
    "linear_regression(xi)"
   ],
   "metadata": {
    "collapsed": false,
    "ExecuteTime": {
     "end_time": "2024-01-03T09:00:53.988703183Z",
     "start_time": "2024-01-03T09:00:53.617467463Z"
    }
   },
   "id": "dfbd9c107e6cdaf9"
  },
  {
   "cell_type": "markdown",
   "source": [
    "7.17 + 453*0.01 + 11*0.04 + 86*0.002 = 12.312"
   ],
   "metadata": {
    "collapsed": false
   },
   "id": "f7004631c24558b2"
  },
  {
   "cell_type": "markdown",
   "source": [
    "12.312 est une valeure obtenue en utilisant le logarithme du prix donc pour retrouver la prédiction du prix nous utilisons l'exponentielle:"
   ],
   "metadata": {
    "collapsed": false
   },
   "id": "52be0484973cc42b"
  },
  {
   "cell_type": "code",
   "execution_count": 51,
   "outputs": [
    {
     "data": {
      "text/plain": "222347.2221101062"
     },
     "execution_count": 51,
     "metadata": {},
     "output_type": "execute_result"
    }
   ],
   "source": [
    "np.expm1(12.312)"
   ],
   "metadata": {
    "collapsed": false,
    "ExecuteTime": {
     "end_time": "2024-01-03T09:09:18.833528217Z",
     "start_time": "2024-01-03T09:09:18.540800394Z"
    }
   },
   "id": "f2c83ca0fe8941a4"
  },
  {
   "cell_type": "markdown",
   "source": [
    "Nous obtenons 222347.22$"
   ],
   "metadata": {
    "collapsed": false
   },
   "id": "3ffc4c7185e4f20a"
  },
  {
   "cell_type": "markdown",
   "source": [
    "## 2.6 Linear regression vector form"
   ],
   "metadata": {
    "collapsed": false
   },
   "id": "426ec0a4c2928595"
  },
  {
   "cell_type": "code",
   "execution_count": 59,
   "outputs": [],
   "source": [
    "def dot(xi, w):\n",
    "    n = len(xi)\n",
    "    \n",
    "    res = 0.0\n",
    "    \n",
    "    for j in range(n):\n",
    "        res = res + xi[j] * w[j]\n",
    "    return res"
   ],
   "metadata": {
    "collapsed": false,
    "ExecuteTime": {
     "end_time": "2024-01-03T09:43:19.679036040Z",
     "start_time": "2024-01-03T09:43:18.947143595Z"
    }
   },
   "id": "f8f00a86ce587c5f"
  },
  {
   "cell_type": "code",
   "execution_count": 60,
   "outputs": [],
   "source": [
    "def linear_regression(xi):\n",
    "    return w0 + dot(xi, w)"
   ],
   "metadata": {
    "collapsed": false,
    "ExecuteTime": {
     "end_time": "2024-01-03T09:43:21.283591558Z",
     "start_time": "2024-01-03T09:43:20.617690857Z"
    }
   },
   "id": "fa7a0979191eafa4"
  },
  {
   "cell_type": "markdown",
   "source": [
    "w = [w0 w1 w2 ... wn]\n",
    "xi = [xi0 xi1 xi2 ... xin]\n",
    "xi = [ 1 xi1 xi2 ... xin]\n",
    "w^T xi = xi^T w = w0 + ..."
   ],
   "metadata": {
    "collapsed": false
   },
   "id": "465aca15305053d7"
  },
  {
   "cell_type": "code",
   "execution_count": 61,
   "outputs": [],
   "source": [
    "w_new = [w0] + w"
   ],
   "metadata": {
    "collapsed": false,
    "ExecuteTime": {
     "end_time": "2024-01-03T09:43:22.705222990Z",
     "start_time": "2024-01-03T09:43:22.274253332Z"
    }
   },
   "id": "f03d26fdf3e07b80"
  },
  {
   "cell_type": "code",
   "execution_count": 62,
   "outputs": [
    {
     "data": {
      "text/plain": "[1, 1, 2, 3]"
     },
     "execution_count": 62,
     "metadata": {},
     "output_type": "execute_result"
    }
   ],
   "source": [
    "[1] + [1, 2, 3]"
   ],
   "metadata": {
    "collapsed": false,
    "ExecuteTime": {
     "end_time": "2024-01-03T09:43:23.632204311Z",
     "start_time": "2024-01-03T09:43:23.198331750Z"
    }
   },
   "id": "1dc1a03ae8ca0d8c"
  },
  {
   "cell_type": "code",
   "execution_count": 63,
   "outputs": [
    {
     "data": {
      "text/plain": "[7.17, 0.01, 0.04, 0.002]"
     },
     "execution_count": 63,
     "metadata": {},
     "output_type": "execute_result"
    }
   ],
   "source": [
    "w_new"
   ],
   "metadata": {
    "collapsed": false,
    "ExecuteTime": {
     "end_time": "2024-01-03T09:43:24.778404502Z",
     "start_time": "2024-01-03T09:43:24.144550140Z"
    }
   },
   "id": "9fb33035604f9b66"
  },
  {
   "cell_type": "code",
   "execution_count": 66,
   "outputs": [],
   "source": [
    "def linear_regression(xi):\n",
    "    xi = [1] + xi\n",
    "    return dot(xi, w_new)"
   ],
   "metadata": {
    "collapsed": false,
    "ExecuteTime": {
     "end_time": "2024-01-03T09:44:23.163044017Z",
     "start_time": "2024-01-03T09:44:22.911277035Z"
    }
   },
   "id": "645d755f61885ca2"
  },
  {
   "cell_type": "code",
   "execution_count": 67,
   "outputs": [
    {
     "data": {
      "text/plain": "12.312"
     },
     "execution_count": 67,
     "metadata": {},
     "output_type": "execute_result"
    }
   ],
   "source": [
    "linear_regression(xi)"
   ],
   "metadata": {
    "collapsed": false,
    "ExecuteTime": {
     "end_time": "2024-01-03T09:44:26.745701499Z",
     "start_time": "2024-01-03T09:44:26.405853038Z"
    }
   },
   "id": "ae585ffaa68e7ceb"
  },
  {
   "cell_type": "markdown",
   "source": [
    "X^{m*(n+1)}\n",
    "--              --       -- --      x1^T * w\n",
    "|1  x11 ... x1n   |     |  w0 |     x2^T * w\n",
    "|1  x21 ... x2n   |     |  w1 | =   ...\n",
    "|1  ... ... ...   |     | ... |     ...\n",
    "|1  xm1 ... xmn   |     | wn  |     xm^T * w\n",
    "--              --       -- --"
   ],
   "metadata": {
    "collapsed": false
   },
   "id": "18a72bd5dd12392d"
  },
  {
   "cell_type": "markdown",
   "source": [
    "Xw * w = y_pred"
   ],
   "metadata": {
    "collapsed": false
   },
   "id": "d9c7cf952d697473"
  },
  {
   "cell_type": "code",
   "execution_count": 68,
   "outputs": [],
   "source": [
    "xi = [453, 11, 86]\n",
    "w0 = 7.17\n",
    "w = [0.01, 0.04, 0.002]"
   ],
   "metadata": {
    "collapsed": false,
    "ExecuteTime": {
     "end_time": "2024-01-03T09:57:48.566769268Z",
     "start_time": "2024-01-03T09:57:48.267693022Z"
    }
   },
   "id": "72fae0a314a8f230"
  },
  {
   "cell_type": "code",
   "execution_count": 70,
   "outputs": [
    {
     "data": {
      "text/plain": "array([[   1,  148,   24, 1385],\n       [   1,  132,   25, 2031],\n       [   1,  453,   11,   86]])"
     },
     "execution_count": 70,
     "metadata": {},
     "output_type": "execute_result"
    }
   ],
   "source": [
    "x1 = [1, 148, 24, 1385]\n",
    "x2 = [1, 132, 25, 2031]\n",
    "x10 = [1, 453, 11, 86]\n",
    "X = [x1, x2, x10]\n",
    "X = np.array(X)\n",
    "X"
   ],
   "metadata": {
    "collapsed": false,
    "ExecuteTime": {
     "end_time": "2024-01-03T09:59:58.980770144Z",
     "start_time": "2024-01-03T09:59:58.377572979Z"
    }
   },
   "id": "5a2bd2ef98a5820c"
  },
  {
   "cell_type": "code",
   "execution_count": 71,
   "outputs": [
    {
     "data": {
      "text/plain": "array([12.38 , 13.552, 12.312])"
     },
     "execution_count": 71,
     "metadata": {},
     "output_type": "execute_result"
    }
   ],
   "source": [
    "X.dot(w_new)"
   ],
   "metadata": {
    "collapsed": false,
    "ExecuteTime": {
     "end_time": "2024-01-03T10:00:17.804274442Z",
     "start_time": "2024-01-03T10:00:17.249923096Z"
    }
   },
   "id": "c5a5f9ff7f7c8ac9"
  },
  {
   "cell_type": "code",
   "execution_count": 74,
   "outputs": [],
   "source": [
    "def linear_regression(xi):\n",
    "    return X.dot(w_new)"
   ],
   "metadata": {
    "collapsed": false,
    "ExecuteTime": {
     "end_time": "2024-01-03T10:02:08.232427803Z",
     "start_time": "2024-01-03T10:02:08.003111267Z"
    }
   },
   "id": "ba20a2bcaa23b425"
  },
  {
   "cell_type": "code",
   "execution_count": 75,
   "outputs": [
    {
     "data": {
      "text/plain": "array([12.38 , 13.552, 12.312])"
     },
     "execution_count": 75,
     "metadata": {},
     "output_type": "execute_result"
    }
   ],
   "source": [
    "linear_regression(xi)"
   ],
   "metadata": {
    "collapsed": false,
    "ExecuteTime": {
     "end_time": "2024-01-03T10:02:09.228887470Z",
     "start_time": "2024-01-03T10:02:08.978271009Z"
    }
   },
   "id": "ada9995b27b1a6b0"
  },
  {
   "cell_type": "markdown",
   "source": [
    "## Notes\n",
    "\n",
    "The formula of linear regression can be synthesized with the dot product between features and weights. The feature vector includes the *bias* term with an *x* value of one, such as $w_{0}^{x_{i0}},\\ where\\ x_{i0} = 1\\ for\\ w_0$.\n",
    "\n",
    "When all the records are included, the linear regression can be calculated with the dot product between ***feature matrix*** and ***vector of weights***, obtaining the `y` vector of predictions. \n",
    "\n",
    "The entire code of this project is available in [this jupyter notebook](https://github.com/alexeygrigorev/mlbookcamp-code/blob/master/chapter-02-car-price/02-carprice.ipynb). "
   ],
   "metadata": {
    "collapsed": false
   },
   "id": "74cc1a4505d3b861"
  },
  {
   "cell_type": "markdown",
   "source": [
    "## 2.7 Training a linear regression model"
   ],
   "metadata": {
    "collapsed": false
   },
   "id": "90b146e99418514e"
  },
  {
   "cell_type": "markdown",
   "source": [
    "Normal Equation:\n",
    "\n",
    "$w$ = $(X^TX)^{-1}X^Ty$\n",
    "\n",
    "Where:\n",
    "\n",
    "$X^TX$ is the Gram Matrix"
   ],
   "metadata": {
    "collapsed": false
   },
   "id": "513add830408407"
  },
  {
   "cell_type": "markdown",
   "source": [
    "g(x) = Xw ≈ y\n",
    " Xw = y\n",
    " We need solve w (weight)\n",
    "$w = X^{-1}y$\n",
    "$X^{T}Xw = X^{T}y$\n",
    "$X^{T}X$ => Gram matrix\n",
    "$(X^{T}X)^{-1}X^TXw = (X^{T}X)^{-1}X^Ty$\n",
    "Identity matrix\n",
    "Iw = w\n",
    "$w =(X^{T}X)^{-1}X^Ty$"
   ],
   "metadata": {
    "collapsed": false
   },
   "id": "d41d25ddd034cd2f"
  },
  {
   "cell_type": "code",
   "execution_count": 76,
   "outputs": [],
   "source": [
    "def train_linear_regression(X):\n",
    "    pass\n",
    "    #arrivé à 4min40 de la video"
   ],
   "metadata": {
    "collapsed": false,
    "ExecuteTime": {
     "end_time": "2024-01-03T10:41:32.241472501Z",
     "start_time": "2024-01-03T10:41:31.981576582Z"
    }
   },
   "id": "bd12b725646b6aa0"
  },
  {
   "cell_type": "code",
   "execution_count": null,
   "outputs": [],
   "source": [],
   "metadata": {
    "collapsed": false
   },
   "id": "27c9d35918c5eb99"
  }
 ],
 "metadata": {
  "kernelspec": {
   "display_name": "Python 3",
   "language": "python",
   "name": "python3"
  },
  "language_info": {
   "codemirror_mode": {
    "name": "ipython",
    "version": 2
   },
   "file_extension": ".py",
   "mimetype": "text/x-python",
   "name": "python",
   "nbconvert_exporter": "python",
   "pygments_lexer": "ipython2",
   "version": "2.7.6"
  }
 },
 "nbformat": 4,
 "nbformat_minor": 5
}
