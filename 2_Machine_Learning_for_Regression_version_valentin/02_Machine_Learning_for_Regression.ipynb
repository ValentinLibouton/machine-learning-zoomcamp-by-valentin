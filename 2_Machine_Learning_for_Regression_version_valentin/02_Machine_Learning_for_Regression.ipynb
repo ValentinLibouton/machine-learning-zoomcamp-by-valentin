{
 "cells": [
  {
   "cell_type": "markdown",
   "source": [
    "# 2. Machine Learning for Regression "
   ],
   "metadata": {
    "collapsed": false
   },
   "id": "f27596201b89fb3f"
  },
  {
   "cell_type": "code",
   "outputs": [],
   "source": [
    "import pandas as pd\n",
    "import numpy as np"
   ],
   "metadata": {
    "collapsed": false
   },
   "id": "91ee32af353d3784",
   "execution_count": null
  },
  {
   "cell_type": "markdown",
   "source": [
    "## 2.2 Data preparation"
   ],
   "metadata": {
    "collapsed": false
   },
   "id": "74e3863664fd0b31"
  },
  {
   "cell_type": "code",
   "outputs": [],
   "source": [
    "data = 'https://raw.githubusercontent.com/alexeygrigorev/mlbookcamp-code/master/chapter-02-car-price/data.csv'\n",
    "!wget $data"
   ],
   "metadata": {
    "collapsed": false
   },
   "id": "d781b2d501661a53",
   "execution_count": null
  },
  {
   "cell_type": "code",
   "outputs": [],
   "source": [
    "df = pd.read_csv('data.csv')"
   ],
   "metadata": {
    "collapsed": false
   },
   "id": "17d7013f5e4a8830",
   "execution_count": null
  },
  {
   "cell_type": "code",
   "outputs": [],
   "source": [
    "df.columns = df.columns.str.lower().str.replace(' ', '_')"
   ],
   "metadata": {
    "collapsed": false
   },
   "id": "798e628c8760a6fb",
   "execution_count": null
  },
  {
   "cell_type": "markdown",
   "source": [
    "Toutes les colonnes de type string"
   ],
   "metadata": {
    "collapsed": false
   },
   "id": "e5212b8353cead18"
  },
  {
   "cell_type": "code",
   "outputs": [],
   "source": [
    "strings = list(df.dtypes[df.dtypes == 'object'].index)\n",
    "strings"
   ],
   "metadata": {
    "collapsed": false
   },
   "id": "f627a827f7b4b000",
   "execution_count": null
  },
  {
   "cell_type": "code",
   "outputs": [],
   "source": [
    "# ou encore:\n",
    "[col for col in df.columns if df[col].dtype == 'object']"
   ],
   "metadata": {
    "collapsed": false
   },
   "id": "dbb9cc625c2eff0e",
   "execution_count": null
  },
  {
   "cell_type": "code",
   "outputs": [],
   "source": [
    "for col in strings:\n",
    "    df[col] = df[col].str.lower().str.replace(' ', '_')"
   ],
   "metadata": {
    "collapsed": false
   },
   "id": "a7eec5dccc494c67",
   "execution_count": null
  },
  {
   "cell_type": "code",
   "outputs": [],
   "source": [
    "df.head()"
   ],
   "metadata": {
    "collapsed": false
   },
   "id": "3236c4206a472a91",
   "execution_count": null
  },
  {
   "cell_type": "markdown",
   "source": [
    "## 2.3 Exploratory data analysis"
   ],
   "metadata": {
    "collapsed": false
   },
   "id": "d2de355f6e41b94e"
  },
  {
   "cell_type": "code",
   "outputs": [],
   "source": [
    "for col in df.columns:\n",
    "    print(col)\n",
    "    print(df[col].unique()[:5])\n",
    "    print(df[col].nunique())\n",
    "    print()"
   ],
   "metadata": {
    "collapsed": false
   },
   "id": "17436f8e3f2aeef3",
   "execution_count": null
  },
  {
   "cell_type": "markdown",
   "source": [
    "Distribution of price"
   ],
   "metadata": {
    "collapsed": false
   },
   "id": "798067ab5efe83de"
  },
  {
   "cell_type": "code",
   "outputs": [],
   "source": [
    "import matplotlib.pyplot as plt\n",
    "import seaborn as sns\n",
    "%matplotlib inline"
   ],
   "metadata": {
    "collapsed": false
   },
   "id": "e4d4681a2b41a831",
   "execution_count": null
  },
  {
   "cell_type": "code",
   "outputs": [],
   "source": [
    "# bins c'est le nombre de bars que l'on peut mettre sur tout l'axe des x\n",
    "# 1e6 = 1000000\n",
    "sns.histplot(data=df.msrp, bins=50)"
   ],
   "metadata": {
    "collapsed": false
   },
   "id": "360eeab39ebdd7f9",
   "execution_count": null
  },
  {
   "cell_type": "code",
   "outputs": [],
   "source": [
    "# avec le matplotlib intégré à Pandas\n",
    "df.msrp.hist(bins=50)"
   ],
   "metadata": {
    "collapsed": false
   },
   "id": "74f902c973b052df",
   "execution_count": null
  },
  {
   "cell_type": "code",
   "outputs": [],
   "source": [
    "sns.histplot(df.msrp[df.msrp < 100000], bins=50)"
   ],
   "metadata": {
    "collapsed": false
   },
   "id": "61199d3c3d423bb5",
   "execution_count": null
  },
  {
   "cell_type": "code",
   "outputs": [],
   "source": [
    "np.log([0, 1, 10, 1000, 100000])"
   ],
   "metadata": {
    "collapsed": false
   },
   "id": "3fdeb907b26d54b3",
   "execution_count": null
  },
  {
   "cell_type": "markdown",
   "source": [
    "Pour contrer le problème avec le 0, on fait +1"
   ],
   "metadata": {
    "collapsed": false
   },
   "id": "8af89ae0eefc4eae"
  },
  {
   "cell_type": "code",
   "outputs": [],
   "source": [
    "np.log([0 + 1 , 1 + 1, 10 + 1, 1000 + 1, 100000 + 1])"
   ],
   "metadata": {
    "collapsed": false
   },
   "id": "26a651bcb5a2dc47",
   "execution_count": null
  },
  {
   "cell_type": "markdown",
   "source": [
    "log1p fait la meme chose:"
   ],
   "metadata": {
    "collapsed": false
   },
   "id": "12e6f17a742a324"
  },
  {
   "cell_type": "code",
   "outputs": [],
   "source": [
    "np.log1p([0, 1, 10, 1000, 100000])"
   ],
   "metadata": {
    "collapsed": false
   },
   "id": "d0ff701276180ab7",
   "execution_count": null
  },
  {
   "cell_type": "code",
   "outputs": [],
   "source": [
    "price_logs = np.log1p(df.msrp)"
   ],
   "metadata": {
    "collapsed": false
   },
   "id": "ceef11b86ebca3e2",
   "execution_count": null
  },
  {
   "cell_type": "code",
   "outputs": [],
   "source": [
    "price_logs"
   ],
   "metadata": {
    "collapsed": false
   },
   "id": "5c1cfe8c9aa7290f",
   "execution_count": null
  },
  {
   "cell_type": "code",
   "outputs": [],
   "source": [
    "sns.histplot(data=price_logs, bins=50)"
   ],
   "metadata": {
    "collapsed": false
   },
   "id": "10233f7edcbd9412",
   "execution_count": null
  },
  {
   "cell_type": "markdown",
   "source": [
    "Nous avons obtenus une distribution normale, c'est un situation idéale pour le modèle"
   ],
   "metadata": {
    "collapsed": false
   },
   "id": "9394e28c03e2703"
  },
  {
   "cell_type": "markdown",
   "source": [
    "Missing values (nan)"
   ],
   "metadata": {
    "collapsed": false
   },
   "id": "f32ab27970554c96"
  },
  {
   "cell_type": "code",
   "outputs": [],
   "source": [
    "df.isnull().sum()"
   ],
   "metadata": {
    "collapsed": false
   },
   "id": "6d8f3dfd12fa83db",
   "execution_count": null
  },
  {
   "cell_type": "markdown",
   "source": [
    "engine_fuel_type, engine_cylinders, number_of_doors, market_category  ont des valeurs manquantes"
   ],
   "metadata": {
    "collapsed": false
   },
   "id": "d86d75fb427d246"
  },
  {
   "cell_type": "markdown",
   "source": [
    "## 2.4 Setting up the validation framework"
   ],
   "metadata": {
    "collapsed": false
   },
   "id": "309a603ccf8361db"
  },
  {
   "cell_type": "markdown",
   "source": [
    "On divise le dataset en une partie d'entraintement, une de validation et une de test\n",
    "**Train** 60%\n",
    "**Validation** 20%\n",
    "**Test** 20%"
   ],
   "metadata": {
    "collapsed": false
   },
   "id": "73f309ad893ce5da"
  },
  {
   "cell_type": "code",
   "outputs": [],
   "source": [
    "n = len(df)\n",
    "n_val = int(n * 0.2)\n",
    "n_test = int(n * 0.2)\n",
    "n_train = int(n * 0.6)"
   ],
   "metadata": {
    "collapsed": false
   },
   "id": "d75502899f4322e7",
   "execution_count": null
  },
  {
   "cell_type": "code",
   "outputs": [],
   "source": [
    "n, n_val + n_test + n_train"
   ],
   "metadata": {
    "collapsed": false
   },
   "id": "23ee6a653f592833",
   "execution_count": null
  },
  {
   "cell_type": "markdown",
   "source": [
    "Les valeurs ne sont pas les mêmes du aux arrondis, donc on fait autrement:"
   ],
   "metadata": {
    "collapsed": false
   },
   "id": "ae1809c6d3b46f08"
  },
  {
   "cell_type": "code",
   "outputs": [],
   "source": [
    "n = len(df)\n",
    "n_val = int(n * 0.2)\n",
    "n_test = int(n * 0.2)\n",
    "n_train = n - n_val - n_test"
   ],
   "metadata": {
    "collapsed": false
   },
   "id": "2dbbb2a5c6100096",
   "execution_count": null
  },
  {
   "cell_type": "code",
   "outputs": [],
   "source": [
    "n, n_val + n_test + n_train"
   ],
   "metadata": {
    "collapsed": false
   },
   "id": "d2bcdb4e62b9fb83",
   "execution_count": null
  },
  {
   "cell_type": "code",
   "outputs": [],
   "source": [
    "n_val, n_test, n_train"
   ],
   "metadata": {
    "collapsed": false
   },
   "id": "9e1e89f24d88049b",
   "execution_count": null
  },
  {
   "cell_type": "code",
   "outputs": [],
   "source": [
    "df_val = df.iloc[:n_val]\n",
    "df_test"
   ],
   "metadata": {
    "collapsed": false
   },
   "id": "159f89148085499d",
   "execution_count": null
  },
  {
   "cell_type": "code",
   "outputs": [],
   "source": [],
   "metadata": {
    "collapsed": false
   },
   "id": "26bedbc19e006381"
  }
 ],
 "metadata": {
  "kernelspec": {
   "display_name": "Python 3",
   "language": "python",
   "name": "python3"
  },
  "language_info": {
   "codemirror_mode": {
    "name": "ipython",
    "version": 2
   },
   "file_extension": ".py",
   "mimetype": "text/x-python",
   "name": "python",
   "nbconvert_exporter": "python",
   "pygments_lexer": "ipython2",
   "version": "2.7.6"
  }
 },
 "nbformat": 4,
 "nbformat_minor": 5
}
