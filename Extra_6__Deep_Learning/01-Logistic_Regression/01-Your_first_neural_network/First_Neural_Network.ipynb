{
 "cells": [
  {
   "cell_type": "markdown",
   "metadata": {},
   "source": [
    "# Build your first neural network (with Keras)\n",
    "Neural networks are an area of machine learning that we are hearing a lot about right now... From speech recognition to image searching, autonomous cars and AlphaGo, many of the recent successes of artificial intelligence are based on deep neural networks."
   ]
  },
  {
   "cell_type": "markdown",
   "metadata": {},
   "source": [
    "## What is Keras ?\n",
    "Keras is a high-level neural networks API, written in Python and capable of running on top of TensorFlow, CNTK, or Theano. It was developed with a focus on enabling fast experimentation. Being able to go from idea to result with the least possible delay is key to doing good research.\n",
    "\n",
    "\n",
    "### Install Keras\n",
    "\n",
    "To install this package with conda run one of the following:\n",
    "````\n",
    "conda install -c conda-forge keras \n",
    "conda install -c conda-forge/label/cf201901 keras \n",
    "````\n",
    "\n",
    "Or with pip3\n",
    "````\n",
    "sudo pip3 install keras\n",
    "````"
   ]
  },
  {
   "cell_type": "markdown",
   "metadata": {},
   "source": [
    "## What is the neural network ?\n",
    "A neural network is a set of interconnected formal neurons that solves complex problems such as pattern recognition or natural language processing by adjusting weighting coefficients in a learning phase.\n"
   ]
  },
  {
   "cell_type": "markdown",
   "metadata": {},
   "source": [
    "###  Operation of the neural network\n",
    "A neural network is inspired by the functioning of biological neurons and takes shape in a computer as an algorithm.  \n",
    "The neural network can modify itself according to the results of its actions, which allows learning and problem solving without algorithms, and therefore without traditional programming."
   ]
  },
  {
   "cell_type": "markdown",
   "metadata": {},
   "source": [
    "![biologic vs artificial neuron](./img/bioVSart.png)"
   ]
  },
  {
   "cell_type": "markdown",
   "metadata": {},
   "source": [
    "For our purposes, we can model this neuron according to a set of inputs, which receives a weighted sum of these inputs using weights, adds bias and provides a number based on an activation function. \n"
   ]
  },
  {
   "cell_type": "markdown",
   "metadata": {},
   "source": [
    "![one neuron](./img/nl.png)"
   ]
  },
  {
   "cell_type": "markdown",
   "metadata": {},
   "source": [
    "- **The weights** can be considered as a set of buttons that can be adjusted to obtain different outputs.  \n",
    "\n",
    "\n",
    "- **Bias** can be considered as another button that decides when a neuron remains inactive or, in other words, to what extent the weighted sum must be high for the neuron to be significantly active.  \n",
    "\n",
    "\n",
    "- **The activation function** We will see in more detail the next paragraph"
   ]
  },
  {
   "cell_type": "markdown",
   "metadata": {},
   "source": [
    "### What is an activation function?  \n",
    "\n",
    "The activation function was inspired by the \"action potential\", an electrical phenomenon between two biological neurons.\n",
    "\n",
    "Let's start with a quick reminder of the biology class: A neuron has a cell body, an axon that allows it to send messages to other neurons and dendrites that allow it to receive signals from other neurons.\n",
    "\n",
    "![Image de neuronne](./img/cn.jpg)\n",
    "\n",
    "The neuron receives signals from other neurons through the dendrites. The weight associated with a dendrite, called synaptic weight, is multiplied by the incoming signal. Dendrite signals are accumulated in the cell body and if the resulting signal strength exceeds a certain threshold, the neuron transmits the message to the axon. Otherwise, the signal is killed by the neuron and does not spread any further. The action potential is therefore the variation in signal strength indicating whether or not communication should take place.\n",
    "\n",
    "The activation function decides whether or not to transmit the signal. In this case, it is a simple function with only one parameter: the threshold. Now, when we learn something new, the threshold and connection probability (called synaptic weight) of some neurons change. This creates new connections between neurons, allowing the brain to learn new things.\n",
    "\n",
    "Now let's see how all this works with an artificial neural network: The incoming values in a neuron (x1, x2, x3, ..., xn) are multiplied with their associated weights (reference to synaptic weight) (w1, w2, w3, ..., wn). These multipications are then summed and the bias (reference to the threshold) is added. The image below shows the calculation formula.\n",
    "\n",
    "The purpose of activation is to transform the signal so as to obtain an output value from complex transformations between the inputs. To do this, the activation function must be non-linear. It is this non-linearity that makes it possible to create such transformations.\n",
    "\n",
    "The most commonly used examples of activation functions are sigmoid, softmax, ReLU, tanh, etc.\n",
    "\n",
    "![factivation functions](./img/reLU.png)\n",
    "\n",
    "**Sigmoid :**  \n",
    "The main reason why we use sigmoid function is because it exists between (0 to 1). Therefore, it is especially used for models where we have to predict the probability as an output.Since probability of anything exists only between the range of 0 and 1, sigmoid is the right choice.\n",
    "\n",
    "**Tanh or hyperbolic tangent :**  \n",
    "Tanh is also like logistic sigmoid but better. The range of the tanh function is from (-1 to 1). tanh is also sigmoidal (s - shaped).The advantage is that the negative inputs will be mapped strongly negative and the zero inputs will be mapped near zero in the tanh graph.\n",
    "\n",
    "**ReLU (Rectified Linear Unit) :**  \n",
    "The ReLU is the most used activation function in the world right now.Since, it is used in almost all the convolutional neural networks or deep learning.\n",
    "\n",
    "There are others that are less used. I'll let you check Google to find out."
   ]
  },
  {
   "cell_type": "markdown",
   "metadata": {},
   "source": [
    "### Structure of the network\n",
    "Now that we know how a single neuron works, we can connect them together to form a network in the form of layers.  \n",
    "So an artificial neural network is just an overrated composite function."
   ]
  },
  {
   "cell_type": "markdown",
   "metadata": {},
   "source": [
    "![multicouche](./img/multi.png)"
   ]
  },
  {
   "cell_type": "markdown",
   "metadata": {},
   "source": [
    "A typical neural network consists of 3 types of layers:  \n",
    "\n",
    "- **The input layer:** The given data points are fed into this layer. There can be only 1 input layer. The number of neurons in this layer is equal to the number of inputs. Let's imagine that in input there is a photo that is 28 pixels by 28 pixels. So we need 1 neuron per pixel, which makes 784 Neurons    \n",
    "\n",
    "\n",
    "- **The hidden layers:** These are the layers that try to find patterns in the inputs to get the outputs we need. A network can have an unlimited number of hidden layers.  \n",
    "\n",
    "\n",
    "- **The output layer:** This layer gives us the predictions of the network, ie. the outputs that the network thinks should be correct given its current parameters (weights and biases each neuron). The number of neurons in this layer is equal to the number of values we need to predict. Imagine that we want to create an algorithm that recognizes numbers. Since there are ten digits to recognize (0 to 9), there will be 10 neurons. "
   ]
  },
  {
   "cell_type": "markdown",
   "metadata": {},
   "source": [
    "![neural network](./img/3lnn.svg)"
   ]
  },
  {
   "cell_type": "markdown",
   "metadata": {},
   "source": [
    "Let's see how to implement this"
   ]
  },
  {
   "cell_type": "markdown",
   "metadata": {},
   "source": [
    "## Our dataset: handwritten digits\n",
    "\n",
    "### Overview\n",
    "The MNIST dataset was constructed from two datasets of the US National Institute of Standards and Technology (NIST). The training set consists of handwritten digits from 250 different people, 50 percent high school students, and 50 percent employees from the Census Bureau. Note that the test set contains handwritten digits from different people following the same split.\n",
    "\n",
    "The MNIST dataset is publicly available at http://yann.lecun.com/exdb/mnist/ \n",
    "\n",
    "**But we use keras.datasets**  \n",
    "keras has some methods to download some data known as Yann Lecun's the Dataset.  \n",
    "Feel free to watch and play with the other datasets\n",
    "\n",
    "- https://keras.io/datasets/\n",
    "\n",
    "Before we create and train a model, we have to get some data. We'll be training our network to recognize images of handwritten digits - an easy task for a person, but it would be very difficult to write code that does the same thing without using machine learning.\n",
    "\n",
    "We keep the training and test data separate so we can confirm that our model is able to make predictions on image that it never \"saw\" when it was being trained."
   ]
  },
  {
   "cell_type": "markdown",
   "metadata": {},
   "source": [
    "### Import some tools"
   ]
  },
  {
   "cell_type": "code",
   "outputs": [],
   "source": [
    "from personnal_utils import gpu_activation\n",
    "gpu_activation()"
   ],
   "metadata": {
    "collapsed": false,
    "ExecuteTime": {
     "end_time": "2024-01-22T08:56:23.390246170Z",
     "start_time": "2024-01-22T08:56:23.162355393Z"
    }
   },
   "execution_count": 29
  },
  {
   "cell_type": "code",
   "execution_count": 30,
   "metadata": {
    "ExecuteTime": {
     "end_time": "2024-01-22T08:56:23.411525050Z",
     "start_time": "2024-01-22T08:56:23.394473098Z"
    }
   },
   "outputs": [],
   "source": [
    "import keras\n",
    "import numpy as np\n",
    "from keras.datasets import mnist\n",
    "from keras.models import Sequential\n",
    "from keras.layers import Dense, Dropout, Flatten, Activation\n",
    "from keras.layers import Conv2D, MaxPooling2D\n",
    "from keras import backend as K"
   ]
  },
  {
   "cell_type": "markdown",
   "metadata": {},
   "source": [
    "Lorsque nous téléchargeons nos données, `x_train_raw` contiendra les images que nous utiliserons pour entraîner notre réseau, et `y_train_raw` contiendra les entiers qui sont dessinés dans ces images. De même, `x_test_raw` contiendra les images que nous utiliserons pour tester notre précision et `y_test_raw` contiendra les entiers que nous essayons de trouver. \n",
    "\n",
    "Ils sont suffixés par `_raw` parce que nous aurons besoin d'effectuer un prétraitement avant de pouvoir utiliser ces données pour l'entraînement."
   ]
  },
  {
   "cell_type": "code",
   "execution_count": 31,
   "metadata": {
    "ExecuteTime": {
     "end_time": "2024-01-22T08:56:23.633972366Z",
     "start_time": "2024-01-22T08:56:23.411784252Z"
    }
   },
   "outputs": [],
   "source": [
    "# Nous allons d'abord télécharger les données. \n",
    "# Les données, mélangées et divisées entre les ensembles de formation et de test.\n",
    "(x_train_raw, y_train_raw), (x_test_raw, y_test_raw) = mnist.load_data()"
   ]
  },
  {
   "cell_type": "markdown",
   "metadata": {},
   "source": [
    "**Exercice** : Voyons avec quoi nous travaillons ici. Affichez le type d'objet pour ``x_train_raw`` et ``y_train_raw``."
   ]
  },
  {
   "cell_type": "code",
   "execution_count": 32,
   "metadata": {
    "ExecuteTime": {
     "end_time": "2024-01-22T08:56:23.640147907Z",
     "start_time": "2024-01-22T08:56:23.626299130Z"
    }
   },
   "outputs": [
    {
     "data": {
      "text/plain": "(numpy.ndarray, numpy.ndarray)"
     },
     "execution_count": 32,
     "metadata": {},
     "output_type": "execute_result"
    }
   ],
   "source": [
    "### ENTER YOUR CODE HERE ###\n",
    "type(x_train_raw), type(y_train_raw)"
   ]
  },
  {
   "cell_type": "markdown",
   "metadata": {},
   "source": [
    "The result should be ``<class 'numpy.ndarray'>``.  \n",
    "\n",
    "**Exercice** : Affiche le nombre de dimensions de ``x_train_raw`` et ``y_train_raw`` avec la propriété shape."
   ]
  },
  {
   "cell_type": "code",
   "execution_count": 33,
   "metadata": {
    "ExecuteTime": {
     "end_time": "2024-01-22T08:56:23.647909877Z",
     "start_time": "2024-01-22T08:56:23.634285057Z"
    }
   },
   "outputs": [
    {
     "data": {
      "text/plain": "((60000, 28, 28), (60000,))"
     },
     "execution_count": 33,
     "metadata": {},
     "output_type": "execute_result"
    }
   ],
   "source": [
    "### ENTER YOUR CODE HERE ###\n",
    "x_train_raw.shape, y_train_raw.shape"
   ]
  },
  {
   "cell_type": "markdown",
   "metadata": {},
   "source": [
    "The result should be : \n",
    "````\n",
    "Shape of x_train_raw: (60000, 28, 28)\n",
    "Shape of y_train_raw: (60000,)\n",
    "````\n",
    "\n",
    "The (60000, 28, 28) means there are 60,000 samples in x_train, and each sample is a 2D array with 28 rows and 28 columns.  \n",
    "The (60000,) means there are 60,000 values (labels) in y_train."
   ]
  },
  {
   "cell_type": "markdown",
   "metadata": {},
   "source": [
    "Let's look at some of the images we'll be training on.\n",
    "- Each one is 28 pixels by 28 pixels, and totally black and white.\n",
    "- The 28 rows and 28 columns of numbers in the training data correspond to the 28 rows and 28 columns of pixels in the image.\n",
    "- The darkness of each pixel is represented as a number in the training data, where 0 is a white pixel and 255 is a black pixel. "
   ]
  },
  {
   "cell_type": "markdown",
   "metadata": {},
   "source": [
    "Let's display the images with Matplotlib and the imgshow() method.  \n",
    "Change the i variable to see other images. "
   ]
  },
  {
   "cell_type": "code",
   "execution_count": 34,
   "metadata": {
    "ExecuteTime": {
     "end_time": "2024-01-22T08:56:23.851297961Z",
     "start_time": "2024-01-22T08:56:23.647193125Z"
    }
   },
   "outputs": [
    {
     "data": {
      "text/plain": "<Figure size 640x480 with 1 Axes>",
      "image/png": "[encoded data removed]"
     },
     "metadata": {},
     "output_type": "display_data"
    },
    {
     "name": "stdout",
     "output_type": "stream",
     "text": [
      "This image represents the number 5\n"
     ]
    }
   ],
   "source": [
    "# Import matplotlib\n",
    "import matplotlib.pyplot as plt \n",
    "\n",
    "# Change the value of i and re-run this cell to look at different samples. There's 60,000 to choose from!\n",
    "i = 0\n",
    "\n",
    "plt.imshow(x_train_raw[i], cmap='Greys', interpolation='nearest')\n",
    "plt.show()\n",
    "\n",
    "print('This image represents the number', y_train_raw[i])"
   ]
  },
  {
   "cell_type": "code",
   "execution_count": 35,
   "metadata": {
    "ExecuteTime": {
     "end_time": "2024-01-22T08:56:23.852777221Z",
     "start_time": "2024-01-22T08:56:23.836948392Z"
    }
   },
   "outputs": [
    {
     "name": "stdout",
     "output_type": "stream",
     "text": [
      "[[  0   0   0   0   0   0   0   0   0   0   0   0   0   0   0   0   0   0\n",
      "    0   0   0   0   0   0   0   0   0   0]\n",
      " [  0   0   0   0   0   0   0   0   0   0   0   0   0   0   0   0   0   0\n",
      "    0   0   0   0   0   0   0   0   0   0]\n",
      " [  0   0   0   0   0   0   0   0   0   0   0   0   0   0   0   0   0   0\n",
      "    0   0   0   0   0   0   0   0   0   0]\n",
      " [  0   0   0   0   0   0   0   0   0   0   0   0   0   0   0   0   0   0\n",
      "    0   0   0   0   0   0   0   0   0   0]\n",
      " [  0   0   0   0   0   0   0   0   0   0   0   0   0   0   0   0   0   0\n",
      "    0   0   0   0   0   0   0   0   0   0]\n",
      " [  0   0   0   0   0   0   0   0   0   0   0   0   3  18  18  18 126 136\n",
      "  175  26 166 255 247 127   0   0   0   0]\n",
      " [  0   0   0   0   0   0   0   0  30  36  94 154 170 253 253 253 253 253\n",
      "  225 172 253 242 195  64   0   0   0   0]\n",
      " [  0   0   0   0   0   0   0  49 238 253 253 253 253 253 253 253 253 251\n",
      "   93  82  82  56  39   0   0   0   0   0]\n",
      " [  0   0   0   0   0   0   0  18 219 253 253 253 253 253 198 182 247 241\n",
      "    0   0   0   0   0   0   0   0   0   0]\n",
      " [  0   0   0   0   0   0   0   0  80 156 107 253 253 205  11   0  43 154\n",
      "    0   0   0   0   0   0   0   0   0   0]\n",
      " [  0   0   0   0   0   0   0   0   0  14   1 154 253  90   0   0   0   0\n",
      "    0   0   0   0   0   0   0   0   0   0]\n",
      " [  0   0   0   0   0   0   0   0   0   0   0 139 253 190   2   0   0   0\n",
      "    0   0   0   0   0   0   0   0   0   0]\n",
      " [  0   0   0   0   0   0   0   0   0   0   0  11 190 253  70   0   0   0\n",
      "    0   0   0   0   0   0   0   0   0   0]\n",
      " [  0   0   0   0   0   0   0   0   0   0   0   0  35 241 225 160 108   1\n",
      "    0   0   0   0   0   0   0   0   0   0]\n",
      " [  0   0   0   0   0   0   0   0   0   0   0   0   0  81 240 253 253 119\n",
      "   25   0   0   0   0   0   0   0   0   0]\n",
      " [  0   0   0   0   0   0   0   0   0   0   0   0   0   0  45 186 253 253\n",
      "  150  27   0   0   0   0   0   0   0   0]\n",
      " [  0   0   0   0   0   0   0   0   0   0   0   0   0   0   0  16  93 252\n",
      "  253 187   0   0   0   0   0   0   0   0]\n",
      " [  0   0   0   0   0   0   0   0   0   0   0   0   0   0   0   0   0 249\n",
      "  253 249  64   0   0   0   0   0   0   0]\n",
      " [  0   0   0   0   0   0   0   0   0   0   0   0   0   0  46 130 183 253\n",
      "  253 207   2   0   0   0   0   0   0   0]\n",
      " [  0   0   0   0   0   0   0   0   0   0   0   0  39 148 229 253 253 253\n",
      "  250 182   0   0   0   0   0   0   0   0]\n",
      " [  0   0   0   0   0   0   0   0   0   0  24 114 221 253 253 253 253 201\n",
      "   78   0   0   0   0   0   0   0   0   0]\n",
      " [  0   0   0   0   0   0   0   0  23  66 213 253 253 253 253 198  81   2\n",
      "    0   0   0   0   0   0   0   0   0   0]\n",
      " [  0   0   0   0   0   0  18 171 219 253 253 253 253 195  80   9   0   0\n",
      "    0   0   0   0   0   0   0   0   0   0]\n",
      " [  0   0   0   0  55 172 226 253 253 253 253 244 133  11   0   0   0   0\n",
      "    0   0   0   0   0   0   0   0   0   0]\n",
      " [  0   0   0   0 136 253 253 253 212 135 132  16   0   0   0   0   0   0\n",
      "    0   0   0   0   0   0   0   0   0   0]\n",
      " [  0   0   0   0   0   0   0   0   0   0   0   0   0   0   0   0   0   0\n",
      "    0   0   0   0   0   0   0   0   0   0]\n",
      " [  0   0   0   0   0   0   0   0   0   0   0   0   0   0   0   0   0   0\n",
      "    0   0   0   0   0   0   0   0   0   0]\n",
      " [  0   0   0   0   0   0   0   0   0   0   0   0   0   0   0   0   0   0\n",
      "    0   0   0   0   0   0   0   0   0   0]]\n"
     ]
    }
   ],
   "source": [
    "# This image equal this array\n",
    "print(x_train_raw[i])"
   ]
  },
  {
   "cell_type": "markdown",
   "metadata": {},
   "source": [
    "### Préparation des données pour la formation\n",
    "\n",
    "#### Remodelage de x\n",
    "\n",
    "Notre réseau neuronal aura 784 neurones dans la couche d'entrée - un pour chaque pixel d'une image échantillon. Pour préparer les données pour l'entraînement, nous allons remodeler `x_train_raw` et `x_test_raw` pour que chaque échantillon soit un tableau 2D. \n",
    "\n",
    "**Exercice :** Remodeler `x_train_raw` et `x_test_raw` dans ``(60000, 784)`` et ``(10000, 784)``\n"
   ]
  },
  {
   "cell_type": "code",
   "execution_count": 36,
   "metadata": {
    "ExecuteTime": {
     "end_time": "2024-01-22T08:56:23.854182223Z",
     "start_time": "2024-01-22T08:56:23.842760889Z"
    }
   },
   "outputs": [],
   "source": [
    "### ENTER YOUR CODE HERE ### (2 lines)\n",
    "x_train = x_train_raw.reshape((60000,784))\n",
    "x_test = x_test_raw.reshape((10000,784))"
   ]
  },
  {
   "cell_type": "code",
   "execution_count": 37,
   "metadata": {
    "ExecuteTime": {
     "end_time": "2024-01-22T08:56:23.965677947Z",
     "start_time": "2024-01-22T08:56:23.846708118Z"
    }
   },
   "outputs": [
    {
     "name": "stdout",
     "output_type": "stream",
     "text": [
      "Shape of x_train: (60000, 784)\n",
      "Shape of x_test: (10000, 784)\n"
     ]
    }
   ],
   "source": [
    "# Let's see what we're working with here\n",
    "print('Shape of x_train:', x_train.shape)\n",
    "print('Shape of x_test:', x_test.shape) "
   ]
  },
  {
   "cell_type": "code",
   "execution_count": 38,
   "metadata": {
    "ExecuteTime": {
     "end_time": "2024-01-22T08:56:23.976012440Z",
     "start_time": "2024-01-22T08:56:23.857686728Z"
    }
   },
   "outputs": [
    {
     "data": {
      "text/plain": "array([  0,   0,   0,   0,   0,   0,   0,   0,   0,   0,   0,   0,   0,\n         0,   0,   0,   0,   0,   0,   0,   0,   0,   0,   0,   0,   0,\n         0,   0,   0,   0,   0,   0,   0,   0,   0,   0,   0,   0,   0,\n         0,   0,   0,   0,   0,   0,   0,   0,   0,   0,   0,   0,   0,\n         0,   0,   0,   0,   0,   0,   0,   0,   0,   0,   0,   0,   0,\n         0,   0,   0,   0,   0,   0,   0,   0,   0,   0,   0,   0,   0,\n         0,   0,   0,   0,   0,   0,   0,   0,   0,   0,   0,   0,   0,\n         0,   0,   0,   0,   0,   0,   0,   0,   0,   0,   0,   0,   0,\n         0,   0,   0,   0,   0,   0,   0,   0,   0,   0,   0,   0,   0,\n         0,   0,   0,   0,   0,   0,   0,   0,   0,   0,   0,   0,   0,\n         0,   0,   0,   0,   0,   0,   0,   0,   0,   0,   0,   0,   0,\n         0,   0,   0,   0,   0,   0,   0,   0,   0,   3,  18,  18,  18,\n       126, 136, 175,  26, 166, 255, 247, 127,   0,   0,   0,   0,   0,\n         0,   0,   0,   0,   0,   0,   0,  30,  36,  94, 154, 170, 253,\n       253, 253, 253, 253, 225, 172, 253, 242, 195,  64,   0,   0,   0,\n         0,   0,   0,   0,   0,   0,   0,   0,  49, 238, 253, 253, 253,\n       253, 253, 253, 253, 253, 251,  93,  82,  82,  56,  39,   0,   0,\n         0,   0,   0,   0,   0,   0,   0,   0,   0,   0,  18, 219, 253,\n       253, 253, 253, 253, 198, 182, 247, 241,   0,   0,   0,   0,   0,\n         0,   0,   0,   0,   0,   0,   0,   0,   0,   0,   0,   0,   0,\n        80, 156, 107, 253, 253, 205,  11,   0,  43, 154,   0,   0,   0,\n         0,   0,   0,   0,   0,   0,   0,   0,   0,   0,   0,   0,   0,\n         0,   0,   0,  14,   1, 154, 253,  90,   0,   0,   0,   0,   0,\n         0,   0,   0,   0,   0,   0,   0,   0,   0,   0,   0,   0,   0,\n         0,   0,   0,   0,   0,   0,   0, 139, 253, 190,   2,   0,   0,\n         0,   0,   0,   0,   0,   0,   0,   0,   0,   0,   0,   0,   0,\n         0,   0,   0,   0,   0,   0,   0,   0,   0,  11, 190, 253,  70,\n         0,   0,   0,   0,   0,   0,   0,   0,   0,   0,   0,   0,   0,\n         0,   0,   0,   0,   0,   0,   0,   0,   0,   0,   0,   0,  35,\n       241, 225, 160, 108,   1,   0,   0,   0,   0,   0,   0,   0,   0,\n         0,   0,   0,   0,   0,   0,   0,   0,   0,   0,   0,   0,   0,\n         0,   0,  81, 240, 253, 253, 119,  25,   0,   0,   0,   0,   0,\n         0,   0,   0,   0,   0,   0,   0,   0,   0,   0,   0,   0,   0,\n         0,   0,   0,   0,   0,  45, 186, 253, 253, 150,  27,   0,   0,\n         0,   0,   0,   0,   0,   0,   0,   0,   0,   0,   0,   0,   0,\n         0,   0,   0,   0,   0,   0,   0,   0,  16,  93, 252, 253, 187,\n         0,   0,   0,   0,   0,   0,   0,   0,   0,   0,   0,   0,   0,\n         0,   0,   0,   0,   0,   0,   0,   0,   0,   0,   0,   0, 249,\n       253, 249,  64,   0,   0,   0,   0,   0,   0,   0,   0,   0,   0,\n         0,   0,   0,   0,   0,   0,   0,   0,   0,   0,   0,  46, 130,\n       183, 253, 253, 207,   2,   0,   0,   0,   0,   0,   0,   0,   0,\n         0,   0,   0,   0,   0,   0,   0,   0,   0,   0,   0,  39, 148,\n       229, 253, 253, 253, 250, 182,   0,   0,   0,   0,   0,   0,   0,\n         0,   0,   0,   0,   0,   0,   0,   0,   0,   0,   0,  24, 114,\n       221, 253, 253, 253, 253, 201,  78,   0,   0,   0,   0,   0,   0,\n         0,   0,   0,   0,   0,   0,   0,   0,   0,   0,   0,  23,  66,\n       213, 253, 253, 253, 253, 198,  81,   2,   0,   0,   0,   0,   0,\n         0,   0,   0,   0,   0,   0,   0,   0,   0,   0,   0,  18, 171,\n       219, 253, 253, 253, 253, 195,  80,   9,   0,   0,   0,   0,   0,\n         0,   0,   0,   0,   0,   0,   0,   0,   0,   0,   0,  55, 172,\n       226, 253, 253, 253, 253, 244, 133,  11,   0,   0,   0,   0,   0,\n         0,   0,   0,   0,   0,   0,   0,   0,   0,   0,   0,   0,   0,\n       136, 253, 253, 253, 212, 135, 132,  16,   0,   0,   0,   0,   0,\n         0,   0,   0,   0,   0,   0,   0,   0,   0,   0,   0,   0,   0,\n         0,   0,   0,   0,   0,   0,   0,   0,   0,   0,   0,   0,   0,\n         0,   0,   0,   0,   0,   0,   0,   0,   0,   0,   0,   0,   0,\n         0,   0,   0,   0,   0,   0,   0,   0,   0,   0,   0,   0,   0,\n         0,   0,   0,   0,   0,   0,   0,   0,   0,   0,   0,   0,   0,\n         0,   0,   0,   0,   0,   0,   0,   0,   0,   0,   0,   0,   0,\n         0,   0,   0,   0,   0,   0,   0,   0,   0,   0,   0,   0,   0,\n         0,   0,   0,   0], dtype=uint8)"
     },
     "execution_count": 38,
     "metadata": {},
     "output_type": "execute_result"
    }
   ],
   "source": [
    "x_train[i]"
   ]
  },
  {
   "cell_type": "markdown",
   "metadata": {},
   "source": [
    "#### Rescaling x\n",
    "\n",
    "We'll also rescale the values of `x_train` and `x_test` to be between 0 and 1.\n",
    "Scaling the data speeds up training."
   ]
  },
  {
   "cell_type": "code",
   "execution_count": 39,
   "metadata": {
    "ExecuteTime": {
     "end_time": "2024-01-22T08:56:24.026872084Z",
     "start_time": "2024-01-22T08:56:23.900015602Z"
    }
   },
   "outputs": [],
   "source": [
    "x_train = x_train.astype('float32')\n",
    "x_test = x_test.astype('float32')\n",
    "x_train /= 255\n",
    "x_test /= 255"
   ]
  },
  {
   "cell_type": "code",
   "execution_count": 40,
   "metadata": {
    "ExecuteTime": {
     "end_time": "2024-01-22T08:56:24.044701952Z",
     "start_time": "2024-01-22T08:56:23.944880973Z"
    }
   },
   "outputs": [
    {
     "data": {
      "text/plain": "array([0.        , 0.        , 0.        , 0.        , 0.        ,\n       0.        , 0.        , 0.        , 0.        , 0.        ,\n       0.        , 0.        , 0.        , 0.        , 0.        ,\n       0.        , 0.        , 0.        , 0.        , 0.        ,\n       0.        , 0.        , 0.        , 0.        , 0.        ,\n       0.        , 0.        , 0.        , 0.        , 0.        ,\n       0.        , 0.        , 0.        , 0.        , 0.        ,\n       0.        , 0.        , 0.        , 0.        , 0.        ,\n       0.        , 0.        , 0.        , 0.        , 0.        ,\n       0.        , 0.        , 0.        , 0.        , 0.        ,\n       0.        , 0.        , 0.        , 0.        , 0.        ,\n       0.        , 0.        , 0.        , 0.        , 0.        ,\n       0.        , 0.        , 0.        , 0.        , 0.        ,\n       0.        , 0.        , 0.        , 0.        , 0.        ,\n       0.        , 0.        , 0.        , 0.        , 0.        ,\n       0.        , 0.        , 0.        , 0.        , 0.        ,\n       0.        , 0.        , 0.        , 0.        , 0.        ,\n       0.        , 0.        , 0.        , 0.        , 0.        ,\n       0.        , 0.        , 0.        , 0.        , 0.        ,\n       0.        , 0.        , 0.        , 0.        , 0.        ,\n       0.        , 0.        , 0.        , 0.        , 0.        ,\n       0.        , 0.        , 0.        , 0.        , 0.        ,\n       0.        , 0.        , 0.        , 0.        , 0.        ,\n       0.        , 0.        , 0.        , 0.        , 0.        ,\n       0.        , 0.        , 0.        , 0.        , 0.        ,\n       0.        , 0.        , 0.        , 0.        , 0.        ,\n       0.        , 0.        , 0.        , 0.        , 0.        ,\n       0.        , 0.        , 0.        , 0.        , 0.        ,\n       0.        , 0.        , 0.        , 0.        , 0.        ,\n       0.        , 0.        , 0.        , 0.        , 0.        ,\n       0.        , 0.        , 0.01176471, 0.07058824, 0.07058824,\n       0.07058824, 0.49411765, 0.53333336, 0.6862745 , 0.10196079,\n       0.6509804 , 1.        , 0.96862745, 0.49803922, 0.        ,\n       0.        , 0.        , 0.        , 0.        , 0.        ,\n       0.        , 0.        , 0.        , 0.        , 0.        ,\n       0.        , 0.11764706, 0.14117648, 0.36862746, 0.6039216 ,\n       0.6666667 , 0.99215686, 0.99215686, 0.99215686, 0.99215686,\n       0.99215686, 0.88235295, 0.6745098 , 0.99215686, 0.9490196 ,\n       0.7647059 , 0.2509804 , 0.        , 0.        , 0.        ,\n       0.        , 0.        , 0.        , 0.        , 0.        ,\n       0.        , 0.        , 0.        , 0.19215687, 0.93333334,\n       0.99215686, 0.99215686, 0.99215686, 0.99215686, 0.99215686,\n       0.99215686, 0.99215686, 0.99215686, 0.9843137 , 0.3647059 ,\n       0.32156864, 0.32156864, 0.21960784, 0.15294118, 0.        ,\n       0.        , 0.        , 0.        , 0.        , 0.        ,\n       0.        , 0.        , 0.        , 0.        , 0.        ,\n       0.        , 0.07058824, 0.85882354, 0.99215686, 0.99215686,\n       0.99215686, 0.99215686, 0.99215686, 0.7764706 , 0.7137255 ,\n       0.96862745, 0.94509804, 0.        , 0.        , 0.        ,\n       0.        , 0.        , 0.        , 0.        , 0.        ,\n       0.        , 0.        , 0.        , 0.        , 0.        ,\n       0.        , 0.        , 0.        , 0.        , 0.        ,\n       0.3137255 , 0.6117647 , 0.41960785, 0.99215686, 0.99215686,\n       0.8039216 , 0.04313726, 0.        , 0.16862746, 0.6039216 ,\n       0.        , 0.        , 0.        , 0.        , 0.        ,\n       0.        , 0.        , 0.        , 0.        , 0.        ,\n       0.        , 0.        , 0.        , 0.        , 0.        ,\n       0.        , 0.        , 0.        , 0.        , 0.05490196,\n       0.00392157, 0.6039216 , 0.99215686, 0.3529412 , 0.        ,\n       0.        , 0.        , 0.        , 0.        , 0.        ,\n       0.        , 0.        , 0.        , 0.        , 0.        ,\n       0.        , 0.        , 0.        , 0.        , 0.        ,\n       0.        , 0.        , 0.        , 0.        , 0.        ,\n       0.        , 0.        , 0.        , 0.        , 0.54509807,\n       0.99215686, 0.74509805, 0.00784314, 0.        , 0.        ,\n       0.        , 0.        , 0.        , 0.        , 0.        ,\n       0.        , 0.        , 0.        , 0.        , 0.        ,\n       0.        , 0.        , 0.        , 0.        , 0.        ,\n       0.        , 0.        , 0.        , 0.        , 0.        ,\n       0.        , 0.        , 0.04313726, 0.74509805, 0.99215686,\n       0.27450982, 0.        , 0.        , 0.        , 0.        ,\n       0.        , 0.        , 0.        , 0.        , 0.        ,\n       0.        , 0.        , 0.        , 0.        , 0.        ,\n       0.        , 0.        , 0.        , 0.        , 0.        ,\n       0.        , 0.        , 0.        , 0.        , 0.        ,\n       0.        , 0.13725491, 0.94509804, 0.88235295, 0.627451  ,\n       0.42352942, 0.00392157, 0.        , 0.        , 0.        ,\n       0.        , 0.        , 0.        , 0.        , 0.        ,\n       0.        , 0.        , 0.        , 0.        , 0.        ,\n       0.        , 0.        , 0.        , 0.        , 0.        ,\n       0.        , 0.        , 0.        , 0.        , 0.        ,\n       0.31764707, 0.9411765 , 0.99215686, 0.99215686, 0.46666667,\n       0.09803922, 0.        , 0.        , 0.        , 0.        ,\n       0.        , 0.        , 0.        , 0.        , 0.        ,\n       0.        , 0.        , 0.        , 0.        , 0.        ,\n       0.        , 0.        , 0.        , 0.        , 0.        ,\n       0.        , 0.        , 0.        , 0.        , 0.1764706 ,\n       0.7294118 , 0.99215686, 0.99215686, 0.5882353 , 0.10588235,\n       0.        , 0.        , 0.        , 0.        , 0.        ,\n       0.        , 0.        , 0.        , 0.        , 0.        ,\n       0.        , 0.        , 0.        , 0.        , 0.        ,\n       0.        , 0.        , 0.        , 0.        , 0.        ,\n       0.        , 0.        , 0.        , 0.0627451 , 0.3647059 ,\n       0.9882353 , 0.99215686, 0.73333335, 0.        , 0.        ,\n       0.        , 0.        , 0.        , 0.        , 0.        ,\n       0.        , 0.        , 0.        , 0.        , 0.        ,\n       0.        , 0.        , 0.        , 0.        , 0.        ,\n       0.        , 0.        , 0.        , 0.        , 0.        ,\n       0.        , 0.        , 0.        , 0.9764706 , 0.99215686,\n       0.9764706 , 0.2509804 , 0.        , 0.        , 0.        ,\n       0.        , 0.        , 0.        , 0.        , 0.        ,\n       0.        , 0.        , 0.        , 0.        , 0.        ,\n       0.        , 0.        , 0.        , 0.        , 0.        ,\n       0.        , 0.        , 0.        , 0.18039216, 0.50980395,\n       0.7176471 , 0.99215686, 0.99215686, 0.8117647 , 0.00784314,\n       0.        , 0.        , 0.        , 0.        , 0.        ,\n       0.        , 0.        , 0.        , 0.        , 0.        ,\n       0.        , 0.        , 0.        , 0.        , 0.        ,\n       0.        , 0.        , 0.        , 0.        , 0.15294118,\n       0.5803922 , 0.8980392 , 0.99215686, 0.99215686, 0.99215686,\n       0.98039216, 0.7137255 , 0.        , 0.        , 0.        ,\n       0.        , 0.        , 0.        , 0.        , 0.        ,\n       0.        , 0.        , 0.        , 0.        , 0.        ,\n       0.        , 0.        , 0.        , 0.        , 0.        ,\n       0.09411765, 0.44705883, 0.8666667 , 0.99215686, 0.99215686,\n       0.99215686, 0.99215686, 0.7882353 , 0.30588236, 0.        ,\n       0.        , 0.        , 0.        , 0.        , 0.        ,\n       0.        , 0.        , 0.        , 0.        , 0.        ,\n       0.        , 0.        , 0.        , 0.        , 0.        ,\n       0.        , 0.09019608, 0.25882354, 0.8352941 , 0.99215686,\n       0.99215686, 0.99215686, 0.99215686, 0.7764706 , 0.31764707,\n       0.00784314, 0.        , 0.        , 0.        , 0.        ,\n       0.        , 0.        , 0.        , 0.        , 0.        ,\n       0.        , 0.        , 0.        , 0.        , 0.        ,\n       0.        , 0.        , 0.07058824, 0.67058825, 0.85882354,\n       0.99215686, 0.99215686, 0.99215686, 0.99215686, 0.7647059 ,\n       0.3137255 , 0.03529412, 0.        , 0.        , 0.        ,\n       0.        , 0.        , 0.        , 0.        , 0.        ,\n       0.        , 0.        , 0.        , 0.        , 0.        ,\n       0.        , 0.        , 0.        , 0.21568628, 0.6745098 ,\n       0.8862745 , 0.99215686, 0.99215686, 0.99215686, 0.99215686,\n       0.95686275, 0.52156866, 0.04313726, 0.        , 0.        ,\n       0.        , 0.        , 0.        , 0.        , 0.        ,\n       0.        , 0.        , 0.        , 0.        , 0.        ,\n       0.        , 0.        , 0.        , 0.        , 0.        ,\n       0.        , 0.53333336, 0.99215686, 0.99215686, 0.99215686,\n       0.83137256, 0.5294118 , 0.5176471 , 0.0627451 , 0.        ,\n       0.        , 0.        , 0.        , 0.        , 0.        ,\n       0.        , 0.        , 0.        , 0.        , 0.        ,\n       0.        , 0.        , 0.        , 0.        , 0.        ,\n       0.        , 0.        , 0.        , 0.        , 0.        ,\n       0.        , 0.        , 0.        , 0.        , 0.        ,\n       0.        , 0.        , 0.        , 0.        , 0.        ,\n       0.        , 0.        , 0.        , 0.        , 0.        ,\n       0.        , 0.        , 0.        , 0.        , 0.        ,\n       0.        , 0.        , 0.        , 0.        , 0.        ,\n       0.        , 0.        , 0.        , 0.        , 0.        ,\n       0.        , 0.        , 0.        , 0.        , 0.        ,\n       0.        , 0.        , 0.        , 0.        , 0.        ,\n       0.        , 0.        , 0.        , 0.        , 0.        ,\n       0.        , 0.        , 0.        , 0.        , 0.        ,\n       0.        , 0.        , 0.        , 0.        , 0.        ,\n       0.        , 0.        , 0.        , 0.        , 0.        ,\n       0.        , 0.        , 0.        , 0.        , 0.        ,\n       0.        , 0.        , 0.        , 0.        , 0.        ,\n       0.        , 0.        , 0.        , 0.        , 0.        ,\n       0.        , 0.        , 0.        , 0.        ], dtype=float32)"
     },
     "execution_count": 40,
     "metadata": {},
     "output_type": "execute_result"
    }
   ],
   "source": [
    "x_train[i]"
   ]
  },
  {
   "cell_type": "markdown",
   "metadata": {},
   "source": [
    "Now all RGB's values have been converted to values ranging from 0 to 1."
   ]
  },
  {
   "cell_type": "markdown",
   "metadata": {},
   "source": [
    "#### Encodage catégorique y\n",
    "\n",
    "Nous allons également changer les valeurs de `y_train` et `y_test` d'entiers à un encodage catégorique. Les nouvelles valeurs seront des tableaux de longueur 10, où toutes les valeurs sont 0 sauf lorsque l'index est le nombre désiré, qui sera 1. Par exemple, si le nombre représenté dans l'image était 2, le codage catégorique serait `[0, 0, 1, 0, 0, 0, 0, 0, 0]` (puisque la troisième position a l'index 2).\n",
    "\n",
    "Pourquoi avons-nous fait cela ? De cette façon, notre couche de sortie aura 10 neurones, où chaque neurone correspond à un nombre différent.\n",
    "![cible](./img/target.png)\n",
    "\n",
    "Dans le cas de cette image, il s'agit de 6\n",
    "\n",
    "**Exercice :** Convertir `y_train_raw` et `y_test_raw` en matrices de classes binaires avec [to_categorical method](https://www.tensorflow.org/api_docs/python/tf/keras/utils/to_categorical)"
   ]
  },
  {
   "cell_type": "code",
   "execution_count": 41,
   "metadata": {
    "ExecuteTime": {
     "end_time": "2024-01-22T08:56:24.046100372Z",
     "start_time": "2024-01-22T08:56:23.966086406Z"
    }
   },
   "outputs": [],
   "source": [
    "from keras.utils import to_categorical\n",
    "\n",
    "### Convert `y_train_raw` and `y_test_raw` to binary class matrices\n",
    "### ENTER YOUR CODE HERE ### (2 lines)\n",
    "y_train = to_categorical(y_train_raw)\n",
    "y_test = to_categorical(y_test_raw)\n",
    "\n",
    "### END ### "
   ]
  },
  {
   "cell_type": "code",
   "execution_count": 42,
   "metadata": {
    "ExecuteTime": {
     "end_time": "2024-01-22T08:56:24.054267646Z",
     "start_time": "2024-01-22T08:56:23.966254479Z"
    }
   },
   "outputs": [
    {
     "name": "stdout",
     "output_type": "stream",
     "text": [
      "[[0. 0. 0. ... 0. 0. 0.]\n",
      " [1. 0. 0. ... 0. 0. 0.]\n",
      " [0. 0. 0. ... 0. 0. 0.]\n",
      " ...\n",
      " [0. 0. 0. ... 0. 0. 0.]\n",
      " [0. 0. 0. ... 0. 0. 0.]\n",
      " [0. 0. 0. ... 0. 1. 0.]]\n"
     ]
    }
   ],
   "source": [
    "print(y_train)"
   ]
  },
  {
   "cell_type": "markdown",
   "metadata": {},
   "source": [
    "---\n",
    "## Construction du réseau neuronal\n",
    "\n",
    "Il est temps de construire votre réseau ! Voici un bref aperçu de la façon de travailler avec Keras pour vous aider à démarrer.\n",
    "\n",
    "La structure de données centrale de Keras est un modèle, un moyen d'organiser les couches. Le type de modèle le plus simple est le [modèle séquentiel] (https://keras.io/models/sequential/), une pile linéaire de couches. Pour des architectures plus complexes, vous devriez utiliser l'API fonctionnelle de Keras, qui permet de construire des graphes arbitraires de couches.\n",
    "\n",
    "\n",
    "**Exercice :** Créez un nouveau modèle en appelant ``Sequential```."
   ]
  },
  {
   "cell_type": "code",
   "execution_count": 43,
   "metadata": {
    "ExecuteTime": {
     "end_time": "2024-01-22T08:56:24.063040105Z",
     "start_time": "2024-01-22T08:56:24.011691351Z"
    }
   },
   "outputs": [],
   "source": [
    "### ENTER YOUR CODE HERE ### (1 line)\n",
    "model = Sequential()"
   ]
  },
  {
   "cell_type": "markdown",
   "metadata": {},
   "source": [
    "#### Ajouter une couche cachée\n",
    "Les couches [denses] (https://keras.io/layers/core/#dense) sont entièrement connectées, chaque neurone de la couche précédente étant connecté à chaque neurone de la nouvelle couche. Le nombre que vous passez en argument est le nombre de nouveaux neurones qui sont créés.\n",
    "\n",
    "![couche dense](./img/dense.png)\n",
    "\n",
    "Puisque la couche d'entrée ne fait rien, la première couche que vous créez avec Keras est en fait la première couche *cachée*. Elle doit savoir à combien d'entrées elle doit s'attendre, ce que vous pouvez spécifier avec `input_shape`. Après la première couche, aucune autre couche n'a besoin de `input_shape`.\n",
    "\n",
    "Utilisez l'objet ``Dense()``.  \n",
    "\n",
    "**Exercice :** Ajoutez la couche ``Dense()`` dans votre modèle avec `model.add(`layer`)`. N'oubliez pas d'indiquer le nombre d'entrées, dans notre cas 784 entrées ! EX : ``input_shape=(784, )``. Votre couche dense doit contenir 10 neurones\n",
    "\n",
    "(Voir la documentation) (https://keras.io/layers/core/#dense)"
   ]
  },
  {
   "cell_type": "code",
   "execution_count": 44,
   "metadata": {
    "ExecuteTime": {
     "end_time": "2024-01-22T08:56:24.065437832Z",
     "start_time": "2024-01-22T08:56:24.011875293Z"
    }
   },
   "outputs": [],
   "source": [
    "### ENTER YOUR CODE HERE ### (1 line)\n",
    "model.add(Dense(units=10, input_shape=(784,)))\n",
    "\n",
    "### ENTER YOUR CODE HERE ### (1 line)\n"
   ]
  },
  {
   "cell_type": "markdown",
   "metadata": {},
   "source": [
    "#### After adding a `Dense` layer, add an [Activation](https://keras.io/activations/) layer.\n",
    "\n",
    "This layer represents the activation functions for all the neurons in the layer before it. There are plenty of choices of actiation functions: `'sigmoid'`, `'hard_sigmoid'`, `'relu'`, `'softplus'`, `'tanh'`, `'softsign'`, `'softmax'`, `'elu'`, `'selu'`, and `'linear'`. If you're curious about what these activation functions look like, google is your friend!\n",
    "\n",
    "**Exercise :** Add an [Activation](https://keras.io/activations/) layer with ``softmax`` parameter. "
   ]
  },
  {
   "cell_type": "code",
   "execution_count": 45,
   "metadata": {
    "ExecuteTime": {
     "end_time": "2024-01-22T08:56:24.067149034Z",
     "start_time": "2024-01-22T08:56:24.011963707Z"
    }
   },
   "outputs": [],
   "source": [
    "### ENTER YOUR CODE HERE ### (1 line)\n",
    "model.add(Activation('softmax'))\n"
   ]
  },
  {
   "cell_type": "markdown",
   "metadata": {},
   "source": [
    "We will already try to see what our model gives with a single layer and there \"softmax\" activation function !"
   ]
  },
  {
   "cell_type": "markdown",
   "metadata": {},
   "source": [
    "### Compiling the model\n",
    "Once the model is built, it has to be compiled with `model.compile`\n",
    "These are added during the model's compile step:\n",
    "\n",
    "- *Optimizer* : his is how the model is updated based on the data it sees and its loss function. The `'optimizer'` is the strategy you want to use to find the right weights and biases for your model. A solid go-to choice is `'adam'`, but there are many others: `'sgd'`, `'rmsprop'`, `'adagrad'`, `'adadelta'`, `'adamax'`, and `'nadam'`.\n",
    "\n",
    "- *Loss function* : This measures how accurate the model is during training. We want to minimize this function to \"steer\" the model in the right direction. The `loss` argument describes the way you want the optimizer to gauge the correctness of the model. We'll be using `'categorical_crossentropy'` for this model.\n",
    "\n",
    "- *Metrics* : Used to monitor the training and testing steps. The following example uses accuracy, the fraction of the images that are correctly classified."
   ]
  },
  {
   "cell_type": "code",
   "execution_count": 46,
   "metadata": {
    "ExecuteTime": {
     "end_time": "2024-01-22T08:56:24.069207841Z",
     "start_time": "2024-01-22T08:56:24.012092857Z"
    }
   },
   "outputs": [],
   "source": [
    "model.compile(loss=keras.losses.categorical_crossentropy,\n",
    "              optimizer=\"adam\",\n",
    "              metrics=['accuracy'])"
   ]
  },
  {
   "cell_type": "markdown",
   "metadata": {},
   "source": [
    "### Training the model\n",
    "\n",
    "We'll be using the data in `x_train` and `y_train` to fit the weights and biases in our model. \n",
    "\n",
    "The number of `epochs` is the number of times the model trains on every sample of the training set. More epochs means the model gets more opportunities to learn from the data, but it means the model takes longer to train. \n",
    "\n",
    "Too many epochs can also lead to *overfitting*, where instead of learning a general solution to the problem, the model essentially \"memorizes\" the answers for the examples it was trained on. If this happens, the accuracy on the training set is very high, while the accuracy on the test set is low. This is one of the reasons we keep the training and test sets separate, so we can tell if our model has been overfit.\n",
    "\n",
    "\n",
    "**Exercise :** Use the data in `x_train` and `y_train` to fit in our model. Change the number of epochs to improve your model. But normally, a maximum of 80 epochs should be used here."
   ]
  },
  {
   "cell_type": "code",
   "execution_count": 47,
   "metadata": {
    "ExecuteTime": {
     "end_time": "2024-01-22T09:02:30.528476171Z",
     "start_time": "2024-01-22T08:56:24.012177675Z"
    }
   },
   "outputs": [
    {
     "name": "stdout",
     "output_type": "stream",
     "text": [
      "Epoch 1/80\n",
      "1875/1875 [==============================] - 5s 3ms/step - loss: 0.4675 - accuracy: 0.8771\n",
      "Epoch 2/80\n",
      "1875/1875 [==============================] - 5s 3ms/step - loss: 0.3047 - accuracy: 0.9146\n",
      "Epoch 3/80\n",
      "1875/1875 [==============================] - 5s 3ms/step - loss: 0.2841 - accuracy: 0.9205\n",
      "Epoch 4/80\n",
      "1875/1875 [==============================] - 5s 3ms/step - loss: 0.2731 - accuracy: 0.9235\n",
      "Epoch 5/80\n",
      "1875/1875 [==============================] - 4s 2ms/step - loss: 0.2670 - accuracy: 0.9257\n",
      "Epoch 6/80\n",
      "1875/1875 [==============================] - 5s 2ms/step - loss: 0.2618 - accuracy: 0.9274\n",
      "Epoch 7/80\n",
      "1875/1875 [==============================] - 4s 2ms/step - loss: 0.2583 - accuracy: 0.9287\n",
      "Epoch 8/80\n",
      "1875/1875 [==============================] - 4s 2ms/step - loss: 0.2559 - accuracy: 0.9291\n",
      "Epoch 9/80\n",
      "1875/1875 [==============================] - 4s 2ms/step - loss: 0.2535 - accuracy: 0.9297\n",
      "Epoch 10/80\n",
      "1875/1875 [==============================] - 4s 2ms/step - loss: 0.2508 - accuracy: 0.9304\n",
      "Epoch 11/80\n",
      "1875/1875 [==============================] - 4s 2ms/step - loss: 0.2495 - accuracy: 0.9317\n",
      "Epoch 12/80\n",
      "1875/1875 [==============================] - 4s 2ms/step - loss: 0.2479 - accuracy: 0.9313\n",
      "Epoch 13/80\n",
      "1875/1875 [==============================] - 4s 2ms/step - loss: 0.2464 - accuracy: 0.9317\n",
      "Epoch 14/80\n",
      "1875/1875 [==============================] - 4s 2ms/step - loss: 0.2450 - accuracy: 0.9319\n",
      "Epoch 15/80\n",
      "1875/1875 [==============================] - 4s 2ms/step - loss: 0.2441 - accuracy: 0.9325\n",
      "Epoch 16/80\n",
      "1875/1875 [==============================] - 4s 2ms/step - loss: 0.2434 - accuracy: 0.9328\n",
      "Epoch 17/80\n",
      "1875/1875 [==============================] - 4s 2ms/step - loss: 0.2420 - accuracy: 0.9330\n",
      "Epoch 18/80\n",
      "1875/1875 [==============================] - 4s 2ms/step - loss: 0.2410 - accuracy: 0.9332\n",
      "Epoch 19/80\n",
      "1875/1875 [==============================] - 4s 2ms/step - loss: 0.2400 - accuracy: 0.9337\n",
      "Epoch 20/80\n",
      "1875/1875 [==============================] - 4s 2ms/step - loss: 0.2397 - accuracy: 0.9334\n",
      "Epoch 21/80\n",
      "1875/1875 [==============================] - 4s 2ms/step - loss: 0.2392 - accuracy: 0.9340\n",
      "Epoch 22/80\n",
      "1875/1875 [==============================] - 4s 2ms/step - loss: 0.2386 - accuracy: 0.9340\n",
      "Epoch 23/80\n",
      "1875/1875 [==============================] - 4s 2ms/step - loss: 0.2378 - accuracy: 0.9341\n",
      "Epoch 24/80\n",
      "1875/1875 [==============================] - 4s 2ms/step - loss: 0.2375 - accuracy: 0.9346\n",
      "Epoch 25/80\n",
      "1875/1875 [==============================] - 4s 2ms/step - loss: 0.2363 - accuracy: 0.9350\n",
      "Epoch 26/80\n",
      "1875/1875 [==============================] - 4s 2ms/step - loss: 0.2363 - accuracy: 0.9352\n",
      "Epoch 27/80\n",
      "1875/1875 [==============================] - 4s 2ms/step - loss: 0.2356 - accuracy: 0.9353\n",
      "Epoch 28/80\n",
      "1875/1875 [==============================] - 4s 2ms/step - loss: 0.2353 - accuracy: 0.9348\n",
      "Epoch 29/80\n",
      "1875/1875 [==============================] - 4s 2ms/step - loss: 0.2350 - accuracy: 0.9351\n",
      "Epoch 30/80\n",
      "1875/1875 [==============================] - 4s 2ms/step - loss: 0.2345 - accuracy: 0.9355\n",
      "Epoch 31/80\n",
      "1875/1875 [==============================] - 4s 2ms/step - loss: 0.2341 - accuracy: 0.9353\n",
      "Epoch 32/80\n",
      "1875/1875 [==============================] - 4s 2ms/step - loss: 0.2340 - accuracy: 0.9351\n",
      "Epoch 33/80\n",
      "1875/1875 [==============================] - 4s 2ms/step - loss: 0.2331 - accuracy: 0.9359\n",
      "Epoch 34/80\n",
      "1875/1875 [==============================] - 4s 2ms/step - loss: 0.2330 - accuracy: 0.9349\n",
      "Epoch 35/80\n",
      "1875/1875 [==============================] - 4s 2ms/step - loss: 0.2329 - accuracy: 0.9352\n",
      "Epoch 36/80\n",
      "1875/1875 [==============================] - 4s 2ms/step - loss: 0.2323 - accuracy: 0.9361\n",
      "Epoch 37/80\n",
      "1875/1875 [==============================] - 4s 2ms/step - loss: 0.2321 - accuracy: 0.9361\n",
      "Epoch 38/80\n",
      "1875/1875 [==============================] - 5s 3ms/step - loss: 0.2315 - accuracy: 0.9355\n",
      "Epoch 39/80\n",
      "1875/1875 [==============================] - 4s 2ms/step - loss: 0.2314 - accuracy: 0.9355\n",
      "Epoch 40/80\n",
      "1875/1875 [==============================] - 4s 2ms/step - loss: 0.2309 - accuracy: 0.9354\n",
      "Epoch 41/80\n",
      "1875/1875 [==============================] - 4s 2ms/step - loss: 0.2309 - accuracy: 0.9357\n",
      "Epoch 42/80\n",
      "1875/1875 [==============================] - 4s 2ms/step - loss: 0.2308 - accuracy: 0.9361\n",
      "Epoch 43/80\n",
      "1875/1875 [==============================] - 4s 2ms/step - loss: 0.2298 - accuracy: 0.9365\n",
      "Epoch 44/80\n",
      "1875/1875 [==============================] - 4s 2ms/step - loss: 0.2297 - accuracy: 0.9362\n",
      "Epoch 45/80\n",
      "1875/1875 [==============================] - 4s 2ms/step - loss: 0.2298 - accuracy: 0.9362\n",
      "Epoch 46/80\n",
      "1875/1875 [==============================] - 4s 2ms/step - loss: 0.2290 - accuracy: 0.9368\n",
      "Epoch 47/80\n",
      "1875/1875 [==============================] - 4s 2ms/step - loss: 0.2289 - accuracy: 0.9366\n",
      "Epoch 48/80\n",
      "1875/1875 [==============================] - 4s 2ms/step - loss: 0.2288 - accuracy: 0.9361\n",
      "Epoch 49/80\n",
      "1875/1875 [==============================] - 4s 2ms/step - loss: 0.2288 - accuracy: 0.9370\n",
      "Epoch 50/80\n",
      "1875/1875 [==============================] - 5s 3ms/step - loss: 0.2286 - accuracy: 0.9359\n",
      "Epoch 51/80\n",
      "1875/1875 [==============================] - 4s 2ms/step - loss: 0.2289 - accuracy: 0.9367\n",
      "Epoch 52/80\n",
      "1875/1875 [==============================] - 4s 2ms/step - loss: 0.2281 - accuracy: 0.9366\n",
      "Epoch 53/80\n",
      "1875/1875 [==============================] - 4s 2ms/step - loss: 0.2282 - accuracy: 0.9366\n",
      "Epoch 54/80\n",
      "1875/1875 [==============================] - 4s 2ms/step - loss: 0.2274 - accuracy: 0.9369\n",
      "Epoch 55/80\n",
      "1875/1875 [==============================] - 5s 2ms/step - loss: 0.2276 - accuracy: 0.9367\n",
      "Epoch 56/80\n",
      "1875/1875 [==============================] - 4s 2ms/step - loss: 0.2276 - accuracy: 0.9376\n",
      "Epoch 57/80\n",
      "1875/1875 [==============================] - 4s 2ms/step - loss: 0.2268 - accuracy: 0.9375\n",
      "Epoch 58/80\n",
      "1875/1875 [==============================] - 4s 2ms/step - loss: 0.2269 - accuracy: 0.9369\n",
      "Epoch 59/80\n",
      "1875/1875 [==============================] - 4s 2ms/step - loss: 0.2271 - accuracy: 0.9370\n",
      "Epoch 60/80\n",
      "1875/1875 [==============================] - 4s 2ms/step - loss: 0.2264 - accuracy: 0.9368\n",
      "Epoch 61/80\n",
      "1875/1875 [==============================] - 4s 2ms/step - loss: 0.2261 - accuracy: 0.9370\n",
      "Epoch 62/80\n",
      "1875/1875 [==============================] - 4s 2ms/step - loss: 0.2260 - accuracy: 0.9373\n",
      "Epoch 63/80\n",
      "1875/1875 [==============================] - 4s 2ms/step - loss: 0.2264 - accuracy: 0.9370\n",
      "Epoch 64/80\n",
      "1875/1875 [==============================] - 4s 2ms/step - loss: 0.2260 - accuracy: 0.9368\n",
      "Epoch 65/80\n",
      "1875/1875 [==============================] - 5s 2ms/step - loss: 0.2259 - accuracy: 0.9375\n",
      "Epoch 66/80\n",
      "1875/1875 [==============================] - 6s 3ms/step - loss: 0.2258 - accuracy: 0.9372\n",
      "Epoch 67/80\n",
      "1875/1875 [==============================] - 4s 2ms/step - loss: 0.2251 - accuracy: 0.9374\n",
      "Epoch 68/80\n",
      "1875/1875 [==============================] - 5s 2ms/step - loss: 0.2251 - accuracy: 0.9376\n",
      "Epoch 69/80\n",
      "1875/1875 [==============================] - 4s 2ms/step - loss: 0.2256 - accuracy: 0.9378\n",
      "Epoch 70/80\n",
      "1875/1875 [==============================] - 9s 5ms/step - loss: 0.2251 - accuracy: 0.9371\n",
      "Epoch 71/80\n",
      "1875/1875 [==============================] - 13s 7ms/step - loss: 0.2248 - accuracy: 0.9386\n",
      "Epoch 72/80\n",
      "1875/1875 [==============================] - 11s 6ms/step - loss: 0.2250 - accuracy: 0.9374\n",
      "Epoch 73/80\n",
      "1875/1875 [==============================] - 6s 3ms/step - loss: 0.2247 - accuracy: 0.9382\n",
      "Epoch 74/80\n",
      "1875/1875 [==============================] - 5s 2ms/step - loss: 0.2244 - accuracy: 0.9373\n",
      "Epoch 75/80\n",
      "1875/1875 [==============================] - 5s 2ms/step - loss: 0.2241 - accuracy: 0.9376\n",
      "Epoch 76/80\n",
      "1875/1875 [==============================] - 5s 2ms/step - loss: 0.2242 - accuracy: 0.9375\n",
      "Epoch 77/80\n",
      "1875/1875 [==============================] - 4s 2ms/step - loss: 0.2240 - accuracy: 0.9382\n",
      "Epoch 78/80\n",
      "1875/1875 [==============================] - 4s 2ms/step - loss: 0.2239 - accuracy: 0.9381\n",
      "Epoch 79/80\n",
      "1875/1875 [==============================] - 4s 2ms/step - loss: 0.2240 - accuracy: 0.9373\n",
      "Epoch 80/80\n",
      "1875/1875 [==============================] - 4s 2ms/step - loss: 0.2236 - accuracy: 0.9377\n"
     ]
    },
    {
     "data": {
      "text/plain": "<keras.src.callbacks.History at 0x7efb3856fca0>"
     },
     "execution_count": 47,
     "metadata": {},
     "output_type": "execute_result"
    }
   ],
   "source": [
    "### ENTER YOUR CODE HERE ### (1 line)\n",
    "model.fit(x_train, y_train, epochs=80)"
   ]
  },
  {
   "cell_type": "markdown",
   "metadata": {},
   "source": [
    "### Evaluating the model\n",
    "\n",
    "There's a lot of different ways to evaluate a model's performance after it's been trained. One of the most straightforward ways is to look at its accuracy, which is the percent of samples it predicted correctly.\n",
    "\n",
    "We'll use the test set data (that wasn't used during training) to calculate you model's accuracy."
   ]
  },
  {
   "cell_type": "code",
   "execution_count": 48,
   "metadata": {
    "ExecuteTime": {
     "end_time": "2024-01-22T09:02:31.070780899Z",
     "start_time": "2024-01-22T09:02:30.530930989Z"
    }
   },
   "outputs": [
    {
     "name": "stdout",
     "output_type": "stream",
     "text": [
      "313/313 [==============================] - 0s 1ms/step\n",
      "Accuracy: % 92.27\n",
      "That means that out of 10000 test samples, this model got 9227 correct and 773 incorrect\n"
     ]
    }
   ],
   "source": [
    "from sklearn.metrics import accuracy_score, confusion_matrix\n",
    "predictions = model.predict(x_test)\n",
    "print(\"Accuracy: %\", accuracy_score(y_test.argmax(axis=1), predictions.argmax(axis=1)) * 100)\n",
    "\n",
    "correct_preds = (y_test.argmax(axis=1) == predictions.argmax(axis=1))\n",
    "print(\"That means that out of\", y_test.shape[0] ,\"test samples, this model got\", \n",
    "      np.where(correct_preds)[0].size, \"correct and\",\n",
    "      np.where(~correct_preds)[0].size, \"incorrect\")"
   ]
  },
  {
   "cell_type": "markdown",
   "metadata": {},
   "source": [
    "You should get a result that should be within 92% accuracy. With a single layer !  \n",
    "Let's try to see what it looks like if it adds depth. \n",
    "\n",
    "**Exercise :** Add a ``Dense`` layer that contains 50 neurons and uses the \"sigmoid\" activation function. Add this layer **before** the one we created previously!"
   ]
  },
  {
   "cell_type": "code",
   "execution_count": 49,
   "metadata": {
    "ExecuteTime": {
     "end_time": "2024-01-22T09:02:31.133294676Z",
     "start_time": "2024-01-22T09:02:31.073630763Z"
    }
   },
   "outputs": [],
   "source": [
    "model2 = Sequential()\n",
    "\n",
    "### ENTER YOUR CODE HERE ### (1 or 2 lines)\n",
    "model2.add(Dense(10, input_shape=(784,)))\n",
    "model2.add(Activation('sigmoid'))\n",
    "#model2.add(Dropout(0.5))\n",
    "\n",
    "model2.add(Dense(50))\n",
    "model2.add(Activation('softmax'))\n",
    "#model2.add(Dropout(0.5))\n",
    "\n",
    "model2.add(Dense(100))\n",
    "model2.add(Activation('relu'))\n",
    "#model2.add(Dropout(0.5))\n",
    "\n",
    "model2.add(Dense(50))\n",
    "model2.add(Activation('sigmoid'))\n",
    "#model2.add(Dropout(0.5))\n",
    "\n",
    "### END\n",
    "model2.add(Dense(10))\n",
    "model2.add(Activation('softmax'))"
   ]
  },
  {
   "cell_type": "markdown",
   "metadata": {},
   "source": [
    "### Compiling the model (again)"
   ]
  },
  {
   "cell_type": "code",
   "execution_count": 50,
   "metadata": {
    "ExecuteTime": {
     "end_time": "2024-01-22T09:02:31.144734547Z",
     "start_time": "2024-01-22T09:02:31.135459494Z"
    }
   },
   "outputs": [],
   "source": [
    "# The compiling step. Pick your optimizer! \n",
    "model2.compile(optimizer='adam', loss='categorical_crossentropy')"
   ]
  },
  {
   "cell_type": "markdown",
   "metadata": {},
   "source": [
    "### Training the model (again)"
   ]
  },
  {
   "cell_type": "code",
   "execution_count": 51,
   "metadata": {
    "ExecuteTime": {
     "end_time": "2024-01-22T09:11:47.730226617Z",
     "start_time": "2024-01-22T09:02:31.144310137Z"
    }
   },
   "outputs": [
    {
     "name": "stdout",
     "output_type": "stream",
     "text": [
      "Epoch 1/80\n",
      "1875/1875 [==============================] - 8s 4ms/step - loss: 1.1658\n",
      "Epoch 2/80\n",
      "1875/1875 [==============================] - 7s 4ms/step - loss: 0.4873\n",
      "Epoch 3/80\n",
      "1875/1875 [==============================] - 7s 4ms/step - loss: 0.3890\n",
      "Epoch 4/80\n",
      "1875/1875 [==============================] - 7s 4ms/step - loss: 0.3354\n",
      "Epoch 5/80\n",
      "1875/1875 [==============================] - 7s 4ms/step - loss: 0.3033\n",
      "Epoch 6/80\n",
      "1875/1875 [==============================] - 7s 4ms/step - loss: 0.2827\n",
      "Epoch 7/80\n",
      "1875/1875 [==============================] - 7s 4ms/step - loss: 0.2672\n",
      "Epoch 8/80\n",
      "1875/1875 [==============================] - 7s 4ms/step - loss: 0.2539\n",
      "Epoch 9/80\n",
      "1875/1875 [==============================] - 7s 4ms/step - loss: 0.2444\n",
      "Epoch 10/80\n",
      "1875/1875 [==============================] - 7s 4ms/step - loss: 0.2350\n",
      "Epoch 11/80\n",
      "1875/1875 [==============================] - 7s 4ms/step - loss: 0.2267\n",
      "Epoch 12/80\n",
      "1875/1875 [==============================] - 7s 4ms/step - loss: 0.2190\n",
      "Epoch 13/80\n",
      "1875/1875 [==============================] - 7s 4ms/step - loss: 0.2133\n",
      "Epoch 14/80\n",
      "1875/1875 [==============================] - 7s 4ms/step - loss: 0.2067\n",
      "Epoch 15/80\n",
      "1875/1875 [==============================] - 7s 4ms/step - loss: 0.2018\n",
      "Epoch 16/80\n",
      "1875/1875 [==============================] - 7s 4ms/step - loss: 0.1957\n",
      "Epoch 17/80\n",
      "1875/1875 [==============================] - 7s 4ms/step - loss: 0.1916\n",
      "Epoch 18/80\n",
      "1875/1875 [==============================] - 7s 4ms/step - loss: 0.1866\n",
      "Epoch 19/80\n",
      "1875/1875 [==============================] - 7s 4ms/step - loss: 0.1829\n",
      "Epoch 20/80\n",
      "1875/1875 [==============================] - 7s 4ms/step - loss: 0.1790\n",
      "Epoch 21/80\n",
      "1875/1875 [==============================] - 7s 4ms/step - loss: 0.1757\n",
      "Epoch 22/80\n",
      "1875/1875 [==============================] - 7s 4ms/step - loss: 0.1740\n",
      "Epoch 23/80\n",
      "1875/1875 [==============================] - 7s 4ms/step - loss: 0.1698\n",
      "Epoch 24/80\n",
      "1875/1875 [==============================] - 7s 4ms/step - loss: 0.1671\n",
      "Epoch 25/80\n",
      "1875/1875 [==============================] - 7s 4ms/step - loss: 0.1640\n",
      "Epoch 26/80\n",
      "1875/1875 [==============================] - 7s 4ms/step - loss: 0.1624\n",
      "Epoch 27/80\n",
      "1875/1875 [==============================] - 7s 4ms/step - loss: 0.1592\n",
      "Epoch 28/80\n",
      "1875/1875 [==============================] - 7s 4ms/step - loss: 0.1569\n",
      "Epoch 29/80\n",
      "1875/1875 [==============================] - 7s 4ms/step - loss: 0.1547\n",
      "Epoch 30/80\n",
      "1875/1875 [==============================] - 7s 4ms/step - loss: 0.1534\n",
      "Epoch 31/80\n",
      "1875/1875 [==============================] - 7s 4ms/step - loss: 0.1500\n",
      "Epoch 32/80\n",
      "1875/1875 [==============================] - 7s 4ms/step - loss: 0.1488\n",
      "Epoch 33/80\n",
      "1875/1875 [==============================] - 7s 4ms/step - loss: 0.1465\n",
      "Epoch 34/80\n",
      "1875/1875 [==============================] - 7s 4ms/step - loss: 0.1445\n",
      "Epoch 35/80\n",
      "1875/1875 [==============================] - 7s 4ms/step - loss: 0.1432\n",
      "Epoch 36/80\n",
      "1875/1875 [==============================] - 7s 4ms/step - loss: 0.1405\n",
      "Epoch 37/80\n",
      "1875/1875 [==============================] - 7s 4ms/step - loss: 0.1390\n",
      "Epoch 38/80\n",
      "1875/1875 [==============================] - 7s 4ms/step - loss: 0.1383\n",
      "Epoch 39/80\n",
      "1875/1875 [==============================] - 7s 4ms/step - loss: 0.1363\n",
      "Epoch 40/80\n",
      "1875/1875 [==============================] - 7s 4ms/step - loss: 0.1343\n",
      "Epoch 41/80\n",
      "1875/1875 [==============================] - 7s 4ms/step - loss: 0.1335\n",
      "Epoch 42/80\n",
      "1875/1875 [==============================] - 7s 4ms/step - loss: 0.1320\n",
      "Epoch 43/80\n",
      "1875/1875 [==============================] - 7s 4ms/step - loss: 0.1305\n",
      "Epoch 44/80\n",
      "1875/1875 [==============================] - 7s 4ms/step - loss: 0.1295\n",
      "Epoch 45/80\n",
      "1875/1875 [==============================] - 7s 4ms/step - loss: 0.1287\n",
      "Epoch 46/80\n",
      "1875/1875 [==============================] - 7s 4ms/step - loss: 0.1278\n",
      "Epoch 47/80\n",
      "1875/1875 [==============================] - 7s 4ms/step - loss: 0.1258\n",
      "Epoch 48/80\n",
      "1875/1875 [==============================] - 7s 4ms/step - loss: 0.1248\n",
      "Epoch 49/80\n",
      "1875/1875 [==============================] - 7s 4ms/step - loss: 0.1236\n",
      "Epoch 50/80\n",
      "1875/1875 [==============================] - 7s 4ms/step - loss: 0.1230\n",
      "Epoch 51/80\n",
      "1875/1875 [==============================] - 7s 4ms/step - loss: 0.1212\n",
      "Epoch 52/80\n",
      "1875/1875 [==============================] - 7s 4ms/step - loss: 0.1214\n",
      "Epoch 53/80\n",
      "1875/1875 [==============================] - 7s 4ms/step - loss: 0.1209\n",
      "Epoch 54/80\n",
      "1875/1875 [==============================] - 7s 4ms/step - loss: 0.1187\n",
      "Epoch 55/80\n",
      "1875/1875 [==============================] - 7s 4ms/step - loss: 0.1186\n",
      "Epoch 56/80\n",
      "1875/1875 [==============================] - 7s 4ms/step - loss: 0.1171\n",
      "Epoch 57/80\n",
      "1875/1875 [==============================] - 7s 4ms/step - loss: 0.1162\n",
      "Epoch 58/80\n",
      "1875/1875 [==============================] - 7s 4ms/step - loss: 0.1169\n",
      "Epoch 59/80\n",
      "1875/1875 [==============================] - 7s 4ms/step - loss: 0.1145\n",
      "Epoch 60/80\n",
      "1875/1875 [==============================] - 7s 4ms/step - loss: 0.1136\n",
      "Epoch 61/80\n",
      "1875/1875 [==============================] - 7s 4ms/step - loss: 0.1136\n",
      "Epoch 62/80\n",
      "1875/1875 [==============================] - 7s 4ms/step - loss: 0.1131\n",
      "Epoch 63/80\n",
      "1875/1875 [==============================] - 7s 4ms/step - loss: 0.1123\n",
      "Epoch 64/80\n",
      "1875/1875 [==============================] - 7s 4ms/step - loss: 0.1110\n",
      "Epoch 65/80\n",
      "1875/1875 [==============================] - 7s 4ms/step - loss: 0.1105\n",
      "Epoch 66/80\n",
      "1875/1875 [==============================] - 7s 4ms/step - loss: 0.1106\n",
      "Epoch 67/80\n",
      "1875/1875 [==============================] - 7s 4ms/step - loss: 0.1082\n",
      "Epoch 68/80\n",
      "1875/1875 [==============================] - 7s 4ms/step - loss: 0.1085\n",
      "Epoch 69/80\n",
      "1875/1875 [==============================] - 7s 4ms/step - loss: 0.1077\n",
      "Epoch 70/80\n",
      "1875/1875 [==============================] - 7s 4ms/step - loss: 0.1080\n",
      "Epoch 71/80\n",
      "1875/1875 [==============================] - 7s 4ms/step - loss: 0.1064\n",
      "Epoch 72/80\n",
      "1875/1875 [==============================] - 7s 4ms/step - loss: 0.1059\n",
      "Epoch 73/80\n",
      "1875/1875 [==============================] - 7s 4ms/step - loss: 0.1051\n",
      "Epoch 74/80\n",
      "1875/1875 [==============================] - 7s 4ms/step - loss: 0.1047\n",
      "Epoch 75/80\n",
      "1875/1875 [==============================] - 7s 4ms/step - loss: 0.1051\n",
      "Epoch 76/80\n",
      "1875/1875 [==============================] - 7s 4ms/step - loss: 0.1046\n",
      "Epoch 77/80\n",
      "1875/1875 [==============================] - 7s 4ms/step - loss: 0.1032\n",
      "Epoch 78/80\n",
      "1875/1875 [==============================] - 7s 4ms/step - loss: 0.1023\n",
      "Epoch 79/80\n",
      "1875/1875 [==============================] - 7s 4ms/step - loss: 0.1020\n",
      "Epoch 80/80\n",
      "1875/1875 [==============================] - 7s 4ms/step - loss: 0.1009\n"
     ]
    },
    {
     "data": {
      "text/plain": "<keras.src.callbacks.History at 0x7efb381edbd0>"
     },
     "execution_count": 51,
     "metadata": {},
     "output_type": "execute_result"
    }
   ],
   "source": [
    "model2.fit(x_train,y_train, epochs=80)"
   ]
  },
  {
   "cell_type": "markdown",
   "metadata": {},
   "source": [
    "### Evaluating the model (again)"
   ]
  },
  {
   "cell_type": "code",
   "execution_count": 58,
   "metadata": {
    "ExecuteTime": {
     "end_time": "2024-01-22T09:13:07.219094362Z",
     "start_time": "2024-01-22T09:13:06.574768324Z"
    }
   },
   "outputs": [
    {
     "name": "stdout",
     "output_type": "stream",
     "text": [
      "313/313 [==============================] - 0s 1ms/step\n",
      "Accuracy: % 94.44\n",
      "That means that out of 10000 test samples, this model got 9227 correct and 773 incorrect\n"
     ]
    }
   ],
   "source": [
    "predictions2 = model2.predict(x_test)\n",
    "print(\"Accuracy: %\", accuracy_score(y_test.argmax(axis=1), predictions2.argmax(axis=1)) * 100)\n",
    "\n",
    "correct_preds2 = (y_test.argmax(axis=1) == predictions2.argmax(axis=1))\n",
    "print(\"That means that out of\", y_test.shape[0] ,\"test samples, this model got\", \n",
    "      np.where(correct_preds)[0].size, \"correct and\",\n",
    "      np.where(~correct_preds)[0].size, \"incorrect\")"
   ]
  },
  {
   "cell_type": "markdown",
   "metadata": {},
   "source": [
    "You should have gotten something close to this:"
   ]
  },
  {
   "cell_type": "markdown",
   "metadata": {},
   "source": [
    "````\n",
    "Accuracy: % 96.31\n",
    "\n",
    "That means that out of 10000 test samples, this model got 9631 correct and 369 incorrect\n",
    "````"
   ]
  },
  {
   "cell_type": "markdown",
   "metadata": {},
   "source": [
    "### Analyze the errors "
   ]
  },
  {
   "cell_type": "markdown",
   "metadata": {},
   "source": [
    "We can also assess the model's performance with a confusion matrix. In this matrix, rows and columns represent actual numbers and predicted numbers for each sample of the test set. \n",
    "\n",
    "Example : \n",
    "\n",
    "- If the number 900 is at row 6 and column 6 of the confusion matrix, that means that there were 900 samples where model predicted that the image was a drawing of a 6 and it was right\n",
    "- If the number 17 is at row 4 and column 9, that means that there were 17 times where the model predicted a 9, but the image was actually showing a 4\n",
    "\n",
    "In this heatmap, a diagonal stripe represents all the samples the model got right: when it predicted 0 for a 0, 1 for a 1, etc. Every other part of the matrix represents samples that the model got wrong."
   ]
  },
  {
   "cell_type": "code",
   "execution_count": 53,
   "metadata": {
    "ExecuteTime": {
     "end_time": "2024-01-22T09:11:48.850130638Z",
     "start_time": "2024-01-22T09:11:48.398538839Z"
    }
   },
   "outputs": [
    {
     "data": {
      "text/plain": "<Figure size 1000x800 with 2 Axes>",
      "image/png": "[encoded data removed]"
     },
     "metadata": {},
     "output_type": "display_data"
    }
   ],
   "source": [
    "import seaborn as sns\n",
    "cm = confusion_matrix(y_test.argmax(axis=1), predictions2.argmax(axis=1))\n",
    "\n",
    "plt.figure(figsize=(10, 8))\n",
    "sns.heatmap(cm, cmap=\"viridis\", vmax=100, annot=True, fmt='g')\n",
    "plt.gca().set_xlabel(\"Predicted number\", fontsize=16)\n",
    "plt.gca().set_ylabel(\"Actual number\", fontsize = 16)\n",
    "plt.show()"
   ]
  },
  {
   "cell_type": "markdown",
   "metadata": {},
   "source": [
    "This visualization is included just because I thought it was  interesting :)\n",
    "\n",
    "Each time the neural net makes a prediction every neuron in the output layer outputs a number. The highest number is chosen as the neural network's prediction, but we can inspect all the outputs to get an idea of what the neural network's second or third choice might have been."
   ]
  },
  {
   "cell_type": "code",
   "execution_count": 54,
   "metadata": {
    "ExecuteTime": {
     "end_time": "2024-01-22T09:11:49.029481312Z",
     "start_time": "2024-01-22T09:11:48.862151407Z"
    }
   },
   "outputs": [
    {
     "data": {
      "text/plain": "<Figure size 640x480 with 1 Axes>",
      "image/png": "[encoded data removed]"
     },
     "metadata": {},
     "output_type": "display_data"
    },
    {
     "name": "stdout",
     "output_type": "stream",
     "text": [
      "This image represents the number 5\n",
      "\n",
      "Your model ranked its predictions this way: \n",
      "\n",
      "0 \tScore: 30.89091\n",
      "8 \tScore: 30.88982\n",
      "3 \tScore: 25.47276\n",
      "5 \tScore: 8.05486\n",
      "2 \tScore: 4.69043\n",
      "9 \tScore: 0.00073\n",
      "6 \tScore: 0.00044\n",
      "4 \tScore: 0.00004\n",
      "7 \tScore: 0.00001\n",
      "1 \tScore: 0.00000\n"
     ]
    }
   ],
   "source": [
    "# Every time you run this cell, a random sample will be chosen from the ones that your model made the wrong prediction on\n",
    "\n",
    "i = np.random.choice(np.where(~correct_preds)[0])\n",
    "\n",
    "plt.imshow(x_test_raw[i], cmap='Greys', interpolation='nearest')\n",
    "plt.show()\n",
    "\n",
    "print(\"This image represents the number\", y_test_raw[i])\n",
    "print()\n",
    "print(\"Your model ranked its predictions this way: \\n\")\n",
    "for num, score in sorted(list(enumerate(predictions[i])), key=lambda pair: pair[1], reverse=True):\n",
    "    print(num, \"\\tScore: {0:.5f}\".format((score) * 100))"
   ]
  },
  {
   "cell_type": "markdown",
   "metadata": {},
   "source": [
    "### Save your model"
   ]
  },
  {
   "cell_type": "code",
   "execution_count": 55,
   "metadata": {
    "ExecuteTime": {
     "end_time": "2024-01-22T09:11:49.102976669Z",
     "start_time": "2024-01-22T09:11:49.029841068Z"
    }
   },
   "outputs": [
    {
     "name": "stderr",
     "output_type": "stream",
     "text": [
      "/home/wm18vw/.conda/envs/machineLearning/lib/python3.10/site-packages/keras/src/engine/training.py:3079: UserWarning: You are saving your model as an HDF5 file via `model.save()`. This file format is considered legacy. We recommend using instead the native Keras format, e.g. `model.save('my_model.keras')`.\n",
      "  saving_api.save_model(\n"
     ]
    }
   ],
   "source": [
    "model2.save(\"model.h5\")"
   ]
  },
  {
   "cell_type": "markdown",
   "metadata": {},
   "source": [
    "## Go further \n",
    "You could try adding layers to get an even better score ? \n",
    "Look [here](https://keras.io/layers/core/), maybe some layers can help you! \n",
    "\n",
    "### To read :\n",
    "[Selecting the Best Architecture for Artificial Neural Networks](https://heartbeat.fritz.ai/selecting-the-best-architecture-for-artificial-neural-networks-7b051f775b4)\n"
   ]
  },
  {
   "cell_type": "markdown",
   "metadata": {},
   "source": [
    "**Code Documentation:**  \n",
    "* `batch_size` number of images per loop step\n",
    "* `epochs` number of train loops\n",
    "* `num_classes` there are 10 digits 0-9\n",
    "* `x_train.astype('float32')` trains faster than int\n",
    "* `x_train /= 255` from 0-255 to 0-1\n",
    "* `verbose=1` 1 for progress bar logging"
   ]
  },
  {
   "cell_type": "markdown",
   "metadata": {},
   "source": [
    "### Keras Documentation:  \n",
    "* [to_categorical](https://keras.io/utils/#to_categorical) aka one_hot\n",
    "* [Dense](https://keras.io/layers/core/#dense)\n",
    "* [Flatten](https://keras.io/layers/core/#flatten)"
   ]
  },
  {
   "cell_type": "code",
   "outputs": [],
   "source": [],
   "metadata": {
    "collapsed": false,
    "ExecuteTime": {
     "end_time": "2024-01-22T09:11:49.104314475Z",
     "start_time": "2024-01-22T09:11:49.058474453Z"
    }
   },
   "execution_count": 55
  },
  {
   "cell_type": "code",
   "outputs": [],
   "source": [],
   "metadata": {
    "collapsed": false
   }
  }
 ],
 "metadata": {
  "kernelspec": {
   "display_name": "Python 3",
   "language": "python",
   "name": "python3"
  },
  "language_info": {
   "codemirror_mode": {
    "name": "ipython",
    "version": 3
   },
   "file_extension": ".py",
   "mimetype": "text/x-python",
   "name": "python",
   "nbconvert_exporter": "python",
   "pygments_lexer": "ipython3",
   "version": "3.7.3"
  }
 },
 "nbformat": 4,
 "nbformat_minor": 2
}
