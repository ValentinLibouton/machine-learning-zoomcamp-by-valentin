{
 "cells": [
  {
   "cell_type": "code",
   "execution_count": 27,
   "id": "initial_id",
   "metadata": {
    "collapsed": true,
    "ExecuteTime": {
     "end_time": "2024-01-24T13:32:37.077155176Z",
     "start_time": "2024-01-24T13:32:37.063889672Z"
    }
   },
   "outputs": [],
   "source": [
    "import pandas as pd\n",
    "import tensorflow as tf\n",
    "from keras.models import Sequential\n",
    "from keras.layers import Dense, Dropout, Activation, Flatten"
   ]
  },
  {
   "cell_type": "code",
   "outputs": [
    {
     "data": {
      "text/plain": "   pclass  survived                                             name     sex  \\\n0       1         1                    Allen, Miss. Elisabeth Walton  female   \n1       1         1                   Allison, Master. Hudson Trevor    male   \n2       1         0                     Allison, Miss. Helen Loraine  female   \n3       1         0             Allison, Mr. Hudson Joshua Creighton    male   \n4       1         0  Allison, Mrs. Hudson J C (Bessie Waldo Daniels)  female   \n\n       age  sibsp  parch  ticket      fare    cabin embarked boat   body  \\\n0  29.0000      0      0   24160  211.3375       B5        S    2    NaN   \n1   0.9167      1      2  113781  151.5500  C22 C26        S   11    NaN   \n2   2.0000      1      2  113781  151.5500  C22 C26        S  NaN    NaN   \n3  30.0000      1      2  113781  151.5500  C22 C26        S  NaN  135.0   \n4  25.0000      1      2  113781  151.5500  C22 C26        S  NaN    NaN   \n\n                         home.dest  \n0                     St Louis, MO  \n1  Montreal, PQ / Chesterville, ON  \n2  Montreal, PQ / Chesterville, ON  \n3  Montreal, PQ / Chesterville, ON  \n4  Montreal, PQ / Chesterville, ON  ",
      "text/html": "<div>\n<style scoped>\n    .dataframe tbody tr th:only-of-type {\n        vertical-align: middle;\n    }\n\n    .dataframe tbody tr th {\n        vertical-align: top;\n    }\n\n    .dataframe thead th {\n        text-align: right;\n    }\n</style>\n<table border=\"1\" class=\"dataframe\">\n  <thead>\n    <tr style=\"text-align: right;\">\n      <th></th>\n      <th>pclass</th>\n      <th>survived</th>\n      <th>name</th>\n      <th>sex</th>\n      <th>age</th>\n      <th>sibsp</th>\n      <th>parch</th>\n      <th>ticket</th>\n      <th>fare</th>\n      <th>cabin</th>\n      <th>embarked</th>\n      <th>boat</th>\n      <th>body</th>\n      <th>home.dest</th>\n    </tr>\n  </thead>\n  <tbody>\n    <tr>\n      <th>0</th>\n      <td>1</td>\n      <td>1</td>\n      <td>Allen, Miss. Elisabeth Walton</td>\n      <td>female</td>\n      <td>29.0000</td>\n      <td>0</td>\n      <td>0</td>\n      <td>24160</td>\n      <td>211.3375</td>\n      <td>B5</td>\n      <td>S</td>\n      <td>2</td>\n      <td>NaN</td>\n      <td>St Louis, MO</td>\n    </tr>\n    <tr>\n      <th>1</th>\n      <td>1</td>\n      <td>1</td>\n      <td>Allison, Master. Hudson Trevor</td>\n      <td>male</td>\n      <td>0.9167</td>\n      <td>1</td>\n      <td>2</td>\n      <td>113781</td>\n      <td>151.5500</td>\n      <td>C22 C26</td>\n      <td>S</td>\n      <td>11</td>\n      <td>NaN</td>\n      <td>Montreal, PQ / Chesterville, ON</td>\n    </tr>\n    <tr>\n      <th>2</th>\n      <td>1</td>\n      <td>0</td>\n      <td>Allison, Miss. Helen Loraine</td>\n      <td>female</td>\n      <td>2.0000</td>\n      <td>1</td>\n      <td>2</td>\n      <td>113781</td>\n      <td>151.5500</td>\n      <td>C22 C26</td>\n      <td>S</td>\n      <td>NaN</td>\n      <td>NaN</td>\n      <td>Montreal, PQ / Chesterville, ON</td>\n    </tr>\n    <tr>\n      <th>3</th>\n      <td>1</td>\n      <td>0</td>\n      <td>Allison, Mr. Hudson Joshua Creighton</td>\n      <td>male</td>\n      <td>30.0000</td>\n      <td>1</td>\n      <td>2</td>\n      <td>113781</td>\n      <td>151.5500</td>\n      <td>C22 C26</td>\n      <td>S</td>\n      <td>NaN</td>\n      <td>135.0</td>\n      <td>Montreal, PQ / Chesterville, ON</td>\n    </tr>\n    <tr>\n      <th>4</th>\n      <td>1</td>\n      <td>0</td>\n      <td>Allison, Mrs. Hudson J C (Bessie Waldo Daniels)</td>\n      <td>female</td>\n      <td>25.0000</td>\n      <td>1</td>\n      <td>2</td>\n      <td>113781</td>\n      <td>151.5500</td>\n      <td>C22 C26</td>\n      <td>S</td>\n      <td>NaN</td>\n      <td>NaN</td>\n      <td>Montreal, PQ / Chesterville, ON</td>\n    </tr>\n  </tbody>\n</table>\n</div>"
     },
     "execution_count": 28,
     "metadata": {},
     "output_type": "execute_result"
    }
   ],
   "source": [
    "titanic = pd.read_excel('titanic3.xls')\n",
    "titanic.head()"
   ],
   "metadata": {
    "collapsed": false,
    "ExecuteTime": {
     "end_time": "2024-01-24T13:32:38.218906644Z",
     "start_time": "2024-01-24T13:32:38.130578844Z"
    }
   },
   "id": "1f7742835fe657c7",
   "execution_count": 28
  },
  {
   "cell_type": "markdown",
   "source": [
    "# Data preparation"
   ],
   "metadata": {
    "collapsed": false
   },
   "id": "cd3d4571b50f2039"
  },
  {
   "cell_type": "code",
   "outputs": [
    {
     "data": {
      "text/plain": "pclass        0\nsurvived      0\nsex           0\nage         263\ndtype: int64"
     },
     "execution_count": 29,
     "metadata": {},
     "output_type": "execute_result"
    }
   ],
   "source": [
    "titanic.drop(columns=['name', 'home.dest', 'ticket','cabin', 'embarked', 'boat','body', 'sibsp', 'parch', 'fare'], inplace=True)\n",
    "titanic.isna().sum()"
   ],
   "metadata": {
    "collapsed": false,
    "ExecuteTime": {
     "end_time": "2024-01-24T13:32:38.765093705Z",
     "start_time": "2024-01-24T13:32:38.730947827Z"
    }
   },
   "id": "25916693f11e66a5",
   "execution_count": 29
  },
  {
   "cell_type": "code",
   "outputs": [
    {
     "data": {
      "text/plain": "      pclass  survived     sex      age\n0          1         1  female  29.0000\n1          1         1    male   0.9167\n2          1         0  female   2.0000\n3          1         0    male  30.0000\n4          1         0  female  25.0000\n...      ...       ...     ...      ...\n1301       3         0    male  45.5000\n1304       3         0  female  14.5000\n1306       3         0    male  26.5000\n1307       3         0    male  27.0000\n1308       3         0    male  29.0000\n\n[1046 rows x 4 columns]",
      "text/html": "<div>\n<style scoped>\n    .dataframe tbody tr th:only-of-type {\n        vertical-align: middle;\n    }\n\n    .dataframe tbody tr th {\n        vertical-align: top;\n    }\n\n    .dataframe thead th {\n        text-align: right;\n    }\n</style>\n<table border=\"1\" class=\"dataframe\">\n  <thead>\n    <tr style=\"text-align: right;\">\n      <th></th>\n      <th>pclass</th>\n      <th>survived</th>\n      <th>sex</th>\n      <th>age</th>\n    </tr>\n  </thead>\n  <tbody>\n    <tr>\n      <th>0</th>\n      <td>1</td>\n      <td>1</td>\n      <td>female</td>\n      <td>29.0000</td>\n    </tr>\n    <tr>\n      <th>1</th>\n      <td>1</td>\n      <td>1</td>\n      <td>male</td>\n      <td>0.9167</td>\n    </tr>\n    <tr>\n      <th>2</th>\n      <td>1</td>\n      <td>0</td>\n      <td>female</td>\n      <td>2.0000</td>\n    </tr>\n    <tr>\n      <th>3</th>\n      <td>1</td>\n      <td>0</td>\n      <td>male</td>\n      <td>30.0000</td>\n    </tr>\n    <tr>\n      <th>4</th>\n      <td>1</td>\n      <td>0</td>\n      <td>female</td>\n      <td>25.0000</td>\n    </tr>\n    <tr>\n      <th>...</th>\n      <td>...</td>\n      <td>...</td>\n      <td>...</td>\n      <td>...</td>\n    </tr>\n    <tr>\n      <th>1301</th>\n      <td>3</td>\n      <td>0</td>\n      <td>male</td>\n      <td>45.5000</td>\n    </tr>\n    <tr>\n      <th>1304</th>\n      <td>3</td>\n      <td>0</td>\n      <td>female</td>\n      <td>14.5000</td>\n    </tr>\n    <tr>\n      <th>1306</th>\n      <td>3</td>\n      <td>0</td>\n      <td>male</td>\n      <td>26.5000</td>\n    </tr>\n    <tr>\n      <th>1307</th>\n      <td>3</td>\n      <td>0</td>\n      <td>male</td>\n      <td>27.0000</td>\n    </tr>\n    <tr>\n      <th>1308</th>\n      <td>3</td>\n      <td>0</td>\n      <td>male</td>\n      <td>29.0000</td>\n    </tr>\n  </tbody>\n</table>\n<p>1046 rows × 4 columns</p>\n</div>"
     },
     "execution_count": 30,
     "metadata": {},
     "output_type": "execute_result"
    }
   ],
   "source": [
    "titanic.dropna(inplace=True)\n",
    "titanic"
   ],
   "metadata": {
    "collapsed": false,
    "ExecuteTime": {
     "end_time": "2024-01-24T13:32:39.006039306Z",
     "start_time": "2024-01-24T13:32:38.937276408Z"
    }
   },
   "id": "8fec93c07e89090c",
   "execution_count": 30
  },
  {
   "cell_type": "markdown",
   "source": [
    "# ----------------------------------------------------------------------------"
   ],
   "metadata": {
    "collapsed": false
   },
   "id": "4158ed0f18c95fd8"
  },
  {
   "cell_type": "markdown",
   "source": [
    "# Feature importance\n",
    "survived rate and ratio"
   ],
   "metadata": {
    "collapsed": false
   },
   "id": "a8c25c24818cd42a"
  },
  {
   "cell_type": "code",
   "outputs": [
    {
     "data": {
      "text/plain": "survived\n0    619\n1    427\nName: count, dtype: int64"
     },
     "execution_count": 31,
     "metadata": {},
     "output_type": "execute_result"
    }
   ],
   "source": [
    "# 0 = no, 1= yes\n",
    "titanic.survived.value_counts()"
   ],
   "metadata": {
    "collapsed": false,
    "ExecuteTime": {
     "end_time": "2024-01-24T13:32:39.410807117Z",
     "start_time": "2024-01-24T13:32:39.399514703Z"
    }
   },
   "id": "21f827a1b3fc6aae",
   "execution_count": 31
  },
  {
   "cell_type": "code",
   "outputs": [
    {
     "data": {
      "text/plain": "0.41"
     },
     "execution_count": 32,
     "metadata": {},
     "output_type": "execute_result"
    }
   ],
   "source": [
    "global_survived_rate = titanic.survived.mean()\n",
    "round(global_survived_rate,2)"
   ],
   "metadata": {
    "collapsed": false,
    "ExecuteTime": {
     "end_time": "2024-01-24T13:32:39.669922622Z",
     "start_time": "2024-01-24T13:32:39.644910977Z"
    }
   },
   "id": "578c85716c0e686b",
   "execution_count": 32
  },
  {
   "cell_type": "code",
   "outputs": [
    {
     "data": {
      "text/plain": "sex\nfemale    0.752577\nmale      0.205167\nName: survived, dtype: float64"
     },
     "execution_count": 33,
     "metadata": {},
     "output_type": "execute_result"
    }
   ],
   "source": [
    "titanic.groupby('sex').survived.mean()"
   ],
   "metadata": {
    "collapsed": false,
    "ExecuteTime": {
     "end_time": "2024-01-24T13:32:39.870211478Z",
     "start_time": "2024-01-24T13:32:39.832302337Z"
    }
   },
   "id": "b698f5a24136220e",
   "execution_count": 33
  },
  {
   "cell_type": "code",
   "outputs": [
    {
     "data": {
      "text/plain": "pclass\n1    0.637324\n2    0.440613\n3    0.261477\nName: survived, dtype: float64"
     },
     "execution_count": 34,
     "metadata": {},
     "output_type": "execute_result"
    }
   ],
   "source": [
    "titanic.groupby('pclass').survived.mean()"
   ],
   "metadata": {
    "collapsed": false,
    "ExecuteTime": {
     "end_time": "2024-01-24T13:32:39.979175866Z",
     "start_time": "2024-01-24T13:32:39.927572503Z"
    }
   },
   "id": "a4bd76e17e7de9ae",
   "execution_count": 34
  },
  {
   "cell_type": "code",
   "outputs": [],
   "source": [
    "age_bins = [0, 18, 30, 50, 100]\n",
    "age_labels = ['Enfant', 'Jeune Adulte', 'Adulte', 'Personne Âgée']\n",
    "titanic['group_age'] = pd.cut(titanic['age'], bins=age_bins, labels=age_labels)"
   ],
   "metadata": {
    "collapsed": false,
    "ExecuteTime": {
     "end_time": "2024-01-24T13:32:40.202057596Z",
     "start_time": "2024-01-24T13:32:40.143602557Z"
    }
   },
   "id": "cd79a3eff0873c75",
   "execution_count": 35
  },
  {
   "cell_type": "code",
   "outputs": [
    {
     "data": {
      "text/plain": "group_age\nEnfant           0.492228\nJeune Adulte     0.367788\nAdulte           0.412281\nPersonne Âgée    0.400000\nName: survived, dtype: float64"
     },
     "execution_count": 36,
     "metadata": {},
     "output_type": "execute_result"
    }
   ],
   "source": [
    "titanic.groupby('group_age', observed=True).survived.mean()"
   ],
   "metadata": {
    "collapsed": false,
    "ExecuteTime": {
     "end_time": "2024-01-24T13:32:40.410362193Z",
     "start_time": "2024-01-24T13:32:40.324489704Z"
    }
   },
   "id": "59d2d32e3953a8ae",
   "execution_count": 36
  },
  {
   "cell_type": "markdown",
   "source": [
    "Le groupe d'age a peu d'influence, mais il y en a"
   ],
   "metadata": {
    "collapsed": false
   },
   "id": "973dae0320b3dc8c"
  },
  {
   "cell_type": "code",
   "outputs": [],
   "source": [
    "titanic.drop('group_age', axis=1, inplace=True)"
   ],
   "metadata": {
    "collapsed": false,
    "ExecuteTime": {
     "end_time": "2024-01-24T13:32:40.725438422Z",
     "start_time": "2024-01-24T13:32:40.704864271Z"
    }
   },
   "id": "5d8b19b3c261b5d",
   "execution_count": 37
  },
  {
   "cell_type": "code",
   "outputs": [
    {
     "data": {
      "text/plain": "sex     pclass\nfemale  1         0.962406\n        2         0.893204\n        3         0.473684\nmale    1         0.350993\n        2         0.145570\n        3         0.169054\nName: survived, dtype: float64"
     },
     "execution_count": 38,
     "metadata": {},
     "output_type": "execute_result"
    }
   ],
   "source": [
    "titanic.groupby(['sex','pclass']).survived.mean()"
   ],
   "metadata": {
    "collapsed": false,
    "ExecuteTime": {
     "end_time": "2024-01-24T13:32:40.956663864Z",
     "start_time": "2024-01-24T13:32:40.878328461Z"
    }
   },
   "id": "77f8e58e92a46000",
   "execution_count": 38
  },
  {
   "cell_type": "code",
   "outputs": [
    {
     "name": "stdout",
     "output_type": "stream",
     "text": [
      "sex\n"
     ]
    },
    {
     "data": {
      "text/plain": "            mean  count      diff      risk\nsex                                        \nfemale  0.752577    388  0.344356  1.843550\nmale    0.205167    658 -0.203055  0.502588",
      "text/html": "<div>\n<style scoped>\n    .dataframe tbody tr th:only-of-type {\n        vertical-align: middle;\n    }\n\n    .dataframe tbody tr th {\n        vertical-align: top;\n    }\n\n    .dataframe thead th {\n        text-align: right;\n    }\n</style>\n<table border=\"1\" class=\"dataframe\">\n  <thead>\n    <tr style=\"text-align: right;\">\n      <th></th>\n      <th>mean</th>\n      <th>count</th>\n      <th>diff</th>\n      <th>risk</th>\n    </tr>\n    <tr>\n      <th>sex</th>\n      <th></th>\n      <th></th>\n      <th></th>\n      <th></th>\n    </tr>\n  </thead>\n  <tbody>\n    <tr>\n      <th>female</th>\n      <td>0.752577</td>\n      <td>388</td>\n      <td>0.344356</td>\n      <td>1.843550</td>\n    </tr>\n    <tr>\n      <th>male</th>\n      <td>0.205167</td>\n      <td>658</td>\n      <td>-0.203055</td>\n      <td>0.502588</td>\n    </tr>\n  </tbody>\n</table>\n</div>"
     },
     "metadata": {},
     "output_type": "display_data"
    },
    {
     "name": "stdout",
     "output_type": "stream",
     "text": [
      "---\n",
      "pclass\n"
     ]
    },
    {
     "data": {
      "text/plain": "            mean  count      diff      risk\npclass                                     \n1       0.637324    284  0.229102  1.561220\n2       0.440613    261  0.032391  1.079347\n3       0.261477    501 -0.146745  0.640527",
      "text/html": "<div>\n<style scoped>\n    .dataframe tbody tr th:only-of-type {\n        vertical-align: middle;\n    }\n\n    .dataframe tbody tr th {\n        vertical-align: top;\n    }\n\n    .dataframe thead th {\n        text-align: right;\n    }\n</style>\n<table border=\"1\" class=\"dataframe\">\n  <thead>\n    <tr style=\"text-align: right;\">\n      <th></th>\n      <th>mean</th>\n      <th>count</th>\n      <th>diff</th>\n      <th>risk</th>\n    </tr>\n    <tr>\n      <th>pclass</th>\n      <th></th>\n      <th></th>\n      <th></th>\n      <th></th>\n    </tr>\n  </thead>\n  <tbody>\n    <tr>\n      <th>1</th>\n      <td>0.637324</td>\n      <td>284</td>\n      <td>0.229102</td>\n      <td>1.561220</td>\n    </tr>\n    <tr>\n      <th>2</th>\n      <td>0.440613</td>\n      <td>261</td>\n      <td>0.032391</td>\n      <td>1.079347</td>\n    </tr>\n    <tr>\n      <th>3</th>\n      <td>0.261477</td>\n      <td>501</td>\n      <td>-0.146745</td>\n      <td>0.640527</td>\n    </tr>\n  </tbody>\n</table>\n</div>"
     },
     "metadata": {},
     "output_type": "display_data"
    },
    {
     "name": "stdout",
     "output_type": "stream",
     "text": [
      "---\n"
     ]
    }
   ],
   "source": [
    "from IPython.display import display\n",
    "global_survived_rate = titanic.survived.mean()\n",
    "categorical_features = ['sex', 'pclass']\n",
    "for c in categorical_features:\n",
    "    print(c)\n",
    "    df_group = titanic.groupby(c).survived.agg(['mean', 'count'])\n",
    "    df_group['diff'] = df_group['mean'] - global_survived_rate\n",
    "    df_group['risk'] = df_group['mean'] / global_survived_rate\n",
    "    display(df_group)\n",
    "    print(\"---\")"
   ],
   "metadata": {
    "collapsed": false,
    "ExecuteTime": {
     "end_time": "2024-01-24T13:32:41.176786056Z",
     "start_time": "2024-01-24T13:32:41.129089949Z"
    }
   },
   "id": "744ca2729403b5da",
   "execution_count": 39
  },
  {
   "cell_type": "markdown",
   "source": [
    "Les paramètres qui ont le plus d'infulence sur la probabilité de survie:\n",
    "1. Le sexe\n",
    "2. La classe\n",
    "3. L'age"
   ],
   "metadata": {
    "collapsed": false
   },
   "id": "d8d10134ecae8973"
  },
  {
   "cell_type": "markdown",
   "source": [
    "# ----------------------------------------------------------------------------"
   ],
   "metadata": {
    "collapsed": false
   },
   "id": "3d1ff1757cd6ec39"
  },
  {
   "cell_type": "code",
   "outputs": [],
   "source": [
    "titanic['sex'] = titanic['sex'].apply(lambda x: 1 if x == 'female' else 0)"
   ],
   "metadata": {
    "collapsed": false,
    "ExecuteTime": {
     "end_time": "2024-01-24T13:32:41.959227012Z",
     "start_time": "2024-01-24T13:32:41.930852435Z"
    }
   },
   "id": "edb050af42c3c5e0",
   "execution_count": 40
  },
  {
   "cell_type": "code",
   "outputs": [],
   "source": [
    "data = titanic.drop(['survived'],axis=1)\n",
    "target = titanic['survived']"
   ],
   "metadata": {
    "collapsed": false,
    "ExecuteTime": {
     "end_time": "2024-01-24T13:32:42.136565109Z",
     "start_time": "2024-01-24T13:32:42.120087240Z"
    }
   },
   "id": "aa41a6a326bfcca9",
   "execution_count": 41
  },
  {
   "cell_type": "code",
   "outputs": [],
   "source": [
    "from sklearn.model_selection import train_test_split"
   ],
   "metadata": {
    "collapsed": false,
    "ExecuteTime": {
     "end_time": "2024-01-24T13:32:42.308413992Z",
     "start_time": "2024-01-24T13:32:42.299437018Z"
    }
   },
   "id": "1c3ae3c12ce45034",
   "execution_count": 42
  },
  {
   "cell_type": "code",
   "outputs": [],
   "source": [
    "X_train, X_test, y_train, y_test = train_test_split(data, target, test_size=0.2, random_state=1)"
   ],
   "metadata": {
    "collapsed": false,
    "ExecuteTime": {
     "end_time": "2024-01-24T13:32:42.498278971Z",
     "start_time": "2024-01-24T13:32:42.487586547Z"
    }
   },
   "id": "bce970039b1f52d",
   "execution_count": 43
  },
  {
   "cell_type": "code",
   "outputs": [
    {
     "data": {
      "text/plain": "(836, 210, 836, 210)"
     },
     "execution_count": 44,
     "metadata": {},
     "output_type": "execute_result"
    }
   ],
   "source": [
    "len(X_train), len(X_test), len(y_train), len(y_test)"
   ],
   "metadata": {
    "collapsed": false,
    "ExecuteTime": {
     "end_time": "2024-01-24T13:32:42.765364237Z",
     "start_time": "2024-01-24T13:32:42.711197625Z"
    }
   },
   "id": "37508a42e2a95411",
   "execution_count": 44
  },
  {
   "cell_type": "markdown",
   "source": [
    "# EDA"
   ],
   "metadata": {
    "collapsed": false
   },
   "id": "818edfdda681ffaf"
  },
  {
   "cell_type": "code",
   "outputs": [],
   "source": [
    "X_train.reset_index(drop=True, inplace=True)\n",
    "X_test.reset_index(drop=True, inplace=True)\n",
    "y_train.reset_index(drop=True, inplace=True)\n",
    "y_test.reset_index(drop=True, inplace=True)"
   ],
   "metadata": {
    "collapsed": false,
    "ExecuteTime": {
     "end_time": "2024-01-24T13:32:43.060238253Z",
     "start_time": "2024-01-24T13:32:43.050942161Z"
    }
   },
   "id": "15cefbd5be29ceb9",
   "execution_count": 45
  },
  {
   "cell_type": "code",
   "outputs": [
    {
     "data": {
      "text/plain": "     pclass  sex   age\n0         3    0  22.0\n1         2    1  20.0\n2         2    0  23.0\n3         3    0  25.0\n4         1    1  27.0\n..      ...  ...   ...\n831       3    0  39.0\n832       3    0  28.0\n833       3    0  33.0\n834       3    1  20.0\n835       1    0  56.0\n\n[836 rows x 3 columns]",
      "text/html": "<div>\n<style scoped>\n    .dataframe tbody tr th:only-of-type {\n        vertical-align: middle;\n    }\n\n    .dataframe tbody tr th {\n        vertical-align: top;\n    }\n\n    .dataframe thead th {\n        text-align: right;\n    }\n</style>\n<table border=\"1\" class=\"dataframe\">\n  <thead>\n    <tr style=\"text-align: right;\">\n      <th></th>\n      <th>pclass</th>\n      <th>sex</th>\n      <th>age</th>\n    </tr>\n  </thead>\n  <tbody>\n    <tr>\n      <th>0</th>\n      <td>3</td>\n      <td>0</td>\n      <td>22.0</td>\n    </tr>\n    <tr>\n      <th>1</th>\n      <td>2</td>\n      <td>1</td>\n      <td>20.0</td>\n    </tr>\n    <tr>\n      <th>2</th>\n      <td>2</td>\n      <td>0</td>\n      <td>23.0</td>\n    </tr>\n    <tr>\n      <th>3</th>\n      <td>3</td>\n      <td>0</td>\n      <td>25.0</td>\n    </tr>\n    <tr>\n      <th>4</th>\n      <td>1</td>\n      <td>1</td>\n      <td>27.0</td>\n    </tr>\n    <tr>\n      <th>...</th>\n      <td>...</td>\n      <td>...</td>\n      <td>...</td>\n    </tr>\n    <tr>\n      <th>831</th>\n      <td>3</td>\n      <td>0</td>\n      <td>39.0</td>\n    </tr>\n    <tr>\n      <th>832</th>\n      <td>3</td>\n      <td>0</td>\n      <td>28.0</td>\n    </tr>\n    <tr>\n      <th>833</th>\n      <td>3</td>\n      <td>0</td>\n      <td>33.0</td>\n    </tr>\n    <tr>\n      <th>834</th>\n      <td>3</td>\n      <td>1</td>\n      <td>20.0</td>\n    </tr>\n    <tr>\n      <th>835</th>\n      <td>1</td>\n      <td>0</td>\n      <td>56.0</td>\n    </tr>\n  </tbody>\n</table>\n<p>836 rows × 3 columns</p>\n</div>"
     },
     "execution_count": 46,
     "metadata": {},
     "output_type": "execute_result"
    }
   ],
   "source": [
    "X_train"
   ],
   "metadata": {
    "collapsed": false,
    "ExecuteTime": {
     "end_time": "2024-01-24T13:32:43.783193758Z",
     "start_time": "2024-01-24T13:32:43.754388047Z"
    }
   },
   "id": "98fd562d315815c4",
   "execution_count": 46
  },
  {
   "cell_type": "markdown",
   "source": [
    "# Construction du rédeau de neurones"
   ],
   "metadata": {
    "collapsed": false
   },
   "id": "3ca0b5eeee535c94"
  },
  {
   "cell_type": "code",
   "outputs": [],
   "source": [
    "model = Sequential()"
   ],
   "metadata": {
    "collapsed": false,
    "ExecuteTime": {
     "end_time": "2024-01-24T13:32:51.127240437Z",
     "start_time": "2024-01-24T13:32:51.087372207Z"
    }
   },
   "id": "81e8b23b495f7e9e",
   "execution_count": 48
  },
  {
   "cell_type": "markdown",
   "source": [],
   "metadata": {
    "collapsed": false
   },
   "id": "6aa3728ff766a439"
  },
  {
   "cell_type": "code",
   "outputs": [],
   "source": [],
   "metadata": {
    "collapsed": false,
    "ExecuteTime": {
     "start_time": "2024-01-24T07:51:13.742647822Z"
    }
   },
   "id": "c190cbc1751a65bb"
  },
  {
   "cell_type": "code",
   "outputs": [],
   "source": [],
   "metadata": {
    "collapsed": false
   },
   "id": "1dc8a907196b4894"
  }
 ],
 "metadata": {
  "kernelspec": {
   "display_name": "Python 3",
   "language": "python",
   "name": "python3"
  },
  "language_info": {
   "codemirror_mode": {
    "name": "ipython",
    "version": 2
   },
   "file_extension": ".py",
   "mimetype": "text/x-python",
   "name": "python",
   "nbconvert_exporter": "python",
   "pygments_lexer": "ipython2",
   "version": "2.7.6"
  }
 },
 "nbformat": 4,
 "nbformat_minor": 5
}
