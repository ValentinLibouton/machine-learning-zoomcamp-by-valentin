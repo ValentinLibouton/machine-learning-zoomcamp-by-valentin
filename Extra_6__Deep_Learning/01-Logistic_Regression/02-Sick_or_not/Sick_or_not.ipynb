{
 "cells": [
  {
   "cell_type": "markdown",
   "metadata": {},
   "source": [
    "# Sick or not ?\n",
    "\n",
    "Neural networks are also used and work very well on more traditional data sets than images. Here is a set of data that contains a column with the white blood cell rate, another with the red blood cell rate and a last one with an indication of who is sick or not. (Not sick = 0, sick = 1)\n",
    "\n",
    "The (fictionals) dataset is located in the dataset folder, here is the path :  \n",
    "\n",
    "``\"./dataset/sick_or_not.csv\"`` \n",
    "\n",
    "Rows : 40000\n",
    "\n",
    "## Your task:\n",
    "\n",
    "Design a model that recognizes if the person is sick based on white and red blood cells.  \n",
    "Use neural networks to perform this task. \n",
    "\n",
    "![](https://d418bv7mr3wfv.cloudfront.net/s3/W1siZiIsIjIwMTcvMDUvMzAvMDYvNTMvNTcvODk3L2dpcmwtMjE3MTA1Ml85NjBfNzIwLmpwZyJdLFsicCIsInRodW1iIiwiOTgweDU4MCMiXV0)"
   ]
  },
  {
   "cell_type": "markdown",
   "metadata": {},
   "source": [
    "### Score to beat :\n",
    "Accuracy: **% 96.025**  \n",
    "Loss : **0.1151**  \n",
    "Epochs : **40**  \n",
    "That means that out of **8000** test samples, this model got **7682** correct and **318** incorrect."
   ]
  },
  {
   "cell_type": "code",
   "outputs": [],
   "source": [
    "from personnal_utils import gpu_activation\n",
    "gpu_activation()"
   ],
   "metadata": {
    "collapsed": false,
    "ExecuteTime": {
     "end_time": "2024-01-22T13:11:52.691735917Z",
     "start_time": "2024-01-22T13:11:52.651494270Z"
    }
   },
   "execution_count": 16
  },
  {
   "cell_type": "code",
   "outputs": [],
   "source": [
    "import pandas as pd\n",
    "from keras.models import Sequential\n",
    "from keras.layers import Dense, Dropout, Flatten, Activation"
   ],
   "metadata": {
    "collapsed": false,
    "ExecuteTime": {
     "end_time": "2024-01-22T13:11:53.361898240Z",
     "start_time": "2024-01-22T13:11:53.353898669Z"
    }
   },
   "execution_count": 17
  },
  {
   "cell_type": "code",
   "execution_count": 18,
   "metadata": {
    "ExecuteTime": {
     "end_time": "2024-01-22T13:11:53.806194140Z",
     "start_time": "2024-01-22T13:11:53.773096276Z"
    }
   },
   "outputs": [
    {
     "data": {
      "text/plain": "       white_blood_cell  red_blood_cell  sick\n0              1.178028        0.464315   0.0\n1              0.844175        2.440351   0.0\n2              2.878409       -1.438124   1.0\n3             -0.057521        2.054928   1.0\n4             -1.232600       -2.722805   0.0\n...                 ...             ...   ...\n39995         -2.641717        2.356235   1.0\n39996          3.675737        2.956299   0.0\n39997         -2.192320       -3.356272   0.0\n39998          3.100980       -2.561397   1.0\n39999         -1.605397        2.680971   1.0\n\n[40000 rows x 3 columns]",
      "text/html": "<div>\n<style scoped>\n    .dataframe tbody tr th:only-of-type {\n        vertical-align: middle;\n    }\n\n    .dataframe tbody tr th {\n        vertical-align: top;\n    }\n\n    .dataframe thead th {\n        text-align: right;\n    }\n</style>\n<table border=\"1\" class=\"dataframe\">\n  <thead>\n    <tr style=\"text-align: right;\">\n      <th></th>\n      <th>white_blood_cell</th>\n      <th>red_blood_cell</th>\n      <th>sick</th>\n    </tr>\n  </thead>\n  <tbody>\n    <tr>\n      <th>0</th>\n      <td>1.178028</td>\n      <td>0.464315</td>\n      <td>0.0</td>\n    </tr>\n    <tr>\n      <th>1</th>\n      <td>0.844175</td>\n      <td>2.440351</td>\n      <td>0.0</td>\n    </tr>\n    <tr>\n      <th>2</th>\n      <td>2.878409</td>\n      <td>-1.438124</td>\n      <td>1.0</td>\n    </tr>\n    <tr>\n      <th>3</th>\n      <td>-0.057521</td>\n      <td>2.054928</td>\n      <td>1.0</td>\n    </tr>\n    <tr>\n      <th>4</th>\n      <td>-1.232600</td>\n      <td>-2.722805</td>\n      <td>0.0</td>\n    </tr>\n    <tr>\n      <th>...</th>\n      <td>...</td>\n      <td>...</td>\n      <td>...</td>\n    </tr>\n    <tr>\n      <th>39995</th>\n      <td>-2.641717</td>\n      <td>2.356235</td>\n      <td>1.0</td>\n    </tr>\n    <tr>\n      <th>39996</th>\n      <td>3.675737</td>\n      <td>2.956299</td>\n      <td>0.0</td>\n    </tr>\n    <tr>\n      <th>39997</th>\n      <td>-2.192320</td>\n      <td>-3.356272</td>\n      <td>0.0</td>\n    </tr>\n    <tr>\n      <th>39998</th>\n      <td>3.100980</td>\n      <td>-2.561397</td>\n      <td>1.0</td>\n    </tr>\n    <tr>\n      <th>39999</th>\n      <td>-1.605397</td>\n      <td>2.680971</td>\n      <td>1.0</td>\n    </tr>\n  </tbody>\n</table>\n<p>40000 rows × 3 columns</p>\n</div>"
     },
     "execution_count": 18,
     "metadata": {},
     "output_type": "execute_result"
    }
   ],
   "source": [
    "###Enter your code here !\n",
    "df = pd.read_csv('./dataset/sick_or_not.csv')\n",
    "df"
   ]
  },
  {
   "cell_type": "code",
   "outputs": [],
   "source": [
    "df['sick'] = df.sick.astype('int')"
   ],
   "metadata": {
    "collapsed": false,
    "ExecuteTime": {
     "end_time": "2024-01-22T13:11:54.335578560Z",
     "start_time": "2024-01-22T13:11:54.326453460Z"
    }
   },
   "execution_count": 19
  },
  {
   "cell_type": "code",
   "outputs": [
    {
     "data": {
      "text/plain": "       white_blood_cell  red_blood_cell  sick\n0              1.178028        0.464315     0\n1              0.844175        2.440351     0\n2              2.878409       -1.438124     1\n3             -0.057521        2.054928     1\n4             -1.232600       -2.722805     0\n...                 ...             ...   ...\n39995         -2.641717        2.356235     1\n39996          3.675737        2.956299     0\n39997         -2.192320       -3.356272     0\n39998          3.100980       -2.561397     1\n39999         -1.605397        2.680971     1\n\n[40000 rows x 3 columns]",
      "text/html": "<div>\n<style scoped>\n    .dataframe tbody tr th:only-of-type {\n        vertical-align: middle;\n    }\n\n    .dataframe tbody tr th {\n        vertical-align: top;\n    }\n\n    .dataframe thead th {\n        text-align: right;\n    }\n</style>\n<table border=\"1\" class=\"dataframe\">\n  <thead>\n    <tr style=\"text-align: right;\">\n      <th></th>\n      <th>white_blood_cell</th>\n      <th>red_blood_cell</th>\n      <th>sick</th>\n    </tr>\n  </thead>\n  <tbody>\n    <tr>\n      <th>0</th>\n      <td>1.178028</td>\n      <td>0.464315</td>\n      <td>0</td>\n    </tr>\n    <tr>\n      <th>1</th>\n      <td>0.844175</td>\n      <td>2.440351</td>\n      <td>0</td>\n    </tr>\n    <tr>\n      <th>2</th>\n      <td>2.878409</td>\n      <td>-1.438124</td>\n      <td>1</td>\n    </tr>\n    <tr>\n      <th>3</th>\n      <td>-0.057521</td>\n      <td>2.054928</td>\n      <td>1</td>\n    </tr>\n    <tr>\n      <th>4</th>\n      <td>-1.232600</td>\n      <td>-2.722805</td>\n      <td>0</td>\n    </tr>\n    <tr>\n      <th>...</th>\n      <td>...</td>\n      <td>...</td>\n      <td>...</td>\n    </tr>\n    <tr>\n      <th>39995</th>\n      <td>-2.641717</td>\n      <td>2.356235</td>\n      <td>1</td>\n    </tr>\n    <tr>\n      <th>39996</th>\n      <td>3.675737</td>\n      <td>2.956299</td>\n      <td>0</td>\n    </tr>\n    <tr>\n      <th>39997</th>\n      <td>-2.192320</td>\n      <td>-3.356272</td>\n      <td>0</td>\n    </tr>\n    <tr>\n      <th>39998</th>\n      <td>3.100980</td>\n      <td>-2.561397</td>\n      <td>1</td>\n    </tr>\n    <tr>\n      <th>39999</th>\n      <td>-1.605397</td>\n      <td>2.680971</td>\n      <td>1</td>\n    </tr>\n  </tbody>\n</table>\n<p>40000 rows × 3 columns</p>\n</div>"
     },
     "execution_count": 20,
     "metadata": {},
     "output_type": "execute_result"
    }
   ],
   "source": [
    "df"
   ],
   "metadata": {
    "collapsed": false,
    "ExecuteTime": {
     "end_time": "2024-01-22T13:11:55.487603994Z",
     "start_time": "2024-01-22T13:11:55.477708696Z"
    }
   },
   "execution_count": 20
  },
  {
   "cell_type": "code",
   "outputs": [],
   "source": [
    "from sklearn.model_selection import train_test_split"
   ],
   "metadata": {
    "collapsed": false,
    "ExecuteTime": {
     "end_time": "2024-01-22T13:11:56.040453239Z",
     "start_time": "2024-01-22T13:11:56.034589610Z"
    }
   },
   "execution_count": 21
  },
  {
   "cell_type": "code",
   "outputs": [],
   "source": [
    "X_train_raw = df[['white_blood_cell', 'red_blood_cell']]\n",
    "y_train_raw = df['sick']\n",
    "\n",
    "X_train, X_test, y_train, y_test = train_test_split(X_train_raw, y_train_raw, test_size=0.2, random_state=1)"
   ],
   "metadata": {
    "collapsed": false,
    "ExecuteTime": {
     "end_time": "2024-01-22T13:30:23.295876486Z",
     "start_time": "2024-01-22T13:30:23.250270005Z"
    }
   },
   "execution_count": 36
  },
  {
   "cell_type": "code",
   "outputs": [
    {
     "data": {
      "text/plain": "(32000, 2)"
     },
     "execution_count": 37,
     "metadata": {},
     "output_type": "execute_result"
    }
   ],
   "source": [
    "X_train.shape"
   ],
   "metadata": {
    "collapsed": false,
    "ExecuteTime": {
     "end_time": "2024-01-22T13:30:24.000439802Z",
     "start_time": "2024-01-22T13:30:23.991311786Z"
    }
   },
   "execution_count": 37
  },
  {
   "cell_type": "code",
   "outputs": [
    {
     "data": {
      "text/plain": "5.947922122079272"
     },
     "execution_count": 38,
     "metadata": {},
     "output_type": "execute_result"
    }
   ],
   "source": [
    "df.red_blood_cell.max()"
   ],
   "metadata": {
    "collapsed": false,
    "ExecuteTime": {
     "end_time": "2024-01-22T13:30:24.690015574Z",
     "start_time": "2024-01-22T13:30:24.685465747Z"
    }
   },
   "execution_count": 38
  },
  {
   "cell_type": "code",
   "outputs": [],
   "source": [
    "model = Sequential()\n",
    "model.add(Dense(64, input_shape=(2,)))\n",
    "model.add(Activation('relu'))\n",
    "model.add(Dropout(0.2))  # Dropout pour la régularisation\n",
    "\n",
    "# Couche cachée avec 128 neurones\n",
    "model.add(Dense(128))\n",
    "model.add(Activation('relu'))\n",
    "model.add(Dropout(0.3))  # Dropout pour la régularisation\n",
    "\n",
    "# Couche cachée avec 64 neurones\n",
    "model.add(Dense(64))\n",
    "model.add(Activation('relu'))\n",
    "\n",
    "# Couche de sortie avec une seule neurone et une activation sigmoïde pour la classification binaire\n",
    "model.add(Dense(1, activation='sigmoid'))"
   ],
   "metadata": {
    "collapsed": false,
    "ExecuteTime": {
     "end_time": "2024-01-22T13:37:40.985053567Z",
     "start_time": "2024-01-22T13:37:40.902754079Z"
    }
   },
   "execution_count": 43
  },
  {
   "cell_type": "code",
   "outputs": [],
   "source": [
    "model.compile(loss='binary_crossentropy', optimizer='adam', metrics=['accuracy'])"
   ],
   "metadata": {
    "collapsed": false,
    "ExecuteTime": {
     "end_time": "2024-01-22T13:37:41.626826160Z",
     "start_time": "2024-01-22T13:37:41.605340448Z"
    }
   },
   "execution_count": 44
  },
  {
   "cell_type": "code",
   "outputs": [
    {
     "name": "stdout",
     "output_type": "stream",
     "text": [
      "Epoch 1/80\n",
      "1000/1000 [==============================] - 5s 3ms/step - loss: 0.1452 - accuracy: 0.9463\n",
      "Epoch 2/80\n",
      "1000/1000 [==============================] - 3s 3ms/step - loss: 0.1269 - accuracy: 0.9518\n",
      "Epoch 3/80\n",
      "1000/1000 [==============================] - 3s 3ms/step - loss: 0.1221 - accuracy: 0.9526\n",
      "Epoch 4/80\n",
      "1000/1000 [==============================] - 4s 4ms/step - loss: 0.1204 - accuracy: 0.9539\n",
      "Epoch 5/80\n",
      "1000/1000 [==============================] - 3s 3ms/step - loss: 0.1203 - accuracy: 0.9534\n",
      "Epoch 6/80\n",
      "1000/1000 [==============================] - 3s 3ms/step - loss: 0.1184 - accuracy: 0.9551\n",
      "Epoch 7/80\n",
      "1000/1000 [==============================] - 4s 4ms/step - loss: 0.1189 - accuracy: 0.9548\n",
      "Epoch 8/80\n",
      "1000/1000 [==============================] - 4s 4ms/step - loss: 0.1196 - accuracy: 0.9547\n",
      "Epoch 9/80\n",
      "1000/1000 [==============================] - 4s 4ms/step - loss: 0.1180 - accuracy: 0.9551\n",
      "Epoch 10/80\n",
      "1000/1000 [==============================] - 4s 4ms/step - loss: 0.1172 - accuracy: 0.9557\n",
      "Epoch 11/80\n",
      "1000/1000 [==============================] - 4s 4ms/step - loss: 0.1188 - accuracy: 0.9554\n",
      "Epoch 12/80\n",
      "1000/1000 [==============================] - 3s 3ms/step - loss: 0.1181 - accuracy: 0.9548\n",
      "Epoch 13/80\n",
      "1000/1000 [==============================] - 4s 4ms/step - loss: 0.1161 - accuracy: 0.9549\n",
      "Epoch 14/80\n",
      "1000/1000 [==============================] - 4s 4ms/step - loss: 0.1168 - accuracy: 0.9562\n",
      "Epoch 15/80\n",
      "1000/1000 [==============================] - 4s 4ms/step - loss: 0.1171 - accuracy: 0.9552\n",
      "Epoch 16/80\n",
      "1000/1000 [==============================] - 3s 3ms/step - loss: 0.1175 - accuracy: 0.9554\n",
      "Epoch 17/80\n",
      "1000/1000 [==============================] - 3s 3ms/step - loss: 0.1163 - accuracy: 0.9551\n",
      "Epoch 18/80\n",
      "1000/1000 [==============================] - 3s 3ms/step - loss: 0.1172 - accuracy: 0.9558\n",
      "Epoch 19/80\n",
      "1000/1000 [==============================] - 3s 3ms/step - loss: 0.1177 - accuracy: 0.9556\n",
      "Epoch 20/80\n",
      "1000/1000 [==============================] - 3s 3ms/step - loss: 0.1159 - accuracy: 0.9559\n",
      "Epoch 21/80\n",
      "1000/1000 [==============================] - 3s 3ms/step - loss: 0.1168 - accuracy: 0.9552\n",
      "Epoch 22/80\n",
      "1000/1000 [==============================] - 4s 4ms/step - loss: 0.1160 - accuracy: 0.9566\n",
      "Epoch 23/80\n",
      "1000/1000 [==============================] - 3s 3ms/step - loss: 0.1161 - accuracy: 0.9558\n",
      "Epoch 24/80\n",
      "1000/1000 [==============================] - 3s 3ms/step - loss: 0.1163 - accuracy: 0.9555\n",
      "Epoch 25/80\n",
      "1000/1000 [==============================] - 3s 3ms/step - loss: 0.1161 - accuracy: 0.9558\n",
      "Epoch 26/80\n",
      "1000/1000 [==============================] - 3s 3ms/step - loss: 0.1166 - accuracy: 0.9563\n",
      "Epoch 27/80\n",
      "1000/1000 [==============================] - 4s 4ms/step - loss: 0.1152 - accuracy: 0.9552\n",
      "Epoch 28/80\n",
      "1000/1000 [==============================] - 4s 4ms/step - loss: 0.1156 - accuracy: 0.9549\n",
      "Epoch 29/80\n",
      "1000/1000 [==============================] - 3s 3ms/step - loss: 0.1155 - accuracy: 0.9556\n",
      "Epoch 30/80\n",
      "1000/1000 [==============================] - 3s 3ms/step - loss: 0.1159 - accuracy: 0.9563\n",
      "Epoch 31/80\n",
      "1000/1000 [==============================] - 4s 4ms/step - loss: 0.1148 - accuracy: 0.9561\n",
      "Epoch 32/80\n",
      "1000/1000 [==============================] - 3s 3ms/step - loss: 0.1162 - accuracy: 0.9556\n",
      "Epoch 33/80\n",
      "1000/1000 [==============================] - 3s 3ms/step - loss: 0.1156 - accuracy: 0.9557\n",
      "Epoch 34/80\n",
      "1000/1000 [==============================] - 4s 4ms/step - loss: 0.1152 - accuracy: 0.9555\n",
      "Epoch 35/80\n",
      "1000/1000 [==============================] - 3s 3ms/step - loss: 0.1149 - accuracy: 0.9560\n",
      "Epoch 36/80\n",
      "1000/1000 [==============================] - 3s 3ms/step - loss: 0.1150 - accuracy: 0.9557\n",
      "Epoch 37/80\n",
      "1000/1000 [==============================] - 3s 3ms/step - loss: 0.1148 - accuracy: 0.9565\n",
      "Epoch 38/80\n",
      "1000/1000 [==============================] - 3s 3ms/step - loss: 0.1154 - accuracy: 0.9556\n",
      "Epoch 39/80\n",
      "1000/1000 [==============================] - 3s 3ms/step - loss: 0.1138 - accuracy: 0.9568\n",
      "Epoch 40/80\n",
      "1000/1000 [==============================] - 3s 3ms/step - loss: 0.1147 - accuracy: 0.9549\n",
      "Epoch 41/80\n",
      "1000/1000 [==============================] - 3s 3ms/step - loss: 0.1141 - accuracy: 0.9562\n",
      "Epoch 42/80\n",
      "1000/1000 [==============================] - 3s 3ms/step - loss: 0.1139 - accuracy: 0.9563\n",
      "Epoch 43/80\n",
      "1000/1000 [==============================] - 3s 3ms/step - loss: 0.1142 - accuracy: 0.9557\n",
      "Epoch 44/80\n",
      "1000/1000 [==============================] - 3s 3ms/step - loss: 0.1153 - accuracy: 0.9559\n",
      "Epoch 45/80\n",
      "1000/1000 [==============================] - 4s 4ms/step - loss: 0.1148 - accuracy: 0.9557\n",
      "Epoch 46/80\n",
      "1000/1000 [==============================] - 3s 3ms/step - loss: 0.1143 - accuracy: 0.9561\n",
      "Epoch 47/80\n",
      "1000/1000 [==============================] - 3s 3ms/step - loss: 0.1155 - accuracy: 0.9556\n",
      "Epoch 48/80\n",
      "1000/1000 [==============================] - 3s 3ms/step - loss: 0.1148 - accuracy: 0.9557\n",
      "Epoch 49/80\n",
      "1000/1000 [==============================] - 3s 3ms/step - loss: 0.1155 - accuracy: 0.9565\n",
      "Epoch 50/80\n",
      "1000/1000 [==============================] - 3s 3ms/step - loss: 0.1151 - accuracy: 0.9558\n",
      "Epoch 51/80\n",
      "1000/1000 [==============================] - 4s 4ms/step - loss: 0.1154 - accuracy: 0.9560\n",
      "Epoch 52/80\n",
      "1000/1000 [==============================] - 3s 3ms/step - loss: 0.1139 - accuracy: 0.9553\n",
      "Epoch 53/80\n",
      "1000/1000 [==============================] - 3s 3ms/step - loss: 0.1141 - accuracy: 0.9557\n",
      "Epoch 54/80\n",
      "1000/1000 [==============================] - 3s 3ms/step - loss: 0.1146 - accuracy: 0.9555\n",
      "Epoch 55/80\n",
      "1000/1000 [==============================] - 3s 3ms/step - loss: 0.1139 - accuracy: 0.9560\n",
      "Epoch 56/80\n",
      "1000/1000 [==============================] - 3s 3ms/step - loss: 0.1154 - accuracy: 0.9562\n",
      "Epoch 57/80\n",
      "1000/1000 [==============================] - 3s 3ms/step - loss: 0.1148 - accuracy: 0.9558\n",
      "Epoch 58/80\n",
      "1000/1000 [==============================] - 3s 3ms/step - loss: 0.1153 - accuracy: 0.9557\n",
      "Epoch 59/80\n",
      "1000/1000 [==============================] - 3s 3ms/step - loss: 0.1136 - accuracy: 0.9557\n",
      "Epoch 60/80\n",
      "1000/1000 [==============================] - 3s 3ms/step - loss: 0.1132 - accuracy: 0.9562\n",
      "Epoch 61/80\n",
      "1000/1000 [==============================] - 3s 3ms/step - loss: 0.1148 - accuracy: 0.9556\n",
      "Epoch 62/80\n",
      "1000/1000 [==============================] - 4s 4ms/step - loss: 0.1151 - accuracy: 0.9552\n",
      "Epoch 63/80\n",
      "1000/1000 [==============================] - 3s 3ms/step - loss: 0.1155 - accuracy: 0.9555\n",
      "Epoch 64/80\n",
      "1000/1000 [==============================] - 3s 3ms/step - loss: 0.1146 - accuracy: 0.9563\n",
      "Epoch 65/80\n",
      "1000/1000 [==============================] - 4s 4ms/step - loss: 0.1140 - accuracy: 0.9565\n",
      "Epoch 66/80\n",
      "1000/1000 [==============================] - 3s 3ms/step - loss: 0.1143 - accuracy: 0.9567\n",
      "Epoch 67/80\n",
      "1000/1000 [==============================] - 4s 4ms/step - loss: 0.1145 - accuracy: 0.9564\n",
      "Epoch 68/80\n",
      "1000/1000 [==============================] - 3s 3ms/step - loss: 0.1151 - accuracy: 0.9558\n",
      "Epoch 69/80\n",
      "1000/1000 [==============================] - 3s 3ms/step - loss: 0.1150 - accuracy: 0.9563\n",
      "Epoch 70/80\n",
      "1000/1000 [==============================] - 3s 3ms/step - loss: 0.1145 - accuracy: 0.9556\n",
      "Epoch 71/80\n",
      "1000/1000 [==============================] - 4s 4ms/step - loss: 0.1143 - accuracy: 0.9559\n",
      "Epoch 72/80\n",
      "1000/1000 [==============================] - 3s 3ms/step - loss: 0.1139 - accuracy: 0.9567\n",
      "Epoch 73/80\n",
      "1000/1000 [==============================] - 3s 3ms/step - loss: 0.1141 - accuracy: 0.9555\n",
      "Epoch 74/80\n",
      "1000/1000 [==============================] - 3s 3ms/step - loss: 0.1147 - accuracy: 0.9562\n",
      "Epoch 75/80\n",
      "1000/1000 [==============================] - 3s 3ms/step - loss: 0.1141 - accuracy: 0.9563\n",
      "Epoch 76/80\n",
      "1000/1000 [==============================] - 3s 3ms/step - loss: 0.1139 - accuracy: 0.9559\n",
      "Epoch 77/80\n",
      "1000/1000 [==============================] - 3s 3ms/step - loss: 0.1140 - accuracy: 0.9561\n",
      "Epoch 78/80\n",
      "1000/1000 [==============================] - 3s 3ms/step - loss: 0.1151 - accuracy: 0.9564\n",
      "Epoch 79/80\n",
      "1000/1000 [==============================] - 4s 4ms/step - loss: 0.1136 - accuracy: 0.9563\n",
      "Epoch 80/80\n",
      "1000/1000 [==============================] - 3s 3ms/step - loss: 0.1150 - accuracy: 0.9558\n"
     ]
    },
    {
     "data": {
      "text/plain": "<keras.src.callbacks.History at 0x7fd690236d40>"
     },
     "execution_count": 45,
     "metadata": {},
     "output_type": "execute_result"
    }
   ],
   "source": [
    "model.fit(X_train, y_train, epochs=80)"
   ],
   "metadata": {
    "collapsed": false,
    "ExecuteTime": {
     "end_time": "2024-01-22T13:42:19.226209645Z",
     "start_time": "2024-01-22T13:37:42.385373124Z"
    }
   },
   "execution_count": 45
  },
  {
   "cell_type": "code",
   "outputs": [],
   "source": [],
   "metadata": {
    "collapsed": false
   }
  }
 ],
 "metadata": {
  "kernelspec": {
   "display_name": "Python 3",
   "language": "python",
   "name": "python3"
  },
  "language_info": {
   "codemirror_mode": {
    "name": "ipython",
    "version": 3
   },
   "file_extension": ".py",
   "mimetype": "text/x-python",
   "name": "python",
   "nbconvert_exporter": "python",
   "pygments_lexer": "ipython3",
   "version": "3.7.3"
  }
 },
 "nbformat": 4,
 "nbformat_minor": 2
}
