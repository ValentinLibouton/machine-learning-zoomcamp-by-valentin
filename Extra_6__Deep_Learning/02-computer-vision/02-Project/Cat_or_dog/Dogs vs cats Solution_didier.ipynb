{
 "cells": [
  {
   "cell_type": "markdown",
   "metadata": {},
   "source": [
    "## Dogs vs. Cats\n",
    "In this competition, you'll write an algorithm to classify whether images contain either a dog or a cat.  This is easy for humans, dogs, and cats. Your computer will find it a bit more difficult.\n",
    "\n",
    "\n",
    "![](https://storage.googleapis.com/kaggle-competitions/kaggle/3362/media/woof_meow.jpg)\n",
    "\n",
    "Deep Blue beat Kasparov at chess in 1997.  \n",
    "Watson beat the brightest trivia minds at Jeopardy in 2011.  \n",
    "Can you tell Fido from Mittens in 2013?  \n",
    "\n",
    "\n",
    "## Your task:\n",
    "\n",
    "1. Train your algorithm on these files and predict the labels (1 = dog, 0 = cat).\n",
    "2. Deploy your model in herroku ! The user must have the possibility to upload a photo to test the model.\n",
    "\n",
    "##  Dataset \n",
    "````\n",
    "./dataset/\n",
    "----> training_set/\n",
    "--------> dog/\n",
    "               image1\n",
    "               image2\n",
    "               .\n",
    "               .\n",
    "--------> cat/\n",
    "               image1\n",
    "               image2\n",
    "               .\n",
    "               .\n",
    "----> test_set/\n",
    "--------> dog/\n",
    "               image1\n",
    "               image2\n",
    "               .\n",
    "               .\n",
    "--------> cat/\n",
    "               image1\n",
    "               image2\n",
    "               .\n",
    "           .\n",
    "````\n",
    "\n",
    "To load the dataset uses ImageDataGenerator : \n",
    "https://keras.io/preprocessing/image/"
   ]
  },
  {
   "cell_type": "code",
   "execution_count": 74,
   "metadata": {},
   "outputs": [],
   "source": [
    "from tensorflow.keras.preprocessing.image import ImageDataGenerator\n",
    "from tensorflow.keras.models import Sequential\n",
    "from tensorflow.keras.layers import Conv2D, MaxPooling2D\n",
    "from tensorflow.keras.layers import Dense, Flatten, Dropout\n",
    "from tensorflow.keras.callbacks import EarlyStopping, ModelCheckpoint\n",
    "from tensorflow.keras.regularizers import l2\n",
    "\n",
    "\n"
   ]
  },
  {
   "cell_type": "code",
   "execution_count": 52,
   "metadata": {},
   "outputs": [
    {
     "name": "stdout",
     "output_type": "stream",
     "text": [
      "Found 7984 images belonging to 2 classes.\n",
      "Found 16 images belonging to 2 classes.\n"
     ]
    }
   ],
   "source": [
    "# Train Set\n",
    "train_datagen = ImageDataGenerator(\n",
    "    rescale=1./255,\n",
    "    shear_range=0.2,\n",
    "    zoom_range=0.2,\n",
    "    horizontal_flip=False,\n",
    "    validation_split=0.002\n",
    ")\n",
    "\n",
    "# Train Generator\n",
    "train_generator = train_datagen.flow_from_directory(\n",
    "    './dataset/training_set',\n",
    "    target_size=(64, 64),\n",
    "    batch_size=32,\n",
    "    class_mode='binary',\n",
    "    seed=42,\n",
    "    shuffle=True,\n",
    "    subset='training'\n",
    ")\n",
    "\n",
    "# Validation Generator\n",
    "validation_generator = train_datagen.flow_from_directory(\n",
    "    './dataset/training_set',\n",
    "    target_size=(64, 64),\n",
    "    batch_size=32,\n",
    "    class_mode='binary',\n",
    "    seed=42,\n",
    "    shuffle=True,\n",
    "    subset='validation'\n",
    ")"
   ]
  },
  {
   "cell_type": "code",
   "execution_count": 53,
   "metadata": {},
   "outputs": [
    {
     "name": "stdout",
     "output_type": "stream",
     "text": [
      "Found 2000 images belonging to 2 classes.\n"
     ]
    }
   ],
   "source": [
    "# Test Set\n",
    "\n",
    "test_datagen = ImageDataGenerator(\n",
    "    rescale=1./255,\n",
    "    shear_range=0.2,\n",
    "    zoom_range=0.2,\n",
    "    horizontal_flip=False\n",
    ")\n",
    "\n",
    "\n",
    "test_generator = test_datagen.flow_from_directory(\n",
    "    './dataset/test_set',\n",
    "    target_size=(64, 64),\n",
    "    batch_size=32,\n",
    "    class_mode='binary',\n",
    "    seed=42,\n",
    "    shuffle=True\n",
    ")"
   ]
  },
  {
   "cell_type": "markdown",
   "metadata": {},
   "source": [
    "Model Training"
   ]
  },
  {
   "cell_type": "markdown",
   "metadata": {},
   "source": [
    "### CallBacks"
   ]
  },
  {
   "cell_type": "code",
   "execution_count": 54,
   "metadata": {},
   "outputs": [],
   "source": [
    "callbacks = [\n",
    "    EarlyStopping(monitor='val_loss', patience=5),\n",
    "    ModelCheckpoint(filepath='./dataset/best_model.h5', save_best_only=True)\n",
    "]"
   ]
  },
  {
   "cell_type": "code",
   "execution_count": 55,
   "metadata": {},
   "outputs": [],
   "source": [
    "model = Sequential()\n",
    "\n",
    "\n",
    "model.add(Conv2D(32, (3,3), input_shape=(64,64,3), activation='relu'))\n",
    "\n",
    "model.add(Conv2D(32, (3,3), activation='relu'))\n",
    "model.add(MaxPooling2D(pool_size=(2,2)))\n",
    "model.add(Dropout(0.25))\n",
    "\n",
    "model.add(Flatten())\n",
    "\n",
    "model.add(Dense(32, activation='relu'))\n",
    "model.add(Dense(1, activation='sigmoid'))"
   ]
  },
  {
   "cell_type": "code",
   "execution_count": 60,
   "metadata": {},
   "outputs": [
    {
     "name": "stdout",
     "output_type": "stream",
     "text": [
      "Epoch 1/15\n",
      "250/250 [==============================] - 54s 211ms/step - loss: 0.3730 - accuracy: 0.8258 - val_loss: 0.8048 - val_accuracy: 0.5625\n",
      "Epoch 2/15\n",
      "250/250 [==============================] - 66s 262ms/step - loss: 0.3582 - accuracy: 0.8423 - val_loss: 0.8338 - val_accuracy: 0.6250\n",
      "Epoch 3/15\n",
      "250/250 [==============================] - 72s 286ms/step - loss: 0.3266 - accuracy: 0.8568 - val_loss: 0.5853 - val_accuracy: 0.6875\n",
      "Epoch 4/15\n",
      "250/250 [==============================] - 59s 233ms/step - loss: 0.3097 - accuracy: 0.8661 - val_loss: 0.9478 - val_accuracy: 0.7500\n",
      "Epoch 5/15\n",
      "250/250 [==============================] - 59s 234ms/step - loss: 0.2997 - accuracy: 0.8686 - val_loss: 0.6982 - val_accuracy: 0.7500\n",
      "Epoch 6/15\n",
      "250/250 [==============================] - 60s 238ms/step - loss: 0.2794 - accuracy: 0.8791 - val_loss: 0.7661 - val_accuracy: 0.6875\n",
      "Epoch 7/15\n",
      "250/250 [==============================] - 73s 292ms/step - loss: 0.2615 - accuracy: 0.8851 - val_loss: 1.0704 - val_accuracy: 0.5625\n",
      "Epoch 8/15\n",
      "250/250 [==============================] - 72s 287ms/step - loss: 0.2502 - accuracy: 0.8942 - val_loss: 0.8636 - val_accuracy: 0.5625\n"
     ]
    }
   ],
   "source": [
    "# compile --> Backpropagation\n",
    "\n",
    "model.compile(\n",
    "    optimizer='adam',\n",
    "    loss='binary_crossentropy',\n",
    "    metrics=[\"accuracy\"])\n",
    "\n",
    "history = model.fit(\n",
    "    train_generator,\n",
    "    validation_data=validation_generator,\n",
    "    epochs=15,\n",
    "    callbacks=callbacks)\n",
    "\n"
   ]
  },
  {
   "cell_type": "markdown",
   "metadata": {},
   "source": [
    "### Metrics definitions\n",
    "\n",
    "+ loss: In classification error in predicting the class labels.In regression numeric difference that the model is trying to minimize during training.<br>\n",
    "+ Validation Loss (val_loss): same has loss but base on val set that the model did not see during training.\n",
    "+ Training Accuracy (accuracy): Ratio of correct prediction on Train set\n",
    "+ Validation Accuracy (accuracy): Ratio of correct prediction on Validation set\n",
    "\n",
    "### Overfitting use case\n",
    "\n",
    "**Epoch 4/15**: The model is improving, and the accuracy on the validation set is increasing.\n",
    "\n",
    "**Epoch 5/15**: It's possible that the model is overfitting. Overfitting occurs when a model learns the training data too well, including its noise and outliers. As a result, it may perform poorly on new, unseen data. In this case, the decrease in val_accuracy might indicate that the model is becoming too specific to the training data and is not generalizing well to new examples.\n",
    "\n",
    "To address this, you might consider techniques such as adjusting the model architecture, using **regularization**, or **increasing** *the amount of training data.*\n"
   ]
  },
  {
   "cell_type": "code",
   "execution_count": 61,
   "metadata": {},
   "outputs": [
    {
     "name": "stdout",
     "output_type": "stream",
     "text": [
      "63/63 [==============================] - 9s 143ms/step - loss: 0.6595 - accuracy: 0.7375\n"
     ]
    }
   ],
   "source": [
    "model_evaluation = model.evaluate(test_generator)"
   ]
  },
  {
   "cell_type": "code",
   "execution_count": 62,
   "metadata": {},
   "outputs": [
    {
     "name": "stdout",
     "output_type": "stream",
     "text": [
      "Summary Evaluation:\n",
      "      \n",
      "loss: 0.6594719886779785\n",
      "      \n",
      "accuraccy: 0.737500011920929\n",
      "      \n"
     ]
    }
   ],
   "source": [
    "result = {\n",
    "    \"Loss\": model_evaluation[0],\n",
    "    \"Accuraccy\": model_evaluation[1]\n",
    "}\n",
    "\n",
    "print(f'''Summary Evaluation:\n",
    "      \\nloss: {result[\"Loss\"]}\n",
    "      \\naccuraccy: {result[\"Accuraccy\"]}\n",
    "      ''')"
   ]
  },
  {
   "cell_type": "markdown",
   "metadata": {},
   "source": [
    "### Validation curves"
   ]
  },
  {
   "cell_type": "code",
   "execution_count": 63,
   "metadata": {},
   "outputs": [
    {
     "data": {
      "image/png": "[encoded data removed]",
      "text/plain": [
       "<Figure size 640x480 with 1 Axes>"
      ]
     },
     "metadata": {},
     "output_type": "display_data"
    },
    {
     "data": {
      "image/png": "[encoded data removed]",
      "text/plain": [
       "<Figure size 640x480 with 1 Axes>"
      ]
     },
     "metadata": {},
     "output_type": "display_data"
    }
   ],
   "source": [
    "from sklearn.metrics import confusion_matrix, classification_report\n",
    "import matplotlib.pyplot as plt\n",
    "import seaborn as sns\n",
    "\n",
    "# Plot the ERROR\n",
    "plt.plot(history.history['loss'], label='Training Loss')\n",
    "plt.plot(history.history['val_loss'], label='Validation Loss')\n",
    "plt.title('Training and Validation Loss')\n",
    "plt.xlabel('Epochs')\n",
    "plt.ylabel('Loss')\n",
    "plt.legend()\n",
    "plt.show()\n",
    "# Plot training and validation curves\n",
    "plt.plot(history.history['accuracy'], label='Training Accuracy')\n",
    "plt.plot(history.history['val_accuracy'], label='Validation Accuracy')\n",
    "plt.title('Training and Validation Accuracy')\n",
    "plt.xlabel('Epochs')\n",
    "plt.ylabel('Accuracy')\n",
    "plt.legend()\n",
    "plt.show()"
   ]
  },
  {
   "cell_type": "code",
   "execution_count": 64,
   "metadata": {},
   "outputs": [
    {
     "name": "stdout",
     "output_type": "stream",
     "text": [
      "63/63 [==============================] - 10s 150ms/step\n"
     ]
    }
   ],
   "source": [
    "# Predict on the test set\n",
    "test_predictions = model.predict(test_generator)"
   ]
  },
  {
   "cell_type": "code",
   "execution_count": 65,
   "metadata": {},
   "outputs": [
    {
     "data": {
      "text/plain": [
       "array([[0.82733136],\n",
       "       [0.01014649],\n",
       "       [0.9998276 ],\n",
       "       ...,\n",
       "       [0.01072564],\n",
       "       [0.22011095],\n",
       "       [0.528659  ]], dtype=float32)"
      ]
     },
     "execution_count": 65,
     "metadata": {},
     "output_type": "execute_result"
    }
   ],
   "source": [
    "test_predictions"
   ]
  },
  {
   "cell_type": "code",
   "execution_count": 67,
   "metadata": {},
   "outputs": [
    {
     "data": {
      "text/plain": [
       "array([[ True],\n",
       "       [False],\n",
       "       [ True],\n",
       "       ...,\n",
       "       [False],\n",
       "       [False],\n",
       "       [ True]])"
      ]
     },
     "execution_count": 67,
     "metadata": {},
     "output_type": "execute_result"
    }
   ],
   "source": [
    "test_predictions > threshold"
   ]
  },
  {
   "cell_type": "code",
   "execution_count": 66,
   "metadata": {},
   "outputs": [],
   "source": [
    "# To resolve this, we can use this threshold based on our problem\n",
    "threshold = 0.5   \n",
    "\n",
    "# Convert probabilities to class labels\n",
    "test_predictions_binary = (test_predictions > threshold).astype(int)"
   ]
  },
  {
   "cell_type": "code",
   "execution_count": 68,
   "metadata": {},
   "outputs": [
    {
     "name": "stdout",
     "output_type": "stream",
     "text": [
      "Predictions: [[1]\n",
      " [0]\n",
      " [1]\n",
      " ...\n",
      " [0]\n",
      " [0]\n",
      " [1]]\n"
     ]
    }
   ],
   "source": [
    "# Print the predicted classes\n",
    "print(\"Predictions:\", test_predictions_binary)"
   ]
  },
  {
   "cell_type": "code",
   "execution_count": 69,
   "metadata": {},
   "outputs": [],
   "source": [
    "true_labels = test_generator.classes"
   ]
  },
  {
   "cell_type": "code",
   "execution_count": 70,
   "metadata": {},
   "outputs": [
    {
     "data": {
      "text/plain": [
       "array([0, 0, 0, ..., 1, 1, 1])"
      ]
     },
     "execution_count": 70,
     "metadata": {},
     "output_type": "execute_result"
    }
   ],
   "source": [
    "true_labels"
   ]
  },
  {
   "cell_type": "code",
   "execution_count": 71,
   "metadata": {},
   "outputs": [
    {
     "data": {
      "image/png": "[encoded data removed]",
      "text/plain": [
       "<Figure size 800x600 with 2 Axes>"
      ]
     },
     "metadata": {},
     "output_type": "display_data"
    }
   ],
   "source": [
    "\n",
    "\n",
    "# True labels for your test set\n",
    "true_labels = test_generator.classes\n",
    "\n",
    "# Convert predicted probabilities to binary labels\n",
    "predicted_labels_binary = (test_predictions > threshold).astype(int)\n",
    "\n",
    "\n",
    "\n",
    "conf_matrix = confusion_matrix(true_labels, predicted_labels_binary)\n",
    "\n",
    "\n",
    "\n",
    "# Display confusion matrix using seaborn heatmap\n",
    "plt.figure(figsize=(8, 6))\n",
    "sns.heatmap(\n",
    "    conf_matrix, \n",
    "    annot=True, \n",
    "    fmt=\"d\", \n",
    "    cmap=\"Blues\", \n",
    "    xticklabels=[\"Cats\", \"Dogs\"], \n",
    "    yticklabels=[\"Cats\", \"Dogs\"])\n",
    "\n",
    "plt.xlabel(\"Predicted Labels\")\n",
    "plt.ylabel(\"True Labels\")\n",
    "plt.title(\"Confusion Matrix\")\n",
    "plt.show()"
   ]
  },
  {
   "cell_type": "code",
   "execution_count": 75,
   "metadata": {},
   "outputs": [
    {
     "name": "stdout",
     "output_type": "stream",
     "text": [
      "Epoch 1/15\n",
      "215/250 [========================>.....] - ETA: 9s - loss: 0.7193 - accuracy: 0.5608"
     ]
    }
   ],
   "source": [
    "\n",
    "model = Sequential()\n",
    "\n",
    "model.add(Conv2D(32, (3, 3), input_shape=(64, 64, 3),\n",
    "          activation='relu', kernel_regularizer=l2(0.0005))) # here\n",
    "model.add(Conv2D(32, (3, 3), activation='relu', kernel_regularizer=l2(0.0005)))\n",
    "model.add(MaxPooling2D(pool_size=(2, 2)))\n",
    "model.add(Dropout(0.25))\n",
    "\n",
    "model.add(Flatten())\n",
    "\n",
    "model.add(Dense(32, activation='relu', kernel_regularizer=l2(0.0005))) #here\n",
    "model.add(Dense(1, activation='sigmoid'))\n",
    "\n",
    "# compile --> Backpropagation\n",
    "model.compile(optimizer='adam', loss='binary_crossentropy',\n",
    "              metrics=[\"accuracy\"])\n",
    "\n",
    "# Define callbacks\n",
    "callbacks = [\n",
    "    EarlyStopping(monitor='val_loss', patience=5),\n",
    "    ModelCheckpoint(filepath='./dataset/best_model.h5', save_best_only=True)\n",
    "]\n",
    "\n",
    "# Train the model and obtain the training history\n",
    "history = model.fit(\n",
    "    train_generator,\n",
    "    validation_data=validation_generator,\n",
    "    epochs=15,\n",
    "    callbacks=callbacks\n",
    ")\n",
    "\n",
    "# Plot the training and validation curves\n",
    "plt.plot(history.history['loss'], label='Training Loss')\n",
    "plt.plot(history.history['val_loss'], label='Validation Loss')\n",
    "plt.title('Training and Validation Loss')\n",
    "plt.xlabel('Epochs')\n",
    "plt.ylabel('Loss')\n",
    "plt.legend()\n",
    "plt.show()\n",
    "\n",
    "plt.plot(history.history['accuracy'], label='Training Accuracy')\n",
    "plt.plot(history.history['val_accuracy'], label='Validation Accuracy')\n",
    "plt.title('Training and Validation Accuracy')\n",
    "plt.xlabel('Epochs')\n",
    "plt.ylabel('Accuracy')\n",
    "plt.legend()\n",
    "plt.show()"
   ]
  },
  {
   "cell_type": "code",
   "execution_count": null,
   "metadata": {},
   "outputs": [],
   "source": []
  }
 ],
 "metadata": {
  "kernelspec": {
   "display_name": "Python 3",
   "language": "python",
   "name": "python3"
  },
  "language_info": {
   "codemirror_mode": {
    "name": "ipython",
    "version": 3
   },
   "file_extension": ".py",
   "mimetype": "text/x-python",
   "name": "python",
   "nbconvert_exporter": "python",
   "pygments_lexer": "ipython3",
   "version": "3.10.10"
  }
 },
 "nbformat": 4,
 "nbformat_minor": 2
}
