{
 "cells": [
  {
   "cell_type": "markdown",
   "source": [
    "# 4. Evaluation Metrice for Classification\n",
    "In the previous session we trainted a model for predicting churn. How do we know if it's good? "
   ],
   "metadata": {
    "collapsed": false
   },
   "id": "d3f5ed4747096a6b"
  },
  {
   "cell_type": "markdown",
   "source": [
    "## 4.1 Evaluation metrics: session overview\n",
    "* Dataset: https//www.kaggle.com/blastchar/telco-customer-churn\n",
    "* https:://raw.githubusercontent.com/alexeygrigorev/mlbookcamp-code/master/chapter-03-churn-prediction/WA_Fn-UseC_-Telco-Customer-Churn.csv\n",
    "Metric - function that compares the predictions with the actual values and outputs a single number that tells how good the predictions are"
   ],
   "metadata": {
    "collapsed": false
   },
   "id": "85dedfba42662ace"
  },
  {
   "cell_type": "code",
   "execution_count": 1,
   "outputs": [],
   "source": [
    "import pandas as pd\n",
    "import numpy as np\n",
    "import matplotlib.pyplot as plt"
   ],
   "metadata": {
    "collapsed": false,
    "ExecuteTime": {
     "end_time": "2024-01-18T11:03:12.214790912Z",
     "start_time": "2024-01-18T11:03:11.368161816Z"
    }
   },
   "id": "6855e250d7776244"
  },
  {
   "cell_type": "code",
   "execution_count": 2,
   "outputs": [],
   "source": [
    "from sklearn.model_selection import train_test_split\n",
    "from sklearn.feature_extraction import DictVectorizer\n",
    "from sklearn.linear_model import LogisticRegression"
   ],
   "metadata": {
    "collapsed": false,
    "ExecuteTime": {
     "end_time": "2024-01-18T11:03:12.821015529Z",
     "start_time": "2024-01-18T11:03:12.214403762Z"
    }
   },
   "id": "27ccd2df9620b1c1"
  },
  {
   "cell_type": "code",
   "execution_count": 3,
   "outputs": [],
   "source": [
    "data_url = 'https://raw.githubusercontent.com/alexeygrigorev/mlbookcamp-code/master/chapter-03-churn-prediction/WA_Fn-UseC_-Telco-Customer-Churn.csv'"
   ],
   "metadata": {
    "collapsed": false,
    "ExecuteTime": {
     "end_time": "2024-01-18T11:03:12.835208369Z",
     "start_time": "2024-01-18T11:03:12.801585942Z"
    }
   },
   "id": "4cb26c42f7070861"
  },
  {
   "cell_type": "code",
   "execution_count": 4,
   "outputs": [
    {
     "name": "stdout",
     "output_type": "stream",
     "text": [
      "Le fichier data-week-4.csv existe déjà.\n"
     ]
    }
   ],
   "source": [
    "import os\n",
    "filename = 'data-week-4.csv'\n",
    "if not os.path.exists(filename):\n",
    "    os.system(f'wget {data_url} -O {filename}')\n",
    "    print(f\"Le fichier {filename} a été téléchargé avec succès.\")\n",
    "else:\n",
    "    # Si le fichier existe déjà, imprimez un message\n",
    "    print(f\"Le fichier {filename} existe déjà.\")"
   ],
   "metadata": {
    "collapsed": false,
    "ExecuteTime": {
     "end_time": "2024-01-18T11:03:12.840565924Z",
     "start_time": "2024-01-18T11:03:12.807380411Z"
    }
   },
   "id": "5d54c32fd1608d04"
  },
  {
   "cell_type": "code",
   "execution_count": 5,
   "outputs": [],
   "source": [
    "df = pd.read_csv(filename)\n",
    "df.columns = df.columns.str.lower().str.replace(' ', '_') # edit columns names\n",
    "categorical_columns = list(df.dtypes[df.dtypes == 'object'].index)\n",
    "for c in categorical_columns:\n",
    "    df[c] = df[c].str.lower().str.replace(' ', '_') # edit content of column"
   ],
   "metadata": {
    "collapsed": false,
    "ExecuteTime": {
     "end_time": "2024-01-18T11:03:12.995131056Z",
     "start_time": "2024-01-18T11:03:12.813881473Z"
    }
   },
   "id": "8443ac78be2c1ed9"
  },
  {
   "cell_type": "code",
   "execution_count": 6,
   "outputs": [],
   "source": [
    "df['totalcharges'] = pd.to_numeric(df['totalcharges'], errors='coerce')\n",
    "df.totalcharges = df.totalcharges.fillna(0)\n",
    "df.churn = (df.churn == 'yes').astype(int)"
   ],
   "metadata": {
    "collapsed": false,
    "ExecuteTime": {
     "end_time": "2024-01-18T11:03:12.999259523Z",
     "start_time": "2024-01-18T11:03:12.977501774Z"
    }
   },
   "id": "39ad15c385b7e52f"
  },
  {
   "cell_type": "code",
   "execution_count": 7,
   "outputs": [],
   "source": [
    "df_full_train, df_test = train_test_split(df, test_size=0.2, random_state=1)\n",
    "df_train, df_val = train_test_split(df_full_train, test_size=0.25, random_state=1)\n",
    "\n",
    "df_train.reset_index(drop=True, inplace=True)\n",
    "df_val.reset_index(drop=True, inplace=True)\n",
    "df_test.reset_index(drop=True, inplace=True)\n",
    "\n",
    "y_train = df_train.churn.values\n",
    "y_val = df_val.churn.values\n",
    "y_test = df_test.churn.values\n",
    "\n",
    "df_train.drop('churn', axis=1, inplace=True)\n",
    "df_val.drop('churn', axis=1, inplace=True)\n",
    "df_test.drop('churn', axis=1, inplace=True)"
   ],
   "metadata": {
    "collapsed": false,
    "ExecuteTime": {
     "end_time": "2024-01-18T11:03:13.003269796Z",
     "start_time": "2024-01-18T11:03:12.978042013Z"
    }
   },
   "id": "f74498131d0447ce"
  },
  {
   "cell_type": "code",
   "execution_count": 8,
   "outputs": [],
   "source": [
    "numerical = ['tenure', 'monthlycharges', 'totalcharges']\n",
    "categorical = ['customerid', 'gender', 'seniorcitizen', 'partner', 'dependents', 'phoneservice', 'multiplelines', 'internetservice',\n",
    "       'onlinesecurity', 'onlinebackup', 'deviceprotection', 'techsupport',\n",
    "       'streamingtv', 'streamingmovies', 'contract', 'paperlessbilling',\n",
    "       'paymentmethod']"
   ],
   "metadata": {
    "collapsed": false,
    "ExecuteTime": {
     "end_time": "2024-01-18T11:03:13.024483525Z",
     "start_time": "2024-01-18T11:03:12.978585669Z"
    }
   },
   "id": "a5bd18f8004756de"
  },
  {
   "cell_type": "code",
   "execution_count": 9,
   "outputs": [
    {
     "name": "stderr",
     "output_type": "stream",
     "text": [
      "/home/wm18vw/.conda/envs/machineLearning/lib/python3.10/site-packages/sklearn/linear_model/_logistic.py:460: ConvergenceWarning: lbfgs failed to converge (status=1):\n",
      "STOP: TOTAL NO. of ITERATIONS REACHED LIMIT.\n",
      "\n",
      "Increase the number of iterations (max_iter) or scale the data as shown in:\n",
      "    https://scikit-learn.org/stable/modules/preprocessing.html\n",
      "Please also refer to the documentation for alternative solver options:\n",
      "    https://scikit-learn.org/stable/modules/linear_model.html#logistic-regression\n",
      "  n_iter_i = _check_optimize_result(\n"
     ]
    },
    {
     "data": {
      "text/plain": "LogisticRegression()",
      "text/html": "<style>#sk-container-id-1 {color: black;}#sk-container-id-1 pre{padding: 0;}#sk-container-id-1 div.sk-toggleable {background-color: white;}#sk-container-id-1 label.sk-toggleable__label {cursor: pointer;display: block;width: 100%;margin-bottom: 0;padding: 0.3em;box-sizing: border-box;text-align: center;}#sk-container-id-1 label.sk-toggleable__label-arrow:before {content: \"▸\";float: left;margin-right: 0.25em;color: #696969;}#sk-container-id-1 label.sk-toggleable__label-arrow:hover:before {color: black;}#sk-container-id-1 div.sk-estimator:hover label.sk-toggleable__label-arrow:before {color: black;}#sk-container-id-1 div.sk-toggleable__content {max-height: 0;max-width: 0;overflow: hidden;text-align: left;background-color: #f0f8ff;}#sk-container-id-1 div.sk-toggleable__content pre {margin: 0.2em;color: black;border-radius: 0.25em;background-color: #f0f8ff;}#sk-container-id-1 input.sk-toggleable__control:checked~div.sk-toggleable__content {max-height: 200px;max-width: 100%;overflow: auto;}#sk-container-id-1 input.sk-toggleable__control:checked~label.sk-toggleable__label-arrow:before {content: \"▾\";}#sk-container-id-1 div.sk-estimator input.sk-toggleable__control:checked~label.sk-toggleable__label {background-color: #d4ebff;}#sk-container-id-1 div.sk-label input.sk-toggleable__control:checked~label.sk-toggleable__label {background-color: #d4ebff;}#sk-container-id-1 input.sk-hidden--visually {border: 0;clip: rect(1px 1px 1px 1px);clip: rect(1px, 1px, 1px, 1px);height: 1px;margin: -1px;overflow: hidden;padding: 0;position: absolute;width: 1px;}#sk-container-id-1 div.sk-estimator {font-family: monospace;background-color: #f0f8ff;border: 1px dotted black;border-radius: 0.25em;box-sizing: border-box;margin-bottom: 0.5em;}#sk-container-id-1 div.sk-estimator:hover {background-color: #d4ebff;}#sk-container-id-1 div.sk-parallel-item::after {content: \"\";width: 100%;border-bottom: 1px solid gray;flex-grow: 1;}#sk-container-id-1 div.sk-label:hover label.sk-toggleable__label {background-color: #d4ebff;}#sk-container-id-1 div.sk-serial::before {content: \"\";position: absolute;border-left: 1px solid gray;box-sizing: border-box;top: 0;bottom: 0;left: 50%;z-index: 0;}#sk-container-id-1 div.sk-serial {display: flex;flex-direction: column;align-items: center;background-color: white;padding-right: 0.2em;padding-left: 0.2em;position: relative;}#sk-container-id-1 div.sk-item {position: relative;z-index: 1;}#sk-container-id-1 div.sk-parallel {display: flex;align-items: stretch;justify-content: center;background-color: white;position: relative;}#sk-container-id-1 div.sk-item::before, #sk-container-id-1 div.sk-parallel-item::before {content: \"\";position: absolute;border-left: 1px solid gray;box-sizing: border-box;top: 0;bottom: 0;left: 50%;z-index: -1;}#sk-container-id-1 div.sk-parallel-item {display: flex;flex-direction: column;z-index: 1;position: relative;background-color: white;}#sk-container-id-1 div.sk-parallel-item:first-child::after {align-self: flex-end;width: 50%;}#sk-container-id-1 div.sk-parallel-item:last-child::after {align-self: flex-start;width: 50%;}#sk-container-id-1 div.sk-parallel-item:only-child::after {width: 0;}#sk-container-id-1 div.sk-dashed-wrapped {border: 1px dashed gray;margin: 0 0.4em 0.5em 0.4em;box-sizing: border-box;padding-bottom: 0.4em;background-color: white;}#sk-container-id-1 div.sk-label label {font-family: monospace;font-weight: bold;display: inline-block;line-height: 1.2em;}#sk-container-id-1 div.sk-label-container {text-align: center;}#sk-container-id-1 div.sk-container {/* jupyter's `normalize.less` sets `[hidden] { display: none; }` but bootstrap.min.css set `[hidden] { display: none !important; }` so we also need the `!important` here to be able to override the default hidden behavior on the sphinx rendered scikit-learn.org. See: https://github.com/scikit-learn/scikit-learn/issues/21755 */display: inline-block !important;position: relative;}#sk-container-id-1 div.sk-text-repr-fallback {display: none;}</style><div id=\"sk-container-id-1\" class=\"sk-top-container\"><div class=\"sk-text-repr-fallback\"><pre>LogisticRegression()</pre><b>In a Jupyter environment, please rerun this cell to show the HTML representation or trust the notebook. <br />On GitHub, the HTML representation is unable to render, please try loading this page with nbviewer.org.</b></div><div class=\"sk-container\" hidden><div class=\"sk-item\"><div class=\"sk-estimator sk-toggleable\"><input class=\"sk-toggleable__control sk-hidden--visually\" id=\"sk-estimator-id-1\" type=\"checkbox\" checked><label for=\"sk-estimator-id-1\" class=\"sk-toggleable__label sk-toggleable__label-arrow\">LogisticRegression</label><div class=\"sk-toggleable__content\"><pre>LogisticRegression()</pre></div></div></div></div></div>"
     },
     "execution_count": 9,
     "metadata": {},
     "output_type": "execute_result"
    }
   ],
   "source": [
    "dv = DictVectorizer(sparse=False)\n",
    "train_dicts = df_train[categorical + numerical].to_dict(orient='records')\n",
    "X_train = dv.fit_transform(train_dicts)\n",
    "model = LogisticRegression()\n",
    "model.fit(X_train, y_train)"
   ],
   "metadata": {
    "collapsed": false,
    "ExecuteTime": {
     "end_time": "2024-01-18T11:03:14.298247241Z",
     "start_time": "2024-01-18T11:03:13.025063829Z"
    }
   },
   "id": "33745c4827a8ef10"
  },
  {
   "cell_type": "code",
   "execution_count": 10,
   "outputs": [
    {
     "data": {
      "text/plain": "0.7991483321504613"
     },
     "execution_count": 10,
     "metadata": {},
     "output_type": "execute_result"
    }
   ],
   "source": [
    "val_dicts = df_val[categorical + numerical].to_dict(orient='records')\n",
    "X_val = dv.transform(val_dicts)\n",
    "\n",
    "y_pred = model.predict_proba(X_val)[:,1] # soft prediction\n",
    "churn_decision = (y_pred >= 0.5)\n",
    "(y_val == churn_decision).mean()"
   ],
   "metadata": {
    "collapsed": false,
    "ExecuteTime": {
     "end_time": "2024-01-18T11:03:14.413611730Z",
     "start_time": "2024-01-18T11:03:14.273233059Z"
    }
   },
   "id": "4ab3323a3d2c0950"
  },
  {
   "cell_type": "markdown",
   "source": [
    "## 4.2 Accuracy and dummy model"
   ],
   "metadata": {
    "collapsed": false
   },
   "id": "f893224698a20fd0"
  },
  {
   "cell_type": "code",
   "execution_count": 11,
   "outputs": [
    {
     "data": {
      "text/plain": "1409"
     },
     "execution_count": 11,
     "metadata": {},
     "output_type": "execute_result"
    }
   ],
   "source": [
    "len(y_val)"
   ],
   "metadata": {
    "collapsed": false,
    "ExecuteTime": {
     "end_time": "2024-01-18T11:03:14.434703426Z",
     "start_time": "2024-01-18T11:03:14.314112340Z"
    }
   },
   "id": "512d5b34f2e0936c"
  },
  {
   "cell_type": "code",
   "execution_count": 12,
   "outputs": [
    {
     "data": {
      "text/plain": "1126"
     },
     "execution_count": 12,
     "metadata": {},
     "output_type": "execute_result"
    }
   ],
   "source": [
    "(y_val == churn_decision).sum()"
   ],
   "metadata": {
    "collapsed": false,
    "ExecuteTime": {
     "end_time": "2024-01-18T11:03:14.435371566Z",
     "start_time": "2024-01-18T11:03:14.319345629Z"
    }
   },
   "id": "3c679892d64c7eab"
  },
  {
   "cell_type": "code",
   "execution_count": 13,
   "outputs": [
    {
     "data": {
      "text/plain": "0.7984386089425124"
     },
     "execution_count": 13,
     "metadata": {},
     "output_type": "execute_result"
    }
   ],
   "source": [
    "1125/1409"
   ],
   "metadata": {
    "collapsed": false,
    "ExecuteTime": {
     "end_time": "2024-01-18T11:03:14.439700900Z",
     "start_time": "2024-01-18T11:03:14.365483497Z"
    }
   },
   "id": "835113903e2f1bcc"
  },
  {
   "cell_type": "code",
   "execution_count": 14,
   "outputs": [],
   "source": [
    "from sklearn.metrics import accuracy_score"
   ],
   "metadata": {
    "collapsed": false,
    "ExecuteTime": {
     "end_time": "2024-01-18T11:03:14.449958244Z",
     "start_time": "2024-01-18T11:03:14.365911575Z"
    }
   },
   "id": "db1a2ec5d9a23171"
  },
  {
   "cell_type": "code",
   "execution_count": 15,
   "outputs": [
    {
     "data": {
      "text/plain": "0.7991483321504613"
     },
     "execution_count": 15,
     "metadata": {},
     "output_type": "execute_result"
    }
   ],
   "source": [
    "accuracy_score(y_val, y_pred >= 0.5)"
   ],
   "metadata": {
    "collapsed": false,
    "ExecuteTime": {
     "end_time": "2024-01-18T11:03:14.454647657Z",
     "start_time": "2024-01-18T11:03:14.366210268Z"
    }
   },
   "id": "a205b8d7f20898da"
  },
  {
   "cell_type": "markdown",
   "source": [
    "Accuracy $= \\frac{1125}{1409} \\approx 80\\%$"
   ],
   "metadata": {
    "collapsed": false
   },
   "id": "15d41fc4071dc7b4"
  },
  {
   "cell_type": "code",
   "execution_count": 16,
   "outputs": [
    {
     "name": "stdout",
     "output_type": "stream",
     "text": [
      "0.00 0.274\n",
      "0.05 0.513\n",
      "0.10 0.595\n",
      "0.15 0.666\n",
      "0.20 0.708\n",
      "0.25 0.735\n",
      "0.30 0.756\n",
      "0.35 0.769\n",
      "0.40 0.783\n",
      "0.45 0.796\n",
      "0.50 0.799\n",
      "0.55 0.803\n",
      "0.60 0.795\n",
      "0.65 0.786\n",
      "0.70 0.763\n",
      "0.75 0.745\n",
      "0.80 0.734\n",
      "0.85 0.726\n",
      "0.90 0.726\n",
      "0.95 0.726\n",
      "1.00 0.726\n"
     ]
    }
   ],
   "source": [
    "thresholds = np.linspace(0,1,21)\n",
    "scores = []\n",
    "\n",
    "for t in thresholds:\n",
    "    #churn_decision = (y_pred >= t)\n",
    "    #score = (y_val == churn_decision).mean()\n",
    "    score = accuracy_score(y_val, y_pred >= t)\n",
    "    print('%.2f %.3f' % (t, score))\n",
    "    scores.append(score)"
   ],
   "metadata": {
    "collapsed": false,
    "ExecuteTime": {
     "end_time": "2024-01-18T11:03:14.459473297Z",
     "start_time": "2024-01-18T11:03:14.366530762Z"
    }
   },
   "id": "1401886866a16cbf"
  },
  {
   "cell_type": "code",
   "execution_count": 17,
   "outputs": [
    {
     "data": {
      "text/plain": "[<matplotlib.lines.Line2D at 0x7f41c10a5a80>]"
     },
     "execution_count": 17,
     "metadata": {},
     "output_type": "execute_result"
    },
    {
     "data": {
      "text/plain": "<Figure size 640x480 with 1 Axes>",
      "image/png": "[encoded data removed]"
     },
     "metadata": {},
     "output_type": "display_data"
    }
   ],
   "source": [
    "plt.plot(thresholds, scores)"
   ],
   "metadata": {
    "collapsed": false,
    "ExecuteTime": {
     "end_time": "2024-01-18T11:03:14.700465388Z",
     "start_time": "2024-01-18T11:03:14.368258190Z"
    }
   },
   "id": "25acce493d8ae993"
  },
  {
   "cell_type": "code",
   "execution_count": 18,
   "outputs": [],
   "source": [
    "from collections import Counter"
   ],
   "metadata": {
    "collapsed": false,
    "ExecuteTime": {
     "end_time": "2024-01-18T11:03:14.704382605Z",
     "start_time": "2024-01-18T11:03:14.537313601Z"
    }
   },
   "id": "b3f0d8fcc4c889cb"
  },
  {
   "cell_type": "code",
   "execution_count": 19,
   "outputs": [
    {
     "data": {
      "text/plain": "Counter({False: 1409})"
     },
     "execution_count": 19,
     "metadata": {},
     "output_type": "execute_result"
    }
   ],
   "source": [
    "Counter(y_pred >=1.0)"
   ],
   "metadata": {
    "collapsed": false,
    "ExecuteTime": {
     "end_time": "2024-01-18T11:03:14.713564601Z",
     "start_time": "2024-01-18T11:03:14.543538600Z"
    }
   },
   "id": "939693437dd3f629"
  },
  {
   "cell_type": "code",
   "execution_count": 20,
   "outputs": [
    {
     "data": {
      "text/plain": "0.7260468417317246"
     },
     "execution_count": 20,
     "metadata": {},
     "output_type": "execute_result"
    }
   ],
   "source": [
    "1 - y_val.mean()"
   ],
   "metadata": {
    "collapsed": false,
    "ExecuteTime": {
     "end_time": "2024-01-18T11:03:14.717875380Z",
     "start_time": "2024-01-18T11:03:14.547825324Z"
    }
   },
   "id": "c8ac0a9baf8b83eb"
  },
  {
   "cell_type": "markdown",
   "source": [
    "## 4.3 Confusion table\n",
    "* Different types of errors correct decisions\n",
    "* Arranging therm in a table"
   ],
   "metadata": {
    "collapsed": false
   },
   "id": "b632f5ae6e412e97"
  },
  {
   "cell_type": "code",
   "execution_count": 21,
   "outputs": [],
   "source": [
    "actual_positive = (y_val == 1)\n",
    "actual_negative = (y_val == 0)"
   ],
   "metadata": {
    "collapsed": false,
    "ExecuteTime": {
     "end_time": "2024-01-18T11:03:14.722001371Z",
     "start_time": "2024-01-18T11:03:14.554210726Z"
    }
   },
   "id": "c4d9a0526f5615a"
  },
  {
   "cell_type": "code",
   "execution_count": 22,
   "outputs": [
    {
     "data": {
      "text/plain": "array([False, False, False, ..., False,  True,  True])"
     },
     "execution_count": 22,
     "metadata": {},
     "output_type": "execute_result"
    }
   ],
   "source": [
    "actual_positive"
   ],
   "metadata": {
    "collapsed": false,
    "ExecuteTime": {
     "end_time": "2024-01-18T11:03:14.866794818Z",
     "start_time": "2024-01-18T11:03:14.557722299Z"
    }
   },
   "id": "9e7b8f31f374415d"
  },
  {
   "cell_type": "code",
   "execution_count": 23,
   "outputs": [],
   "source": [
    "t = 0.5\n",
    "predict_positive = (y_pred >= t)\n",
    "predict_negative = (y_pred < t)"
   ],
   "metadata": {
    "collapsed": false,
    "ExecuteTime": {
     "end_time": "2024-01-18T11:03:14.870735108Z",
     "start_time": "2024-01-18T11:03:14.605641115Z"
    }
   },
   "id": "6dc32ff0efea715a"
  },
  {
   "cell_type": "code",
   "execution_count": 24,
   "outputs": [
    {
     "data": {
      "text/plain": "array([False, False, False,  True, False])"
     },
     "execution_count": 24,
     "metadata": {},
     "output_type": "execute_result"
    }
   ],
   "source": [
    "predict_positive[:5]"
   ],
   "metadata": {
    "collapsed": false,
    "ExecuteTime": {
     "end_time": "2024-01-18T11:03:14.885770462Z",
     "start_time": "2024-01-18T11:03:14.606163410Z"
    }
   },
   "id": "409b32fa3bdf2b31"
  },
  {
   "cell_type": "code",
   "execution_count": 25,
   "outputs": [
    {
     "data": {
      "text/plain": "array([False, False, False,  True, False])"
     },
     "execution_count": 25,
     "metadata": {},
     "output_type": "execute_result"
    }
   ],
   "source": [
    "actual_positive[:5]"
   ],
   "metadata": {
    "collapsed": false,
    "ExecuteTime": {
     "end_time": "2024-01-18T11:03:14.889515165Z",
     "start_time": "2024-01-18T11:03:14.606607959Z"
    }
   },
   "id": "d4a2d52fbaa704ad"
  },
  {
   "cell_type": "code",
   "execution_count": 26,
   "outputs": [],
   "source": [
    "tp = (predict_positive & actual_positive).sum() #true positive\n",
    "tn = (predict_negative & actual_negative).sum() #true positive"
   ],
   "metadata": {
    "collapsed": false,
    "ExecuteTime": {
     "end_time": "2024-01-18T11:03:14.902379635Z",
     "start_time": "2024-01-18T11:03:14.607072525Z"
    }
   },
   "id": "2ec308b593385a0c"
  },
  {
   "cell_type": "code",
   "execution_count": 27,
   "outputs": [],
   "source": [
    "fp = (predict_positive & actual_negative).sum()\n",
    "fn = (predict_negative & actual_positive).sum()"
   ],
   "metadata": {
    "collapsed": false,
    "ExecuteTime": {
     "end_time": "2024-01-18T11:03:14.906599533Z",
     "start_time": "2024-01-18T11:03:14.607465686Z"
    }
   },
   "id": "8ab8f1c7aee79653"
  },
  {
   "cell_type": "code",
   "execution_count": 28,
   "outputs": [
    {
     "data": {
      "text/plain": "(107, 176)"
     },
     "execution_count": 28,
     "metadata": {},
     "output_type": "execute_result"
    }
   ],
   "source": [
    "fp, fn"
   ],
   "metadata": {
    "collapsed": false,
    "ExecuteTime": {
     "end_time": "2024-01-18T11:03:14.916403011Z",
     "start_time": "2024-01-18T11:03:14.608411610Z"
    }
   },
   "id": "8c8c1b250a804e10"
  },
  {
   "cell_type": "code",
   "execution_count": 29,
   "outputs": [
    {
     "data": {
      "text/plain": "array([[916, 107],\n       [176, 210]])"
     },
     "execution_count": 29,
     "metadata": {},
     "output_type": "execute_result"
    }
   ],
   "source": [
    "confusion_matrix = np.array([\n",
    "    [tn, fp],\n",
    "    [fn, tp]])\n",
    "confusion_matrix"
   ],
   "metadata": {
    "collapsed": false,
    "ExecuteTime": {
     "end_time": "2024-01-18T11:03:14.920160377Z",
     "start_time": "2024-01-18T11:03:14.608969943Z"
    }
   },
   "id": "eedace440c509e2b"
  },
  {
   "cell_type": "code",
   "execution_count": 30,
   "outputs": [
    {
     "data": {
      "text/plain": "array([[0.65, 0.08],\n       [0.12, 0.15]])"
     },
     "execution_count": 30,
     "metadata": {},
     "output_type": "execute_result"
    }
   ],
   "source": [
    "(confusion_matrix / confusion_matrix.sum()).round(2) # % de l'accuracy"
   ],
   "metadata": {
    "collapsed": false,
    "ExecuteTime": {
     "end_time": "2024-01-18T11:03:14.923808457Z",
     "start_time": "2024-01-18T11:03:14.609441542Z"
    }
   },
   "id": "353f182f670cd6af"
  },
  {
   "cell_type": "markdown",
   "source": [
    "Accuracy $= 0.65 + 0.15 = 0.8 \\rightarrow 80\\%$"
   ],
   "metadata": {
    "collapsed": false
   },
   "id": "d3eb8a9ca9984d2"
  },
  {
   "cell_type": "markdown",
   "source": [
    "## 4.4 Precision and Recall"
   ],
   "metadata": {
    "collapsed": false
   },
   "id": "9b8ee23996b61eb8"
  },
  {
   "cell_type": "code",
   "execution_count": 31,
   "outputs": [
    {
     "data": {
      "text/plain": "0.7991483321504613"
     },
     "execution_count": 31,
     "metadata": {},
     "output_type": "execute_result"
    }
   ],
   "source": [
    "(tp + tn) / (tp + tn + fp + fn)"
   ],
   "metadata": {
    "collapsed": false,
    "ExecuteTime": {
     "end_time": "2024-01-18T11:03:14.927338333Z",
     "start_time": "2024-01-18T11:03:14.609914244Z"
    }
   },
   "id": "e0c076373af72eaa"
  },
  {
   "cell_type": "code",
   "execution_count": 32,
   "outputs": [
    {
     "data": {
      "text/plain": "0.6624605678233438"
     },
     "execution_count": 32,
     "metadata": {},
     "output_type": "execute_result"
    }
   ],
   "source": [
    "p = tp / (tp +fp)\n",
    "p"
   ],
   "metadata": {
    "collapsed": false,
    "ExecuteTime": {
     "end_time": "2024-01-18T11:03:14.935400247Z",
     "start_time": "2024-01-18T11:03:14.611145275Z"
    }
   },
   "id": "87a6b3df4ccf8ef2"
  },
  {
   "cell_type": "markdown",
   "source": [
    "Precision $= 67\\%$\n",
    "Erreur: $33\\%$"
   ],
   "metadata": {
    "collapsed": false
   },
   "id": "eceff43e5ec5a558"
  },
  {
   "cell_type": "markdown",
   "source": [
    "Recall = Fraction of correctly identified positive examples"
   ],
   "metadata": {
    "collapsed": false
   },
   "id": "30e3a4491ca9bce3"
  },
  {
   "cell_type": "code",
   "execution_count": 33,
   "outputs": [
    {
     "data": {
      "text/plain": "0.5440414507772021"
     },
     "execution_count": 33,
     "metadata": {},
     "output_type": "execute_result"
    }
   ],
   "source": [
    "r = tp / (tp + fn)\n",
    "r"
   ],
   "metadata": {
    "collapsed": false,
    "ExecuteTime": {
     "end_time": "2024-01-18T11:03:14.939045671Z",
     "start_time": "2024-01-18T11:03:14.616855544Z"
    }
   },
   "id": "61a81fd16f29b0f"
  },
  {
   "cell_type": "markdown",
   "source": [
    "## 4.5 ROC Curves\n",
    "ROC stands for Receiver Operating Characteristics\n",
    "This is a way of describing the performance of a binary classification model\n",
    "### TPR and FPR"
   ],
   "metadata": {
    "collapsed": false
   },
   "id": "4b901c89e8d50eef"
  },
  {
   "cell_type": "code",
   "execution_count": 34,
   "outputs": [
    {
     "data": {
      "text/plain": "0.5440414507772021"
     },
     "execution_count": 34,
     "metadata": {},
     "output_type": "execute_result"
    }
   ],
   "source": [
    "# True Positive Ratio. It's the same as Recall\n",
    "tpr = tp / (tp + fn)\n",
    "tpr"
   ],
   "metadata": {
    "collapsed": false,
    "ExecuteTime": {
     "end_time": "2024-01-18T11:03:14.944665389Z",
     "start_time": "2024-01-18T11:03:14.622475562Z"
    }
   },
   "id": "f5d91dc91ec27d5"
  },
  {
   "cell_type": "code",
   "execution_count": 35,
   "outputs": [
    {
     "data": {
      "text/plain": "0.10459433040078202"
     },
     "execution_count": 35,
     "metadata": {},
     "output_type": "execute_result"
    }
   ],
   "source": [
    "# False Positive Ratio\n",
    "fpr = fp / (fp + tn)\n",
    "fpr"
   ],
   "metadata": {
    "collapsed": false,
    "ExecuteTime": {
     "end_time": "2024-01-18T11:03:14.960282360Z",
     "start_time": "2024-01-18T11:03:14.665179355Z"
    }
   },
   "id": "aa8f4265ef0ebdd"
  },
  {
   "cell_type": "code",
   "execution_count": 36,
   "outputs": [],
   "source": [
    "scores = []\n",
    "\n",
    "thresholds = np.linspace(0,1,101)\n",
    "for t in thresholds:\n",
    "    actual_positive = (y_val == 1)\n",
    "    actual_negative = (y_val == 0)\n",
    "    \n",
    "    \n",
    "    predict_positive = (y_pred >= t)\n",
    "    predict_negative = (y_pred < t)\n",
    "    \n",
    "    tp = (predict_positive & actual_positive).sum() #true positive\n",
    "    tn = (predict_negative & actual_negative).sum() #true positive\n",
    "    \n",
    "    fp = (predict_positive & actual_negative).sum()\n",
    "    fn = (predict_negative & actual_positive).sum()\n",
    "    \n",
    "    scores.append((t, tp, fp, fn, tn))\n",
    "    "
   ],
   "metadata": {
    "collapsed": false,
    "ExecuteTime": {
     "end_time": "2024-01-18T11:03:14.964414182Z",
     "start_time": "2024-01-18T11:03:14.666047762Z"
    }
   },
   "id": "1edeeb930ee1148b"
  },
  {
   "cell_type": "code",
   "execution_count": 37,
   "outputs": [],
   "source": [
    "columns = ['threshold', 'tp', 'fp', 'fn', 'tn']\n",
    "df_scores = pd.DataFrame(scores, columns=columns)"
   ],
   "metadata": {
    "collapsed": false,
    "ExecuteTime": {
     "end_time": "2024-01-18T11:03:14.973555311Z",
     "start_time": "2024-01-18T11:03:14.667119553Z"
    }
   },
   "id": "9ba36b7f9823ac68"
  },
  {
   "cell_type": "code",
   "execution_count": 38,
   "outputs": [
    {
     "data": {
      "text/plain": "     threshold   tp    fp   fn    tn\n0          0.0  386  1023    0     0\n10         0.1  366   550   20   473\n20         0.2  334   359   52   664\n30         0.3  283   241  103   782\n40         0.4  250   170  136   853\n50         0.5  210   107  176   916\n60         0.6  151    54  235   969\n70         0.7   76    24  310   999\n80         0.8   12     1  374  1022\n90         0.9    0     0  386  1023\n100        1.0    0     0  386  1023",
      "text/html": "<div>\n<style scoped>\n    .dataframe tbody tr th:only-of-type {\n        vertical-align: middle;\n    }\n\n    .dataframe tbody tr th {\n        vertical-align: top;\n    }\n\n    .dataframe thead th {\n        text-align: right;\n    }\n</style>\n<table border=\"1\" class=\"dataframe\">\n  <thead>\n    <tr style=\"text-align: right;\">\n      <th></th>\n      <th>threshold</th>\n      <th>tp</th>\n      <th>fp</th>\n      <th>fn</th>\n      <th>tn</th>\n    </tr>\n  </thead>\n  <tbody>\n    <tr>\n      <th>0</th>\n      <td>0.0</td>\n      <td>386</td>\n      <td>1023</td>\n      <td>0</td>\n      <td>0</td>\n    </tr>\n    <tr>\n      <th>10</th>\n      <td>0.1</td>\n      <td>366</td>\n      <td>550</td>\n      <td>20</td>\n      <td>473</td>\n    </tr>\n    <tr>\n      <th>20</th>\n      <td>0.2</td>\n      <td>334</td>\n      <td>359</td>\n      <td>52</td>\n      <td>664</td>\n    </tr>\n    <tr>\n      <th>30</th>\n      <td>0.3</td>\n      <td>283</td>\n      <td>241</td>\n      <td>103</td>\n      <td>782</td>\n    </tr>\n    <tr>\n      <th>40</th>\n      <td>0.4</td>\n      <td>250</td>\n      <td>170</td>\n      <td>136</td>\n      <td>853</td>\n    </tr>\n    <tr>\n      <th>50</th>\n      <td>0.5</td>\n      <td>210</td>\n      <td>107</td>\n      <td>176</td>\n      <td>916</td>\n    </tr>\n    <tr>\n      <th>60</th>\n      <td>0.6</td>\n      <td>151</td>\n      <td>54</td>\n      <td>235</td>\n      <td>969</td>\n    </tr>\n    <tr>\n      <th>70</th>\n      <td>0.7</td>\n      <td>76</td>\n      <td>24</td>\n      <td>310</td>\n      <td>999</td>\n    </tr>\n    <tr>\n      <th>80</th>\n      <td>0.8</td>\n      <td>12</td>\n      <td>1</td>\n      <td>374</td>\n      <td>1022</td>\n    </tr>\n    <tr>\n      <th>90</th>\n      <td>0.9</td>\n      <td>0</td>\n      <td>0</td>\n      <td>386</td>\n      <td>1023</td>\n    </tr>\n    <tr>\n      <th>100</th>\n      <td>1.0</td>\n      <td>0</td>\n      <td>0</td>\n      <td>386</td>\n      <td>1023</td>\n    </tr>\n  </tbody>\n</table>\n</div>"
     },
     "execution_count": 38,
     "metadata": {},
     "output_type": "execute_result"
    }
   ],
   "source": [
    "df_scores[::10]"
   ],
   "metadata": {
    "collapsed": false,
    "ExecuteTime": {
     "end_time": "2024-01-18T11:03:14.978734989Z",
     "start_time": "2024-01-18T11:03:14.667586674Z"
    }
   },
   "id": "4b2fed63ce16204f"
  },
  {
   "cell_type": "code",
   "execution_count": 39,
   "outputs": [
    {
     "data": {
      "text/plain": "     threshold   tp    fp   fn    tn       tpr       fpr\n0          0.0  386  1023    0     0  1.000000  1.000000\n10         0.1  366   550   20   473  0.948187  0.537634\n20         0.2  334   359   52   664  0.865285  0.350929\n30         0.3  283   241  103   782  0.733161  0.235582\n40         0.4  250   170  136   853  0.647668  0.166178\n50         0.5  210   107  176   916  0.544041  0.104594\n60         0.6  151    54  235   969  0.391192  0.052786\n70         0.7   76    24  310   999  0.196891  0.023460\n80         0.8   12     1  374  1022  0.031088  0.000978\n90         0.9    0     0  386  1023  0.000000  0.000000\n100        1.0    0     0  386  1023  0.000000  0.000000",
      "text/html": "<div>\n<style scoped>\n    .dataframe tbody tr th:only-of-type {\n        vertical-align: middle;\n    }\n\n    .dataframe tbody tr th {\n        vertical-align: top;\n    }\n\n    .dataframe thead th {\n        text-align: right;\n    }\n</style>\n<table border=\"1\" class=\"dataframe\">\n  <thead>\n    <tr style=\"text-align: right;\">\n      <th></th>\n      <th>threshold</th>\n      <th>tp</th>\n      <th>fp</th>\n      <th>fn</th>\n      <th>tn</th>\n      <th>tpr</th>\n      <th>fpr</th>\n    </tr>\n  </thead>\n  <tbody>\n    <tr>\n      <th>0</th>\n      <td>0.0</td>\n      <td>386</td>\n      <td>1023</td>\n      <td>0</td>\n      <td>0</td>\n      <td>1.000000</td>\n      <td>1.000000</td>\n    </tr>\n    <tr>\n      <th>10</th>\n      <td>0.1</td>\n      <td>366</td>\n      <td>550</td>\n      <td>20</td>\n      <td>473</td>\n      <td>0.948187</td>\n      <td>0.537634</td>\n    </tr>\n    <tr>\n      <th>20</th>\n      <td>0.2</td>\n      <td>334</td>\n      <td>359</td>\n      <td>52</td>\n      <td>664</td>\n      <td>0.865285</td>\n      <td>0.350929</td>\n    </tr>\n    <tr>\n      <th>30</th>\n      <td>0.3</td>\n      <td>283</td>\n      <td>241</td>\n      <td>103</td>\n      <td>782</td>\n      <td>0.733161</td>\n      <td>0.235582</td>\n    </tr>\n    <tr>\n      <th>40</th>\n      <td>0.4</td>\n      <td>250</td>\n      <td>170</td>\n      <td>136</td>\n      <td>853</td>\n      <td>0.647668</td>\n      <td>0.166178</td>\n    </tr>\n    <tr>\n      <th>50</th>\n      <td>0.5</td>\n      <td>210</td>\n      <td>107</td>\n      <td>176</td>\n      <td>916</td>\n      <td>0.544041</td>\n      <td>0.104594</td>\n    </tr>\n    <tr>\n      <th>60</th>\n      <td>0.6</td>\n      <td>151</td>\n      <td>54</td>\n      <td>235</td>\n      <td>969</td>\n      <td>0.391192</td>\n      <td>0.052786</td>\n    </tr>\n    <tr>\n      <th>70</th>\n      <td>0.7</td>\n      <td>76</td>\n      <td>24</td>\n      <td>310</td>\n      <td>999</td>\n      <td>0.196891</td>\n      <td>0.023460</td>\n    </tr>\n    <tr>\n      <th>80</th>\n      <td>0.8</td>\n      <td>12</td>\n      <td>1</td>\n      <td>374</td>\n      <td>1022</td>\n      <td>0.031088</td>\n      <td>0.000978</td>\n    </tr>\n    <tr>\n      <th>90</th>\n      <td>0.9</td>\n      <td>0</td>\n      <td>0</td>\n      <td>386</td>\n      <td>1023</td>\n      <td>0.000000</td>\n      <td>0.000000</td>\n    </tr>\n    <tr>\n      <th>100</th>\n      <td>1.0</td>\n      <td>0</td>\n      <td>0</td>\n      <td>386</td>\n      <td>1023</td>\n      <td>0.000000</td>\n      <td>0.000000</td>\n    </tr>\n  </tbody>\n</table>\n</div>"
     },
     "execution_count": 39,
     "metadata": {},
     "output_type": "execute_result"
    }
   ],
   "source": [
    "df_scores['tpr'] = df_scores.tp / (df_scores.tp + df_scores.fn)\n",
    "df_scores['fpr'] = df_scores.fp / (df_scores.fp + df_scores.tn)\n",
    "df_scores[::10]"
   ],
   "metadata": {
    "collapsed": false,
    "ExecuteTime": {
     "end_time": "2024-01-18T11:03:14.989118901Z",
     "start_time": "2024-01-18T11:03:14.668171237Z"
    }
   },
   "id": "d7cbf7d47e537c03"
  },
  {
   "cell_type": "code",
   "execution_count": 40,
   "outputs": [
    {
     "data": {
      "text/plain": "<matplotlib.legend.Legend at 0x7f41b600ba60>"
     },
     "execution_count": 40,
     "metadata": {},
     "output_type": "execute_result"
    },
    {
     "data": {
      "text/plain": "<Figure size 640x480 with 1 Axes>",
      "image/png": "[encoded data removed]"
     },
     "metadata": {},
     "output_type": "display_data"
    }
   ],
   "source": [
    "plt.plot(df_scores.threshold, df_scores['tpr'], label='TPR')\n",
    "plt.plot(df_scores.threshold, df_scores['fpr'], label='FPR')\n",
    "plt.legend()"
   ],
   "metadata": {
    "collapsed": false,
    "ExecuteTime": {
     "end_time": "2024-01-18T11:03:15.038280776Z",
     "start_time": "2024-01-18T11:03:14.680944275Z"
    }
   },
   "id": "8a8e86972938be2b"
  },
  {
   "cell_type": "markdown",
   "source": [
    "### Random model"
   ],
   "metadata": {
    "collapsed": false
   },
   "id": "9e94229a29a2d92"
  },
  {
   "cell_type": "code",
   "execution_count": 41,
   "outputs": [],
   "source": [
    "np.random.seed(1)\n",
    "y_rand = np.random.uniform(0, 1, size=len(y_val))"
   ],
   "metadata": {
    "collapsed": false,
    "ExecuteTime": {
     "end_time": "2024-01-18T11:03:15.041868121Z",
     "start_time": "2024-01-18T11:03:14.815965482Z"
    }
   },
   "id": "90d26298ed45d0b8"
  },
  {
   "cell_type": "code",
   "execution_count": 42,
   "outputs": [
    {
     "data": {
      "text/plain": "0.5017743080198722"
     },
     "execution_count": 42,
     "metadata": {},
     "output_type": "execute_result"
    }
   ],
   "source": [
    "((y_rand >= 0.5) == y_val).mean()"
   ],
   "metadata": {
    "collapsed": false,
    "ExecuteTime": {
     "end_time": "2024-01-18T11:03:15.250305107Z",
     "start_time": "2024-01-18T11:03:14.820555207Z"
    }
   },
   "id": "eaa4af462b8e12c1"
  },
  {
   "cell_type": "code",
   "execution_count": 43,
   "outputs": [],
   "source": [
    "def tpr_fpr_dataframe(y_val, y_pred):\n",
    "    scores = []\n",
    "\n",
    "    thresholds = np.linspace(0,1,101)\n",
    "    for t in thresholds:\n",
    "        actual_positive = (y_val == 1)\n",
    "        actual_negative = (y_val == 0)\n",
    "        \n",
    "        \n",
    "        predict_positive = (y_pred >= t)\n",
    "        predict_negative = (y_pred < t)\n",
    "        \n",
    "        tp = (predict_positive & actual_positive).sum() #true positive\n",
    "        tn = (predict_negative & actual_negative).sum() #true positive\n",
    "        \n",
    "        fp = (predict_positive & actual_negative).sum()\n",
    "        fn = (predict_negative & actual_positive).sum()\n",
    "        \n",
    "        scores.append((t, tp, fp, fn, tn))\n",
    "        \n",
    "    columns = ['threshold', 'tp', 'fp', 'fn', 'tn']\n",
    "    df_scores = pd.DataFrame(scores, columns=columns)\n",
    "    \n",
    "    df_scores['tpr'] = df_scores.tp / (df_scores.tp + df_scores.fn)\n",
    "    df_scores['fpr'] = df_scores.fp / (df_scores.fp + df_scores.tn)\n",
    "    \n",
    "    return df_scores"
   ],
   "metadata": {
    "collapsed": false,
    "ExecuteTime": {
     "end_time": "2024-01-18T11:03:15.253967043Z",
     "start_time": "2024-01-18T11:03:14.861144793Z"
    }
   },
   "id": "d726514b639d401e"
  },
  {
   "cell_type": "code",
   "execution_count": 44,
   "outputs": [],
   "source": [
    "df_rand = tpr_fpr_dataframe(y_val, y_rand)"
   ],
   "metadata": {
    "collapsed": false,
    "ExecuteTime": {
     "end_time": "2024-01-18T11:03:15.279078485Z",
     "start_time": "2024-01-18T11:03:14.861426895Z"
    }
   },
   "id": "f977cd91d32075dd"
  },
  {
   "cell_type": "code",
   "execution_count": 45,
   "outputs": [
    {
     "data": {
      "text/plain": "     threshold   tp    fp   fn    tn       tpr       fpr\n0          0.0  386  1023    0     0  1.000000  1.000000\n10         0.1  347   923   39   100  0.898964  0.902248\n20         0.2  307   822   79   201  0.795337  0.803519\n30         0.3  276   724  110   299  0.715026  0.707722\n40         0.4  237   624  149   399  0.613990  0.609971\n50         0.5  202   518  184   505  0.523316  0.506354\n60         0.6  161   409  225   614  0.417098  0.399804\n70         0.7  121   302  265   721  0.313472  0.295210\n80         0.8   78   206  308   817  0.202073  0.201369\n90         0.9   40   101  346   922  0.103627  0.098729\n100        1.0    0     0  386  1023  0.000000  0.000000",
      "text/html": "<div>\n<style scoped>\n    .dataframe tbody tr th:only-of-type {\n        vertical-align: middle;\n    }\n\n    .dataframe tbody tr th {\n        vertical-align: top;\n    }\n\n    .dataframe thead th {\n        text-align: right;\n    }\n</style>\n<table border=\"1\" class=\"dataframe\">\n  <thead>\n    <tr style=\"text-align: right;\">\n      <th></th>\n      <th>threshold</th>\n      <th>tp</th>\n      <th>fp</th>\n      <th>fn</th>\n      <th>tn</th>\n      <th>tpr</th>\n      <th>fpr</th>\n    </tr>\n  </thead>\n  <tbody>\n    <tr>\n      <th>0</th>\n      <td>0.0</td>\n      <td>386</td>\n      <td>1023</td>\n      <td>0</td>\n      <td>0</td>\n      <td>1.000000</td>\n      <td>1.000000</td>\n    </tr>\n    <tr>\n      <th>10</th>\n      <td>0.1</td>\n      <td>347</td>\n      <td>923</td>\n      <td>39</td>\n      <td>100</td>\n      <td>0.898964</td>\n      <td>0.902248</td>\n    </tr>\n    <tr>\n      <th>20</th>\n      <td>0.2</td>\n      <td>307</td>\n      <td>822</td>\n      <td>79</td>\n      <td>201</td>\n      <td>0.795337</td>\n      <td>0.803519</td>\n    </tr>\n    <tr>\n      <th>30</th>\n      <td>0.3</td>\n      <td>276</td>\n      <td>724</td>\n      <td>110</td>\n      <td>299</td>\n      <td>0.715026</td>\n      <td>0.707722</td>\n    </tr>\n    <tr>\n      <th>40</th>\n      <td>0.4</td>\n      <td>237</td>\n      <td>624</td>\n      <td>149</td>\n      <td>399</td>\n      <td>0.613990</td>\n      <td>0.609971</td>\n    </tr>\n    <tr>\n      <th>50</th>\n      <td>0.5</td>\n      <td>202</td>\n      <td>518</td>\n      <td>184</td>\n      <td>505</td>\n      <td>0.523316</td>\n      <td>0.506354</td>\n    </tr>\n    <tr>\n      <th>60</th>\n      <td>0.6</td>\n      <td>161</td>\n      <td>409</td>\n      <td>225</td>\n      <td>614</td>\n      <td>0.417098</td>\n      <td>0.399804</td>\n    </tr>\n    <tr>\n      <th>70</th>\n      <td>0.7</td>\n      <td>121</td>\n      <td>302</td>\n      <td>265</td>\n      <td>721</td>\n      <td>0.313472</td>\n      <td>0.295210</td>\n    </tr>\n    <tr>\n      <th>80</th>\n      <td>0.8</td>\n      <td>78</td>\n      <td>206</td>\n      <td>308</td>\n      <td>817</td>\n      <td>0.202073</td>\n      <td>0.201369</td>\n    </tr>\n    <tr>\n      <th>90</th>\n      <td>0.9</td>\n      <td>40</td>\n      <td>101</td>\n      <td>346</td>\n      <td>922</td>\n      <td>0.103627</td>\n      <td>0.098729</td>\n    </tr>\n    <tr>\n      <th>100</th>\n      <td>1.0</td>\n      <td>0</td>\n      <td>0</td>\n      <td>386</td>\n      <td>1023</td>\n      <td>0.000000</td>\n      <td>0.000000</td>\n    </tr>\n  </tbody>\n</table>\n</div>"
     },
     "execution_count": 45,
     "metadata": {},
     "output_type": "execute_result"
    }
   ],
   "source": [
    "df_rand[::10]"
   ],
   "metadata": {
    "collapsed": false,
    "ExecuteTime": {
     "end_time": "2024-01-18T11:03:15.283904255Z",
     "start_time": "2024-01-18T11:03:14.861670223Z"
    }
   },
   "id": "88f951bf932c22a6"
  },
  {
   "cell_type": "code",
   "execution_count": 46,
   "outputs": [
    {
     "data": {
      "text/plain": "<matplotlib.legend.Legend at 0x7f41b5f030d0>"
     },
     "execution_count": 46,
     "metadata": {},
     "output_type": "execute_result"
    },
    {
     "data": {
      "text/plain": "<Figure size 640x480 with 1 Axes>",
      "image/png": "[encoded data removed]"
     },
     "metadata": {},
     "output_type": "display_data"
    }
   ],
   "source": [
    "plt.plot(df_rand.threshold, df_rand['tpr'], label='TPR')\n",
    "plt.plot(df_rand.threshold, df_rand['fpr'], label='FPR')\n",
    "plt.legend()"
   ],
   "metadata": {
    "collapsed": false,
    "ExecuteTime": {
     "end_time": "2024-01-18T11:03:15.460582265Z",
     "start_time": "2024-01-18T11:03:14.862026796Z"
    }
   },
   "id": "9191d7aa65fe8966"
  },
  {
   "cell_type": "markdown",
   "source": [
    "### Ideal model"
   ],
   "metadata": {
    "collapsed": false
   },
   "id": "20020988ae1e1168"
  },
  {
   "cell_type": "code",
   "execution_count": 47,
   "outputs": [
    {
     "data": {
      "text/plain": "(1023, 386)"
     },
     "execution_count": 47,
     "metadata": {},
     "output_type": "execute_result"
    }
   ],
   "source": [
    "num_neg = (y_val == 0).sum()\n",
    "num_pos = (y_val == 1).sum()\n",
    "num_neg, num_pos"
   ],
   "metadata": {
    "collapsed": false,
    "ExecuteTime": {
     "end_time": "2024-01-18T11:03:15.479621196Z",
     "start_time": "2024-01-18T11:03:15.002627576Z"
    }
   },
   "id": "2c42c753e715e95c"
  },
  {
   "cell_type": "code",
   "outputs": [
    {
     "data": {
      "text/plain": "array([0, 0, 0, 0, 0, 0, 0, 0, 0, 0, 0, 1, 1, 1, 1])"
     },
     "execution_count": 48,
     "metadata": {},
     "output_type": "execute_result"
    }
   ],
   "source": [
    "y_ideal = np.repeat([0,1], [num_neg, num_pos])\n",
    "y_ideal[::100]#affiche les valeurs par pas de 100 (100, 200,..,1400)"
   ],
   "metadata": {
    "collapsed": false,
    "ExecuteTime": {
     "end_time": "2024-01-18T11:03:15.488486092Z",
     "start_time": "2024-01-18T11:03:15.045593736Z"
    }
   },
   "id": "9c83c75b6e96d4f5",
   "execution_count": 48
  },
  {
   "cell_type": "code",
   "outputs": [],
   "source": [
    "y_ideal_pred = np.linspace(0,1,len(y_val))"
   ],
   "metadata": {
    "collapsed": false,
    "ExecuteTime": {
     "end_time": "2024-01-18T11:03:15.492268095Z",
     "start_time": "2024-01-18T11:03:15.046058593Z"
    }
   },
   "id": "75004513f2abaf19",
   "execution_count": 49
  },
  {
   "cell_type": "code",
   "outputs": [
    {
     "data": {
      "text/plain": "0.7260468417317246"
     },
     "execution_count": 50,
     "metadata": {},
     "output_type": "execute_result"
    }
   ],
   "source": [
    "1 - y_val.mean()"
   ],
   "metadata": {
    "collapsed": false,
    "ExecuteTime": {
     "end_time": "2024-01-18T11:03:15.496152439Z",
     "start_time": "2024-01-18T11:03:15.046629780Z"
    }
   },
   "id": "3b3ccfa81d5a375a",
   "execution_count": 50
  },
  {
   "cell_type": "code",
   "outputs": [
    {
     "data": {
      "text/plain": "1.0"
     },
     "execution_count": 51,
     "metadata": {},
     "output_type": "execute_result"
    }
   ],
   "source": [
    "((y_ideal_pred >= 0.726) == y_ideal).mean()"
   ],
   "metadata": {
    "collapsed": false,
    "ExecuteTime": {
     "end_time": "2024-01-18T11:03:15.499897160Z",
     "start_time": "2024-01-18T11:03:15.047069319Z"
    }
   },
   "id": "ba588618e23caec5",
   "execution_count": 51
  },
  {
   "cell_type": "code",
   "outputs": [],
   "source": [
    "df_ideal = tpr_fpr_dataframe(y_ideal, y_ideal_pred)"
   ],
   "metadata": {
    "collapsed": false,
    "ExecuteTime": {
     "end_time": "2024-01-18T11:03:15.508600943Z",
     "start_time": "2024-01-18T11:03:15.048300190Z"
    }
   },
   "id": "99cbcfdcb1a4aa54",
   "execution_count": 52
  },
  {
   "cell_type": "code",
   "outputs": [
    {
     "data": {
      "text/plain": "<matplotlib.legend.Legend at 0x7f41b5f7b2b0>"
     },
     "execution_count": 53,
     "metadata": {},
     "output_type": "execute_result"
    },
    {
     "data": {
      "text/plain": "<Figure size 640x480 with 1 Axes>",
      "image/png": "[encoded data removed]"
     },
     "metadata": {},
     "output_type": "display_data"
    }
   ],
   "source": [
    "df_ideal\n",
    "\n",
    "plt.plot(df_ideal.threshold,df_ideal['tpr'], label='TPR')\n",
    "plt.plot(df_ideal.threshold, df_ideal['fpr'], label=\"FPR\")\n",
    "plt.legend()"
   ],
   "metadata": {
    "collapsed": false,
    "ExecuteTime": {
     "end_time": "2024-01-18T11:03:15.727762302Z",
     "start_time": "2024-01-18T11:03:15.049029835Z"
    }
   },
   "id": "c7ccd808547c678a",
   "execution_count": 53
  },
  {
   "cell_type": "markdown",
   "source": [
    "On voit que le threshold est a 0.726"
   ],
   "metadata": {
    "collapsed": false
   },
   "id": "da838c836d54e1d1"
  },
  {
   "cell_type": "markdown",
   "source": [
    "### Putting everything together"
   ],
   "metadata": {
    "collapsed": false
   },
   "id": "19a865e4bef1cb57"
  },
  {
   "cell_type": "code",
   "outputs": [
    {
     "data": {
      "text/plain": "<matplotlib.legend.Legend at 0x7f41b5e06ec0>"
     },
     "execution_count": 54,
     "metadata": {},
     "output_type": "execute_result"
    },
    {
     "data": {
      "text/plain": "<Figure size 640x480 with 1 Axes>",
      "image/png": "[encoded data removed]"
     },
     "metadata": {},
     "output_type": "display_data"
    }
   ],
   "source": [
    "plt.plot(df_scores.threshold,df_scores['tpr'], label='TPR scores')\n",
    "plt.plot(df_scores.threshold, df_scores['fpr'], label=\"FPR scores\")\n",
    "\n",
    "plt.plot(df_rand.threshold,df_rand['tpr'], label='TPR rand')\n",
    "plt.plot(df_rand.threshold, df_rand['fpr'], label=\"FPR rand\")\n",
    "\n",
    "plt.plot(df_ideal.threshold,df_ideal['tpr'], label='TPR ideal', color='black')\n",
    "plt.plot(df_ideal.threshold, df_ideal['fpr'], label=\"FPR ideal\", color='black')\n",
    "plt.legend()"
   ],
   "metadata": {
    "collapsed": false,
    "ExecuteTime": {
     "end_time": "2024-01-18T11:03:15.797831541Z",
     "start_time": "2024-01-18T11:03:15.199171806Z"
    }
   },
   "id": "e53e6fc87b13e52d",
   "execution_count": 54
  },
  {
   "cell_type": "code",
   "outputs": [
    {
     "data": {
      "text/plain": "<matplotlib.legend.Legend at 0x7f41b5c91f60>"
     },
     "execution_count": 55,
     "metadata": {},
     "output_type": "execute_result"
    },
    {
     "data": {
      "text/plain": "<Figure size 600x600 with 1 Axes>",
      "image/png": "[encoded data removed]"
     },
     "metadata": {},
     "output_type": "display_data"
    }
   ],
   "source": [
    "plt.figure(figsize=(6,6))\n",
    "plt.plot(df_scores.fpr, df_scores.tpr, label='model')\n",
    "plt.plot(df_rand.fpr, df_rand.tpr, label='random')\n",
    "plt.plot(df_ideal.fpr, df_ideal.tpr, label='ideal')\n",
    "\n",
    "plt.xlabel('False Positive Rate')\n",
    "plt.ylabel('True Positive Rate')\n",
    "\n",
    "plt.legend()"
   ],
   "metadata": {
    "collapsed": false,
    "ExecuteTime": {
     "end_time": "2024-01-18T11:03:15.897625241Z",
     "start_time": "2024-01-18T11:03:15.399650657Z"
    }
   },
   "id": "d0225b174190d322",
   "execution_count": 55
  },
  {
   "cell_type": "markdown",
   "source": [
    "La courbe du modèle doit idéalement être la plus éloignée possible de la random et donc le plus proche possible de l'ideal"
   ],
   "metadata": {
    "collapsed": false
   },
   "id": "ead4854f97d58978"
  },
  {
   "cell_type": "code",
   "outputs": [
    {
     "data": {
      "text/plain": "<matplotlib.legend.Legend at 0x7f41b5d19ab0>"
     },
     "execution_count": 56,
     "metadata": {},
     "output_type": "execute_result"
    },
    {
     "data": {
      "text/plain": "<Figure size 600x600 with 1 Axes>",
      "image/png": "[encoded data removed]"
     },
     "metadata": {},
     "output_type": "display_data"
    }
   ],
   "source": [
    "plt.figure(figsize=(6,6))\n",
    "plt.plot(df_scores.fpr, df_scores.tpr, label='model')\n",
    "plt.plot([0,1], [0,1], label='random', linestyle='--')\n",
    "\n",
    "plt.xlabel('False Positive Rate')\n",
    "plt.ylabel('True Positive Rate')\n",
    "\n",
    "plt.legend()"
   ],
   "metadata": {
    "collapsed": false,
    "ExecuteTime": {
     "end_time": "2024-01-18T11:03:16.204461248Z",
     "start_time": "2024-01-18T11:03:15.567015815Z"
    }
   },
   "id": "79fdebfc1550b644",
   "execution_count": 56
  },
  {
   "cell_type": "markdown",
   "source": [
    "https://www.youtube.com/watch?v=B5PATo1J6yw&list=PL3MmuxUbc_hIhxl5Ji8t4O6lPAOpHaCLR&index=45"
   ],
   "metadata": {
    "collapsed": false
   },
   "id": "9c025b3c2cac3435"
  },
  {
   "cell_type": "code",
   "outputs": [],
   "source": [
    "from sklearn.metrics import roc_curve"
   ],
   "metadata": {
    "collapsed": false,
    "ExecuteTime": {
     "end_time": "2024-01-18T11:03:16.249912709Z",
     "start_time": "2024-01-18T11:03:15.729114262Z"
    }
   },
   "id": "555afefeb7626007",
   "execution_count": 57
  },
  {
   "cell_type": "code",
   "execution_count": 58,
   "outputs": [],
   "source": [
    "fpr, tpr, thresholds = roc_curve(y_val, y_pred)"
   ],
   "metadata": {
    "collapsed": false,
    "ExecuteTime": {
     "end_time": "2024-01-18T11:03:16.253747619Z",
     "start_time": "2024-01-18T11:03:15.777032120Z"
    }
   },
   "id": "a6143a301e804097"
  },
  {
   "cell_type": "code",
   "execution_count": 59,
   "outputs": [
    {
     "data": {
      "text/plain": "<matplotlib.legend.Legend at 0x7f41b43a2890>"
     },
     "execution_count": 59,
     "metadata": {},
     "output_type": "execute_result"
    },
    {
     "data": {
      "text/plain": "<Figure size 500x500 with 1 Axes>",
      "image/png": "[encoded data removed]"
     },
     "metadata": {},
     "output_type": "display_data"
    }
   ],
   "source": [
    "plt.figure(figsize=(5,5))\n",
    "\n",
    "plt.plot(fpr, tpr, label='Model')\n",
    "plt.plot([0,1], [0,1], label='random', linestyle='--')\n",
    "\n",
    "plt.xlabel('False Positive Rate')\n",
    "plt.ylabel('True Positive Rate')\n",
    "\n",
    "plt.legend()"
   ],
   "metadata": {
    "collapsed": false,
    "ExecuteTime": {
     "end_time": "2024-01-18T11:03:16.347306078Z",
     "start_time": "2024-01-18T11:03:15.777410113Z"
    }
   },
   "id": "739cda1cacb3092b"
  },
  {
   "cell_type": "markdown",
   "source": [
    "## 4.6 ROC AUC"
   ],
   "metadata": {
    "collapsed": false
   },
   "id": "a60c00ae6ba950c4"
  },
  {
   "cell_type": "markdown",
   "source": [
    "* Area under the ROC curve - useful metric\n",
    "* Interpretation of AUC\n",
    "Le but est de mesurer l'air du graphique (1.0,1.0). Plus l'air sous la courbe est proche de 1.0² plus le modèle est bon. La droite correspond à 0.5. 0.6 c'est mauvais sous 0.5 c'est anormal."
   ],
   "metadata": {
    "collapsed": false
   },
   "id": "32d900b4eea78168"
  },
  {
   "cell_type": "code",
   "outputs": [],
   "source": [
    "from sklearn.metrics import auc"
   ],
   "metadata": {
    "collapsed": false,
    "ExecuteTime": {
     "end_time": "2024-01-18T11:03:16.351415697Z",
     "start_time": "2024-01-18T11:03:15.950562243Z"
    }
   },
   "id": "3f87fa9e257788e9",
   "execution_count": 60
  },
  {
   "cell_type": "code",
   "outputs": [
    {
     "data": {
      "text/plain": "0.8423563733608861"
     },
     "execution_count": 61,
     "metadata": {},
     "output_type": "execute_result"
    }
   ],
   "source": [
    "auc(x=fpr, y=tpr)"
   ],
   "metadata": {
    "collapsed": false,
    "ExecuteTime": {
     "end_time": "2024-01-18T11:03:16.361820556Z",
     "start_time": "2024-01-18T11:03:15.956130613Z"
    }
   },
   "id": "2412547b222b822",
   "execution_count": 61
  },
  {
   "cell_type": "code",
   "outputs": [
    {
     "data": {
      "text/plain": "0.8422601411068735"
     },
     "execution_count": 62,
     "metadata": {},
     "output_type": "execute_result"
    }
   ],
   "source": [
    "auc(x=df_scores.fpr, y=df_scores.tpr) #with fpr and tpr that we computed manually"
   ],
   "metadata": {
    "collapsed": false,
    "ExecuteTime": {
     "end_time": "2024-01-18T11:03:16.530251540Z",
     "start_time": "2024-01-18T11:03:15.961559401Z"
    }
   },
   "id": "3cda93faa74e1dfe",
   "execution_count": 62
  },
  {
   "cell_type": "markdown",
   "source": [
    "Pretty close but fpr & tpr calculated by Sklearn is more accurate. Because we have evaluated the model in 101 threshold. We must use more threshold"
   ],
   "metadata": {
    "collapsed": false
   },
   "id": "438b155d09fa09fa"
  },
  {
   "cell_type": "code",
   "outputs": [
    {
     "data": {
      "text/plain": "0.9999430203759136"
     },
     "execution_count": 63,
     "metadata": {},
     "output_type": "execute_result"
    }
   ],
   "source": [
    "auc(x=df_ideal.fpr, y=df_ideal.tpr)"
   ],
   "metadata": {
    "collapsed": false,
    "ExecuteTime": {
     "end_time": "2024-01-18T11:03:16.534397888Z",
     "start_time": "2024-01-18T11:03:16.005218317Z"
    }
   },
   "id": "3e6df9dc74ad44ec",
   "execution_count": 63
  },
  {
   "cell_type": "code",
   "outputs": [
    {
     "data": {
      "text/plain": "0.8423563733608861"
     },
     "execution_count": 64,
     "metadata": {},
     "output_type": "execute_result"
    }
   ],
   "source": [
    "fpr, tpr, thresholds = roc_curve(y_true=y_val, y_score=y_pred)\n",
    "auc(x=fpr, y=tpr)"
   ],
   "metadata": {
    "collapsed": false,
    "ExecuteTime": {
     "end_time": "2024-01-18T11:03:16.556685753Z",
     "start_time": "2024-01-18T11:03:16.005604525Z"
    }
   },
   "id": "705ae43de90033f",
   "execution_count": 64
  },
  {
   "cell_type": "code",
   "outputs": [],
   "source": [
    "from sklearn.metrics import roc_auc_score"
   ],
   "metadata": {
    "collapsed": false,
    "ExecuteTime": {
     "end_time": "2024-01-18T11:03:16.560470729Z",
     "start_time": "2024-01-18T11:03:16.006007695Z"
    }
   },
   "id": "4d51bbe5628ab756",
   "execution_count": 65
  },
  {
   "cell_type": "code",
   "outputs": [
    {
     "data": {
      "text/plain": "0.8423563733608861"
     },
     "execution_count": 66,
     "metadata": {},
     "output_type": "execute_result"
    }
   ],
   "source": [
    "roc_auc_score(y_true=y_val, y_score=y_pred)"
   ],
   "metadata": {
    "collapsed": false,
    "ExecuteTime": {
     "end_time": "2024-01-18T11:03:16.577373611Z",
     "start_time": "2024-01-18T11:03:16.006331946Z"
    }
   },
   "id": "a4fe11b4f899eb6c",
   "execution_count": 66
  },
  {
   "cell_type": "markdown",
   "source": [
    "On obtient les mêmes valeurs"
   ],
   "metadata": {
    "collapsed": false
   },
   "id": "8cc744404b5f2d9f"
  },
  {
   "cell_type": "code",
   "outputs": [],
   "source": [
    "neg = y_pred[y_val == 0]\n",
    "pos = y_pred[y_val == 1]"
   ],
   "metadata": {
    "collapsed": false,
    "ExecuteTime": {
     "end_time": "2024-01-18T11:03:16.581132699Z",
     "start_time": "2024-01-18T11:03:16.006653663Z"
    }
   },
   "id": "8ec63608d43bde4e",
   "execution_count": 67
  },
  {
   "cell_type": "code",
   "outputs": [],
   "source": [
    "import random"
   ],
   "metadata": {
    "collapsed": false,
    "ExecuteTime": {
     "end_time": "2024-01-18T11:03:16.595482716Z",
     "start_time": "2024-01-18T11:03:16.007106066Z"
    }
   },
   "id": "29095e13010bc7db",
   "execution_count": 68
  },
  {
   "cell_type": "code",
   "outputs": [
    {
     "data": {
      "text/plain": "0.84018"
     },
     "execution_count": 69,
     "metadata": {},
     "output_type": "execute_result"
    }
   ],
   "source": [
    "n = 100000\n",
    "success = 0\n",
    "for i in range(n):\n",
    "    pos_ind = random.randint(0,len(pos)-1)\n",
    "    neg_ind = random.randint(0,len(neg)-1)\n",
    "    \n",
    "    if pos[pos_ind] > neg[neg_ind]:\n",
    "        success = success +1\n",
    "success / n"
   ],
   "metadata": {
    "collapsed": false,
    "ExecuteTime": {
     "end_time": "2024-01-18T11:03:16.605438358Z",
     "start_time": "2024-01-18T11:03:16.018841053Z"
    }
   },
   "id": "5dac78db1d4e2948",
   "execution_count": 69
  },
  {
   "cell_type": "code",
   "outputs": [
    {
     "data": {
      "text/plain": "0.84482"
     },
     "execution_count": 70,
     "metadata": {},
     "output_type": "execute_result"
    }
   ],
   "source": [
    "n = 50000\n",
    "\n",
    "np.random.seed(1)\n",
    "pos_ind = np.random.randint(0,len(pos), size=n)\n",
    "neg_ind = np.random.randint(0,len(neg), size=n)\n",
    "(pos[pos_ind] > neg[neg_ind]).mean()"
   ],
   "metadata": {
    "collapsed": false,
    "ExecuteTime": {
     "end_time": "2024-01-18T11:03:16.624849899Z",
     "start_time": "2024-01-18T11:03:16.202259326Z"
    }
   },
   "id": "aaf0ffc4c088278b",
   "execution_count": 70
  },
  {
   "cell_type": "markdown",
   "source": [
    "## 4.7 Cross-Validation\n",
    "* Evaluating the same model on different subsets of data\n",
    "* Getting the average prediction and the spread within predictions"
   ],
   "metadata": {
    "collapsed": false
   },
   "id": "f4f3cb82d90ddcd6"
  },
  {
   "cell_type": "code",
   "outputs": [],
   "source": [
    "def train(df_train, y_train, C=1.0):\n",
    "    dicts = df_train[categorical + numerical].to_dict(orient='records')\n",
    "    \n",
    "    dv = DictVectorizer(sparse=False)\n",
    "    X_train = dv.fit_transform(dicts)\n",
    "    \n",
    "    model = LogisticRegression(C=C, max_iter=1000)\n",
    "    model.fit(X_train, y_train)\n",
    "    return dv, model"
   ],
   "metadata": {
    "collapsed": false,
    "ExecuteTime": {
     "end_time": "2024-01-18T11:03:16.628739863Z",
     "start_time": "2024-01-18T11:03:16.209752585Z"
    }
   },
   "id": "e9db2a928cfbcd06",
   "execution_count": 71
  },
  {
   "cell_type": "code",
   "outputs": [],
   "source": [
    "dv, model = train(df_train=df_train, y_train=y_train, C=0.001) # smaller C specify stronger regularisation"
   ],
   "metadata": {
    "collapsed": false,
    "ExecuteTime": {
     "end_time": "2024-01-18T11:03:17.034968372Z",
     "start_time": "2024-01-18T11:03:16.217070694Z"
    }
   },
   "id": "f9c9f6e23aa7894d",
   "execution_count": 72
  },
  {
   "cell_type": "code",
   "outputs": [],
   "source": [
    "def predict(df, dv, model):\n",
    "    dicts = df[categorical + numerical].to_dict(orient='records')\n",
    "    \n",
    "    X = dv.transform(dicts)\n",
    "    y_pred = model.predict_proba(X)[:,1]\n",
    "    \n",
    "    return y_pred"
   ],
   "metadata": {
    "collapsed": false,
    "ExecuteTime": {
     "end_time": "2024-01-18T11:03:17.089527558Z",
     "start_time": "2024-01-18T11:03:17.037289147Z"
    }
   },
   "id": "c9e0f8935deb6b1c",
   "execution_count": 73
  },
  {
   "cell_type": "code",
   "outputs": [],
   "source": [
    "y_pred = predict(df_val, dv, model)"
   ],
   "metadata": {
    "collapsed": false,
    "ExecuteTime": {
     "end_time": "2024-01-18T11:03:17.106813419Z",
     "start_time": "2024-01-18T11:03:17.089998776Z"
    }
   },
   "id": "3ddaa873d6a57d4b",
   "execution_count": 74
  },
  {
   "cell_type": "code",
   "outputs": [],
   "source": [
    "from sklearn.model_selection import KFold"
   ],
   "metadata": {
    "collapsed": false,
    "ExecuteTime": {
     "end_time": "2024-01-18T11:03:17.111065866Z",
     "start_time": "2024-01-18T11:03:17.104153043Z"
    }
   },
   "id": "d98cfb2f02a2668d",
   "execution_count": 75
  },
  {
   "cell_type": "code",
   "outputs": [],
   "source": [
    "kfold = KFold(n_splits=10, shuffle=True, random_state=1)"
   ],
   "metadata": {
    "collapsed": false,
    "ExecuteTime": {
     "end_time": "2024-01-18T11:03:17.153597406Z",
     "start_time": "2024-01-18T11:03:17.107091683Z"
    }
   },
   "id": "9f67de62845f3a91",
   "execution_count": 76
  },
  {
   "cell_type": "code",
   "outputs": [],
   "source": [
    "from tqdm.auto import tqdm"
   ],
   "metadata": {
    "collapsed": false,
    "ExecuteTime": {
     "end_time": "2024-01-18T11:03:17.187439331Z",
     "start_time": "2024-01-18T11:03:17.148962677Z"
    }
   },
   "id": "28268230c56af589",
   "execution_count": 77
  },
  {
   "cell_type": "code",
   "outputs": [
    {
     "data": {
      "text/plain": "  0%|          | 0/7 [00:00<?, ?it/s]",
      "application/vnd.jupyter.widget-view+json": {
       "version_major": 2,
       "version_minor": 0,
       "model_id": "d4e49512730840579ff2ba75826cc510"
      }
     },
     "metadata": {},
     "output_type": "display_data"
    },
    {
     "name": "stdout",
     "output_type": "stream",
     "text": [
      "C=0.001 0.824 +- 0.010\n",
      "C=0.01 0.840 +- 0.008\n",
      "C=0.1 0.841 +- 0.008\n"
     ]
    },
    {
     "name": "stderr",
     "output_type": "stream",
     "text": [
      "/home/wm18vw/.conda/envs/machineLearning/lib/python3.10/site-packages/sklearn/linear_model/_logistic.py:460: ConvergenceWarning: lbfgs failed to converge (status=1):\n",
      "STOP: TOTAL NO. of ITERATIONS REACHED LIMIT.\n",
      "\n",
      "Increase the number of iterations (max_iter) or scale the data as shown in:\n",
      "    https://scikit-learn.org/stable/modules/preprocessing.html\n",
      "Please also refer to the documentation for alternative solver options:\n",
      "    https://scikit-learn.org/stable/modules/linear_model.html#logistic-regression\n",
      "  n_iter_i = _check_optimize_result(\n",
      "/home/wm18vw/.conda/envs/machineLearning/lib/python3.10/site-packages/sklearn/linear_model/_logistic.py:460: ConvergenceWarning: lbfgs failed to converge (status=1):\n",
      "STOP: TOTAL NO. of ITERATIONS REACHED LIMIT.\n",
      "\n",
      "Increase the number of iterations (max_iter) or scale the data as shown in:\n",
      "    https://scikit-learn.org/stable/modules/preprocessing.html\n",
      "Please also refer to the documentation for alternative solver options:\n",
      "    https://scikit-learn.org/stable/modules/linear_model.html#logistic-regression\n",
      "  n_iter_i = _check_optimize_result(\n",
      "/home/wm18vw/.conda/envs/machineLearning/lib/python3.10/site-packages/sklearn/linear_model/_logistic.py:460: ConvergenceWarning: lbfgs failed to converge (status=1):\n",
      "STOP: TOTAL NO. of ITERATIONS REACHED LIMIT.\n",
      "\n",
      "Increase the number of iterations (max_iter) or scale the data as shown in:\n",
      "    https://scikit-learn.org/stable/modules/preprocessing.html\n",
      "Please also refer to the documentation for alternative solver options:\n",
      "    https://scikit-learn.org/stable/modules/linear_model.html#logistic-regression\n",
      "  n_iter_i = _check_optimize_result(\n",
      "/home/wm18vw/.conda/envs/machineLearning/lib/python3.10/site-packages/sklearn/linear_model/_logistic.py:460: ConvergenceWarning: lbfgs failed to converge (status=1):\n",
      "STOP: TOTAL NO. of ITERATIONS REACHED LIMIT.\n",
      "\n",
      "Increase the number of iterations (max_iter) or scale the data as shown in:\n",
      "    https://scikit-learn.org/stable/modules/preprocessing.html\n",
      "Please also refer to the documentation for alternative solver options:\n",
      "    https://scikit-learn.org/stable/modules/linear_model.html#logistic-regression\n",
      "  n_iter_i = _check_optimize_result(\n"
     ]
    },
    {
     "name": "stdout",
     "output_type": "stream",
     "text": [
      "C=0.5 0.840 +- 0.005\n"
     ]
    },
    {
     "name": "stderr",
     "output_type": "stream",
     "text": [
      "/home/wm18vw/.conda/envs/machineLearning/lib/python3.10/site-packages/sklearn/linear_model/_logistic.py:460: ConvergenceWarning: lbfgs failed to converge (status=1):\n",
      "STOP: TOTAL NO. of ITERATIONS REACHED LIMIT.\n",
      "\n",
      "Increase the number of iterations (max_iter) or scale the data as shown in:\n",
      "    https://scikit-learn.org/stable/modules/preprocessing.html\n",
      "Please also refer to the documentation for alternative solver options:\n",
      "    https://scikit-learn.org/stable/modules/linear_model.html#logistic-regression\n",
      "  n_iter_i = _check_optimize_result(\n",
      "/home/wm18vw/.conda/envs/machineLearning/lib/python3.10/site-packages/sklearn/linear_model/_logistic.py:460: ConvergenceWarning: lbfgs failed to converge (status=1):\n",
      "STOP: TOTAL NO. of ITERATIONS REACHED LIMIT.\n",
      "\n",
      "Increase the number of iterations (max_iter) or scale the data as shown in:\n",
      "    https://scikit-learn.org/stable/modules/preprocessing.html\n",
      "Please also refer to the documentation for alternative solver options:\n",
      "    https://scikit-learn.org/stable/modules/linear_model.html#logistic-regression\n",
      "  n_iter_i = _check_optimize_result(\n",
      "/home/wm18vw/.conda/envs/machineLearning/lib/python3.10/site-packages/sklearn/linear_model/_logistic.py:460: ConvergenceWarning: lbfgs failed to converge (status=1):\n",
      "STOP: TOTAL NO. of ITERATIONS REACHED LIMIT.\n",
      "\n",
      "Increase the number of iterations (max_iter) or scale the data as shown in:\n",
      "    https://scikit-learn.org/stable/modules/preprocessing.html\n",
      "Please also refer to the documentation for alternative solver options:\n",
      "    https://scikit-learn.org/stable/modules/linear_model.html#logistic-regression\n",
      "  n_iter_i = _check_optimize_result(\n"
     ]
    },
    {
     "name": "stdout",
     "output_type": "stream",
     "text": [
      "C=1.0 0.836 +- 0.004\n"
     ]
    },
    {
     "name": "stderr",
     "output_type": "stream",
     "text": [
      "/home/wm18vw/.conda/envs/machineLearning/lib/python3.10/site-packages/sklearn/linear_model/_logistic.py:460: ConvergenceWarning: lbfgs failed to converge (status=1):\n",
      "STOP: TOTAL NO. of ITERATIONS REACHED LIMIT.\n",
      "\n",
      "Increase the number of iterations (max_iter) or scale the data as shown in:\n",
      "    https://scikit-learn.org/stable/modules/preprocessing.html\n",
      "Please also refer to the documentation for alternative solver options:\n",
      "    https://scikit-learn.org/stable/modules/linear_model.html#logistic-regression\n",
      "  n_iter_i = _check_optimize_result(\n",
      "/home/wm18vw/.conda/envs/machineLearning/lib/python3.10/site-packages/sklearn/linear_model/_logistic.py:460: ConvergenceWarning: lbfgs failed to converge (status=1):\n",
      "STOP: TOTAL NO. of ITERATIONS REACHED LIMIT.\n",
      "\n",
      "Increase the number of iterations (max_iter) or scale the data as shown in:\n",
      "    https://scikit-learn.org/stable/modules/preprocessing.html\n",
      "Please also refer to the documentation for alternative solver options:\n",
      "    https://scikit-learn.org/stable/modules/linear_model.html#logistic-regression\n",
      "  n_iter_i = _check_optimize_result(\n",
      "/home/wm18vw/.conda/envs/machineLearning/lib/python3.10/site-packages/sklearn/linear_model/_logistic.py:460: ConvergenceWarning: lbfgs failed to converge (status=1):\n",
      "STOP: TOTAL NO. of ITERATIONS REACHED LIMIT.\n",
      "\n",
      "Increase the number of iterations (max_iter) or scale the data as shown in:\n",
      "    https://scikit-learn.org/stable/modules/preprocessing.html\n",
      "Please also refer to the documentation for alternative solver options:\n",
      "    https://scikit-learn.org/stable/modules/linear_model.html#logistic-regression\n",
      "  n_iter_i = _check_optimize_result(\n",
      "/home/wm18vw/.conda/envs/machineLearning/lib/python3.10/site-packages/sklearn/linear_model/_logistic.py:460: ConvergenceWarning: lbfgs failed to converge (status=1):\n",
      "STOP: TOTAL NO. of ITERATIONS REACHED LIMIT.\n",
      "\n",
      "Increase the number of iterations (max_iter) or scale the data as shown in:\n",
      "    https://scikit-learn.org/stable/modules/preprocessing.html\n",
      "Please also refer to the documentation for alternative solver options:\n",
      "    https://scikit-learn.org/stable/modules/linear_model.html#logistic-regression\n",
      "  n_iter_i = _check_optimize_result(\n",
      "/home/wm18vw/.conda/envs/machineLearning/lib/python3.10/site-packages/sklearn/linear_model/_logistic.py:460: ConvergenceWarning: lbfgs failed to converge (status=1):\n",
      "STOP: TOTAL NO. of ITERATIONS REACHED LIMIT.\n",
      "\n",
      "Increase the number of iterations (max_iter) or scale the data as shown in:\n",
      "    https://scikit-learn.org/stable/modules/preprocessing.html\n",
      "Please also refer to the documentation for alternative solver options:\n",
      "    https://scikit-learn.org/stable/modules/linear_model.html#logistic-regression\n",
      "  n_iter_i = _check_optimize_result(\n"
     ]
    },
    {
     "name": "stdout",
     "output_type": "stream",
     "text": [
      "C=5.0 0.830 +- 0.004\n"
     ]
    },
    {
     "name": "stderr",
     "output_type": "stream",
     "text": [
      "/home/wm18vw/.conda/envs/machineLearning/lib/python3.10/site-packages/sklearn/linear_model/_logistic.py:460: ConvergenceWarning: lbfgs failed to converge (status=1):\n",
      "STOP: TOTAL NO. of ITERATIONS REACHED LIMIT.\n",
      "\n",
      "Increase the number of iterations (max_iter) or scale the data as shown in:\n",
      "    https://scikit-learn.org/stable/modules/preprocessing.html\n",
      "Please also refer to the documentation for alternative solver options:\n",
      "    https://scikit-learn.org/stable/modules/linear_model.html#logistic-regression\n",
      "  n_iter_i = _check_optimize_result(\n",
      "/home/wm18vw/.conda/envs/machineLearning/lib/python3.10/site-packages/sklearn/linear_model/_logistic.py:460: ConvergenceWarning: lbfgs failed to converge (status=1):\n",
      "STOP: TOTAL NO. of ITERATIONS REACHED LIMIT.\n",
      "\n",
      "Increase the number of iterations (max_iter) or scale the data as shown in:\n",
      "    https://scikit-learn.org/stable/modules/preprocessing.html\n",
      "Please also refer to the documentation for alternative solver options:\n",
      "    https://scikit-learn.org/stable/modules/linear_model.html#logistic-regression\n",
      "  n_iter_i = _check_optimize_result(\n",
      "/home/wm18vw/.conda/envs/machineLearning/lib/python3.10/site-packages/sklearn/linear_model/_logistic.py:460: ConvergenceWarning: lbfgs failed to converge (status=1):\n",
      "STOP: TOTAL NO. of ITERATIONS REACHED LIMIT.\n",
      "\n",
      "Increase the number of iterations (max_iter) or scale the data as shown in:\n",
      "    https://scikit-learn.org/stable/modules/preprocessing.html\n",
      "Please also refer to the documentation for alternative solver options:\n",
      "    https://scikit-learn.org/stable/modules/linear_model.html#logistic-regression\n",
      "  n_iter_i = _check_optimize_result(\n"
     ]
    },
    {
     "name": "stdout",
     "output_type": "stream",
     "text": [
      "C=10.0 0.832 +- 0.012\n"
     ]
    },
    {
     "name": "stderr",
     "output_type": "stream",
     "text": [
      "/home/wm18vw/.conda/envs/machineLearning/lib/python3.10/site-packages/sklearn/linear_model/_logistic.py:460: ConvergenceWarning: lbfgs failed to converge (status=1):\n",
      "STOP: TOTAL NO. of ITERATIONS REACHED LIMIT.\n",
      "\n",
      "Increase the number of iterations (max_iter) or scale the data as shown in:\n",
      "    https://scikit-learn.org/stable/modules/preprocessing.html\n",
      "Please also refer to the documentation for alternative solver options:\n",
      "    https://scikit-learn.org/stable/modules/linear_model.html#logistic-regression\n",
      "  n_iter_i = _check_optimize_result(\n"
     ]
    }
   ],
   "source": [
    "n_splits = 5\n",
    "\n",
    "for C in tqdm([0.001, 0.01, 0.1, 0.5, 1.0, 5.0, 10.0]):\n",
    "    kfold = KFold(n_splits=n_splits, shuffle=True, random_state=1)\n",
    "    scores = []\n",
    "    \n",
    "    for train_idx, val_idx in kfold.split(df_full_train):\n",
    "        df_train = df_full_train.iloc[train_idx]\n",
    "        df_val = df_full_train.iloc[val_idx]\n",
    "        \n",
    "        y_train = df_train.churn.values\n",
    "        y_val = df_val.churn.values\n",
    "        \n",
    "        dv, model = train(df_train, y_train, C=C)\n",
    "        y_pred = predict(df_val, dv, model)\n",
    "        \n",
    "        auc = roc_auc_score(y_val, y_pred)\n",
    "        scores.append(auc)\n",
    "    print('C=%s %.3f +- %.3f' % (C, np.mean(scores), np.std(scores)))"
   ],
   "metadata": {
    "collapsed": false,
    "ExecuteTime": {
     "end_time": "2024-01-18T11:06:29.796611243Z",
     "start_time": "2024-01-18T11:03:17.177165691Z"
    }
   },
   "id": "f5ed027dfdaa8352",
   "execution_count": 78
  },
  {
   "cell_type": "code",
   "outputs": [
    {
     "data": {
      "text/plain": "[0.8166393230290994,\n 0.8453785094689446,\n 0.8206261288380493,\n 0.8333539841401805,\n 0.84358037087007]"
     },
     "execution_count": 79,
     "metadata": {},
     "output_type": "execute_result"
    }
   ],
   "source": [
    "scores"
   ],
   "metadata": {
    "collapsed": false,
    "ExecuteTime": {
     "end_time": "2024-01-18T11:06:29.802416233Z",
     "start_time": "2024-01-18T11:06:29.801996894Z"
    }
   },
   "id": "f24ab12a5421eedf",
   "execution_count": 79
  },
  {
   "cell_type": "code",
   "outputs": [
    {
     "data": {
      "text/plain": "(4508, 1126)"
     },
     "execution_count": 80,
     "metadata": {},
     "output_type": "execute_result"
    }
   ],
   "source": [
    "len(train_idx), len(val_idx)"
   ],
   "metadata": {
    "collapsed": false,
    "ExecuteTime": {
     "end_time": "2024-01-18T11:06:29.824343130Z",
     "start_time": "2024-01-18T11:06:29.808497833Z"
    }
   },
   "id": "60d7e23c5f1224f0",
   "execution_count": 80
  },
  {
   "cell_type": "code",
   "outputs": [
    {
     "data": {
      "text/plain": "5634"
     },
     "execution_count": 81,
     "metadata": {},
     "output_type": "execute_result"
    }
   ],
   "source": [
    "len(df_full_train)"
   ],
   "metadata": {
    "collapsed": false,
    "ExecuteTime": {
     "end_time": "2024-01-18T11:06:29.828187321Z",
     "start_time": "2024-01-18T11:06:29.814378615Z"
    }
   },
   "id": "356bc6e324b02e5",
   "execution_count": 81
  },
  {
   "cell_type": "code",
   "outputs": [
    {
     "data": {
      "text/plain": "0.8590071717204546"
     },
     "execution_count": 82,
     "metadata": {},
     "output_type": "execute_result"
    }
   ],
   "source": [
    "dv, model = train(df_full_train, df_full_train.churn.values, C=1.0)\n",
    "y_pred = predict(df_test, dv, model)\n",
    "\n",
    "auc = roc_auc_score(y_test, y_pred)\n",
    "auc"
   ],
   "metadata": {
    "collapsed": false,
    "ExecuteTime": {
     "end_time": "2024-01-18T11:06:33.214826105Z",
     "start_time": "2024-01-18T11:06:29.856929118Z"
    }
   },
   "id": "843f47c44e11db0c",
   "execution_count": 82
  },
  {
   "cell_type": "markdown",
   "source": [
    "J'ai parcouru jusqu'au 4.8"
   ],
   "metadata": {
    "collapsed": false
   },
   "id": "3af0adc28e936157"
  },
  {
   "cell_type": "code",
   "outputs": [],
   "source": [],
   "metadata": {
    "collapsed": false
   },
   "id": "4c81bc2f85d5a272"
  }
 ],
 "metadata": {
  "kernelspec": {
   "display_name": "Python 3",
   "language": "python",
   "name": "python3"
  },
  "language_info": {
   "codemirror_mode": {
    "name": "ipython",
    "version": 2
   },
   "file_extension": ".py",
   "mimetype": "text/x-python",
   "name": "python",
   "nbconvert_exporter": "python",
   "pygments_lexer": "ipython2",
   "version": "2.7.6"
  }
 },
 "nbformat": 4,
 "nbformat_minor": 5
}
