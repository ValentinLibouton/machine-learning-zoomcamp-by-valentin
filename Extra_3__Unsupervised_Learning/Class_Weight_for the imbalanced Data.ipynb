{
 "cells": [
  {
   "cell_type": "markdown",
   "metadata": {},
   "source": [
    "# UnBalanced Datasets\n",
    "\n",
    "What does an Unbalanced Dataset Mean ? In simple terms, an Unbalanced Dataset is one in which the target variable has more observations in one specific class than others.\n",
    "\n",
    "\n",
    "\n",
    "+ *UnderSampling*\n",
    "+ *OverSampling*\n",
    "+ *Class Weight*\n",
    "\n",
    "\n",
    "\n",
    "![image.png](data:image/png;base64,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)"
   ]
  },
  {
   "cell_type": "code",
   "execution_count": 1,
   "metadata": {
    "ExecuteTime": {
     "end_time": "2024-01-15T15:52:14.695513899Z",
     "start_time": "2024-01-15T15:52:14.194561579Z"
    }
   },
   "outputs": [],
   "source": [
    "import numpy as np\n",
    "import pandas as pd\n",
    "import matplotlib.pyplot as plt\n",
    "import warnings\n",
    "warnings.filterwarnings('ignore')\n",
    "\n",
    "%matplotlib inline"
   ]
  },
  {
   "cell_type": "code",
   "execution_count": 2,
   "metadata": {
    "ExecuteTime": {
     "end_time": "2024-01-15T15:52:14.746099220Z",
     "start_time": "2024-01-15T15:52:14.736214447Z"
    }
   },
   "outputs": [
    {
     "data": {
      "text/plain": "   Time        V1        V2        V3        V4        V5        V6        V7  \\\n0     0 -1.359807 -0.072781  2.536347  1.378155 -0.338321  0.462388  0.239599   \n1     0  1.191857  0.266151  0.166480  0.448154  0.060018 -0.082361 -0.078803   \n2     1 -1.358354 -1.340163  1.773209  0.379780 -0.503198  1.800499  0.791461   \n3     1 -0.966272 -0.185226  1.792993 -0.863291 -0.010309  1.247203  0.237609   \n4     2 -1.158233  0.877737  1.548718  0.403034 -0.407193  0.095921  0.592941   \n\n         V8        V9  ...       V21       V22       V23       V24       V25  \\\n0  0.098698  0.363787  ... -0.018307  0.277838 -0.110474  0.066928  0.128539   \n1  0.085102 -0.255425  ... -0.225775 -0.638672  0.101288 -0.339846  0.167170   \n2  0.247676 -1.514654  ...  0.247998  0.771679  0.909412 -0.689281 -0.327642   \n3  0.377436 -1.387024  ... -0.108300  0.005274 -0.190321 -1.175575  0.647376   \n4 -0.270533  0.817739  ... -0.009431  0.798278 -0.137458  0.141267 -0.206010   \n\n        V26       V27       V28  Amount  Class  \n0 -0.189115  0.133558 -0.021053  149.62    0.0  \n1  0.125895 -0.008983  0.014724    2.69    0.0  \n2 -0.139097 -0.055353 -0.059752  378.66    0.0  \n3 -0.221929  0.062723  0.061458  123.50    0.0  \n4  0.502292  0.219422  0.215153   69.99    0.0  \n\n[5 rows x 31 columns]",
      "text/html": "<div>\n<style scoped>\n    .dataframe tbody tr th:only-of-type {\n        vertical-align: middle;\n    }\n\n    .dataframe tbody tr th {\n        vertical-align: top;\n    }\n\n    .dataframe thead th {\n        text-align: right;\n    }\n</style>\n<table border=\"1\" class=\"dataframe\">\n  <thead>\n    <tr style=\"text-align: right;\">\n      <th></th>\n      <th>Time</th>\n      <th>V1</th>\n      <th>V2</th>\n      <th>V3</th>\n      <th>V4</th>\n      <th>V5</th>\n      <th>V6</th>\n      <th>V7</th>\n      <th>V8</th>\n      <th>V9</th>\n      <th>...</th>\n      <th>V21</th>\n      <th>V22</th>\n      <th>V23</th>\n      <th>V24</th>\n      <th>V25</th>\n      <th>V26</th>\n      <th>V27</th>\n      <th>V28</th>\n      <th>Amount</th>\n      <th>Class</th>\n    </tr>\n  </thead>\n  <tbody>\n    <tr>\n      <th>0</th>\n      <td>0</td>\n      <td>-1.359807</td>\n      <td>-0.072781</td>\n      <td>2.536347</td>\n      <td>1.378155</td>\n      <td>-0.338321</td>\n      <td>0.462388</td>\n      <td>0.239599</td>\n      <td>0.098698</td>\n      <td>0.363787</td>\n      <td>...</td>\n      <td>-0.018307</td>\n      <td>0.277838</td>\n      <td>-0.110474</td>\n      <td>0.066928</td>\n      <td>0.128539</td>\n      <td>-0.189115</td>\n      <td>0.133558</td>\n      <td>-0.021053</td>\n      <td>149.62</td>\n      <td>0.0</td>\n    </tr>\n    <tr>\n      <th>1</th>\n      <td>0</td>\n      <td>1.191857</td>\n      <td>0.266151</td>\n      <td>0.166480</td>\n      <td>0.448154</td>\n      <td>0.060018</td>\n      <td>-0.082361</td>\n      <td>-0.078803</td>\n      <td>0.085102</td>\n      <td>-0.255425</td>\n      <td>...</td>\n      <td>-0.225775</td>\n      <td>-0.638672</td>\n      <td>0.101288</td>\n      <td>-0.339846</td>\n      <td>0.167170</td>\n      <td>0.125895</td>\n      <td>-0.008983</td>\n      <td>0.014724</td>\n      <td>2.69</td>\n      <td>0.0</td>\n    </tr>\n    <tr>\n      <th>2</th>\n      <td>1</td>\n      <td>-1.358354</td>\n      <td>-1.340163</td>\n      <td>1.773209</td>\n      <td>0.379780</td>\n      <td>-0.503198</td>\n      <td>1.800499</td>\n      <td>0.791461</td>\n      <td>0.247676</td>\n      <td>-1.514654</td>\n      <td>...</td>\n      <td>0.247998</td>\n      <td>0.771679</td>\n      <td>0.909412</td>\n      <td>-0.689281</td>\n      <td>-0.327642</td>\n      <td>-0.139097</td>\n      <td>-0.055353</td>\n      <td>-0.059752</td>\n      <td>378.66</td>\n      <td>0.0</td>\n    </tr>\n    <tr>\n      <th>3</th>\n      <td>1</td>\n      <td>-0.966272</td>\n      <td>-0.185226</td>\n      <td>1.792993</td>\n      <td>-0.863291</td>\n      <td>-0.010309</td>\n      <td>1.247203</td>\n      <td>0.237609</td>\n      <td>0.377436</td>\n      <td>-1.387024</td>\n      <td>...</td>\n      <td>-0.108300</td>\n      <td>0.005274</td>\n      <td>-0.190321</td>\n      <td>-1.175575</td>\n      <td>0.647376</td>\n      <td>-0.221929</td>\n      <td>0.062723</td>\n      <td>0.061458</td>\n      <td>123.50</td>\n      <td>0.0</td>\n    </tr>\n    <tr>\n      <th>4</th>\n      <td>2</td>\n      <td>-1.158233</td>\n      <td>0.877737</td>\n      <td>1.548718</td>\n      <td>0.403034</td>\n      <td>-0.407193</td>\n      <td>0.095921</td>\n      <td>0.592941</td>\n      <td>-0.270533</td>\n      <td>0.817739</td>\n      <td>...</td>\n      <td>-0.009431</td>\n      <td>0.798278</td>\n      <td>-0.137458</td>\n      <td>0.141267</td>\n      <td>-0.206010</td>\n      <td>0.502292</td>\n      <td>0.219422</td>\n      <td>0.215153</td>\n      <td>69.99</td>\n      <td>0.0</td>\n    </tr>\n  </tbody>\n</table>\n<p>5 rows × 31 columns</p>\n</div>"
     },
     "execution_count": 2,
     "metadata": {},
     "output_type": "execute_result"
    }
   ],
   "source": [
    "df = pd.read_csv('creditcard.csv')\n",
    "df.head(5)"
   ]
  },
  {
   "cell_type": "code",
   "execution_count": 3,
   "metadata": {
    "ExecuteTime": {
     "end_time": "2024-01-15T15:52:14.751871868Z",
     "start_time": "2024-01-15T15:52:14.741725770Z"
    }
   },
   "outputs": [
    {
     "data": {
      "text/plain": "Class\n0.0    5695\n1.0       3\nName: count, dtype: int64"
     },
     "execution_count": 3,
     "metadata": {},
     "output_type": "execute_result"
    }
   ],
   "source": [
    "df.Class.value_counts()"
   ]
  },
  {
   "cell_type": "code",
   "execution_count": 4,
   "metadata": {
    "ExecuteTime": {
     "end_time": "2024-01-15T15:52:15.044732618Z",
     "start_time": "2024-01-15T15:52:14.746315942Z"
    }
   },
   "outputs": [],
   "source": [
    "from sklearn.model_selection import train_test_split\n",
    "\n",
    "df_train, df_test = train_test_split(df, test_size =0.2)"
   ]
  },
  {
   "cell_type": "code",
   "execution_count": 5,
   "metadata": {
    "ExecuteTime": {
     "end_time": "2024-01-15T15:52:15.058213878Z",
     "start_time": "2024-01-15T15:52:15.048848479Z"
    }
   },
   "outputs": [
    {
     "data": {
      "text/plain": "Class\n0.0    4556\n1.0       2\nName: count, dtype: int64"
     },
     "execution_count": 5,
     "metadata": {},
     "output_type": "execute_result"
    }
   ],
   "source": [
    "df_train.Class.value_counts()"
   ]
  },
  {
   "cell_type": "code",
   "execution_count": 6,
   "metadata": {
    "ExecuteTime": {
     "end_time": "2024-01-15T15:52:15.126142360Z",
     "start_time": "2024-01-15T15:52:15.061443595Z"
    }
   },
   "outputs": [
    {
     "name": "stdout",
     "output_type": "stream",
     "text": [
      "<class 'pandas.core.frame.DataFrame'>\n",
      "RangeIndex: 5699 entries, 0 to 5698\n",
      "Data columns (total 31 columns):\n",
      " #   Column  Non-Null Count  Dtype  \n",
      "---  ------  --------------  -----  \n",
      " 0   Time    5699 non-null   int64  \n",
      " 1   V1      5699 non-null   float64\n",
      " 2   V2      5699 non-null   float64\n",
      " 3   V3      5699 non-null   float64\n",
      " 4   V4      5699 non-null   float64\n",
      " 5   V5      5699 non-null   float64\n",
      " 6   V6      5699 non-null   float64\n",
      " 7   V7      5699 non-null   float64\n",
      " 8   V8      5699 non-null   float64\n",
      " 9   V9      5699 non-null   float64\n",
      " 10  V10     5699 non-null   float64\n",
      " 11  V11     5699 non-null   float64\n",
      " 12  V12     5699 non-null   float64\n",
      " 13  V13     5699 non-null   float64\n",
      " 14  V14     5699 non-null   float64\n",
      " 15  V15     5699 non-null   float64\n",
      " 16  V16     5699 non-null   float64\n",
      " 17  V17     5699 non-null   float64\n",
      " 18  V18     5699 non-null   float64\n",
      " 19  V19     5699 non-null   float64\n",
      " 20  V20     5699 non-null   float64\n",
      " 21  V21     5699 non-null   float64\n",
      " 22  V22     5698 non-null   float64\n",
      " 23  V23     5698 non-null   float64\n",
      " 24  V24     5698 non-null   float64\n",
      " 25  V25     5698 non-null   float64\n",
      " 26  V26     5698 non-null   float64\n",
      " 27  V27     5698 non-null   float64\n",
      " 28  V28     5698 non-null   float64\n",
      " 29  Amount  5698 non-null   float64\n",
      " 30  Class   5698 non-null   float64\n",
      "dtypes: float64(30), int64(1)\n",
      "memory usage: 1.3 MB\n"
     ]
    }
   ],
   "source": [
    "df.info()"
   ]
  },
  {
   "cell_type": "code",
   "execution_count": 7,
   "metadata": {
    "ExecuteTime": {
     "end_time": "2024-01-15T15:52:15.153576617Z",
     "start_time": "2024-01-15T15:52:15.067248343Z"
    }
   },
   "outputs": [
    {
     "data": {
      "text/plain": "              Time           V1           V2           V3           V4  \\\ncount  5699.000000  5699.000000  5699.000000  5699.000000  5699.000000   \nmean   2502.083874    -0.253943     0.275739     0.841109     0.076845   \nstd    1610.716641     1.387190     1.192237     1.017261     1.438054   \nmin       0.000000   -12.168192   -15.732974   -12.389545    -4.657545   \n25%    1102.500000    -0.999311    -0.293840     0.293370    -0.864493   \n50%    2422.000000    -0.416184     0.339608     0.873099     0.130959   \n75%    3756.000000     1.118828     0.929154     1.489720     1.052254   \nmax    5966.000000     1.685314     7.467017     4.101716     6.013346   \n\n                V5           V6           V7           V8           V9  ...  \\\ncount  5699.000000  5699.000000  5699.000000  5699.000000  5699.000000  ...   \nmean     -0.000224     0.186655     0.021656    -0.037799     0.360929  ...   \nstd       1.188912     1.360152     1.058691     1.282564     1.033939  ...   \nmin     -32.092129    -7.465603   -12.968670   -23.632502    -3.336805  ...   \n25%      -0.605032    -0.681491    -0.490521    -0.189596    -0.285354  ...   \n50%      -0.080080    -0.154643     0.046899     0.038497     0.347791  ...   \n75%       0.434341     0.594802     0.568084     0.340909     0.913015  ...   \nmax      10.658654    21.393069    34.303177     3.877662     9.272376  ...   \n\n               V21          V22          V23          V24          V25  \\\ncount  5699.000000  5698.000000  5698.000000  5698.000000  5698.000000   \nmean     -0.034144    -0.159781    -0.038010     0.031781     0.090191   \nstd       0.885394     0.646718     0.373201     0.619711     0.405750   \nmin     -11.468435    -8.454599    -7.996811    -2.512377    -2.322906   \n25%      -0.255973    -0.593102    -0.187108    -0.346336    -0.150375   \n50%      -0.107095    -0.175943    -0.046937     0.097315     0.107786   \n75%       0.064518     0.277250     0.087049     0.441617     0.355142   \nmax      22.580675     4.393846     4.095021     3.200201     1.972515   \n\n               V26          V27          V28       Amount        Class  \ncount  5698.000000  5698.000000  5698.000000  5698.000000  5698.000000  \nmean     -0.042070     0.028458     0.004628    64.313854     0.000527  \nstd       0.488857     0.355361     0.250528   193.125531     0.022942  \nmin      -1.338556    -7.976100    -2.909294     0.000000     0.000000  \n25%      -0.404216    -0.048361    -0.017945     4.292500     0.000000  \n50%      -0.081901     0.017754     0.019326    15.375000     0.000000  \n75%       0.247535     0.160024     0.082166    56.310000     0.000000  \nmax       3.463246     3.852046     4.712560  7712.430000     1.000000  \n\n[8 rows x 31 columns]",
      "text/html": "<div>\n<style scoped>\n    .dataframe tbody tr th:only-of-type {\n        vertical-align: middle;\n    }\n\n    .dataframe tbody tr th {\n        vertical-align: top;\n    }\n\n    .dataframe thead th {\n        text-align: right;\n    }\n</style>\n<table border=\"1\" class=\"dataframe\">\n  <thead>\n    <tr style=\"text-align: right;\">\n      <th></th>\n      <th>Time</th>\n      <th>V1</th>\n      <th>V2</th>\n      <th>V3</th>\n      <th>V4</th>\n      <th>V5</th>\n      <th>V6</th>\n      <th>V7</th>\n      <th>V8</th>\n      <th>V9</th>\n      <th>...</th>\n      <th>V21</th>\n      <th>V22</th>\n      <th>V23</th>\n      <th>V24</th>\n      <th>V25</th>\n      <th>V26</th>\n      <th>V27</th>\n      <th>V28</th>\n      <th>Amount</th>\n      <th>Class</th>\n    </tr>\n  </thead>\n  <tbody>\n    <tr>\n      <th>count</th>\n      <td>5699.000000</td>\n      <td>5699.000000</td>\n      <td>5699.000000</td>\n      <td>5699.000000</td>\n      <td>5699.000000</td>\n      <td>5699.000000</td>\n      <td>5699.000000</td>\n      <td>5699.000000</td>\n      <td>5699.000000</td>\n      <td>5699.000000</td>\n      <td>...</td>\n      <td>5699.000000</td>\n      <td>5698.000000</td>\n      <td>5698.000000</td>\n      <td>5698.000000</td>\n      <td>5698.000000</td>\n      <td>5698.000000</td>\n      <td>5698.000000</td>\n      <td>5698.000000</td>\n      <td>5698.000000</td>\n      <td>5698.000000</td>\n    </tr>\n    <tr>\n      <th>mean</th>\n      <td>2502.083874</td>\n      <td>-0.253943</td>\n      <td>0.275739</td>\n      <td>0.841109</td>\n      <td>0.076845</td>\n      <td>-0.000224</td>\n      <td>0.186655</td>\n      <td>0.021656</td>\n      <td>-0.037799</td>\n      <td>0.360929</td>\n      <td>...</td>\n      <td>-0.034144</td>\n      <td>-0.159781</td>\n      <td>-0.038010</td>\n      <td>0.031781</td>\n      <td>0.090191</td>\n      <td>-0.042070</td>\n      <td>0.028458</td>\n      <td>0.004628</td>\n      <td>64.313854</td>\n      <td>0.000527</td>\n    </tr>\n    <tr>\n      <th>std</th>\n      <td>1610.716641</td>\n      <td>1.387190</td>\n      <td>1.192237</td>\n      <td>1.017261</td>\n      <td>1.438054</td>\n      <td>1.188912</td>\n      <td>1.360152</td>\n      <td>1.058691</td>\n      <td>1.282564</td>\n      <td>1.033939</td>\n      <td>...</td>\n      <td>0.885394</td>\n      <td>0.646718</td>\n      <td>0.373201</td>\n      <td>0.619711</td>\n      <td>0.405750</td>\n      <td>0.488857</td>\n      <td>0.355361</td>\n      <td>0.250528</td>\n      <td>193.125531</td>\n      <td>0.022942</td>\n    </tr>\n    <tr>\n      <th>min</th>\n      <td>0.000000</td>\n      <td>-12.168192</td>\n      <td>-15.732974</td>\n      <td>-12.389545</td>\n      <td>-4.657545</td>\n      <td>-32.092129</td>\n      <td>-7.465603</td>\n      <td>-12.968670</td>\n      <td>-23.632502</td>\n      <td>-3.336805</td>\n      <td>...</td>\n      <td>-11.468435</td>\n      <td>-8.454599</td>\n      <td>-7.996811</td>\n      <td>-2.512377</td>\n      <td>-2.322906</td>\n      <td>-1.338556</td>\n      <td>-7.976100</td>\n      <td>-2.909294</td>\n      <td>0.000000</td>\n      <td>0.000000</td>\n    </tr>\n    <tr>\n      <th>25%</th>\n      <td>1102.500000</td>\n      <td>-0.999311</td>\n      <td>-0.293840</td>\n      <td>0.293370</td>\n      <td>-0.864493</td>\n      <td>-0.605032</td>\n      <td>-0.681491</td>\n      <td>-0.490521</td>\n      <td>-0.189596</td>\n      <td>-0.285354</td>\n      <td>...</td>\n      <td>-0.255973</td>\n      <td>-0.593102</td>\n      <td>-0.187108</td>\n      <td>-0.346336</td>\n      <td>-0.150375</td>\n      <td>-0.404216</td>\n      <td>-0.048361</td>\n      <td>-0.017945</td>\n      <td>4.292500</td>\n      <td>0.000000</td>\n    </tr>\n    <tr>\n      <th>50%</th>\n      <td>2422.000000</td>\n      <td>-0.416184</td>\n      <td>0.339608</td>\n      <td>0.873099</td>\n      <td>0.130959</td>\n      <td>-0.080080</td>\n      <td>-0.154643</td>\n      <td>0.046899</td>\n      <td>0.038497</td>\n      <td>0.347791</td>\n      <td>...</td>\n      <td>-0.107095</td>\n      <td>-0.175943</td>\n      <td>-0.046937</td>\n      <td>0.097315</td>\n      <td>0.107786</td>\n      <td>-0.081901</td>\n      <td>0.017754</td>\n      <td>0.019326</td>\n      <td>15.375000</td>\n      <td>0.000000</td>\n    </tr>\n    <tr>\n      <th>75%</th>\n      <td>3756.000000</td>\n      <td>1.118828</td>\n      <td>0.929154</td>\n      <td>1.489720</td>\n      <td>1.052254</td>\n      <td>0.434341</td>\n      <td>0.594802</td>\n      <td>0.568084</td>\n      <td>0.340909</td>\n      <td>0.913015</td>\n      <td>...</td>\n      <td>0.064518</td>\n      <td>0.277250</td>\n      <td>0.087049</td>\n      <td>0.441617</td>\n      <td>0.355142</td>\n      <td>0.247535</td>\n      <td>0.160024</td>\n      <td>0.082166</td>\n      <td>56.310000</td>\n      <td>0.000000</td>\n    </tr>\n    <tr>\n      <th>max</th>\n      <td>5966.000000</td>\n      <td>1.685314</td>\n      <td>7.467017</td>\n      <td>4.101716</td>\n      <td>6.013346</td>\n      <td>10.658654</td>\n      <td>21.393069</td>\n      <td>34.303177</td>\n      <td>3.877662</td>\n      <td>9.272376</td>\n      <td>...</td>\n      <td>22.580675</td>\n      <td>4.393846</td>\n      <td>4.095021</td>\n      <td>3.200201</td>\n      <td>1.972515</td>\n      <td>3.463246</td>\n      <td>3.852046</td>\n      <td>4.712560</td>\n      <td>7712.430000</td>\n      <td>1.000000</td>\n    </tr>\n  </tbody>\n</table>\n<p>8 rows × 31 columns</p>\n</div>"
     },
     "execution_count": 7,
     "metadata": {},
     "output_type": "execute_result"
    }
   ],
   "source": [
    "df.describe()"
   ]
  },
  {
   "cell_type": "code",
   "execution_count": 8,
   "metadata": {
    "ExecuteTime": {
     "end_time": "2024-01-15T15:52:15.155160818Z",
     "start_time": "2024-01-15T15:52:15.118671439Z"
    }
   },
   "outputs": [],
   "source": [
    "df.dropna(axis=0, inplace=True)"
   ]
  },
  {
   "cell_type": "code",
   "execution_count": 9,
   "metadata": {
    "ExecuteTime": {
     "end_time": "2024-01-15T15:52:15.222248869Z",
     "start_time": "2024-01-15T15:52:15.123183787Z"
    }
   },
   "outputs": [
    {
     "data": {
      "text/plain": "'features:'"
     },
     "metadata": {},
     "output_type": "display_data"
    },
    {
     "data": {
      "text/plain": "      Time        V1        V2        V3        V4        V5        V6  \\\n0        0 -1.359807 -0.072781  2.536347  1.378155 -0.338321  0.462388   \n1        0  1.191857  0.266151  0.166480  0.448154  0.060018 -0.082361   \n2        1 -1.358354 -1.340163  1.773209  0.379780 -0.503198  1.800499   \n3        1 -0.966272 -0.185226  1.792993 -0.863291 -0.010309  1.247203   \n4        2 -1.158233  0.877737  1.548718  0.403034 -0.407193  0.095921   \n...    ...       ...       ...       ...       ...       ...       ...   \n5693  5959 -1.961528 -1.649726  1.744513 -2.169524 -0.001435 -0.314489   \n5694  5961  1.294332 -0.518962  0.510845 -0.398409 -0.943509 -0.534095   \n5695  5963 -0.639569 -0.173953  2.395093 -2.398385 -1.190948 -0.400312   \n5696  5964  1.312196  0.145264  0.251837  0.192722 -0.274677 -0.833531   \n5697  5965 -0.726563  0.057430  2.048219 -0.053918 -0.361339  0.222455   \n\n            V7        V8        V9  ...       V20       V21       V22  \\\n0     0.239599  0.098698  0.363787  ...  0.251412 -0.018307  0.277838   \n1    -0.078803  0.085102 -0.255425  ... -0.069083 -0.225775 -0.638672   \n2     0.791461  0.247676 -1.514654  ...  0.524980  0.247998  0.771679   \n3     0.237609  0.377436 -1.387024  ... -0.208038 -0.108300  0.005274   \n4     0.592941 -0.270533  0.817739  ...  0.408542 -0.009431  0.798278   \n...        ...       ...       ...  ...       ...       ...       ...   \n5693 -1.040532  0.096772 -0.315976  ... -0.570026 -0.327018 -0.071531   \n5694 -0.625023 -0.145938  0.524246  ... -0.525720 -0.600073 -1.078862   \n5695 -0.644067  0.109593 -1.022246  ... -0.243091 -0.165681  0.129695   \n5696 -0.058272 -0.272861  1.512985  ... -0.108500 -0.411743 -0.981416   \n5697 -0.248159  0.165977  1.393421  ... -0.018950  0.091965  0.767357   \n\n           V23       V24       V25       V26       V27       V28  Amount  \n0    -0.110474  0.066928  0.128539 -0.189115  0.133558 -0.021053  149.62  \n1     0.101288 -0.339846  0.167170  0.125895 -0.008983  0.014724    2.69  \n2     0.909412 -0.689281 -0.327642 -0.139097 -0.055353 -0.059752  378.66  \n3    -0.190321 -1.175575  0.647376 -0.221929  0.062723  0.061458  123.50  \n4    -0.137458  0.141267 -0.206010  0.502292  0.219422  0.215153   69.99  \n...        ...       ...       ...       ...       ...       ...     ...  \n5693  0.175223 -0.871324  0.524766 -0.123032  0.065383  0.312392   58.20  \n5694  0.166284  0.017758 -0.030545  0.893904 -0.074655  0.005298   37.10  \n5695 -0.278404  0.238205  0.341697 -0.223452  0.275049  0.111419   11.10  \n5696  0.057299 -0.147979  0.200664  0.807945 -0.116994 -0.005549   13.01  \n5697  0.184047  0.294458 -0.762278  1.485034 -0.027179  0.117886   34.90  \n\n[5698 rows x 30 columns]",
      "text/html": "<div>\n<style scoped>\n    .dataframe tbody tr th:only-of-type {\n        vertical-align: middle;\n    }\n\n    .dataframe tbody tr th {\n        vertical-align: top;\n    }\n\n    .dataframe thead th {\n        text-align: right;\n    }\n</style>\n<table border=\"1\" class=\"dataframe\">\n  <thead>\n    <tr style=\"text-align: right;\">\n      <th></th>\n      <th>Time</th>\n      <th>V1</th>\n      <th>V2</th>\n      <th>V3</th>\n      <th>V4</th>\n      <th>V5</th>\n      <th>V6</th>\n      <th>V7</th>\n      <th>V8</th>\n      <th>V9</th>\n      <th>...</th>\n      <th>V20</th>\n      <th>V21</th>\n      <th>V22</th>\n      <th>V23</th>\n      <th>V24</th>\n      <th>V25</th>\n      <th>V26</th>\n      <th>V27</th>\n      <th>V28</th>\n      <th>Amount</th>\n    </tr>\n  </thead>\n  <tbody>\n    <tr>\n      <th>0</th>\n      <td>0</td>\n      <td>-1.359807</td>\n      <td>-0.072781</td>\n      <td>2.536347</td>\n      <td>1.378155</td>\n      <td>-0.338321</td>\n      <td>0.462388</td>\n      <td>0.239599</td>\n      <td>0.098698</td>\n      <td>0.363787</td>\n      <td>...</td>\n      <td>0.251412</td>\n      <td>-0.018307</td>\n      <td>0.277838</td>\n      <td>-0.110474</td>\n      <td>0.066928</td>\n      <td>0.128539</td>\n      <td>-0.189115</td>\n      <td>0.133558</td>\n      <td>-0.021053</td>\n      <td>149.62</td>\n    </tr>\n    <tr>\n      <th>1</th>\n      <td>0</td>\n      <td>1.191857</td>\n      <td>0.266151</td>\n      <td>0.166480</td>\n      <td>0.448154</td>\n      <td>0.060018</td>\n      <td>-0.082361</td>\n      <td>-0.078803</td>\n      <td>0.085102</td>\n      <td>-0.255425</td>\n      <td>...</td>\n      <td>-0.069083</td>\n      <td>-0.225775</td>\n      <td>-0.638672</td>\n      <td>0.101288</td>\n      <td>-0.339846</td>\n      <td>0.167170</td>\n      <td>0.125895</td>\n      <td>-0.008983</td>\n      <td>0.014724</td>\n      <td>2.69</td>\n    </tr>\n    <tr>\n      <th>2</th>\n      <td>1</td>\n      <td>-1.358354</td>\n      <td>-1.340163</td>\n      <td>1.773209</td>\n      <td>0.379780</td>\n      <td>-0.503198</td>\n      <td>1.800499</td>\n      <td>0.791461</td>\n      <td>0.247676</td>\n      <td>-1.514654</td>\n      <td>...</td>\n      <td>0.524980</td>\n      <td>0.247998</td>\n      <td>0.771679</td>\n      <td>0.909412</td>\n      <td>-0.689281</td>\n      <td>-0.327642</td>\n      <td>-0.139097</td>\n      <td>-0.055353</td>\n      <td>-0.059752</td>\n      <td>378.66</td>\n    </tr>\n    <tr>\n      <th>3</th>\n      <td>1</td>\n      <td>-0.966272</td>\n      <td>-0.185226</td>\n      <td>1.792993</td>\n      <td>-0.863291</td>\n      <td>-0.010309</td>\n      <td>1.247203</td>\n      <td>0.237609</td>\n      <td>0.377436</td>\n      <td>-1.387024</td>\n      <td>...</td>\n      <td>-0.208038</td>\n      <td>-0.108300</td>\n      <td>0.005274</td>\n      <td>-0.190321</td>\n      <td>-1.175575</td>\n      <td>0.647376</td>\n      <td>-0.221929</td>\n      <td>0.062723</td>\n      <td>0.061458</td>\n      <td>123.50</td>\n    </tr>\n    <tr>\n      <th>4</th>\n      <td>2</td>\n      <td>-1.158233</td>\n      <td>0.877737</td>\n      <td>1.548718</td>\n      <td>0.403034</td>\n      <td>-0.407193</td>\n      <td>0.095921</td>\n      <td>0.592941</td>\n      <td>-0.270533</td>\n      <td>0.817739</td>\n      <td>...</td>\n      <td>0.408542</td>\n      <td>-0.009431</td>\n      <td>0.798278</td>\n      <td>-0.137458</td>\n      <td>0.141267</td>\n      <td>-0.206010</td>\n      <td>0.502292</td>\n      <td>0.219422</td>\n      <td>0.215153</td>\n      <td>69.99</td>\n    </tr>\n    <tr>\n      <th>...</th>\n      <td>...</td>\n      <td>...</td>\n      <td>...</td>\n      <td>...</td>\n      <td>...</td>\n      <td>...</td>\n      <td>...</td>\n      <td>...</td>\n      <td>...</td>\n      <td>...</td>\n      <td>...</td>\n      <td>...</td>\n      <td>...</td>\n      <td>...</td>\n      <td>...</td>\n      <td>...</td>\n      <td>...</td>\n      <td>...</td>\n      <td>...</td>\n      <td>...</td>\n      <td>...</td>\n    </tr>\n    <tr>\n      <th>5693</th>\n      <td>5959</td>\n      <td>-1.961528</td>\n      <td>-1.649726</td>\n      <td>1.744513</td>\n      <td>-2.169524</td>\n      <td>-0.001435</td>\n      <td>-0.314489</td>\n      <td>-1.040532</td>\n      <td>0.096772</td>\n      <td>-0.315976</td>\n      <td>...</td>\n      <td>-0.570026</td>\n      <td>-0.327018</td>\n      <td>-0.071531</td>\n      <td>0.175223</td>\n      <td>-0.871324</td>\n      <td>0.524766</td>\n      <td>-0.123032</td>\n      <td>0.065383</td>\n      <td>0.312392</td>\n      <td>58.20</td>\n    </tr>\n    <tr>\n      <th>5694</th>\n      <td>5961</td>\n      <td>1.294332</td>\n      <td>-0.518962</td>\n      <td>0.510845</td>\n      <td>-0.398409</td>\n      <td>-0.943509</td>\n      <td>-0.534095</td>\n      <td>-0.625023</td>\n      <td>-0.145938</td>\n      <td>0.524246</td>\n      <td>...</td>\n      <td>-0.525720</td>\n      <td>-0.600073</td>\n      <td>-1.078862</td>\n      <td>0.166284</td>\n      <td>0.017758</td>\n      <td>-0.030545</td>\n      <td>0.893904</td>\n      <td>-0.074655</td>\n      <td>0.005298</td>\n      <td>37.10</td>\n    </tr>\n    <tr>\n      <th>5695</th>\n      <td>5963</td>\n      <td>-0.639569</td>\n      <td>-0.173953</td>\n      <td>2.395093</td>\n      <td>-2.398385</td>\n      <td>-1.190948</td>\n      <td>-0.400312</td>\n      <td>-0.644067</td>\n      <td>0.109593</td>\n      <td>-1.022246</td>\n      <td>...</td>\n      <td>-0.243091</td>\n      <td>-0.165681</td>\n      <td>0.129695</td>\n      <td>-0.278404</td>\n      <td>0.238205</td>\n      <td>0.341697</td>\n      <td>-0.223452</td>\n      <td>0.275049</td>\n      <td>0.111419</td>\n      <td>11.10</td>\n    </tr>\n    <tr>\n      <th>5696</th>\n      <td>5964</td>\n      <td>1.312196</td>\n      <td>0.145264</td>\n      <td>0.251837</td>\n      <td>0.192722</td>\n      <td>-0.274677</td>\n      <td>-0.833531</td>\n      <td>-0.058272</td>\n      <td>-0.272861</td>\n      <td>1.512985</td>\n      <td>...</td>\n      <td>-0.108500</td>\n      <td>-0.411743</td>\n      <td>-0.981416</td>\n      <td>0.057299</td>\n      <td>-0.147979</td>\n      <td>0.200664</td>\n      <td>0.807945</td>\n      <td>-0.116994</td>\n      <td>-0.005549</td>\n      <td>13.01</td>\n    </tr>\n    <tr>\n      <th>5697</th>\n      <td>5965</td>\n      <td>-0.726563</td>\n      <td>0.057430</td>\n      <td>2.048219</td>\n      <td>-0.053918</td>\n      <td>-0.361339</td>\n      <td>0.222455</td>\n      <td>-0.248159</td>\n      <td>0.165977</td>\n      <td>1.393421</td>\n      <td>...</td>\n      <td>-0.018950</td>\n      <td>0.091965</td>\n      <td>0.767357</td>\n      <td>0.184047</td>\n      <td>0.294458</td>\n      <td>-0.762278</td>\n      <td>1.485034</td>\n      <td>-0.027179</td>\n      <td>0.117886</td>\n      <td>34.90</td>\n    </tr>\n  </tbody>\n</table>\n<p>5698 rows × 30 columns</p>\n</div>"
     },
     "metadata": {},
     "output_type": "display_data"
    },
    {
     "data": {
      "text/plain": "'target:'"
     },
     "metadata": {},
     "output_type": "display_data"
    },
    {
     "data": {
      "text/plain": "0       0.0\n1       0.0\n2       0.0\n3       0.0\n4       0.0\n       ... \n5693    0.0\n5694    0.0\n5695    0.0\n5696    0.0\n5697    0.0\nName: Class, Length: 5698, dtype: float64"
     },
     "metadata": {},
     "output_type": "display_data"
    }
   ],
   "source": [
    "# Creating X and y without balancing data\n",
    "\n",
    "X = df.drop(columns='Class')\n",
    "display(f'features:', X)\n",
    "y = df.Class\n",
    "display(f'target:', y)"
   ]
  },
  {
   "cell_type": "code",
   "execution_count": 10,
   "metadata": {
    "ExecuteTime": {
     "end_time": "2024-01-15T15:52:15.223862425Z",
     "start_time": "2024-01-15T15:52:15.145232394Z"
    }
   },
   "outputs": [],
   "source": [
    "from sklearn.model_selection import train_test_split\n",
    "\n",
    "X_train, X_test, y_train, y_test = train_test_split(X,y, test_size=0.3, random_state=42)"
   ]
  },
  {
   "cell_type": "code",
   "execution_count": 11,
   "metadata": {
    "ExecuteTime": {
     "end_time": "2024-01-15T15:52:15.343605740Z",
     "start_time": "2024-01-15T15:52:15.150263686Z"
    }
   },
   "outputs": [
    {
     "data": {
      "text/plain": "LogisticRegression()",
      "text/html": "<style>#sk-container-id-1 {color: black;}#sk-container-id-1 pre{padding: 0;}#sk-container-id-1 div.sk-toggleable {background-color: white;}#sk-container-id-1 label.sk-toggleable__label {cursor: pointer;display: block;width: 100%;margin-bottom: 0;padding: 0.3em;box-sizing: border-box;text-align: center;}#sk-container-id-1 label.sk-toggleable__label-arrow:before {content: \"▸\";float: left;margin-right: 0.25em;color: #696969;}#sk-container-id-1 label.sk-toggleable__label-arrow:hover:before {color: black;}#sk-container-id-1 div.sk-estimator:hover label.sk-toggleable__label-arrow:before {color: black;}#sk-container-id-1 div.sk-toggleable__content {max-height: 0;max-width: 0;overflow: hidden;text-align: left;background-color: #f0f8ff;}#sk-container-id-1 div.sk-toggleable__content pre {margin: 0.2em;color: black;border-radius: 0.25em;background-color: #f0f8ff;}#sk-container-id-1 input.sk-toggleable__control:checked~div.sk-toggleable__content {max-height: 200px;max-width: 100%;overflow: auto;}#sk-container-id-1 input.sk-toggleable__control:checked~label.sk-toggleable__label-arrow:before {content: \"▾\";}#sk-container-id-1 div.sk-estimator input.sk-toggleable__control:checked~label.sk-toggleable__label {background-color: #d4ebff;}#sk-container-id-1 div.sk-label input.sk-toggleable__control:checked~label.sk-toggleable__label {background-color: #d4ebff;}#sk-container-id-1 input.sk-hidden--visually {border: 0;clip: rect(1px 1px 1px 1px);clip: rect(1px, 1px, 1px, 1px);height: 1px;margin: -1px;overflow: hidden;padding: 0;position: absolute;width: 1px;}#sk-container-id-1 div.sk-estimator {font-family: monospace;background-color: #f0f8ff;border: 1px dotted black;border-radius: 0.25em;box-sizing: border-box;margin-bottom: 0.5em;}#sk-container-id-1 div.sk-estimator:hover {background-color: #d4ebff;}#sk-container-id-1 div.sk-parallel-item::after {content: \"\";width: 100%;border-bottom: 1px solid gray;flex-grow: 1;}#sk-container-id-1 div.sk-label:hover label.sk-toggleable__label {background-color: #d4ebff;}#sk-container-id-1 div.sk-serial::before {content: \"\";position: absolute;border-left: 1px solid gray;box-sizing: border-box;top: 0;bottom: 0;left: 50%;z-index: 0;}#sk-container-id-1 div.sk-serial {display: flex;flex-direction: column;align-items: center;background-color: white;padding-right: 0.2em;padding-left: 0.2em;position: relative;}#sk-container-id-1 div.sk-item {position: relative;z-index: 1;}#sk-container-id-1 div.sk-parallel {display: flex;align-items: stretch;justify-content: center;background-color: white;position: relative;}#sk-container-id-1 div.sk-item::before, #sk-container-id-1 div.sk-parallel-item::before {content: \"\";position: absolute;border-left: 1px solid gray;box-sizing: border-box;top: 0;bottom: 0;left: 50%;z-index: -1;}#sk-container-id-1 div.sk-parallel-item {display: flex;flex-direction: column;z-index: 1;position: relative;background-color: white;}#sk-container-id-1 div.sk-parallel-item:first-child::after {align-self: flex-end;width: 50%;}#sk-container-id-1 div.sk-parallel-item:last-child::after {align-self: flex-start;width: 50%;}#sk-container-id-1 div.sk-parallel-item:only-child::after {width: 0;}#sk-container-id-1 div.sk-dashed-wrapped {border: 1px dashed gray;margin: 0 0.4em 0.5em 0.4em;box-sizing: border-box;padding-bottom: 0.4em;background-color: white;}#sk-container-id-1 div.sk-label label {font-family: monospace;font-weight: bold;display: inline-block;line-height: 1.2em;}#sk-container-id-1 div.sk-label-container {text-align: center;}#sk-container-id-1 div.sk-container {/* jupyter's `normalize.less` sets `[hidden] { display: none; }` but bootstrap.min.css set `[hidden] { display: none !important; }` so we also need the `!important` here to be able to override the default hidden behavior on the sphinx rendered scikit-learn.org. See: https://github.com/scikit-learn/scikit-learn/issues/21755 */display: inline-block !important;position: relative;}#sk-container-id-1 div.sk-text-repr-fallback {display: none;}</style><div id=\"sk-container-id-1\" class=\"sk-top-container\"><div class=\"sk-text-repr-fallback\"><pre>LogisticRegression()</pre><b>In a Jupyter environment, please rerun this cell to show the HTML representation or trust the notebook. <br />On GitHub, the HTML representation is unable to render, please try loading this page with nbviewer.org.</b></div><div class=\"sk-container\" hidden><div class=\"sk-item\"><div class=\"sk-estimator sk-toggleable\"><input class=\"sk-toggleable__control sk-hidden--visually\" id=\"sk-estimator-id-1\" type=\"checkbox\" checked><label for=\"sk-estimator-id-1\" class=\"sk-toggleable__label sk-toggleable__label-arrow\">LogisticRegression</label><div class=\"sk-toggleable__content\"><pre>LogisticRegression()</pre></div></div></div></div></div>"
     },
     "execution_count": 11,
     "metadata": {},
     "output_type": "execute_result"
    }
   ],
   "source": [
    "from sklearn.linear_model import LogisticRegression\n",
    "from sklearn.metrics import accuracy_score, precision_score, recall_score, f1_score\n",
    "\n",
    "\n",
    "classifier_log = LogisticRegression()\n",
    "classifier_log.fit(X_train, y_train)"
   ]
  },
  {
   "cell_type": "code",
   "execution_count": 12,
   "metadata": {
    "ExecuteTime": {
     "end_time": "2024-01-15T15:52:15.345367131Z",
     "start_time": "2024-01-15T15:52:15.249574434Z"
    }
   },
   "outputs": [],
   "source": [
    "ypred_train = classifier_log.predict(X_train)"
   ]
  },
  {
   "cell_type": "code",
   "execution_count": 13,
   "metadata": {
    "ExecuteTime": {
     "end_time": "2024-01-15T15:52:15.415705597Z",
     "start_time": "2024-01-15T15:52:15.253519489Z"
    }
   },
   "outputs": [
    {
     "data": {
      "text/plain": "1.0"
     },
     "execution_count": 13,
     "metadata": {},
     "output_type": "execute_result"
    }
   ],
   "source": [
    "accuracy_score(y_train, ypred_train)"
   ]
  },
  {
   "cell_type": "code",
   "execution_count": 14,
   "metadata": {
    "ExecuteTime": {
     "end_time": "2024-01-15T15:52:15.417364798Z",
     "start_time": "2024-01-15T15:52:15.300118088Z"
    }
   },
   "outputs": [
    {
     "data": {
      "text/plain": "1.0"
     },
     "execution_count": 14,
     "metadata": {},
     "output_type": "execute_result"
    }
   ],
   "source": [
    "f1_score(y_train, ypred_train)"
   ]
  },
  {
   "cell_type": "code",
   "execution_count": 15,
   "metadata": {
    "ExecuteTime": {
     "end_time": "2024-01-15T15:52:15.418888968Z",
     "start_time": "2024-01-15T15:52:15.300357653Z"
    }
   },
   "outputs": [
    {
     "data": {
      "text/plain": "1.0"
     },
     "execution_count": 15,
     "metadata": {},
     "output_type": "execute_result"
    }
   ],
   "source": [
    "f1_score(y_train, ypred_train, average=\"weighted\")"
   ]
  },
  {
   "cell_type": "markdown",
   "metadata": {},
   "source": [
    "Acc_score : 0.9997 <br>\n",
    "f1_score : 0.6666 \n",
    "\n",
    "Very big difference between the two that means acc not reliable as the dataset is not Balanced"
   ]
  },
  {
   "cell_type": "code",
   "execution_count": 16,
   "metadata": {
    "ExecuteTime": {
     "end_time": "2024-01-15T15:52:15.424284936Z",
     "start_time": "2024-01-15T15:52:15.300517069Z"
    }
   },
   "outputs": [
    {
     "data": {
      "text/plain": "1436    0.0\n748     0.0\n4596    0.0\n1448    0.0\n2543    0.0\n       ... \n937     0.0\n3075    0.0\n4708    0.0\n752     0.0\n1813    0.0\nName: Class, Length: 1710, dtype: float64"
     },
     "execution_count": 16,
     "metadata": {},
     "output_type": "execute_result"
    }
   ],
   "source": [
    "y_test"
   ]
  },
  {
   "cell_type": "code",
   "execution_count": 17,
   "metadata": {
    "ExecuteTime": {
     "end_time": "2024-01-15T15:52:15.654909664Z",
     "start_time": "2024-01-15T15:52:15.300668590Z"
    }
   },
   "outputs": [
    {
     "ename": "NameError",
     "evalue": "name 'ypred_test' is not defined",
     "output_type": "error",
     "traceback": [
      "\u001B[0;31m---------------------------------------------------------------------------\u001B[0m",
      "\u001B[0;31mNameError\u001B[0m                                 Traceback (most recent call last)",
      "Cell \u001B[0;32mIn[17], line 1\u001B[0m\n\u001B[0;32m----> 1\u001B[0m pd\u001B[38;5;241m.\u001B[39mcrosstab(y_test, \u001B[43mypred_test\u001B[49m)\n",
      "\u001B[0;31mNameError\u001B[0m: name 'ypred_test' is not defined"
     ]
    }
   ],
   "source": [
    "pd.crosstab(y_test, ypred_test)"
   ]
  },
  {
   "cell_type": "code",
   "execution_count": null,
   "metadata": {
    "ExecuteTime": {
     "start_time": "2024-01-15T15:52:15.576301934Z"
    }
   },
   "outputs": [],
   "source": [
    "f1_score(y_test, ypred_test)"
   ]
  },
  {
   "cell_type": "code",
   "execution_count": null,
   "metadata": {
    "ExecuteTime": {
     "start_time": "2024-01-15T15:52:15.579876752Z"
    }
   },
   "outputs": [],
   "source": [
    "ypred_test = classifier_log.predict(X_test)\n",
    "\n",
    "display(f'accuracy_score : {accuracy_score(y_test, ypred_test)}')\n",
    "# display(f'f1_score not weighted : {f1_score(y_test, ypred_test)}')\n",
    "display(\n",
    "    f'f1_score weighted : {f1_score(y_test, ypred_test, average=\"weighted\")}')"
   ]
  },
  {
   "cell_type": "markdown",
   "metadata": {},
   "source": [
    "**Class weights** are often used in machine learning *when dealing with* **imbalanced datasets**. Imbalanced datasets occur when one class has significantly fewer samples than another class. *In such cases, the model may become biased towards the majority class, leading to poor performance on the minority class.* **Class weights** help *address* this issue by giving more **importance to the minority class** during training.\n",
    "\n",
    "In scikit-learn, many classifiers accept a class_weight parameter that allows you to assign different weights to different classes. The most common values for the** class_weight parameter** are:\n",
    "\n",
    "+ **None:** All classes are treated equally.\n",
    "+ **'balanced':** Automatically adjust weights inversely proportional to class frequencies in the input data.\n",
    "+ **Custom dictionary:** You can manually specify weights for each class using a dictionary.\n",
    "Here's an example using the class_weight parameter in scikit-learn:"
   ]
  },
  {
   "cell_type": "markdown",
   "metadata": {},
   "source": [
    "### Class_weight\n",
    "#### Balanced"
   ]
  },
  {
   "cell_type": "code",
   "execution_count": null,
   "metadata": {
    "ExecuteTime": {
     "start_time": "2024-01-15T15:52:15.583414289Z"
    }
   },
   "outputs": [],
   "source": [
    "# Balanced Classifier \n",
    "\n",
    "classifier_log_balanced = LogisticRegression(class_weight='balanced')"
   ]
  },
  {
   "cell_type": "code",
   "execution_count": null,
   "metadata": {
    "ExecuteTime": {
     "start_time": "2024-01-15T15:52:15.587607475Z"
    }
   },
   "outputs": [],
   "source": [
    "classifier_log_balanced.fit(X_train, y_train)"
   ]
  },
  {
   "cell_type": "code",
   "execution_count": null,
   "metadata": {
    "ExecuteTime": {
     "start_time": "2024-01-15T15:52:15.591558511Z"
    }
   },
   "outputs": [],
   "source": [
    "ypred_train = classifier_log_balanced.predict(X_train)\n",
    "\n",
    "f1_score(y_train, ypred_train)"
   ]
  },
  {
   "cell_type": "code",
   "execution_count": null,
   "metadata": {
    "ExecuteTime": {
     "start_time": "2024-01-15T15:52:15.595894070Z"
    }
   },
   "outputs": [],
   "source": [
    "f1_score(y_train, ypred_train, average=\"weighted\")"
   ]
  },
  {
   "cell_type": "code",
   "execution_count": null,
   "metadata": {
    "ExecuteTime": {
     "start_time": "2024-01-15T15:52:15.600685517Z"
    }
   },
   "outputs": [],
   "source": [
    "ypred_test = classifier_log_balanced.predict(X_test)\n",
    "\n",
    "f1_score(y_test, ypred_test, average=\"weighted\")"
   ]
  },
  {
   "cell_type": "code",
   "execution_count": null,
   "metadata": {
    "ExecuteTime": {
     "start_time": "2024-01-15T15:52:15.605349567Z"
    }
   },
   "outputs": [],
   "source": [
    "accuracy_score(y_train, ypred_train)"
   ]
  },
  {
   "cell_type": "code",
   "execution_count": null,
   "metadata": {
    "ExecuteTime": {
     "start_time": "2024-01-15T15:52:15.609070986Z"
    }
   },
   "outputs": [],
   "source": [
    "accuracy_score(y_test, ypred_test)"
   ]
  },
  {
   "cell_type": "markdown",
   "metadata": {},
   "source": [
    "#### Dictionary Weights"
   ]
  },
  {
   "cell_type": "code",
   "execution_count": null,
   "metadata": {
    "ExecuteTime": {
     "start_time": "2024-01-15T15:52:15.611693425Z"
    }
   },
   "outputs": [],
   "source": [
    "# Define class weights (optional)\n",
    "class_weights = {\n",
    "    0: 1,\n",
    "    1: 5\n",
    "} # giving more weigth onto the class 1 because it is less represented\n",
    "\n",
    "classifier_log_manually_weighted = LogisticRegression(\n",
    "    class_weight = class_weights\n",
    ").fit(X_train, y_train)\n",
    "\n",
    "\n",
    "y_pred_train = classifier_log_manually_weighted.predict(X_train)\n",
    "\n",
    "f1_score(y_train, y_pred_train)"
   ]
  },
  {
   "cell_type": "code",
   "execution_count": null,
   "metadata": {
    "ExecuteTime": {
     "start_time": "2024-01-15T15:52:15.614231307Z"
    }
   },
   "outputs": [],
   "source": [
    "glass_df= pd.read_csv('glass_csv.csv')\n",
    "glass_df"
   ]
  },
  {
   "cell_type": "code",
   "execution_count": null,
   "metadata": {
    "ExecuteTime": {
     "start_time": "2024-01-15T15:52:15.616347236Z"
    }
   },
   "outputs": [],
   "source": [
    "glass_df.Type.value_counts()"
   ]
  },
  {
   "cell_type": "code",
   "execution_count": null,
   "metadata": {
    "ExecuteTime": {
     "end_time": "2024-01-15T15:52:15.791414871Z",
     "start_time": "2024-01-15T15:52:15.660044909Z"
    }
   },
   "outputs": [],
   "source": [
    "glass_df.info()"
   ]
  },
  {
   "cell_type": "code",
   "execution_count": null,
   "metadata": {
    "ExecuteTime": {
     "start_time": "2024-01-15T15:52:15.660203443Z"
    }
   },
   "outputs": [],
   "source": [
    "X = glass_df.drop(axis=1, columns=\"Type\")\n",
    "y= glass_df.Type"
   ]
  },
  {
   "cell_type": "code",
   "execution_count": null,
   "metadata": {
    "ExecuteTime": {
     "start_time": "2024-01-15T15:52:15.660345747Z"
    }
   },
   "outputs": [],
   "source": [
    "X_train, X_test, y_train, y_test = train_test_split(X,y, test_size=0.2, random_state=42)"
   ]
  },
  {
   "cell_type": "code",
   "execution_count": null,
   "metadata": {
    "ExecuteTime": {
     "start_time": "2024-01-15T15:52:15.660478464Z"
    }
   },
   "outputs": [],
   "source": [
    "classifier_glass = LogisticRegression().fit(X_train, y_train)\n",
    "classifier_glass_weighted = LogisticRegression(class_weight='balanced').fit(X_train, y_train)"
   ]
  },
  {
   "cell_type": "code",
   "execution_count": null,
   "metadata": {
    "ExecuteTime": {
     "start_time": "2024-01-15T15:52:15.660630005Z"
    }
   },
   "outputs": [],
   "source": [
    "y_pred_train_ = classifier_glass.predict(X_train)\n",
    "y_pred_train_w = classifier_glass_weighted.predict(X_train)\n",
    "\n",
    "\n",
    "display(f1_score(y_train, y_pred_train_, average='weighted'))\n",
    "display(f1_score(y_train, y_pred_train_w, average='weighted'))"
   ]
  },
  {
   "cell_type": "code",
   "execution_count": null,
   "metadata": {
    "ExecuteTime": {
     "start_time": "2024-01-15T15:52:15.660726775Z"
    }
   },
   "outputs": [],
   "source": [
    "accuracy_score(y_train, y_pred_train_)"
   ]
  },
  {
   "cell_type": "code",
   "execution_count": null,
   "metadata": {
    "ExecuteTime": {
     "start_time": "2024-01-15T15:52:15.660821841Z"
    }
   },
   "outputs": [],
   "source": [
    "accuracy_score(y_train, y_pred_train_w)"
   ]
  },
  {
   "cell_type": "code",
   "execution_count": null,
   "metadata": {
    "ExecuteTime": {
     "start_time": "2024-01-15T15:52:15.660957864Z"
    }
   },
   "outputs": [],
   "source": [
    "y_pred_test_ = classifier_glass.predict(X_test)\n",
    "y_pred_test_w = classifier_glass_weighted.predict(X_test)\n",
    "\n",
    "\n",
    "display(f1_score(y_test, y_pred_test_, average='weighted'))\n",
    "display(f1_score(y_test, y_pred_test_w, average='weighted'))"
   ]
  },
  {
   "cell_type": "code",
   "execution_count": null,
   "metadata": {
    "ExecuteTime": {
     "start_time": "2024-01-15T15:52:15.661094447Z"
    }
   },
   "outputs": [],
   "source": [
    "accuracy_score(y_test, y_pred_test_w)"
   ]
  },
  {
   "cell_type": "code",
   "execution_count": null,
   "metadata": {
    "ExecuteTime": {
     "start_time": "2024-01-15T15:52:15.661240859Z"
    }
   },
   "outputs": [],
   "source": [
    "from sklearn.metrics import  classification_report\n",
    "\n",
    "\n",
    "print(classification_report(y_test, y_pred_test_w))"
   ]
  },
  {
   "cell_type": "code",
   "execution_count": null,
   "metadata": {
    "ExecuteTime": {
     "start_time": "2024-01-15T15:52:15.661383283Z"
    }
   },
   "outputs": [],
   "source": []
  },
  {
   "cell_type": "code",
   "outputs": [],
   "source": [],
   "metadata": {
    "collapsed": false
   }
  }
 ],
 "metadata": {
  "kernelspec": {
   "display_name": "base",
   "language": "python",
   "name": "python3"
  },
  "language_info": {
   "codemirror_mode": {
    "name": "ipython",
    "version": 3
   },
   "file_extension": ".py",
   "mimetype": "text/x-python",
   "name": "python",
   "nbconvert_exporter": "python",
   "pygments_lexer": "ipython3",
   "version": "3.8.17"
  }
 },
 "nbformat": 4,
 "nbformat_minor": 2
}
