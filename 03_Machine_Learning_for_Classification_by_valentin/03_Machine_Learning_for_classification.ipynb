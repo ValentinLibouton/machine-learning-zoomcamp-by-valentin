{
 "cells": [
  {
   "cell_type": "markdown",
   "source": [
    "# 3. Machine Learning for Classification\n",
    "We'll une logistic regression to predict churn\n",
    "## 3.1 Chrun prediction project\n",
    "* Dataset: https://www.kaggle.com/datasets/blastchar/telco-customer-churn\n",
    "* File: https://raw.githubusercontent.com/alexeygrigorev/mlbookcamp-code/master/chapter-03-churn-prediction/WA_Fn-UseC_-Telco-Customer-Churn.csv\n",
    "## 3.2 Data preparation\n",
    "* Download the data, read it with pandas\n",
    "* Look at the data\n",
    "* Make column names and values look uniform\n",
    "* Check if all the columns read correctly\n",
    "* Check if the churn variable needs any preparation\n",
    "\n"
   ],
   "metadata": {
    "collapsed": false
   },
   "id": "575551aebcef9b17"
  },
  {
   "cell_type": "code",
   "outputs": [],
   "source": [
    "import pandas as pd\n",
    "import numpy as np\n",
    "import matplotlib.pyplot as plt"
   ],
   "metadata": {
    "collapsed": false,
    "ExecuteTime": {
     "end_time": "2024-01-12T08:02:14.235991836Z",
     "start_time": "2024-01-12T08:02:11.158826454Z"
    }
   },
   "id": "9aee310b77e2839e",
   "execution_count": 1
  },
  {
   "cell_type": "code",
   "outputs": [],
   "source": [
    "data_url = 'https://raw.githubusercontent.com/alexeygrigorev/mlbookcamp-code/master/chapter-03-churn-prediction/WA_Fn-UseC_-Telco-Customer-Churn.csv'"
   ],
   "metadata": {
    "collapsed": false,
    "ExecuteTime": {
     "end_time": "2024-01-12T08:02:14.429243Z",
     "start_time": "2024-01-12T08:02:13.672680324Z"
    }
   },
   "id": "133adda5be0c0403",
   "execution_count": 2
  },
  {
   "cell_type": "code",
   "outputs": [
    {
     "name": "stdout",
     "output_type": "stream",
     "text": [
      "Le fichier data-week-3.csv existe déjà.\n"
     ]
    }
   ],
   "source": [
    "import os\n",
    "filename = 'data-week-3.csv'\n",
    "if not os.path.exists(filename):\n",
    "    os.system(f'wget {data_url} -O data-week-3.csv')\n",
    "    print(f\"Le fichier {filename} a été téléchargé avec succès.\")\n",
    "else:\n",
    "    # Si le fichier existe déjà, imprimez un message\n",
    "    print(f\"Le fichier {filename} existe déjà.\")"
   ],
   "metadata": {
    "collapsed": false,
    "ExecuteTime": {
     "end_time": "2024-01-12T08:02:14.516077502Z",
     "start_time": "2024-01-12T08:02:13.682133177Z"
    }
   },
   "id": "5c106fb0901ce12e",
   "execution_count": 3
  },
  {
   "cell_type": "code",
   "outputs": [
    {
     "data": {
      "text/plain": "   customerID  gender  SeniorCitizen Partner Dependents  tenure PhoneService  \\\n0  7590-VHVEG  Female              0     Yes         No       1           No   \n1  5575-GNVDE    Male              0      No         No      34          Yes   \n2  3668-QPYBK    Male              0      No         No       2          Yes   \n3  7795-CFOCW    Male              0      No         No      45           No   \n4  9237-HQITU  Female              0      No         No       2          Yes   \n\n      MultipleLines InternetService OnlineSecurity  ... DeviceProtection  \\\n0  No phone service             DSL             No  ...               No   \n1                No             DSL            Yes  ...              Yes   \n2                No             DSL            Yes  ...               No   \n3  No phone service             DSL            Yes  ...              Yes   \n4                No     Fiber optic             No  ...               No   \n\n  TechSupport StreamingTV StreamingMovies        Contract PaperlessBilling  \\\n0          No          No              No  Month-to-month              Yes   \n1          No          No              No        One year               No   \n2          No          No              No  Month-to-month              Yes   \n3         Yes          No              No        One year               No   \n4          No          No              No  Month-to-month              Yes   \n\n               PaymentMethod MonthlyCharges  TotalCharges Churn  \n0           Electronic check          29.85         29.85    No  \n1               Mailed check          56.95        1889.5    No  \n2               Mailed check          53.85        108.15   Yes  \n3  Bank transfer (automatic)          42.30       1840.75    No  \n4           Electronic check          70.70        151.65   Yes  \n\n[5 rows x 21 columns]",
      "text/html": "<div>\n<style scoped>\n    .dataframe tbody tr th:only-of-type {\n        vertical-align: middle;\n    }\n\n    .dataframe tbody tr th {\n        vertical-align: top;\n    }\n\n    .dataframe thead th {\n        text-align: right;\n    }\n</style>\n<table border=\"1\" class=\"dataframe\">\n  <thead>\n    <tr style=\"text-align: right;\">\n      <th></th>\n      <th>customerID</th>\n      <th>gender</th>\n      <th>SeniorCitizen</th>\n      <th>Partner</th>\n      <th>Dependents</th>\n      <th>tenure</th>\n      <th>PhoneService</th>\n      <th>MultipleLines</th>\n      <th>InternetService</th>\n      <th>OnlineSecurity</th>\n      <th>...</th>\n      <th>DeviceProtection</th>\n      <th>TechSupport</th>\n      <th>StreamingTV</th>\n      <th>StreamingMovies</th>\n      <th>Contract</th>\n      <th>PaperlessBilling</th>\n      <th>PaymentMethod</th>\n      <th>MonthlyCharges</th>\n      <th>TotalCharges</th>\n      <th>Churn</th>\n    </tr>\n  </thead>\n  <tbody>\n    <tr>\n      <th>0</th>\n      <td>7590-VHVEG</td>\n      <td>Female</td>\n      <td>0</td>\n      <td>Yes</td>\n      <td>No</td>\n      <td>1</td>\n      <td>No</td>\n      <td>No phone service</td>\n      <td>DSL</td>\n      <td>No</td>\n      <td>...</td>\n      <td>No</td>\n      <td>No</td>\n      <td>No</td>\n      <td>No</td>\n      <td>Month-to-month</td>\n      <td>Yes</td>\n      <td>Electronic check</td>\n      <td>29.85</td>\n      <td>29.85</td>\n      <td>No</td>\n    </tr>\n    <tr>\n      <th>1</th>\n      <td>5575-GNVDE</td>\n      <td>Male</td>\n      <td>0</td>\n      <td>No</td>\n      <td>No</td>\n      <td>34</td>\n      <td>Yes</td>\n      <td>No</td>\n      <td>DSL</td>\n      <td>Yes</td>\n      <td>...</td>\n      <td>Yes</td>\n      <td>No</td>\n      <td>No</td>\n      <td>No</td>\n      <td>One year</td>\n      <td>No</td>\n      <td>Mailed check</td>\n      <td>56.95</td>\n      <td>1889.5</td>\n      <td>No</td>\n    </tr>\n    <tr>\n      <th>2</th>\n      <td>3668-QPYBK</td>\n      <td>Male</td>\n      <td>0</td>\n      <td>No</td>\n      <td>No</td>\n      <td>2</td>\n      <td>Yes</td>\n      <td>No</td>\n      <td>DSL</td>\n      <td>Yes</td>\n      <td>...</td>\n      <td>No</td>\n      <td>No</td>\n      <td>No</td>\n      <td>No</td>\n      <td>Month-to-month</td>\n      <td>Yes</td>\n      <td>Mailed check</td>\n      <td>53.85</td>\n      <td>108.15</td>\n      <td>Yes</td>\n    </tr>\n    <tr>\n      <th>3</th>\n      <td>7795-CFOCW</td>\n      <td>Male</td>\n      <td>0</td>\n      <td>No</td>\n      <td>No</td>\n      <td>45</td>\n      <td>No</td>\n      <td>No phone service</td>\n      <td>DSL</td>\n      <td>Yes</td>\n      <td>...</td>\n      <td>Yes</td>\n      <td>Yes</td>\n      <td>No</td>\n      <td>No</td>\n      <td>One year</td>\n      <td>No</td>\n      <td>Bank transfer (automatic)</td>\n      <td>42.30</td>\n      <td>1840.75</td>\n      <td>No</td>\n    </tr>\n    <tr>\n      <th>4</th>\n      <td>9237-HQITU</td>\n      <td>Female</td>\n      <td>0</td>\n      <td>No</td>\n      <td>No</td>\n      <td>2</td>\n      <td>Yes</td>\n      <td>No</td>\n      <td>Fiber optic</td>\n      <td>No</td>\n      <td>...</td>\n      <td>No</td>\n      <td>No</td>\n      <td>No</td>\n      <td>No</td>\n      <td>Month-to-month</td>\n      <td>Yes</td>\n      <td>Electronic check</td>\n      <td>70.70</td>\n      <td>151.65</td>\n      <td>Yes</td>\n    </tr>\n  </tbody>\n</table>\n<p>5 rows × 21 columns</p>\n</div>"
     },
     "execution_count": 4,
     "metadata": {},
     "output_type": "execute_result"
    }
   ],
   "source": [
    "df = pd.read_csv(filename)\n",
    "df.head()"
   ],
   "metadata": {
    "collapsed": false,
    "ExecuteTime": {
     "end_time": "2024-01-12T08:02:14.606528765Z",
     "start_time": "2024-01-12T08:02:13.700809268Z"
    }
   },
   "id": "b61a6adb50fb1117",
   "execution_count": 4
  },
  {
   "cell_type": "code",
   "outputs": [
    {
     "data": {
      "text/plain": "                                 0             1               2  \\\ncustomerID              7590-VHVEG    5575-GNVDE      3668-QPYBK   \ngender                      Female          Male            Male   \nSeniorCitizen                    0             0               0   \nPartner                        Yes            No              No   \nDependents                      No            No              No   \ntenure                           1            34               2   \nPhoneService                    No           Yes             Yes   \nMultipleLines     No phone service            No              No   \nInternetService                DSL           DSL             DSL   \nOnlineSecurity                  No           Yes             Yes   \nOnlineBackup                   Yes            No             Yes   \nDeviceProtection                No           Yes              No   \nTechSupport                     No            No              No   \nStreamingTV                     No            No              No   \nStreamingMovies                 No            No              No   \nContract            Month-to-month      One year  Month-to-month   \nPaperlessBilling               Yes            No             Yes   \nPaymentMethod     Electronic check  Mailed check    Mailed check   \nMonthlyCharges               29.85         56.95           53.85   \nTotalCharges                 29.85        1889.5          108.15   \nChurn                           No            No             Yes   \n\n                                          3                 4  \ncustomerID                       7795-CFOCW        9237-HQITU  \ngender                                 Male            Female  \nSeniorCitizen                             0                 0  \nPartner                                  No                No  \nDependents                               No                No  \ntenure                                   45                 2  \nPhoneService                             No               Yes  \nMultipleLines              No phone service                No  \nInternetService                         DSL       Fiber optic  \nOnlineSecurity                          Yes                No  \nOnlineBackup                             No                No  \nDeviceProtection                        Yes                No  \nTechSupport                             Yes                No  \nStreamingTV                              No                No  \nStreamingMovies                          No                No  \nContract                           One year    Month-to-month  \nPaperlessBilling                         No               Yes  \nPaymentMethod     Bank transfer (automatic)  Electronic check  \nMonthlyCharges                         42.3              70.7  \nTotalCharges                        1840.75            151.65  \nChurn                                    No               Yes  ",
      "text/html": "<div>\n<style scoped>\n    .dataframe tbody tr th:only-of-type {\n        vertical-align: middle;\n    }\n\n    .dataframe tbody tr th {\n        vertical-align: top;\n    }\n\n    .dataframe thead th {\n        text-align: right;\n    }\n</style>\n<table border=\"1\" class=\"dataframe\">\n  <thead>\n    <tr style=\"text-align: right;\">\n      <th></th>\n      <th>0</th>\n      <th>1</th>\n      <th>2</th>\n      <th>3</th>\n      <th>4</th>\n    </tr>\n  </thead>\n  <tbody>\n    <tr>\n      <th>customerID</th>\n      <td>7590-VHVEG</td>\n      <td>5575-GNVDE</td>\n      <td>3668-QPYBK</td>\n      <td>7795-CFOCW</td>\n      <td>9237-HQITU</td>\n    </tr>\n    <tr>\n      <th>gender</th>\n      <td>Female</td>\n      <td>Male</td>\n      <td>Male</td>\n      <td>Male</td>\n      <td>Female</td>\n    </tr>\n    <tr>\n      <th>SeniorCitizen</th>\n      <td>0</td>\n      <td>0</td>\n      <td>0</td>\n      <td>0</td>\n      <td>0</td>\n    </tr>\n    <tr>\n      <th>Partner</th>\n      <td>Yes</td>\n      <td>No</td>\n      <td>No</td>\n      <td>No</td>\n      <td>No</td>\n    </tr>\n    <tr>\n      <th>Dependents</th>\n      <td>No</td>\n      <td>No</td>\n      <td>No</td>\n      <td>No</td>\n      <td>No</td>\n    </tr>\n    <tr>\n      <th>tenure</th>\n      <td>1</td>\n      <td>34</td>\n      <td>2</td>\n      <td>45</td>\n      <td>2</td>\n    </tr>\n    <tr>\n      <th>PhoneService</th>\n      <td>No</td>\n      <td>Yes</td>\n      <td>Yes</td>\n      <td>No</td>\n      <td>Yes</td>\n    </tr>\n    <tr>\n      <th>MultipleLines</th>\n      <td>No phone service</td>\n      <td>No</td>\n      <td>No</td>\n      <td>No phone service</td>\n      <td>No</td>\n    </tr>\n    <tr>\n      <th>InternetService</th>\n      <td>DSL</td>\n      <td>DSL</td>\n      <td>DSL</td>\n      <td>DSL</td>\n      <td>Fiber optic</td>\n    </tr>\n    <tr>\n      <th>OnlineSecurity</th>\n      <td>No</td>\n      <td>Yes</td>\n      <td>Yes</td>\n      <td>Yes</td>\n      <td>No</td>\n    </tr>\n    <tr>\n      <th>OnlineBackup</th>\n      <td>Yes</td>\n      <td>No</td>\n      <td>Yes</td>\n      <td>No</td>\n      <td>No</td>\n    </tr>\n    <tr>\n      <th>DeviceProtection</th>\n      <td>No</td>\n      <td>Yes</td>\n      <td>No</td>\n      <td>Yes</td>\n      <td>No</td>\n    </tr>\n    <tr>\n      <th>TechSupport</th>\n      <td>No</td>\n      <td>No</td>\n      <td>No</td>\n      <td>Yes</td>\n      <td>No</td>\n    </tr>\n    <tr>\n      <th>StreamingTV</th>\n      <td>No</td>\n      <td>No</td>\n      <td>No</td>\n      <td>No</td>\n      <td>No</td>\n    </tr>\n    <tr>\n      <th>StreamingMovies</th>\n      <td>No</td>\n      <td>No</td>\n      <td>No</td>\n      <td>No</td>\n      <td>No</td>\n    </tr>\n    <tr>\n      <th>Contract</th>\n      <td>Month-to-month</td>\n      <td>One year</td>\n      <td>Month-to-month</td>\n      <td>One year</td>\n      <td>Month-to-month</td>\n    </tr>\n    <tr>\n      <th>PaperlessBilling</th>\n      <td>Yes</td>\n      <td>No</td>\n      <td>Yes</td>\n      <td>No</td>\n      <td>Yes</td>\n    </tr>\n    <tr>\n      <th>PaymentMethod</th>\n      <td>Electronic check</td>\n      <td>Mailed check</td>\n      <td>Mailed check</td>\n      <td>Bank transfer (automatic)</td>\n      <td>Electronic check</td>\n    </tr>\n    <tr>\n      <th>MonthlyCharges</th>\n      <td>29.85</td>\n      <td>56.95</td>\n      <td>53.85</td>\n      <td>42.3</td>\n      <td>70.7</td>\n    </tr>\n    <tr>\n      <th>TotalCharges</th>\n      <td>29.85</td>\n      <td>1889.5</td>\n      <td>108.15</td>\n      <td>1840.75</td>\n      <td>151.65</td>\n    </tr>\n    <tr>\n      <th>Churn</th>\n      <td>No</td>\n      <td>No</td>\n      <td>Yes</td>\n      <td>No</td>\n      <td>Yes</td>\n    </tr>\n  </tbody>\n</table>\n</div>"
     },
     "execution_count": 5,
     "metadata": {},
     "output_type": "execute_result"
    }
   ],
   "source": [
    "df.head().T"
   ],
   "metadata": {
    "collapsed": false,
    "ExecuteTime": {
     "end_time": "2024-01-12T08:02:14.648865045Z",
     "start_time": "2024-01-12T08:02:13.832071879Z"
    }
   },
   "id": "2077b9f629eea7ad",
   "execution_count": 5
  },
  {
   "cell_type": "code",
   "outputs": [
    {
     "data": {
      "text/plain": "Index(['customerID', 'gender', 'SeniorCitizen', 'Partner', 'Dependents',\n       'tenure', 'PhoneService', 'MultipleLines', 'InternetService',\n       'OnlineSecurity', 'OnlineBackup', 'DeviceProtection', 'TechSupport',\n       'StreamingTV', 'StreamingMovies', 'Contract', 'PaperlessBilling',\n       'PaymentMethod', 'MonthlyCharges', 'TotalCharges', 'Churn'],\n      dtype='object')"
     },
     "execution_count": 6,
     "metadata": {},
     "output_type": "execute_result"
    }
   ],
   "source": [
    "df.columns"
   ],
   "metadata": {
    "collapsed": false,
    "ExecuteTime": {
     "end_time": "2024-01-12T08:02:14.724942136Z",
     "start_time": "2024-01-12T08:02:13.879261569Z"
    }
   },
   "id": "fc602de3e3a99280",
   "execution_count": 6
  },
  {
   "cell_type": "code",
   "outputs": [
    {
     "data": {
      "text/plain": "   customerid  gender  seniorcitizen partner dependents  tenure phoneservice  \\\n0  7590-vhveg  female              0     yes         no       1           no   \n1  5575-gnvde    male              0      no         no      34          yes   \n2  3668-qpybk    male              0      no         no       2          yes   \n3  7795-cfocw    male              0      no         no      45           no   \n4  9237-hqitu  female              0      no         no       2          yes   \n\n      multiplelines internetservice onlinesecurity  ... deviceprotection  \\\n0  no_phone_service             dsl             no  ...               no   \n1                no             dsl            yes  ...              yes   \n2                no             dsl            yes  ...               no   \n3  no_phone_service             dsl            yes  ...              yes   \n4                no     fiber_optic             no  ...               no   \n\n  techsupport streamingtv streamingmovies        contract paperlessbilling  \\\n0          no          no              no  month-to-month              yes   \n1          no          no              no        one_year               no   \n2          no          no              no  month-to-month              yes   \n3         yes          no              no        one_year               no   \n4          no          no              no  month-to-month              yes   \n\n               paymentmethod monthlycharges  totalcharges churn  \n0           electronic_check          29.85         29.85    no  \n1               mailed_check          56.95        1889.5    no  \n2               mailed_check          53.85        108.15   yes  \n3  bank_transfer_(automatic)          42.30       1840.75    no  \n4           electronic_check          70.70        151.65   yes  \n\n[5 rows x 21 columns]",
      "text/html": "<div>\n<style scoped>\n    .dataframe tbody tr th:only-of-type {\n        vertical-align: middle;\n    }\n\n    .dataframe tbody tr th {\n        vertical-align: top;\n    }\n\n    .dataframe thead th {\n        text-align: right;\n    }\n</style>\n<table border=\"1\" class=\"dataframe\">\n  <thead>\n    <tr style=\"text-align: right;\">\n      <th></th>\n      <th>customerid</th>\n      <th>gender</th>\n      <th>seniorcitizen</th>\n      <th>partner</th>\n      <th>dependents</th>\n      <th>tenure</th>\n      <th>phoneservice</th>\n      <th>multiplelines</th>\n      <th>internetservice</th>\n      <th>onlinesecurity</th>\n      <th>...</th>\n      <th>deviceprotection</th>\n      <th>techsupport</th>\n      <th>streamingtv</th>\n      <th>streamingmovies</th>\n      <th>contract</th>\n      <th>paperlessbilling</th>\n      <th>paymentmethod</th>\n      <th>monthlycharges</th>\n      <th>totalcharges</th>\n      <th>churn</th>\n    </tr>\n  </thead>\n  <tbody>\n    <tr>\n      <th>0</th>\n      <td>7590-vhveg</td>\n      <td>female</td>\n      <td>0</td>\n      <td>yes</td>\n      <td>no</td>\n      <td>1</td>\n      <td>no</td>\n      <td>no_phone_service</td>\n      <td>dsl</td>\n      <td>no</td>\n      <td>...</td>\n      <td>no</td>\n      <td>no</td>\n      <td>no</td>\n      <td>no</td>\n      <td>month-to-month</td>\n      <td>yes</td>\n      <td>electronic_check</td>\n      <td>29.85</td>\n      <td>29.85</td>\n      <td>no</td>\n    </tr>\n    <tr>\n      <th>1</th>\n      <td>5575-gnvde</td>\n      <td>male</td>\n      <td>0</td>\n      <td>no</td>\n      <td>no</td>\n      <td>34</td>\n      <td>yes</td>\n      <td>no</td>\n      <td>dsl</td>\n      <td>yes</td>\n      <td>...</td>\n      <td>yes</td>\n      <td>no</td>\n      <td>no</td>\n      <td>no</td>\n      <td>one_year</td>\n      <td>no</td>\n      <td>mailed_check</td>\n      <td>56.95</td>\n      <td>1889.5</td>\n      <td>no</td>\n    </tr>\n    <tr>\n      <th>2</th>\n      <td>3668-qpybk</td>\n      <td>male</td>\n      <td>0</td>\n      <td>no</td>\n      <td>no</td>\n      <td>2</td>\n      <td>yes</td>\n      <td>no</td>\n      <td>dsl</td>\n      <td>yes</td>\n      <td>...</td>\n      <td>no</td>\n      <td>no</td>\n      <td>no</td>\n      <td>no</td>\n      <td>month-to-month</td>\n      <td>yes</td>\n      <td>mailed_check</td>\n      <td>53.85</td>\n      <td>108.15</td>\n      <td>yes</td>\n    </tr>\n    <tr>\n      <th>3</th>\n      <td>7795-cfocw</td>\n      <td>male</td>\n      <td>0</td>\n      <td>no</td>\n      <td>no</td>\n      <td>45</td>\n      <td>no</td>\n      <td>no_phone_service</td>\n      <td>dsl</td>\n      <td>yes</td>\n      <td>...</td>\n      <td>yes</td>\n      <td>yes</td>\n      <td>no</td>\n      <td>no</td>\n      <td>one_year</td>\n      <td>no</td>\n      <td>bank_transfer_(automatic)</td>\n      <td>42.30</td>\n      <td>1840.75</td>\n      <td>no</td>\n    </tr>\n    <tr>\n      <th>4</th>\n      <td>9237-hqitu</td>\n      <td>female</td>\n      <td>0</td>\n      <td>no</td>\n      <td>no</td>\n      <td>2</td>\n      <td>yes</td>\n      <td>no</td>\n      <td>fiber_optic</td>\n      <td>no</td>\n      <td>...</td>\n      <td>no</td>\n      <td>no</td>\n      <td>no</td>\n      <td>no</td>\n      <td>month-to-month</td>\n      <td>yes</td>\n      <td>electronic_check</td>\n      <td>70.70</td>\n      <td>151.65</td>\n      <td>yes</td>\n    </tr>\n  </tbody>\n</table>\n<p>5 rows × 21 columns</p>\n</div>"
     },
     "execution_count": 7,
     "metadata": {},
     "output_type": "execute_result"
    }
   ],
   "source": [
    "df.columns = df.columns.str.lower().str.replace(' ', '_') # edit columns names\n",
    "categorical_columns = list(df.dtypes[df.dtypes == 'object'].index)\n",
    "for c in categorical_columns:\n",
    "    df[c] = df[c].str.lower().str.replace(' ', '_') # edit content of column\n",
    "df.head()"
   ],
   "metadata": {
    "collapsed": false,
    "ExecuteTime": {
     "end_time": "2024-01-12T08:02:14.744728059Z",
     "start_time": "2024-01-12T08:02:13.880342364Z"
    }
   },
   "id": "9c01d644278821e8",
   "execution_count": 7
  },
  {
   "cell_type": "code",
   "outputs": [],
   "source": [
    "df['totalcharges'] = pd.to_numeric(df['totalcharges'], errors='coerce')"
   ],
   "metadata": {
    "collapsed": false,
    "ExecuteTime": {
     "end_time": "2024-01-12T08:02:14.873494779Z",
     "start_time": "2024-01-12T08:02:14.064113324Z"
    }
   },
   "id": "a0ee910dbdf8ac6c",
   "execution_count": 8
  },
  {
   "cell_type": "code",
   "outputs": [
    {
     "name": "stdout",
     "output_type": "stream",
     "text": [
      "<class 'pandas.core.frame.DataFrame'>\n",
      "RangeIndex: 7043 entries, 0 to 7042\n",
      "Data columns (total 21 columns):\n",
      " #   Column            Non-Null Count  Dtype  \n",
      "---  ------            --------------  -----  \n",
      " 0   customerid        7043 non-null   object \n",
      " 1   gender            7043 non-null   object \n",
      " 2   seniorcitizen     7043 non-null   int64  \n",
      " 3   partner           7043 non-null   object \n",
      " 4   dependents        7043 non-null   object \n",
      " 5   tenure            7043 non-null   int64  \n",
      " 6   phoneservice      7043 non-null   object \n",
      " 7   multiplelines     7043 non-null   object \n",
      " 8   internetservice   7043 non-null   object \n",
      " 9   onlinesecurity    7043 non-null   object \n",
      " 10  onlinebackup      7043 non-null   object \n",
      " 11  deviceprotection  7043 non-null   object \n",
      " 12  techsupport       7043 non-null   object \n",
      " 13  streamingtv       7043 non-null   object \n",
      " 14  streamingmovies   7043 non-null   object \n",
      " 15  contract          7043 non-null   object \n",
      " 16  paperlessbilling  7043 non-null   object \n",
      " 17  paymentmethod     7043 non-null   object \n",
      " 18  monthlycharges    7043 non-null   float64\n",
      " 19  totalcharges      7032 non-null   float64\n",
      " 20  churn             7043 non-null   object \n",
      "dtypes: float64(2), int64(2), object(17)\n",
      "memory usage: 1.1+ MB\n"
     ]
    }
   ],
   "source": [
    "df.info()"
   ],
   "metadata": {
    "collapsed": false,
    "ExecuteTime": {
     "end_time": "2024-01-12T08:02:14.891331802Z",
     "start_time": "2024-01-12T08:02:14.082736359Z"
    }
   },
   "id": "5af78e4e5b8fed53",
   "execution_count": 9
  },
  {
   "cell_type": "markdown",
   "source": [
    "totalcharges a certain na, il faut les remplacer pas des 0"
   ],
   "metadata": {
    "collapsed": false
   },
   "id": "db60b9070e2ec068"
  },
  {
   "cell_type": "code",
   "outputs": [
    {
     "name": "stdout",
     "output_type": "stream",
     "text": [
      "<class 'pandas.core.frame.DataFrame'>\n",
      "RangeIndex: 7043 entries, 0 to 7042\n",
      "Data columns (total 21 columns):\n",
      " #   Column            Non-Null Count  Dtype  \n",
      "---  ------            --------------  -----  \n",
      " 0   customerid        7043 non-null   object \n",
      " 1   gender            7043 non-null   object \n",
      " 2   seniorcitizen     7043 non-null   int64  \n",
      " 3   partner           7043 non-null   object \n",
      " 4   dependents        7043 non-null   object \n",
      " 5   tenure            7043 non-null   int64  \n",
      " 6   phoneservice      7043 non-null   object \n",
      " 7   multiplelines     7043 non-null   object \n",
      " 8   internetservice   7043 non-null   object \n",
      " 9   onlinesecurity    7043 non-null   object \n",
      " 10  onlinebackup      7043 non-null   object \n",
      " 11  deviceprotection  7043 non-null   object \n",
      " 12  techsupport       7043 non-null   object \n",
      " 13  streamingtv       7043 non-null   object \n",
      " 14  streamingmovies   7043 non-null   object \n",
      " 15  contract          7043 non-null   object \n",
      " 16  paperlessbilling  7043 non-null   object \n",
      " 17  paymentmethod     7043 non-null   object \n",
      " 18  monthlycharges    7043 non-null   float64\n",
      " 19  totalcharges      7043 non-null   float64\n",
      " 20  churn             7043 non-null   object \n",
      "dtypes: float64(2), int64(2), object(17)\n",
      "memory usage: 1.1+ MB\n"
     ]
    }
   ],
   "source": [
    "df.totalcharges = df.totalcharges.fillna(0)\n",
    "df.info()"
   ],
   "metadata": {
    "collapsed": false,
    "ExecuteTime": {
     "end_time": "2024-01-12T08:02:15.115780052Z",
     "start_time": "2024-01-12T08:02:14.240200624Z"
    }
   },
   "id": "f448f261c710dda1",
   "execution_count": 10
  },
  {
   "cell_type": "code",
   "outputs": [
    {
     "data": {
      "text/plain": "array(['no', 'yes'], dtype=object)"
     },
     "execution_count": 11,
     "metadata": {},
     "output_type": "execute_result"
    }
   ],
   "source": [
    "df.churn.unique()"
   ],
   "metadata": {
    "collapsed": false,
    "ExecuteTime": {
     "end_time": "2024-01-12T08:02:16.602998051Z",
     "start_time": "2024-01-12T08:02:15.056177740Z"
    }
   },
   "id": "62e3017cafb7f162",
   "execution_count": 11
  },
  {
   "cell_type": "code",
   "outputs": [
    {
     "data": {
      "text/plain": "0       0\n1       0\n2       1\n3       0\n4       1\n       ..\n7038    0\n7039    0\n7040    0\n7041    1\n7042    0\nName: churn, Length: 7043, dtype: int64"
     },
     "execution_count": 12,
     "metadata": {},
     "output_type": "execute_result"
    }
   ],
   "source": [
    "df.churn = (df.churn == 'yes').astype(int)\n",
    "df.churn"
   ],
   "metadata": {
    "collapsed": false,
    "ExecuteTime": {
     "end_time": "2024-01-12T08:02:17.985995311Z",
     "start_time": "2024-01-12T08:02:16.525634829Z"
    }
   },
   "id": "6e8991343b86dfbf",
   "execution_count": 12
  },
  {
   "cell_type": "markdown",
   "source": [
    "## 3.3 Setting up the validation framework\n",
    "* Perform the train/validation/test split with Scikit-Learn"
   ],
   "metadata": {
    "collapsed": false
   },
   "id": "413e1f6d317772ad"
  },
  {
   "cell_type": "code",
   "outputs": [],
   "source": [
    "from sklearn.model_selection import train_test_split"
   ],
   "metadata": {
    "collapsed": false,
    "ExecuteTime": {
     "end_time": "2024-01-12T08:02:20.128200253Z",
     "start_time": "2024-01-12T08:02:17.692916921Z"
    }
   },
   "id": "ed6a62254074e7b2",
   "execution_count": 13
  },
  {
   "cell_type": "code",
   "outputs": [],
   "source": [
    "# Allow to see de docstring\n",
    "train_test_split?"
   ],
   "metadata": {
    "collapsed": false,
    "ExecuteTime": {
     "end_time": "2024-01-12T08:02:20.318112568Z",
     "start_time": "2024-01-12T08:02:19.332617645Z"
    }
   },
   "id": "1c7a381f14efe89d",
   "execution_count": 14
  },
  {
   "cell_type": "markdown",
   "source": [
    "Nous allons prendre 20% du dataset pour les tests, les 80% restant seront pour le train"
   ],
   "metadata": {
    "collapsed": false
   },
   "id": "239793b1dbfc34e1"
  },
  {
   "cell_type": "code",
   "outputs": [],
   "source": [
    "df_full_train, df_test = train_test_split(df, test_size=0.2, random_state=1)"
   ],
   "metadata": {
    "collapsed": false,
    "ExecuteTime": {
     "end_time": "2024-01-12T08:02:20.957047997Z",
     "start_time": "2024-01-12T08:02:20.243113680Z"
    }
   },
   "id": "136a524fa975bdeb",
   "execution_count": 15
  },
  {
   "cell_type": "code",
   "outputs": [
    {
     "data": {
      "text/plain": "(5634, 1409)"
     },
     "execution_count": 16,
     "metadata": {},
     "output_type": "execute_result"
    }
   ],
   "source": [
    "len(df_full_train), len(df_test)"
   ],
   "metadata": {
    "collapsed": false,
    "ExecuteTime": {
     "end_time": "2024-01-12T08:02:21.460483119Z",
     "start_time": "2024-01-12T08:02:20.870305997Z"
    }
   },
   "id": "7af649c464b169af",
   "execution_count": 16
  },
  {
   "cell_type": "markdown",
   "source": [
    "Du train set, nous allons prendre 25% pour la validation et laisser le reste pour le train. Car on veut une répartition du dataset en 60/20/20. Car $\\frac{20\\%}{80\\%}=\\frac{1}{4}=25\\%$ "
   ],
   "metadata": {
    "collapsed": false
   },
   "id": "634746eae4990e83"
  },
  {
   "cell_type": "code",
   "outputs": [],
   "source": [
    "df_train, df_val = train_test_split(df_full_train, test_size=0.25, random_state=1)"
   ],
   "metadata": {
    "collapsed": false,
    "ExecuteTime": {
     "end_time": "2024-01-12T08:02:22.208705460Z",
     "start_time": "2024-01-12T08:02:21.461745898Z"
    }
   },
   "id": "b1b4694395fbd0fb",
   "execution_count": 17
  },
  {
   "cell_type": "code",
   "outputs": [
    {
     "data": {
      "text/plain": "(4225, 1409, 1409)"
     },
     "execution_count": 18,
     "metadata": {},
     "output_type": "execute_result"
    }
   ],
   "source": [
    "len(df_train), len(df_val), len(df_test)"
   ],
   "metadata": {
    "collapsed": false,
    "ExecuteTime": {
     "end_time": "2024-01-12T08:02:22.986160004Z",
     "start_time": "2024-01-12T08:02:21.998026705Z"
    }
   },
   "id": "b2391d43740aa8d8",
   "execution_count": 18
  },
  {
   "cell_type": "code",
   "outputs": [],
   "source": [
    "df_train.reset_index(drop=True, inplace=True)\n",
    "df_val.reset_index(drop=True, inplace=True)\n",
    "df_test.reset_index(drop=True, inplace=True)"
   ],
   "metadata": {
    "collapsed": false,
    "ExecuteTime": {
     "end_time": "2024-01-12T08:02:23.371686040Z",
     "start_time": "2024-01-12T08:02:22.858044331Z"
    }
   },
   "id": "f187181d8671264f",
   "execution_count": 19
  },
  {
   "cell_type": "code",
   "outputs": [],
   "source": [
    "y_train = df_train.churn.values\n",
    "y_val = df_val.churn.values\n",
    "y_test = df_test.churn.values"
   ],
   "metadata": {
    "collapsed": false,
    "ExecuteTime": {
     "end_time": "2024-01-12T08:02:24.220635880Z",
     "start_time": "2024-01-12T08:02:23.356529134Z"
    }
   },
   "id": "4613afa4a3214cf0",
   "execution_count": 20
  },
  {
   "cell_type": "code",
   "outputs": [],
   "source": [
    "df_train.drop('churn', axis=1, inplace=True)\n",
    "df_val.drop('churn', axis=1, inplace=True)\n",
    "df_test.drop('churn', axis=1, inplace=True)"
   ],
   "metadata": {
    "collapsed": false,
    "ExecuteTime": {
     "end_time": "2024-01-12T08:02:24.851720648Z",
     "start_time": "2024-01-12T08:02:24.151947091Z"
    }
   },
   "id": "3dbdee1113740281",
   "execution_count": 21
  },
  {
   "cell_type": "markdown",
   "source": [
    "## 3.4 EDA\n",
    "* Check missing values\n",
    "* Look at the target variable (churn)\n",
    "* Look at numerical and categorical variables"
   ],
   "metadata": {
    "collapsed": false
   },
   "id": "33863add0f1e314c"
  },
  {
   "cell_type": "code",
   "outputs": [],
   "source": [
    "df_full_train.reset_index(drop=True, inplace=True)"
   ],
   "metadata": {
    "collapsed": false,
    "ExecuteTime": {
     "end_time": "2024-01-12T08:02:25.293421275Z",
     "start_time": "2024-01-12T08:02:24.732189259Z"
    }
   },
   "id": "7329c13dd16fe933",
   "execution_count": 22
  },
  {
   "cell_type": "code",
   "outputs": [
    {
     "data": {
      "text/plain": "customerid          0\ngender              0\nseniorcitizen       0\npartner             0\ndependents          0\ntenure              0\nphoneservice        0\nmultiplelines       0\ninternetservice     0\nonlinesecurity      0\nonlinebackup        0\ndeviceprotection    0\ntechsupport         0\nstreamingtv         0\nstreamingmovies     0\ncontract            0\npaperlessbilling    0\npaymentmethod       0\nmonthlycharges      0\ntotalcharges        0\nchurn               0\ndtype: int64"
     },
     "execution_count": 23,
     "metadata": {},
     "output_type": "execute_result"
    }
   ],
   "source": [
    "df_full_train.isnull().sum()"
   ],
   "metadata": {
    "collapsed": false,
    "ExecuteTime": {
     "end_time": "2024-01-12T08:02:25.789682783Z",
     "start_time": "2024-01-12T08:02:25.196183387Z"
    }
   },
   "id": "7af3172a1186b78",
   "execution_count": 23
  },
  {
   "cell_type": "code",
   "outputs": [
    {
     "data": {
      "text/plain": "churn\n0    0.730032\n1    0.269968\nName: proportion, dtype: float64"
     },
     "execution_count": 24,
     "metadata": {},
     "output_type": "execute_result"
    }
   ],
   "source": [
    "df_full_train.churn.value_counts(normalize=True)"
   ],
   "metadata": {
    "collapsed": false,
    "ExecuteTime": {
     "end_time": "2024-01-12T08:02:26.112024840Z",
     "start_time": "2024-01-12T08:02:25.722019103Z"
    }
   },
   "id": "1e260d30d8dd9c09",
   "execution_count": 24
  },
  {
   "cell_type": "markdown",
   "source": [
    "0.269968 est ce que l'on peut appeler le \"churn rate\""
   ],
   "metadata": {
    "collapsed": false
   },
   "id": "d7df8b3cbe851bdf"
  },
  {
   "cell_type": "code",
   "outputs": [
    {
     "data": {
      "text/plain": "0.27"
     },
     "execution_count": 25,
     "metadata": {},
     "output_type": "execute_result"
    }
   ],
   "source": [
    "global_churn_rate = df_full_train.churn.mean()\n",
    "round(global_churn_rate, 2)"
   ],
   "metadata": {
    "collapsed": false,
    "ExecuteTime": {
     "end_time": "2024-01-12T08:02:26.408764991Z",
     "start_time": "2024-01-12T08:02:25.989678666Z"
    }
   },
   "id": "ad05b7d1419a847c",
   "execution_count": 25
  },
  {
   "cell_type": "markdown",
   "source": [
    "ça donne le même résultat et c'est normal (réflexion mathématique)"
   ],
   "metadata": {
    "collapsed": false
   },
   "id": "2bf52bff3ebda541"
  },
  {
   "cell_type": "code",
   "outputs": [
    {
     "data": {
      "text/plain": "customerid           object\ngender               object\nseniorcitizen         int64\npartner              object\ndependents           object\ntenure                int64\nphoneservice         object\nmultiplelines        object\ninternetservice      object\nonlinesecurity       object\nonlinebackup         object\ndeviceprotection     object\ntechsupport          object\nstreamingtv          object\nstreamingmovies      object\ncontract             object\npaperlessbilling     object\npaymentmethod        object\nmonthlycharges      float64\ntotalcharges        float64\nchurn                 int64\ndtype: object"
     },
     "execution_count": 26,
     "metadata": {},
     "output_type": "execute_result"
    }
   ],
   "source": [
    "df_full_train.dtypes"
   ],
   "metadata": {
    "collapsed": false,
    "ExecuteTime": {
     "end_time": "2024-01-12T08:02:26.835015615Z",
     "start_time": "2024-01-12T08:02:26.367636286Z"
    }
   },
   "id": "27d52e3b7d2466b1",
   "execution_count": 26
  },
  {
   "cell_type": "code",
   "outputs": [],
   "source": [
    "numerical = ['tenure', 'monthlycharges', 'totalcharges']"
   ],
   "metadata": {
    "collapsed": false,
    "ExecuteTime": {
     "end_time": "2024-01-12T08:02:27.143194800Z",
     "start_time": "2024-01-12T08:02:26.766988892Z"
    }
   },
   "id": "3f5f76b014ad7a2a",
   "execution_count": 27
  },
  {
   "cell_type": "code",
   "outputs": [
    {
     "data": {
      "text/plain": "Index(['customerid', 'gender', 'seniorcitizen', 'partner', 'dependents',\n       'tenure', 'phoneservice', 'multiplelines', 'internetservice',\n       'onlinesecurity', 'onlinebackup', 'deviceprotection', 'techsupport',\n       'streamingtv', 'streamingmovies', 'contract', 'paperlessbilling',\n       'paymentmethod', 'monthlycharges', 'totalcharges', 'churn'],\n      dtype='object')"
     },
     "execution_count": 28,
     "metadata": {},
     "output_type": "execute_result"
    }
   ],
   "source": [
    "df_full_train.columns"
   ],
   "metadata": {
    "collapsed": false,
    "ExecuteTime": {
     "end_time": "2024-01-12T08:02:27.565091170Z",
     "start_time": "2024-01-12T08:02:27.087230008Z"
    }
   },
   "id": "a7807614a1b0d93",
   "execution_count": 28
  },
  {
   "cell_type": "code",
   "outputs": [],
   "source": [
    "categorical = ['customerid', 'gender', 'seniorcitizen', 'partner', 'dependents', 'phoneservice', 'multiplelines', 'internetservice',\n",
    "       'onlinesecurity', 'onlinebackup', 'deviceprotection', 'techsupport',\n",
    "       'streamingtv', 'streamingmovies', 'contract', 'paperlessbilling',\n",
    "       'paymentmethod']"
   ],
   "metadata": {
    "collapsed": false,
    "ExecuteTime": {
     "end_time": "2024-01-12T08:02:28.135384755Z",
     "start_time": "2024-01-12T08:02:27.529952318Z"
    }
   },
   "id": "d7ac05ab8b82041f",
   "execution_count": 29
  },
  {
   "cell_type": "code",
   "outputs": [
    {
     "data": {
      "text/plain": "customerid          5634\ngender                 2\nseniorcitizen          2\npartner                2\ndependents             2\nphoneservice           2\nmultiplelines          3\ninternetservice        3\nonlinesecurity         3\nonlinebackup           3\ndeviceprotection       3\ntechsupport            3\nstreamingtv            3\nstreamingmovies        3\ncontract               3\npaperlessbilling       2\npaymentmethod          4\ndtype: int64"
     },
     "execution_count": 30,
     "metadata": {},
     "output_type": "execute_result"
    }
   ],
   "source": [
    "df_full_train[categorical].nunique()"
   ],
   "metadata": {
    "collapsed": false,
    "ExecuteTime": {
     "end_time": "2024-01-12T08:02:28.449025155Z",
     "start_time": "2024-01-12T08:02:28.022315394Z"
    }
   },
   "id": "dd5a3de3d8b3ef9b",
   "execution_count": 30
  },
  {
   "cell_type": "markdown",
   "source": [
    "## 3.5 Feature importance: Churn rate and risk ratio\n",
    "Feature importance analysis (part of EDA) - identifying which features affect our target variable\n",
    "* Churn rate\n",
    "* Risk ratio\n",
    "* Mutual information - later\n",
    "\n",
    "Churn rate"
   ],
   "metadata": {
    "collapsed": false
   },
   "id": "637560185064c787"
  },
  {
   "cell_type": "code",
   "outputs": [
    {
     "data": {
      "text/plain": "   customerid  gender  seniorcitizen partner dependents  tenure phoneservice  \\\n0  5442-pptjy    male              0     yes        yes      12          yes   \n1  6261-rcvns  female              0      no         no      42          yes   \n2  2176-osjuv    male              0     yes         no      71          yes   \n3  6161-erdgd    male              0     yes        yes      71          yes   \n4  2364-ufrom    male              0      no         no      30          yes   \n\n  multiplelines internetservice       onlinesecurity  ...  \\\n0            no              no  no_internet_service  ...   \n1            no             dsl                  yes  ...   \n2           yes             dsl                  yes  ...   \n3           yes             dsl                  yes  ...   \n4            no             dsl                  yes  ...   \n\n      deviceprotection          techsupport          streamingtv  \\\n0  no_internet_service  no_internet_service  no_internet_service   \n1                  yes                  yes                   no   \n2                   no                  yes                   no   \n3                  yes                  yes                  yes   \n4                   no                  yes                  yes   \n\n       streamingmovies  contract paperlessbilling              paymentmethod  \\\n0  no_internet_service  two_year               no               mailed_check   \n1                  yes  one_year               no    credit_card_(automatic)   \n2                   no  two_year               no  bank_transfer_(automatic)   \n3                  yes  one_year               no           electronic_check   \n4                   no  one_year               no           electronic_check   \n\n  monthlycharges  totalcharges  churn  \n0          19.70        258.35      0  \n1          73.90       3160.55      1  \n2          65.15       4681.75      0  \n3          85.45       6300.85      0  \n4          70.40       2044.75      0  \n\n[5 rows x 21 columns]",
      "text/html": "<div>\n<style scoped>\n    .dataframe tbody tr th:only-of-type {\n        vertical-align: middle;\n    }\n\n    .dataframe tbody tr th {\n        vertical-align: top;\n    }\n\n    .dataframe thead th {\n        text-align: right;\n    }\n</style>\n<table border=\"1\" class=\"dataframe\">\n  <thead>\n    <tr style=\"text-align: right;\">\n      <th></th>\n      <th>customerid</th>\n      <th>gender</th>\n      <th>seniorcitizen</th>\n      <th>partner</th>\n      <th>dependents</th>\n      <th>tenure</th>\n      <th>phoneservice</th>\n      <th>multiplelines</th>\n      <th>internetservice</th>\n      <th>onlinesecurity</th>\n      <th>...</th>\n      <th>deviceprotection</th>\n      <th>techsupport</th>\n      <th>streamingtv</th>\n      <th>streamingmovies</th>\n      <th>contract</th>\n      <th>paperlessbilling</th>\n      <th>paymentmethod</th>\n      <th>monthlycharges</th>\n      <th>totalcharges</th>\n      <th>churn</th>\n    </tr>\n  </thead>\n  <tbody>\n    <tr>\n      <th>0</th>\n      <td>5442-pptjy</td>\n      <td>male</td>\n      <td>0</td>\n      <td>yes</td>\n      <td>yes</td>\n      <td>12</td>\n      <td>yes</td>\n      <td>no</td>\n      <td>no</td>\n      <td>no_internet_service</td>\n      <td>...</td>\n      <td>no_internet_service</td>\n      <td>no_internet_service</td>\n      <td>no_internet_service</td>\n      <td>no_internet_service</td>\n      <td>two_year</td>\n      <td>no</td>\n      <td>mailed_check</td>\n      <td>19.70</td>\n      <td>258.35</td>\n      <td>0</td>\n    </tr>\n    <tr>\n      <th>1</th>\n      <td>6261-rcvns</td>\n      <td>female</td>\n      <td>0</td>\n      <td>no</td>\n      <td>no</td>\n      <td>42</td>\n      <td>yes</td>\n      <td>no</td>\n      <td>dsl</td>\n      <td>yes</td>\n      <td>...</td>\n      <td>yes</td>\n      <td>yes</td>\n      <td>no</td>\n      <td>yes</td>\n      <td>one_year</td>\n      <td>no</td>\n      <td>credit_card_(automatic)</td>\n      <td>73.90</td>\n      <td>3160.55</td>\n      <td>1</td>\n    </tr>\n    <tr>\n      <th>2</th>\n      <td>2176-osjuv</td>\n      <td>male</td>\n      <td>0</td>\n      <td>yes</td>\n      <td>no</td>\n      <td>71</td>\n      <td>yes</td>\n      <td>yes</td>\n      <td>dsl</td>\n      <td>yes</td>\n      <td>...</td>\n      <td>no</td>\n      <td>yes</td>\n      <td>no</td>\n      <td>no</td>\n      <td>two_year</td>\n      <td>no</td>\n      <td>bank_transfer_(automatic)</td>\n      <td>65.15</td>\n      <td>4681.75</td>\n      <td>0</td>\n    </tr>\n    <tr>\n      <th>3</th>\n      <td>6161-erdgd</td>\n      <td>male</td>\n      <td>0</td>\n      <td>yes</td>\n      <td>yes</td>\n      <td>71</td>\n      <td>yes</td>\n      <td>yes</td>\n      <td>dsl</td>\n      <td>yes</td>\n      <td>...</td>\n      <td>yes</td>\n      <td>yes</td>\n      <td>yes</td>\n      <td>yes</td>\n      <td>one_year</td>\n      <td>no</td>\n      <td>electronic_check</td>\n      <td>85.45</td>\n      <td>6300.85</td>\n      <td>0</td>\n    </tr>\n    <tr>\n      <th>4</th>\n      <td>2364-ufrom</td>\n      <td>male</td>\n      <td>0</td>\n      <td>no</td>\n      <td>no</td>\n      <td>30</td>\n      <td>yes</td>\n      <td>no</td>\n      <td>dsl</td>\n      <td>yes</td>\n      <td>...</td>\n      <td>no</td>\n      <td>yes</td>\n      <td>yes</td>\n      <td>no</td>\n      <td>one_year</td>\n      <td>no</td>\n      <td>electronic_check</td>\n      <td>70.40</td>\n      <td>2044.75</td>\n      <td>0</td>\n    </tr>\n  </tbody>\n</table>\n<p>5 rows × 21 columns</p>\n</div>"
     },
     "execution_count": 31,
     "metadata": {},
     "output_type": "execute_result"
    }
   ],
   "source": [
    "df_full_train.head()"
   ],
   "metadata": {
    "collapsed": false,
    "ExecuteTime": {
     "end_time": "2024-01-12T08:02:28.861517636Z",
     "start_time": "2024-01-12T08:02:28.343578693Z"
    }
   },
   "id": "84c50548de2ad596",
   "execution_count": 31
  },
  {
   "cell_type": "code",
   "outputs": [
    {
     "data": {
      "text/plain": "0.27682403433476394"
     },
     "execution_count": 32,
     "metadata": {},
     "output_type": "execute_result"
    }
   ],
   "source": [
    "churn_female = df_full_train[df_full_train.gender == 'female'].churn.mean()\n",
    "churn_female"
   ],
   "metadata": {
    "collapsed": false,
    "ExecuteTime": {
     "end_time": "2024-01-12T08:02:29.328344438Z",
     "start_time": "2024-01-12T08:02:28.680307365Z"
    }
   },
   "id": "65668761649a82a6",
   "execution_count": 32
  },
  {
   "cell_type": "code",
   "outputs": [
    {
     "data": {
      "text/plain": "0.2632135306553911"
     },
     "execution_count": 33,
     "metadata": {},
     "output_type": "execute_result"
    }
   ],
   "source": [
    "churn_male = df_full_train[df_full_train.gender == 'male'].churn.mean()\n",
    "churn_male"
   ],
   "metadata": {
    "collapsed": false,
    "ExecuteTime": {
     "end_time": "2024-01-12T08:02:29.618759712Z",
     "start_time": "2024-01-12T08:02:29.122822617Z"
    }
   },
   "id": "6217af69d0284364",
   "execution_count": 33
  },
  {
   "cell_type": "code",
   "outputs": [
    {
     "data": {
      "text/plain": "0.26996805111821087"
     },
     "execution_count": 34,
     "metadata": {},
     "output_type": "execute_result"
    }
   ],
   "source": [
    "global_churn_rate"
   ],
   "metadata": {
    "collapsed": false,
    "ExecuteTime": {
     "end_time": "2024-01-12T08:02:30.177051774Z",
     "start_time": "2024-01-12T08:02:29.563658767Z"
    }
   },
   "id": "52f100a9660792ad",
   "execution_count": 34
  },
  {
   "cell_type": "markdown",
   "source": [
    "On constate que le genre de la personne n'influe pas vraiment avec les désabonnements (churn)"
   ],
   "metadata": {
    "collapsed": false
   },
   "id": "2e8522c8cc73f879"
  },
  {
   "cell_type": "code",
   "outputs": [
    {
     "data": {
      "text/plain": "0.20503330866025166"
     },
     "execution_count": 35,
     "metadata": {},
     "output_type": "execute_result"
    }
   ],
   "source": [
    "churn_partner = df_full_train[df_full_train.partner == 'yes'].churn.mean()\n",
    "churn_partner"
   ],
   "metadata": {
    "collapsed": false,
    "ExecuteTime": {
     "end_time": "2024-01-12T08:02:30.788779588Z",
     "start_time": "2024-01-12T08:02:30.111633611Z"
    }
   },
   "id": "810988a291e09aa1",
   "execution_count": 35
  },
  {
   "cell_type": "code",
   "outputs": [
    {
     "data": {
      "text/plain": "0.3298090040927694"
     },
     "execution_count": 36,
     "metadata": {},
     "output_type": "execute_result"
    }
   ],
   "source": [
    "churn_no_partner = df_full_train[df_full_train.partner == 'no'].churn.mean()\n",
    "churn_no_partner"
   ],
   "metadata": {
    "collapsed": false,
    "ExecuteTime": {
     "end_time": "2024-01-12T08:02:31.429281061Z",
     "start_time": "2024-01-12T08:02:30.696862155Z"
    }
   },
   "id": "aaf791b5e88ac99d",
   "execution_count": 36
  },
  {
   "cell_type": "markdown",
   "source": [
    "Difference between **global_churn_rate** and **churn_group**:\n",
    "if $global\\_churn\\_rate - churn\\_group \\lt 0 \\rightarrow$ More likely to churn\n",
    "if $global\\_churn\\_rate - churn\\_group \\gt 0 \\rightarrow$ Less likely to churn\n",
    "absolute terms"
   ],
   "metadata": {
    "collapsed": false
   },
   "id": "9390ddc6d9235a47"
  },
  {
   "cell_type": "code",
   "outputs": [
    {
     "data": {
      "text/plain": "0.06493474245795922"
     },
     "execution_count": 37,
     "metadata": {},
     "output_type": "execute_result"
    }
   ],
   "source": [
    "global_churn_rate - churn_partner"
   ],
   "metadata": {
    "collapsed": false,
    "ExecuteTime": {
     "end_time": "2024-01-12T08:02:31.828158938Z",
     "start_time": "2024-01-12T08:02:31.304429477Z"
    }
   },
   "id": "335404532c62e0fd",
   "execution_count": 37
  },
  {
   "cell_type": "markdown",
   "source": [
    "People who have partner have 6% less likely to churn"
   ],
   "metadata": {
    "collapsed": false
   },
   "id": "70a0ce4e07a3342e"
  },
  {
   "cell_type": "code",
   "outputs": [
    {
     "data": {
      "text/plain": "-0.05984095297455855"
     },
     "execution_count": 38,
     "metadata": {},
     "output_type": "execute_result"
    }
   ],
   "source": [
    "global_churn_rate - churn_no_partner"
   ],
   "metadata": {
    "collapsed": false,
    "ExecuteTime": {
     "end_time": "2024-01-12T08:02:32.289100517Z",
     "start_time": "2024-01-12T08:02:31.749491491Z"
    }
   },
   "id": "2aedf76a43244653",
   "execution_count": 38
  },
  {
   "cell_type": "markdown",
   "source": [
    "People who don't have partner have 6% more likely to churn"
   ],
   "metadata": {
    "collapsed": false
   },
   "id": "eda9176d64e071d6"
  },
  {
   "cell_type": "markdown",
   "source": [
    "Risk ratio\n",
    "$Risk = \\frac{group}{global}$\n",
    "if $\\frac{group}{global} \\gt 1 \\rightarrow$ More likely to churn\n",
    "if $\\frac{group}{global} \\lt 1 \\rightarrow$ Less likely to churn\n",
    "relative terms"
   ],
   "metadata": {
    "collapsed": false
   },
   "id": "cf309218b11c0d88"
  },
  {
   "cell_type": "code",
   "outputs": [
    {
     "data": {
      "text/plain": "1.2216593879412643"
     },
     "execution_count": 39,
     "metadata": {},
     "output_type": "execute_result"
    }
   ],
   "source": [
    "churn_no_partner / global_churn_rate"
   ],
   "metadata": {
    "collapsed": false,
    "ExecuteTime": {
     "end_time": "2024-01-12T08:02:33.052080517Z",
     "start_time": "2024-01-12T08:02:32.283749210Z"
    }
   },
   "id": "b2640217a04a7e75",
   "execution_count": 39
  },
  {
   "cell_type": "markdown",
   "source": [
    "People who don't partner, churn rate: 22% higher\n",
    "High risk"
   ],
   "metadata": {
    "collapsed": false
   },
   "id": "d8c4316067e7703"
  },
  {
   "cell_type": "code",
   "outputs": [
    {
     "data": {
      "text/plain": "0.7594724924338315"
     },
     "execution_count": 40,
     "metadata": {},
     "output_type": "execute_result"
    }
   ],
   "source": [
    "churn_partner / global_churn_rate"
   ],
   "metadata": {
    "collapsed": false,
    "ExecuteTime": {
     "end_time": "2024-01-12T08:02:33.436112863Z",
     "start_time": "2024-01-12T08:02:32.831814518Z"
    }
   },
   "id": "cc4d775046368ea7",
   "execution_count": 40
  },
  {
   "cell_type": "markdown",
   "source": [
    "People who have partner, churn rate: 24% lower\n",
    "Low risk"
   ],
   "metadata": {
    "collapsed": false
   },
   "id": "29a424d3a912e016"
  },
  {
   "cell_type": "markdown",
   "source": [
    "```\n",
    "SELECT\n",
    "    gender\n",
    "    AVG(churn),\n",
    "    AVG(churn) - global_churn AS diff,\n",
    "    AVG(churn) / global_churn AS risk\n",
    "FROM\n",
    "    data\n",
    "GROUP BY\n",
    "    gender;\n",
    "```"
   ],
   "metadata": {
    "collapsed": false
   },
   "id": "557773943dc5ef99"
  },
  {
   "cell_type": "code",
   "execution_count": 41,
   "outputs": [
    {
     "data": {
      "text/plain": "gender\nfemale    0.276824\nmale      0.263214\nName: churn, dtype: float64"
     },
     "execution_count": 41,
     "metadata": {},
     "output_type": "execute_result"
    }
   ],
   "source": [
    "df_full_train.groupby('gender').churn.mean()"
   ],
   "metadata": {
    "collapsed": false,
    "ExecuteTime": {
     "end_time": "2024-01-12T08:02:33.899933025Z",
     "start_time": "2024-01-12T08:02:33.369888983Z"
    }
   },
   "id": "6b1b78f564b43c0a"
  },
  {
   "cell_type": "code",
   "execution_count": 42,
   "outputs": [
    {
     "data": {
      "text/plain": "            mean\ngender          \nfemale  0.276824\nmale    0.263214",
      "text/html": "<div>\n<style scoped>\n    .dataframe tbody tr th:only-of-type {\n        vertical-align: middle;\n    }\n\n    .dataframe tbody tr th {\n        vertical-align: top;\n    }\n\n    .dataframe thead th {\n        text-align: right;\n    }\n</style>\n<table border=\"1\" class=\"dataframe\">\n  <thead>\n    <tr style=\"text-align: right;\">\n      <th></th>\n      <th>mean</th>\n    </tr>\n    <tr>\n      <th>gender</th>\n      <th></th>\n    </tr>\n  </thead>\n  <tbody>\n    <tr>\n      <th>female</th>\n      <td>0.276824</td>\n    </tr>\n    <tr>\n      <th>male</th>\n      <td>0.263214</td>\n    </tr>\n  </tbody>\n</table>\n</div>"
     },
     "execution_count": 42,
     "metadata": {},
     "output_type": "execute_result"
    }
   ],
   "source": [
    "df_full_train.groupby('gender').churn.agg(['mean'])"
   ],
   "metadata": {
    "collapsed": false,
    "ExecuteTime": {
     "end_time": "2024-01-12T08:02:34.220709335Z",
     "start_time": "2024-01-12T08:02:33.836426263Z"
    }
   },
   "id": "962ee33706b6a1cb"
  },
  {
   "cell_type": "code",
   "execution_count": 43,
   "outputs": [],
   "source": [
    "from IPython.display import display"
   ],
   "metadata": {
    "collapsed": false,
    "ExecuteTime": {
     "end_time": "2024-01-12T08:02:34.662685429Z",
     "start_time": "2024-01-12T08:02:34.103118551Z"
    }
   },
   "id": "95717b2f0d004061"
  },
  {
   "cell_type": "code",
   "execution_count": 44,
   "outputs": [
    {
     "name": "stdout",
     "output_type": "stream",
     "text": [
      "customerid\n"
     ]
    },
    {
     "data": {
      "text/plain": "            mean  count      diff      risk\ncustomerid                                 \n0002-orfbo   0.0      1 -0.269968  0.000000\n0004-tlhlj   1.0      1  0.730032  3.704142\n0011-igkff   1.0      1  0.730032  3.704142\n0013-exchz   1.0      1  0.730032  3.704142\n0013-mhzwf   0.0      1 -0.269968  0.000000\n...          ...    ...       ...       ...\n9987-lutyd   0.0      1 -0.269968  0.000000\n9992-rramn   1.0      1  0.730032  3.704142\n9992-ujoel   0.0      1 -0.269968  0.000000\n9993-lhieb   0.0      1 -0.269968  0.000000\n9995-hotoh   0.0      1 -0.269968  0.000000\n\n[5634 rows x 4 columns]",
      "text/html": "<div>\n<style scoped>\n    .dataframe tbody tr th:only-of-type {\n        vertical-align: middle;\n    }\n\n    .dataframe tbody tr th {\n        vertical-align: top;\n    }\n\n    .dataframe thead th {\n        text-align: right;\n    }\n</style>\n<table border=\"1\" class=\"dataframe\">\n  <thead>\n    <tr style=\"text-align: right;\">\n      <th></th>\n      <th>mean</th>\n      <th>count</th>\n      <th>diff</th>\n      <th>risk</th>\n    </tr>\n    <tr>\n      <th>customerid</th>\n      <th></th>\n      <th></th>\n      <th></th>\n      <th></th>\n    </tr>\n  </thead>\n  <tbody>\n    <tr>\n      <th>0002-orfbo</th>\n      <td>0.0</td>\n      <td>1</td>\n      <td>-0.269968</td>\n      <td>0.000000</td>\n    </tr>\n    <tr>\n      <th>0004-tlhlj</th>\n      <td>1.0</td>\n      <td>1</td>\n      <td>0.730032</td>\n      <td>3.704142</td>\n    </tr>\n    <tr>\n      <th>0011-igkff</th>\n      <td>1.0</td>\n      <td>1</td>\n      <td>0.730032</td>\n      <td>3.704142</td>\n    </tr>\n    <tr>\n      <th>0013-exchz</th>\n      <td>1.0</td>\n      <td>1</td>\n      <td>0.730032</td>\n      <td>3.704142</td>\n    </tr>\n    <tr>\n      <th>0013-mhzwf</th>\n      <td>0.0</td>\n      <td>1</td>\n      <td>-0.269968</td>\n      <td>0.000000</td>\n    </tr>\n    <tr>\n      <th>...</th>\n      <td>...</td>\n      <td>...</td>\n      <td>...</td>\n      <td>...</td>\n    </tr>\n    <tr>\n      <th>9987-lutyd</th>\n      <td>0.0</td>\n      <td>1</td>\n      <td>-0.269968</td>\n      <td>0.000000</td>\n    </tr>\n    <tr>\n      <th>9992-rramn</th>\n      <td>1.0</td>\n      <td>1</td>\n      <td>0.730032</td>\n      <td>3.704142</td>\n    </tr>\n    <tr>\n      <th>9992-ujoel</th>\n      <td>0.0</td>\n      <td>1</td>\n      <td>-0.269968</td>\n      <td>0.000000</td>\n    </tr>\n    <tr>\n      <th>9993-lhieb</th>\n      <td>0.0</td>\n      <td>1</td>\n      <td>-0.269968</td>\n      <td>0.000000</td>\n    </tr>\n    <tr>\n      <th>9995-hotoh</th>\n      <td>0.0</td>\n      <td>1</td>\n      <td>-0.269968</td>\n      <td>0.000000</td>\n    </tr>\n  </tbody>\n</table>\n<p>5634 rows × 4 columns</p>\n</div>"
     },
     "metadata": {},
     "output_type": "display_data"
    },
    {
     "name": "stdout",
     "output_type": "stream",
     "text": [
      "\n",
      "\n",
      "gender\n"
     ]
    },
    {
     "data": {
      "text/plain": "            mean  count      diff      risk\ngender                                     \nfemale  0.276824   2796  0.006856  1.025396\nmale    0.263214   2838 -0.006755  0.974980",
      "text/html": "<div>\n<style scoped>\n    .dataframe tbody tr th:only-of-type {\n        vertical-align: middle;\n    }\n\n    .dataframe tbody tr th {\n        vertical-align: top;\n    }\n\n    .dataframe thead th {\n        text-align: right;\n    }\n</style>\n<table border=\"1\" class=\"dataframe\">\n  <thead>\n    <tr style=\"text-align: right;\">\n      <th></th>\n      <th>mean</th>\n      <th>count</th>\n      <th>diff</th>\n      <th>risk</th>\n    </tr>\n    <tr>\n      <th>gender</th>\n      <th></th>\n      <th></th>\n      <th></th>\n      <th></th>\n    </tr>\n  </thead>\n  <tbody>\n    <tr>\n      <th>female</th>\n      <td>0.276824</td>\n      <td>2796</td>\n      <td>0.006856</td>\n      <td>1.025396</td>\n    </tr>\n    <tr>\n      <th>male</th>\n      <td>0.263214</td>\n      <td>2838</td>\n      <td>-0.006755</td>\n      <td>0.974980</td>\n    </tr>\n  </tbody>\n</table>\n</div>"
     },
     "metadata": {},
     "output_type": "display_data"
    },
    {
     "name": "stdout",
     "output_type": "stream",
     "text": [
      "\n",
      "\n",
      "seniorcitizen\n"
     ]
    },
    {
     "data": {
      "text/plain": "                   mean  count      diff      risk\nseniorcitizen                                     \n0              0.242270   4722 -0.027698  0.897403\n1              0.413377    912  0.143409  1.531208",
      "text/html": "<div>\n<style scoped>\n    .dataframe tbody tr th:only-of-type {\n        vertical-align: middle;\n    }\n\n    .dataframe tbody tr th {\n        vertical-align: top;\n    }\n\n    .dataframe thead th {\n        text-align: right;\n    }\n</style>\n<table border=\"1\" class=\"dataframe\">\n  <thead>\n    <tr style=\"text-align: right;\">\n      <th></th>\n      <th>mean</th>\n      <th>count</th>\n      <th>diff</th>\n      <th>risk</th>\n    </tr>\n    <tr>\n      <th>seniorcitizen</th>\n      <th></th>\n      <th></th>\n      <th></th>\n      <th></th>\n    </tr>\n  </thead>\n  <tbody>\n    <tr>\n      <th>0</th>\n      <td>0.242270</td>\n      <td>4722</td>\n      <td>-0.027698</td>\n      <td>0.897403</td>\n    </tr>\n    <tr>\n      <th>1</th>\n      <td>0.413377</td>\n      <td>912</td>\n      <td>0.143409</td>\n      <td>1.531208</td>\n    </tr>\n  </tbody>\n</table>\n</div>"
     },
     "metadata": {},
     "output_type": "display_data"
    },
    {
     "name": "stdout",
     "output_type": "stream",
     "text": [
      "\n",
      "\n",
      "partner\n"
     ]
    },
    {
     "data": {
      "text/plain": "             mean  count      diff      risk\npartner                                     \nno       0.329809   2932  0.059841  1.221659\nyes      0.205033   2702 -0.064935  0.759472",
      "text/html": "<div>\n<style scoped>\n    .dataframe tbody tr th:only-of-type {\n        vertical-align: middle;\n    }\n\n    .dataframe tbody tr th {\n        vertical-align: top;\n    }\n\n    .dataframe thead th {\n        text-align: right;\n    }\n</style>\n<table border=\"1\" class=\"dataframe\">\n  <thead>\n    <tr style=\"text-align: right;\">\n      <th></th>\n      <th>mean</th>\n      <th>count</th>\n      <th>diff</th>\n      <th>risk</th>\n    </tr>\n    <tr>\n      <th>partner</th>\n      <th></th>\n      <th></th>\n      <th></th>\n      <th></th>\n    </tr>\n  </thead>\n  <tbody>\n    <tr>\n      <th>no</th>\n      <td>0.329809</td>\n      <td>2932</td>\n      <td>0.059841</td>\n      <td>1.221659</td>\n    </tr>\n    <tr>\n      <th>yes</th>\n      <td>0.205033</td>\n      <td>2702</td>\n      <td>-0.064935</td>\n      <td>0.759472</td>\n    </tr>\n  </tbody>\n</table>\n</div>"
     },
     "metadata": {},
     "output_type": "display_data"
    },
    {
     "name": "stdout",
     "output_type": "stream",
     "text": [
      "\n",
      "\n",
      "dependents\n"
     ]
    },
    {
     "data": {
      "text/plain": "                mean  count      diff      risk\ndependents                                     \nno          0.313760   3968  0.043792  1.162212\nyes         0.165666   1666 -0.104302  0.613651",
      "text/html": "<div>\n<style scoped>\n    .dataframe tbody tr th:only-of-type {\n        vertical-align: middle;\n    }\n\n    .dataframe tbody tr th {\n        vertical-align: top;\n    }\n\n    .dataframe thead th {\n        text-align: right;\n    }\n</style>\n<table border=\"1\" class=\"dataframe\">\n  <thead>\n    <tr style=\"text-align: right;\">\n      <th></th>\n      <th>mean</th>\n      <th>count</th>\n      <th>diff</th>\n      <th>risk</th>\n    </tr>\n    <tr>\n      <th>dependents</th>\n      <th></th>\n      <th></th>\n      <th></th>\n      <th></th>\n    </tr>\n  </thead>\n  <tbody>\n    <tr>\n      <th>no</th>\n      <td>0.313760</td>\n      <td>3968</td>\n      <td>0.043792</td>\n      <td>1.162212</td>\n    </tr>\n    <tr>\n      <th>yes</th>\n      <td>0.165666</td>\n      <td>1666</td>\n      <td>-0.104302</td>\n      <td>0.613651</td>\n    </tr>\n  </tbody>\n</table>\n</div>"
     },
     "metadata": {},
     "output_type": "display_data"
    },
    {
     "name": "stdout",
     "output_type": "stream",
     "text": [
      "\n",
      "\n",
      "phoneservice\n"
     ]
    },
    {
     "data": {
      "text/plain": "                  mean  count      diff      risk\nphoneservice                                     \nno            0.241316    547 -0.028652  0.893870\nyes           0.273049   5087  0.003081  1.011412",
      "text/html": "<div>\n<style scoped>\n    .dataframe tbody tr th:only-of-type {\n        vertical-align: middle;\n    }\n\n    .dataframe tbody tr th {\n        vertical-align: top;\n    }\n\n    .dataframe thead th {\n        text-align: right;\n    }\n</style>\n<table border=\"1\" class=\"dataframe\">\n  <thead>\n    <tr style=\"text-align: right;\">\n      <th></th>\n      <th>mean</th>\n      <th>count</th>\n      <th>diff</th>\n      <th>risk</th>\n    </tr>\n    <tr>\n      <th>phoneservice</th>\n      <th></th>\n      <th></th>\n      <th></th>\n      <th></th>\n    </tr>\n  </thead>\n  <tbody>\n    <tr>\n      <th>no</th>\n      <td>0.241316</td>\n      <td>547</td>\n      <td>-0.028652</td>\n      <td>0.893870</td>\n    </tr>\n    <tr>\n      <th>yes</th>\n      <td>0.273049</td>\n      <td>5087</td>\n      <td>0.003081</td>\n      <td>1.011412</td>\n    </tr>\n  </tbody>\n</table>\n</div>"
     },
     "metadata": {},
     "output_type": "display_data"
    },
    {
     "name": "stdout",
     "output_type": "stream",
     "text": [
      "\n",
      "\n",
      "multiplelines\n"
     ]
    },
    {
     "data": {
      "text/plain": "                      mean  count      diff      risk\nmultiplelines                                        \nno                0.257407   2700 -0.012561  0.953474\nno_phone_service  0.241316    547 -0.028652  0.893870\nyes               0.290742   2387  0.020773  1.076948",
      "text/html": "<div>\n<style scoped>\n    .dataframe tbody tr th:only-of-type {\n        vertical-align: middle;\n    }\n\n    .dataframe tbody tr th {\n        vertical-align: top;\n    }\n\n    .dataframe thead th {\n        text-align: right;\n    }\n</style>\n<table border=\"1\" class=\"dataframe\">\n  <thead>\n    <tr style=\"text-align: right;\">\n      <th></th>\n      <th>mean</th>\n      <th>count</th>\n      <th>diff</th>\n      <th>risk</th>\n    </tr>\n    <tr>\n      <th>multiplelines</th>\n      <th></th>\n      <th></th>\n      <th></th>\n      <th></th>\n    </tr>\n  </thead>\n  <tbody>\n    <tr>\n      <th>no</th>\n      <td>0.257407</td>\n      <td>2700</td>\n      <td>-0.012561</td>\n      <td>0.953474</td>\n    </tr>\n    <tr>\n      <th>no_phone_service</th>\n      <td>0.241316</td>\n      <td>547</td>\n      <td>-0.028652</td>\n      <td>0.893870</td>\n    </tr>\n    <tr>\n      <th>yes</th>\n      <td>0.290742</td>\n      <td>2387</td>\n      <td>0.020773</td>\n      <td>1.076948</td>\n    </tr>\n  </tbody>\n</table>\n</div>"
     },
     "metadata": {},
     "output_type": "display_data"
    },
    {
     "name": "stdout",
     "output_type": "stream",
     "text": [
      "\n",
      "\n",
      "internetservice\n"
     ]
    },
    {
     "data": {
      "text/plain": "                     mean  count      diff      risk\ninternetservice                                     \ndsl              0.192347   1934 -0.077621  0.712482\nfiber_optic      0.425171   2479  0.155203  1.574895\nno               0.077805   1221 -0.192163  0.288201",
      "text/html": "<div>\n<style scoped>\n    .dataframe tbody tr th:only-of-type {\n        vertical-align: middle;\n    }\n\n    .dataframe tbody tr th {\n        vertical-align: top;\n    }\n\n    .dataframe thead th {\n        text-align: right;\n    }\n</style>\n<table border=\"1\" class=\"dataframe\">\n  <thead>\n    <tr style=\"text-align: right;\">\n      <th></th>\n      <th>mean</th>\n      <th>count</th>\n      <th>diff</th>\n      <th>risk</th>\n    </tr>\n    <tr>\n      <th>internetservice</th>\n      <th></th>\n      <th></th>\n      <th></th>\n      <th></th>\n    </tr>\n  </thead>\n  <tbody>\n    <tr>\n      <th>dsl</th>\n      <td>0.192347</td>\n      <td>1934</td>\n      <td>-0.077621</td>\n      <td>0.712482</td>\n    </tr>\n    <tr>\n      <th>fiber_optic</th>\n      <td>0.425171</td>\n      <td>2479</td>\n      <td>0.155203</td>\n      <td>1.574895</td>\n    </tr>\n    <tr>\n      <th>no</th>\n      <td>0.077805</td>\n      <td>1221</td>\n      <td>-0.192163</td>\n      <td>0.288201</td>\n    </tr>\n  </tbody>\n</table>\n</div>"
     },
     "metadata": {},
     "output_type": "display_data"
    },
    {
     "name": "stdout",
     "output_type": "stream",
     "text": [
      "\n",
      "\n",
      "onlinesecurity\n"
     ]
    },
    {
     "data": {
      "text/plain": "                         mean  count      diff      risk\nonlinesecurity                                          \nno                   0.420921   2801  0.150953  1.559152\nno_internet_service  0.077805   1221 -0.192163  0.288201\nyes                  0.153226   1612 -0.116742  0.567570",
      "text/html": "<div>\n<style scoped>\n    .dataframe tbody tr th:only-of-type {\n        vertical-align: middle;\n    }\n\n    .dataframe tbody tr th {\n        vertical-align: top;\n    }\n\n    .dataframe thead th {\n        text-align: right;\n    }\n</style>\n<table border=\"1\" class=\"dataframe\">\n  <thead>\n    <tr style=\"text-align: right;\">\n      <th></th>\n      <th>mean</th>\n      <th>count</th>\n      <th>diff</th>\n      <th>risk</th>\n    </tr>\n    <tr>\n      <th>onlinesecurity</th>\n      <th></th>\n      <th></th>\n      <th></th>\n      <th></th>\n    </tr>\n  </thead>\n  <tbody>\n    <tr>\n      <th>no</th>\n      <td>0.420921</td>\n      <td>2801</td>\n      <td>0.150953</td>\n      <td>1.559152</td>\n    </tr>\n    <tr>\n      <th>no_internet_service</th>\n      <td>0.077805</td>\n      <td>1221</td>\n      <td>-0.192163</td>\n      <td>0.288201</td>\n    </tr>\n    <tr>\n      <th>yes</th>\n      <td>0.153226</td>\n      <td>1612</td>\n      <td>-0.116742</td>\n      <td>0.567570</td>\n    </tr>\n  </tbody>\n</table>\n</div>"
     },
     "metadata": {},
     "output_type": "display_data"
    },
    {
     "name": "stdout",
     "output_type": "stream",
     "text": [
      "\n",
      "\n",
      "onlinebackup\n"
     ]
    },
    {
     "data": {
      "text/plain": "                         mean  count      diff      risk\nonlinebackup                                            \nno                   0.404323   2498  0.134355  1.497672\nno_internet_service  0.077805   1221 -0.192163  0.288201\nyes                  0.217232   1915 -0.052736  0.804660",
      "text/html": "<div>\n<style scoped>\n    .dataframe tbody tr th:only-of-type {\n        vertical-align: middle;\n    }\n\n    .dataframe tbody tr th {\n        vertical-align: top;\n    }\n\n    .dataframe thead th {\n        text-align: right;\n    }\n</style>\n<table border=\"1\" class=\"dataframe\">\n  <thead>\n    <tr style=\"text-align: right;\">\n      <th></th>\n      <th>mean</th>\n      <th>count</th>\n      <th>diff</th>\n      <th>risk</th>\n    </tr>\n    <tr>\n      <th>onlinebackup</th>\n      <th></th>\n      <th></th>\n      <th></th>\n      <th></th>\n    </tr>\n  </thead>\n  <tbody>\n    <tr>\n      <th>no</th>\n      <td>0.404323</td>\n      <td>2498</td>\n      <td>0.134355</td>\n      <td>1.497672</td>\n    </tr>\n    <tr>\n      <th>no_internet_service</th>\n      <td>0.077805</td>\n      <td>1221</td>\n      <td>-0.192163</td>\n      <td>0.288201</td>\n    </tr>\n    <tr>\n      <th>yes</th>\n      <td>0.217232</td>\n      <td>1915</td>\n      <td>-0.052736</td>\n      <td>0.804660</td>\n    </tr>\n  </tbody>\n</table>\n</div>"
     },
     "metadata": {},
     "output_type": "display_data"
    },
    {
     "name": "stdout",
     "output_type": "stream",
     "text": [
      "\n",
      "\n",
      "deviceprotection\n"
     ]
    },
    {
     "data": {
      "text/plain": "                         mean  count      diff      risk\ndeviceprotection                                        \nno                   0.395875   2473  0.125907  1.466379\nno_internet_service  0.077805   1221 -0.192163  0.288201\nyes                  0.230412   1940 -0.039556  0.853480",
      "text/html": "<div>\n<style scoped>\n    .dataframe tbody tr th:only-of-type {\n        vertical-align: middle;\n    }\n\n    .dataframe tbody tr th {\n        vertical-align: top;\n    }\n\n    .dataframe thead th {\n        text-align: right;\n    }\n</style>\n<table border=\"1\" class=\"dataframe\">\n  <thead>\n    <tr style=\"text-align: right;\">\n      <th></th>\n      <th>mean</th>\n      <th>count</th>\n      <th>diff</th>\n      <th>risk</th>\n    </tr>\n    <tr>\n      <th>deviceprotection</th>\n      <th></th>\n      <th></th>\n      <th></th>\n      <th></th>\n    </tr>\n  </thead>\n  <tbody>\n    <tr>\n      <th>no</th>\n      <td>0.395875</td>\n      <td>2473</td>\n      <td>0.125907</td>\n      <td>1.466379</td>\n    </tr>\n    <tr>\n      <th>no_internet_service</th>\n      <td>0.077805</td>\n      <td>1221</td>\n      <td>-0.192163</td>\n      <td>0.288201</td>\n    </tr>\n    <tr>\n      <th>yes</th>\n      <td>0.230412</td>\n      <td>1940</td>\n      <td>-0.039556</td>\n      <td>0.853480</td>\n    </tr>\n  </tbody>\n</table>\n</div>"
     },
     "metadata": {},
     "output_type": "display_data"
    },
    {
     "name": "stdout",
     "output_type": "stream",
     "text": [
      "\n",
      "\n",
      "techsupport\n"
     ]
    },
    {
     "data": {
      "text/plain": "                         mean  count      diff      risk\ntechsupport                                             \nno                   0.418914   2781  0.148946  1.551717\nno_internet_service  0.077805   1221 -0.192163  0.288201\nyes                  0.159926   1632 -0.110042  0.592390",
      "text/html": "<div>\n<style scoped>\n    .dataframe tbody tr th:only-of-type {\n        vertical-align: middle;\n    }\n\n    .dataframe tbody tr th {\n        vertical-align: top;\n    }\n\n    .dataframe thead th {\n        text-align: right;\n    }\n</style>\n<table border=\"1\" class=\"dataframe\">\n  <thead>\n    <tr style=\"text-align: right;\">\n      <th></th>\n      <th>mean</th>\n      <th>count</th>\n      <th>diff</th>\n      <th>risk</th>\n    </tr>\n    <tr>\n      <th>techsupport</th>\n      <th></th>\n      <th></th>\n      <th></th>\n      <th></th>\n    </tr>\n  </thead>\n  <tbody>\n    <tr>\n      <th>no</th>\n      <td>0.418914</td>\n      <td>2781</td>\n      <td>0.148946</td>\n      <td>1.551717</td>\n    </tr>\n    <tr>\n      <th>no_internet_service</th>\n      <td>0.077805</td>\n      <td>1221</td>\n      <td>-0.192163</td>\n      <td>0.288201</td>\n    </tr>\n    <tr>\n      <th>yes</th>\n      <td>0.159926</td>\n      <td>1632</td>\n      <td>-0.110042</td>\n      <td>0.592390</td>\n    </tr>\n  </tbody>\n</table>\n</div>"
     },
     "metadata": {},
     "output_type": "display_data"
    },
    {
     "name": "stdout",
     "output_type": "stream",
     "text": [
      "\n",
      "\n",
      "streamingtv\n"
     ]
    },
    {
     "data": {
      "text/plain": "                         mean  count      diff      risk\nstreamingtv                                             \nno                   0.342832   2246  0.072864  1.269897\nno_internet_service  0.077805   1221 -0.192163  0.288201\nyes                  0.302723   2167  0.032755  1.121328",
      "text/html": "<div>\n<style scoped>\n    .dataframe tbody tr th:only-of-type {\n        vertical-align: middle;\n    }\n\n    .dataframe tbody tr th {\n        vertical-align: top;\n    }\n\n    .dataframe thead th {\n        text-align: right;\n    }\n</style>\n<table border=\"1\" class=\"dataframe\">\n  <thead>\n    <tr style=\"text-align: right;\">\n      <th></th>\n      <th>mean</th>\n      <th>count</th>\n      <th>diff</th>\n      <th>risk</th>\n    </tr>\n    <tr>\n      <th>streamingtv</th>\n      <th></th>\n      <th></th>\n      <th></th>\n      <th></th>\n    </tr>\n  </thead>\n  <tbody>\n    <tr>\n      <th>no</th>\n      <td>0.342832</td>\n      <td>2246</td>\n      <td>0.072864</td>\n      <td>1.269897</td>\n    </tr>\n    <tr>\n      <th>no_internet_service</th>\n      <td>0.077805</td>\n      <td>1221</td>\n      <td>-0.192163</td>\n      <td>0.288201</td>\n    </tr>\n    <tr>\n      <th>yes</th>\n      <td>0.302723</td>\n      <td>2167</td>\n      <td>0.032755</td>\n      <td>1.121328</td>\n    </tr>\n  </tbody>\n</table>\n</div>"
     },
     "metadata": {},
     "output_type": "display_data"
    },
    {
     "name": "stdout",
     "output_type": "stream",
     "text": [
      "\n",
      "\n",
      "streamingmovies\n"
     ]
    },
    {
     "data": {
      "text/plain": "                         mean  count      diff      risk\nstreamingmovies                                         \nno                   0.338906   2213  0.068938  1.255358\nno_internet_service  0.077805   1221 -0.192163  0.288201\nyes                  0.307273   2200  0.037305  1.138182",
      "text/html": "<div>\n<style scoped>\n    .dataframe tbody tr th:only-of-type {\n        vertical-align: middle;\n    }\n\n    .dataframe tbody tr th {\n        vertical-align: top;\n    }\n\n    .dataframe thead th {\n        text-align: right;\n    }\n</style>\n<table border=\"1\" class=\"dataframe\">\n  <thead>\n    <tr style=\"text-align: right;\">\n      <th></th>\n      <th>mean</th>\n      <th>count</th>\n      <th>diff</th>\n      <th>risk</th>\n    </tr>\n    <tr>\n      <th>streamingmovies</th>\n      <th></th>\n      <th></th>\n      <th></th>\n      <th></th>\n    </tr>\n  </thead>\n  <tbody>\n    <tr>\n      <th>no</th>\n      <td>0.338906</td>\n      <td>2213</td>\n      <td>0.068938</td>\n      <td>1.255358</td>\n    </tr>\n    <tr>\n      <th>no_internet_service</th>\n      <td>0.077805</td>\n      <td>1221</td>\n      <td>-0.192163</td>\n      <td>0.288201</td>\n    </tr>\n    <tr>\n      <th>yes</th>\n      <td>0.307273</td>\n      <td>2200</td>\n      <td>0.037305</td>\n      <td>1.138182</td>\n    </tr>\n  </tbody>\n</table>\n</div>"
     },
     "metadata": {},
     "output_type": "display_data"
    },
    {
     "name": "stdout",
     "output_type": "stream",
     "text": [
      "\n",
      "\n",
      "contract\n"
     ]
    },
    {
     "data": {
      "text/plain": "                    mean  count      diff      risk\ncontract                                           \nmonth-to-month  0.431701   3104  0.161733  1.599082\none_year        0.120573   1186 -0.149395  0.446621\ntwo_year        0.028274   1344 -0.241694  0.104730",
      "text/html": "<div>\n<style scoped>\n    .dataframe tbody tr th:only-of-type {\n        vertical-align: middle;\n    }\n\n    .dataframe tbody tr th {\n        vertical-align: top;\n    }\n\n    .dataframe thead th {\n        text-align: right;\n    }\n</style>\n<table border=\"1\" class=\"dataframe\">\n  <thead>\n    <tr style=\"text-align: right;\">\n      <th></th>\n      <th>mean</th>\n      <th>count</th>\n      <th>diff</th>\n      <th>risk</th>\n    </tr>\n    <tr>\n      <th>contract</th>\n      <th></th>\n      <th></th>\n      <th></th>\n      <th></th>\n    </tr>\n  </thead>\n  <tbody>\n    <tr>\n      <th>month-to-month</th>\n      <td>0.431701</td>\n      <td>3104</td>\n      <td>0.161733</td>\n      <td>1.599082</td>\n    </tr>\n    <tr>\n      <th>one_year</th>\n      <td>0.120573</td>\n      <td>1186</td>\n      <td>-0.149395</td>\n      <td>0.446621</td>\n    </tr>\n    <tr>\n      <th>two_year</th>\n      <td>0.028274</td>\n      <td>1344</td>\n      <td>-0.241694</td>\n      <td>0.104730</td>\n    </tr>\n  </tbody>\n</table>\n</div>"
     },
     "metadata": {},
     "output_type": "display_data"
    },
    {
     "name": "stdout",
     "output_type": "stream",
     "text": [
      "\n",
      "\n",
      "paperlessbilling\n"
     ]
    },
    {
     "data": {
      "text/plain": "                      mean  count      diff      risk\npaperlessbilling                                     \nno                0.172071   2313 -0.097897  0.637375\nyes               0.338151   3321  0.068183  1.252560",
      "text/html": "<div>\n<style scoped>\n    .dataframe tbody tr th:only-of-type {\n        vertical-align: middle;\n    }\n\n    .dataframe tbody tr th {\n        vertical-align: top;\n    }\n\n    .dataframe thead th {\n        text-align: right;\n    }\n</style>\n<table border=\"1\" class=\"dataframe\">\n  <thead>\n    <tr style=\"text-align: right;\">\n      <th></th>\n      <th>mean</th>\n      <th>count</th>\n      <th>diff</th>\n      <th>risk</th>\n    </tr>\n    <tr>\n      <th>paperlessbilling</th>\n      <th></th>\n      <th></th>\n      <th></th>\n      <th></th>\n    </tr>\n  </thead>\n  <tbody>\n    <tr>\n      <th>no</th>\n      <td>0.172071</td>\n      <td>2313</td>\n      <td>-0.097897</td>\n      <td>0.637375</td>\n    </tr>\n    <tr>\n      <th>yes</th>\n      <td>0.338151</td>\n      <td>3321</td>\n      <td>0.068183</td>\n      <td>1.252560</td>\n    </tr>\n  </tbody>\n</table>\n</div>"
     },
     "metadata": {},
     "output_type": "display_data"
    },
    {
     "name": "stdout",
     "output_type": "stream",
     "text": [
      "\n",
      "\n",
      "paymentmethod\n"
     ]
    },
    {
     "data": {
      "text/plain": "                               mean  count      diff      risk\npaymentmethod                                                 \nbank_transfer_(automatic)  0.168171   1219 -0.101797  0.622928\ncredit_card_(automatic)    0.164339   1217 -0.105630  0.608733\nelectronic_check           0.455890   1893  0.185922  1.688682\nmailed_check               0.193870   1305 -0.076098  0.718121",
      "text/html": "<div>\n<style scoped>\n    .dataframe tbody tr th:only-of-type {\n        vertical-align: middle;\n    }\n\n    .dataframe tbody tr th {\n        vertical-align: top;\n    }\n\n    .dataframe thead th {\n        text-align: right;\n    }\n</style>\n<table border=\"1\" class=\"dataframe\">\n  <thead>\n    <tr style=\"text-align: right;\">\n      <th></th>\n      <th>mean</th>\n      <th>count</th>\n      <th>diff</th>\n      <th>risk</th>\n    </tr>\n    <tr>\n      <th>paymentmethod</th>\n      <th></th>\n      <th></th>\n      <th></th>\n      <th></th>\n    </tr>\n  </thead>\n  <tbody>\n    <tr>\n      <th>bank_transfer_(automatic)</th>\n      <td>0.168171</td>\n      <td>1219</td>\n      <td>-0.101797</td>\n      <td>0.622928</td>\n    </tr>\n    <tr>\n      <th>credit_card_(automatic)</th>\n      <td>0.164339</td>\n      <td>1217</td>\n      <td>-0.105630</td>\n      <td>0.608733</td>\n    </tr>\n    <tr>\n      <th>electronic_check</th>\n      <td>0.455890</td>\n      <td>1893</td>\n      <td>0.185922</td>\n      <td>1.688682</td>\n    </tr>\n    <tr>\n      <th>mailed_check</th>\n      <td>0.193870</td>\n      <td>1305</td>\n      <td>-0.076098</td>\n      <td>0.718121</td>\n    </tr>\n  </tbody>\n</table>\n</div>"
     },
     "metadata": {},
     "output_type": "display_data"
    },
    {
     "name": "stdout",
     "output_type": "stream",
     "text": [
      "\n"
     ]
    }
   ],
   "source": [
    "for c in categorical:\n",
    "    print(c)\n",
    "    df_group = df_full_train.groupby(c).churn.agg(['mean', 'count'])\n",
    "    df_group['diff'] = df_group['mean'] - global_churn_rate\n",
    "    df_group['risk'] = df_group['mean'] / global_churn_rate\n",
    "    display(df_group)\n",
    "    print()\n",
    "    print()"
   ],
   "metadata": {
    "collapsed": false,
    "ExecuteTime": {
     "end_time": "2024-01-12T08:02:35.529309530Z",
     "start_time": "2024-01-12T08:02:34.549605994Z"
    }
   },
   "id": "ce3a2b129f556f0"
  },
  {
   "cell_type": "markdown",
   "source": [
    "## 3.6 Feature importance: Mutual information\n",
    "Mutual information - concept from information theory, it tells us how much we can learn about one variable if we know the value of another\n",
    "* https://en.wikipedia.org/wiki/Mutual_information"
   ],
   "metadata": {
    "collapsed": false
   },
   "id": "de03d131647b3fc4"
  },
  {
   "cell_type": "code",
   "outputs": [],
   "source": [
    "from sklearn.metrics import mutual_info_score"
   ],
   "metadata": {
    "collapsed": false,
    "ExecuteTime": {
     "end_time": "2024-01-12T08:02:35.928941067Z",
     "start_time": "2024-01-12T08:02:35.176989537Z"
    }
   },
   "id": "28e1657695b1e935",
   "execution_count": 45
  },
  {
   "cell_type": "code",
   "outputs": [
    {
     "data": {
      "text/plain": "0.0983203874041556"
     },
     "execution_count": 46,
     "metadata": {},
     "output_type": "execute_result"
    }
   ],
   "source": [
    "mutual_info_score(df_full_train.churn, df_full_train.contract)"
   ],
   "metadata": {
    "collapsed": false,
    "ExecuteTime": {
     "end_time": "2024-01-12T08:02:37.721938213Z",
     "start_time": "2024-01-12T08:02:35.898095968Z"
    }
   },
   "id": "d4f9c4dd1acfedc8",
   "execution_count": 46
  },
  {
   "cell_type": "code",
   "execution_count": 47,
   "outputs": [
    {
     "data": {
      "text/plain": "0.0001174846211139946"
     },
     "execution_count": 47,
     "metadata": {},
     "output_type": "execute_result"
    }
   ],
   "source": [
    "mutual_info_score(df_full_train.churn, df_full_train.gender)"
   ],
   "metadata": {
    "collapsed": false,
    "ExecuteTime": {
     "end_time": "2024-01-12T08:02:40.486951865Z",
     "start_time": "2024-01-12T08:02:37.654636168Z"
    }
   },
   "id": "141347e7deaccc0e"
  },
  {
   "cell_type": "code",
   "execution_count": 48,
   "outputs": [
    {
     "data": {
      "text/plain": "0.009967689095399745"
     },
     "execution_count": 48,
     "metadata": {},
     "output_type": "execute_result"
    }
   ],
   "source": [
    "mutual_info_score(df_full_train.churn, df_full_train.partner)"
   ],
   "metadata": {
    "collapsed": false,
    "ExecuteTime": {
     "end_time": "2024-01-12T08:02:45.355861391Z",
     "start_time": "2024-01-12T08:02:40.392198313Z"
    }
   },
   "id": "a4602347f1a5805c"
  },
  {
   "cell_type": "code",
   "execution_count": 49,
   "outputs": [],
   "source": [
    "def mutual_info_churn_score(series):\n",
    "    return mutual_info_score(series, df_full_train.churn)"
   ],
   "metadata": {
    "collapsed": false,
    "ExecuteTime": {
     "end_time": "2024-01-12T08:02:45.881583642Z",
     "start_time": "2024-01-12T08:02:45.148692099Z"
    }
   },
   "id": "3de9cb0ebac9d931"
  },
  {
   "cell_type": "code",
   "execution_count": 50,
   "outputs": [
    {
     "data": {
      "text/plain": "customerid          0.583227\ngender              0.000117\nseniorcitizen       0.009410\npartner             0.009968\ndependents          0.012346\nphoneservice        0.000229\nmultiplelines       0.000857\ninternetservice     0.055868\nonlinesecurity      0.063085\nonlinebackup        0.046923\ndeviceprotection    0.043453\ntechsupport         0.061032\nstreamingtv         0.031853\nstreamingmovies     0.031581\ncontract            0.098320\npaperlessbilling    0.017589\npaymentmethod       0.043210\ndtype: float64"
     },
     "execution_count": 50,
     "metadata": {},
     "output_type": "execute_result"
    }
   ],
   "source": [
    "df_full_train[categorical].apply(mutual_info_churn_score)"
   ],
   "metadata": {
    "collapsed": false,
    "ExecuteTime": {
     "end_time": "2024-01-12T08:02:46.506312588Z",
     "start_time": "2024-01-12T08:02:45.891136497Z"
    }
   },
   "id": "2e943f2e6aba900c"
  },
  {
   "cell_type": "code",
   "execution_count": 51,
   "outputs": [
    {
     "data": {
      "text/plain": "customerid          0.583227\ncontract            0.098320\nonlinesecurity      0.063085\ntechsupport         0.061032\ninternetservice     0.055868\nonlinebackup        0.046923\ndeviceprotection    0.043453\npaymentmethod       0.043210\nstreamingtv         0.031853\nstreamingmovies     0.031581\npaperlessbilling    0.017589\ndependents          0.012346\npartner             0.009968\nseniorcitizen       0.009410\nmultiplelines       0.000857\nphoneservice        0.000229\ngender              0.000117\ndtype: float64"
     },
     "execution_count": 51,
     "metadata": {},
     "output_type": "execute_result"
    }
   ],
   "source": [
    "mi = df_full_train[categorical].apply(mutual_info_churn_score)\n",
    "mi.sort_values(ascending=False) # Sorting to most important to less important "
   ],
   "metadata": {
    "collapsed": false,
    "ExecuteTime": {
     "end_time": "2024-01-12T08:02:47.110217760Z",
     "start_time": "2024-01-12T08:02:46.452786594Z"
    }
   },
   "id": "aa46c654b5b8a286"
  },
  {
   "cell_type": "markdown",
   "source": [
    "# 3.7 Feature importance: Correlation\n",
    "How about numerical columns?\n",
    "* Correlation coefficient"
   ],
   "metadata": {
    "collapsed": false
   },
   "id": "67b85e9c1c61dfcb"
  },
  {
   "cell_type": "markdown",
   "source": [
    "Explanation:\n",
    "$y \\in \\{0,1\\}$\n",
    "$x \\in \\mathbb{R}$\n",
    "$x: $ Tenure 0-72\n",
    "$y: $ Churn {0,1}\n",
    "\n",
    "When positive correlation:\n",
    "* More tenure $\\rightarrow$ Higher churn\n",
    "\n",
    "When negative correlation:\n",
    "* More tenure $\\rightarrow$ Less churn\n",
    "\n",
    "When zero correlation:\n",
    "* No effect on churn"
   ],
   "metadata": {
    "collapsed": false
   },
   "id": "461b58f8119937e9"
  },
  {
   "cell_type": "code",
   "execution_count": 52,
   "outputs": [
    {
     "data": {
      "text/plain": "72"
     },
     "execution_count": 52,
     "metadata": {},
     "output_type": "execute_result"
    }
   ],
   "source": [
    "df_full_train.tenure.max()"
   ],
   "metadata": {
    "collapsed": false,
    "ExecuteTime": {
     "end_time": "2024-01-12T08:02:47.426587888Z",
     "start_time": "2024-01-12T08:02:46.963353198Z"
    }
   },
   "id": "78ccb45bb9422f7"
  },
  {
   "cell_type": "code",
   "execution_count": 53,
   "outputs": [
    {
     "data": {
      "text/plain": "      tenure  monthlycharges  totalcharges\n0         12           19.70        258.35\n1         42           73.90       3160.55\n2         71           65.15       4681.75\n3         71           85.45       6300.85\n4         30           70.40       2044.75\n...      ...             ...           ...\n5629       9          100.50        918.60\n5630      60           19.95       1189.90\n5631      28          105.70       2979.50\n5632       2           54.40        114.10\n5633      16           68.25       1114.85\n\n[5634 rows x 3 columns]",
      "text/html": "<div>\n<style scoped>\n    .dataframe tbody tr th:only-of-type {\n        vertical-align: middle;\n    }\n\n    .dataframe tbody tr th {\n        vertical-align: top;\n    }\n\n    .dataframe thead th {\n        text-align: right;\n    }\n</style>\n<table border=\"1\" class=\"dataframe\">\n  <thead>\n    <tr style=\"text-align: right;\">\n      <th></th>\n      <th>tenure</th>\n      <th>monthlycharges</th>\n      <th>totalcharges</th>\n    </tr>\n  </thead>\n  <tbody>\n    <tr>\n      <th>0</th>\n      <td>12</td>\n      <td>19.70</td>\n      <td>258.35</td>\n    </tr>\n    <tr>\n      <th>1</th>\n      <td>42</td>\n      <td>73.90</td>\n      <td>3160.55</td>\n    </tr>\n    <tr>\n      <th>2</th>\n      <td>71</td>\n      <td>65.15</td>\n      <td>4681.75</td>\n    </tr>\n    <tr>\n      <th>3</th>\n      <td>71</td>\n      <td>85.45</td>\n      <td>6300.85</td>\n    </tr>\n    <tr>\n      <th>4</th>\n      <td>30</td>\n      <td>70.40</td>\n      <td>2044.75</td>\n    </tr>\n    <tr>\n      <th>...</th>\n      <td>...</td>\n      <td>...</td>\n      <td>...</td>\n    </tr>\n    <tr>\n      <th>5629</th>\n      <td>9</td>\n      <td>100.50</td>\n      <td>918.60</td>\n    </tr>\n    <tr>\n      <th>5630</th>\n      <td>60</td>\n      <td>19.95</td>\n      <td>1189.90</td>\n    </tr>\n    <tr>\n      <th>5631</th>\n      <td>28</td>\n      <td>105.70</td>\n      <td>2979.50</td>\n    </tr>\n    <tr>\n      <th>5632</th>\n      <td>2</td>\n      <td>54.40</td>\n      <td>114.10</td>\n    </tr>\n    <tr>\n      <th>5633</th>\n      <td>16</td>\n      <td>68.25</td>\n      <td>1114.85</td>\n    </tr>\n  </tbody>\n</table>\n<p>5634 rows × 3 columns</p>\n</div>"
     },
     "execution_count": 53,
     "metadata": {},
     "output_type": "execute_result"
    }
   ],
   "source": [
    "df_full_train[numerical]"
   ],
   "metadata": {
    "collapsed": false,
    "ExecuteTime": {
     "end_time": "2024-01-12T08:02:47.889534148Z",
     "start_time": "2024-01-12T08:02:47.296954303Z"
    }
   },
   "id": "83254caa343ac643"
  },
  {
   "cell_type": "code",
   "execution_count": 54,
   "outputs": [
    {
     "data": {
      "text/plain": "tenure           -0.351885\ntotalcharges     -0.196353\nmonthlycharges    0.196805\ndtype: float64"
     },
     "execution_count": 54,
     "metadata": {},
     "output_type": "execute_result"
    }
   ],
   "source": [
    "df_full_train[numerical].corrwith(df_full_train.churn).sort_values()"
   ],
   "metadata": {
    "collapsed": false,
    "ExecuteTime": {
     "end_time": "2024-01-12T08:02:48.320299491Z",
     "start_time": "2024-01-12T08:02:47.858599048Z"
    }
   },
   "id": "4c925ca981f1f9c"
  },
  {
   "cell_type": "code",
   "execution_count": 55,
   "outputs": [
    {
     "data": {
      "text/plain": "0.5953420669577875"
     },
     "execution_count": 55,
     "metadata": {},
     "output_type": "execute_result"
    }
   ],
   "source": [
    "df_full_train[df_full_train.tenure <= 2].churn.mean() # ceux qui sont là depuis 2 mois ou moins"
   ],
   "metadata": {
    "collapsed": false,
    "ExecuteTime": {
     "end_time": "2024-01-12T08:02:48.641554345Z",
     "start_time": "2024-01-12T08:02:48.222078495Z"
    }
   },
   "id": "1df62c97525d6746"
  },
  {
   "cell_type": "code",
   "execution_count": 56,
   "outputs": [
    {
     "data": {
      "text/plain": "0.3994413407821229"
     },
     "execution_count": 56,
     "metadata": {},
     "output_type": "execute_result"
    }
   ],
   "source": [
    "df_full_train[(df_full_train.tenure > 2) & (df_full_train.tenure <= 12)].churn.mean()"
   ],
   "metadata": {
    "collapsed": false,
    "ExecuteTime": {
     "end_time": "2024-01-12T08:02:49.083736999Z",
     "start_time": "2024-01-12T08:02:48.588256410Z"
    }
   },
   "id": "173b0e12315feb53"
  },
  {
   "cell_type": "code",
   "execution_count": 57,
   "outputs": [
    {
     "data": {
      "text/plain": "0.17634908339788277"
     },
     "execution_count": 57,
     "metadata": {},
     "output_type": "execute_result"
    }
   ],
   "source": [
    "df_full_train[df_full_train.tenure > 12].churn.mean()"
   ],
   "metadata": {
    "collapsed": false,
    "ExecuteTime": {
     "end_time": "2024-01-12T08:02:49.753712455Z",
     "start_time": "2024-01-12T08:02:49.082240031Z"
    }
   },
   "id": "7e940e5a5ee29252"
  },
  {
   "cell_type": "markdown",
   "source": [
    "Les chiffres montrent que plus les gens restent, moins ils ont tendence à se désabonner (négative correelation)"
   ],
   "metadata": {
    "collapsed": false
   },
   "id": "807e19ebcece1d3c"
  },
  {
   "cell_type": "code",
   "execution_count": 58,
   "outputs": [
    {
     "data": {
      "text/plain": "0.08795411089866156"
     },
     "execution_count": 58,
     "metadata": {},
     "output_type": "execute_result"
    }
   ],
   "source": [
    "df_full_train[df_full_train.monthlycharges <= 20].churn.mean()"
   ],
   "metadata": {
    "collapsed": false,
    "ExecuteTime": {
     "end_time": "2024-01-12T08:02:50.062166829Z",
     "start_time": "2024-01-12T08:02:49.502279297Z"
    }
   },
   "id": "aad7704590802669"
  },
  {
   "cell_type": "code",
   "execution_count": 59,
   "outputs": [
    {
     "data": {
      "text/plain": "0.18340943683409436"
     },
     "execution_count": 59,
     "metadata": {},
     "output_type": "execute_result"
    }
   ],
   "source": [
    "df_full_train[(df_full_train.monthlycharges > 20) & (df_full_train.monthlycharges <= 50)].churn.mean()"
   ],
   "metadata": {
    "collapsed": false,
    "ExecuteTime": {
     "end_time": "2024-01-12T08:02:50.661398094Z",
     "start_time": "2024-01-12T08:02:50.007428835Z"
    }
   },
   "id": "503de55ec9ad2593"
  },
  {
   "cell_type": "code",
   "execution_count": 60,
   "outputs": [
    {
     "data": {
      "text/plain": "0.32499341585462205"
     },
     "execution_count": 60,
     "metadata": {},
     "output_type": "execute_result"
    }
   ],
   "source": [
    "df_full_train[df_full_train.monthlycharges > 50].churn.mean()"
   ],
   "metadata": {
    "collapsed": false,
    "ExecuteTime": {
     "end_time": "2024-01-12T08:02:51.150464136Z",
     "start_time": "2024-01-12T08:02:50.594682540Z"
    }
   },
   "id": "21d6592d2ac9ec82"
  },
  {
   "cell_type": "markdown",
   "source": [],
   "metadata": {
    "collapsed": false
   },
   "id": "6ed5acbe541c61b4"
  },
  {
   "cell_type": "markdown",
   "source": [
    "Les chiffres montrent que plus les charges ($) sont élevées, plus les gens partent (positive correlation)"
   ],
   "metadata": {
    "collapsed": false
   },
   "id": "95c734968b79223d"
  },
  {
   "cell_type": "markdown",
   "source": [
    "# 3.8 One-hot encoding\n",
    "* Use Scikit-Learn to encode categorical features"
   ],
   "metadata": {
    "collapsed": false
   },
   "id": "4e1889e2fd55ea0a"
  },
  {
   "cell_type": "markdown",
   "source": [
    "| Gender | Contract |\n",
    "|-----|----------|\n",
    "| Female | 2 years  |\n",
    "| Male | 1 year   |\n",
    "| Male | month    |\n",
    "| Male | 1 year   |\n",
    "| Female | month    |\n",
    "\n",
    "| Gender |   |       |      | Contract |\n",
    "|--------|---|-------|------|----------|\n",
    "| M      | F | Month | Year | 2 Years  |\n",
    "| 0      | 1 | 0     | 0    | 1        |\n",
    "| 1      | 0 | 0     | 1    | 0        |\n",
    "| 1      | 0 | 1     | 0    | 0        |\n",
    "| 1      | 0 | 0     | 1    | 0        |\n",
    "| 0      | 1 | 1     | 0    | 0        |\n"
   ],
   "metadata": {
    "collapsed": false
   },
   "id": "9f99b6ee7bc50c36"
  },
  {
   "cell_type": "code",
   "execution_count": 61,
   "outputs": [],
   "source": [
    "from sklearn.feature_extraction import DictVectorizer"
   ],
   "metadata": {
    "collapsed": false,
    "ExecuteTime": {
     "end_time": "2024-01-12T08:02:51.313869848Z",
     "start_time": "2024-01-12T08:02:50.989304294Z"
    }
   },
   "id": "b429e2c9b180721e"
  },
  {
   "cell_type": "code",
   "execution_count": 70,
   "outputs": [
    {
     "data": {
      "text/plain": "[{'gender': 'male', 'contract': 'two_year', 'tenure': 12},\n {'gender': 'female', 'contract': 'one_year', 'tenure': 42},\n {'gender': 'male', 'contract': 'two_year', 'tenure': 71},\n {'gender': 'male', 'contract': 'one_year', 'tenure': 71},\n {'gender': 'male', 'contract': 'one_year', 'tenure': 30},\n {'gender': 'female', 'contract': 'month-to-month', 'tenure': 9},\n {'gender': 'male', 'contract': 'two_year', 'tenure': 72},\n {'gender': 'male', 'contract': 'month-to-month', 'tenure': 28},\n {'gender': 'male', 'contract': 'month-to-month', 'tenure': 6},\n {'gender': 'female', 'contract': 'month-to-month', 'tenure': 47}]"
     },
     "execution_count": 70,
     "metadata": {},
     "output_type": "execute_result"
    }
   ],
   "source": [
    "df_full_train[['gender', 'contract', 'tenure']].iloc[:10].to_dict(orient='records')"
   ],
   "metadata": {
    "collapsed": false,
    "ExecuteTime": {
     "end_time": "2024-01-12T08:27:47.045828783Z",
     "start_time": "2024-01-12T08:27:46.338378169Z"
    }
   },
   "id": "717acff773db06bc"
  },
  {
   "cell_type": "code",
   "execution_count": 71,
   "outputs": [],
   "source": [
    "dicts = df_full_train[['gender', 'contract', 'tenure']].iloc[:10].to_dict(orient='records')"
   ],
   "metadata": {
    "collapsed": false,
    "ExecuteTime": {
     "end_time": "2024-01-12T08:28:06.467825562Z",
     "start_time": "2024-01-12T08:28:05.971075443Z"
    }
   },
   "id": "b6e2bd532cadf38e"
  },
  {
   "cell_type": "code",
   "execution_count": 72,
   "outputs": [],
   "source": [
    "dv = DictVectorizer()"
   ],
   "metadata": {
    "collapsed": false,
    "ExecuteTime": {
     "end_time": "2024-01-12T08:28:08.610316466Z",
     "start_time": "2024-01-12T08:28:07.921142265Z"
    }
   },
   "id": "98cc3033693c677b"
  },
  {
   "cell_type": "code",
   "execution_count": 73,
   "outputs": [
    {
     "data": {
      "text/plain": "DictVectorizer()",
      "text/html": "<style>#sk-container-id-2 {color: black;background-color: white;}#sk-container-id-2 pre{padding: 0;}#sk-container-id-2 div.sk-toggleable {background-color: white;}#sk-container-id-2 label.sk-toggleable__label {cursor: pointer;display: block;width: 100%;margin-bottom: 0;padding: 0.3em;box-sizing: border-box;text-align: center;}#sk-container-id-2 label.sk-toggleable__label-arrow:before {content: \"▸\";float: left;margin-right: 0.25em;color: #696969;}#sk-container-id-2 label.sk-toggleable__label-arrow:hover:before {color: black;}#sk-container-id-2 div.sk-estimator:hover label.sk-toggleable__label-arrow:before {color: black;}#sk-container-id-2 div.sk-toggleable__content {max-height: 0;max-width: 0;overflow: hidden;text-align: left;background-color: #f0f8ff;}#sk-container-id-2 div.sk-toggleable__content pre {margin: 0.2em;color: black;border-radius: 0.25em;background-color: #f0f8ff;}#sk-container-id-2 input.sk-toggleable__control:checked~div.sk-toggleable__content {max-height: 200px;max-width: 100%;overflow: auto;}#sk-container-id-2 input.sk-toggleable__control:checked~label.sk-toggleable__label-arrow:before {content: \"▾\";}#sk-container-id-2 div.sk-estimator input.sk-toggleable__control:checked~label.sk-toggleable__label {background-color: #d4ebff;}#sk-container-id-2 div.sk-label input.sk-toggleable__control:checked~label.sk-toggleable__label {background-color: #d4ebff;}#sk-container-id-2 input.sk-hidden--visually {border: 0;clip: rect(1px 1px 1px 1px);clip: rect(1px, 1px, 1px, 1px);height: 1px;margin: -1px;overflow: hidden;padding: 0;position: absolute;width: 1px;}#sk-container-id-2 div.sk-estimator {font-family: monospace;background-color: #f0f8ff;border: 1px dotted black;border-radius: 0.25em;box-sizing: border-box;margin-bottom: 0.5em;}#sk-container-id-2 div.sk-estimator:hover {background-color: #d4ebff;}#sk-container-id-2 div.sk-parallel-item::after {content: \"\";width: 100%;border-bottom: 1px solid gray;flex-grow: 1;}#sk-container-id-2 div.sk-label:hover label.sk-toggleable__label {background-color: #d4ebff;}#sk-container-id-2 div.sk-serial::before {content: \"\";position: absolute;border-left: 1px solid gray;box-sizing: border-box;top: 0;bottom: 0;left: 50%;z-index: 0;}#sk-container-id-2 div.sk-serial {display: flex;flex-direction: column;align-items: center;background-color: white;padding-right: 0.2em;padding-left: 0.2em;position: relative;}#sk-container-id-2 div.sk-item {position: relative;z-index: 1;}#sk-container-id-2 div.sk-parallel {display: flex;align-items: stretch;justify-content: center;background-color: white;position: relative;}#sk-container-id-2 div.sk-item::before, #sk-container-id-2 div.sk-parallel-item::before {content: \"\";position: absolute;border-left: 1px solid gray;box-sizing: border-box;top: 0;bottom: 0;left: 50%;z-index: -1;}#sk-container-id-2 div.sk-parallel-item {display: flex;flex-direction: column;z-index: 1;position: relative;background-color: white;}#sk-container-id-2 div.sk-parallel-item:first-child::after {align-self: flex-end;width: 50%;}#sk-container-id-2 div.sk-parallel-item:last-child::after {align-self: flex-start;width: 50%;}#sk-container-id-2 div.sk-parallel-item:only-child::after {width: 0;}#sk-container-id-2 div.sk-dashed-wrapped {border: 1px dashed gray;margin: 0 0.4em 0.5em 0.4em;box-sizing: border-box;padding-bottom: 0.4em;background-color: white;}#sk-container-id-2 div.sk-label label {font-family: monospace;font-weight: bold;display: inline-block;line-height: 1.2em;}#sk-container-id-2 div.sk-label-container {text-align: center;}#sk-container-id-2 div.sk-container {/* jupyter's `normalize.less` sets `[hidden] { display: none; }` but bootstrap.min.css set `[hidden] { display: none !important; }` so we also need the `!important` here to be able to override the default hidden behavior on the sphinx rendered scikit-learn.org. See: https://github.com/scikit-learn/scikit-learn/issues/21755 */display: inline-block !important;position: relative;}#sk-container-id-2 div.sk-text-repr-fallback {display: none;}</style><div id=\"sk-container-id-2\" class=\"sk-top-container\"><div class=\"sk-text-repr-fallback\"><pre>DictVectorizer()</pre><b>In a Jupyter environment, please rerun this cell to show the HTML representation or trust the notebook. <br />On GitHub, the HTML representation is unable to render, please try loading this page with nbviewer.org.</b></div><div class=\"sk-container\" hidden><div class=\"sk-item\"><div class=\"sk-estimator sk-toggleable\"><input class=\"sk-toggleable__control sk-hidden--visually\" id=\"sk-estimator-id-2\" type=\"checkbox\" checked><label for=\"sk-estimator-id-2\" class=\"sk-toggleable__label sk-toggleable__label-arrow\">DictVectorizer</label><div class=\"sk-toggleable__content\"><pre>DictVectorizer()</pre></div></div></div></div></div>"
     },
     "execution_count": 73,
     "metadata": {},
     "output_type": "execute_result"
    }
   ],
   "source": [
    "dv.fit(dicts)"
   ],
   "metadata": {
    "collapsed": false,
    "ExecuteTime": {
     "end_time": "2024-01-12T08:28:09.538003819Z",
     "start_time": "2024-01-12T08:28:08.800945023Z"
    }
   },
   "id": "aed80fa720f4f6d8"
  },
  {
   "cell_type": "code",
   "execution_count": 74,
   "outputs": [
    {
     "data": {
      "text/plain": "<10x6 sparse matrix of type '<class 'numpy.float64'>'\n\twith 30 stored elements in Compressed Sparse Row format>"
     },
     "execution_count": 74,
     "metadata": {},
     "output_type": "execute_result"
    }
   ],
   "source": [
    "dv.transform(dicts)"
   ],
   "metadata": {
    "collapsed": false,
    "ExecuteTime": {
     "end_time": "2024-01-12T08:28:10.776022203Z",
     "start_time": "2024-01-12T08:28:10.047064396Z"
    }
   },
   "id": "ec6bd998987b3aad"
  },
  {
   "cell_type": "markdown",
   "source": [
    "Ici on ne veut pas une matrice \"Sparse\""
   ],
   "metadata": {
    "collapsed": false
   },
   "id": "5e59b5540d6d4fd7"
  },
  {
   "cell_type": "code",
   "execution_count": 75,
   "outputs": [
    {
     "data": {
      "text/plain": "array([[ 0.,  0.,  1.,  0.,  1., 12.],\n       [ 0.,  1.,  0.,  1.,  0., 42.],\n       [ 0.,  0.,  1.,  0.,  1., 71.],\n       [ 0.,  1.,  0.,  0.,  1., 71.],\n       [ 0.,  1.,  0.,  0.,  1., 30.],\n       [ 1.,  0.,  0.,  1.,  0.,  9.],\n       [ 0.,  0.,  1.,  0.,  1., 72.],\n       [ 1.,  0.,  0.,  0.,  1., 28.],\n       [ 1.,  0.,  0.,  0.,  1.,  6.],\n       [ 1.,  0.,  0.,  1.,  0., 47.]])"
     },
     "execution_count": 75,
     "metadata": {},
     "output_type": "execute_result"
    }
   ],
   "source": [
    "dv = DictVectorizer(sparse=False)\n",
    "dv.fit(dicts)\n",
    "dv.transform(dicts)"
   ],
   "metadata": {
    "collapsed": false,
    "ExecuteTime": {
     "end_time": "2024-01-12T08:28:20.050634964Z",
     "start_time": "2024-01-12T08:28:19.503601845Z"
    }
   },
   "id": "5b4b41e60104ebb0"
  },
  {
   "cell_type": "code",
   "execution_count": 76,
   "outputs": [
    {
     "data": {
      "text/plain": "array(['contract=month-to-month', 'contract=one_year',\n       'contract=two_year', 'gender=female', 'gender=male', 'tenure'],\n      dtype=object)"
     },
     "execution_count": 76,
     "metadata": {},
     "output_type": "execute_result"
    }
   ],
   "source": [
    "dv.get_feature_names_out() # les correspondances avec le DF ci-dessus"
   ],
   "metadata": {
    "collapsed": false,
    "ExecuteTime": {
     "end_time": "2024-01-12T08:28:23.115497962Z",
     "start_time": "2024-01-12T08:28:22.852883529Z"
    }
   },
   "id": "44f0bdd18c7ae810"
  },
  {
   "cell_type": "code",
   "execution_count": 86,
   "outputs": [],
   "source": [
    "train_dicts = df_train[categorical + numerical].to_dict(orient='records')"
   ],
   "metadata": {
    "collapsed": false,
    "ExecuteTime": {
     "end_time": "2024-01-12T08:32:36.628087717Z",
     "start_time": "2024-01-12T08:32:36.087651971Z"
    }
   },
   "id": "52062ac39b4c476c"
  },
  {
   "cell_type": "code",
   "execution_count": 88,
   "outputs": [
    {
     "data": {
      "text/plain": "{'customerid': '8015-ihcgw',\n 'gender': 'female',\n 'seniorcitizen': 0,\n 'partner': 'yes',\n 'dependents': 'yes',\n 'phoneservice': 'yes',\n 'multiplelines': 'yes',\n 'internetservice': 'fiber_optic',\n 'onlinesecurity': 'yes',\n 'onlinebackup': 'yes',\n 'deviceprotection': 'yes',\n 'techsupport': 'yes',\n 'streamingtv': 'yes',\n 'streamingmovies': 'yes',\n 'contract': 'two_year',\n 'paperlessbilling': 'yes',\n 'paymentmethod': 'electronic_check',\n 'tenure': 72,\n 'monthlycharges': 115.5,\n 'totalcharges': 8425.15}"
     },
     "execution_count": 88,
     "metadata": {},
     "output_type": "execute_result"
    }
   ],
   "source": [
    "train_dicts[0]"
   ],
   "metadata": {
    "collapsed": false,
    "ExecuteTime": {
     "end_time": "2024-01-12T08:33:10.529587366Z",
     "start_time": "2024-01-12T08:33:10.252569056Z"
    }
   },
   "id": "cedc8feb401801c3"
  },
  {
   "cell_type": "code",
   "execution_count": 85,
   "outputs": [
    {
     "data": {
      "text/plain": "Index(['customerid', 'gender', 'seniorcitizen', 'partner', 'dependents',\n       'tenure', 'phoneservice', 'multiplelines', 'internetservice',\n       'onlinesecurity', 'onlinebackup', 'deviceprotection', 'techsupport',\n       'streamingtv', 'streamingmovies', 'contract', 'paperlessbilling',\n       'paymentmethod', 'monthlycharges', 'totalcharges'],\n      dtype='object')"
     },
     "execution_count": 85,
     "metadata": {},
     "output_type": "execute_result"
    }
   ],
   "source": [
    "df_train.columns"
   ],
   "metadata": {
    "collapsed": false,
    "ExecuteTime": {
     "end_time": "2024-01-12T08:31:46.666227151Z",
     "start_time": "2024-01-12T08:31:46.360686234Z"
    }
   },
   "id": "75d73676a9de5673"
  },
  {
   "cell_type": "code",
   "execution_count": 89,
   "outputs": [],
   "source": [
    "dv = DictVectorizer(sparse=False)"
   ],
   "metadata": {
    "collapsed": false,
    "ExecuteTime": {
     "end_time": "2024-01-12T08:33:49.294835167Z",
     "start_time": "2024-01-12T08:33:48.940094732Z"
    }
   },
   "id": "c88837d097256331"
  },
  {
   "cell_type": "code",
   "execution_count": 97,
   "outputs": [],
   "source": [
    "X_train = dv.fit_transform(train_dicts)"
   ],
   "metadata": {
    "collapsed": false,
    "ExecuteTime": {
     "end_time": "2024-01-12T08:37:03.297847711Z",
     "start_time": "2024-01-12T08:37:02.801697883Z"
    }
   },
   "id": "443d97216f5ac339"
  },
  {
   "cell_type": "code",
   "execution_count": 95,
   "outputs": [
    {
     "data": {
      "text/plain": "[0.0,\n 0.0,\n 1.0,\n 0.0,\n 0.0,\n 0.0,\n 0.0,\n 0.0,\n 0.0,\n 0.0,\n 0.0,\n 0.0,\n 0.0,\n 0.0,\n 0.0,\n 0.0,\n 0.0,\n 0.0,\n 0.0,\n 0.0,\n 0.0,\n 0.0,\n 0.0,\n 0.0,\n 0.0,\n 0.0,\n 0.0,\n 0.0,\n 0.0,\n 0.0,\n 0.0,\n 0.0,\n 0.0,\n 0.0,\n 0.0,\n 0.0,\n 0.0,\n 0.0,\n 0.0,\n 0.0,\n 0.0,\n 0.0,\n 0.0,\n 0.0,\n 0.0,\n 0.0,\n 0.0,\n 0.0,\n 0.0,\n 0.0,\n 0.0,\n 0.0,\n 0.0,\n 0.0,\n 0.0,\n 0.0,\n 0.0,\n 0.0,\n 0.0,\n 0.0,\n 0.0,\n 0.0,\n 0.0,\n 0.0,\n 0.0,\n 0.0,\n 0.0,\n 0.0,\n 0.0,\n 0.0,\n 0.0,\n 0.0,\n 0.0,\n 0.0,\n 0.0,\n 0.0,\n 0.0,\n 0.0,\n 0.0,\n 0.0,\n 0.0,\n 0.0,\n 0.0,\n 0.0,\n 0.0,\n 0.0,\n 0.0,\n 0.0,\n 0.0,\n 0.0,\n 0.0,\n 0.0,\n 0.0,\n 0.0,\n 0.0,\n 0.0,\n 0.0,\n 0.0,\n 0.0,\n 0.0,\n 0.0,\n 0.0,\n 0.0,\n 0.0,\n 0.0,\n 0.0,\n 0.0,\n 0.0,\n 0.0,\n 0.0,\n 0.0,\n 0.0,\n 0.0,\n 0.0,\n 0.0,\n 0.0,\n 0.0,\n 0.0,\n 0.0,\n 0.0,\n 0.0,\n 0.0,\n 0.0,\n 0.0,\n 0.0,\n 0.0,\n 0.0,\n 0.0,\n 0.0,\n 0.0,\n 0.0,\n 0.0,\n 0.0,\n 0.0,\n 0.0,\n 0.0,\n 0.0,\n 0.0,\n 0.0,\n 0.0,\n 0.0,\n 0.0,\n 0.0,\n 0.0,\n 0.0,\n 0.0,\n 0.0,\n 0.0,\n 0.0,\n 0.0,\n 0.0,\n 0.0,\n 0.0,\n 0.0,\n 0.0,\n 0.0,\n 0.0,\n 0.0,\n 0.0,\n 0.0,\n 0.0,\n 0.0,\n 0.0,\n 0.0,\n 0.0,\n 0.0,\n 0.0,\n 0.0,\n 0.0,\n 0.0,\n 0.0,\n 0.0,\n 0.0,\n 0.0,\n 0.0,\n 0.0,\n 0.0,\n 0.0,\n 0.0,\n 0.0,\n 0.0,\n 0.0,\n 0.0,\n 0.0,\n 0.0,\n 0.0,\n 0.0,\n 0.0,\n 0.0,\n 0.0,\n 0.0,\n 0.0,\n 0.0,\n 0.0,\n 0.0,\n 0.0,\n 0.0,\n 0.0,\n 0.0,\n 0.0,\n 0.0,\n 0.0,\n 0.0,\n 0.0,\n 0.0,\n 0.0,\n 0.0,\n 0.0,\n 0.0,\n 0.0,\n 0.0,\n 0.0,\n 0.0,\n 0.0,\n 0.0,\n 0.0,\n 0.0,\n 0.0,\n 0.0,\n 0.0,\n 0.0,\n 0.0,\n 0.0,\n 0.0,\n 0.0,\n 0.0,\n 0.0,\n 0.0,\n 0.0,\n 0.0,\n 0.0,\n 0.0,\n 0.0,\n 0.0,\n 0.0,\n 0.0,\n 0.0,\n 0.0,\n 0.0,\n 0.0,\n 0.0,\n 0.0,\n 0.0,\n 0.0,\n 0.0,\n 0.0,\n 0.0,\n 0.0,\n 0.0,\n 0.0,\n 0.0,\n 0.0,\n 0.0,\n 0.0,\n 0.0,\n 0.0,\n 0.0,\n 0.0,\n 0.0,\n 0.0,\n 0.0,\n 0.0,\n 0.0,\n 0.0,\n 0.0,\n 0.0,\n 0.0,\n 0.0,\n 0.0,\n 0.0,\n 0.0,\n 0.0,\n 0.0,\n 0.0,\n 0.0,\n 0.0,\n 0.0,\n 0.0,\n 0.0,\n 0.0,\n 0.0,\n 0.0,\n 0.0,\n 0.0,\n 0.0,\n 0.0,\n 0.0,\n 0.0,\n 0.0,\n 0.0,\n 0.0,\n 0.0,\n 0.0,\n 0.0,\n 0.0,\n 0.0,\n 0.0,\n 0.0,\n 0.0,\n 0.0,\n 0.0,\n 0.0,\n 0.0,\n 0.0,\n 0.0,\n 0.0,\n 0.0,\n 0.0,\n 0.0,\n 0.0,\n 0.0,\n 0.0,\n 0.0,\n 0.0,\n 0.0,\n 0.0,\n 0.0,\n 0.0,\n 0.0,\n 0.0,\n 0.0,\n 0.0,\n 0.0,\n 0.0,\n 0.0,\n 0.0,\n 0.0,\n 0.0,\n 0.0,\n 0.0,\n 0.0,\n 0.0,\n 0.0,\n 0.0,\n 0.0,\n 0.0,\n 0.0,\n 0.0,\n 0.0,\n 0.0,\n 0.0,\n 0.0,\n 0.0,\n 0.0,\n 0.0,\n 0.0,\n 0.0,\n 0.0,\n 0.0,\n 0.0,\n 0.0,\n 0.0,\n 0.0,\n 0.0,\n 0.0,\n 0.0,\n 0.0,\n 0.0,\n 0.0,\n 0.0,\n 0.0,\n 0.0,\n 0.0,\n 0.0,\n 0.0,\n 0.0,\n 0.0,\n 0.0,\n 0.0,\n 0.0,\n 0.0,\n 0.0,\n 0.0,\n 0.0,\n 0.0,\n 0.0,\n 0.0,\n 0.0,\n 0.0,\n 0.0,\n 0.0,\n 0.0,\n 0.0,\n 0.0,\n 0.0,\n 0.0,\n 0.0,\n 0.0,\n 0.0,\n 0.0,\n 0.0,\n 0.0,\n 0.0,\n 0.0,\n 0.0,\n 0.0,\n 0.0,\n 0.0,\n 0.0,\n 0.0,\n 0.0,\n 0.0,\n 0.0,\n 0.0,\n 0.0,\n 0.0,\n 0.0,\n 0.0,\n 0.0,\n 0.0,\n 0.0,\n 0.0,\n 0.0,\n 0.0,\n 0.0,\n 0.0,\n 0.0,\n 0.0,\n 0.0,\n 0.0,\n 0.0,\n 0.0,\n 0.0,\n 0.0,\n 0.0,\n 0.0,\n 0.0,\n 0.0,\n 0.0,\n 0.0,\n 0.0,\n 0.0,\n 0.0,\n 0.0,\n 0.0,\n 0.0,\n 0.0,\n 0.0,\n 0.0,\n 0.0,\n 0.0,\n 0.0,\n 0.0,\n 0.0,\n 0.0,\n 0.0,\n 0.0,\n 0.0,\n 0.0,\n 0.0,\n 0.0,\n 0.0,\n 0.0,\n 0.0,\n 0.0,\n 0.0,\n 0.0,\n 0.0,\n 0.0,\n 0.0,\n 0.0,\n 0.0,\n 0.0,\n 0.0,\n 0.0,\n 0.0,\n 0.0,\n 0.0,\n 0.0,\n 0.0,\n 0.0,\n 0.0,\n 0.0,\n 0.0,\n 0.0,\n 0.0,\n 0.0,\n 0.0,\n 0.0,\n 0.0,\n 0.0,\n 0.0,\n 0.0,\n 0.0,\n 0.0,\n 0.0,\n 0.0,\n 0.0,\n 0.0,\n 0.0,\n 0.0,\n 0.0,\n 0.0,\n 0.0,\n 0.0,\n 0.0,\n 0.0,\n 0.0,\n 0.0,\n 0.0,\n 0.0,\n 0.0,\n 0.0,\n 0.0,\n 0.0,\n 0.0,\n 0.0,\n 0.0,\n 0.0,\n 0.0,\n 0.0,\n 0.0,\n 0.0,\n 0.0,\n 0.0,\n 0.0,\n 0.0,\n 0.0,\n 0.0,\n 0.0,\n 0.0,\n 0.0,\n 0.0,\n 0.0,\n 0.0,\n 0.0,\n 0.0,\n 0.0,\n 0.0,\n 0.0,\n 0.0,\n 0.0,\n 0.0,\n 0.0,\n 0.0,\n 0.0,\n 0.0,\n 0.0,\n 0.0,\n 0.0,\n 0.0,\n 0.0,\n 0.0,\n 0.0,\n 0.0,\n 0.0,\n 0.0,\n 0.0,\n 0.0,\n 0.0,\n 0.0,\n 0.0,\n 0.0,\n 0.0,\n 0.0,\n 0.0,\n 0.0,\n 0.0,\n 0.0,\n 0.0,\n 0.0,\n 0.0,\n 0.0,\n 0.0,\n 0.0,\n 0.0,\n 0.0,\n 0.0,\n 0.0,\n 0.0,\n 0.0,\n 0.0,\n 0.0,\n 0.0,\n 0.0,\n 0.0,\n 0.0,\n 0.0,\n 0.0,\n 0.0,\n 0.0,\n 0.0,\n 0.0,\n 0.0,\n 0.0,\n 0.0,\n 0.0,\n 0.0,\n 0.0,\n 0.0,\n 0.0,\n 0.0,\n 0.0,\n 0.0,\n 0.0,\n 0.0,\n 0.0,\n 0.0,\n 0.0,\n 0.0,\n 0.0,\n 0.0,\n 0.0,\n 0.0,\n 0.0,\n 0.0,\n 0.0,\n 0.0,\n 0.0,\n 0.0,\n 0.0,\n 0.0,\n 0.0,\n 0.0,\n 0.0,\n 0.0,\n 0.0,\n 0.0,\n 0.0,\n 0.0,\n 0.0,\n 0.0,\n 0.0,\n 0.0,\n 0.0,\n 0.0,\n 0.0,\n 0.0,\n 0.0,\n 0.0,\n 0.0,\n 0.0,\n 0.0,\n 0.0,\n 0.0,\n 0.0,\n 0.0,\n 0.0,\n 0.0,\n 0.0,\n 0.0,\n 0.0,\n 0.0,\n 0.0,\n 0.0,\n 0.0,\n 0.0,\n 0.0,\n 0.0,\n 0.0,\n 0.0,\n 0.0,\n 0.0,\n 0.0,\n 0.0,\n 0.0,\n 0.0,\n 0.0,\n 0.0,\n 0.0,\n 0.0,\n 0.0,\n 0.0,\n 0.0,\n 0.0,\n 0.0,\n 0.0,\n 0.0,\n 0.0,\n 0.0,\n 0.0,\n 0.0,\n 0.0,\n 0.0,\n 0.0,\n 0.0,\n 0.0,\n 0.0,\n 0.0,\n 0.0,\n 0.0,\n 0.0,\n 0.0,\n 0.0,\n 0.0,\n 0.0,\n 0.0,\n 0.0,\n 0.0,\n 0.0,\n 0.0,\n 0.0,\n 0.0,\n 0.0,\n 0.0,\n 0.0,\n 0.0,\n 0.0,\n 0.0,\n 0.0,\n 0.0,\n 0.0,\n 0.0,\n 0.0,\n 0.0,\n 0.0,\n 0.0,\n 0.0,\n 0.0,\n 0.0,\n 0.0,\n 0.0,\n 0.0,\n 0.0,\n 0.0,\n 0.0,\n 0.0,\n 0.0,\n 0.0,\n 0.0,\n 0.0,\n 0.0,\n 0.0,\n 0.0,\n 0.0,\n 0.0,\n 0.0,\n 0.0,\n 0.0,\n 0.0,\n 0.0,\n 0.0,\n 0.0,\n 0.0,\n 0.0,\n 0.0,\n 0.0,\n 0.0,\n 0.0,\n 0.0,\n 0.0,\n 0.0,\n 0.0,\n 0.0,\n 0.0,\n 0.0,\n 0.0,\n 0.0,\n 0.0,\n 0.0,\n 0.0,\n 0.0,\n 0.0,\n 0.0,\n 0.0,\n 0.0,\n 0.0,\n 0.0,\n 0.0,\n 0.0,\n 0.0,\n 0.0,\n 0.0,\n 0.0,\n 0.0,\n 0.0,\n 0.0,\n 0.0,\n 0.0,\n 0.0,\n 0.0,\n 0.0,\n 0.0,\n 0.0,\n 0.0,\n 0.0,\n 0.0,\n 0.0,\n 0.0,\n 0.0,\n 0.0,\n 0.0,\n 0.0,\n 0.0,\n 0.0,\n 0.0,\n 0.0,\n 0.0,\n 0.0,\n 0.0,\n 0.0,\n 0.0,\n 0.0,\n 0.0,\n 0.0,\n 0.0,\n 0.0,\n 0.0,\n 0.0,\n 0.0,\n 0.0,\n 0.0,\n 0.0,\n 0.0,\n 0.0,\n 0.0,\n 0.0,\n 0.0,\n 0.0,\n 0.0,\n 0.0,\n 0.0,\n 0.0,\n 0.0,\n 0.0,\n 0.0,\n 0.0,\n 0.0,\n 0.0,\n 0.0,\n 0.0,\n 0.0,\n 0.0,\n 0.0,\n 0.0,\n 0.0,\n 0.0,\n 0.0,\n 0.0,\n 0.0,\n 0.0,\n 0.0,\n 0.0,\n 0.0,\n 0.0,\n 0.0,\n 0.0,\n 0.0,\n 0.0,\n 0.0,\n 0.0,\n 0.0,\n 0.0,\n 0.0,\n 0.0,\n 0.0,\n 0.0,\n 0.0,\n 0.0,\n 0.0,\n 0.0,\n 0.0,\n 0.0,\n 0.0,\n 0.0,\n 0.0,\n 0.0,\n 0.0,\n 0.0,\n 0.0,\n 0.0,\n 0.0,\n 0.0,\n 0.0,\n 0.0,\n 0.0,\n 0.0,\n 0.0,\n 0.0,\n 0.0,\n 0.0,\n 0.0,\n 0.0,\n 0.0,\n 0.0,\n 0.0,\n 0.0,\n 0.0,\n 0.0,\n 0.0,\n 0.0,\n 0.0,\n 0.0,\n 0.0,\n 0.0,\n 0.0,\n 0.0,\n 0.0,\n 0.0,\n 0.0,\n 0.0,\n 0.0,\n 0.0,\n 0.0,\n 0.0,\n 0.0,\n 0.0,\n 0.0,\n 0.0,\n 0.0,\n 0.0,\n 0.0,\n 0.0,\n 0.0,\n 0.0,\n 0.0,\n 0.0,\n 0.0,\n 0.0,\n 0.0,\n 0.0,\n 0.0,\n 0.0,\n 0.0,\n 0.0,\n 0.0,\n 0.0,\n 0.0,\n 0.0,\n 0.0,\n 0.0,\n 0.0,\n 0.0,\n 0.0,\n 0.0,\n 0.0,\n 0.0,\n 0.0,\n 0.0,\n 0.0,\n 0.0,\n 0.0,\n 0.0,\n 0.0,\n 0.0,\n 0.0,\n 0.0,\n 0.0,\n 0.0,\n 0.0,\n 0.0,\n 0.0,\n 0.0,\n 0.0,\n 0.0,\n 0.0,\n 0.0,\n 0.0,\n 0.0,\n 0.0,\n 0.0,\n 0.0,\n 0.0,\n 0.0,\n 0.0,\n 0.0,\n 0.0,\n 0.0,\n 0.0,\n 0.0,\n 0.0,\n 0.0,\n 0.0,\n 0.0,\n 0.0,\n 0.0,\n 0.0,\n 0.0,\n 0.0,\n 0.0,\n 0.0,\n 0.0,\n 0.0,\n 0.0,\n 0.0,\n 0.0,\n 0.0,\n 0.0,\n 0.0,\n 0.0,\n 0.0,\n 0.0,\n 0.0,\n 0.0,\n 0.0,\n 0.0,\n 0.0,\n 0.0,\n 0.0,\n 0.0,\n 0.0,\n 0.0,\n 0.0,\n 0.0,\n 0.0,\n 0.0,\n 0.0,\n 0.0,\n 0.0,\n 0.0,\n ...]"
     },
     "execution_count": 95,
     "metadata": {},
     "output_type": "execute_result"
    }
   ],
   "source": [
    "list(dv.transform(train_dicts[:5])[0])"
   ],
   "metadata": {
    "collapsed": false,
    "ExecuteTime": {
     "end_time": "2024-01-12T08:35:58.606527129Z",
     "start_time": "2024-01-12T08:35:58.142779688Z"
    }
   },
   "id": "ee5d781c21b06277"
  },
  {
   "cell_type": "code",
   "execution_count": 98,
   "outputs": [
    {
     "data": {
      "text/plain": "(4225, 4270)"
     },
     "execution_count": 98,
     "metadata": {},
     "output_type": "execute_result"
    }
   ],
   "source": [
    "X_train.shape"
   ],
   "metadata": {
    "collapsed": false,
    "ExecuteTime": {
     "end_time": "2024-01-12T08:37:35.547640096Z",
     "start_time": "2024-01-12T08:37:35.192627065Z"
    }
   },
   "id": "9f6905c5c5b95cf3"
  },
  {
   "cell_type": "code",
   "execution_count": 99,
   "outputs": [],
   "source": [
    "val_dicts = df_val[categorical + numerical].to_dict(orient='records')"
   ],
   "metadata": {
    "collapsed": false,
    "ExecuteTime": {
     "end_time": "2024-01-12T08:38:41.908954607Z",
     "start_time": "2024-01-12T08:38:41.196121079Z"
    }
   },
   "id": "334d84b1857fd5df"
  },
  {
   "cell_type": "code",
   "execution_count": 100,
   "outputs": [],
   "source": [
    "X_val = dv.transform(val_dicts)"
   ],
   "metadata": {
    "collapsed": false,
    "ExecuteTime": {
     "end_time": "2024-01-12T08:39:24.822464415Z",
     "start_time": "2024-01-12T08:39:24.373573951Z"
    }
   },
   "id": "dfb92e4dbae1b8b8"
  },
  {
   "cell_type": "markdown",
   "source": [
    "# 3.9 Logistic regression\n",
    "* Binary classification\n",
    "* Linear regression"
   ],
   "metadata": {
    "collapsed": false
   },
   "id": "2b53d20abcece69f"
  },
  {
   "cell_type": "code",
   "execution_count": 102,
   "outputs": [],
   "source": [
    "def sigmoid(z):\n",
    "    return 1/(1+ np.exp(-z))"
   ],
   "metadata": {
    "collapsed": false,
    "ExecuteTime": {
     "end_time": "2024-01-12T08:47:13.961998707Z",
     "start_time": "2024-01-12T08:47:13.250836590Z"
    }
   },
   "id": "463cd3963ac34da5"
  },
  {
   "cell_type": "code",
   "execution_count": 103,
   "outputs": [],
   "source": [
    "z = np.linspace(-5,5,51)"
   ],
   "metadata": {
    "collapsed": false,
    "ExecuteTime": {
     "end_time": "2024-01-12T08:48:01.134279497Z",
     "start_time": "2024-01-12T08:48:00.573176733Z"
    }
   },
   "id": "36939dd9a68c3eb7"
  },
  {
   "cell_type": "code",
   "execution_count": 104,
   "outputs": [
    {
     "data": {
      "text/plain": "array([0.00669285, 0.00816257, 0.0099518 , 0.01212843, 0.01477403,\n       0.01798621, 0.02188127, 0.02659699, 0.03229546, 0.03916572,\n       0.04742587, 0.05732418, 0.06913842, 0.0831727 , 0.09975049,\n       0.11920292, 0.14185106, 0.16798161, 0.19781611, 0.23147522,\n       0.26894142, 0.31002552, 0.35434369, 0.40131234, 0.450166  ,\n       0.5       , 0.549834  , 0.59868766, 0.64565631, 0.68997448,\n       0.73105858, 0.76852478, 0.80218389, 0.83201839, 0.85814894,\n       0.88079708, 0.90024951, 0.9168273 , 0.93086158, 0.94267582,\n       0.95257413, 0.96083428, 0.96770454, 0.97340301, 0.97811873,\n       0.98201379, 0.98522597, 0.98787157, 0.9900482 , 0.99183743,\n       0.99330715])"
     },
     "execution_count": 104,
     "metadata": {},
     "output_type": "execute_result"
    }
   ],
   "source": [
    "sigmoid(z)"
   ],
   "metadata": {
    "collapsed": false,
    "ExecuteTime": {
     "end_time": "2024-01-12T08:48:16.566126882Z",
     "start_time": "2024-01-12T08:48:15.753821963Z"
    }
   },
   "id": "a7bf5c21a8ede4d7"
  },
  {
   "cell_type": "code",
   "execution_count": 105,
   "outputs": [
    {
     "data": {
      "text/plain": "[<matplotlib.lines.Line2D at 0x7fff557f16d0>]"
     },
     "execution_count": 105,
     "metadata": {},
     "output_type": "execute_result"
    },
    {
     "data": {
      "text/plain": "<Figure size 640x480 with 1 Axes>",
      "image/png": "[encoded data removed]"
     },
     "metadata": {},
     "output_type": "display_data"
    }
   ],
   "source": [
    "plt.plot(z, sigmoid(z))"
   ],
   "metadata": {
    "collapsed": false,
    "ExecuteTime": {
     "end_time": "2024-01-12T08:48:38.435756866Z",
     "start_time": "2024-01-12T08:48:37.965013167Z"
    }
   },
   "id": "4d04bdfa1fccb382"
  },
  {
   "cell_type": "markdown",
   "source": [
    "Valeur négative à gauche de la sigmoid, positif de l'autre"
   ],
   "metadata": {
    "collapsed": false
   },
   "id": "327fc8038d353399"
  },
  {
   "cell_type": "code",
   "execution_count": 108,
   "outputs": [
    {
     "name": "stdout",
     "output_type": "stream",
     "text": [
      "1.0\n",
      "1.0\n",
      "1.0\n",
      "1.0\n"
     ]
    }
   ],
   "source": [
    "#exemples\n",
    "print(sigmoid(100))\n",
    "print(sigmoid(1000))\n",
    "print(sigmoid(10000))\n",
    "print(sigmoid(10000000))"
   ],
   "metadata": {
    "collapsed": false,
    "ExecuteTime": {
     "end_time": "2024-01-12T08:50:56.992170748Z",
     "start_time": "2024-01-12T08:50:56.665274721Z"
    }
   },
   "id": "623e250fc56541b2"
  },
  {
   "cell_type": "code",
   "execution_count": 109,
   "outputs": [],
   "source": [
    "def linear_regression(xi):\n",
    "    result = w0\n",
    "    for j in range(len(w)):\n",
    "        result = result + xi[j] * w[j]\n",
    "    return result"
   ],
   "metadata": {
    "collapsed": false,
    "ExecuteTime": {
     "end_time": "2024-01-12T08:53:03.754167025Z",
     "start_time": "2024-01-12T08:53:03.304745956Z"
    }
   },
   "id": "ec41b8e0eb3a3dbe"
  },
  {
   "cell_type": "code",
   "execution_count": 110,
   "outputs": [],
   "source": [
    "def logistic_regression(xi):\n",
    "    score = w0\n",
    "    for j in range(len(w)):\n",
    "        score = score + xi[j] * w[j]\n",
    "        result = sigmoid(score)\n",
    "    return result"
   ],
   "metadata": {
    "collapsed": false,
    "ExecuteTime": {
     "end_time": "2024-01-12T08:54:35.654693777Z",
     "start_time": "2024-01-12T08:54:35.082173232Z"
    }
   },
   "id": "32cf43ae427019fb"
  },
  {
   "cell_type": "markdown",
   "source": [
    "# 3.10 Training logistic regression with Scikit-Learn\n",
    "* Train a model with Scikit-Learn\n",
    "* Apply it ti the validation dataset\n",
    "Calculate the accuracy"
   ],
   "metadata": {
    "collapsed": false
   },
   "id": "fd5c37ba820eee7f"
  },
  {
   "cell_type": "code",
   "execution_count": 113,
   "outputs": [],
   "source": [
    "from sklearn.linear_model import LogisticRegression"
   ],
   "metadata": {
    "collapsed": false,
    "ExecuteTime": {
     "end_time": "2024-01-12T08:58:02.712330717Z",
     "start_time": "2024-01-12T08:58:02.402693232Z"
    }
   },
   "id": "8a4445509497986e"
  },
  {
   "cell_type": "code",
   "execution_count": 114,
   "outputs": [
    {
     "name": "stderr",
     "output_type": "stream",
     "text": [
      "/home/wm18vw/miniconda3/envs/machineLearning/lib/python3.11/site-packages/sklearn/linear_model/_logistic.py:458: ConvergenceWarning: lbfgs failed to converge (status=1):\n",
      "STOP: TOTAL NO. of ITERATIONS REACHED LIMIT.\n",
      "\n",
      "Increase the number of iterations (max_iter) or scale the data as shown in:\n",
      "    https://scikit-learn.org/stable/modules/preprocessing.html\n",
      "Please also refer to the documentation for alternative solver options:\n",
      "    https://scikit-learn.org/stable/modules/linear_model.html#logistic-regression\n",
      "  n_iter_i = _check_optimize_result(\n"
     ]
    },
    {
     "data": {
      "text/plain": "LogisticRegression()",
      "text/html": "<style>#sk-container-id-5 {color: black;background-color: white;}#sk-container-id-5 pre{padding: 0;}#sk-container-id-5 div.sk-toggleable {background-color: white;}#sk-container-id-5 label.sk-toggleable__label {cursor: pointer;display: block;width: 100%;margin-bottom: 0;padding: 0.3em;box-sizing: border-box;text-align: center;}#sk-container-id-5 label.sk-toggleable__label-arrow:before {content: \"▸\";float: left;margin-right: 0.25em;color: #696969;}#sk-container-id-5 label.sk-toggleable__label-arrow:hover:before {color: black;}#sk-container-id-5 div.sk-estimator:hover label.sk-toggleable__label-arrow:before {color: black;}#sk-container-id-5 div.sk-toggleable__content {max-height: 0;max-width: 0;overflow: hidden;text-align: left;background-color: #f0f8ff;}#sk-container-id-5 div.sk-toggleable__content pre {margin: 0.2em;color: black;border-radius: 0.25em;background-color: #f0f8ff;}#sk-container-id-5 input.sk-toggleable__control:checked~div.sk-toggleable__content {max-height: 200px;max-width: 100%;overflow: auto;}#sk-container-id-5 input.sk-toggleable__control:checked~label.sk-toggleable__label-arrow:before {content: \"▾\";}#sk-container-id-5 div.sk-estimator input.sk-toggleable__control:checked~label.sk-toggleable__label {background-color: #d4ebff;}#sk-container-id-5 div.sk-label input.sk-toggleable__control:checked~label.sk-toggleable__label {background-color: #d4ebff;}#sk-container-id-5 input.sk-hidden--visually {border: 0;clip: rect(1px 1px 1px 1px);clip: rect(1px, 1px, 1px, 1px);height: 1px;margin: -1px;overflow: hidden;padding: 0;position: absolute;width: 1px;}#sk-container-id-5 div.sk-estimator {font-family: monospace;background-color: #f0f8ff;border: 1px dotted black;border-radius: 0.25em;box-sizing: border-box;margin-bottom: 0.5em;}#sk-container-id-5 div.sk-estimator:hover {background-color: #d4ebff;}#sk-container-id-5 div.sk-parallel-item::after {content: \"\";width: 100%;border-bottom: 1px solid gray;flex-grow: 1;}#sk-container-id-5 div.sk-label:hover label.sk-toggleable__label {background-color: #d4ebff;}#sk-container-id-5 div.sk-serial::before {content: \"\";position: absolute;border-left: 1px solid gray;box-sizing: border-box;top: 0;bottom: 0;left: 50%;z-index: 0;}#sk-container-id-5 div.sk-serial {display: flex;flex-direction: column;align-items: center;background-color: white;padding-right: 0.2em;padding-left: 0.2em;position: relative;}#sk-container-id-5 div.sk-item {position: relative;z-index: 1;}#sk-container-id-5 div.sk-parallel {display: flex;align-items: stretch;justify-content: center;background-color: white;position: relative;}#sk-container-id-5 div.sk-item::before, #sk-container-id-5 div.sk-parallel-item::before {content: \"\";position: absolute;border-left: 1px solid gray;box-sizing: border-box;top: 0;bottom: 0;left: 50%;z-index: -1;}#sk-container-id-5 div.sk-parallel-item {display: flex;flex-direction: column;z-index: 1;position: relative;background-color: white;}#sk-container-id-5 div.sk-parallel-item:first-child::after {align-self: flex-end;width: 50%;}#sk-container-id-5 div.sk-parallel-item:last-child::after {align-self: flex-start;width: 50%;}#sk-container-id-5 div.sk-parallel-item:only-child::after {width: 0;}#sk-container-id-5 div.sk-dashed-wrapped {border: 1px dashed gray;margin: 0 0.4em 0.5em 0.4em;box-sizing: border-box;padding-bottom: 0.4em;background-color: white;}#sk-container-id-5 div.sk-label label {font-family: monospace;font-weight: bold;display: inline-block;line-height: 1.2em;}#sk-container-id-5 div.sk-label-container {text-align: center;}#sk-container-id-5 div.sk-container {/* jupyter's `normalize.less` sets `[hidden] { display: none; }` but bootstrap.min.css set `[hidden] { display: none !important; }` so we also need the `!important` here to be able to override the default hidden behavior on the sphinx rendered scikit-learn.org. See: https://github.com/scikit-learn/scikit-learn/issues/21755 */display: inline-block !important;position: relative;}#sk-container-id-5 div.sk-text-repr-fallback {display: none;}</style><div id=\"sk-container-id-5\" class=\"sk-top-container\"><div class=\"sk-text-repr-fallback\"><pre>LogisticRegression()</pre><b>In a Jupyter environment, please rerun this cell to show the HTML representation or trust the notebook. <br />On GitHub, the HTML representation is unable to render, please try loading this page with nbviewer.org.</b></div><div class=\"sk-container\" hidden><div class=\"sk-item\"><div class=\"sk-estimator sk-toggleable\"><input class=\"sk-toggleable__control sk-hidden--visually\" id=\"sk-estimator-id-5\" type=\"checkbox\" checked><label for=\"sk-estimator-id-5\" class=\"sk-toggleable__label sk-toggleable__label-arrow\">LogisticRegression</label><div class=\"sk-toggleable__content\"><pre>LogisticRegression()</pre></div></div></div></div></div>"
     },
     "execution_count": 114,
     "metadata": {},
     "output_type": "execute_result"
    }
   ],
   "source": [
    "model = LogisticRegression()\n",
    "model.fit(X_train, y_train)"
   ],
   "metadata": {
    "collapsed": false,
    "ExecuteTime": {
     "end_time": "2024-01-12T08:58:54.836152153Z",
     "start_time": "2024-01-12T08:58:50.058844295Z"
    }
   },
   "id": "ae661ba781db8782"
  },
  {
   "cell_type": "code",
   "execution_count": 119,
   "outputs": [
    {
     "data": {
      "text/plain": "-0.11066198439473578"
     },
     "execution_count": 119,
     "metadata": {},
     "output_type": "execute_result"
    }
   ],
   "source": [
    "model.intercept_[0] # bias"
   ],
   "metadata": {
    "collapsed": false,
    "ExecuteTime": {
     "end_time": "2024-01-12T09:01:56.530809809Z",
     "start_time": "2024-01-12T09:01:55.966907546Z"
    }
   },
   "id": "8a7cad5ac348b751"
  },
  {
   "cell_type": "code",
   "execution_count": 118,
   "outputs": [
    {
     "data": {
      "text/plain": "array([ 0.541, -0.184, -0.467, ..., -0.226, -0.07 ,  0.   ])"
     },
     "execution_count": 118,
     "metadata": {},
     "output_type": "execute_result"
    }
   ],
   "source": [
    "model.coef_[0].round(3) # weights"
   ],
   "metadata": {
    "collapsed": false,
    "ExecuteTime": {
     "end_time": "2024-01-12T09:01:38.347901402Z",
     "start_time": "2024-01-12T09:01:38.137531202Z"
    }
   },
   "id": "24a248afb3a52691"
  },
  {
   "cell_type": "code",
   "execution_count": 122,
   "outputs": [
    {
     "data": {
      "text/plain": "array([0, 1, 1, ..., 1, 0, 1])"
     },
     "execution_count": 122,
     "metadata": {},
     "output_type": "execute_result"
    }
   ],
   "source": [
    "model.predict(X_train) # churn or not churn prediction\n",
    "#This is \"Hard prediction\""
   ],
   "metadata": {
    "collapsed": false,
    "ExecuteTime": {
     "end_time": "2024-01-12T09:03:34.501687494Z",
     "start_time": "2024-01-12T09:03:34.103409290Z"
    }
   },
   "id": "6c60916549347b1a"
  },
  {
   "cell_type": "code",
   "execution_count": 126,
   "outputs": [
    {
     "data": {
      "text/plain": "array([[0.90851642, 0.09148358],\n       [0.33001783, 0.66998217],\n       [0.37419707, 0.62580293],\n       ...,\n       [0.43656689, 0.56343311],\n       [0.96090798, 0.03909202],\n       [0.30300596, 0.69699404]])"
     },
     "execution_count": 126,
     "metadata": {},
     "output_type": "execute_result"
    }
   ],
   "source": [
    "model.predict_proba(X_train) # soft prediction\n",
    "# the result is not 0 or 1, but a score\n",
    "# two classes, first negative class, second positive class\n",
    "# second column = probability of churning"
   ],
   "metadata": {
    "collapsed": false,
    "ExecuteTime": {
     "end_time": "2024-01-12T09:07:14.600199266Z",
     "start_time": "2024-01-12T09:07:14.400018379Z"
    }
   },
   "id": "9216b1349fb62330"
  },
  {
   "cell_type": "code",
   "execution_count": 128,
   "outputs": [],
   "source": [
    "y_pred = model.predict_proba(X_val)[:,1] # soft prediction"
   ],
   "metadata": {
    "collapsed": false,
    "ExecuteTime": {
     "end_time": "2024-01-12T09:09:49.258807458Z",
     "start_time": "2024-01-12T09:09:48.966435843Z"
    }
   },
   "id": "941c4e5a1ee066dc"
  },
  {
   "cell_type": "code",
   "execution_count": 130,
   "outputs": [],
   "source": [
    "churn_decision = (y_pred >= 0.5)"
   ],
   "metadata": {
    "collapsed": false,
    "ExecuteTime": {
     "end_time": "2024-01-12T09:11:54.860010397Z",
     "start_time": "2024-01-12T09:11:54.488462486Z"
    }
   },
   "id": "35314c92402318d"
  },
  {
   "cell_type": "code",
   "execution_count": 132,
   "outputs": [
    {
     "data": {
      "text/plain": "3       8433-wxgna\n8       3440-jpscl\n11      2637-fkfsy\n12      7228-omtpn\n19      6711-fldfb\n           ...    \n1397    5976-jcjrh\n1398    2034-cgrhz\n1399    5276-kqwhg\n1407    6521-yytyi\n1408    3049-solay\nName: customerid, Length: 320, dtype: object"
     },
     "execution_count": 132,
     "metadata": {},
     "output_type": "execute_result"
    }
   ],
   "source": [
    "df_val[churn_decision].customerid # liste des clients qui ont un risque de se désabonner. On pourrait leur envoyer une promotion..."
   ],
   "metadata": {
    "collapsed": false,
    "ExecuteTime": {
     "end_time": "2024-01-12T09:13:12.937102247Z",
     "start_time": "2024-01-12T09:13:12.676402633Z"
    }
   },
   "id": "19702e4da3a15d75"
  },
  {
   "cell_type": "code",
   "execution_count": 133,
   "outputs": [
    {
     "data": {
      "text/plain": "array([0, 0, 0, ..., 0, 1, 1])"
     },
     "execution_count": 133,
     "metadata": {},
     "output_type": "execute_result"
    }
   ],
   "source": [
    "y_val"
   ],
   "metadata": {
    "collapsed": false,
    "ExecuteTime": {
     "end_time": "2024-01-12T09:14:53.222107804Z",
     "start_time": "2024-01-12T09:14:52.966016351Z"
    }
   },
   "id": "19d28f9a5b5c6a17"
  },
  {
   "cell_type": "code",
   "execution_count": 134,
   "outputs": [
    {
     "data": {
      "text/plain": "array([0, 0, 0, ..., 0, 1, 1])"
     },
     "execution_count": 134,
     "metadata": {},
     "output_type": "execute_result"
    }
   ],
   "source": [
    "churn_decision.astype(int)"
   ],
   "metadata": {
    "collapsed": false,
    "ExecuteTime": {
     "end_time": "2024-01-12T09:15:11.396995088Z",
     "start_time": "2024-01-12T09:15:11.189090473Z"
    }
   },
   "id": "ccce239cb5e9bbcb"
  },
  {
   "cell_type": "code",
   "execution_count": 135,
   "outputs": [
    {
     "data": {
      "text/plain": "0.7984386089425124"
     },
     "execution_count": 135,
     "metadata": {},
     "output_type": "execute_result"
    }
   ],
   "source": [
    "(y_val == churn_decision).mean()"
   ],
   "metadata": {
    "collapsed": false,
    "ExecuteTime": {
     "end_time": "2024-01-12T09:16:42.010679467Z",
     "start_time": "2024-01-12T09:16:41.768594422Z"
    }
   },
   "id": "cd13fdf4477b9b8"
  },
  {
   "cell_type": "markdown",
   "source": [
    "Nos prédictions sont correctes à 80%"
   ],
   "metadata": {
    "collapsed": false
   },
   "id": "8e1707906fc6eb9d"
  },
  {
   "cell_type": "code",
   "execution_count": 136,
   "outputs": [],
   "source": [
    "df_pred = pd.DataFrame()\n",
    "df_pred['probability'] = y_pred\n",
    "df_pred['prediction'] = churn_decision.astype(int)\n",
    "df_pred['actual'] = y_val"
   ],
   "metadata": {
    "collapsed": false,
    "ExecuteTime": {
     "end_time": "2024-01-12T09:20:44.235957806Z",
     "start_time": "2024-01-12T09:20:43.559550832Z"
    }
   },
   "id": "2168b370759988dc"
  },
  {
   "cell_type": "code",
   "execution_count": 138,
   "outputs": [
    {
     "data": {
      "text/plain": "      probability  prediction  actual\n0        0.008446           0       0\n1        0.213149           0       0\n2        0.215468           0       0\n3        0.527481           1       1\n4        0.212925           0       0\n...           ...         ...     ...\n1404     0.341294           0       0\n1405     0.038491           0       1\n1406     0.134108           0       0\n1407     0.801045           1       1\n1408     0.840220           1       1\n\n[1409 rows x 3 columns]",
      "text/html": "<div>\n<style scoped>\n    .dataframe tbody tr th:only-of-type {\n        vertical-align: middle;\n    }\n\n    .dataframe tbody tr th {\n        vertical-align: top;\n    }\n\n    .dataframe thead th {\n        text-align: right;\n    }\n</style>\n<table border=\"1\" class=\"dataframe\">\n  <thead>\n    <tr style=\"text-align: right;\">\n      <th></th>\n      <th>probability</th>\n      <th>prediction</th>\n      <th>actual</th>\n    </tr>\n  </thead>\n  <tbody>\n    <tr>\n      <th>0</th>\n      <td>0.008446</td>\n      <td>0</td>\n      <td>0</td>\n    </tr>\n    <tr>\n      <th>1</th>\n      <td>0.213149</td>\n      <td>0</td>\n      <td>0</td>\n    </tr>\n    <tr>\n      <th>2</th>\n      <td>0.215468</td>\n      <td>0</td>\n      <td>0</td>\n    </tr>\n    <tr>\n      <th>3</th>\n      <td>0.527481</td>\n      <td>1</td>\n      <td>1</td>\n    </tr>\n    <tr>\n      <th>4</th>\n      <td>0.212925</td>\n      <td>0</td>\n      <td>0</td>\n    </tr>\n    <tr>\n      <th>...</th>\n      <td>...</td>\n      <td>...</td>\n      <td>...</td>\n    </tr>\n    <tr>\n      <th>1404</th>\n      <td>0.341294</td>\n      <td>0</td>\n      <td>0</td>\n    </tr>\n    <tr>\n      <th>1405</th>\n      <td>0.038491</td>\n      <td>0</td>\n      <td>1</td>\n    </tr>\n    <tr>\n      <th>1406</th>\n      <td>0.134108</td>\n      <td>0</td>\n      <td>0</td>\n    </tr>\n    <tr>\n      <th>1407</th>\n      <td>0.801045</td>\n      <td>1</td>\n      <td>1</td>\n    </tr>\n    <tr>\n      <th>1408</th>\n      <td>0.840220</td>\n      <td>1</td>\n      <td>1</td>\n    </tr>\n  </tbody>\n</table>\n<p>1409 rows × 3 columns</p>\n</div>"
     },
     "execution_count": 138,
     "metadata": {},
     "output_type": "execute_result"
    }
   ],
   "source": [
    "df_pred"
   ],
   "metadata": {
    "collapsed": false,
    "ExecuteTime": {
     "end_time": "2024-01-12T09:21:37.534370002Z",
     "start_time": "2024-01-12T09:21:37.175522572Z"
    }
   },
   "id": "f5b7cf9939202d7b"
  },
  {
   "cell_type": "code",
   "execution_count": 139,
   "outputs": [],
   "source": [
    "df_pred['correct'] = df_pred.prediction == df_pred.actual"
   ],
   "metadata": {
    "collapsed": false,
    "ExecuteTime": {
     "end_time": "2024-01-12T09:22:29.817056267Z",
     "start_time": "2024-01-12T09:22:29.548594538Z"
    }
   },
   "id": "46bdaff069b7b27"
  },
  {
   "cell_type": "code",
   "execution_count": 141,
   "outputs": [
    {
     "data": {
      "text/plain": "      probability  prediction  actual  correct\n0        0.008446           0       0     True\n1        0.213149           0       0     True\n2        0.215468           0       0     True\n3        0.527481           1       1     True\n4        0.212925           0       0     True\n...           ...         ...     ...      ...\n1404     0.341294           0       0     True\n1405     0.038491           0       1    False\n1406     0.134108           0       0     True\n1407     0.801045           1       1     True\n1408     0.840220           1       1     True\n\n[1409 rows x 4 columns]",
      "text/html": "<div>\n<style scoped>\n    .dataframe tbody tr th:only-of-type {\n        vertical-align: middle;\n    }\n\n    .dataframe tbody tr th {\n        vertical-align: top;\n    }\n\n    .dataframe thead th {\n        text-align: right;\n    }\n</style>\n<table border=\"1\" class=\"dataframe\">\n  <thead>\n    <tr style=\"text-align: right;\">\n      <th></th>\n      <th>probability</th>\n      <th>prediction</th>\n      <th>actual</th>\n      <th>correct</th>\n    </tr>\n  </thead>\n  <tbody>\n    <tr>\n      <th>0</th>\n      <td>0.008446</td>\n      <td>0</td>\n      <td>0</td>\n      <td>True</td>\n    </tr>\n    <tr>\n      <th>1</th>\n      <td>0.213149</td>\n      <td>0</td>\n      <td>0</td>\n      <td>True</td>\n    </tr>\n    <tr>\n      <th>2</th>\n      <td>0.215468</td>\n      <td>0</td>\n      <td>0</td>\n      <td>True</td>\n    </tr>\n    <tr>\n      <th>3</th>\n      <td>0.527481</td>\n      <td>1</td>\n      <td>1</td>\n      <td>True</td>\n    </tr>\n    <tr>\n      <th>4</th>\n      <td>0.212925</td>\n      <td>0</td>\n      <td>0</td>\n      <td>True</td>\n    </tr>\n    <tr>\n      <th>...</th>\n      <td>...</td>\n      <td>...</td>\n      <td>...</td>\n      <td>...</td>\n    </tr>\n    <tr>\n      <th>1404</th>\n      <td>0.341294</td>\n      <td>0</td>\n      <td>0</td>\n      <td>True</td>\n    </tr>\n    <tr>\n      <th>1405</th>\n      <td>0.038491</td>\n      <td>0</td>\n      <td>1</td>\n      <td>False</td>\n    </tr>\n    <tr>\n      <th>1406</th>\n      <td>0.134108</td>\n      <td>0</td>\n      <td>0</td>\n      <td>True</td>\n    </tr>\n    <tr>\n      <th>1407</th>\n      <td>0.801045</td>\n      <td>1</td>\n      <td>1</td>\n      <td>True</td>\n    </tr>\n    <tr>\n      <th>1408</th>\n      <td>0.840220</td>\n      <td>1</td>\n      <td>1</td>\n      <td>True</td>\n    </tr>\n  </tbody>\n</table>\n<p>1409 rows × 4 columns</p>\n</div>"
     },
     "execution_count": 141,
     "metadata": {},
     "output_type": "execute_result"
    }
   ],
   "source": [
    "df_pred"
   ],
   "metadata": {
    "collapsed": false,
    "ExecuteTime": {
     "end_time": "2024-01-12T09:22:57.078677657Z",
     "start_time": "2024-01-12T09:22:56.514725392Z"
    }
   },
   "id": "643834b57ebf104b"
  },
  {
   "cell_type": "code",
   "execution_count": 142,
   "outputs": [
    {
     "data": {
      "text/plain": "0.7984386089425124"
     },
     "execution_count": 142,
     "metadata": {},
     "output_type": "execute_result"
    }
   ],
   "source": [
    "df_pred.correct.mean()"
   ],
   "metadata": {
    "collapsed": false,
    "ExecuteTime": {
     "end_time": "2024-01-12T09:23:33.351542091Z",
     "start_time": "2024-01-12T09:23:32.988293079Z"
    }
   },
   "id": "3fafcd9e5275effe"
  },
  {
   "cell_type": "markdown",
   "source": [
    "# 3.11 Model interpretation\n",
    "* Look at the coefficients\n",
    "* Train a smaller model with fewer features"
   ],
   "metadata": {
    "collapsed": false
   },
   "id": "d5f634b17bae12e2"
  },
  {
   "cell_type": "code",
   "execution_count": 144,
   "outputs": [
    {
     "data": {
      "text/plain": "{'contract=month-to-month': 0.541,\n 'contract=one_year': -0.184,\n 'contract=two_year': -0.467,\n 'customerid=0002-orfbo': -0.005,\n 'customerid=0011-igkff': 0.006,\n 'customerid=0013-exchz': 0.007,\n 'customerid=0013-mhzwf': -0.006,\n 'customerid=0013-smeoe': -0.002,\n 'customerid=0014-bmaqu': -0.001,\n 'customerid=0015-uocoj': -0.007,\n 'customerid=0017-dinoc': -0.0,\n 'customerid=0019-efaep': -0.001,\n 'customerid=0020-inwck': -0.002,\n 'customerid=0020-jdnxp': -0.001,\n 'customerid=0021-ikxgc': -0.013,\n 'customerid=0023-uyupn': -0.0,\n 'customerid=0023-xuopt': 0.007,\n 'customerid=0030-fnxpp': -0.003,\n 'customerid=0031-pvlzi': 0.014,\n 'customerid=0036-ihmot': -0.002,\n 'customerid=0042-rlhyp': -0.0,\n 'customerid=0048-lumls': -0.004,\n 'customerid=0048-pihnl': -0.0,\n 'customerid=0052-dckon': -0.002,\n 'customerid=0056-epfbg': -0.002,\n 'customerid=0057-qbuqh': -0.0,\n 'customerid=0071-ndafp': -0.001,\n 'customerid=0078-xzmht': -0.001,\n 'customerid=0080-emyvy': -0.004,\n 'customerid=0082-oqiqy': -0.007,\n 'customerid=0093-exyql': -0.007,\n 'customerid=0094-oifmo': 0.005,\n 'customerid=0098-bowso': -0.001,\n 'customerid=0100-duvfc': -0.004,\n 'customerid=0104-ppxdv': -0.0,\n 'customerid=0106-ghrqr': -0.007,\n 'customerid=0112-qawrz': -0.01,\n 'customerid=0114-igabw': -0.0,\n 'customerid=0115-tfert': 0.007,\n 'customerid=0117-lfrmw': 0.016,\n 'customerid=0118-jpnoy': -0.006,\n 'customerid=0121-snyrk': -0.0,\n 'customerid=0122-oahpz': 0.005,\n 'customerid=0123-crbrt': -0.001,\n 'customerid=0129-qmpdr': -0.0,\n 'customerid=0130-sxoun': -0.002,\n 'customerid=0133-bmfzo': 0.009,\n 'customerid=0134-xwxce': -0.001,\n 'customerid=0136-ifmyd': -0.003,\n 'customerid=0137-ocgab': 0.005,\n 'customerid=0137-udeuo': 0.014,\n 'customerid=0151-ontov': 0.007,\n 'customerid=0174-qrvvy': -0.0,\n 'customerid=0177-pxbat': -0.007,\n 'customerid=0181-ritdd': -0.001,\n 'customerid=0187-qsxoe': -0.013,\n 'customerid=0188-gwfle': -0.004,\n 'customerid=0193-eszxp': 0.015,\n 'customerid=0195-iescp': 0.005,\n 'customerid=0197-pnknk': -0.001,\n 'customerid=0201-oamxr': 0.015,\n 'customerid=0203-hhyij': 0.016,\n 'customerid=0206-oyvoc': -0.0,\n 'customerid=0206-tbwlc': -0.003,\n 'customerid=0208-bpqej': -0.002,\n 'customerid=0212-isbbf': -0.007,\n 'customerid=0215-bqkgs': -0.004,\n 'customerid=0219-ytzue': 0.006,\n 'customerid=0220-ebgce': 0.005,\n 'customerid=0221-nauxk': -0.002,\n 'customerid=0222-cnvpt': -0.001,\n 'customerid=0224-hjapt': 0.009,\n 'customerid=0224-nijlp': -0.002,\n 'customerid=0224-rlwwd': -0.01,\n 'customerid=0228-mauwc': -0.004,\n 'customerid=0229-lfjaf': -0.0,\n 'customerid=0230-ubypq': -0.0,\n 'customerid=0230-wequw': -0.0,\n 'customerid=0233-fthav': -0.002,\n 'customerid=0234-tevtt': -0.001,\n 'customerid=0235-kgslc': 0.006,\n 'customerid=0237-yfutl': -0.004,\n 'customerid=0239-oxexl': -0.002,\n 'customerid=0244-lgnfy': -0.0,\n 'customerid=0247-sluji': -0.004,\n 'customerid=0248-ipdfw': -0.011,\n 'customerid=0248-pghbz': -0.001,\n 'customerid=0253-zteob': -0.001,\n 'customerid=0256-lthvj': 0.009,\n 'customerid=0257-kxzgu': -0.003,\n 'customerid=0257-zesqc': 0.012,\n 'customerid=0258-nokbl': -0.01,\n 'customerid=0259-gbzsh': 0.004,\n 'customerid=0260-zdlgk': 0.011,\n 'customerid=0263-fjtqo': -0.001,\n 'customerid=0264-cnitk': -0.0,\n 'customerid=0265-edxbd': 0.009,\n 'customerid=0265-psuae': -0.006,\n 'customerid=0268-qkiwo': 0.013,\n 'customerid=0270-thenm': -0.0,\n 'customerid=0274-jkujr': -0.006,\n 'customerid=0277-orxqs': -0.0,\n 'customerid=0278-yxoog': 0.014,\n 'customerid=0280-xjgex': 0.011,\n 'customerid=0281-cntzx': -0.0,\n 'customerid=0282-nvsjs': -0.006,\n 'customerid=0298-xacet': -0.0,\n 'customerid=0301-fidrb': -0.0,\n 'customerid=0301-kobtq': -0.001,\n 'customerid=0302-joivn': 0.007,\n 'customerid=0303-uncip': -0.001,\n 'customerid=0303-wmmrn': -0.004,\n 'customerid=0305-sqecb': -0.003,\n 'customerid=0306-jaele': 0.006,\n 'customerid=0308-giqjt': -0.002,\n 'customerid=0308-ivgok': -0.005,\n 'customerid=0310-vqxam': -0.002,\n 'customerid=0314-tkosi': -0.005,\n 'customerid=0315-lvcrk': -0.009,\n 'customerid=0318-quuob': 0.005,\n 'customerid=0318-zopws': -0.0,\n 'customerid=0320-jdnqg': 0.01,\n 'customerid=0322-chqru': 0.009,\n 'customerid=0325-xbfac': 0.006,\n 'customerid=0326-vdyxe': -0.003,\n 'customerid=0327-wfzsy': -0.005,\n 'customerid=0328-grpmv': 0.005,\n 'customerid=0330-bgyze': -0.003,\n 'customerid=0334-gddso': 0.004,\n 'customerid=0336-kxkfk': -0.0,\n 'customerid=0343-qluzp': -0.0,\n 'customerid=0345-xmmug': -0.004,\n 'customerid=0348-sdkol': 0.013,\n 'customerid=0356-erhvt': -0.007,\n 'customerid=0357-nvcri': -0.001,\n 'customerid=0362-raoqo': -0.0,\n 'customerid=0363-qjvfx': 0.011,\n 'customerid=0363-svhyr': -0.0,\n 'customerid=0365-bzuwy': -0.011,\n 'customerid=0365-trtpy': -0.003,\n 'customerid=0369-zgovk': -0.005,\n 'customerid=0373-aivnj': -0.004,\n 'customerid=0374-aacsz': -0.007,\n 'customerid=0374-ioegq': -0.008,\n 'customerid=0375-hvgxo': 0.005,\n 'customerid=0376-ymcjc': 0.009,\n 'customerid=0377-jbkkt': -0.002,\n 'customerid=0378-cjkpv': -0.001,\n 'customerid=0378-nhqxu': 0.008,\n 'customerid=0378-tovms': 0.008,\n 'customerid=0380-neavx': -0.006,\n 'customerid=0384-lpite': -0.001,\n 'customerid=0386-cwrgm': -0.0,\n 'customerid=0388-eopex': 0.006,\n 'customerid=0390-dcfdq': 0.005,\n 'customerid=0392-bziuw': -0.002,\n 'customerid=0394-yondk': -0.0,\n 'customerid=0396-ychwo': -0.009,\n 'customerid=0402-cqajn': 0.01,\n 'customerid=0402-oamen': -0.0,\n 'customerid=0404-ahasp': -0.0,\n 'customerid=0404-swrvg': 0.004,\n 'customerid=0406-bpdvr': 0.012,\n 'customerid=0409-wtmpl': -0.004,\n 'customerid=0410-ipfty': -0.007,\n 'customerid=0411-ezjze': -0.011,\n 'customerid=0412-uccnp': -0.0,\n 'customerid=0415-mosgf': 0.01,\n 'customerid=0420-bwtpw': 0.011,\n 'customerid=0420-hlgxf': -0.009,\n 'customerid=0422-ohqhq': -0.001,\n 'customerid=0422-uxfap': -0.005,\n 'customerid=0423-udijq': -0.005,\n 'customerid=0426-tirne': 0.013,\n 'customerid=0428-axxlj': -0.001,\n 'customerid=0430-ihcdj': -0.008,\n 'customerid=0431-apwvy': 0.01,\n 'customerid=0432-cajzv': -0.01,\n 'customerid=0434-csfon': -0.008,\n 'customerid=0440-ekdcf': -0.0,\n 'customerid=0440-uedai': -0.002,\n 'customerid=0442-zxkvs': -0.004,\n 'customerid=0447-bemng': 0.016,\n 'customerid=0447-rxsgd': -0.01,\n 'customerid=0454-okrct': -0.002,\n 'customerid=0455-entcr': -0.001,\n 'customerid=0458-heuzg': -0.003,\n 'customerid=0459-spzhj': -0.001,\n 'customerid=0463-txoak': -0.0,\n 'customerid=0463-wzzko': -0.005,\n 'customerid=0464-wjtko': -0.0,\n 'customerid=0471-lvhgk': 0.014,\n 'customerid=0480-kyjva': -0.0,\n 'customerid=0481-sumcb': -0.006,\n 'customerid=0484-ffvbj': -0.003,\n 'customerid=0484-jpbru': -0.001,\n 'customerid=0486-lgcch': -0.002,\n 'customerid=0487-vvuvk': -0.001,\n 'customerid=0488-gslfr': 0.005,\n 'customerid=0489-wmemg': -0.003,\n 'customerid=0495-rvcbf': 0.005,\n 'customerid=0496-ahook': -0.002,\n 'customerid=0504-hhapi': 0.009,\n 'customerid=0505-spoow': -0.0,\n 'customerid=0506-lvngn': 0.006,\n 'customerid=0506-ylvkj': -0.0,\n 'customerid=0508-oolto': -0.012,\n 'customerid=0508-sqwpl': -0.0,\n 'customerid=0512-flfdw': -0.005,\n 'customerid=0513-rbgpe': -0.001,\n 'customerid=0516-oohar': -0.005,\n 'customerid=0516-uxrmt': -0.002,\n 'customerid=0516-vrybw': 0.016,\n 'customerid=0516-wjvxc': 0.012,\n 'customerid=0519-drgti': -0.001,\n 'customerid=0519-xuzju': 0.007,\n 'customerid=0520-fdvvt': 0.012,\n 'customerid=0524-iavzo': 0.008,\n 'customerid=0526-sxdjp': -0.0,\n 'customerid=0529-onker': 0.007,\n 'customerid=0530-ijvdb': -0.002,\n 'customerid=0531-xbkmm': -0.0,\n 'customerid=0531-zzjwq': -0.004,\n 'customerid=0533-ucaau': -0.001,\n 'customerid=0536-acxip': -0.003,\n 'customerid=0537-qyzzn': -0.008,\n 'customerid=0541-fitgh': -0.008,\n 'customerid=0547-hurjb': -0.002,\n 'customerid=0550-dcxlh': -0.004,\n 'customerid=0556-fjegu': -0.0,\n 'customerid=0557-askvu': -0.003,\n 'customerid=0559-ckhus': -0.001,\n 'customerid=0564-muuqk': -0.008,\n 'customerid=0565-iycgt': 0.017,\n 'customerid=0567-ggcac': -0.005,\n 'customerid=0567-xrhcu': -0.0,\n 'customerid=0568-onfpc': 0.012,\n 'customerid=0570-bfqht': -0.008,\n 'customerid=0575-cuqov': -0.003,\n 'customerid=0576-wnxxc': 0.007,\n 'customerid=0577-whmev': -0.007,\n 'customerid=0578-skvmf': 0.01,\n 'customerid=0580-piqhm': -0.004,\n 'customerid=0582-avcln': -0.0,\n 'customerid=0585-egdda': -0.005,\n 'customerid=0594-uftul': -0.002,\n 'customerid=0599-xnydo': -0.008,\n 'customerid=0602-dduml': -0.0,\n 'customerid=0603-olqdc': -0.006,\n 'customerid=0604-thjfp': -0.001,\n 'customerid=0607-daahe': 0.017,\n 'customerid=0608-jdvec': -0.0,\n 'customerid=0612-rtzza': 0.007,\n 'customerid=0616-atfgb': 0.007,\n 'customerid=0617-fhsgk': 0.014,\n 'customerid=0618-xwmss': 0.013,\n 'customerid=0619-olyur': -0.002,\n 'customerid=0620-xefwh': -0.003,\n 'customerid=0621-hjwxj': -0.003,\n 'customerid=0621-jfhol': -0.005,\n 'customerid=0621-tssmu': -0.0,\n 'customerid=0626-qxngv': -0.0,\n 'customerid=0628-cnqrm': 0.015,\n 'customerid=0634-szpqa': 0.009,\n 'customerid=0635-wkold': -0.002,\n 'customerid=0639-tsiqw': 0.014,\n 'customerid=0640-yjtpy': -0.0,\n 'customerid=0641-evboj': -0.007,\n 'customerid=0644-oqmdk': -0.012,\n 'customerid=0654-hmshn': 0.008,\n 'customerid=0655-ydgfj': -0.002,\n 'customerid=0657-dogum': -0.001,\n 'customerid=0661-kbkpa': -0.001,\n 'customerid=0661-kqhnk': -0.002,\n 'customerid=0665-xhdju': -0.003,\n 'customerid=0666-uxtjo': -0.006,\n 'customerid=0670-anmuu': -0.001,\n 'customerid=0670-kdoma': -0.005,\n 'customerid=0673-iguqo': -0.004,\n 'customerid=0674-eyyzv': -0.01,\n 'customerid=0674-gcdxg': -0.0,\n 'customerid=0679-tdgak': -0.001,\n 'customerid=0680-dfnny': 0.005,\n 'customerid=0682-usixd': -0.008,\n 'customerid=0685-mlyym': 0.006,\n 'customerid=0687-zvthb': 0.017,\n 'customerid=0689-nkylf': 0.007,\n 'customerid=0691-ifbqw': 0.012,\n 'customerid=0691-jvsya': 0.014,\n 'customerid=0691-nikri': -0.005,\n 'customerid=0696-uktox': -0.002,\n 'customerid=0697-zmsws': 0.004,\n 'customerid=0699-ndkjm': -0.001,\n 'customerid=0701-rfgfi': -0.006,\n 'customerid=0702-pgibz': 0.004,\n 'customerid=0704-vcumb': -0.0,\n 'customerid=0707-hovvn': -0.001,\n 'customerid=0708-lgsmf': -0.008,\n 'customerid=0716-bqndx': -0.002,\n 'customerid=0719-syfrb': 0.013,\n 'customerid=0722-svsfk': -0.01,\n 'customerid=0722-troqr': 0.004,\n 'customerid=0723-vsobe': -0.001,\n 'customerid=0725-cxotm': -0.003,\n 'customerid=0727-bnrlg': -0.001,\n 'customerid=0727-iwkvk': 0.007,\n 'customerid=0730-bgqgf': -0.0,\n 'customerid=0731-ebjqb': -0.0,\n 'customerid=0734-oxwbt': -0.006,\n 'customerid=0739-uuajr': -0.0,\n 'customerid=0742-lafqk': -0.002,\n 'customerid=0742-moabm': 0.012,\n 'customerid=0743-hnpfg': -0.001,\n 'customerid=0744-bikkf': -0.0,\n 'customerid=0744-gknge': -0.001,\n 'customerid=0749-irgqe': -0.009,\n 'customerid=0750-ebaiu': -0.002,\n 'customerid=0750-ekngl': -0.003,\n 'customerid=0754-eebdc': -0.002,\n 'customerid=0754-ukwqp': 0.005,\n 'customerid=0761-aetcs': 0.013,\n 'customerid=0769-murvm': -0.0,\n 'customerid=0771-chwsk': -0.001,\n 'customerid=0772-gyeqq': 0.008,\n 'customerid=0774-ifuvm': -0.007,\n 'customerid=0778-nella': 0.008,\n 'customerid=0780-xnzfn': -0.0,\n 'customerid=0784-zqjzx': -0.0,\n 'customerid=0786-ivlaw': -0.003,\n 'customerid=0787-lhdyt': -0.002,\n 'customerid=0793-tweln': -0.011,\n 'customerid=0794-yvsge': -0.0,\n 'customerid=0795-lafgp': -0.001,\n 'customerid=0799-ddihe': -0.005,\n 'customerid=0804-xbfbv': -0.006,\n 'customerid=0810-bdhaw': -0.004,\n 'customerid=0810-dhdbd': -0.001,\n 'customerid=0812-wuptb': 0.007,\n 'customerid=0813-taxxs': -0.002,\n 'customerid=0815-mfzgm': -0.004,\n 'customerid=0816-tsphq': -0.004,\n 'customerid=0817-hsuse': -0.009,\n 'customerid=0818-ocpzo': 0.008,\n 'customerid=0822-gavap': 0.006,\n 'customerid=0822-qgcxa': -0.005,\n 'customerid=0824-vwdpo': -0.003,\n 'customerid=0825-cppqh': -0.0,\n 'customerid=0827-itjph': -0.0,\n 'customerid=0829-ddvlk': -0.001,\n 'customerid=0831-jnisg': -0.0,\n 'customerid=0835-duuiq': -0.001,\n 'customerid=0835-jkadz': -0.003,\n 'customerid=0836-seylu': 0.011,\n 'customerid=0839-qnxme': -0.0,\n 'customerid=0840-dfezh': -0.012,\n 'customerid=0842-iwycp': -0.001,\n 'customerid=0847-hgrml': -0.0,\n 'customerid=0851-dfjkb': -0.003,\n 'customerid=0854-uyhzd': -0.001,\n 'customerid=0856-naoes': -0.006,\n 'customerid=0859-ygkfw': -0.001,\n 'customerid=0862-prcbs': -0.002,\n 'customerid=0864-fvjnj': -0.002,\n 'customerid=0866-qlsir': 0.016,\n 'customerid=0867-ldttc': -0.006,\n 'customerid=0868-vjrdr': -0.002,\n 'customerid=0869-paprp': -0.008,\n 'customerid=0871-uruwo': 0.005,\n 'customerid=0872-caszj': -0.001,\n 'customerid=0872-jcpib': -0.005,\n 'customerid=0876-wduuz': 0.007,\n 'customerid=0877-sdmbn': 0.014,\n 'customerid=0885-hmgpy': -0.0,\n 'customerid=0886-qgenl': 0.009,\n 'customerid=0895-dqhew': 0.011,\n 'customerid=0895-lmrsf': -0.004,\n 'customerid=0895-lnkrc': -0.002,\n 'customerid=0897-fegmu': 0.005,\n 'customerid=0898-xcgtf': -0.004,\n 'customerid=0899-wzrsd': -0.003,\n 'customerid=0902-rfhof': -0.0,\n 'customerid=0906-qvpms': -0.002,\n 'customerid=0907-hqnts': -0.002,\n 'customerid=0909-sdhnu': -0.005,\n 'customerid=0913-xwscn': -0.003,\n 'customerid=0917-ezola': 0.014,\n 'customerid=0925-vydlg': 0.006,\n 'customerid=0928-xutsn': -0.01,\n 'customerid=0929-peclo': -0.004,\n 'customerid=0932-yixyu': -0.0,\n 'customerid=0939-yapaf': 0.008,\n 'customerid=0946-cljti': 0.011,\n 'customerid=0946-fkytx': -0.0,\n 'customerid=0947-mugvo': 0.008,\n 'customerid=0953-lgovu': -0.004,\n 'customerid=0956-acvzc': -0.003,\n 'customerid=0959-whokv': -0.005,\n 'customerid=0961-zwlvi': -0.004,\n 'customerid=0963-zbdrn': 0.01,\n 'customerid=0970-qxpxw': -0.004,\n 'customerid=0971-qifjk': -0.0,\n 'customerid=0975-uydtx': -0.003,\n 'customerid=0979-mozqi': -0.0,\n 'customerid=0979-phulv': 0.013,\n 'customerid=0980-fexwf': -0.002,\n 'customerid=0983-tatyj': -0.002,\n 'customerid=0988-jrwwp': -0.01,\n 'customerid=0997-ytlny': -0.002,\n 'customerid=1000-ajsld': 0.012,\n 'customerid=1004-noznr': -0.002,\n 'customerid=1009-irmna': 0.014,\n 'customerid=1015-owjki': -0.004,\n 'customerid=1017-fbqmm': -0.003,\n 'customerid=1020-jpqow': -0.002,\n 'customerid=1022-rkxdr': -0.0,\n 'customerid=1023-bqxze': -0.001,\n 'customerid=1024-guald': 0.006,\n 'customerid=1027-lkkqq': -0.0,\n 'customerid=1028-ffnjk': -0.009,\n 'customerid=1029-qfben': 0.013,\n 'customerid=1031-iideo': 0.005,\n 'customerid=1035-ipqpu': -0.006,\n 'customerid=1036-gudcl': -0.001,\n 'customerid=1038-zagbi': 0.015,\n 'customerid=1042-hfucw': -0.002,\n 'customerid=1043-uxovo': -0.002,\n 'customerid=1045-ltcyt': -0.003,\n 'customerid=1049-fysyg': -0.006,\n 'customerid=1051-eqpzr': -0.0,\n 'customerid=1053-mxttk': -0.001,\n 'customerid=1057-foglz': -0.001,\n 'customerid=1061-pnthc': -0.003,\n 'customerid=1062-lhzod': 0.006,\n 'customerid=1069-qjoee': -0.001,\n 'customerid=1069-xaiem': 0.003,\n 'customerid=1073-xxczd': -0.0,\n 'customerid=1074-amioh': -0.004,\n 'customerid=1074-wvevg': -0.0,\n 'customerid=1075-bgwoh': 0.005,\n 'customerid=1080-bwsye': -0.0,\n 'customerid=1084-uqchv': 0.008,\n 'customerid=1087-gruyi': -0.0,\n 'customerid=1087-udsih': 0.013,\n 'customerid=1088-auuzz': -0.001,\n 'customerid=1088-cnnkb': -0.0,\n 'customerid=1089-xzwhh': -0.001,\n 'customerid=1090-eselr': -0.001,\n 'customerid=1092-ganhu': 0.008,\n 'customerid=1092-wpivq': -0.001,\n 'customerid=1094-bkosx': -0.001,\n 'customerid=1095-wgngg': -0.004,\n 'customerid=1096-adrux': -0.001,\n 'customerid=1098-kfqec': -0.0,\n 'customerid=1098-tdvuq': -0.005,\n 'customerid=1104-fejam': -0.004,\n 'customerid=1104-tnlza': -0.01,\n 'customerid=1106-hrlkz': -0.0,\n 'customerid=1110-kylgq': -0.003,\n 'customerid=1112-cunao': 0.007,\n 'customerid=1116-dxxdf': -0.004,\n 'customerid=1120-bmwub': 0.013,\n 'customerid=1121-qsivb': -0.002,\n 'customerid=1122-jwtjw': 0.006,\n 'customerid=1125-snvck': -0.001,\n 'customerid=1131-alzwv': -0.001,\n 'customerid=1131-qqzeb': -0.0,\n 'customerid=1133-kxcge': -0.001,\n 'customerid=1135-hiori': -0.003,\n 'customerid=1140-ukvzg': -0.002,\n 'customerid=1150-ftqgn': -0.002,\n 'customerid=1150-wfarn': 0.015,\n 'customerid=1153-gnolc': -0.003,\n 'customerid=1154-hywwo': -0.001,\n 'customerid=1156-zfydo': -0.005,\n 'customerid=1162-ecvii': -0.003,\n 'customerid=1166-pqlgg': -0.0,\n 'customerid=1169-wcvak': -0.006,\n 'customerid=1170-sasml': -0.002,\n 'customerid=1172-viybp': -0.001,\n 'customerid=1173-noeyg': -0.007,\n 'customerid=1173-xzpyf': -0.012,\n 'customerid=1174-fgifn': -0.007,\n 'customerid=1177-xzbjl': -0.0,\n 'customerid=1179-inlat': -0.003,\n 'customerid=1184-pjvdb': 0.006,\n 'customerid=1193-rtslk': 0.014,\n 'customerid=1194-bhjyc': -0.0,\n 'customerid=1194-hvaif': -0.008,\n 'customerid=1194-spvsp': -0.004,\n 'customerid=1195-oiyej': 0.006,\n 'customerid=1196-amora': 0.006,\n 'customerid=1197-bvmvg': -0.013,\n 'customerid=1200-tuzhr': -0.012,\n 'customerid=1202-kkgfu': -0.003,\n 'customerid=1206-ehbdd': -0.001,\n 'customerid=1208-nbvfh': -0.005,\n 'customerid=1209-vffoc': -0.0,\n 'customerid=1215-figmp': -0.004,\n 'customerid=1216-bgtsp': -0.005,\n 'customerid=1217-vaswc': -0.005,\n 'customerid=1219-nnddo': -0.012,\n 'customerid=1222-lryko': -0.003,\n 'customerid=1223-unpks': -0.001,\n 'customerid=1227-udmzr': -0.001,\n 'customerid=1228-fzfrv': 0.013,\n 'customerid=1229-rcalf': -0.003,\n 'customerid=1231-yndek': -0.0,\n 'customerid=1236-wfcdv': 0.008,\n 'customerid=1240-hcboh': -0.0,\n 'customerid=1240-knsez': 0.012,\n 'customerid=1245-harps': -0.001,\n 'customerid=1247-qbvsh': -0.001,\n 'customerid=1251-krreg': 0.008,\n 'customerid=1251-stysz': -0.012,\n 'customerid=1260-ttrxi': 0.009,\n 'customerid=1261-fwtte': -0.006,\n 'customerid=1262-opmfy': 0.007,\n 'customerid=1264-fuhcx': -0.001,\n 'customerid=1265-bcfeo': -0.001,\n 'customerid=1265-hvpzb': -0.0,\n 'customerid=1266-nzyui': -0.0,\n 'customerid=1268-asbga': 0.006,\n 'customerid=1269-foywn': -0.0,\n 'customerid=1270-xkucc': -0.0,\n 'customerid=1271-uodno': -0.002,\n 'customerid=1272-ilhfg': -0.001,\n 'customerid=1285-okipp': 0.006,\n 'customerid=1291-cuocy': -0.002,\n 'customerid=1293-hhshj': -0.0,\n 'customerid=1297-vqdrp': -0.003,\n 'customerid=1298-phbti': -0.001,\n 'customerid=1301-lopvr': -0.002,\n 'customerid=1302-uhbdd': -0.009,\n 'customerid=1303-srdok': -0.002,\n 'customerid=1304-bccfo': -0.008,\n 'customerid=1304-necvq': 0.004,\n 'customerid=1304-segfy': -0.003,\n 'customerid=1306-rpwxz': -0.0,\n 'customerid=1307-atkgb': -0.008,\n 'customerid=1309-xgfsn': -0.002,\n 'customerid=1310-qritu': -0.007,\n 'customerid=1320-gvnht': -0.002,\n 'customerid=1323-ooepc': 0.011,\n 'customerid=1324-nltje': 0.012,\n 'customerid=1325-usmec': -0.002,\n 'customerid=1328-euzhc': -0.001,\n 'customerid=1329-vhwnp': -0.007,\n 'customerid=1333-pbmxb': -0.0,\n 'customerid=1334-fjsvr': 0.006,\n 'customerid=1335-mxcse': -0.0,\n 'customerid=1336-ezfzy': -0.003,\n 'customerid=1343-ehpyb': 0.012,\n 'customerid=1345-gkdzz': -0.003,\n 'customerid=1345-zukid': -0.001,\n 'customerid=1346-pjwtk': -0.002,\n 'customerid=1346-ufhax': -0.009,\n 'customerid=1352-hnsaw': -0.002,\n 'customerid=1352-vhkaj': -0.004,\n 'customerid=1354-yzfnb': -0.003,\n 'customerid=1355-kusbg': -0.008,\n 'customerid=1357-mvdoz': -0.007,\n 'customerid=1360-rcyrt': -0.003,\n 'customerid=1360-xfjmr': -0.003,\n 'customerid=1363-txlsl': 0.004,\n 'customerid=1370-ggawx': -0.005,\n 'customerid=1371-dwpaz': -0.005,\n 'customerid=1371-ojcek': -0.0,\n 'customerid=1373-orviz': 0.009,\n 'customerid=1376-hhbdv': -0.002,\n 'customerid=1383-ezrwl': 0.014,\n 'customerid=1386-zikuv': -0.003,\n 'customerid=1389-cxmlu': 0.005,\n 'customerid=1391-ubdar': -0.008,\n 'customerid=1393-imkzg': -0.012,\n 'customerid=1394-suiuh': -0.003,\n 'customerid=1395-ofuwc': -0.001,\n 'customerid=1395-wswxr': -0.001,\n 'customerid=1399-oupjn': -0.0,\n 'customerid=1400-wivll': -0.003,\n 'customerid=1401-fthfq': -0.001,\n 'customerid=1403-gyafu': -0.0,\n 'customerid=1403-lklik': -0.0,\n 'customerid=1406-puqvy': -0.009,\n 'customerid=1407-digzv': -0.003,\n 'customerid=1409-phxtf': -0.005,\n 'customerid=1410-rscmr': -0.005,\n 'customerid=1421-hcerk': -0.006,\n 'customerid=1422-dgubx': -0.005,\n 'customerid=1423-bmpbq': -0.005,\n 'customerid=1428-gtbjj': 0.007,\n 'customerid=1428-iedpr': -0.003,\n 'customerid=1430-sfqsa': -0.001,\n 'customerid=1431-cywmh': -0.001,\n 'customerid=1436-zmjan': -0.008,\n 'customerid=1442-bqpvu': -0.006,\n 'customerid=1444-vvsgw': 0.015,\n 'customerid=1447-giqmr': 0.005,\n 'customerid=1448-cywkc': -0.004,\n 'customerid=1448-pwkye': 0.006,\n 'customerid=1452-kiovk': -0.009,\n 'customerid=1452-uzosf': -0.001,\n 'customerid=1452-voqch': -0.013,\n 'customerid=1452-xrsjv': -0.001,\n 'customerid=1453-rzfon': -0.005,\n 'customerid=1455-esiqh': 0.004,\n 'customerid=1455-hfbxa': -0.002,\n 'customerid=1455-ugqvh': 0.004,\n 'customerid=1456-twcgb': -0.006,\n 'customerid=1459-qnfqt': -0.0,\n 'customerid=1460-uzprj': -0.0,\n 'customerid=1465-vindh': 0.006,\n 'customerid=1469-lbjqj': -0.005,\n 'customerid=1470-psxnm': -0.004,\n 'customerid=1471-giqkq': -0.008,\n 'customerid=1472-tncwl': -0.007,\n 'customerid=1474-juwsm': -0.001,\n 'customerid=1475-vwvdo': -0.01,\n 'customerid=1478-vpoad': -0.008,\n 'customerid=1480-ivevr': -0.006,\n 'customerid=1481-zuwza': 0.01,\n 'customerid=1482-oxzsy': -0.008,\n 'customerid=1485-ydhmm': -0.003,\n 'customerid=1488-sysfc': -0.001,\n 'customerid=1492-kgeth': -0.0,\n 'customerid=1492-qgclu': -0.001,\n 'customerid=1494-ejzdw': -0.002,\n 'customerid=1496-ggsuk': 0.006,\n 'customerid=1498-dqnrx': -0.001,\n 'customerid=1498-nhtlt': -0.001,\n 'customerid=1501-sghbw': 0.01,\n 'customerid=1506-yjtyt': -0.001,\n 'customerid=1508-dfxcu': -0.01,\n 'customerid=1522-vvdmg': 0.008,\n 'customerid=1525-lnloj': -0.001,\n 'customerid=1534-oulxe': -0.0,\n 'customerid=1535-vtjoq': -0.001,\n 'customerid=1536-yhdoe': -0.003,\n 'customerid=1541-etjzo': 0.01,\n 'customerid=1544-jjmyl': -0.002,\n 'customerid=1545-jfuml': -0.002,\n 'customerid=1548-aragg': -0.007,\n 'customerid=1548-fehvl': -0.005,\n 'customerid=1550-loaha': 0.012,\n 'customerid=1552-czcll': -0.0,\n 'customerid=1552-tkmxs': -0.0,\n 'customerid=1555-djeqw': 0.015,\n 'customerid=1555-hapsu': -0.0,\n 'customerid=1557-emyvt': -0.003,\n 'customerid=1559-dtodc': -0.005,\n 'customerid=1563-iwqex': -0.002,\n 'customerid=1564-ntyxf': 0.005,\n 'customerid=1568-bekzm': -0.001,\n 'customerid=1569-ttnyj': 0.005,\n 'customerid=1571-savhk': 0.007,\n 'customerid=1574-dycwe': -0.0,\n 'customerid=1580-bmcmr': -0.009,\n 'customerid=1583-ihqze': 0.007,\n 'customerid=1585-mqssu': 0.014,\n 'customerid=1587-fklzb': 0.012,\n 'customerid=1589-agtlk': 0.008,\n 'customerid=1591-nfnlq': 0.014,\n 'customerid=1596-bbvtg': 0.012,\n 'customerid=1596-oqsps': -0.006,\n 'customerid=1597-fzreh': 0.01,\n 'customerid=1597-lhync': 0.008,\n 'customerid=1599-eahxy': -0.0,\n 'customerid=1599-mmyrq': -0.001,\n 'customerid=1608-gmewb': -0.007,\n 'customerid=1612-eohdh': 0.009,\n 'customerid=1614-jbebi': -0.003,\n 'customerid=1618-cfhme': 0.004,\n 'customerid=1621-yncjh': -0.004,\n 'customerid=1623-nldot': 0.016,\n 'customerid=1624-naloj': 0.004,\n 'customerid=1624-woiwj': 0.009,\n 'customerid=1625-jaiiy': 0.015,\n 'customerid=1635-fjfcc': -0.008,\n 'customerid=1635-hdgft': -0.001,\n 'customerid=1635-nzatj': -0.0,\n 'customerid=1640-plfmp': -0.012,\n 'customerid=1641-bybtk': -0.003,\n 'customerid=1644-irksf': 0.011,\n 'customerid=1656-drsmg': -0.004,\n 'customerid=1658-bygoy': 0.005,\n 'customerid=1658-tjvoa': -0.01,\n 'customerid=1658-xuhbx': -0.004,\n 'customerid=1660-hsooq': 0.009,\n 'customerid=1661-czbau': -0.001,\n 'customerid=1666-jxlku': -0.009,\n 'customerid=1666-jzpzt': -0.003,\n 'customerid=1670-svowz': 0.009,\n 'customerid=1676-mqaoa': -0.0,\n 'customerid=1679-jrfbr': -0.003,\n 'customerid=1684-flbgs': -0.005,\n 'customerid=1685-bqula': -0.006,\n 'customerid=1685-vayjf': -0.005,\n 'customerid=1696-mzvau': -0.001,\n 'customerid=1697-bcshv': -0.001,\n 'customerid=1697-lyyyx': -0.0,\n 'customerid=1697-nvvgy': -0.004,\n 'customerid=1698-xfzci': -0.003,\n 'customerid=1699-hpsbg': 0.012,\n 'customerid=1699-tldlz': -0.001,\n 'customerid=1699-uotxu': -0.0,\n 'customerid=1703-mgiab': -0.005,\n 'customerid=1704-nrwye': 0.005,\n 'customerid=1705-guhpv': -0.0,\n 'customerid=1707-habpf': -0.003,\n 'customerid=1716-lsamb': -0.0,\n 'customerid=1723-hkxjq': 0.009,\n 'customerid=1724-bquha': 0.004,\n 'customerid=1724-iqwnm': -0.004,\n 'customerid=1725-mimxw': 0.013,\n 'customerid=1728-bqdma': -0.008,\n 'customerid=1729-vlazj': -0.003,\n 'customerid=1730-vfmwo': -0.001,\n 'customerid=1730-zmame': -0.008,\n 'customerid=1732-vhubq': 0.015,\n 'customerid=1734-zmntz': -0.002,\n 'customerid=1735-xmjvh': -0.003,\n 'customerid=1740-csdjp': 0.006,\n 'customerid=1744-jhkys': -0.001,\n 'customerid=1746-tgtwv': -0.01,\n 'customerid=1750-cskkm': 0.011,\n 'customerid=1754-gkypy': -0.01,\n 'customerid=1755-fzqec': -0.0,\n 'customerid=1755-rmcxh': -0.003,\n 'customerid=1760-cazht': -0.001,\n 'customerid=1761-aezzr': 0.005,\n 'customerid=1763-kuaaw': -0.001,\n 'customerid=1763-wqfuk': -0.007,\n 'customerid=1767-tgtko': -0.008,\n 'customerid=1768-hnvgj': -0.002,\n 'customerid=1768-zaifu': 0.005,\n 'customerid=1771-oadnz': 0.007,\n 'customerid=1775-kwjkq': -0.0,\n 'customerid=1776-spbwv': -0.0,\n 'customerid=1785-bphtp': -0.005,\n 'customerid=1790-nesio': -0.002,\n 'customerid=1791-pqhbb': -0.007,\n 'customerid=1792-uxafy': 0.008,\n 'customerid=1794-hbqtj': 0.01,\n 'customerid=1813-jywto': -0.001,\n 'customerid=1814-wfgvs': -0.0,\n 'customerid=1816-flzdk': -0.007,\n 'customerid=1820-tqvev': 0.005,\n 'customerid=1830-ggfnm': -0.001,\n 'customerid=1830-ipxvj': -0.0,\n 'customerid=1837-yquce': -0.0,\n 'customerid=1839-fbnfr': -0.0,\n 'customerid=1840-biuog': -0.005,\n 'customerid=1841-ysjgv': -0.002,\n 'customerid=1842-ezjmk': 0.013,\n 'customerid=1843-tlsgd': -0.001,\n 'customerid=1848-lbzhy': -0.006,\n 'customerid=1850-akqep': -0.002,\n 'customerid=1852-xemdw': -0.003,\n 'customerid=1855-agawh': -0.007,\n 'customerid=1855-cfulu': -0.004,\n 'customerid=1866-dioqz': -0.0,\n 'customerid=1866-obpnr': -0.009,\n 'customerid=1866-zsljm': -0.001,\n 'customerid=1867-tjhts': -0.002,\n 'customerid=1871-mowrm': 0.012,\n 'customerid=1872-ebwsc': -0.0,\n 'customerid=1875-qivme': 0.005,\n 'customerid=1877-hkbqx': -0.003,\n 'customerid=1895-qtkdo': -0.008,\n 'customerid=1897-okvmw': -0.001,\n 'customerid=1897-rcfum': -0.0,\n 'customerid=1899-vxwxm': 0.012,\n 'customerid=1902-xbtfb': 0.009,\n 'customerid=1904-wajaa': -0.002,\n 'customerid=1907-ylnyw': -0.007,\n 'customerid=1915-iofgu': 0.006,\n 'customerid=1919-rtpqd': -0.007,\n 'customerid=1925-lfczz': -0.001,\n 'customerid=1925-tible': 0.004,\n 'customerid=1926-quznn': -0.0,\n 'customerid=1927-qewmy': -0.0,\n 'customerid=1928-bxyiv': -0.008,\n 'customerid=1934-sjvjk': 0.013,\n 'customerid=1936-czakf': -0.001,\n 'customerid=1936-uafeh': -0.001,\n 'customerid=1937-otuky': -0.001,\n 'customerid=1941-hosam': -0.013,\n 'customerid=1945-xisks': -0.0,\n 'customerid=1950-ksvvj': -0.003,\n 'customerid=1951-ieyxm': -0.001,\n 'customerid=1952-dvvsw': -0.002,\n 'customerid=1955-ibmmb': -0.0,\n 'customerid=1956-yifge': -0.006,\n 'customerid=1958-rnrks': -0.004,\n 'customerid=1960-uotym': -0.001,\n 'customerid=1960-uycnn': -0.012,\n 'customerid=1963-vaukv': 0.013,\n 'customerid=1964-svlea': -0.001,\n 'customerid=1965-aktsx': 0.006,\n 'customerid=1965-ddbwu': 0.008,\n 'customerid=1972-xmuwv': -0.0,\n 'customerid=1976-azzpj': -0.005,\n 'customerid=1976-cfocs': 0.008,\n 'customerid=1980-kxvpm': 0.004,\n 'customerid=1984-fcowb': 0.014,\n 'customerid=1985-mbryp': -0.0,\n 'customerid=1986-phgzf': -0.005,\n 'customerid=1991-vopll': -0.002,\n 'customerid=2000-dhjuy': -0.001,\n 'customerid=2000-mpkca': -0.004,\n 'customerid=2001-ewbqu': -0.003,\n 'customerid=2001-mcuuw': -0.004,\n 'customerid=2002-mzhwp': 0.013,\n 'customerid=2011-trqye': 0.012,\n 'customerid=2012-nwrpa': 0.004,\n 'customerid=2013-sgdxk': 0.006,\n 'customerid=2014-mkgmh': -0.006,\n 'customerid=2023-vqfdl': -0.002,\n 'customerid=2024-baskd': 0.006,\n 'customerid=2025-jkfwi': 0.007,\n 'customerid=2027-cwdnu': -0.008,\n 'customerid=2027-dnkiv': -0.001,\n 'customerid=2027-feczv': 0.005,\n 'customerid=2030-btzro': -0.003,\n 'customerid=2034-gdrcn': 0.004,\n 'customerid=2037-sgxhh': 0.01,\n 'customerid=2038-llmlm': -0.006,\n 'customerid=2038-yseze': -0.002,\n 'customerid=2040-obmlj': -0.004,\n 'customerid=2040-vzike': -0.005,\n 'customerid=2043-wvtqj': -0.006,\n 'customerid=2049-bafnw': -0.007,\n 'customerid=2055-bfocc': -0.001,\n 'customerid=2055-sifss': -0.001,\n 'customerid=2057-zblpd': 0.006,\n 'customerid=2058-dcjbe': 0.006,\n 'customerid=2061-vvfst': -0.0,\n 'customerid=2065-mmkgr': -0.005,\n 'customerid=2067-qytcf': -0.004,\n 'customerid=2068-wwxqz': -0.0,\n 'customerid=2070-fnexe': 0.009,\n 'customerid=2070-xymfh': -0.008,\n 'customerid=2072-zvjjx': -0.0,\n 'customerid=2073-qbvbi': -0.001,\n 'customerid=2074-gkowz': 0.005,\n 'customerid=2074-guhpq': -0.007,\n 'customerid=2075-rmjik': -0.006,\n 'customerid=2077-mpjqo': -0.013,\n 'customerid=2081-veyeh': -0.01,\n 'customerid=2082-ceflt': 0.007,\n 'customerid=2085-jvgad': -0.0,\n 'customerid=2088-iebau': -0.001,\n 'customerid=2091-mjtfx': 0.014,\n 'customerid=2091-rffba': 0.009,\n 'customerid=2097-yvpkn': -0.0,\n 'customerid=2100-bdnsn': 0.01,\n 'customerid=2101-rancd': -0.004,\n 'customerid=2105-phwon': -0.006,\n 'customerid=2107-fbptk': -0.01,\n 'customerid=2108-glpqb': -0.004,\n 'customerid=2111-dwyhn': -0.004,\n 'customerid=2114-mgina': 0.007,\n 'customerid=2120-smpex': -0.001,\n 'customerid=2122-szzzd': -0.0,\n 'customerid=2122-ywvya': -0.007,\n 'customerid=2123-ageen': -0.012,\n 'customerid=2123-vscot': -0.001,\n 'customerid=2126-gsegl': -0.001,\n 'customerid=2129-alkbs': -0.001,\n 'customerid=2133-tsrrm': -0.005,\n 'customerid=2138-vfapz': -0.002,\n 'customerid=2139-fqhlm': -0.005,\n 'customerid=2141-rrygo': 0.008,\n 'customerid=2143-ljult': -0.0,\n 'customerid=2144-bfdso': -0.004,\n 'customerid=2146-egvdt': -0.0,\n 'customerid=2150-wlkuw': -0.002,\n 'customerid=2153-mrefk': 0.012,\n 'customerid=2154-kvjff': 0.007,\n 'customerid=2155-amqrx': -0.003,\n 'customerid=2159-turxx': -0.003,\n 'customerid=2164-soqxl': -0.001,\n 'customerid=2167-fqstq': -0.001,\n 'customerid=2169-rrlfw': -0.0,\n 'customerid=2171-udmfd': -0.001,\n 'customerid=2172-ejxvf': -0.004,\n 'customerid=2176-osjuv': -0.0,\n 'customerid=2178-pmgcj': -0.007,\n 'customerid=2186-qzeya': -0.003,\n 'customerid=2187-lzgpl': 0.008,\n 'customerid=2188-sxwvt': -0.001,\n 'customerid=2190-bcxec': -0.004,\n 'customerid=2192-ckrlv': -0.0,\n 'customerid=2193-sfwqw': -0.001,\n 'customerid=2194-iiqof': -0.0,\n 'customerid=2195-vvrjf': -0.005,\n 'customerid=2205-lpvgl': -0.001,\n 'customerid=2207-ryyrl': -0.0,\n 'customerid=2208-mpxio': -0.0,\n 'customerid=2212-lyask': -0.003,\n 'customerid=2219-mvuso': 0.01,\n 'customerid=2220-iahls': -0.004,\n 'customerid=2223-kagmx': 0.015,\n 'customerid=2232-dmlxu': 0.009,\n 'customerid=2233-txsiu': -0.003,\n 'customerid=2234-eofpt': -0.0,\n 'customerid=2235-dwlju': -0.011,\n 'customerid=2235-zgkpt': 0.009,\n 'customerid=2236-hilpa': -0.0,\n 'customerid=2239-jalaw': 0.013,\n 'customerid=2240-hsjqd': -0.005,\n 'customerid=2243-fnmmi': -0.001,\n 'customerid=2249-yprng': 0.007,\n 'customerid=2250-ivbwa': -0.001,\n 'customerid=2252-jhjge': -0.002,\n 'customerid=2252-nknsi': -0.001,\n 'customerid=2253-kpmnb': -0.0,\n 'customerid=2254-dlxri': -0.012,\n 'customerid=2259-ouusz': -0.006,\n 'customerid=2262-slnvk': -0.011,\n 'customerid=2265-cywiv': 0.004,\n 'customerid=2266-fubdz': -0.001,\n 'customerid=2267-wtpyd': -0.004,\n 'customerid=2270-chbfn': -0.003,\n 'customerid=2272-jkmsi': -0.003,\n 'customerid=2273-qckxa': -0.006,\n 'customerid=2275-rbyqs': -0.009,\n 'customerid=2276-ydavz': 0.005,\n 'customerid=2277-axsdc': -0.0,\n 'customerid=2277-bkjkn': -0.003,\n 'customerid=2279-axjjk': -0.004,\n 'customerid=2292-xqwsv': -0.001,\n 'customerid=2293-ijwps': -0.005,\n 'customerid=2294-dmmus': -0.002,\n 'customerid=2294-salne': -0.003,\n 'customerid=2296-dkzfp': -0.0,\n 'customerid=2300-rqgoi': -0.0,\n 'customerid=2303-pjyhn': -0.004,\n 'customerid=2307-fynnl': -0.003,\n 'customerid=2311-qymuq': 0.009,\n 'customerid=2320-slkmb': -0.003,\n 'customerid=2320-tzrrh': -0.001,\n 'customerid=2320-ykqbo': -0.003,\n 'customerid=2322-vczhz': -0.008,\n 'customerid=2324-aalno': -0.0,\n 'customerid=2325-nbpzg': -0.01,\n 'customerid=2330-pqgdq': -0.002,\n 'customerid=2332-efbjy': 0.015,\n 'customerid=2333-kweww': -0.001,\n 'customerid=2335-gsoda': -0.001,\n 'customerid=2342-ckiao': -0.004,\n 'customerid=2346-djqtb': -0.002,\n 'customerid=2347-wkkae': -0.006,\n 'customerid=2348-kcjlt': -0.001,\n 'customerid=2351-bkrzw': -0.001,\n 'customerid=2351-rrbue': -0.002,\n 'customerid=2357-coqek': 0.008,\n 'customerid=2359-kmgli': 0.008,\n 'customerid=2359-qwqul': 0.014,\n 'customerid=2369-fevno': -0.005,\n 'customerid=2371-jungc': -0.002,\n 'customerid=2373-ntkod': -0.009,\n 'customerid=2378-htwfw': -0.005,\n 'customerid=2378-yizka': -0.0,\n 'customerid=2382-bckqj': 0.013,\n 'customerid=2386-lahrk': 0.008,\n 'customerid=2386-owury': -0.004,\n 'customerid=2388-laesq': -0.002,\n 'customerid=2391-iplop': -0.001,\n 'customerid=2393-divai': -0.004,\n 'customerid=2397-brlom': 0.006,\n 'customerid=2402-tairz': -0.003,\n 'customerid=2404-jibfc': -0.001,\n 'customerid=2405-lbmuw': -0.0,\n 'customerid=2408-tzmjl': 0.013,\n 'customerid=2408-witxk': 0.007,\n 'customerid=2410-ciyfz': -0.003,\n 'customerid=2424-wvhpl': -0.01,\n 'customerid=2428-hyunx': -0.0,\n 'customerid=2429-aykko': -0.0,\n 'customerid=2430-rryuw': -0.0,\n 'customerid=2430-usgxp': 0.006,\n 'customerid=2432-tfsmk': -0.009,\n 'customerid=2434-eevdb': -0.002,\n 'customerid=2436-qbzfp': -0.004,\n 'customerid=2439-lypmq': -0.009,\n 'customerid=2439-qkjul': -0.003,\n 'customerid=2446-beggb': 0.004,\n 'customerid=2446-plqvo': 0.005,\n 'customerid=2446-zkvaf': -0.005,\n 'customerid=2450-zkeed': -0.003,\n 'customerid=2452-kdrrh': -0.005,\n 'customerid=2452-snhfz': -0.002,\n 'customerid=2454-rpbrz': 0.005,\n 'customerid=2455-uslmv': -0.005,\n 'customerid=2458-eomre': -0.004,\n 'customerid=2466-fccpt': -0.001,\n 'customerid=2469-dtsgx': -0.002,\n 'customerid=2472-ovkup': 0.006,\n 'customerid=2474-brucm': 0.01,\n 'customerid=2474-lcnue': -0.006,\n ...}"
     },
     "execution_count": 144,
     "metadata": {},
     "output_type": "execute_result"
    }
   ],
   "source": [
    "dict(zip(dv.get_feature_names_out(), model.coef_[0].round(3)))"
   ],
   "metadata": {
    "collapsed": false,
    "ExecuteTime": {
     "end_time": "2024-01-12T09:27:52.716096344Z",
     "start_time": "2024-01-12T09:27:52.223245050Z"
    }
   },
   "id": "2a58c860ac0aa5a1"
  },
  {
   "cell_type": "code",
   "execution_count": 145,
   "outputs": [],
   "source": [
    "small = ['contract', 'tenure', 'monthlycharges']"
   ],
   "metadata": {
    "collapsed": false,
    "ExecuteTime": {
     "end_time": "2024-01-12T09:29:18.702736288Z",
     "start_time": "2024-01-12T09:29:18.433929389Z"
    }
   },
   "id": "d37d1efc4d894a33"
  },
  {
   "cell_type": "code",
   "execution_count": 147,
   "outputs": [
    {
     "data": {
      "text/plain": "[{'contract': 'two_year', 'tenure': 72, 'monthlycharges': 115.5},\n {'contract': 'month-to-month', 'tenure': 10, 'monthlycharges': 95.25},\n {'contract': 'month-to-month', 'tenure': 5, 'monthlycharges': 75.55},\n {'contract': 'month-to-month', 'tenure': 5, 'monthlycharges': 80.85},\n {'contract': 'two_year', 'tenure': 18, 'monthlycharges': 20.1},\n {'contract': 'month-to-month', 'tenure': 4, 'monthlycharges': 30.5},\n {'contract': 'month-to-month', 'tenure': 1, 'monthlycharges': 75.1},\n {'contract': 'month-to-month', 'tenure': 1, 'monthlycharges': 70.3},\n {'contract': 'two_year', 'tenure': 72, 'monthlycharges': 19.75},\n {'contract': 'month-to-month', 'tenure': 6, 'monthlycharges': 109.9}]"
     },
     "execution_count": 147,
     "metadata": {},
     "output_type": "execute_result"
    }
   ],
   "source": [
    "df_train[small].iloc[:10].to_dict(orient='records')"
   ],
   "metadata": {
    "collapsed": false,
    "ExecuteTime": {
     "end_time": "2024-01-12T09:30:19.711708736Z",
     "start_time": "2024-01-12T09:30:19.325742015Z"
    }
   },
   "id": "c9b8a6a2fc05e8f9"
  },
  {
   "cell_type": "code",
   "execution_count": 148,
   "outputs": [],
   "source": [
    "dicts_train_small = df_train[small].to_dict(orient='records')\n",
    "dicts_val_small = df_val[small].to_dict(orient='records')"
   ],
   "metadata": {
    "collapsed": false,
    "ExecuteTime": {
     "end_time": "2024-01-12T09:31:36.408275641Z",
     "start_time": "2024-01-12T09:31:36.004102421Z"
    }
   },
   "id": "626806c567fcfdef"
  },
  {
   "cell_type": "code",
   "execution_count": 150,
   "outputs": [
    {
     "data": {
      "text/plain": "DictVectorizer(sparse=False)",
      "text/html": "<style>#sk-container-id-6 {color: black;background-color: white;}#sk-container-id-6 pre{padding: 0;}#sk-container-id-6 div.sk-toggleable {background-color: white;}#sk-container-id-6 label.sk-toggleable__label {cursor: pointer;display: block;width: 100%;margin-bottom: 0;padding: 0.3em;box-sizing: border-box;text-align: center;}#sk-container-id-6 label.sk-toggleable__label-arrow:before {content: \"▸\";float: left;margin-right: 0.25em;color: #696969;}#sk-container-id-6 label.sk-toggleable__label-arrow:hover:before {color: black;}#sk-container-id-6 div.sk-estimator:hover label.sk-toggleable__label-arrow:before {color: black;}#sk-container-id-6 div.sk-toggleable__content {max-height: 0;max-width: 0;overflow: hidden;text-align: left;background-color: #f0f8ff;}#sk-container-id-6 div.sk-toggleable__content pre {margin: 0.2em;color: black;border-radius: 0.25em;background-color: #f0f8ff;}#sk-container-id-6 input.sk-toggleable__control:checked~div.sk-toggleable__content {max-height: 200px;max-width: 100%;overflow: auto;}#sk-container-id-6 input.sk-toggleable__control:checked~label.sk-toggleable__label-arrow:before {content: \"▾\";}#sk-container-id-6 div.sk-estimator input.sk-toggleable__control:checked~label.sk-toggleable__label {background-color: #d4ebff;}#sk-container-id-6 div.sk-label input.sk-toggleable__control:checked~label.sk-toggleable__label {background-color: #d4ebff;}#sk-container-id-6 input.sk-hidden--visually {border: 0;clip: rect(1px 1px 1px 1px);clip: rect(1px, 1px, 1px, 1px);height: 1px;margin: -1px;overflow: hidden;padding: 0;position: absolute;width: 1px;}#sk-container-id-6 div.sk-estimator {font-family: monospace;background-color: #f0f8ff;border: 1px dotted black;border-radius: 0.25em;box-sizing: border-box;margin-bottom: 0.5em;}#sk-container-id-6 div.sk-estimator:hover {background-color: #d4ebff;}#sk-container-id-6 div.sk-parallel-item::after {content: \"\";width: 100%;border-bottom: 1px solid gray;flex-grow: 1;}#sk-container-id-6 div.sk-label:hover label.sk-toggleable__label {background-color: #d4ebff;}#sk-container-id-6 div.sk-serial::before {content: \"\";position: absolute;border-left: 1px solid gray;box-sizing: border-box;top: 0;bottom: 0;left: 50%;z-index: 0;}#sk-container-id-6 div.sk-serial {display: flex;flex-direction: column;align-items: center;background-color: white;padding-right: 0.2em;padding-left: 0.2em;position: relative;}#sk-container-id-6 div.sk-item {position: relative;z-index: 1;}#sk-container-id-6 div.sk-parallel {display: flex;align-items: stretch;justify-content: center;background-color: white;position: relative;}#sk-container-id-6 div.sk-item::before, #sk-container-id-6 div.sk-parallel-item::before {content: \"\";position: absolute;border-left: 1px solid gray;box-sizing: border-box;top: 0;bottom: 0;left: 50%;z-index: -1;}#sk-container-id-6 div.sk-parallel-item {display: flex;flex-direction: column;z-index: 1;position: relative;background-color: white;}#sk-container-id-6 div.sk-parallel-item:first-child::after {align-self: flex-end;width: 50%;}#sk-container-id-6 div.sk-parallel-item:last-child::after {align-self: flex-start;width: 50%;}#sk-container-id-6 div.sk-parallel-item:only-child::after {width: 0;}#sk-container-id-6 div.sk-dashed-wrapped {border: 1px dashed gray;margin: 0 0.4em 0.5em 0.4em;box-sizing: border-box;padding-bottom: 0.4em;background-color: white;}#sk-container-id-6 div.sk-label label {font-family: monospace;font-weight: bold;display: inline-block;line-height: 1.2em;}#sk-container-id-6 div.sk-label-container {text-align: center;}#sk-container-id-6 div.sk-container {/* jupyter's `normalize.less` sets `[hidden] { display: none; }` but bootstrap.min.css set `[hidden] { display: none !important; }` so we also need the `!important` here to be able to override the default hidden behavior on the sphinx rendered scikit-learn.org. See: https://github.com/scikit-learn/scikit-learn/issues/21755 */display: inline-block !important;position: relative;}#sk-container-id-6 div.sk-text-repr-fallback {display: none;}</style><div id=\"sk-container-id-6\" class=\"sk-top-container\"><div class=\"sk-text-repr-fallback\"><pre>DictVectorizer(sparse=False)</pre><b>In a Jupyter environment, please rerun this cell to show the HTML representation or trust the notebook. <br />On GitHub, the HTML representation is unable to render, please try loading this page with nbviewer.org.</b></div><div class=\"sk-container\" hidden><div class=\"sk-item\"><div class=\"sk-estimator sk-toggleable\"><input class=\"sk-toggleable__control sk-hidden--visually\" id=\"sk-estimator-id-6\" type=\"checkbox\" checked><label for=\"sk-estimator-id-6\" class=\"sk-toggleable__label sk-toggleable__label-arrow\">DictVectorizer</label><div class=\"sk-toggleable__content\"><pre>DictVectorizer(sparse=False)</pre></div></div></div></div></div>"
     },
     "execution_count": 150,
     "metadata": {},
     "output_type": "execute_result"
    }
   ],
   "source": [
    "dv_small = DictVectorizer(sparse=False)\n",
    "dv_small.fit(dicts_train_small)"
   ],
   "metadata": {
    "collapsed": false,
    "ExecuteTime": {
     "end_time": "2024-01-12T09:32:22.339744152Z",
     "start_time": "2024-01-12T09:32:21.967055890Z"
    }
   },
   "id": "89e194e953bb8248"
  },
  {
   "cell_type": "code",
   "execution_count": 151,
   "outputs": [
    {
     "data": {
      "text/plain": "array(['contract=month-to-month', 'contract=one_year',\n       'contract=two_year', 'monthlycharges', 'tenure'], dtype=object)"
     },
     "execution_count": 151,
     "metadata": {},
     "output_type": "execute_result"
    }
   ],
   "source": [
    "dv_small.get_feature_names_out()"
   ],
   "metadata": {
    "collapsed": false,
    "ExecuteTime": {
     "end_time": "2024-01-12T09:32:36.485238019Z",
     "start_time": "2024-01-12T09:32:35.986670267Z"
    }
   },
   "id": "16e773cf6c531a4c"
  },
  {
   "cell_type": "code",
   "execution_count": 152,
   "outputs": [],
   "source": [
    "X_train_small = dv_small.transform(dicts_train_small)"
   ],
   "metadata": {
    "collapsed": false,
    "ExecuteTime": {
     "end_time": "2024-01-12T09:33:14.372955882Z",
     "start_time": "2024-01-12T09:33:14.037531320Z"
    }
   },
   "id": "3c1759c6614f466e"
  },
  {
   "cell_type": "code",
   "execution_count": 153,
   "outputs": [
    {
     "data": {
      "text/plain": "LogisticRegression()",
      "text/html": "<style>#sk-container-id-7 {color: black;background-color: white;}#sk-container-id-7 pre{padding: 0;}#sk-container-id-7 div.sk-toggleable {background-color: white;}#sk-container-id-7 label.sk-toggleable__label {cursor: pointer;display: block;width: 100%;margin-bottom: 0;padding: 0.3em;box-sizing: border-box;text-align: center;}#sk-container-id-7 label.sk-toggleable__label-arrow:before {content: \"▸\";float: left;margin-right: 0.25em;color: #696969;}#sk-container-id-7 label.sk-toggleable__label-arrow:hover:before {color: black;}#sk-container-id-7 div.sk-estimator:hover label.sk-toggleable__label-arrow:before {color: black;}#sk-container-id-7 div.sk-toggleable__content {max-height: 0;max-width: 0;overflow: hidden;text-align: left;background-color: #f0f8ff;}#sk-container-id-7 div.sk-toggleable__content pre {margin: 0.2em;color: black;border-radius: 0.25em;background-color: #f0f8ff;}#sk-container-id-7 input.sk-toggleable__control:checked~div.sk-toggleable__content {max-height: 200px;max-width: 100%;overflow: auto;}#sk-container-id-7 input.sk-toggleable__control:checked~label.sk-toggleable__label-arrow:before {content: \"▾\";}#sk-container-id-7 div.sk-estimator input.sk-toggleable__control:checked~label.sk-toggleable__label {background-color: #d4ebff;}#sk-container-id-7 div.sk-label input.sk-toggleable__control:checked~label.sk-toggleable__label {background-color: #d4ebff;}#sk-container-id-7 input.sk-hidden--visually {border: 0;clip: rect(1px 1px 1px 1px);clip: rect(1px, 1px, 1px, 1px);height: 1px;margin: -1px;overflow: hidden;padding: 0;position: absolute;width: 1px;}#sk-container-id-7 div.sk-estimator {font-family: monospace;background-color: #f0f8ff;border: 1px dotted black;border-radius: 0.25em;box-sizing: border-box;margin-bottom: 0.5em;}#sk-container-id-7 div.sk-estimator:hover {background-color: #d4ebff;}#sk-container-id-7 div.sk-parallel-item::after {content: \"\";width: 100%;border-bottom: 1px solid gray;flex-grow: 1;}#sk-container-id-7 div.sk-label:hover label.sk-toggleable__label {background-color: #d4ebff;}#sk-container-id-7 div.sk-serial::before {content: \"\";position: absolute;border-left: 1px solid gray;box-sizing: border-box;top: 0;bottom: 0;left: 50%;z-index: 0;}#sk-container-id-7 div.sk-serial {display: flex;flex-direction: column;align-items: center;background-color: white;padding-right: 0.2em;padding-left: 0.2em;position: relative;}#sk-container-id-7 div.sk-item {position: relative;z-index: 1;}#sk-container-id-7 div.sk-parallel {display: flex;align-items: stretch;justify-content: center;background-color: white;position: relative;}#sk-container-id-7 div.sk-item::before, #sk-container-id-7 div.sk-parallel-item::before {content: \"\";position: absolute;border-left: 1px solid gray;box-sizing: border-box;top: 0;bottom: 0;left: 50%;z-index: -1;}#sk-container-id-7 div.sk-parallel-item {display: flex;flex-direction: column;z-index: 1;position: relative;background-color: white;}#sk-container-id-7 div.sk-parallel-item:first-child::after {align-self: flex-end;width: 50%;}#sk-container-id-7 div.sk-parallel-item:last-child::after {align-self: flex-start;width: 50%;}#sk-container-id-7 div.sk-parallel-item:only-child::after {width: 0;}#sk-container-id-7 div.sk-dashed-wrapped {border: 1px dashed gray;margin: 0 0.4em 0.5em 0.4em;box-sizing: border-box;padding-bottom: 0.4em;background-color: white;}#sk-container-id-7 div.sk-label label {font-family: monospace;font-weight: bold;display: inline-block;line-height: 1.2em;}#sk-container-id-7 div.sk-label-container {text-align: center;}#sk-container-id-7 div.sk-container {/* jupyter's `normalize.less` sets `[hidden] { display: none; }` but bootstrap.min.css set `[hidden] { display: none !important; }` so we also need the `!important` here to be able to override the default hidden behavior on the sphinx rendered scikit-learn.org. See: https://github.com/scikit-learn/scikit-learn/issues/21755 */display: inline-block !important;position: relative;}#sk-container-id-7 div.sk-text-repr-fallback {display: none;}</style><div id=\"sk-container-id-7\" class=\"sk-top-container\"><div class=\"sk-text-repr-fallback\"><pre>LogisticRegression()</pre><b>In a Jupyter environment, please rerun this cell to show the HTML representation or trust the notebook. <br />On GitHub, the HTML representation is unable to render, please try loading this page with nbviewer.org.</b></div><div class=\"sk-container\" hidden><div class=\"sk-item\"><div class=\"sk-estimator sk-toggleable\"><input class=\"sk-toggleable__control sk-hidden--visually\" id=\"sk-estimator-id-7\" type=\"checkbox\" checked><label for=\"sk-estimator-id-7\" class=\"sk-toggleable__label sk-toggleable__label-arrow\">LogisticRegression</label><div class=\"sk-toggleable__content\"><pre>LogisticRegression()</pre></div></div></div></div></div>"
     },
     "execution_count": 153,
     "metadata": {},
     "output_type": "execute_result"
    }
   ],
   "source": [
    "model_small = LogisticRegression()\n",
    "model_small.fit(X_train_small, y_train)"
   ],
   "metadata": {
    "collapsed": false,
    "ExecuteTime": {
     "end_time": "2024-01-12T09:34:09.652642968Z",
     "start_time": "2024-01-12T09:34:09.124409064Z"
    }
   },
   "id": "385c75c5a55d95ce"
  },
  {
   "cell_type": "code",
   "execution_count": 156,
   "outputs": [
    {
     "data": {
      "text/plain": "-2.4767756624772455"
     },
     "execution_count": 156,
     "metadata": {},
     "output_type": "execute_result"
    }
   ],
   "source": [
    "w0 = model_small.intercept_[0]\n",
    "w0"
   ],
   "metadata": {
    "collapsed": false,
    "ExecuteTime": {
     "end_time": "2024-01-12T09:34:58.043612249Z",
     "start_time": "2024-01-12T09:34:57.363848805Z"
    }
   },
   "id": "3924f407ebfda16a"
  },
  {
   "cell_type": "code",
   "execution_count": 157,
   "outputs": [
    {
     "data": {
      "text/plain": "array([ 0.97 , -0.025, -0.949,  0.027, -0.036])"
     },
     "execution_count": 157,
     "metadata": {},
     "output_type": "execute_result"
    }
   ],
   "source": [
    "w = model_small.coef_[0]\n",
    "w.round(3)"
   ],
   "metadata": {
    "collapsed": false,
    "ExecuteTime": {
     "end_time": "2024-01-12T09:35:20.322306005Z",
     "start_time": "2024-01-12T09:35:19.598111068Z"
    }
   },
   "id": "5dbc4794337dfc4a"
  },
  {
   "cell_type": "code",
   "execution_count": 158,
   "outputs": [
    {
     "data": {
      "text/plain": "{'contract=month-to-month': 0.97,\n 'contract=one_year': -0.025,\n 'contract=two_year': -0.949,\n 'monthlycharges': 0.027,\n 'tenure': -0.036}"
     },
     "execution_count": 158,
     "metadata": {},
     "output_type": "execute_result"
    }
   ],
   "source": [
    "dict(zip(dv_small.get_feature_names_out(), w.round(3))) # our w"
   ],
   "metadata": {
    "collapsed": false,
    "ExecuteTime": {
     "end_time": "2024-01-12T09:36:24.032586060Z",
     "start_time": "2024-01-12T09:36:23.573738081Z"
    }
   },
   "id": "c681b23d0ad54475"
  },
  {
   "cell_type": "code",
   "execution_count": 166,
   "outputs": [
    {
     "data": {
      "text/plain": "-0.3300000000000001"
     },
     "execution_count": 166,
     "metadata": {},
     "output_type": "execute_result"
    }
   ],
   "source": [
    "-2.47 + 0.97 + 50 * 0.027 + 5 * (-0.036)"
   ],
   "metadata": {
    "collapsed": false,
    "ExecuteTime": {
     "end_time": "2024-01-12T09:47:20.400323540Z",
     "start_time": "2024-01-12T09:47:19.895058962Z"
    }
   },
   "id": "8f34ef31f91cebdb"
  },
  {
   "cell_type": "code",
   "execution_count": 167,
   "outputs": [
    {
     "data": {
      "text/plain": "0.41824062315816374"
     },
     "execution_count": 167,
     "metadata": {},
     "output_type": "execute_result"
    }
   ],
   "source": [
    "sigmoid(_) # _ stand for last output"
   ],
   "metadata": {
    "collapsed": false,
    "ExecuteTime": {
     "end_time": "2024-01-12T09:47:22.294542682Z",
     "start_time": "2024-01-12T09:47:21.622054992Z"
    }
   },
   "id": "ca061b10f95df080"
  },
  {
   "cell_type": "code",
   "execution_count": 168,
   "outputs": [
    {
     "data": {
      "text/plain": "0.41824062315816374"
     },
     "execution_count": 168,
     "metadata": {},
     "output_type": "execute_result"
    }
   ],
   "source": [
    "sigmoid(-2.47 + 0.97 + 50 * 0.027 + 5 * (-0.036))"
   ],
   "metadata": {
    "collapsed": false,
    "ExecuteTime": {
     "end_time": "2024-01-12T09:47:24.743978588Z",
     "start_time": "2024-01-12T09:47:24.469552358Z"
    }
   },
   "id": "6adbc5de57e58709"
  },
  {
   "cell_type": "code",
   "execution_count": 169,
   "outputs": [
    {
     "data": {
      "text/plain": "0.08399999999999966"
     },
     "execution_count": 169,
     "metadata": {},
     "output_type": "execute_result"
    }
   ],
   "source": [
    "-2.47 + 0.97 + 60 * 0.027 + 1 * (-0.036)"
   ],
   "metadata": {
    "collapsed": false,
    "ExecuteTime": {
     "end_time": "2024-01-12T09:48:24.715224026Z",
     "start_time": "2024-01-12T09:48:24.347987792Z"
    }
   },
   "id": "5a164991b61eb779"
  },
  {
   "cell_type": "code",
   "execution_count": 170,
   "outputs": [
    {
     "data": {
      "text/plain": "0.5209876607065322"
     },
     "execution_count": 170,
     "metadata": {},
     "output_type": "execute_result"
    }
   ],
   "source": [
    "sigmoid(_) # _ stand for last output\n"
   ],
   "metadata": {
    "collapsed": false,
    "ExecuteTime": {
     "end_time": "2024-01-12T09:48:35.101330486Z",
     "start_time": "2024-01-12T09:48:34.594702976Z"
    }
   },
   "id": "4b61b6fbdf39e10e"
  },
  {
   "cell_type": "code",
   "execution_count": 174,
   "outputs": [
    {
     "data": {
      "text/plain": "-3.473"
     },
     "execution_count": 174,
     "metadata": {},
     "output_type": "execute_result"
    }
   ],
   "source": [
    "# for 24 month:\n",
    "-2.47 + (-0.949) + 30 * 0.027 + 24 * (-0.036)"
   ],
   "metadata": {
    "collapsed": false,
    "ExecuteTime": {
     "end_time": "2024-01-12T09:50:58.418901946Z",
     "start_time": "2024-01-12T09:50:58.009888014Z"
    }
   },
   "id": "e86514d3d696354d"
  },
  {
   "cell_type": "code",
   "execution_count": 175,
   "outputs": [
    {
     "data": {
      "text/plain": "0.030090303318277657"
     },
     "execution_count": 175,
     "metadata": {},
     "output_type": "execute_result"
    }
   ],
   "source": [
    "sigmoid(_)"
   ],
   "metadata": {
    "collapsed": false,
    "ExecuteTime": {
     "end_time": "2024-01-12T09:51:11.236111919Z",
     "start_time": "2024-01-12T09:51:10.905962130Z"
    }
   },
   "id": "24a582fe135aa13"
  },
  {
   "cell_type": "markdown",
   "source": [
    "# 3.12 Using the model"
   ],
   "metadata": {
    "collapsed": false
   },
   "id": "6193cbec0d3b65e6"
  },
  {
   "cell_type": "code",
   "execution_count": 176,
   "outputs": [],
   "source": [
    "dicts_full_train = df_full_train[categorical + numerical].to_dict(orient='records')"
   ],
   "metadata": {
    "collapsed": false,
    "ExecuteTime": {
     "end_time": "2024-01-12T09:55:40.158011751Z",
     "start_time": "2024-01-12T09:55:39.650620518Z"
    }
   },
   "id": "28323b953638d84e"
  },
  {
   "cell_type": "markdown",
   "source": [
    "# 3.12 @ 1:36"
   ],
   "metadata": {
    "collapsed": false
   },
   "id": "8585499f1e9fc479"
  },
  {
   "cell_type": "code",
   "execution_count": null,
   "outputs": [],
   "source": [],
   "metadata": {
    "collapsed": false
   },
   "id": "47b29cd2db24006"
  }
 ],
 "metadata": {
  "kernelspec": {
   "display_name": "Python 3",
   "language": "python",
   "name": "python3"
  },
  "language_info": {
   "codemirror_mode": {
    "name": "ipython",
    "version": 2
   },
   "file_extension": ".py",
   "mimetype": "text/x-python",
   "name": "python",
   "nbconvert_exporter": "python",
   "pygments_lexer": "ipython2",
   "version": "2.7.6"
  }
 },
 "nbformat": 4,
 "nbformat_minor": 5
}
