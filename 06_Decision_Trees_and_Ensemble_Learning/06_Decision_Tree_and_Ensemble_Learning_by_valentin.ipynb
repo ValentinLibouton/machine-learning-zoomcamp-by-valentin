{
 "cells": [
  {
   "cell_type": "markdown",
   "source": [
    "# 6. Decision Tree and Ensemble Learning\n",
    "Exercice issu de ML Zoomcamp 6 [https://github.com/DataTalksClub/machine-learning-zoomcamp/tree/master/06-trees](https://github.com/DataTalksClub/machine-learning-zoomcamp/tree/master/06-trees)\n",
    "Reprise de son tutoriel avec certaines modifications et commentaires"
   ],
   "metadata": {
    "collapsed": false
   },
   "id": "bf2eb662733f4604"
  },
  {
   "cell_type": "markdown",
   "source": [
    "## 6.1 Credit risk scoring project\n",
    "* Dataset: https://github.com/gastonstat/CreditScoring"
   ],
   "metadata": {
    "collapsed": false
   },
   "id": "7774d089b408a2"
  },
  {
   "cell_type": "code",
   "outputs": [],
   "source": [
    "import pandas as pd\n",
    "import numpy as np\n",
    "\n",
    "import seaborn as sns\n",
    "from matplotlib import pyplot as plt\n",
    "%matplotlib inline"
   ],
   "metadata": {
    "collapsed": false,
    "ExecuteTime": {
     "end_time": "2024-01-21T13:03:20.375779089Z",
     "start_time": "2024-01-21T13:03:20.369744195Z"
    }
   },
   "id": "72cc7ce93e2a0cdf",
   "execution_count": 1
  },
  {
   "cell_type": "markdown",
   "source": [
    "## 6.2 Data cleaning and preparation"
   ],
   "metadata": {
    "collapsed": false
   },
   "id": "65a9f5cc1c431c59"
  },
  {
   "cell_type": "code",
   "outputs": [],
   "source": [
    "data_url = 'https://raw.githubusercontent.com/gastonstat/CreditScoring/master/CreditScoring.csv'"
   ],
   "metadata": {
    "collapsed": false,
    "ExecuteTime": {
     "end_time": "2024-01-21T13:03:20.379136195Z",
     "start_time": "2024-01-21T13:03:20.372696018Z"
    }
   },
   "id": "89e1b1d6898c8c42",
   "execution_count": 2
  },
  {
   "cell_type": "code",
   "outputs": [
    {
     "name": "stdout",
     "output_type": "stream",
     "text": [
      "Le fichier CreditScoring.csv existe déjà.\n"
     ]
    }
   ],
   "source": [
    "import os\n",
    "filename = 'CreditScoring.csv'\n",
    "if not os.path.exists(filename):\n",
    "    os.system(f'wget {data_url} -O {filename}')\n",
    "    print(f\"Le fichier {filename} a été téléchargé avec succès.\")\n",
    "else:\n",
    "    # Si le fichier existe déjà, imprimez un message\n",
    "    print(f\"Le fichier {filename} existe déjà.\")"
   ],
   "metadata": {
    "collapsed": false,
    "ExecuteTime": {
     "end_time": "2024-01-21T13:03:20.382583781Z",
     "start_time": "2024-01-21T13:03:20.373695458Z"
    }
   },
   "id": "d9288d4a1f862696",
   "execution_count": 3
  },
  {
   "cell_type": "code",
   "outputs": [
    {
     "name": "stdout",
     "output_type": "stream",
     "text": [
      "/bin/bash: warning: setlocale: LC_ALL: cannot change locale (en_US.UTF-8)\r\n",
      "\"Status\",\"Seniority\",\"Home\",\"Time\",\"Age\",\"Marital\",\"Records\",\"Job\",\"Expenses\",\"Income\",\"Assets\",\"Debt\",\"Amount\",\"Price\"\r\n",
      "1,9,1,60,30,2,1,3,73,129,0,0,800,846\r\n",
      "1,17,1,60,58,3,1,1,48,131,0,0,1000,1658\r\n",
      "2,10,2,36,46,2,2,3,90,200,3000,0,2000,2985\r\n",
      "1,0,1,60,24,1,1,1,63,182,2500,0,900,1325\r\n",
      "1,0,1,36,26,1,1,1,46,107,0,0,310,910\r\n",
      "1,1,2,60,36,2,1,1,75,214,3500,0,650,1645\r\n",
      "1,29,2,60,44,2,1,1,75,125,10000,0,1600,1800\r\n",
      "1,9,5,12,27,1,1,1,35,80,0,0,200,1093\r\n",
      "1,0,2,60,32,2,1,3,90,107,15000,0,1200,1957\r\n"
     ]
    }
   ],
   "source": [
    "!head CreditScoring.csv"
   ],
   "metadata": {
    "collapsed": false,
    "ExecuteTime": {
     "end_time": "2024-01-21T13:03:20.590632030Z",
     "start_time": "2024-01-21T13:03:20.374869058Z"
    }
   },
   "id": "ce31613a9a8630ec",
   "execution_count": 4
  },
  {
   "cell_type": "code",
   "outputs": [
    {
     "data": {
      "text/plain": "   Status  Seniority  Home  Time  Age  Marital  Records  Job  Expenses  \\\n0       1          9     1    60   30        2        1    3        73   \n1       1         17     1    60   58        3        1    1        48   \n2       2         10     2    36   46        2        2    3        90   \n3       1          0     1    60   24        1        1    1        63   \n4       1          0     1    36   26        1        1    1        46   \n\n   Income  Assets  Debt  Amount  Price  \n0     129       0     0     800    846  \n1     131       0     0    1000   1658  \n2     200    3000     0    2000   2985  \n3     182    2500     0     900   1325  \n4     107       0     0     310    910  ",
      "text/html": "<div>\n<style scoped>\n    .dataframe tbody tr th:only-of-type {\n        vertical-align: middle;\n    }\n\n    .dataframe tbody tr th {\n        vertical-align: top;\n    }\n\n    .dataframe thead th {\n        text-align: right;\n    }\n</style>\n<table border=\"1\" class=\"dataframe\">\n  <thead>\n    <tr style=\"text-align: right;\">\n      <th></th>\n      <th>Status</th>\n      <th>Seniority</th>\n      <th>Home</th>\n      <th>Time</th>\n      <th>Age</th>\n      <th>Marital</th>\n      <th>Records</th>\n      <th>Job</th>\n      <th>Expenses</th>\n      <th>Income</th>\n      <th>Assets</th>\n      <th>Debt</th>\n      <th>Amount</th>\n      <th>Price</th>\n    </tr>\n  </thead>\n  <tbody>\n    <tr>\n      <th>0</th>\n      <td>1</td>\n      <td>9</td>\n      <td>1</td>\n      <td>60</td>\n      <td>30</td>\n      <td>2</td>\n      <td>1</td>\n      <td>3</td>\n      <td>73</td>\n      <td>129</td>\n      <td>0</td>\n      <td>0</td>\n      <td>800</td>\n      <td>846</td>\n    </tr>\n    <tr>\n      <th>1</th>\n      <td>1</td>\n      <td>17</td>\n      <td>1</td>\n      <td>60</td>\n      <td>58</td>\n      <td>3</td>\n      <td>1</td>\n      <td>1</td>\n      <td>48</td>\n      <td>131</td>\n      <td>0</td>\n      <td>0</td>\n      <td>1000</td>\n      <td>1658</td>\n    </tr>\n    <tr>\n      <th>2</th>\n      <td>2</td>\n      <td>10</td>\n      <td>2</td>\n      <td>36</td>\n      <td>46</td>\n      <td>2</td>\n      <td>2</td>\n      <td>3</td>\n      <td>90</td>\n      <td>200</td>\n      <td>3000</td>\n      <td>0</td>\n      <td>2000</td>\n      <td>2985</td>\n    </tr>\n    <tr>\n      <th>3</th>\n      <td>1</td>\n      <td>0</td>\n      <td>1</td>\n      <td>60</td>\n      <td>24</td>\n      <td>1</td>\n      <td>1</td>\n      <td>1</td>\n      <td>63</td>\n      <td>182</td>\n      <td>2500</td>\n      <td>0</td>\n      <td>900</td>\n      <td>1325</td>\n    </tr>\n    <tr>\n      <th>4</th>\n      <td>1</td>\n      <td>0</td>\n      <td>1</td>\n      <td>36</td>\n      <td>26</td>\n      <td>1</td>\n      <td>1</td>\n      <td>1</td>\n      <td>46</td>\n      <td>107</td>\n      <td>0</td>\n      <td>0</td>\n      <td>310</td>\n      <td>910</td>\n    </tr>\n  </tbody>\n</table>\n</div>"
     },
     "execution_count": 5,
     "metadata": {},
     "output_type": "execute_result"
    }
   ],
   "source": [
    "df = pd.read_csv(filename)\n",
    "df.head()"
   ],
   "metadata": {
    "collapsed": false,
    "ExecuteTime": {
     "end_time": "2024-01-21T13:03:20.640532713Z",
     "start_time": "2024-01-21T13:03:20.592740542Z"
    }
   },
   "id": "8b120bf182732507",
   "execution_count": 5
  },
  {
   "cell_type": "markdown",
   "source": [
    "On remarque que le nom des colonnes du dataset contient des majuscules "
   ],
   "metadata": {
    "collapsed": false
   },
   "id": "6fc80e9b32d3f1b4"
  },
  {
   "cell_type": "code",
   "outputs": [],
   "source": [
    "def clean_headers(df:pd.DataFrame)->pd.DataFrame:\n",
    "    df.columns = df.columns.str.lower().str.replace(' ','_')\n",
    "    return df\n",
    "\n",
    "def clean_rows(df:pd.DataFrame)->pd.DataFrame:\n",
    "    for column in df.columns:\n",
    "        if pd.api.types.is_string_dtype(df[column]):\n",
    "            df[column] = df[column].str.lower().str.replace(' ', '_')\n",
    "    return df\n",
    "\n",
    "def clean_headers_rows(df:pd.DataFrame)->pd.DataFrame:\n",
    "    df = clean_headers(df)\n",
    "    df = clean_rows(df)\n",
    "    return df"
   ],
   "metadata": {
    "collapsed": false,
    "ExecuteTime": {
     "end_time": "2024-01-21T13:03:20.652700393Z",
     "start_time": "2024-01-21T13:03:20.618900443Z"
    }
   },
   "id": "f54f2b6c0c47f4d0",
   "execution_count": 6
  },
  {
   "cell_type": "code",
   "outputs": [
    {
     "data": {
      "text/plain": "   status  seniority  home  time  age  marital  records  job  expenses  \\\n0       1          9     1    60   30        2        1    3        73   \n1       1         17     1    60   58        3        1    1        48   \n2       2         10     2    36   46        2        2    3        90   \n3       1          0     1    60   24        1        1    1        63   \n4       1          0     1    36   26        1        1    1        46   \n\n   income  assets  debt  amount  price  \n0     129       0     0     800    846  \n1     131       0     0    1000   1658  \n2     200    3000     0    2000   2985  \n3     182    2500     0     900   1325  \n4     107       0     0     310    910  ",
      "text/html": "<div>\n<style scoped>\n    .dataframe tbody tr th:only-of-type {\n        vertical-align: middle;\n    }\n\n    .dataframe tbody tr th {\n        vertical-align: top;\n    }\n\n    .dataframe thead th {\n        text-align: right;\n    }\n</style>\n<table border=\"1\" class=\"dataframe\">\n  <thead>\n    <tr style=\"text-align: right;\">\n      <th></th>\n      <th>status</th>\n      <th>seniority</th>\n      <th>home</th>\n      <th>time</th>\n      <th>age</th>\n      <th>marital</th>\n      <th>records</th>\n      <th>job</th>\n      <th>expenses</th>\n      <th>income</th>\n      <th>assets</th>\n      <th>debt</th>\n      <th>amount</th>\n      <th>price</th>\n    </tr>\n  </thead>\n  <tbody>\n    <tr>\n      <th>0</th>\n      <td>1</td>\n      <td>9</td>\n      <td>1</td>\n      <td>60</td>\n      <td>30</td>\n      <td>2</td>\n      <td>1</td>\n      <td>3</td>\n      <td>73</td>\n      <td>129</td>\n      <td>0</td>\n      <td>0</td>\n      <td>800</td>\n      <td>846</td>\n    </tr>\n    <tr>\n      <th>1</th>\n      <td>1</td>\n      <td>17</td>\n      <td>1</td>\n      <td>60</td>\n      <td>58</td>\n      <td>3</td>\n      <td>1</td>\n      <td>1</td>\n      <td>48</td>\n      <td>131</td>\n      <td>0</td>\n      <td>0</td>\n      <td>1000</td>\n      <td>1658</td>\n    </tr>\n    <tr>\n      <th>2</th>\n      <td>2</td>\n      <td>10</td>\n      <td>2</td>\n      <td>36</td>\n      <td>46</td>\n      <td>2</td>\n      <td>2</td>\n      <td>3</td>\n      <td>90</td>\n      <td>200</td>\n      <td>3000</td>\n      <td>0</td>\n      <td>2000</td>\n      <td>2985</td>\n    </tr>\n    <tr>\n      <th>3</th>\n      <td>1</td>\n      <td>0</td>\n      <td>1</td>\n      <td>60</td>\n      <td>24</td>\n      <td>1</td>\n      <td>1</td>\n      <td>1</td>\n      <td>63</td>\n      <td>182</td>\n      <td>2500</td>\n      <td>0</td>\n      <td>900</td>\n      <td>1325</td>\n    </tr>\n    <tr>\n      <th>4</th>\n      <td>1</td>\n      <td>0</td>\n      <td>1</td>\n      <td>36</td>\n      <td>26</td>\n      <td>1</td>\n      <td>1</td>\n      <td>1</td>\n      <td>46</td>\n      <td>107</td>\n      <td>0</td>\n      <td>0</td>\n      <td>310</td>\n      <td>910</td>\n    </tr>\n  </tbody>\n</table>\n</div>"
     },
     "execution_count": 7,
     "metadata": {},
     "output_type": "execute_result"
    }
   ],
   "source": [
    "df = clean_headers_rows(df)\n",
    "df.head()"
   ],
   "metadata": {
    "collapsed": false,
    "ExecuteTime": {
     "end_time": "2024-01-21T13:03:20.690587412Z",
     "start_time": "2024-01-21T13:03:20.625904777Z"
    }
   },
   "id": "e623bc4ab936486e",
   "execution_count": 7
  },
  {
   "cell_type": "markdown",
   "source": [
    "Il nous manque des informations pour comprendre le dataset, elles sont disponibles sur le github d'où provient de fichier csv. Les voici sous forme de dictionnaire:\n",
    "status = {0:\"unknow\", 1:\"good\", 2:\"bad\"}\n",
    "home = {0:\"unknow\", 1:\"rent\", 2:\"owner\", 3:\"priv\", 4:\"ignore\", 5:\"parents\", 6:\"other\"}\n",
    "marital = {0:\"unknow\", 1:\"single\", 2:\"married\", 3:\"widow\", 4:\"separated\", 5:\"divorced\"}\n",
    "records = {0:\"unknow\", 1:\"no_rec\", 2:\"yes_rec\"}\n",
    "job = {0:\"unknow\", 1:\"fixed\", 2:\"partime\", 3:\"freelance\", 4:\"other\"}\n",
    "\n",
    "On va créer un dataframe lisible pour mieux comprendre les données:"
   ],
   "metadata": {
    "collapsed": false
   },
   "id": "26712576dd59b86c"
  },
  {
   "cell_type": "code",
   "outputs": [],
   "source": [
    "status = {0:\"unknow\", 1:\"good\", 2:\"bad\"}\n",
    "home = {0:\"unknow\", 1:\"rent\", 2:\"owner\", 3:\"priv\", 4:\"ignore\", 5:\"parents\", 6:\"other\"}\n",
    "marital = {0:\"unknow\", 1:\"single\", 2:\"married\", 3:\"widow\", 4:\"separated\", 5:\"divorced\"}\n",
    "records = {0:\"unknow\", 1:\"no_rec\", 2:\"yes_rec\"}\n",
    "job = {0:\"unknow\", 1:\"fixed\", 2:\"partime\", 3:\"freelance\", 4:\"other\"}\n",
    "\n",
    "df['status'] = df.status.map(status)\n",
    "df['home'] = df.home.map(home)\n",
    "df['marital'] = df.marital.map(marital)\n",
    "df['records'] = df.records.map(records)\n",
    "df['job'] = df.job.map(job)\n"
   ],
   "metadata": {
    "collapsed": false,
    "ExecuteTime": {
     "end_time": "2024-01-21T13:03:20.693334194Z",
     "start_time": "2024-01-21T13:03:20.646875177Z"
    }
   },
   "id": "3d2491aa32684201",
   "execution_count": 8
  },
  {
   "cell_type": "code",
   "outputs": [
    {
     "data": {
      "text/plain": "  status  seniority   home  time  age  marital  records        job  expenses  \\\n0   good          9   rent    60   30  married   no_rec  freelance        73   \n1   good         17   rent    60   58    widow   no_rec      fixed        48   \n2    bad         10  owner    36   46  married  yes_rec  freelance        90   \n3   good          0   rent    60   24   single   no_rec      fixed        63   \n4   good          0   rent    36   26   single   no_rec      fixed        46   \n\n   income  assets  debt  amount  price  \n0     129       0     0     800    846  \n1     131       0     0    1000   1658  \n2     200    3000     0    2000   2985  \n3     182    2500     0     900   1325  \n4     107       0     0     310    910  ",
      "text/html": "<div>\n<style scoped>\n    .dataframe tbody tr th:only-of-type {\n        vertical-align: middle;\n    }\n\n    .dataframe tbody tr th {\n        vertical-align: top;\n    }\n\n    .dataframe thead th {\n        text-align: right;\n    }\n</style>\n<table border=\"1\" class=\"dataframe\">\n  <thead>\n    <tr style=\"text-align: right;\">\n      <th></th>\n      <th>status</th>\n      <th>seniority</th>\n      <th>home</th>\n      <th>time</th>\n      <th>age</th>\n      <th>marital</th>\n      <th>records</th>\n      <th>job</th>\n      <th>expenses</th>\n      <th>income</th>\n      <th>assets</th>\n      <th>debt</th>\n      <th>amount</th>\n      <th>price</th>\n    </tr>\n  </thead>\n  <tbody>\n    <tr>\n      <th>0</th>\n      <td>good</td>\n      <td>9</td>\n      <td>rent</td>\n      <td>60</td>\n      <td>30</td>\n      <td>married</td>\n      <td>no_rec</td>\n      <td>freelance</td>\n      <td>73</td>\n      <td>129</td>\n      <td>0</td>\n      <td>0</td>\n      <td>800</td>\n      <td>846</td>\n    </tr>\n    <tr>\n      <th>1</th>\n      <td>good</td>\n      <td>17</td>\n      <td>rent</td>\n      <td>60</td>\n      <td>58</td>\n      <td>widow</td>\n      <td>no_rec</td>\n      <td>fixed</td>\n      <td>48</td>\n      <td>131</td>\n      <td>0</td>\n      <td>0</td>\n      <td>1000</td>\n      <td>1658</td>\n    </tr>\n    <tr>\n      <th>2</th>\n      <td>bad</td>\n      <td>10</td>\n      <td>owner</td>\n      <td>36</td>\n      <td>46</td>\n      <td>married</td>\n      <td>yes_rec</td>\n      <td>freelance</td>\n      <td>90</td>\n      <td>200</td>\n      <td>3000</td>\n      <td>0</td>\n      <td>2000</td>\n      <td>2985</td>\n    </tr>\n    <tr>\n      <th>3</th>\n      <td>good</td>\n      <td>0</td>\n      <td>rent</td>\n      <td>60</td>\n      <td>24</td>\n      <td>single</td>\n      <td>no_rec</td>\n      <td>fixed</td>\n      <td>63</td>\n      <td>182</td>\n      <td>2500</td>\n      <td>0</td>\n      <td>900</td>\n      <td>1325</td>\n    </tr>\n    <tr>\n      <th>4</th>\n      <td>good</td>\n      <td>0</td>\n      <td>rent</td>\n      <td>36</td>\n      <td>26</td>\n      <td>single</td>\n      <td>no_rec</td>\n      <td>fixed</td>\n      <td>46</td>\n      <td>107</td>\n      <td>0</td>\n      <td>0</td>\n      <td>310</td>\n      <td>910</td>\n    </tr>\n  </tbody>\n</table>\n</div>"
     },
     "execution_count": 9,
     "metadata": {},
     "output_type": "execute_result"
    }
   ],
   "source": [
    "df.head()"
   ],
   "metadata": {
    "collapsed": false,
    "ExecuteTime": {
     "end_time": "2024-01-21T13:03:20.799101528Z",
     "start_time": "2024-01-21T13:03:20.664362633Z"
    }
   },
   "id": "4549edb2881d479c",
   "execution_count": 9
  },
  {
   "cell_type": "markdown",
   "source": [
    "Dans les sources, il est indiqué que les valeurs manquantes sont remplacées par le nombre 99999999. Nous devons donc remplacer par np.nan afin de ne pas fausser les résultats"
   ],
   "metadata": {
    "collapsed": false
   },
   "id": "9d27c010b811cda3"
  },
  {
   "cell_type": "code",
   "outputs": [
    {
     "data": {
      "text/plain": "       seniority    time     age  expenses      income      assets  \\\ncount     4455.0  4455.0  4455.0    4455.0      4455.0      4455.0   \nmean         8.0    46.0    37.0      56.0    763317.0   1060341.0   \nstd          8.0    15.0    11.0      20.0   8703625.0  10217569.0   \nmin          0.0     6.0    18.0      35.0         0.0         0.0   \n25%          2.0    36.0    28.0      35.0        80.0         0.0   \n50%          5.0    48.0    36.0      51.0       120.0      3500.0   \n75%         12.0    60.0    45.0      72.0       166.0      6000.0   \nmax         48.0    72.0    68.0     180.0  99999999.0  99999999.0   \n\n             debt  amount    price  \ncount      4455.0  4455.0   4455.0  \nmean     404382.0  1039.0   1463.0  \nstd     6344253.0   475.0    628.0  \nmin           0.0   100.0    105.0  \n25%           0.0   700.0   1118.0  \n50%           0.0  1000.0   1400.0  \n75%           0.0  1300.0   1692.0  \nmax    99999999.0  5000.0  11140.0  ",
      "text/html": "<div>\n<style scoped>\n    .dataframe tbody tr th:only-of-type {\n        vertical-align: middle;\n    }\n\n    .dataframe tbody tr th {\n        vertical-align: top;\n    }\n\n    .dataframe thead th {\n        text-align: right;\n    }\n</style>\n<table border=\"1\" class=\"dataframe\">\n  <thead>\n    <tr style=\"text-align: right;\">\n      <th></th>\n      <th>seniority</th>\n      <th>time</th>\n      <th>age</th>\n      <th>expenses</th>\n      <th>income</th>\n      <th>assets</th>\n      <th>debt</th>\n      <th>amount</th>\n      <th>price</th>\n    </tr>\n  </thead>\n  <tbody>\n    <tr>\n      <th>count</th>\n      <td>4455.0</td>\n      <td>4455.0</td>\n      <td>4455.0</td>\n      <td>4455.0</td>\n      <td>4455.0</td>\n      <td>4455.0</td>\n      <td>4455.0</td>\n      <td>4455.0</td>\n      <td>4455.0</td>\n    </tr>\n    <tr>\n      <th>mean</th>\n      <td>8.0</td>\n      <td>46.0</td>\n      <td>37.0</td>\n      <td>56.0</td>\n      <td>763317.0</td>\n      <td>1060341.0</td>\n      <td>404382.0</td>\n      <td>1039.0</td>\n      <td>1463.0</td>\n    </tr>\n    <tr>\n      <th>std</th>\n      <td>8.0</td>\n      <td>15.0</td>\n      <td>11.0</td>\n      <td>20.0</td>\n      <td>8703625.0</td>\n      <td>10217569.0</td>\n      <td>6344253.0</td>\n      <td>475.0</td>\n      <td>628.0</td>\n    </tr>\n    <tr>\n      <th>min</th>\n      <td>0.0</td>\n      <td>6.0</td>\n      <td>18.0</td>\n      <td>35.0</td>\n      <td>0.0</td>\n      <td>0.0</td>\n      <td>0.0</td>\n      <td>100.0</td>\n      <td>105.0</td>\n    </tr>\n    <tr>\n      <th>25%</th>\n      <td>2.0</td>\n      <td>36.0</td>\n      <td>28.0</td>\n      <td>35.0</td>\n      <td>80.0</td>\n      <td>0.0</td>\n      <td>0.0</td>\n      <td>700.0</td>\n      <td>1118.0</td>\n    </tr>\n    <tr>\n      <th>50%</th>\n      <td>5.0</td>\n      <td>48.0</td>\n      <td>36.0</td>\n      <td>51.0</td>\n      <td>120.0</td>\n      <td>3500.0</td>\n      <td>0.0</td>\n      <td>1000.0</td>\n      <td>1400.0</td>\n    </tr>\n    <tr>\n      <th>75%</th>\n      <td>12.0</td>\n      <td>60.0</td>\n      <td>45.0</td>\n      <td>72.0</td>\n      <td>166.0</td>\n      <td>6000.0</td>\n      <td>0.0</td>\n      <td>1300.0</td>\n      <td>1692.0</td>\n    </tr>\n    <tr>\n      <th>max</th>\n      <td>48.0</td>\n      <td>72.0</td>\n      <td>68.0</td>\n      <td>180.0</td>\n      <td>99999999.0</td>\n      <td>99999999.0</td>\n      <td>99999999.0</td>\n      <td>5000.0</td>\n      <td>11140.0</td>\n    </tr>\n  </tbody>\n</table>\n</div>"
     },
     "execution_count": 10,
     "metadata": {},
     "output_type": "execute_result"
    }
   ],
   "source": [
    "df.describe().round()"
   ],
   "metadata": {
    "collapsed": false,
    "ExecuteTime": {
     "end_time": "2024-01-21T13:03:20.801667050Z",
     "start_time": "2024-01-21T13:03:20.714362581Z"
    }
   },
   "id": "3be61a1dffcb9a1f",
   "execution_count": 10
  },
  {
   "cell_type": "markdown",
   "source": [
    "On constate avec la commande ```df.describe().round()``` en valeur **max** nous avons income, assets et debt qui contiennent le nombre 99999999"
   ],
   "metadata": {
    "collapsed": false
   },
   "id": "bc14aa3dfa11ccae"
  },
  {
   "cell_type": "code",
   "outputs": [],
   "source": [
    "for c in ['income', 'assets', 'debt']:\n",
    "    df[c] = df[c].replace(to_replace=99999999, value=np.nan)"
   ],
   "metadata": {
    "collapsed": false,
    "ExecuteTime": {
     "end_time": "2024-01-21T13:03:20.808382955Z",
     "start_time": "2024-01-21T13:03:20.715617446Z"
    }
   },
   "id": "dd855a5ab969db28",
   "execution_count": 11
  },
  {
   "cell_type": "code",
   "outputs": [
    {
     "data": {
      "text/plain": "       seniority    time     age  expenses  income    assets     debt  amount  \\\ncount     4455.0  4455.0  4455.0    4455.0  4421.0    4408.0   4437.0  4455.0   \nmean         8.0    46.0    37.0      56.0   131.0    5403.0    343.0  1039.0   \nstd          8.0    15.0    11.0      20.0    86.0   11573.0   1246.0   475.0   \nmin          0.0     6.0    18.0      35.0     0.0       0.0      0.0   100.0   \n25%          2.0    36.0    28.0      35.0    80.0       0.0      0.0   700.0   \n50%          5.0    48.0    36.0      51.0   120.0    3000.0      0.0  1000.0   \n75%         12.0    60.0    45.0      72.0   165.0    6000.0      0.0  1300.0   \nmax         48.0    72.0    68.0     180.0   959.0  300000.0  30000.0  5000.0   \n\n         price  \ncount   4455.0  \nmean    1463.0  \nstd      628.0  \nmin      105.0  \n25%     1118.0  \n50%     1400.0  \n75%     1692.0  \nmax    11140.0  ",
      "text/html": "<div>\n<style scoped>\n    .dataframe tbody tr th:only-of-type {\n        vertical-align: middle;\n    }\n\n    .dataframe tbody tr th {\n        vertical-align: top;\n    }\n\n    .dataframe thead th {\n        text-align: right;\n    }\n</style>\n<table border=\"1\" class=\"dataframe\">\n  <thead>\n    <tr style=\"text-align: right;\">\n      <th></th>\n      <th>seniority</th>\n      <th>time</th>\n      <th>age</th>\n      <th>expenses</th>\n      <th>income</th>\n      <th>assets</th>\n      <th>debt</th>\n      <th>amount</th>\n      <th>price</th>\n    </tr>\n  </thead>\n  <tbody>\n    <tr>\n      <th>count</th>\n      <td>4455.0</td>\n      <td>4455.0</td>\n      <td>4455.0</td>\n      <td>4455.0</td>\n      <td>4421.0</td>\n      <td>4408.0</td>\n      <td>4437.0</td>\n      <td>4455.0</td>\n      <td>4455.0</td>\n    </tr>\n    <tr>\n      <th>mean</th>\n      <td>8.0</td>\n      <td>46.0</td>\n      <td>37.0</td>\n      <td>56.0</td>\n      <td>131.0</td>\n      <td>5403.0</td>\n      <td>343.0</td>\n      <td>1039.0</td>\n      <td>1463.0</td>\n    </tr>\n    <tr>\n      <th>std</th>\n      <td>8.0</td>\n      <td>15.0</td>\n      <td>11.0</td>\n      <td>20.0</td>\n      <td>86.0</td>\n      <td>11573.0</td>\n      <td>1246.0</td>\n      <td>475.0</td>\n      <td>628.0</td>\n    </tr>\n    <tr>\n      <th>min</th>\n      <td>0.0</td>\n      <td>6.0</td>\n      <td>18.0</td>\n      <td>35.0</td>\n      <td>0.0</td>\n      <td>0.0</td>\n      <td>0.0</td>\n      <td>100.0</td>\n      <td>105.0</td>\n    </tr>\n    <tr>\n      <th>25%</th>\n      <td>2.0</td>\n      <td>36.0</td>\n      <td>28.0</td>\n      <td>35.0</td>\n      <td>80.0</td>\n      <td>0.0</td>\n      <td>0.0</td>\n      <td>700.0</td>\n      <td>1118.0</td>\n    </tr>\n    <tr>\n      <th>50%</th>\n      <td>5.0</td>\n      <td>48.0</td>\n      <td>36.0</td>\n      <td>51.0</td>\n      <td>120.0</td>\n      <td>3000.0</td>\n      <td>0.0</td>\n      <td>1000.0</td>\n      <td>1400.0</td>\n    </tr>\n    <tr>\n      <th>75%</th>\n      <td>12.0</td>\n      <td>60.0</td>\n      <td>45.0</td>\n      <td>72.0</td>\n      <td>165.0</td>\n      <td>6000.0</td>\n      <td>0.0</td>\n      <td>1300.0</td>\n      <td>1692.0</td>\n    </tr>\n    <tr>\n      <th>max</th>\n      <td>48.0</td>\n      <td>72.0</td>\n      <td>68.0</td>\n      <td>180.0</td>\n      <td>959.0</td>\n      <td>300000.0</td>\n      <td>30000.0</td>\n      <td>5000.0</td>\n      <td>11140.0</td>\n    </tr>\n  </tbody>\n</table>\n</div>"
     },
     "execution_count": 12,
     "metadata": {},
     "output_type": "execute_result"
    }
   ],
   "source": [
    "df.describe().round()"
   ],
   "metadata": {
    "collapsed": false,
    "ExecuteTime": {
     "end_time": "2024-01-21T13:03:20.821389468Z",
     "start_time": "2024-01-21T13:03:20.716736995Z"
    }
   },
   "id": "2766b6ee3ba5588f",
   "execution_count": 12
  },
  {
   "cell_type": "code",
   "outputs": [
    {
     "data": {
      "text/plain": "status\ngood      3200\nbad       1254\nunknow       1\nName: count, dtype: int64"
     },
     "execution_count": 13,
     "metadata": {},
     "output_type": "execute_result"
    }
   ],
   "source": [
    "df.status.value_counts()"
   ],
   "metadata": {
    "collapsed": false,
    "ExecuteTime": {
     "end_time": "2024-01-21T13:03:20.823659959Z",
     "start_time": "2024-01-21T13:03:20.725800018Z"
    }
   },
   "id": "5c7f5d3b636eaaa6",
   "execution_count": 13
  },
  {
   "cell_type": "code",
   "outputs": [],
   "source": [
    "df = df[df.status != 'unknow'].reset_index(drop=True)"
   ],
   "metadata": {
    "collapsed": false,
    "ExecuteTime": {
     "end_time": "2024-01-21T13:03:20.864238118Z",
     "start_time": "2024-01-21T13:03:20.732420655Z"
    }
   },
   "id": "87af4c0b0387a2a2",
   "execution_count": 14
  },
  {
   "cell_type": "code",
   "outputs": [],
   "source": [
    "from sklearn.model_selection import train_test_split\n",
    "df_full_train, df_test = train_test_split(df, test_size=0.2, random_state=11)\n",
    "df_train, df_val = train_test_split(df_full_train, test_size=0.25, random_state=11)"
   ],
   "metadata": {
    "collapsed": false,
    "ExecuteTime": {
     "end_time": "2024-01-21T13:03:21.049810832Z",
     "start_time": "2024-01-21T13:03:20.738306250Z"
    }
   },
   "id": "e7aee908c4bebf86",
   "execution_count": 15
  },
  {
   "cell_type": "code",
   "outputs": [],
   "source": [
    "df_train = df_train.reset_index(drop=True)\n",
    "df_val = df_val.reset_index(drop=True)\n",
    "df_test = df_test.reset_index(drop=True)"
   ],
   "metadata": {
    "collapsed": false,
    "ExecuteTime": {
     "end_time": "2024-01-21T13:03:21.085999475Z",
     "start_time": "2024-01-21T13:03:20.902073410Z"
    }
   },
   "id": "237fdfef2a3d44f0",
   "execution_count": 16
  },
  {
   "cell_type": "code",
   "outputs": [],
   "source": [
    "y_train = (df_train.status == 'bad').astype('int').values\n",
    "y_val = (df_val.status == 'bad').astype('int').values\n",
    "y_test = (df_test.status == 'bad').astype('int').values"
   ],
   "metadata": {
    "collapsed": false,
    "ExecuteTime": {
     "end_time": "2024-01-21T13:03:21.087806886Z",
     "start_time": "2024-01-21T13:03:20.944586062Z"
    }
   },
   "id": "34e3692ac029e623",
   "execution_count": 17
  },
  {
   "cell_type": "code",
   "outputs": [],
   "source": [
    "df_train.drop('status', axis=1, inplace=True)\n",
    "df_val.drop('status', axis=1, inplace=True)\n",
    "df_test.drop('status', axis=1, inplace=True)"
   ],
   "metadata": {
    "collapsed": false,
    "ExecuteTime": {
     "end_time": "2024-01-21T13:03:21.089104756Z",
     "start_time": "2024-01-21T13:03:20.945659835Z"
    }
   },
   "id": "abc96812b5097804",
   "execution_count": 18
  },
  {
   "cell_type": "code",
   "outputs": [
    {
     "data": {
      "text/plain": "      seniority     home  time  age  marital  records        job  expenses  \\\n0            10    owner    36   36  married   no_rec  freelance        75   \n1             6  parents    48   32   single  yes_rec      fixed        35   \n2             1  parents    48   40  married   no_rec      fixed        75   \n3             1  parents    48   23   single   no_rec    partime        35   \n4             5    owner    36   46  married   no_rec  freelance        60   \n...         ...      ...   ...  ...      ...      ...        ...       ...   \n2667         18     priv    36   45  married   no_rec      fixed        45   \n2668          7     priv    60   29  married   no_rec      fixed        60   \n2669          1  parents    24   19   single   no_rec      fixed        35   \n2670         15    owner    48   43  married   no_rec  freelance        60   \n2671         12    owner    48   27  married  yes_rec      fixed        45   \n\n      income   assets    debt  amount  price  \n0        0.0  10000.0     0.0    1000   1400  \n1       85.0      0.0     0.0    1100   1330  \n2      121.0      0.0     0.0    1320   1600  \n3       72.0      0.0     0.0    1078   1079  \n4      100.0   4000.0     0.0    1100   1897  \n...      ...      ...     ...     ...    ...  \n2667   220.0  20000.0     0.0     800   1600  \n2668    51.0   3500.0   500.0    1000   1290  \n2669    28.0      0.0     0.0     400    600  \n2670   100.0  18000.0     0.0    2500   2976  \n2671   110.0   5000.0  1300.0     450   1636  \n\n[2672 rows x 13 columns]",
      "text/html": "<div>\n<style scoped>\n    .dataframe tbody tr th:only-of-type {\n        vertical-align: middle;\n    }\n\n    .dataframe tbody tr th {\n        vertical-align: top;\n    }\n\n    .dataframe thead th {\n        text-align: right;\n    }\n</style>\n<table border=\"1\" class=\"dataframe\">\n  <thead>\n    <tr style=\"text-align: right;\">\n      <th></th>\n      <th>seniority</th>\n      <th>home</th>\n      <th>time</th>\n      <th>age</th>\n      <th>marital</th>\n      <th>records</th>\n      <th>job</th>\n      <th>expenses</th>\n      <th>income</th>\n      <th>assets</th>\n      <th>debt</th>\n      <th>amount</th>\n      <th>price</th>\n    </tr>\n  </thead>\n  <tbody>\n    <tr>\n      <th>0</th>\n      <td>10</td>\n      <td>owner</td>\n      <td>36</td>\n      <td>36</td>\n      <td>married</td>\n      <td>no_rec</td>\n      <td>freelance</td>\n      <td>75</td>\n      <td>0.0</td>\n      <td>10000.0</td>\n      <td>0.0</td>\n      <td>1000</td>\n      <td>1400</td>\n    </tr>\n    <tr>\n      <th>1</th>\n      <td>6</td>\n      <td>parents</td>\n      <td>48</td>\n      <td>32</td>\n      <td>single</td>\n      <td>yes_rec</td>\n      <td>fixed</td>\n      <td>35</td>\n      <td>85.0</td>\n      <td>0.0</td>\n      <td>0.0</td>\n      <td>1100</td>\n      <td>1330</td>\n    </tr>\n    <tr>\n      <th>2</th>\n      <td>1</td>\n      <td>parents</td>\n      <td>48</td>\n      <td>40</td>\n      <td>married</td>\n      <td>no_rec</td>\n      <td>fixed</td>\n      <td>75</td>\n      <td>121.0</td>\n      <td>0.0</td>\n      <td>0.0</td>\n      <td>1320</td>\n      <td>1600</td>\n    </tr>\n    <tr>\n      <th>3</th>\n      <td>1</td>\n      <td>parents</td>\n      <td>48</td>\n      <td>23</td>\n      <td>single</td>\n      <td>no_rec</td>\n      <td>partime</td>\n      <td>35</td>\n      <td>72.0</td>\n      <td>0.0</td>\n      <td>0.0</td>\n      <td>1078</td>\n      <td>1079</td>\n    </tr>\n    <tr>\n      <th>4</th>\n      <td>5</td>\n      <td>owner</td>\n      <td>36</td>\n      <td>46</td>\n      <td>married</td>\n      <td>no_rec</td>\n      <td>freelance</td>\n      <td>60</td>\n      <td>100.0</td>\n      <td>4000.0</td>\n      <td>0.0</td>\n      <td>1100</td>\n      <td>1897</td>\n    </tr>\n    <tr>\n      <th>...</th>\n      <td>...</td>\n      <td>...</td>\n      <td>...</td>\n      <td>...</td>\n      <td>...</td>\n      <td>...</td>\n      <td>...</td>\n      <td>...</td>\n      <td>...</td>\n      <td>...</td>\n      <td>...</td>\n      <td>...</td>\n      <td>...</td>\n    </tr>\n    <tr>\n      <th>2667</th>\n      <td>18</td>\n      <td>priv</td>\n      <td>36</td>\n      <td>45</td>\n      <td>married</td>\n      <td>no_rec</td>\n      <td>fixed</td>\n      <td>45</td>\n      <td>220.0</td>\n      <td>20000.0</td>\n      <td>0.0</td>\n      <td>800</td>\n      <td>1600</td>\n    </tr>\n    <tr>\n      <th>2668</th>\n      <td>7</td>\n      <td>priv</td>\n      <td>60</td>\n      <td>29</td>\n      <td>married</td>\n      <td>no_rec</td>\n      <td>fixed</td>\n      <td>60</td>\n      <td>51.0</td>\n      <td>3500.0</td>\n      <td>500.0</td>\n      <td>1000</td>\n      <td>1290</td>\n    </tr>\n    <tr>\n      <th>2669</th>\n      <td>1</td>\n      <td>parents</td>\n      <td>24</td>\n      <td>19</td>\n      <td>single</td>\n      <td>no_rec</td>\n      <td>fixed</td>\n      <td>35</td>\n      <td>28.0</td>\n      <td>0.0</td>\n      <td>0.0</td>\n      <td>400</td>\n      <td>600</td>\n    </tr>\n    <tr>\n      <th>2670</th>\n      <td>15</td>\n      <td>owner</td>\n      <td>48</td>\n      <td>43</td>\n      <td>married</td>\n      <td>no_rec</td>\n      <td>freelance</td>\n      <td>60</td>\n      <td>100.0</td>\n      <td>18000.0</td>\n      <td>0.0</td>\n      <td>2500</td>\n      <td>2976</td>\n    </tr>\n    <tr>\n      <th>2671</th>\n      <td>12</td>\n      <td>owner</td>\n      <td>48</td>\n      <td>27</td>\n      <td>married</td>\n      <td>yes_rec</td>\n      <td>fixed</td>\n      <td>45</td>\n      <td>110.0</td>\n      <td>5000.0</td>\n      <td>1300.0</td>\n      <td>450</td>\n      <td>1636</td>\n    </tr>\n  </tbody>\n</table>\n<p>2672 rows × 13 columns</p>\n</div>"
     },
     "execution_count": 19,
     "metadata": {},
     "output_type": "execute_result"
    }
   ],
   "source": [
    "df_train"
   ],
   "metadata": {
    "collapsed": false,
    "ExecuteTime": {
     "end_time": "2024-01-21T13:03:21.091331007Z",
     "start_time": "2024-01-21T13:03:20.946599476Z"
    }
   },
   "id": "a6073582f62dd0d0",
   "execution_count": 19
  },
  {
   "cell_type": "markdown",
   "source": [
    "## 6.3 Decision trees\n",
    "* How a decision tree looks like\n",
    "* Training a decision tree\n",
    "* Overfitting\n",
    "* Controlling the size of a tree"
   ],
   "metadata": {
    "collapsed": false
   },
   "id": "693fe990f62d0e7a"
  },
  {
   "cell_type": "code",
   "outputs": [],
   "source": [
    "#la sortie c'est default ou ok -> sortie binaire\n",
    "def assess_risk(client):\n",
    "    if client['records'] == 'yes':\n",
    "        if client['job'] == 'parttime':\n",
    "            return 'default'\n",
    "        else:\n",
    "            return 'ok'\n",
    "    else:\n",
    "        if client['assets'] > 6000:\n",
    "            return 'ok'\n",
    "        else:\n",
    "            return 'default'"
   ],
   "metadata": {
    "collapsed": false,
    "ExecuteTime": {
     "end_time": "2024-01-21T13:03:21.100205152Z",
     "start_time": "2024-01-21T13:03:20.948201277Z"
    }
   },
   "id": "69096117d387f428",
   "execution_count": 20
  },
  {
   "cell_type": "code",
   "outputs": [],
   "source": [
    "xi = df_train.iloc[0].to_dict()"
   ],
   "metadata": {
    "collapsed": false,
    "ExecuteTime": {
     "end_time": "2024-01-21T13:03:21.101814873Z",
     "start_time": "2024-01-21T13:03:20.949076821Z"
    }
   },
   "id": "b1f1fe78a34ce780",
   "execution_count": 21
  },
  {
   "cell_type": "code",
   "outputs": [
    {
     "data": {
      "text/plain": "'ok'"
     },
     "execution_count": 22,
     "metadata": {},
     "output_type": "execute_result"
    }
   ],
   "source": [
    "assess_risk(xi)"
   ],
   "metadata": {
    "collapsed": false,
    "ExecuteTime": {
     "end_time": "2024-01-21T13:03:21.103879133Z",
     "start_time": "2024-01-21T13:03:20.949835682Z"
    }
   },
   "id": "86d08b0598065c9a",
   "execution_count": 22
  },
  {
   "cell_type": "code",
   "outputs": [],
   "source": [
    "from sklearn.tree import DecisionTreeClassifier\n",
    "from sklearn.feature_extraction import DictVectorizer\n",
    "from sklearn.metrics import roc_auc_score"
   ],
   "metadata": {
    "collapsed": false,
    "ExecuteTime": {
     "end_time": "2024-01-21T13:03:21.164272588Z",
     "start_time": "2024-01-21T13:03:20.951050179Z"
    }
   },
   "id": "ba0920a6d3d4d115",
   "execution_count": 23
  },
  {
   "cell_type": "code",
   "outputs": [],
   "source": [
    "train_dicts = df_train.fillna(0).to_dict(orient='records')"
   ],
   "metadata": {
    "collapsed": false,
    "ExecuteTime": {
     "end_time": "2024-01-21T13:03:21.213841338Z",
     "start_time": "2024-01-21T13:03:21.029778254Z"
    }
   },
   "id": "ddafa798fb6463c7",
   "execution_count": 24
  },
  {
   "cell_type": "code",
   "outputs": [],
   "source": [
    "dv = DictVectorizer(sparse=False)\n",
    "X_train = dv.fit_transform(train_dicts)"
   ],
   "metadata": {
    "collapsed": false,
    "ExecuteTime": {
     "end_time": "2024-01-21T13:03:21.215159011Z",
     "start_time": "2024-01-21T13:03:21.073853242Z"
    }
   },
   "id": "31cd1ff55ca8e86",
   "execution_count": 25
  },
  {
   "cell_type": "code",
   "outputs": [
    {
     "data": {
      "text/plain": "array(['age', 'amount', 'assets', 'debt', 'expenses', 'home=ignore',\n       'home=other', 'home=owner', 'home=parents', 'home=priv',\n       'home=rent', 'home=unknow', 'income', 'job=fixed', 'job=freelance',\n       'job=other', 'job=partime', 'job=unknow', 'marital=divorced',\n       'marital=married', 'marital=separated', 'marital=single',\n       'marital=unknow', 'marital=widow', 'price', 'records=no_rec',\n       'records=yes_rec', 'seniority', 'time'], dtype=object)"
     },
     "execution_count": 26,
     "metadata": {},
     "output_type": "execute_result"
    }
   ],
   "source": [
    "dv.get_feature_names_out()"
   ],
   "metadata": {
    "collapsed": false,
    "ExecuteTime": {
     "end_time": "2024-01-21T13:03:21.216260182Z",
     "start_time": "2024-01-21T13:03:21.081908767Z"
    }
   },
   "id": "18b91c04632b125c",
   "execution_count": 26
  },
  {
   "cell_type": "code",
   "outputs": [
    {
     "data": {
      "text/plain": "DecisionTreeClassifier()",
      "text/html": "<style>#sk-container-id-1 {color: black;}#sk-container-id-1 pre{padding: 0;}#sk-container-id-1 div.sk-toggleable {background-color: white;}#sk-container-id-1 label.sk-toggleable__label {cursor: pointer;display: block;width: 100%;margin-bottom: 0;padding: 0.3em;box-sizing: border-box;text-align: center;}#sk-container-id-1 label.sk-toggleable__label-arrow:before {content: \"▸\";float: left;margin-right: 0.25em;color: #696969;}#sk-container-id-1 label.sk-toggleable__label-arrow:hover:before {color: black;}#sk-container-id-1 div.sk-estimator:hover label.sk-toggleable__label-arrow:before {color: black;}#sk-container-id-1 div.sk-toggleable__content {max-height: 0;max-width: 0;overflow: hidden;text-align: left;background-color: #f0f8ff;}#sk-container-id-1 div.sk-toggleable__content pre {margin: 0.2em;color: black;border-radius: 0.25em;background-color: #f0f8ff;}#sk-container-id-1 input.sk-toggleable__control:checked~div.sk-toggleable__content {max-height: 200px;max-width: 100%;overflow: auto;}#sk-container-id-1 input.sk-toggleable__control:checked~label.sk-toggleable__label-arrow:before {content: \"▾\";}#sk-container-id-1 div.sk-estimator input.sk-toggleable__control:checked~label.sk-toggleable__label {background-color: #d4ebff;}#sk-container-id-1 div.sk-label input.sk-toggleable__control:checked~label.sk-toggleable__label {background-color: #d4ebff;}#sk-container-id-1 input.sk-hidden--visually {border: 0;clip: rect(1px 1px 1px 1px);clip: rect(1px, 1px, 1px, 1px);height: 1px;margin: -1px;overflow: hidden;padding: 0;position: absolute;width: 1px;}#sk-container-id-1 div.sk-estimator {font-family: monospace;background-color: #f0f8ff;border: 1px dotted black;border-radius: 0.25em;box-sizing: border-box;margin-bottom: 0.5em;}#sk-container-id-1 div.sk-estimator:hover {background-color: #d4ebff;}#sk-container-id-1 div.sk-parallel-item::after {content: \"\";width: 100%;border-bottom: 1px solid gray;flex-grow: 1;}#sk-container-id-1 div.sk-label:hover label.sk-toggleable__label {background-color: #d4ebff;}#sk-container-id-1 div.sk-serial::before {content: \"\";position: absolute;border-left: 1px solid gray;box-sizing: border-box;top: 0;bottom: 0;left: 50%;z-index: 0;}#sk-container-id-1 div.sk-serial {display: flex;flex-direction: column;align-items: center;background-color: white;padding-right: 0.2em;padding-left: 0.2em;position: relative;}#sk-container-id-1 div.sk-item {position: relative;z-index: 1;}#sk-container-id-1 div.sk-parallel {display: flex;align-items: stretch;justify-content: center;background-color: white;position: relative;}#sk-container-id-1 div.sk-item::before, #sk-container-id-1 div.sk-parallel-item::before {content: \"\";position: absolute;border-left: 1px solid gray;box-sizing: border-box;top: 0;bottom: 0;left: 50%;z-index: -1;}#sk-container-id-1 div.sk-parallel-item {display: flex;flex-direction: column;z-index: 1;position: relative;background-color: white;}#sk-container-id-1 div.sk-parallel-item:first-child::after {align-self: flex-end;width: 50%;}#sk-container-id-1 div.sk-parallel-item:last-child::after {align-self: flex-start;width: 50%;}#sk-container-id-1 div.sk-parallel-item:only-child::after {width: 0;}#sk-container-id-1 div.sk-dashed-wrapped {border: 1px dashed gray;margin: 0 0.4em 0.5em 0.4em;box-sizing: border-box;padding-bottom: 0.4em;background-color: white;}#sk-container-id-1 div.sk-label label {font-family: monospace;font-weight: bold;display: inline-block;line-height: 1.2em;}#sk-container-id-1 div.sk-label-container {text-align: center;}#sk-container-id-1 div.sk-container {/* jupyter's `normalize.less` sets `[hidden] { display: none; }` but bootstrap.min.css set `[hidden] { display: none !important; }` so we also need the `!important` here to be able to override the default hidden behavior on the sphinx rendered scikit-learn.org. See: https://github.com/scikit-learn/scikit-learn/issues/21755 */display: inline-block !important;position: relative;}#sk-container-id-1 div.sk-text-repr-fallback {display: none;}</style><div id=\"sk-container-id-1\" class=\"sk-top-container\"><div class=\"sk-text-repr-fallback\"><pre>DecisionTreeClassifier()</pre><b>In a Jupyter environment, please rerun this cell to show the HTML representation or trust the notebook. <br />On GitHub, the HTML representation is unable to render, please try loading this page with nbviewer.org.</b></div><div class=\"sk-container\" hidden><div class=\"sk-item\"><div class=\"sk-estimator sk-toggleable\"><input class=\"sk-toggleable__control sk-hidden--visually\" id=\"sk-estimator-id-1\" type=\"checkbox\" checked><label for=\"sk-estimator-id-1\" class=\"sk-toggleable__label sk-toggleable__label-arrow\">DecisionTreeClassifier</label><div class=\"sk-toggleable__content\"><pre>DecisionTreeClassifier()</pre></div></div></div></div></div>"
     },
     "execution_count": 27,
     "metadata": {},
     "output_type": "execute_result"
    }
   ],
   "source": [
    "dt = DecisionTreeClassifier()\n",
    "dt.fit(X_train, y_train)"
   ],
   "metadata": {
    "collapsed": false,
    "ExecuteTime": {
     "end_time": "2024-01-21T13:03:21.302302682Z",
     "start_time": "2024-01-21T13:03:21.088787035Z"
    }
   },
   "id": "bda72d6ca28ba266",
   "execution_count": 27
  },
  {
   "cell_type": "code",
   "outputs": [],
   "source": [
    "val_dicts = df_val.fillna(0).to_dict(orient='records')\n",
    "X_val = dv.transform(val_dicts) # only transform!"
   ],
   "metadata": {
    "collapsed": false,
    "ExecuteTime": {
     "end_time": "2024-01-21T13:03:21.305461172Z",
     "start_time": "2024-01-21T13:03:21.132665053Z"
    }
   },
   "id": "6c72e4fc7a63961c",
   "execution_count": 28
  },
  {
   "cell_type": "code",
   "outputs": [],
   "source": [
    "y_pred = dt.predict_proba(X_val)[:, 1]"
   ],
   "metadata": {
    "collapsed": false,
    "ExecuteTime": {
     "end_time": "2024-01-21T13:03:21.305731033Z",
     "start_time": "2024-01-21T13:03:21.133402666Z"
    }
   },
   "id": "9830e3108416552e",
   "execution_count": 29
  },
  {
   "cell_type": "code",
   "outputs": [
    {
     "data": {
      "text/plain": "0.6528087234506308"
     },
     "execution_count": 30,
     "metadata": {},
     "output_type": "execute_result"
    }
   ],
   "source": [
    "roc_auc_score(y_true=y_val, y_score=y_pred)"
   ],
   "metadata": {
    "collapsed": false,
    "ExecuteTime": {
     "end_time": "2024-01-21T13:03:21.306976605Z",
     "start_time": "2024-01-21T13:03:21.134591964Z"
    }
   },
   "id": "45be9819433de127",
   "execution_count": 30
  },
  {
   "cell_type": "code",
   "outputs": [
    {
     "data": {
      "text/plain": "1.0"
     },
     "execution_count": 31,
     "metadata": {},
     "output_type": "execute_result"
    }
   ],
   "source": [
    "y_pred = dt.predict_proba(X_train)[:,1]\n",
    "roc_auc_score(y_true=y_train, y_score=y_pred)"
   ],
   "metadata": {
    "collapsed": false,
    "ExecuteTime": {
     "end_time": "2024-01-21T13:03:21.315748288Z",
     "start_time": "2024-01-21T13:03:21.141820657Z"
    }
   },
   "id": "9420d9673538acbf",
   "execution_count": 31
  },
  {
   "cell_type": "markdown",
   "source": [
    "On peut voir que nous avons de l'overfitting, score parfait sur le train et mauvais sur le val "
   ],
   "metadata": {
    "collapsed": false
   },
   "id": "61652fa479000c40"
  },
  {
   "cell_type": "code",
   "outputs": [
    {
     "data": {
      "text/plain": "DecisionTreeClassifier(max_depth=3)",
      "text/html": "<style>#sk-container-id-2 {color: black;}#sk-container-id-2 pre{padding: 0;}#sk-container-id-2 div.sk-toggleable {background-color: white;}#sk-container-id-2 label.sk-toggleable__label {cursor: pointer;display: block;width: 100%;margin-bottom: 0;padding: 0.3em;box-sizing: border-box;text-align: center;}#sk-container-id-2 label.sk-toggleable__label-arrow:before {content: \"▸\";float: left;margin-right: 0.25em;color: #696969;}#sk-container-id-2 label.sk-toggleable__label-arrow:hover:before {color: black;}#sk-container-id-2 div.sk-estimator:hover label.sk-toggleable__label-arrow:before {color: black;}#sk-container-id-2 div.sk-toggleable__content {max-height: 0;max-width: 0;overflow: hidden;text-align: left;background-color: #f0f8ff;}#sk-container-id-2 div.sk-toggleable__content pre {margin: 0.2em;color: black;border-radius: 0.25em;background-color: #f0f8ff;}#sk-container-id-2 input.sk-toggleable__control:checked~div.sk-toggleable__content {max-height: 200px;max-width: 100%;overflow: auto;}#sk-container-id-2 input.sk-toggleable__control:checked~label.sk-toggleable__label-arrow:before {content: \"▾\";}#sk-container-id-2 div.sk-estimator input.sk-toggleable__control:checked~label.sk-toggleable__label {background-color: #d4ebff;}#sk-container-id-2 div.sk-label input.sk-toggleable__control:checked~label.sk-toggleable__label {background-color: #d4ebff;}#sk-container-id-2 input.sk-hidden--visually {border: 0;clip: rect(1px 1px 1px 1px);clip: rect(1px, 1px, 1px, 1px);height: 1px;margin: -1px;overflow: hidden;padding: 0;position: absolute;width: 1px;}#sk-container-id-2 div.sk-estimator {font-family: monospace;background-color: #f0f8ff;border: 1px dotted black;border-radius: 0.25em;box-sizing: border-box;margin-bottom: 0.5em;}#sk-container-id-2 div.sk-estimator:hover {background-color: #d4ebff;}#sk-container-id-2 div.sk-parallel-item::after {content: \"\";width: 100%;border-bottom: 1px solid gray;flex-grow: 1;}#sk-container-id-2 div.sk-label:hover label.sk-toggleable__label {background-color: #d4ebff;}#sk-container-id-2 div.sk-serial::before {content: \"\";position: absolute;border-left: 1px solid gray;box-sizing: border-box;top: 0;bottom: 0;left: 50%;z-index: 0;}#sk-container-id-2 div.sk-serial {display: flex;flex-direction: column;align-items: center;background-color: white;padding-right: 0.2em;padding-left: 0.2em;position: relative;}#sk-container-id-2 div.sk-item {position: relative;z-index: 1;}#sk-container-id-2 div.sk-parallel {display: flex;align-items: stretch;justify-content: center;background-color: white;position: relative;}#sk-container-id-2 div.sk-item::before, #sk-container-id-2 div.sk-parallel-item::before {content: \"\";position: absolute;border-left: 1px solid gray;box-sizing: border-box;top: 0;bottom: 0;left: 50%;z-index: -1;}#sk-container-id-2 div.sk-parallel-item {display: flex;flex-direction: column;z-index: 1;position: relative;background-color: white;}#sk-container-id-2 div.sk-parallel-item:first-child::after {align-self: flex-end;width: 50%;}#sk-container-id-2 div.sk-parallel-item:last-child::after {align-self: flex-start;width: 50%;}#sk-container-id-2 div.sk-parallel-item:only-child::after {width: 0;}#sk-container-id-2 div.sk-dashed-wrapped {border: 1px dashed gray;margin: 0 0.4em 0.5em 0.4em;box-sizing: border-box;padding-bottom: 0.4em;background-color: white;}#sk-container-id-2 div.sk-label label {font-family: monospace;font-weight: bold;display: inline-block;line-height: 1.2em;}#sk-container-id-2 div.sk-label-container {text-align: center;}#sk-container-id-2 div.sk-container {/* jupyter's `normalize.less` sets `[hidden] { display: none; }` but bootstrap.min.css set `[hidden] { display: none !important; }` so we also need the `!important` here to be able to override the default hidden behavior on the sphinx rendered scikit-learn.org. See: https://github.com/scikit-learn/scikit-learn/issues/21755 */display: inline-block !important;position: relative;}#sk-container-id-2 div.sk-text-repr-fallback {display: none;}</style><div id=\"sk-container-id-2\" class=\"sk-top-container\"><div class=\"sk-text-repr-fallback\"><pre>DecisionTreeClassifier(max_depth=3)</pre><b>In a Jupyter environment, please rerun this cell to show the HTML representation or trust the notebook. <br />On GitHub, the HTML representation is unable to render, please try loading this page with nbviewer.org.</b></div><div class=\"sk-container\" hidden><div class=\"sk-item\"><div class=\"sk-estimator sk-toggleable\"><input class=\"sk-toggleable__control sk-hidden--visually\" id=\"sk-estimator-id-2\" type=\"checkbox\" checked><label for=\"sk-estimator-id-2\" class=\"sk-toggleable__label sk-toggleable__label-arrow\">DecisionTreeClassifier</label><div class=\"sk-toggleable__content\"><pre>DecisionTreeClassifier(max_depth=3)</pre></div></div></div></div></div>"
     },
     "execution_count": 32,
     "metadata": {},
     "output_type": "execute_result"
    }
   ],
   "source": [
    "dt = DecisionTreeClassifier(max_depth=3)\n",
    "dt.fit(X_train, y_train)"
   ],
   "metadata": {
    "collapsed": false,
    "ExecuteTime": {
     "end_time": "2024-01-21T13:03:21.318039137Z",
     "start_time": "2024-01-21T13:03:21.188337175Z"
    }
   },
   "id": "c41c9afa610d7d3a",
   "execution_count": 32
  },
  {
   "cell_type": "code",
   "outputs": [
    {
     "name": "stdout",
     "output_type": "stream",
     "text": [
      "train: 0.7761016984958594\n",
      "val: 0.7389079944782155\n"
     ]
    }
   ],
   "source": [
    "y_pred = dt.predict_proba(X_train)[:,1]\n",
    "auc = roc_auc_score(y_true=y_train, y_score=y_pred)\n",
    "print('train:', auc)\n",
    "\n",
    "y_pred = dt.predict_proba(X_val)[:, 1]\n",
    "auc = roc_auc_score(y_true=y_val, y_score=y_pred)\n",
    "print('val:', auc)"
   ],
   "metadata": {
    "collapsed": false,
    "ExecuteTime": {
     "end_time": "2024-01-21T13:03:21.319719656Z",
     "start_time": "2024-01-21T13:03:21.189030084Z"
    }
   },
   "id": "80781523d83432c3",
   "execution_count": 33
  },
  {
   "cell_type": "code",
   "outputs": [],
   "source": [
    "from sklearn.tree import export_text"
   ],
   "metadata": {
    "collapsed": false,
    "ExecuteTime": {
     "end_time": "2024-01-21T13:03:21.320824794Z",
     "start_time": "2024-01-21T13:03:21.189630978Z"
    }
   },
   "id": "1bcba10ce8b47ee4",
   "execution_count": 34
  },
  {
   "cell_type": "code",
   "outputs": [
    {
     "name": "stdout",
     "output_type": "stream",
     "text": [
      "|--- records=no_rec <= 0.50\n",
      "|   |--- seniority <= 6.50\n",
      "|   |   |--- amount <= 862.50\n",
      "|   |   |   |--- class: 0\n",
      "|   |   |--- amount >  862.50\n",
      "|   |   |   |--- class: 1\n",
      "|   |--- seniority >  6.50\n",
      "|   |   |--- income <= 103.50\n",
      "|   |   |   |--- class: 1\n",
      "|   |   |--- income >  103.50\n",
      "|   |   |   |--- class: 0\n",
      "|--- records=no_rec >  0.50\n",
      "|   |--- job=partime <= 0.50\n",
      "|   |   |--- income <= 74.50\n",
      "|   |   |   |--- class: 0\n",
      "|   |   |--- income >  74.50\n",
      "|   |   |   |--- class: 0\n",
      "|   |--- job=partime >  0.50\n",
      "|   |   |--- assets <= 8750.00\n",
      "|   |   |   |--- class: 1\n",
      "|   |   |--- assets >  8750.00\n",
      "|   |   |   |--- class: 0\n"
     ]
    }
   ],
   "source": [
    "print(export_text(dt, feature_names=dv.get_feature_names_out()))"
   ],
   "metadata": {
    "collapsed": false,
    "ExecuteTime": {
     "end_time": "2024-01-21T13:03:21.322888383Z",
     "start_time": "2024-01-21T13:03:21.190384988Z"
    }
   },
   "id": "7ab94c02cf1101bd",
   "execution_count": 35
  },
  {
   "cell_type": "markdown",
   "source": [
    "## 6.4 Decision tree learning algorithm\n",
    "* Finding the best split for one column\n",
    "* Finding the best split for the entire dataset\n",
    "* Stop criteria\n",
    "* Decision tree learning alogrithm"
   ],
   "metadata": {
    "collapsed": false
   },
   "id": "a110bea825aa45a9"
  },
  {
   "cell_type": "code",
   "outputs": [
    {
     "data": {
      "text/plain": "   assets   status\n0    8000  default\n1    2000  default\n2       0  default\n3    5000       ok\n4    5000       ok\n5    4000       ok\n6    9000       ok\n7    3000  default",
      "text/html": "<div>\n<style scoped>\n    .dataframe tbody tr th:only-of-type {\n        vertical-align: middle;\n    }\n\n    .dataframe tbody tr th {\n        vertical-align: top;\n    }\n\n    .dataframe thead th {\n        text-align: right;\n    }\n</style>\n<table border=\"1\" class=\"dataframe\">\n  <thead>\n    <tr style=\"text-align: right;\">\n      <th></th>\n      <th>assets</th>\n      <th>status</th>\n    </tr>\n  </thead>\n  <tbody>\n    <tr>\n      <th>0</th>\n      <td>8000</td>\n      <td>default</td>\n    </tr>\n    <tr>\n      <th>1</th>\n      <td>2000</td>\n      <td>default</td>\n    </tr>\n    <tr>\n      <th>2</th>\n      <td>0</td>\n      <td>default</td>\n    </tr>\n    <tr>\n      <th>3</th>\n      <td>5000</td>\n      <td>ok</td>\n    </tr>\n    <tr>\n      <th>4</th>\n      <td>5000</td>\n      <td>ok</td>\n    </tr>\n    <tr>\n      <th>5</th>\n      <td>4000</td>\n      <td>ok</td>\n    </tr>\n    <tr>\n      <th>6</th>\n      <td>9000</td>\n      <td>ok</td>\n    </tr>\n    <tr>\n      <th>7</th>\n      <td>3000</td>\n      <td>default</td>\n    </tr>\n  </tbody>\n</table>\n</div>"
     },
     "execution_count": 36,
     "metadata": {},
     "output_type": "execute_result"
    }
   ],
   "source": [
    "data = [\n",
    "    [8000, 'default'],\n",
    "    [2000, 'default'],\n",
    "    [   0, 'default'],\n",
    "    [5000, 'ok'],\n",
    "    [5000, 'ok'],\n",
    "    [4000, 'ok'],\n",
    "    [9000, 'ok'],\n",
    "    [3000, 'default'],\n",
    "]\n",
    "\n",
    "df_example = pd.DataFrame(data, columns=['assets', 'status'])\n",
    "df_example"
   ],
   "metadata": {
    "collapsed": false,
    "ExecuteTime": {
     "end_time": "2024-01-21T17:17:16.332678112Z",
     "start_time": "2024-01-21T17:17:16.288622426Z"
    }
   },
   "id": "50b47f7c7e783d35",
   "execution_count": 36
  },
  {
   "cell_type": "code",
   "outputs": [
    {
     "data": {
      "text/plain": "   assets   status\n2       0  default\n1    2000  default\n7    3000  default\n5    4000       ok\n3    5000       ok\n4    5000       ok\n0    8000  default\n6    9000       ok",
      "text/html": "<div>\n<style scoped>\n    .dataframe tbody tr th:only-of-type {\n        vertical-align: middle;\n    }\n\n    .dataframe tbody tr th {\n        vertical-align: top;\n    }\n\n    .dataframe thead th {\n        text-align: right;\n    }\n</style>\n<table border=\"1\" class=\"dataframe\">\n  <thead>\n    <tr style=\"text-align: right;\">\n      <th></th>\n      <th>assets</th>\n      <th>status</th>\n    </tr>\n  </thead>\n  <tbody>\n    <tr>\n      <th>2</th>\n      <td>0</td>\n      <td>default</td>\n    </tr>\n    <tr>\n      <th>1</th>\n      <td>2000</td>\n      <td>default</td>\n    </tr>\n    <tr>\n      <th>7</th>\n      <td>3000</td>\n      <td>default</td>\n    </tr>\n    <tr>\n      <th>5</th>\n      <td>4000</td>\n      <td>ok</td>\n    </tr>\n    <tr>\n      <th>3</th>\n      <td>5000</td>\n      <td>ok</td>\n    </tr>\n    <tr>\n      <th>4</th>\n      <td>5000</td>\n      <td>ok</td>\n    </tr>\n    <tr>\n      <th>0</th>\n      <td>8000</td>\n      <td>default</td>\n    </tr>\n    <tr>\n      <th>6</th>\n      <td>9000</td>\n      <td>ok</td>\n    </tr>\n  </tbody>\n</table>\n</div>"
     },
     "execution_count": 37,
     "metadata": {},
     "output_type": "execute_result"
    }
   ],
   "source": [
    "df_example.sort_values('assets')"
   ],
   "metadata": {
    "collapsed": false,
    "ExecuteTime": {
     "end_time": "2024-01-21T17:17:34.839440857Z",
     "start_time": "2024-01-21T17:17:34.792364141Z"
    }
   },
   "id": "3c20dc058de2b71e",
   "execution_count": 37
  },
  {
   "cell_type": "code",
   "outputs": [],
   "source": [
    "#thresholds\n",
    "Ts = [0, 2000, 3000, 4000, 5000, 8000]"
   ],
   "metadata": {
    "collapsed": false,
    "ExecuteTime": {
     "end_time": "2024-01-21T17:18:06.341503443Z",
     "start_time": "2024-01-21T17:18:06.293803818Z"
    }
   },
   "id": "b4d482b4f7d34171",
   "execution_count": 38
  },
  {
   "cell_type": "code",
   "outputs": [
    {
     "data": {
      "text/plain": "   assets   status\n1    2000  default\n2       0  default\n5    4000       ok\n7    3000  default",
      "text/html": "<div>\n<style scoped>\n    .dataframe tbody tr th:only-of-type {\n        vertical-align: middle;\n    }\n\n    .dataframe tbody tr th {\n        vertical-align: top;\n    }\n\n    .dataframe thead th {\n        text-align: right;\n    }\n</style>\n<table border=\"1\" class=\"dataframe\">\n  <thead>\n    <tr style=\"text-align: right;\">\n      <th></th>\n      <th>assets</th>\n      <th>status</th>\n    </tr>\n  </thead>\n  <tbody>\n    <tr>\n      <th>1</th>\n      <td>2000</td>\n      <td>default</td>\n    </tr>\n    <tr>\n      <th>2</th>\n      <td>0</td>\n      <td>default</td>\n    </tr>\n    <tr>\n      <th>5</th>\n      <td>4000</td>\n      <td>ok</td>\n    </tr>\n    <tr>\n      <th>7</th>\n      <td>3000</td>\n      <td>default</td>\n    </tr>\n  </tbody>\n</table>\n</div>"
     },
     "metadata": {},
     "output_type": "display_data"
    },
    {
     "name": "stdout",
     "output_type": "stream",
     "text": [
      "status\n",
      "default    0.75\n",
      "ok         0.25\n",
      "Name: proportion, dtype: float64\n"
     ]
    },
    {
     "data": {
      "text/plain": "   assets   status\n0    8000  default\n3    5000       ok\n4    5000       ok\n6    9000       ok",
      "text/html": "<div>\n<style scoped>\n    .dataframe tbody tr th:only-of-type {\n        vertical-align: middle;\n    }\n\n    .dataframe tbody tr th {\n        vertical-align: top;\n    }\n\n    .dataframe thead th {\n        text-align: right;\n    }\n</style>\n<table border=\"1\" class=\"dataframe\">\n  <thead>\n    <tr style=\"text-align: right;\">\n      <th></th>\n      <th>assets</th>\n      <th>status</th>\n    </tr>\n  </thead>\n  <tbody>\n    <tr>\n      <th>0</th>\n      <td>8000</td>\n      <td>default</td>\n    </tr>\n    <tr>\n      <th>3</th>\n      <td>5000</td>\n      <td>ok</td>\n    </tr>\n    <tr>\n      <th>4</th>\n      <td>5000</td>\n      <td>ok</td>\n    </tr>\n    <tr>\n      <th>6</th>\n      <td>9000</td>\n      <td>ok</td>\n    </tr>\n  </tbody>\n</table>\n</div>"
     },
     "metadata": {},
     "output_type": "display_data"
    },
    {
     "name": "stdout",
     "output_type": "stream",
     "text": [
      "status\n",
      "default    0.75\n",
      "ok         0.25\n",
      "Name: proportion, dtype: float64\n"
     ]
    }
   ],
   "source": [
    "T = 4000\n",
    "df_left = df_example[df_example.assets <= T]\n",
    "df_right = df_example[df_example.assets > T]\n",
    "\n",
    "display(df_left)\n",
    "print(df_left.status.value_counts(normalize=True))\n",
    "display(df_right)\n",
    "print(df_left.status.value_counts(normalize=True))"
   ],
   "metadata": {
    "collapsed": false,
    "ExecuteTime": {
     "end_time": "2024-01-21T17:18:13.685261622Z",
     "start_time": "2024-01-21T17:18:13.641872462Z"
    }
   },
   "id": "84daa631e62be27c",
   "execution_count": 39
  },
  {
   "cell_type": "code",
   "outputs": [],
   "source": [
    "from IPython.display import display"
   ],
   "metadata": {
    "collapsed": false,
    "ExecuteTime": {
     "end_time": "2024-01-21T17:18:24.968269333Z",
     "start_time": "2024-01-21T17:18:24.924244093Z"
    }
   },
   "id": "b62c4a5412481484",
   "execution_count": 40
  },
  {
   "cell_type": "code",
   "outputs": [
    {
     "name": "stdout",
     "output_type": "stream",
     "text": [
      "0\n"
     ]
    },
    {
     "data": {
      "text/plain": "   assets   status\n2       0  default",
      "text/html": "<div>\n<style scoped>\n    .dataframe tbody tr th:only-of-type {\n        vertical-align: middle;\n    }\n\n    .dataframe tbody tr th {\n        vertical-align: top;\n    }\n\n    .dataframe thead th {\n        text-align: right;\n    }\n</style>\n<table border=\"1\" class=\"dataframe\">\n  <thead>\n    <tr style=\"text-align: right;\">\n      <th></th>\n      <th>assets</th>\n      <th>status</th>\n    </tr>\n  </thead>\n  <tbody>\n    <tr>\n      <th>2</th>\n      <td>0</td>\n      <td>default</td>\n    </tr>\n  </tbody>\n</table>\n</div>"
     },
     "metadata": {},
     "output_type": "display_data"
    },
    {
     "name": "stdout",
     "output_type": "stream",
     "text": [
      "status\n",
      "default    1.0\n",
      "Name: proportion, dtype: float64\n"
     ]
    },
    {
     "data": {
      "text/plain": "   assets   status\n0    8000  default\n1    2000  default\n3    5000       ok\n4    5000       ok\n5    4000       ok\n6    9000       ok\n7    3000  default",
      "text/html": "<div>\n<style scoped>\n    .dataframe tbody tr th:only-of-type {\n        vertical-align: middle;\n    }\n\n    .dataframe tbody tr th {\n        vertical-align: top;\n    }\n\n    .dataframe thead th {\n        text-align: right;\n    }\n</style>\n<table border=\"1\" class=\"dataframe\">\n  <thead>\n    <tr style=\"text-align: right;\">\n      <th></th>\n      <th>assets</th>\n      <th>status</th>\n    </tr>\n  </thead>\n  <tbody>\n    <tr>\n      <th>0</th>\n      <td>8000</td>\n      <td>default</td>\n    </tr>\n    <tr>\n      <th>1</th>\n      <td>2000</td>\n      <td>default</td>\n    </tr>\n    <tr>\n      <th>3</th>\n      <td>5000</td>\n      <td>ok</td>\n    </tr>\n    <tr>\n      <th>4</th>\n      <td>5000</td>\n      <td>ok</td>\n    </tr>\n    <tr>\n      <th>5</th>\n      <td>4000</td>\n      <td>ok</td>\n    </tr>\n    <tr>\n      <th>6</th>\n      <td>9000</td>\n      <td>ok</td>\n    </tr>\n    <tr>\n      <th>7</th>\n      <td>3000</td>\n      <td>default</td>\n    </tr>\n  </tbody>\n</table>\n</div>"
     },
     "metadata": {},
     "output_type": "display_data"
    },
    {
     "name": "stdout",
     "output_type": "stream",
     "text": [
      "status\n",
      "ok         0.571429\n",
      "default    0.428571\n",
      "Name: proportion, dtype: float64\n",
      "\n",
      "2000\n"
     ]
    },
    {
     "data": {
      "text/plain": "   assets   status\n1    2000  default\n2       0  default",
      "text/html": "<div>\n<style scoped>\n    .dataframe tbody tr th:only-of-type {\n        vertical-align: middle;\n    }\n\n    .dataframe tbody tr th {\n        vertical-align: top;\n    }\n\n    .dataframe thead th {\n        text-align: right;\n    }\n</style>\n<table border=\"1\" class=\"dataframe\">\n  <thead>\n    <tr style=\"text-align: right;\">\n      <th></th>\n      <th>assets</th>\n      <th>status</th>\n    </tr>\n  </thead>\n  <tbody>\n    <tr>\n      <th>1</th>\n      <td>2000</td>\n      <td>default</td>\n    </tr>\n    <tr>\n      <th>2</th>\n      <td>0</td>\n      <td>default</td>\n    </tr>\n  </tbody>\n</table>\n</div>"
     },
     "metadata": {},
     "output_type": "display_data"
    },
    {
     "name": "stdout",
     "output_type": "stream",
     "text": [
      "status\n",
      "default    1.0\n",
      "Name: proportion, dtype: float64\n"
     ]
    },
    {
     "data": {
      "text/plain": "   assets   status\n0    8000  default\n3    5000       ok\n4    5000       ok\n5    4000       ok\n6    9000       ok\n7    3000  default",
      "text/html": "<div>\n<style scoped>\n    .dataframe tbody tr th:only-of-type {\n        vertical-align: middle;\n    }\n\n    .dataframe tbody tr th {\n        vertical-align: top;\n    }\n\n    .dataframe thead th {\n        text-align: right;\n    }\n</style>\n<table border=\"1\" class=\"dataframe\">\n  <thead>\n    <tr style=\"text-align: right;\">\n      <th></th>\n      <th>assets</th>\n      <th>status</th>\n    </tr>\n  </thead>\n  <tbody>\n    <tr>\n      <th>0</th>\n      <td>8000</td>\n      <td>default</td>\n    </tr>\n    <tr>\n      <th>3</th>\n      <td>5000</td>\n      <td>ok</td>\n    </tr>\n    <tr>\n      <th>4</th>\n      <td>5000</td>\n      <td>ok</td>\n    </tr>\n    <tr>\n      <th>5</th>\n      <td>4000</td>\n      <td>ok</td>\n    </tr>\n    <tr>\n      <th>6</th>\n      <td>9000</td>\n      <td>ok</td>\n    </tr>\n    <tr>\n      <th>7</th>\n      <td>3000</td>\n      <td>default</td>\n    </tr>\n  </tbody>\n</table>\n</div>"
     },
     "metadata": {},
     "output_type": "display_data"
    },
    {
     "name": "stdout",
     "output_type": "stream",
     "text": [
      "status\n",
      "ok         0.666667\n",
      "default    0.333333\n",
      "Name: proportion, dtype: float64\n",
      "\n",
      "3000\n"
     ]
    },
    {
     "data": {
      "text/plain": "   assets   status\n1    2000  default\n2       0  default\n7    3000  default",
      "text/html": "<div>\n<style scoped>\n    .dataframe tbody tr th:only-of-type {\n        vertical-align: middle;\n    }\n\n    .dataframe tbody tr th {\n        vertical-align: top;\n    }\n\n    .dataframe thead th {\n        text-align: right;\n    }\n</style>\n<table border=\"1\" class=\"dataframe\">\n  <thead>\n    <tr style=\"text-align: right;\">\n      <th></th>\n      <th>assets</th>\n      <th>status</th>\n    </tr>\n  </thead>\n  <tbody>\n    <tr>\n      <th>1</th>\n      <td>2000</td>\n      <td>default</td>\n    </tr>\n    <tr>\n      <th>2</th>\n      <td>0</td>\n      <td>default</td>\n    </tr>\n    <tr>\n      <th>7</th>\n      <td>3000</td>\n      <td>default</td>\n    </tr>\n  </tbody>\n</table>\n</div>"
     },
     "metadata": {},
     "output_type": "display_data"
    },
    {
     "name": "stdout",
     "output_type": "stream",
     "text": [
      "status\n",
      "default    1.0\n",
      "Name: proportion, dtype: float64\n"
     ]
    },
    {
     "data": {
      "text/plain": "   assets   status\n0    8000  default\n3    5000       ok\n4    5000       ok\n5    4000       ok\n6    9000       ok",
      "text/html": "<div>\n<style scoped>\n    .dataframe tbody tr th:only-of-type {\n        vertical-align: middle;\n    }\n\n    .dataframe tbody tr th {\n        vertical-align: top;\n    }\n\n    .dataframe thead th {\n        text-align: right;\n    }\n</style>\n<table border=\"1\" class=\"dataframe\">\n  <thead>\n    <tr style=\"text-align: right;\">\n      <th></th>\n      <th>assets</th>\n      <th>status</th>\n    </tr>\n  </thead>\n  <tbody>\n    <tr>\n      <th>0</th>\n      <td>8000</td>\n      <td>default</td>\n    </tr>\n    <tr>\n      <th>3</th>\n      <td>5000</td>\n      <td>ok</td>\n    </tr>\n    <tr>\n      <th>4</th>\n      <td>5000</td>\n      <td>ok</td>\n    </tr>\n    <tr>\n      <th>5</th>\n      <td>4000</td>\n      <td>ok</td>\n    </tr>\n    <tr>\n      <th>6</th>\n      <td>9000</td>\n      <td>ok</td>\n    </tr>\n  </tbody>\n</table>\n</div>"
     },
     "metadata": {},
     "output_type": "display_data"
    },
    {
     "name": "stdout",
     "output_type": "stream",
     "text": [
      "status\n",
      "ok         0.8\n",
      "default    0.2\n",
      "Name: proportion, dtype: float64\n",
      "\n",
      "4000\n"
     ]
    },
    {
     "data": {
      "text/plain": "   assets   status\n1    2000  default\n2       0  default\n5    4000       ok\n7    3000  default",
      "text/html": "<div>\n<style scoped>\n    .dataframe tbody tr th:only-of-type {\n        vertical-align: middle;\n    }\n\n    .dataframe tbody tr th {\n        vertical-align: top;\n    }\n\n    .dataframe thead th {\n        text-align: right;\n    }\n</style>\n<table border=\"1\" class=\"dataframe\">\n  <thead>\n    <tr style=\"text-align: right;\">\n      <th></th>\n      <th>assets</th>\n      <th>status</th>\n    </tr>\n  </thead>\n  <tbody>\n    <tr>\n      <th>1</th>\n      <td>2000</td>\n      <td>default</td>\n    </tr>\n    <tr>\n      <th>2</th>\n      <td>0</td>\n      <td>default</td>\n    </tr>\n    <tr>\n      <th>5</th>\n      <td>4000</td>\n      <td>ok</td>\n    </tr>\n    <tr>\n      <th>7</th>\n      <td>3000</td>\n      <td>default</td>\n    </tr>\n  </tbody>\n</table>\n</div>"
     },
     "metadata": {},
     "output_type": "display_data"
    },
    {
     "name": "stdout",
     "output_type": "stream",
     "text": [
      "status\n",
      "default    0.75\n",
      "ok         0.25\n",
      "Name: proportion, dtype: float64\n"
     ]
    },
    {
     "data": {
      "text/plain": "   assets   status\n0    8000  default\n3    5000       ok\n4    5000       ok\n6    9000       ok",
      "text/html": "<div>\n<style scoped>\n    .dataframe tbody tr th:only-of-type {\n        vertical-align: middle;\n    }\n\n    .dataframe tbody tr th {\n        vertical-align: top;\n    }\n\n    .dataframe thead th {\n        text-align: right;\n    }\n</style>\n<table border=\"1\" class=\"dataframe\">\n  <thead>\n    <tr style=\"text-align: right;\">\n      <th></th>\n      <th>assets</th>\n      <th>status</th>\n    </tr>\n  </thead>\n  <tbody>\n    <tr>\n      <th>0</th>\n      <td>8000</td>\n      <td>default</td>\n    </tr>\n    <tr>\n      <th>3</th>\n      <td>5000</td>\n      <td>ok</td>\n    </tr>\n    <tr>\n      <th>4</th>\n      <td>5000</td>\n      <td>ok</td>\n    </tr>\n    <tr>\n      <th>6</th>\n      <td>9000</td>\n      <td>ok</td>\n    </tr>\n  </tbody>\n</table>\n</div>"
     },
     "metadata": {},
     "output_type": "display_data"
    },
    {
     "name": "stdout",
     "output_type": "stream",
     "text": [
      "status\n",
      "ok         0.75\n",
      "default    0.25\n",
      "Name: proportion, dtype: float64\n",
      "\n",
      "5000\n"
     ]
    },
    {
     "data": {
      "text/plain": "   assets   status\n1    2000  default\n2       0  default\n3    5000       ok\n4    5000       ok\n5    4000       ok\n7    3000  default",
      "text/html": "<div>\n<style scoped>\n    .dataframe tbody tr th:only-of-type {\n        vertical-align: middle;\n    }\n\n    .dataframe tbody tr th {\n        vertical-align: top;\n    }\n\n    .dataframe thead th {\n        text-align: right;\n    }\n</style>\n<table border=\"1\" class=\"dataframe\">\n  <thead>\n    <tr style=\"text-align: right;\">\n      <th></th>\n      <th>assets</th>\n      <th>status</th>\n    </tr>\n  </thead>\n  <tbody>\n    <tr>\n      <th>1</th>\n      <td>2000</td>\n      <td>default</td>\n    </tr>\n    <tr>\n      <th>2</th>\n      <td>0</td>\n      <td>default</td>\n    </tr>\n    <tr>\n      <th>3</th>\n      <td>5000</td>\n      <td>ok</td>\n    </tr>\n    <tr>\n      <th>4</th>\n      <td>5000</td>\n      <td>ok</td>\n    </tr>\n    <tr>\n      <th>5</th>\n      <td>4000</td>\n      <td>ok</td>\n    </tr>\n    <tr>\n      <th>7</th>\n      <td>3000</td>\n      <td>default</td>\n    </tr>\n  </tbody>\n</table>\n</div>"
     },
     "metadata": {},
     "output_type": "display_data"
    },
    {
     "name": "stdout",
     "output_type": "stream",
     "text": [
      "status\n",
      "default    0.5\n",
      "ok         0.5\n",
      "Name: proportion, dtype: float64\n"
     ]
    },
    {
     "data": {
      "text/plain": "   assets   status\n0    8000  default\n6    9000       ok",
      "text/html": "<div>\n<style scoped>\n    .dataframe tbody tr th:only-of-type {\n        vertical-align: middle;\n    }\n\n    .dataframe tbody tr th {\n        vertical-align: top;\n    }\n\n    .dataframe thead th {\n        text-align: right;\n    }\n</style>\n<table border=\"1\" class=\"dataframe\">\n  <thead>\n    <tr style=\"text-align: right;\">\n      <th></th>\n      <th>assets</th>\n      <th>status</th>\n    </tr>\n  </thead>\n  <tbody>\n    <tr>\n      <th>0</th>\n      <td>8000</td>\n      <td>default</td>\n    </tr>\n    <tr>\n      <th>6</th>\n      <td>9000</td>\n      <td>ok</td>\n    </tr>\n  </tbody>\n</table>\n</div>"
     },
     "metadata": {},
     "output_type": "display_data"
    },
    {
     "name": "stdout",
     "output_type": "stream",
     "text": [
      "status\n",
      "default    0.5\n",
      "ok         0.5\n",
      "Name: proportion, dtype: float64\n",
      "\n",
      "8000\n"
     ]
    },
    {
     "data": {
      "text/plain": "   assets   status\n0    8000  default\n1    2000  default\n2       0  default\n3    5000       ok\n4    5000       ok\n5    4000       ok\n7    3000  default",
      "text/html": "<div>\n<style scoped>\n    .dataframe tbody tr th:only-of-type {\n        vertical-align: middle;\n    }\n\n    .dataframe tbody tr th {\n        vertical-align: top;\n    }\n\n    .dataframe thead th {\n        text-align: right;\n    }\n</style>\n<table border=\"1\" class=\"dataframe\">\n  <thead>\n    <tr style=\"text-align: right;\">\n      <th></th>\n      <th>assets</th>\n      <th>status</th>\n    </tr>\n  </thead>\n  <tbody>\n    <tr>\n      <th>0</th>\n      <td>8000</td>\n      <td>default</td>\n    </tr>\n    <tr>\n      <th>1</th>\n      <td>2000</td>\n      <td>default</td>\n    </tr>\n    <tr>\n      <th>2</th>\n      <td>0</td>\n      <td>default</td>\n    </tr>\n    <tr>\n      <th>3</th>\n      <td>5000</td>\n      <td>ok</td>\n    </tr>\n    <tr>\n      <th>4</th>\n      <td>5000</td>\n      <td>ok</td>\n    </tr>\n    <tr>\n      <th>5</th>\n      <td>4000</td>\n      <td>ok</td>\n    </tr>\n    <tr>\n      <th>7</th>\n      <td>3000</td>\n      <td>default</td>\n    </tr>\n  </tbody>\n</table>\n</div>"
     },
     "metadata": {},
     "output_type": "display_data"
    },
    {
     "name": "stdout",
     "output_type": "stream",
     "text": [
      "status\n",
      "default    0.571429\n",
      "ok         0.428571\n",
      "Name: proportion, dtype: float64\n"
     ]
    },
    {
     "data": {
      "text/plain": "   assets status\n6    9000     ok",
      "text/html": "<div>\n<style scoped>\n    .dataframe tbody tr th:only-of-type {\n        vertical-align: middle;\n    }\n\n    .dataframe tbody tr th {\n        vertical-align: top;\n    }\n\n    .dataframe thead th {\n        text-align: right;\n    }\n</style>\n<table border=\"1\" class=\"dataframe\">\n  <thead>\n    <tr style=\"text-align: right;\">\n      <th></th>\n      <th>assets</th>\n      <th>status</th>\n    </tr>\n  </thead>\n  <tbody>\n    <tr>\n      <th>6</th>\n      <td>9000</td>\n      <td>ok</td>\n    </tr>\n  </tbody>\n</table>\n</div>"
     },
     "metadata": {},
     "output_type": "display_data"
    },
    {
     "name": "stdout",
     "output_type": "stream",
     "text": [
      "status\n",
      "ok    1.0\n",
      "Name: proportion, dtype: float64\n"
     ]
    }
   ],
   "source": [
    "for T in Ts:\n",
    "    print(T)\n",
    "    df_left = df_example[df_example.assets <= T]\n",
    "    df_right = df_example[df_example.assets > T]\n",
    "    \n",
    "    display(df_left)\n",
    "    print(df_left.status.value_counts(normalize=True))\n",
    "    display(df_right)\n",
    "    print(df_right.status.value_counts(normalize=True))\n",
    "\n",
    "    print()"
   ],
   "metadata": {
    "collapsed": false,
    "ExecuteTime": {
     "end_time": "2024-01-21T17:18:48.428581243Z",
     "start_time": "2024-01-21T17:18:48.314906729Z"
    }
   },
   "id": "ea30320f5e5726d4",
   "execution_count": 42
  },
  {
   "cell_type": "code",
   "outputs": [
    {
     "data": {
      "text/plain": "   assets  debt   status\n0    8000  3000  default\n1    2000  1000  default\n2       0  1000  default\n3    5000  1000       ok\n4    5000  1000       ok\n5    4000  1000       ok\n6    9000   500       ok\n7    3000  2000  default",
      "text/html": "<div>\n<style scoped>\n    .dataframe tbody tr th:only-of-type {\n        vertical-align: middle;\n    }\n\n    .dataframe tbody tr th {\n        vertical-align: top;\n    }\n\n    .dataframe thead th {\n        text-align: right;\n    }\n</style>\n<table border=\"1\" class=\"dataframe\">\n  <thead>\n    <tr style=\"text-align: right;\">\n      <th></th>\n      <th>assets</th>\n      <th>debt</th>\n      <th>status</th>\n    </tr>\n  </thead>\n  <tbody>\n    <tr>\n      <th>0</th>\n      <td>8000</td>\n      <td>3000</td>\n      <td>default</td>\n    </tr>\n    <tr>\n      <th>1</th>\n      <td>2000</td>\n      <td>1000</td>\n      <td>default</td>\n    </tr>\n    <tr>\n      <th>2</th>\n      <td>0</td>\n      <td>1000</td>\n      <td>default</td>\n    </tr>\n    <tr>\n      <th>3</th>\n      <td>5000</td>\n      <td>1000</td>\n      <td>ok</td>\n    </tr>\n    <tr>\n      <th>4</th>\n      <td>5000</td>\n      <td>1000</td>\n      <td>ok</td>\n    </tr>\n    <tr>\n      <th>5</th>\n      <td>4000</td>\n      <td>1000</td>\n      <td>ok</td>\n    </tr>\n    <tr>\n      <th>6</th>\n      <td>9000</td>\n      <td>500</td>\n      <td>ok</td>\n    </tr>\n    <tr>\n      <th>7</th>\n      <td>3000</td>\n      <td>2000</td>\n      <td>default</td>\n    </tr>\n  </tbody>\n</table>\n</div>"
     },
     "execution_count": 43,
     "metadata": {},
     "output_type": "execute_result"
    }
   ],
   "source": [
    "data = [\n",
    "    [8000, 3000, 'default'],\n",
    "    [2000, 1000, 'default'],\n",
    "    [   0, 1000, 'default'],\n",
    "    [5000, 1000, 'ok'],\n",
    "    [5000, 1000, 'ok'],\n",
    "    [4000, 1000, 'ok'],\n",
    "    [9000,  500, 'ok'],\n",
    "    [3000, 2000, 'default'],\n",
    "]\n",
    "\n",
    "df_example = pd.DataFrame(data, columns=['assets', 'debt', 'status'])\n",
    "df_example"
   ],
   "metadata": {
    "collapsed": false,
    "ExecuteTime": {
     "end_time": "2024-01-21T17:19:03.609723374Z",
     "start_time": "2024-01-21T17:19:03.565881830Z"
    }
   },
   "id": "f9833f882b90708c",
   "execution_count": 43
  },
  {
   "cell_type": "code",
   "outputs": [
    {
     "data": {
      "text/plain": "   assets  debt   status\n6    9000   500       ok\n1    2000  1000  default\n2       0  1000  default\n3    5000  1000       ok\n4    5000  1000       ok\n5    4000  1000       ok\n7    3000  2000  default\n0    8000  3000  default",
      "text/html": "<div>\n<style scoped>\n    .dataframe tbody tr th:only-of-type {\n        vertical-align: middle;\n    }\n\n    .dataframe tbody tr th {\n        vertical-align: top;\n    }\n\n    .dataframe thead th {\n        text-align: right;\n    }\n</style>\n<table border=\"1\" class=\"dataframe\">\n  <thead>\n    <tr style=\"text-align: right;\">\n      <th></th>\n      <th>assets</th>\n      <th>debt</th>\n      <th>status</th>\n    </tr>\n  </thead>\n  <tbody>\n    <tr>\n      <th>6</th>\n      <td>9000</td>\n      <td>500</td>\n      <td>ok</td>\n    </tr>\n    <tr>\n      <th>1</th>\n      <td>2000</td>\n      <td>1000</td>\n      <td>default</td>\n    </tr>\n    <tr>\n      <th>2</th>\n      <td>0</td>\n      <td>1000</td>\n      <td>default</td>\n    </tr>\n    <tr>\n      <th>3</th>\n      <td>5000</td>\n      <td>1000</td>\n      <td>ok</td>\n    </tr>\n    <tr>\n      <th>4</th>\n      <td>5000</td>\n      <td>1000</td>\n      <td>ok</td>\n    </tr>\n    <tr>\n      <th>5</th>\n      <td>4000</td>\n      <td>1000</td>\n      <td>ok</td>\n    </tr>\n    <tr>\n      <th>7</th>\n      <td>3000</td>\n      <td>2000</td>\n      <td>default</td>\n    </tr>\n    <tr>\n      <th>0</th>\n      <td>8000</td>\n      <td>3000</td>\n      <td>default</td>\n    </tr>\n  </tbody>\n</table>\n</div>"
     },
     "execution_count": 44,
     "metadata": {},
     "output_type": "execute_result"
    }
   ],
   "source": [
    "df_example.sort_values('debt')"
   ],
   "metadata": {
    "collapsed": false,
    "ExecuteTime": {
     "end_time": "2024-01-21T17:19:20.305622098Z",
     "start_time": "2024-01-21T17:19:20.257906212Z"
    }
   },
   "id": "d32ed659817a8b89",
   "execution_count": 44
  },
  {
   "cell_type": "code",
   "outputs": [],
   "source": [
    "thresholds = {\n",
    "    'assets': [0, 2000, 3000, 4000, 5000, 8000],\n",
    "    'debt': [500, 1000, 2000]\n",
    "}"
   ],
   "metadata": {
    "collapsed": false,
    "ExecuteTime": {
     "end_time": "2024-01-21T17:19:41.382092371Z",
     "start_time": "2024-01-21T17:19:41.337747469Z"
    }
   },
   "id": "bb638ba4a632fcb8",
   "execution_count": 45
  },
  {
   "cell_type": "code",
   "outputs": [
    {
     "name": "stdout",
     "output_type": "stream",
     "text": [
      "#####################\n",
      "assets\n",
      "0\n"
     ]
    },
    {
     "data": {
      "text/plain": "   assets  debt   status\n2       0  1000  default",
      "text/html": "<div>\n<style scoped>\n    .dataframe tbody tr th:only-of-type {\n        vertical-align: middle;\n    }\n\n    .dataframe tbody tr th {\n        vertical-align: top;\n    }\n\n    .dataframe thead th {\n        text-align: right;\n    }\n</style>\n<table border=\"1\" class=\"dataframe\">\n  <thead>\n    <tr style=\"text-align: right;\">\n      <th></th>\n      <th>assets</th>\n      <th>debt</th>\n      <th>status</th>\n    </tr>\n  </thead>\n  <tbody>\n    <tr>\n      <th>2</th>\n      <td>0</td>\n      <td>1000</td>\n      <td>default</td>\n    </tr>\n  </tbody>\n</table>\n</div>"
     },
     "metadata": {},
     "output_type": "display_data"
    },
    {
     "name": "stdout",
     "output_type": "stream",
     "text": [
      "status\n",
      "default    1.0\n",
      "Name: proportion, dtype: float64\n"
     ]
    },
    {
     "data": {
      "text/plain": "   assets  debt   status\n0    8000  3000  default\n1    2000  1000  default\n3    5000  1000       ok\n4    5000  1000       ok\n5    4000  1000       ok\n6    9000   500       ok\n7    3000  2000  default",
      "text/html": "<div>\n<style scoped>\n    .dataframe tbody tr th:only-of-type {\n        vertical-align: middle;\n    }\n\n    .dataframe tbody tr th {\n        vertical-align: top;\n    }\n\n    .dataframe thead th {\n        text-align: right;\n    }\n</style>\n<table border=\"1\" class=\"dataframe\">\n  <thead>\n    <tr style=\"text-align: right;\">\n      <th></th>\n      <th>assets</th>\n      <th>debt</th>\n      <th>status</th>\n    </tr>\n  </thead>\n  <tbody>\n    <tr>\n      <th>0</th>\n      <td>8000</td>\n      <td>3000</td>\n      <td>default</td>\n    </tr>\n    <tr>\n      <th>1</th>\n      <td>2000</td>\n      <td>1000</td>\n      <td>default</td>\n    </tr>\n    <tr>\n      <th>3</th>\n      <td>5000</td>\n      <td>1000</td>\n      <td>ok</td>\n    </tr>\n    <tr>\n      <th>4</th>\n      <td>5000</td>\n      <td>1000</td>\n      <td>ok</td>\n    </tr>\n    <tr>\n      <th>5</th>\n      <td>4000</td>\n      <td>1000</td>\n      <td>ok</td>\n    </tr>\n    <tr>\n      <th>6</th>\n      <td>9000</td>\n      <td>500</td>\n      <td>ok</td>\n    </tr>\n    <tr>\n      <th>7</th>\n      <td>3000</td>\n      <td>2000</td>\n      <td>default</td>\n    </tr>\n  </tbody>\n</table>\n</div>"
     },
     "metadata": {},
     "output_type": "display_data"
    },
    {
     "name": "stdout",
     "output_type": "stream",
     "text": [
      "status\n",
      "ok         0.571429\n",
      "default    0.428571\n",
      "Name: proportion, dtype: float64\n",
      "\n",
      "2000\n"
     ]
    },
    {
     "data": {
      "text/plain": "   assets  debt   status\n1    2000  1000  default\n2       0  1000  default",
      "text/html": "<div>\n<style scoped>\n    .dataframe tbody tr th:only-of-type {\n        vertical-align: middle;\n    }\n\n    .dataframe tbody tr th {\n        vertical-align: top;\n    }\n\n    .dataframe thead th {\n        text-align: right;\n    }\n</style>\n<table border=\"1\" class=\"dataframe\">\n  <thead>\n    <tr style=\"text-align: right;\">\n      <th></th>\n      <th>assets</th>\n      <th>debt</th>\n      <th>status</th>\n    </tr>\n  </thead>\n  <tbody>\n    <tr>\n      <th>1</th>\n      <td>2000</td>\n      <td>1000</td>\n      <td>default</td>\n    </tr>\n    <tr>\n      <th>2</th>\n      <td>0</td>\n      <td>1000</td>\n      <td>default</td>\n    </tr>\n  </tbody>\n</table>\n</div>"
     },
     "metadata": {},
     "output_type": "display_data"
    },
    {
     "name": "stdout",
     "output_type": "stream",
     "text": [
      "status\n",
      "default    1.0\n",
      "Name: proportion, dtype: float64\n"
     ]
    },
    {
     "data": {
      "text/plain": "   assets  debt   status\n0    8000  3000  default\n3    5000  1000       ok\n4    5000  1000       ok\n5    4000  1000       ok\n6    9000   500       ok\n7    3000  2000  default",
      "text/html": "<div>\n<style scoped>\n    .dataframe tbody tr th:only-of-type {\n        vertical-align: middle;\n    }\n\n    .dataframe tbody tr th {\n        vertical-align: top;\n    }\n\n    .dataframe thead th {\n        text-align: right;\n    }\n</style>\n<table border=\"1\" class=\"dataframe\">\n  <thead>\n    <tr style=\"text-align: right;\">\n      <th></th>\n      <th>assets</th>\n      <th>debt</th>\n      <th>status</th>\n    </tr>\n  </thead>\n  <tbody>\n    <tr>\n      <th>0</th>\n      <td>8000</td>\n      <td>3000</td>\n      <td>default</td>\n    </tr>\n    <tr>\n      <th>3</th>\n      <td>5000</td>\n      <td>1000</td>\n      <td>ok</td>\n    </tr>\n    <tr>\n      <th>4</th>\n      <td>5000</td>\n      <td>1000</td>\n      <td>ok</td>\n    </tr>\n    <tr>\n      <th>5</th>\n      <td>4000</td>\n      <td>1000</td>\n      <td>ok</td>\n    </tr>\n    <tr>\n      <th>6</th>\n      <td>9000</td>\n      <td>500</td>\n      <td>ok</td>\n    </tr>\n    <tr>\n      <th>7</th>\n      <td>3000</td>\n      <td>2000</td>\n      <td>default</td>\n    </tr>\n  </tbody>\n</table>\n</div>"
     },
     "metadata": {},
     "output_type": "display_data"
    },
    {
     "name": "stdout",
     "output_type": "stream",
     "text": [
      "status\n",
      "ok         0.666667\n",
      "default    0.333333\n",
      "Name: proportion, dtype: float64\n",
      "\n",
      "3000\n"
     ]
    },
    {
     "data": {
      "text/plain": "   assets  debt   status\n1    2000  1000  default\n2       0  1000  default\n7    3000  2000  default",
      "text/html": "<div>\n<style scoped>\n    .dataframe tbody tr th:only-of-type {\n        vertical-align: middle;\n    }\n\n    .dataframe tbody tr th {\n        vertical-align: top;\n    }\n\n    .dataframe thead th {\n        text-align: right;\n    }\n</style>\n<table border=\"1\" class=\"dataframe\">\n  <thead>\n    <tr style=\"text-align: right;\">\n      <th></th>\n      <th>assets</th>\n      <th>debt</th>\n      <th>status</th>\n    </tr>\n  </thead>\n  <tbody>\n    <tr>\n      <th>1</th>\n      <td>2000</td>\n      <td>1000</td>\n      <td>default</td>\n    </tr>\n    <tr>\n      <th>2</th>\n      <td>0</td>\n      <td>1000</td>\n      <td>default</td>\n    </tr>\n    <tr>\n      <th>7</th>\n      <td>3000</td>\n      <td>2000</td>\n      <td>default</td>\n    </tr>\n  </tbody>\n</table>\n</div>"
     },
     "metadata": {},
     "output_type": "display_data"
    },
    {
     "name": "stdout",
     "output_type": "stream",
     "text": [
      "status\n",
      "default    1.0\n",
      "Name: proportion, dtype: float64\n"
     ]
    },
    {
     "data": {
      "text/plain": "   assets  debt   status\n0    8000  3000  default\n3    5000  1000       ok\n4    5000  1000       ok\n5    4000  1000       ok\n6    9000   500       ok",
      "text/html": "<div>\n<style scoped>\n    .dataframe tbody tr th:only-of-type {\n        vertical-align: middle;\n    }\n\n    .dataframe tbody tr th {\n        vertical-align: top;\n    }\n\n    .dataframe thead th {\n        text-align: right;\n    }\n</style>\n<table border=\"1\" class=\"dataframe\">\n  <thead>\n    <tr style=\"text-align: right;\">\n      <th></th>\n      <th>assets</th>\n      <th>debt</th>\n      <th>status</th>\n    </tr>\n  </thead>\n  <tbody>\n    <tr>\n      <th>0</th>\n      <td>8000</td>\n      <td>3000</td>\n      <td>default</td>\n    </tr>\n    <tr>\n      <th>3</th>\n      <td>5000</td>\n      <td>1000</td>\n      <td>ok</td>\n    </tr>\n    <tr>\n      <th>4</th>\n      <td>5000</td>\n      <td>1000</td>\n      <td>ok</td>\n    </tr>\n    <tr>\n      <th>5</th>\n      <td>4000</td>\n      <td>1000</td>\n      <td>ok</td>\n    </tr>\n    <tr>\n      <th>6</th>\n      <td>9000</td>\n      <td>500</td>\n      <td>ok</td>\n    </tr>\n  </tbody>\n</table>\n</div>"
     },
     "metadata": {},
     "output_type": "display_data"
    },
    {
     "name": "stdout",
     "output_type": "stream",
     "text": [
      "status\n",
      "ok         0.8\n",
      "default    0.2\n",
      "Name: proportion, dtype: float64\n",
      "\n",
      "4000\n"
     ]
    },
    {
     "data": {
      "text/plain": "   assets  debt   status\n1    2000  1000  default\n2       0  1000  default\n5    4000  1000       ok\n7    3000  2000  default",
      "text/html": "<div>\n<style scoped>\n    .dataframe tbody tr th:only-of-type {\n        vertical-align: middle;\n    }\n\n    .dataframe tbody tr th {\n        vertical-align: top;\n    }\n\n    .dataframe thead th {\n        text-align: right;\n    }\n</style>\n<table border=\"1\" class=\"dataframe\">\n  <thead>\n    <tr style=\"text-align: right;\">\n      <th></th>\n      <th>assets</th>\n      <th>debt</th>\n      <th>status</th>\n    </tr>\n  </thead>\n  <tbody>\n    <tr>\n      <th>1</th>\n      <td>2000</td>\n      <td>1000</td>\n      <td>default</td>\n    </tr>\n    <tr>\n      <th>2</th>\n      <td>0</td>\n      <td>1000</td>\n      <td>default</td>\n    </tr>\n    <tr>\n      <th>5</th>\n      <td>4000</td>\n      <td>1000</td>\n      <td>ok</td>\n    </tr>\n    <tr>\n      <th>7</th>\n      <td>3000</td>\n      <td>2000</td>\n      <td>default</td>\n    </tr>\n  </tbody>\n</table>\n</div>"
     },
     "metadata": {},
     "output_type": "display_data"
    },
    {
     "name": "stdout",
     "output_type": "stream",
     "text": [
      "status\n",
      "default    0.75\n",
      "ok         0.25\n",
      "Name: proportion, dtype: float64\n"
     ]
    },
    {
     "data": {
      "text/plain": "   assets  debt   status\n0    8000  3000  default\n3    5000  1000       ok\n4    5000  1000       ok\n6    9000   500       ok",
      "text/html": "<div>\n<style scoped>\n    .dataframe tbody tr th:only-of-type {\n        vertical-align: middle;\n    }\n\n    .dataframe tbody tr th {\n        vertical-align: top;\n    }\n\n    .dataframe thead th {\n        text-align: right;\n    }\n</style>\n<table border=\"1\" class=\"dataframe\">\n  <thead>\n    <tr style=\"text-align: right;\">\n      <th></th>\n      <th>assets</th>\n      <th>debt</th>\n      <th>status</th>\n    </tr>\n  </thead>\n  <tbody>\n    <tr>\n      <th>0</th>\n      <td>8000</td>\n      <td>3000</td>\n      <td>default</td>\n    </tr>\n    <tr>\n      <th>3</th>\n      <td>5000</td>\n      <td>1000</td>\n      <td>ok</td>\n    </tr>\n    <tr>\n      <th>4</th>\n      <td>5000</td>\n      <td>1000</td>\n      <td>ok</td>\n    </tr>\n    <tr>\n      <th>6</th>\n      <td>9000</td>\n      <td>500</td>\n      <td>ok</td>\n    </tr>\n  </tbody>\n</table>\n</div>"
     },
     "metadata": {},
     "output_type": "display_data"
    },
    {
     "name": "stdout",
     "output_type": "stream",
     "text": [
      "status\n",
      "ok         0.75\n",
      "default    0.25\n",
      "Name: proportion, dtype: float64\n",
      "\n",
      "5000\n"
     ]
    },
    {
     "data": {
      "text/plain": "   assets  debt   status\n1    2000  1000  default\n2       0  1000  default\n3    5000  1000       ok\n4    5000  1000       ok\n5    4000  1000       ok\n7    3000  2000  default",
      "text/html": "<div>\n<style scoped>\n    .dataframe tbody tr th:only-of-type {\n        vertical-align: middle;\n    }\n\n    .dataframe tbody tr th {\n        vertical-align: top;\n    }\n\n    .dataframe thead th {\n        text-align: right;\n    }\n</style>\n<table border=\"1\" class=\"dataframe\">\n  <thead>\n    <tr style=\"text-align: right;\">\n      <th></th>\n      <th>assets</th>\n      <th>debt</th>\n      <th>status</th>\n    </tr>\n  </thead>\n  <tbody>\n    <tr>\n      <th>1</th>\n      <td>2000</td>\n      <td>1000</td>\n      <td>default</td>\n    </tr>\n    <tr>\n      <th>2</th>\n      <td>0</td>\n      <td>1000</td>\n      <td>default</td>\n    </tr>\n    <tr>\n      <th>3</th>\n      <td>5000</td>\n      <td>1000</td>\n      <td>ok</td>\n    </tr>\n    <tr>\n      <th>4</th>\n      <td>5000</td>\n      <td>1000</td>\n      <td>ok</td>\n    </tr>\n    <tr>\n      <th>5</th>\n      <td>4000</td>\n      <td>1000</td>\n      <td>ok</td>\n    </tr>\n    <tr>\n      <th>7</th>\n      <td>3000</td>\n      <td>2000</td>\n      <td>default</td>\n    </tr>\n  </tbody>\n</table>\n</div>"
     },
     "metadata": {},
     "output_type": "display_data"
    },
    {
     "name": "stdout",
     "output_type": "stream",
     "text": [
      "status\n",
      "default    0.5\n",
      "ok         0.5\n",
      "Name: proportion, dtype: float64\n"
     ]
    },
    {
     "data": {
      "text/plain": "   assets  debt   status\n0    8000  3000  default\n6    9000   500       ok",
      "text/html": "<div>\n<style scoped>\n    .dataframe tbody tr th:only-of-type {\n        vertical-align: middle;\n    }\n\n    .dataframe tbody tr th {\n        vertical-align: top;\n    }\n\n    .dataframe thead th {\n        text-align: right;\n    }\n</style>\n<table border=\"1\" class=\"dataframe\">\n  <thead>\n    <tr style=\"text-align: right;\">\n      <th></th>\n      <th>assets</th>\n      <th>debt</th>\n      <th>status</th>\n    </tr>\n  </thead>\n  <tbody>\n    <tr>\n      <th>0</th>\n      <td>8000</td>\n      <td>3000</td>\n      <td>default</td>\n    </tr>\n    <tr>\n      <th>6</th>\n      <td>9000</td>\n      <td>500</td>\n      <td>ok</td>\n    </tr>\n  </tbody>\n</table>\n</div>"
     },
     "metadata": {},
     "output_type": "display_data"
    },
    {
     "name": "stdout",
     "output_type": "stream",
     "text": [
      "status\n",
      "default    0.5\n",
      "ok         0.5\n",
      "Name: proportion, dtype: float64\n",
      "\n",
      "8000\n"
     ]
    },
    {
     "data": {
      "text/plain": "   assets  debt   status\n0    8000  3000  default\n1    2000  1000  default\n2       0  1000  default\n3    5000  1000       ok\n4    5000  1000       ok\n5    4000  1000       ok\n7    3000  2000  default",
      "text/html": "<div>\n<style scoped>\n    .dataframe tbody tr th:only-of-type {\n        vertical-align: middle;\n    }\n\n    .dataframe tbody tr th {\n        vertical-align: top;\n    }\n\n    .dataframe thead th {\n        text-align: right;\n    }\n</style>\n<table border=\"1\" class=\"dataframe\">\n  <thead>\n    <tr style=\"text-align: right;\">\n      <th></th>\n      <th>assets</th>\n      <th>debt</th>\n      <th>status</th>\n    </tr>\n  </thead>\n  <tbody>\n    <tr>\n      <th>0</th>\n      <td>8000</td>\n      <td>3000</td>\n      <td>default</td>\n    </tr>\n    <tr>\n      <th>1</th>\n      <td>2000</td>\n      <td>1000</td>\n      <td>default</td>\n    </tr>\n    <tr>\n      <th>2</th>\n      <td>0</td>\n      <td>1000</td>\n      <td>default</td>\n    </tr>\n    <tr>\n      <th>3</th>\n      <td>5000</td>\n      <td>1000</td>\n      <td>ok</td>\n    </tr>\n    <tr>\n      <th>4</th>\n      <td>5000</td>\n      <td>1000</td>\n      <td>ok</td>\n    </tr>\n    <tr>\n      <th>5</th>\n      <td>4000</td>\n      <td>1000</td>\n      <td>ok</td>\n    </tr>\n    <tr>\n      <th>7</th>\n      <td>3000</td>\n      <td>2000</td>\n      <td>default</td>\n    </tr>\n  </tbody>\n</table>\n</div>"
     },
     "metadata": {},
     "output_type": "display_data"
    },
    {
     "name": "stdout",
     "output_type": "stream",
     "text": [
      "status\n",
      "default    0.571429\n",
      "ok         0.428571\n",
      "Name: proportion, dtype: float64\n"
     ]
    },
    {
     "data": {
      "text/plain": "   assets  debt status\n6    9000   500     ok",
      "text/html": "<div>\n<style scoped>\n    .dataframe tbody tr th:only-of-type {\n        vertical-align: middle;\n    }\n\n    .dataframe tbody tr th {\n        vertical-align: top;\n    }\n\n    .dataframe thead th {\n        text-align: right;\n    }\n</style>\n<table border=\"1\" class=\"dataframe\">\n  <thead>\n    <tr style=\"text-align: right;\">\n      <th></th>\n      <th>assets</th>\n      <th>debt</th>\n      <th>status</th>\n    </tr>\n  </thead>\n  <tbody>\n    <tr>\n      <th>6</th>\n      <td>9000</td>\n      <td>500</td>\n      <td>ok</td>\n    </tr>\n  </tbody>\n</table>\n</div>"
     },
     "metadata": {},
     "output_type": "display_data"
    },
    {
     "name": "stdout",
     "output_type": "stream",
     "text": [
      "status\n",
      "ok    1.0\n",
      "Name: proportion, dtype: float64\n",
      "\n",
      "#####################\n",
      "#####################\n",
      "debt\n",
      "500\n"
     ]
    },
    {
     "data": {
      "text/plain": "   assets  debt status\n6    9000   500     ok",
      "text/html": "<div>\n<style scoped>\n    .dataframe tbody tr th:only-of-type {\n        vertical-align: middle;\n    }\n\n    .dataframe tbody tr th {\n        vertical-align: top;\n    }\n\n    .dataframe thead th {\n        text-align: right;\n    }\n</style>\n<table border=\"1\" class=\"dataframe\">\n  <thead>\n    <tr style=\"text-align: right;\">\n      <th></th>\n      <th>assets</th>\n      <th>debt</th>\n      <th>status</th>\n    </tr>\n  </thead>\n  <tbody>\n    <tr>\n      <th>6</th>\n      <td>9000</td>\n      <td>500</td>\n      <td>ok</td>\n    </tr>\n  </tbody>\n</table>\n</div>"
     },
     "metadata": {},
     "output_type": "display_data"
    },
    {
     "name": "stdout",
     "output_type": "stream",
     "text": [
      "status\n",
      "ok    1.0\n",
      "Name: proportion, dtype: float64\n"
     ]
    },
    {
     "data": {
      "text/plain": "   assets  debt   status\n0    8000  3000  default\n1    2000  1000  default\n2       0  1000  default\n3    5000  1000       ok\n4    5000  1000       ok\n5    4000  1000       ok\n7    3000  2000  default",
      "text/html": "<div>\n<style scoped>\n    .dataframe tbody tr th:only-of-type {\n        vertical-align: middle;\n    }\n\n    .dataframe tbody tr th {\n        vertical-align: top;\n    }\n\n    .dataframe thead th {\n        text-align: right;\n    }\n</style>\n<table border=\"1\" class=\"dataframe\">\n  <thead>\n    <tr style=\"text-align: right;\">\n      <th></th>\n      <th>assets</th>\n      <th>debt</th>\n      <th>status</th>\n    </tr>\n  </thead>\n  <tbody>\n    <tr>\n      <th>0</th>\n      <td>8000</td>\n      <td>3000</td>\n      <td>default</td>\n    </tr>\n    <tr>\n      <th>1</th>\n      <td>2000</td>\n      <td>1000</td>\n      <td>default</td>\n    </tr>\n    <tr>\n      <th>2</th>\n      <td>0</td>\n      <td>1000</td>\n      <td>default</td>\n    </tr>\n    <tr>\n      <th>3</th>\n      <td>5000</td>\n      <td>1000</td>\n      <td>ok</td>\n    </tr>\n    <tr>\n      <th>4</th>\n      <td>5000</td>\n      <td>1000</td>\n      <td>ok</td>\n    </tr>\n    <tr>\n      <th>5</th>\n      <td>4000</td>\n      <td>1000</td>\n      <td>ok</td>\n    </tr>\n    <tr>\n      <th>7</th>\n      <td>3000</td>\n      <td>2000</td>\n      <td>default</td>\n    </tr>\n  </tbody>\n</table>\n</div>"
     },
     "metadata": {},
     "output_type": "display_data"
    },
    {
     "name": "stdout",
     "output_type": "stream",
     "text": [
      "status\n",
      "default    0.571429\n",
      "ok         0.428571\n",
      "Name: proportion, dtype: float64\n",
      "\n",
      "1000\n"
     ]
    },
    {
     "data": {
      "text/plain": "   assets  debt   status\n1    2000  1000  default\n2       0  1000  default\n3    5000  1000       ok\n4    5000  1000       ok\n5    4000  1000       ok\n6    9000   500       ok",
      "text/html": "<div>\n<style scoped>\n    .dataframe tbody tr th:only-of-type {\n        vertical-align: middle;\n    }\n\n    .dataframe tbody tr th {\n        vertical-align: top;\n    }\n\n    .dataframe thead th {\n        text-align: right;\n    }\n</style>\n<table border=\"1\" class=\"dataframe\">\n  <thead>\n    <tr style=\"text-align: right;\">\n      <th></th>\n      <th>assets</th>\n      <th>debt</th>\n      <th>status</th>\n    </tr>\n  </thead>\n  <tbody>\n    <tr>\n      <th>1</th>\n      <td>2000</td>\n      <td>1000</td>\n      <td>default</td>\n    </tr>\n    <tr>\n      <th>2</th>\n      <td>0</td>\n      <td>1000</td>\n      <td>default</td>\n    </tr>\n    <tr>\n      <th>3</th>\n      <td>5000</td>\n      <td>1000</td>\n      <td>ok</td>\n    </tr>\n    <tr>\n      <th>4</th>\n      <td>5000</td>\n      <td>1000</td>\n      <td>ok</td>\n    </tr>\n    <tr>\n      <th>5</th>\n      <td>4000</td>\n      <td>1000</td>\n      <td>ok</td>\n    </tr>\n    <tr>\n      <th>6</th>\n      <td>9000</td>\n      <td>500</td>\n      <td>ok</td>\n    </tr>\n  </tbody>\n</table>\n</div>"
     },
     "metadata": {},
     "output_type": "display_data"
    },
    {
     "name": "stdout",
     "output_type": "stream",
     "text": [
      "status\n",
      "ok         0.666667\n",
      "default    0.333333\n",
      "Name: proportion, dtype: float64\n"
     ]
    },
    {
     "data": {
      "text/plain": "   assets  debt   status\n0    8000  3000  default\n7    3000  2000  default",
      "text/html": "<div>\n<style scoped>\n    .dataframe tbody tr th:only-of-type {\n        vertical-align: middle;\n    }\n\n    .dataframe tbody tr th {\n        vertical-align: top;\n    }\n\n    .dataframe thead th {\n        text-align: right;\n    }\n</style>\n<table border=\"1\" class=\"dataframe\">\n  <thead>\n    <tr style=\"text-align: right;\">\n      <th></th>\n      <th>assets</th>\n      <th>debt</th>\n      <th>status</th>\n    </tr>\n  </thead>\n  <tbody>\n    <tr>\n      <th>0</th>\n      <td>8000</td>\n      <td>3000</td>\n      <td>default</td>\n    </tr>\n    <tr>\n      <th>7</th>\n      <td>3000</td>\n      <td>2000</td>\n      <td>default</td>\n    </tr>\n  </tbody>\n</table>\n</div>"
     },
     "metadata": {},
     "output_type": "display_data"
    },
    {
     "name": "stdout",
     "output_type": "stream",
     "text": [
      "status\n",
      "default    1.0\n",
      "Name: proportion, dtype: float64\n",
      "\n",
      "2000\n"
     ]
    },
    {
     "data": {
      "text/plain": "   assets  debt   status\n1    2000  1000  default\n2       0  1000  default\n3    5000  1000       ok\n4    5000  1000       ok\n5    4000  1000       ok\n6    9000   500       ok\n7    3000  2000  default",
      "text/html": "<div>\n<style scoped>\n    .dataframe tbody tr th:only-of-type {\n        vertical-align: middle;\n    }\n\n    .dataframe tbody tr th {\n        vertical-align: top;\n    }\n\n    .dataframe thead th {\n        text-align: right;\n    }\n</style>\n<table border=\"1\" class=\"dataframe\">\n  <thead>\n    <tr style=\"text-align: right;\">\n      <th></th>\n      <th>assets</th>\n      <th>debt</th>\n      <th>status</th>\n    </tr>\n  </thead>\n  <tbody>\n    <tr>\n      <th>1</th>\n      <td>2000</td>\n      <td>1000</td>\n      <td>default</td>\n    </tr>\n    <tr>\n      <th>2</th>\n      <td>0</td>\n      <td>1000</td>\n      <td>default</td>\n    </tr>\n    <tr>\n      <th>3</th>\n      <td>5000</td>\n      <td>1000</td>\n      <td>ok</td>\n    </tr>\n    <tr>\n      <th>4</th>\n      <td>5000</td>\n      <td>1000</td>\n      <td>ok</td>\n    </tr>\n    <tr>\n      <th>5</th>\n      <td>4000</td>\n      <td>1000</td>\n      <td>ok</td>\n    </tr>\n    <tr>\n      <th>6</th>\n      <td>9000</td>\n      <td>500</td>\n      <td>ok</td>\n    </tr>\n    <tr>\n      <th>7</th>\n      <td>3000</td>\n      <td>2000</td>\n      <td>default</td>\n    </tr>\n  </tbody>\n</table>\n</div>"
     },
     "metadata": {},
     "output_type": "display_data"
    },
    {
     "name": "stdout",
     "output_type": "stream",
     "text": [
      "status\n",
      "ok         0.571429\n",
      "default    0.428571\n",
      "Name: proportion, dtype: float64\n"
     ]
    },
    {
     "data": {
      "text/plain": "   assets  debt   status\n0    8000  3000  default",
      "text/html": "<div>\n<style scoped>\n    .dataframe tbody tr th:only-of-type {\n        vertical-align: middle;\n    }\n\n    .dataframe tbody tr th {\n        vertical-align: top;\n    }\n\n    .dataframe thead th {\n        text-align: right;\n    }\n</style>\n<table border=\"1\" class=\"dataframe\">\n  <thead>\n    <tr style=\"text-align: right;\">\n      <th></th>\n      <th>assets</th>\n      <th>debt</th>\n      <th>status</th>\n    </tr>\n  </thead>\n  <tbody>\n    <tr>\n      <th>0</th>\n      <td>8000</td>\n      <td>3000</td>\n      <td>default</td>\n    </tr>\n  </tbody>\n</table>\n</div>"
     },
     "metadata": {},
     "output_type": "display_data"
    },
    {
     "name": "stdout",
     "output_type": "stream",
     "text": [
      "status\n",
      "default    1.0\n",
      "Name: proportion, dtype: float64\n",
      "\n",
      "#####################\n"
     ]
    }
   ],
   "source": [
    "for feature, Ts in thresholds.items():\n",
    "    print('#####################')\n",
    "    print(feature)\n",
    "    for T in Ts:\n",
    "        print(T)\n",
    "        df_left = df_example[df_example[feature] <= T]\n",
    "        df_right = df_example[df_example[feature] > T]\n",
    "\n",
    "        display(df_left)\n",
    "        print(df_left.status.value_counts(normalize=True))\n",
    "        display(df_right)\n",
    "        print(df_right.status.value_counts(normalize=True))\n",
    "\n",
    "        print()\n",
    "    print('#####################')"
   ],
   "metadata": {
    "collapsed": false,
    "ExecuteTime": {
     "end_time": "2024-01-21T17:20:05.525882558Z",
     "start_time": "2024-01-21T17:20:05.277032346Z"
    }
   },
   "id": "5ab4a05d44159cdb",
   "execution_count": 46
  },
  {
   "cell_type": "markdown",
   "source": [
    "## 6.5 Decision trees parameter tuning\n",
    "* selecting `max_depth`\n",
    "* selecting `min_samples_leaf`"
   ],
   "metadata": {
    "collapsed": false
   },
   "id": "dab9dbac2dabbe8c"
  },
  {
   "cell_type": "code",
   "outputs": [
    {
     "name": "stdout",
     "output_type": "stream",
     "text": [
      "   1 -> 0.606\n",
      "   2 -> 0.669\n",
      "   3 -> 0.739\n",
      "   4 -> 0.761\n",
      "   5 -> 0.767\n",
      "   6 -> 0.758\n",
      "  10 -> 0.710\n",
      "  15 -> 0.674\n",
      "  20 -> 0.653\n",
      "None -> 0.651\n"
     ]
    }
   ],
   "source": [
    "for depth in [1, 2, 3, 4, 5, 6, 10, 15, 20, None]:\n",
    "    dt = DecisionTreeClassifier(max_depth=depth)\n",
    "    dt.fit(X=X_train, y=y_train)\n",
    "    \n",
    "    y_pred = dt.predict_proba(X=X_val)[:,1]\n",
    "    auc = roc_auc_score(y_true=y_val, y_score=y_pred)\n",
    "    \n",
    "    print('%4s -> %.3f' % (depth, auc))"
   ],
   "metadata": {
    "collapsed": false,
    "ExecuteTime": {
     "end_time": "2024-01-21T17:52:55.117783220Z",
     "start_time": "2024-01-21T17:52:54.994209954Z"
    }
   },
   "id": "cbf146f2150aca05",
   "execution_count": 47
  },
  {
   "cell_type": "markdown",
   "source": [
    "Les meilleurs résultats sont obtenu avec un max_depth de 4, 5, 6"
   ],
   "metadata": {
    "collapsed": false
   },
   "id": "4b53c3b83bb3c490"
  },
  {
   "cell_type": "code",
   "outputs": [
    {
     "data": {
      "text/plain": "    max_depth  min_samples_leaf       auc\n22          6                15  0.785319\n21          6                10  0.777803\n24          6               100  0.776434\n23          6                20  0.773982\n14          5                20  0.773537\n13          5                15  0.772723\n25          6               200  0.768267\n11          5                 5  0.767755\n9           5                 1  0.766496\n10          5                 2  0.766496\n19          6                 2  0.766238\n4           4                15  0.763726\n15          5               100  0.763384\n12          5                10  0.762276\n18          6                 1  0.761949\n0           4                 1  0.761283\n1           4                 2  0.761283\n3           4                10  0.761283\n2           4                 5  0.761283\n5           4                20  0.760910\n20          6                 5  0.759321\n16          5               200  0.759073\n6           4               100  0.755937\n7           4               200  0.747260\n17          5               500  0.679842\n8           4               500  0.679842\n26          6               500  0.679842",
      "text/html": "<div>\n<style scoped>\n    .dataframe tbody tr th:only-of-type {\n        vertical-align: middle;\n    }\n\n    .dataframe tbody tr th {\n        vertical-align: top;\n    }\n\n    .dataframe thead th {\n        text-align: right;\n    }\n</style>\n<table border=\"1\" class=\"dataframe\">\n  <thead>\n    <tr style=\"text-align: right;\">\n      <th></th>\n      <th>max_depth</th>\n      <th>min_samples_leaf</th>\n      <th>auc</th>\n    </tr>\n  </thead>\n  <tbody>\n    <tr>\n      <th>22</th>\n      <td>6</td>\n      <td>15</td>\n      <td>0.785319</td>\n    </tr>\n    <tr>\n      <th>21</th>\n      <td>6</td>\n      <td>10</td>\n      <td>0.777803</td>\n    </tr>\n    <tr>\n      <th>24</th>\n      <td>6</td>\n      <td>100</td>\n      <td>0.776434</td>\n    </tr>\n    <tr>\n      <th>23</th>\n      <td>6</td>\n      <td>20</td>\n      <td>0.773982</td>\n    </tr>\n    <tr>\n      <th>14</th>\n      <td>5</td>\n      <td>20</td>\n      <td>0.773537</td>\n    </tr>\n    <tr>\n      <th>13</th>\n      <td>5</td>\n      <td>15</td>\n      <td>0.772723</td>\n    </tr>\n    <tr>\n      <th>25</th>\n      <td>6</td>\n      <td>200</td>\n      <td>0.768267</td>\n    </tr>\n    <tr>\n      <th>11</th>\n      <td>5</td>\n      <td>5</td>\n      <td>0.767755</td>\n    </tr>\n    <tr>\n      <th>9</th>\n      <td>5</td>\n      <td>1</td>\n      <td>0.766496</td>\n    </tr>\n    <tr>\n      <th>10</th>\n      <td>5</td>\n      <td>2</td>\n      <td>0.766496</td>\n    </tr>\n    <tr>\n      <th>19</th>\n      <td>6</td>\n      <td>2</td>\n      <td>0.766238</td>\n    </tr>\n    <tr>\n      <th>4</th>\n      <td>4</td>\n      <td>15</td>\n      <td>0.763726</td>\n    </tr>\n    <tr>\n      <th>15</th>\n      <td>5</td>\n      <td>100</td>\n      <td>0.763384</td>\n    </tr>\n    <tr>\n      <th>12</th>\n      <td>5</td>\n      <td>10</td>\n      <td>0.762276</td>\n    </tr>\n    <tr>\n      <th>18</th>\n      <td>6</td>\n      <td>1</td>\n      <td>0.761949</td>\n    </tr>\n    <tr>\n      <th>0</th>\n      <td>4</td>\n      <td>1</td>\n      <td>0.761283</td>\n    </tr>\n    <tr>\n      <th>1</th>\n      <td>4</td>\n      <td>2</td>\n      <td>0.761283</td>\n    </tr>\n    <tr>\n      <th>3</th>\n      <td>4</td>\n      <td>10</td>\n      <td>0.761283</td>\n    </tr>\n    <tr>\n      <th>2</th>\n      <td>4</td>\n      <td>5</td>\n      <td>0.761283</td>\n    </tr>\n    <tr>\n      <th>5</th>\n      <td>4</td>\n      <td>20</td>\n      <td>0.760910</td>\n    </tr>\n    <tr>\n      <th>20</th>\n      <td>6</td>\n      <td>5</td>\n      <td>0.759321</td>\n    </tr>\n    <tr>\n      <th>16</th>\n      <td>5</td>\n      <td>200</td>\n      <td>0.759073</td>\n    </tr>\n    <tr>\n      <th>6</th>\n      <td>4</td>\n      <td>100</td>\n      <td>0.755937</td>\n    </tr>\n    <tr>\n      <th>7</th>\n      <td>4</td>\n      <td>200</td>\n      <td>0.747260</td>\n    </tr>\n    <tr>\n      <th>17</th>\n      <td>5</td>\n      <td>500</td>\n      <td>0.679842</td>\n    </tr>\n    <tr>\n      <th>8</th>\n      <td>4</td>\n      <td>500</td>\n      <td>0.679842</td>\n    </tr>\n    <tr>\n      <th>26</th>\n      <td>6</td>\n      <td>500</td>\n      <td>0.679842</td>\n    </tr>\n  </tbody>\n</table>\n</div>"
     },
     "execution_count": 62,
     "metadata": {},
     "output_type": "execute_result"
    }
   ],
   "source": [
    "scores = []\n",
    "for depth in [4, 5, 6]:\n",
    "    for sample in [1, 2, 5, 10, 15, 20, 100, 200, 500]:\n",
    "        dt = DecisionTreeClassifier(max_depth=depth, min_samples_leaf=sample)\n",
    "        dt.fit(X=X_train, y=y_train)\n",
    "        \n",
    "        y_pred = dt.predict_proba(X=X_val)[:,1]\n",
    "        auc = roc_auc_score(y_true=y_val, y_score=y_pred)\n",
    "        scores.append([depth, sample, auc])\n",
    "        \n",
    "df_scores = pd.DataFrame(data=scores, columns = ['max_depth', 'min_samples_leaf', 'auc'])\n",
    "df_scores.sort_values(by='auc', ascending=False)"
   ],
   "metadata": {
    "collapsed": false,
    "ExecuteTime": {
     "end_time": "2024-01-21T18:20:02.873083616Z",
     "start_time": "2024-01-21T18:20:02.672387782Z"
    }
   },
   "id": "7ed82ef898d7e4e6",
   "execution_count": 62
  },
  {
   "cell_type": "code",
   "outputs": [
    {
     "data": {
      "text/plain": "max_depth             4      5      6\nmin_samples_leaf                     \n1                 0.761  0.766  0.762\n2                 0.761  0.766  0.766\n5                 0.761  0.768  0.759\n10                0.761  0.762  0.778\n15                0.764  0.773  0.785\n20                0.761  0.774  0.774\n100               0.756  0.763  0.776\n200               0.747  0.759  0.768\n500               0.680  0.680  0.680",
      "text/html": "<div>\n<style scoped>\n    .dataframe tbody tr th:only-of-type {\n        vertical-align: middle;\n    }\n\n    .dataframe tbody tr th {\n        vertical-align: top;\n    }\n\n    .dataframe thead th {\n        text-align: right;\n    }\n</style>\n<table border=\"1\" class=\"dataframe\">\n  <thead>\n    <tr style=\"text-align: right;\">\n      <th>max_depth</th>\n      <th>4</th>\n      <th>5</th>\n      <th>6</th>\n    </tr>\n    <tr>\n      <th>min_samples_leaf</th>\n      <th></th>\n      <th></th>\n      <th></th>\n    </tr>\n  </thead>\n  <tbody>\n    <tr>\n      <th>1</th>\n      <td>0.761</td>\n      <td>0.766</td>\n      <td>0.762</td>\n    </tr>\n    <tr>\n      <th>2</th>\n      <td>0.761</td>\n      <td>0.766</td>\n      <td>0.766</td>\n    </tr>\n    <tr>\n      <th>5</th>\n      <td>0.761</td>\n      <td>0.768</td>\n      <td>0.759</td>\n    </tr>\n    <tr>\n      <th>10</th>\n      <td>0.761</td>\n      <td>0.762</td>\n      <td>0.778</td>\n    </tr>\n    <tr>\n      <th>15</th>\n      <td>0.764</td>\n      <td>0.773</td>\n      <td>0.785</td>\n    </tr>\n    <tr>\n      <th>20</th>\n      <td>0.761</td>\n      <td>0.774</td>\n      <td>0.774</td>\n    </tr>\n    <tr>\n      <th>100</th>\n      <td>0.756</td>\n      <td>0.763</td>\n      <td>0.776</td>\n    </tr>\n    <tr>\n      <th>200</th>\n      <td>0.747</td>\n      <td>0.759</td>\n      <td>0.768</td>\n    </tr>\n    <tr>\n      <th>500</th>\n      <td>0.680</td>\n      <td>0.680</td>\n      <td>0.680</td>\n    </tr>\n  </tbody>\n</table>\n</div>"
     },
     "execution_count": 64,
     "metadata": {},
     "output_type": "execute_result"
    }
   ],
   "source": [
    "df_scores_pivot = df_scores.pivot(index='min_samples_leaf', columns=['max_depth'], values='auc')\n",
    "df_scores_pivot.round(3)"
   ],
   "metadata": {
    "collapsed": false,
    "ExecuteTime": {
     "end_time": "2024-01-21T18:20:26.165917495Z",
     "start_time": "2024-01-21T18:20:26.108788410Z"
    }
   },
   "id": "3774a723e8c951e4",
   "execution_count": 64
  },
  {
   "cell_type": "code",
   "outputs": [
    {
     "data": {
      "text/plain": "<Axes: xlabel='max_depth', ylabel='min_samples_leaf'>"
     },
     "execution_count": 65,
     "metadata": {},
     "output_type": "execute_result"
    },
    {
     "data": {
      "text/plain": "<Figure size 640x480 with 2 Axes>",
      "image/png": "[encoded data removed]"
     },
     "metadata": {},
     "output_type": "display_data"
    }
   ],
   "source": [
    "sns.heatmap(df_scores_pivot, annot=True, fmt='.3f')"
   ],
   "metadata": {
    "collapsed": false,
    "ExecuteTime": {
     "end_time": "2024-01-21T18:20:27.171074716Z",
     "start_time": "2024-01-21T18:20:26.919821655Z"
    }
   },
   "id": "72c536d4e92f8826",
   "execution_count": 65
  },
  {
   "cell_type": "code",
   "outputs": [
    {
     "data": {
      "text/plain": "DecisionTreeClassifier(max_depth=6, min_samples_leaf=15)",
      "text/html": "<style>#sk-container-id-3 {color: black;}#sk-container-id-3 pre{padding: 0;}#sk-container-id-3 div.sk-toggleable {background-color: white;}#sk-container-id-3 label.sk-toggleable__label {cursor: pointer;display: block;width: 100%;margin-bottom: 0;padding: 0.3em;box-sizing: border-box;text-align: center;}#sk-container-id-3 label.sk-toggleable__label-arrow:before {content: \"▸\";float: left;margin-right: 0.25em;color: #696969;}#sk-container-id-3 label.sk-toggleable__label-arrow:hover:before {color: black;}#sk-container-id-3 div.sk-estimator:hover label.sk-toggleable__label-arrow:before {color: black;}#sk-container-id-3 div.sk-toggleable__content {max-height: 0;max-width: 0;overflow: hidden;text-align: left;background-color: #f0f8ff;}#sk-container-id-3 div.sk-toggleable__content pre {margin: 0.2em;color: black;border-radius: 0.25em;background-color: #f0f8ff;}#sk-container-id-3 input.sk-toggleable__control:checked~div.sk-toggleable__content {max-height: 200px;max-width: 100%;overflow: auto;}#sk-container-id-3 input.sk-toggleable__control:checked~label.sk-toggleable__label-arrow:before {content: \"▾\";}#sk-container-id-3 div.sk-estimator input.sk-toggleable__control:checked~label.sk-toggleable__label {background-color: #d4ebff;}#sk-container-id-3 div.sk-label input.sk-toggleable__control:checked~label.sk-toggleable__label {background-color: #d4ebff;}#sk-container-id-3 input.sk-hidden--visually {border: 0;clip: rect(1px 1px 1px 1px);clip: rect(1px, 1px, 1px, 1px);height: 1px;margin: -1px;overflow: hidden;padding: 0;position: absolute;width: 1px;}#sk-container-id-3 div.sk-estimator {font-family: monospace;background-color: #f0f8ff;border: 1px dotted black;border-radius: 0.25em;box-sizing: border-box;margin-bottom: 0.5em;}#sk-container-id-3 div.sk-estimator:hover {background-color: #d4ebff;}#sk-container-id-3 div.sk-parallel-item::after {content: \"\";width: 100%;border-bottom: 1px solid gray;flex-grow: 1;}#sk-container-id-3 div.sk-label:hover label.sk-toggleable__label {background-color: #d4ebff;}#sk-container-id-3 div.sk-serial::before {content: \"\";position: absolute;border-left: 1px solid gray;box-sizing: border-box;top: 0;bottom: 0;left: 50%;z-index: 0;}#sk-container-id-3 div.sk-serial {display: flex;flex-direction: column;align-items: center;background-color: white;padding-right: 0.2em;padding-left: 0.2em;position: relative;}#sk-container-id-3 div.sk-item {position: relative;z-index: 1;}#sk-container-id-3 div.sk-parallel {display: flex;align-items: stretch;justify-content: center;background-color: white;position: relative;}#sk-container-id-3 div.sk-item::before, #sk-container-id-3 div.sk-parallel-item::before {content: \"\";position: absolute;border-left: 1px solid gray;box-sizing: border-box;top: 0;bottom: 0;left: 50%;z-index: -1;}#sk-container-id-3 div.sk-parallel-item {display: flex;flex-direction: column;z-index: 1;position: relative;background-color: white;}#sk-container-id-3 div.sk-parallel-item:first-child::after {align-self: flex-end;width: 50%;}#sk-container-id-3 div.sk-parallel-item:last-child::after {align-self: flex-start;width: 50%;}#sk-container-id-3 div.sk-parallel-item:only-child::after {width: 0;}#sk-container-id-3 div.sk-dashed-wrapped {border: 1px dashed gray;margin: 0 0.4em 0.5em 0.4em;box-sizing: border-box;padding-bottom: 0.4em;background-color: white;}#sk-container-id-3 div.sk-label label {font-family: monospace;font-weight: bold;display: inline-block;line-height: 1.2em;}#sk-container-id-3 div.sk-label-container {text-align: center;}#sk-container-id-3 div.sk-container {/* jupyter's `normalize.less` sets `[hidden] { display: none; }` but bootstrap.min.css set `[hidden] { display: none !important; }` so we also need the `!important` here to be able to override the default hidden behavior on the sphinx rendered scikit-learn.org. See: https://github.com/scikit-learn/scikit-learn/issues/21755 */display: inline-block !important;position: relative;}#sk-container-id-3 div.sk-text-repr-fallback {display: none;}</style><div id=\"sk-container-id-3\" class=\"sk-top-container\"><div class=\"sk-text-repr-fallback\"><pre>DecisionTreeClassifier(max_depth=6, min_samples_leaf=15)</pre><b>In a Jupyter environment, please rerun this cell to show the HTML representation or trust the notebook. <br />On GitHub, the HTML representation is unable to render, please try loading this page with nbviewer.org.</b></div><div class=\"sk-container\" hidden><div class=\"sk-item\"><div class=\"sk-estimator sk-toggleable\"><input class=\"sk-toggleable__control sk-hidden--visually\" id=\"sk-estimator-id-3\" type=\"checkbox\" checked><label for=\"sk-estimator-id-3\" class=\"sk-toggleable__label sk-toggleable__label-arrow\">DecisionTreeClassifier</label><div class=\"sk-toggleable__content\"><pre>DecisionTreeClassifier(max_depth=6, min_samples_leaf=15)</pre></div></div></div></div></div>"
     },
     "execution_count": 66,
     "metadata": {},
     "output_type": "execute_result"
    }
   ],
   "source": [
    "dt = DecisionTreeClassifier(max_depth=6, min_samples_leaf=15)\n",
    "dt.fit(X=X_train, y=y_train)"
   ],
   "metadata": {
    "collapsed": false,
    "ExecuteTime": {
     "end_time": "2024-01-21T18:21:24.293266502Z",
     "start_time": "2024-01-21T18:21:24.233693805Z"
    }
   },
   "id": "b409f1d9a4aea463",
   "execution_count": 66
  },
  {
   "cell_type": "code",
   "outputs": [
    {
     "name": "stdout",
     "output_type": "stream",
     "text": [
      "|--- records=no_rec <= 0.50\n",
      "|   |--- seniority <= 6.50\n",
      "|   |   |--- amount <= 862.50\n",
      "|   |   |   |--- price <= 925.00\n",
      "|   |   |   |   |--- income <= 117.50\n",
      "|   |   |   |   |   |--- class: 1\n",
      "|   |   |   |   |--- income >  117.50\n",
      "|   |   |   |   |   |--- class: 1\n",
      "|   |   |   |--- price >  925.00\n",
      "|   |   |   |   |--- price <= 1382.00\n",
      "|   |   |   |   |   |--- class: 0\n",
      "|   |   |   |   |--- price >  1382.00\n",
      "|   |   |   |   |   |--- class: 0\n",
      "|   |   |--- amount >  862.50\n",
      "|   |   |   |--- assets <= 8250.00\n",
      "|   |   |   |   |--- job=fixed <= 0.50\n",
      "|   |   |   |   |   |--- assets <= 3425.00\n",
      "|   |   |   |   |   |   |--- class: 1\n",
      "|   |   |   |   |   |--- assets >  3425.00\n",
      "|   |   |   |   |   |   |--- class: 1\n",
      "|   |   |   |   |--- job=fixed >  0.50\n",
      "|   |   |   |   |   |--- age <= 31.50\n",
      "|   |   |   |   |   |   |--- class: 1\n",
      "|   |   |   |   |   |--- age >  31.50\n",
      "|   |   |   |   |   |   |--- class: 1\n",
      "|   |   |   |--- assets >  8250.00\n",
      "|   |   |   |   |--- income <= 132.50\n",
      "|   |   |   |   |   |--- class: 1\n",
      "|   |   |   |   |--- income >  132.50\n",
      "|   |   |   |   |   |--- class: 0\n",
      "|   |--- seniority >  6.50\n",
      "|   |   |--- income <= 103.50\n",
      "|   |   |   |--- assets <= 4500.00\n",
      "|   |   |   |   |--- time <= 54.00\n",
      "|   |   |   |   |   |--- class: 1\n",
      "|   |   |   |   |--- time >  54.00\n",
      "|   |   |   |   |   |--- class: 1\n",
      "|   |   |   |--- assets >  4500.00\n",
      "|   |   |   |   |--- class: 0\n",
      "|   |   |--- income >  103.50\n",
      "|   |   |   |--- time <= 33.00\n",
      "|   |   |   |   |--- class: 0\n",
      "|   |   |   |--- time >  33.00\n",
      "|   |   |   |   |--- seniority <= 11.50\n",
      "|   |   |   |   |   |--- age <= 37.50\n",
      "|   |   |   |   |   |   |--- class: 1\n",
      "|   |   |   |   |   |--- age >  37.50\n",
      "|   |   |   |   |   |   |--- class: 0\n",
      "|   |   |   |   |--- seniority >  11.50\n",
      "|   |   |   |   |   |--- assets <= 7250.00\n",
      "|   |   |   |   |   |   |--- class: 0\n",
      "|   |   |   |   |   |--- assets >  7250.00\n",
      "|   |   |   |   |   |   |--- class: 0\n",
      "|--- records=no_rec >  0.50\n",
      "|   |--- job=partime <= 0.50\n",
      "|   |   |--- income <= 74.50\n",
      "|   |   |   |--- assets <= 4250.00\n",
      "|   |   |   |   |--- income <= 20.00\n",
      "|   |   |   |   |   |--- seniority <= 1.50\n",
      "|   |   |   |   |   |   |--- class: 1\n",
      "|   |   |   |   |   |--- seniority >  1.50\n",
      "|   |   |   |   |   |   |--- class: 1\n",
      "|   |   |   |   |--- income >  20.00\n",
      "|   |   |   |   |   |--- expenses <= 71.00\n",
      "|   |   |   |   |   |   |--- class: 0\n",
      "|   |   |   |   |   |--- expenses >  71.00\n",
      "|   |   |   |   |   |   |--- class: 1\n",
      "|   |   |   |--- assets >  4250.00\n",
      "|   |   |   |   |--- debt <= 1600.00\n",
      "|   |   |   |   |   |--- seniority <= 2.50\n",
      "|   |   |   |   |   |   |--- class: 0\n",
      "|   |   |   |   |   |--- seniority >  2.50\n",
      "|   |   |   |   |   |   |--- class: 0\n",
      "|   |   |   |   |--- debt >  1600.00\n",
      "|   |   |   |   |   |--- class: 1\n",
      "|   |   |--- income >  74.50\n",
      "|   |   |   |--- seniority <= 5.50\n",
      "|   |   |   |   |--- amount <= 1330.00\n",
      "|   |   |   |   |   |--- assets <= 3326.00\n",
      "|   |   |   |   |   |   |--- class: 0\n",
      "|   |   |   |   |   |--- assets >  3326.00\n",
      "|   |   |   |   |   |   |--- class: 0\n",
      "|   |   |   |   |--- amount >  1330.00\n",
      "|   |   |   |   |   |--- assets <= 3750.00\n",
      "|   |   |   |   |   |   |--- class: 1\n",
      "|   |   |   |   |   |--- assets >  3750.00\n",
      "|   |   |   |   |   |   |--- class: 0\n",
      "|   |   |   |--- seniority >  5.50\n",
      "|   |   |   |   |--- income <= 114.50\n",
      "|   |   |   |   |   |--- expenses <= 84.00\n",
      "|   |   |   |   |   |   |--- class: 0\n",
      "|   |   |   |   |   |--- expenses >  84.00\n",
      "|   |   |   |   |   |   |--- class: 0\n",
      "|   |   |   |   |--- income >  114.50\n",
      "|   |   |   |   |   |--- amount <= 1188.50\n",
      "|   |   |   |   |   |   |--- class: 0\n",
      "|   |   |   |   |   |--- amount >  1188.50\n",
      "|   |   |   |   |   |   |--- class: 0\n",
      "|   |--- job=partime >  0.50\n",
      "|   |   |--- assets <= 7250.00\n",
      "|   |   |   |--- time <= 27.00\n",
      "|   |   |   |   |--- price <= 909.50\n",
      "|   |   |   |   |   |--- class: 1\n",
      "|   |   |   |   |--- price >  909.50\n",
      "|   |   |   |   |   |--- class: 0\n",
      "|   |   |   |--- time >  27.00\n",
      "|   |   |   |   |--- age <= 34.50\n",
      "|   |   |   |   |   |--- price <= 1049.00\n",
      "|   |   |   |   |   |   |--- class: 1\n",
      "|   |   |   |   |   |--- price >  1049.00\n",
      "|   |   |   |   |   |   |--- class: 1\n",
      "|   |   |   |   |--- age >  34.50\n",
      "|   |   |   |   |   |--- assets <= 2750.00\n",
      "|   |   |   |   |   |   |--- class: 1\n",
      "|   |   |   |   |   |--- assets >  2750.00\n",
      "|   |   |   |   |   |   |--- class: 1\n",
      "|   |   |--- assets >  7250.00\n",
      "|   |   |   |--- class: 0\n"
     ]
    }
   ],
   "source": [
    "print(export_text(dt, feature_names=list(dv.get_feature_names_out())))"
   ],
   "metadata": {
    "collapsed": false,
    "ExecuteTime": {
     "end_time": "2024-01-21T18:22:09.987693081Z",
     "start_time": "2024-01-21T18:22:09.914748372Z"
    }
   },
   "id": "de6c27c9a7eaaf8a",
   "execution_count": 67
  },
  {
   "cell_type": "markdown",
   "source": [
    "## 6.6 Ensembles and random forest\n",
    "* Board of experts\n",
    "* Ensembling models\n",
    "* Random forest - ensembling decision trees\n",
    "* Tuning random forest"
   ],
   "metadata": {
    "collapsed": false
   },
   "id": "b98d7bf1534edcf2"
  },
  {
   "cell_type": "code",
   "outputs": [],
   "source": [
    "from sklearn.ensemble import RandomForestClassifier"
   ],
   "metadata": {
    "collapsed": false,
    "ExecuteTime": {
     "end_time": "2024-01-21T19:32:36.598959806Z",
     "start_time": "2024-01-21T19:32:36.550192314Z"
    }
   },
   "id": "d8684aec6b8b5381",
   "execution_count": 68
  },
  {
   "cell_type": "code",
   "outputs": [
    {
     "data": {
      "text/plain": "RandomForestClassifier(n_estimators=10, random_state=1)",
      "text/html": "<style>#sk-container-id-6 {color: black;}#sk-container-id-6 pre{padding: 0;}#sk-container-id-6 div.sk-toggleable {background-color: white;}#sk-container-id-6 label.sk-toggleable__label {cursor: pointer;display: block;width: 100%;margin-bottom: 0;padding: 0.3em;box-sizing: border-box;text-align: center;}#sk-container-id-6 label.sk-toggleable__label-arrow:before {content: \"▸\";float: left;margin-right: 0.25em;color: #696969;}#sk-container-id-6 label.sk-toggleable__label-arrow:hover:before {color: black;}#sk-container-id-6 div.sk-estimator:hover label.sk-toggleable__label-arrow:before {color: black;}#sk-container-id-6 div.sk-toggleable__content {max-height: 0;max-width: 0;overflow: hidden;text-align: left;background-color: #f0f8ff;}#sk-container-id-6 div.sk-toggleable__content pre {margin: 0.2em;color: black;border-radius: 0.25em;background-color: #f0f8ff;}#sk-container-id-6 input.sk-toggleable__control:checked~div.sk-toggleable__content {max-height: 200px;max-width: 100%;overflow: auto;}#sk-container-id-6 input.sk-toggleable__control:checked~label.sk-toggleable__label-arrow:before {content: \"▾\";}#sk-container-id-6 div.sk-estimator input.sk-toggleable__control:checked~label.sk-toggleable__label {background-color: #d4ebff;}#sk-container-id-6 div.sk-label input.sk-toggleable__control:checked~label.sk-toggleable__label {background-color: #d4ebff;}#sk-container-id-6 input.sk-hidden--visually {border: 0;clip: rect(1px 1px 1px 1px);clip: rect(1px, 1px, 1px, 1px);height: 1px;margin: -1px;overflow: hidden;padding: 0;position: absolute;width: 1px;}#sk-container-id-6 div.sk-estimator {font-family: monospace;background-color: #f0f8ff;border: 1px dotted black;border-radius: 0.25em;box-sizing: border-box;margin-bottom: 0.5em;}#sk-container-id-6 div.sk-estimator:hover {background-color: #d4ebff;}#sk-container-id-6 div.sk-parallel-item::after {content: \"\";width: 100%;border-bottom: 1px solid gray;flex-grow: 1;}#sk-container-id-6 div.sk-label:hover label.sk-toggleable__label {background-color: #d4ebff;}#sk-container-id-6 div.sk-serial::before {content: \"\";position: absolute;border-left: 1px solid gray;box-sizing: border-box;top: 0;bottom: 0;left: 50%;z-index: 0;}#sk-container-id-6 div.sk-serial {display: flex;flex-direction: column;align-items: center;background-color: white;padding-right: 0.2em;padding-left: 0.2em;position: relative;}#sk-container-id-6 div.sk-item {position: relative;z-index: 1;}#sk-container-id-6 div.sk-parallel {display: flex;align-items: stretch;justify-content: center;background-color: white;position: relative;}#sk-container-id-6 div.sk-item::before, #sk-container-id-6 div.sk-parallel-item::before {content: \"\";position: absolute;border-left: 1px solid gray;box-sizing: border-box;top: 0;bottom: 0;left: 50%;z-index: -1;}#sk-container-id-6 div.sk-parallel-item {display: flex;flex-direction: column;z-index: 1;position: relative;background-color: white;}#sk-container-id-6 div.sk-parallel-item:first-child::after {align-self: flex-end;width: 50%;}#sk-container-id-6 div.sk-parallel-item:last-child::after {align-self: flex-start;width: 50%;}#sk-container-id-6 div.sk-parallel-item:only-child::after {width: 0;}#sk-container-id-6 div.sk-dashed-wrapped {border: 1px dashed gray;margin: 0 0.4em 0.5em 0.4em;box-sizing: border-box;padding-bottom: 0.4em;background-color: white;}#sk-container-id-6 div.sk-label label {font-family: monospace;font-weight: bold;display: inline-block;line-height: 1.2em;}#sk-container-id-6 div.sk-label-container {text-align: center;}#sk-container-id-6 div.sk-container {/* jupyter's `normalize.less` sets `[hidden] { display: none; }` but bootstrap.min.css set `[hidden] { display: none !important; }` so we also need the `!important` here to be able to override the default hidden behavior on the sphinx rendered scikit-learn.org. See: https://github.com/scikit-learn/scikit-learn/issues/21755 */display: inline-block !important;position: relative;}#sk-container-id-6 div.sk-text-repr-fallback {display: none;}</style><div id=\"sk-container-id-6\" class=\"sk-top-container\"><div class=\"sk-text-repr-fallback\"><pre>RandomForestClassifier(n_estimators=10, random_state=1)</pre><b>In a Jupyter environment, please rerun this cell to show the HTML representation or trust the notebook. <br />On GitHub, the HTML representation is unable to render, please try loading this page with nbviewer.org.</b></div><div class=\"sk-container\" hidden><div class=\"sk-item\"><div class=\"sk-estimator sk-toggleable\"><input class=\"sk-toggleable__control sk-hidden--visually\" id=\"sk-estimator-id-6\" type=\"checkbox\" checked><label for=\"sk-estimator-id-6\" class=\"sk-toggleable__label sk-toggleable__label-arrow\">RandomForestClassifier</label><div class=\"sk-toggleable__content\"><pre>RandomForestClassifier(n_estimators=10, random_state=1)</pre></div></div></div></div></div>"
     },
     "execution_count": 76,
     "metadata": {},
     "output_type": "execute_result"
    }
   ],
   "source": [
    "rf = RandomForestClassifier(n_estimators=10, random_state=1)\n",
    "rf.fit(X=X_train, y=y_train)"
   ],
   "metadata": {
    "collapsed": false,
    "ExecuteTime": {
     "end_time": "2024-01-21T19:36:22.673116941Z",
     "start_time": "2024-01-21T19:36:22.606875004Z"
    }
   },
   "id": "834b6459b4c31e1f",
   "execution_count": 76
  },
  {
   "cell_type": "code",
   "outputs": [],
   "source": [
    "y_pred = rf.predict_proba(X=X_val)[:,1]\n",
    "roc_auc_score(y_true=y_val, y_score=y_pred)"
   ],
   "metadata": {
    "collapsed": false,
    "ExecuteTime": {
     "end_time": "2024-01-21T19:33:38.487745600Z",
     "start_time": "2024-01-21T19:33:38.434475278Z"
    }
   },
   "id": "12c038a7a2385bce",
   "execution_count": 70
  },
  {
   "cell_type": "code",
   "outputs": [],
   "source": [
    "scores = []\n",
    "for n in range(10,201,10):\n",
    "    rf = RandomForestClassifier(n_estimators=n, random_state=1)\n",
    "    rf.fit(X=X_train, y=y_train)\n",
    "    \n",
    "    y_pred = rf.predict_proba(X=X_val)[:,1]\n",
    "    auc = roc_auc_score(y_true=y_val, y_score=y_pred)\n",
    "    scores.append((n, auc))"
   ],
   "metadata": {
    "collapsed": false,
    "ExecuteTime": {
     "end_time": "2024-01-21T19:40:33.277979336Z",
     "start_time": "2024-01-21T19:40:26.643203886Z"
    }
   },
   "id": "bad3aef1bb2b4165",
   "execution_count": 78
  },
  {
   "cell_type": "code",
   "outputs": [
    {
     "data": {
      "text/plain": "<Figure size 640x480 with 1 Axes>",
      "image/png": "[encoded data removed]"
     },
     "metadata": {},
     "output_type": "display_data"
    }
   ],
   "source": [
    "df_scores = pd.DataFrame(data=scores, columns=['n_estimators', 'auc'])\n",
    "plt.plot(df_scores.n_estimators, df_scores.auc)\n",
    "#plt.xlabel('n_estimators')\n",
    "#plt.ylabel('auc')\n",
    "plt.title('AUC en fonction du nombre d\\'estimateurs')\n",
    "plt.show()"
   ],
   "metadata": {
    "collapsed": false,
    "ExecuteTime": {
     "end_time": "2024-01-21T19:49:37.413438292Z",
     "start_time": "2024-01-21T19:49:37.199883935Z"
    }
   },
   "id": "9ae95b14d8126494",
   "execution_count": 94
  },
  {
   "cell_type": "markdown",
   "source": [
    "@11:53 https://www.youtube.com/watch?v=FZhcmOfNNZE&list=PL3MmuxUbc_hIhxl5Ji8t4O6lPAOpHaCLR&index=62"
   ],
   "metadata": {
    "collapsed": false
   },
   "id": "cb64c38018d2a511"
  }
 ],
 "metadata": {
  "kernelspec": {
   "display_name": "Python 3",
   "language": "python",
   "name": "python3"
  },
  "language_info": {
   "codemirror_mode": {
    "name": "ipython",
    "version": 2
   },
   "file_extension": ".py",
   "mimetype": "text/x-python",
   "name": "python",
   "nbconvert_exporter": "python",
   "pygments_lexer": "ipython2",
   "version": "2.7.6"
  }
 },
 "nbformat": 4,
 "nbformat_minor": 5
}
