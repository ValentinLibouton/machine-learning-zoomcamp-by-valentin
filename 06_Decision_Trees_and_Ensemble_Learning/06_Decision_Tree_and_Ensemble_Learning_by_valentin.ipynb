{
 "cells": [
  {
   "cell_type": "markdown",
   "source": [
    "# 6. Decision Tree and Ensemble Learning\n",
    "Exercice issu de ML Zoomcamp 6 [https://github.com/DataTalksClub/machine-learning-zoomcamp/tree/master/06-trees](https://github.com/DataTalksClub/machine-learning-zoomcamp/tree/master/06-trees)\n",
    "Reprise de son tutoriel avec certaines modifications et commentaires"
   ],
   "metadata": {
    "collapsed": false
   },
   "id": "bf2eb662733f4604"
  },
  {
   "cell_type": "markdown",
   "source": [
    "## 6.1 Credit risk scoring project\n",
    "* Dataset: https://github.com/gastonstat/CreditScoring"
   ],
   "metadata": {
    "collapsed": false
   },
   "id": "7774d089b408a2"
  },
  {
   "cell_type": "code",
   "outputs": [],
   "source": [
    "import pandas as pd\n",
    "import numpy as np\n",
    "\n",
    "import seaborn as sns\n",
    "from matplotlib import pyplot as plt\n",
    "%matplotlib inline"
   ],
   "metadata": {
    "collapsed": false,
    "ExecuteTime": {
     "end_time": "2024-01-20T21:06:26.668232710Z",
     "start_time": "2024-01-20T21:06:26.623812069Z"
    }
   },
   "id": "72cc7ce93e2a0cdf",
   "execution_count": 37
  },
  {
   "cell_type": "markdown",
   "source": [
    "## 6.2 Data cleaning and preparation"
   ],
   "metadata": {
    "collapsed": false
   },
   "id": "65a9f5cc1c431c59"
  },
  {
   "cell_type": "code",
   "outputs": [],
   "source": [
    "data_url = 'https://raw.githubusercontent.com/gastonstat/CreditScoring/master/CreditScoring.csv'"
   ],
   "metadata": {
    "collapsed": false,
    "ExecuteTime": {
     "end_time": "2024-01-20T21:06:27.515548381Z",
     "start_time": "2024-01-20T21:06:27.509906877Z"
    }
   },
   "id": "89e1b1d6898c8c42",
   "execution_count": 38
  },
  {
   "cell_type": "code",
   "outputs": [
    {
     "name": "stdout",
     "output_type": "stream",
     "text": [
      "Le fichier CreditScoring.csv existe déjà.\n"
     ]
    }
   ],
   "source": [
    "import os\n",
    "filename = 'CreditScoring.csv'\n",
    "if not os.path.exists(filename):\n",
    "    os.system(f'wget {data_url} -O {filename}')\n",
    "    print(f\"Le fichier {filename} a été téléchargé avec succès.\")\n",
    "else:\n",
    "    # Si le fichier existe déjà, imprimez un message\n",
    "    print(f\"Le fichier {filename} existe déjà.\")"
   ],
   "metadata": {
    "collapsed": false,
    "ExecuteTime": {
     "end_time": "2024-01-20T21:06:28.050685523Z",
     "start_time": "2024-01-20T21:06:28.044854267Z"
    }
   },
   "id": "d9288d4a1f862696",
   "execution_count": 39
  },
  {
   "cell_type": "code",
   "outputs": [
    {
     "name": "stdout",
     "output_type": "stream",
     "text": [
      "/bin/bash: warning: setlocale: LC_ALL: cannot change locale (en_US.UTF-8)\r\n",
      "\"Status\",\"Seniority\",\"Home\",\"Time\",\"Age\",\"Marital\",\"Records\",\"Job\",\"Expenses\",\"Income\",\"Assets\",\"Debt\",\"Amount\",\"Price\"\r\n",
      "1,9,1,60,30,2,1,3,73,129,0,0,800,846\r\n",
      "1,17,1,60,58,3,1,1,48,131,0,0,1000,1658\r\n",
      "2,10,2,36,46,2,2,3,90,200,3000,0,2000,2985\r\n",
      "1,0,1,60,24,1,1,1,63,182,2500,0,900,1325\r\n",
      "1,0,1,36,26,1,1,1,46,107,0,0,310,910\r\n",
      "1,1,2,60,36,2,1,1,75,214,3500,0,650,1645\r\n",
      "1,29,2,60,44,2,1,1,75,125,10000,0,1600,1800\r\n",
      "1,9,5,12,27,1,1,1,35,80,0,0,200,1093\r\n",
      "1,0,2,60,32,2,1,3,90,107,15000,0,1200,1957\r\n"
     ]
    }
   ],
   "source": [
    "!head CreditScoring.csv"
   ],
   "metadata": {
    "collapsed": false,
    "ExecuteTime": {
     "end_time": "2024-01-20T21:06:28.838598126Z",
     "start_time": "2024-01-20T21:06:28.585933210Z"
    }
   },
   "id": "ce31613a9a8630ec",
   "execution_count": 40
  },
  {
   "cell_type": "code",
   "outputs": [
    {
     "data": {
      "text/plain": "   Status  Seniority  Home  Time  Age  Marital  Records  Job  Expenses  \\\n0       1          9     1    60   30        2        1    3        73   \n1       1         17     1    60   58        3        1    1        48   \n2       2         10     2    36   46        2        2    3        90   \n3       1          0     1    60   24        1        1    1        63   \n4       1          0     1    36   26        1        1    1        46   \n\n   Income  Assets  Debt  Amount  Price  \n0     129       0     0     800    846  \n1     131       0     0    1000   1658  \n2     200    3000     0    2000   2985  \n3     182    2500     0     900   1325  \n4     107       0     0     310    910  ",
      "text/html": "<div>\n<style scoped>\n    .dataframe tbody tr th:only-of-type {\n        vertical-align: middle;\n    }\n\n    .dataframe tbody tr th {\n        vertical-align: top;\n    }\n\n    .dataframe thead th {\n        text-align: right;\n    }\n</style>\n<table border=\"1\" class=\"dataframe\">\n  <thead>\n    <tr style=\"text-align: right;\">\n      <th></th>\n      <th>Status</th>\n      <th>Seniority</th>\n      <th>Home</th>\n      <th>Time</th>\n      <th>Age</th>\n      <th>Marital</th>\n      <th>Records</th>\n      <th>Job</th>\n      <th>Expenses</th>\n      <th>Income</th>\n      <th>Assets</th>\n      <th>Debt</th>\n      <th>Amount</th>\n      <th>Price</th>\n    </tr>\n  </thead>\n  <tbody>\n    <tr>\n      <th>0</th>\n      <td>1</td>\n      <td>9</td>\n      <td>1</td>\n      <td>60</td>\n      <td>30</td>\n      <td>2</td>\n      <td>1</td>\n      <td>3</td>\n      <td>73</td>\n      <td>129</td>\n      <td>0</td>\n      <td>0</td>\n      <td>800</td>\n      <td>846</td>\n    </tr>\n    <tr>\n      <th>1</th>\n      <td>1</td>\n      <td>17</td>\n      <td>1</td>\n      <td>60</td>\n      <td>58</td>\n      <td>3</td>\n      <td>1</td>\n      <td>1</td>\n      <td>48</td>\n      <td>131</td>\n      <td>0</td>\n      <td>0</td>\n      <td>1000</td>\n      <td>1658</td>\n    </tr>\n    <tr>\n      <th>2</th>\n      <td>2</td>\n      <td>10</td>\n      <td>2</td>\n      <td>36</td>\n      <td>46</td>\n      <td>2</td>\n      <td>2</td>\n      <td>3</td>\n      <td>90</td>\n      <td>200</td>\n      <td>3000</td>\n      <td>0</td>\n      <td>2000</td>\n      <td>2985</td>\n    </tr>\n    <tr>\n      <th>3</th>\n      <td>1</td>\n      <td>0</td>\n      <td>1</td>\n      <td>60</td>\n      <td>24</td>\n      <td>1</td>\n      <td>1</td>\n      <td>1</td>\n      <td>63</td>\n      <td>182</td>\n      <td>2500</td>\n      <td>0</td>\n      <td>900</td>\n      <td>1325</td>\n    </tr>\n    <tr>\n      <th>4</th>\n      <td>1</td>\n      <td>0</td>\n      <td>1</td>\n      <td>36</td>\n      <td>26</td>\n      <td>1</td>\n      <td>1</td>\n      <td>1</td>\n      <td>46</td>\n      <td>107</td>\n      <td>0</td>\n      <td>0</td>\n      <td>310</td>\n      <td>910</td>\n    </tr>\n  </tbody>\n</table>\n</div>"
     },
     "execution_count": 49,
     "metadata": {},
     "output_type": "execute_result"
    }
   ],
   "source": [
    "df = pd.read_csv(filename)\n",
    "df.head()"
   ],
   "metadata": {
    "collapsed": false,
    "ExecuteTime": {
     "end_time": "2024-01-20T21:09:10.484823375Z",
     "start_time": "2024-01-20T21:09:10.443833782Z"
    }
   },
   "id": "8b120bf182732507",
   "execution_count": 49
  },
  {
   "cell_type": "markdown",
   "source": [
    "On remarque que le nom des colonnes du dataset contient des majuscules "
   ],
   "metadata": {
    "collapsed": false
   },
   "id": "6fc80e9b32d3f1b4"
  },
  {
   "cell_type": "code",
   "outputs": [],
   "source": [
    "def clean_headers(df:pd.DataFrame)->pd.DataFrame:\n",
    "    df.columns = df.columns.str.lower().str.replace(' ','_')\n",
    "    return df\n",
    "\n",
    "def clean_rows(df:pd.DataFrame)->pd.DataFrame:\n",
    "    for column in df.columns:\n",
    "        if pd.api.types.is_string_dtype(df[column]):\n",
    "            df[column] = df[column].str.lower().str.replace(' ', '_')\n",
    "    return df\n",
    "\n",
    "def clean_headers_rows(df:pd.DataFrame)->pd.DataFrame:\n",
    "    df = clean_headers(df)\n",
    "    df = clean_rows(df)\n",
    "    return df"
   ],
   "metadata": {
    "collapsed": false,
    "ExecuteTime": {
     "end_time": "2024-01-20T21:09:12.264836880Z",
     "start_time": "2024-01-20T21:09:12.225169933Z"
    }
   },
   "id": "f54f2b6c0c47f4d0",
   "execution_count": 50
  },
  {
   "cell_type": "code",
   "outputs": [
    {
     "data": {
      "text/plain": "   status  seniority  home  time  age  marital  records  job  expenses  \\\n0       1          9     1    60   30        2        1    3        73   \n1       1         17     1    60   58        3        1    1        48   \n2       2         10     2    36   46        2        2    3        90   \n3       1          0     1    60   24        1        1    1        63   \n4       1          0     1    36   26        1        1    1        46   \n\n   income  assets  debt  amount  price  \n0     129       0     0     800    846  \n1     131       0     0    1000   1658  \n2     200    3000     0    2000   2985  \n3     182    2500     0     900   1325  \n4     107       0     0     310    910  ",
      "text/html": "<div>\n<style scoped>\n    .dataframe tbody tr th:only-of-type {\n        vertical-align: middle;\n    }\n\n    .dataframe tbody tr th {\n        vertical-align: top;\n    }\n\n    .dataframe thead th {\n        text-align: right;\n    }\n</style>\n<table border=\"1\" class=\"dataframe\">\n  <thead>\n    <tr style=\"text-align: right;\">\n      <th></th>\n      <th>status</th>\n      <th>seniority</th>\n      <th>home</th>\n      <th>time</th>\n      <th>age</th>\n      <th>marital</th>\n      <th>records</th>\n      <th>job</th>\n      <th>expenses</th>\n      <th>income</th>\n      <th>assets</th>\n      <th>debt</th>\n      <th>amount</th>\n      <th>price</th>\n    </tr>\n  </thead>\n  <tbody>\n    <tr>\n      <th>0</th>\n      <td>1</td>\n      <td>9</td>\n      <td>1</td>\n      <td>60</td>\n      <td>30</td>\n      <td>2</td>\n      <td>1</td>\n      <td>3</td>\n      <td>73</td>\n      <td>129</td>\n      <td>0</td>\n      <td>0</td>\n      <td>800</td>\n      <td>846</td>\n    </tr>\n    <tr>\n      <th>1</th>\n      <td>1</td>\n      <td>17</td>\n      <td>1</td>\n      <td>60</td>\n      <td>58</td>\n      <td>3</td>\n      <td>1</td>\n      <td>1</td>\n      <td>48</td>\n      <td>131</td>\n      <td>0</td>\n      <td>0</td>\n      <td>1000</td>\n      <td>1658</td>\n    </tr>\n    <tr>\n      <th>2</th>\n      <td>2</td>\n      <td>10</td>\n      <td>2</td>\n      <td>36</td>\n      <td>46</td>\n      <td>2</td>\n      <td>2</td>\n      <td>3</td>\n      <td>90</td>\n      <td>200</td>\n      <td>3000</td>\n      <td>0</td>\n      <td>2000</td>\n      <td>2985</td>\n    </tr>\n    <tr>\n      <th>3</th>\n      <td>1</td>\n      <td>0</td>\n      <td>1</td>\n      <td>60</td>\n      <td>24</td>\n      <td>1</td>\n      <td>1</td>\n      <td>1</td>\n      <td>63</td>\n      <td>182</td>\n      <td>2500</td>\n      <td>0</td>\n      <td>900</td>\n      <td>1325</td>\n    </tr>\n    <tr>\n      <th>4</th>\n      <td>1</td>\n      <td>0</td>\n      <td>1</td>\n      <td>36</td>\n      <td>26</td>\n      <td>1</td>\n      <td>1</td>\n      <td>1</td>\n      <td>46</td>\n      <td>107</td>\n      <td>0</td>\n      <td>0</td>\n      <td>310</td>\n      <td>910</td>\n    </tr>\n  </tbody>\n</table>\n</div>"
     },
     "execution_count": 51,
     "metadata": {},
     "output_type": "execute_result"
    }
   ],
   "source": [
    "df = clean_headers_rows(df)\n",
    "df.head()"
   ],
   "metadata": {
    "collapsed": false,
    "ExecuteTime": {
     "end_time": "2024-01-20T21:09:13.301165211Z",
     "start_time": "2024-01-20T21:09:13.294398379Z"
    }
   },
   "id": "e623bc4ab936486e",
   "execution_count": 51
  },
  {
   "cell_type": "markdown",
   "source": [
    "Il nous manque des informations pour comprendre le dataset, elles sont disponibles sur le github d'où provient de fichier csv. Les voici sous forme de dictionnaire:\n",
    "status = {0:\"unknow\", 1:\"good\", 2:\"bad\"}\n",
    "home = {0:\"unknow\", 1:\"rent\", 2:\"owner\", 3:\"priv\", 4:\"ignore\", 5:\"parents\", 6:\"other\"}\n",
    "marital = {0:\"unknow\", 1:\"single\", 2:\"married\", 3:\"widow\", 4:\"separated\", 5:\"divorced\"}\n",
    "records = {0:\"unknow\", 1:\"no_rec\", 2:\"yes_rec\"}\n",
    "job = {0:\"unknow\", 1:\"fixed\", 2:\"partime\", 3:\"freelance\", 4:\"other\"}\n",
    "\n",
    "On va créer un dataframe lisible pour mieux comprendre les données:"
   ],
   "metadata": {
    "collapsed": false
   },
   "id": "26712576dd59b86c"
  },
  {
   "cell_type": "code",
   "outputs": [],
   "source": [
    "status = {0:\"unknow\", 1:\"good\", 2:\"bad\"}\n",
    "home = {0:\"unknow\", 1:\"rent\", 2:\"owner\", 3:\"priv\", 4:\"ignore\", 5:\"parents\", 6:\"other\"}\n",
    "marital = {0:\"unknow\", 1:\"single\", 2:\"married\", 3:\"widow\", 4:\"separated\", 5:\"divorced\"}\n",
    "records = {0:\"unknow\", 1:\"no_rec\", 2:\"yes_rec\"}\n",
    "job = {0:\"unknow\", 1:\"fixed\", 2:\"partime\", 3:\"freelance\", 4:\"other\"}\n",
    "\n",
    "df['status'] = df.status.map(status)\n",
    "df['home'] = df.home.map(home)\n",
    "df['marital'] = df.marital.map(marital)\n",
    "df['records'] = df.records.map(records)\n",
    "df['job'] = df.job.map(job)\n"
   ],
   "metadata": {
    "collapsed": false,
    "ExecuteTime": {
     "end_time": "2024-01-20T21:09:15.625406148Z",
     "start_time": "2024-01-20T21:09:15.608578319Z"
    }
   },
   "id": "3d2491aa32684201",
   "execution_count": 52
  },
  {
   "cell_type": "code",
   "outputs": [
    {
     "data": {
      "text/plain": "  status  seniority   home  time  age  marital  records        job  expenses  \\\n0   good          9   rent    60   30  married   no_rec  freelance        73   \n1   good         17   rent    60   58    widow   no_rec      fixed        48   \n2    bad         10  owner    36   46  married  yes_rec  freelance        90   \n3   good          0   rent    60   24   single   no_rec      fixed        63   \n4   good          0   rent    36   26   single   no_rec      fixed        46   \n\n   income  assets  debt  amount  price  \n0     129       0     0     800    846  \n1     131       0     0    1000   1658  \n2     200    3000     0    2000   2985  \n3     182    2500     0     900   1325  \n4     107       0     0     310    910  ",
      "text/html": "<div>\n<style scoped>\n    .dataframe tbody tr th:only-of-type {\n        vertical-align: middle;\n    }\n\n    .dataframe tbody tr th {\n        vertical-align: top;\n    }\n\n    .dataframe thead th {\n        text-align: right;\n    }\n</style>\n<table border=\"1\" class=\"dataframe\">\n  <thead>\n    <tr style=\"text-align: right;\">\n      <th></th>\n      <th>status</th>\n      <th>seniority</th>\n      <th>home</th>\n      <th>time</th>\n      <th>age</th>\n      <th>marital</th>\n      <th>records</th>\n      <th>job</th>\n      <th>expenses</th>\n      <th>income</th>\n      <th>assets</th>\n      <th>debt</th>\n      <th>amount</th>\n      <th>price</th>\n    </tr>\n  </thead>\n  <tbody>\n    <tr>\n      <th>0</th>\n      <td>good</td>\n      <td>9</td>\n      <td>rent</td>\n      <td>60</td>\n      <td>30</td>\n      <td>married</td>\n      <td>no_rec</td>\n      <td>freelance</td>\n      <td>73</td>\n      <td>129</td>\n      <td>0</td>\n      <td>0</td>\n      <td>800</td>\n      <td>846</td>\n    </tr>\n    <tr>\n      <th>1</th>\n      <td>good</td>\n      <td>17</td>\n      <td>rent</td>\n      <td>60</td>\n      <td>58</td>\n      <td>widow</td>\n      <td>no_rec</td>\n      <td>fixed</td>\n      <td>48</td>\n      <td>131</td>\n      <td>0</td>\n      <td>0</td>\n      <td>1000</td>\n      <td>1658</td>\n    </tr>\n    <tr>\n      <th>2</th>\n      <td>bad</td>\n      <td>10</td>\n      <td>owner</td>\n      <td>36</td>\n      <td>46</td>\n      <td>married</td>\n      <td>yes_rec</td>\n      <td>freelance</td>\n      <td>90</td>\n      <td>200</td>\n      <td>3000</td>\n      <td>0</td>\n      <td>2000</td>\n      <td>2985</td>\n    </tr>\n    <tr>\n      <th>3</th>\n      <td>good</td>\n      <td>0</td>\n      <td>rent</td>\n      <td>60</td>\n      <td>24</td>\n      <td>single</td>\n      <td>no_rec</td>\n      <td>fixed</td>\n      <td>63</td>\n      <td>182</td>\n      <td>2500</td>\n      <td>0</td>\n      <td>900</td>\n      <td>1325</td>\n    </tr>\n    <tr>\n      <th>4</th>\n      <td>good</td>\n      <td>0</td>\n      <td>rent</td>\n      <td>36</td>\n      <td>26</td>\n      <td>single</td>\n      <td>no_rec</td>\n      <td>fixed</td>\n      <td>46</td>\n      <td>107</td>\n      <td>0</td>\n      <td>0</td>\n      <td>310</td>\n      <td>910</td>\n    </tr>\n  </tbody>\n</table>\n</div>"
     },
     "execution_count": 53,
     "metadata": {},
     "output_type": "execute_result"
    }
   ],
   "source": [
    "df.head()"
   ],
   "metadata": {
    "collapsed": false,
    "ExecuteTime": {
     "end_time": "2024-01-20T21:09:17.775270910Z",
     "start_time": "2024-01-20T21:09:17.761834466Z"
    }
   },
   "id": "4549edb2881d479c",
   "execution_count": 53
  },
  {
   "cell_type": "markdown",
   "source": [
    "Dans les sources, il est indiqué que les valeurs manquantes sont remplacées par le nombre 99999999. Nous devons donc remplacer par np.nan afin de ne pas fausser les résultats"
   ],
   "metadata": {
    "collapsed": false
   },
   "id": "9d27c010b811cda3"
  },
  {
   "cell_type": "code",
   "outputs": [
    {
     "data": {
      "text/plain": "       seniority    time     age  expenses      income      assets  \\\ncount     4455.0  4455.0  4455.0    4455.0      4455.0      4455.0   \nmean         8.0    46.0    37.0      56.0    763317.0   1060341.0   \nstd          8.0    15.0    11.0      20.0   8703625.0  10217569.0   \nmin          0.0     6.0    18.0      35.0         0.0         0.0   \n25%          2.0    36.0    28.0      35.0        80.0         0.0   \n50%          5.0    48.0    36.0      51.0       120.0      3500.0   \n75%         12.0    60.0    45.0      72.0       166.0      6000.0   \nmax         48.0    72.0    68.0     180.0  99999999.0  99999999.0   \n\n             debt  amount    price  \ncount      4455.0  4455.0   4455.0  \nmean     404382.0  1039.0   1463.0  \nstd     6344253.0   475.0    628.0  \nmin           0.0   100.0    105.0  \n25%           0.0   700.0   1118.0  \n50%           0.0  1000.0   1400.0  \n75%           0.0  1300.0   1692.0  \nmax    99999999.0  5000.0  11140.0  ",
      "text/html": "<div>\n<style scoped>\n    .dataframe tbody tr th:only-of-type {\n        vertical-align: middle;\n    }\n\n    .dataframe tbody tr th {\n        vertical-align: top;\n    }\n\n    .dataframe thead th {\n        text-align: right;\n    }\n</style>\n<table border=\"1\" class=\"dataframe\">\n  <thead>\n    <tr style=\"text-align: right;\">\n      <th></th>\n      <th>seniority</th>\n      <th>time</th>\n      <th>age</th>\n      <th>expenses</th>\n      <th>income</th>\n      <th>assets</th>\n      <th>debt</th>\n      <th>amount</th>\n      <th>price</th>\n    </tr>\n  </thead>\n  <tbody>\n    <tr>\n      <th>count</th>\n      <td>4455.0</td>\n      <td>4455.0</td>\n      <td>4455.0</td>\n      <td>4455.0</td>\n      <td>4455.0</td>\n      <td>4455.0</td>\n      <td>4455.0</td>\n      <td>4455.0</td>\n      <td>4455.0</td>\n    </tr>\n    <tr>\n      <th>mean</th>\n      <td>8.0</td>\n      <td>46.0</td>\n      <td>37.0</td>\n      <td>56.0</td>\n      <td>763317.0</td>\n      <td>1060341.0</td>\n      <td>404382.0</td>\n      <td>1039.0</td>\n      <td>1463.0</td>\n    </tr>\n    <tr>\n      <th>std</th>\n      <td>8.0</td>\n      <td>15.0</td>\n      <td>11.0</td>\n      <td>20.0</td>\n      <td>8703625.0</td>\n      <td>10217569.0</td>\n      <td>6344253.0</td>\n      <td>475.0</td>\n      <td>628.0</td>\n    </tr>\n    <tr>\n      <th>min</th>\n      <td>0.0</td>\n      <td>6.0</td>\n      <td>18.0</td>\n      <td>35.0</td>\n      <td>0.0</td>\n      <td>0.0</td>\n      <td>0.0</td>\n      <td>100.0</td>\n      <td>105.0</td>\n    </tr>\n    <tr>\n      <th>25%</th>\n      <td>2.0</td>\n      <td>36.0</td>\n      <td>28.0</td>\n      <td>35.0</td>\n      <td>80.0</td>\n      <td>0.0</td>\n      <td>0.0</td>\n      <td>700.0</td>\n      <td>1118.0</td>\n    </tr>\n    <tr>\n      <th>50%</th>\n      <td>5.0</td>\n      <td>48.0</td>\n      <td>36.0</td>\n      <td>51.0</td>\n      <td>120.0</td>\n      <td>3500.0</td>\n      <td>0.0</td>\n      <td>1000.0</td>\n      <td>1400.0</td>\n    </tr>\n    <tr>\n      <th>75%</th>\n      <td>12.0</td>\n      <td>60.0</td>\n      <td>45.0</td>\n      <td>72.0</td>\n      <td>166.0</td>\n      <td>6000.0</td>\n      <td>0.0</td>\n      <td>1300.0</td>\n      <td>1692.0</td>\n    </tr>\n    <tr>\n      <th>max</th>\n      <td>48.0</td>\n      <td>72.0</td>\n      <td>68.0</td>\n      <td>180.0</td>\n      <td>99999999.0</td>\n      <td>99999999.0</td>\n      <td>99999999.0</td>\n      <td>5000.0</td>\n      <td>11140.0</td>\n    </tr>\n  </tbody>\n</table>\n</div>"
     },
     "execution_count": 54,
     "metadata": {},
     "output_type": "execute_result"
    }
   ],
   "source": [
    "df.describe().round()"
   ],
   "metadata": {
    "collapsed": false,
    "ExecuteTime": {
     "end_time": "2024-01-20T21:09:29.462935759Z",
     "start_time": "2024-01-20T21:09:29.404741609Z"
    }
   },
   "id": "3be61a1dffcb9a1f",
   "execution_count": 54
  },
  {
   "cell_type": "markdown",
   "source": [
    "On constate avec la commande ```df.describe().round()``` en valeur **max** nous avons income, assets et debt qui contiennent le nombre 99999999"
   ],
   "metadata": {
    "collapsed": false
   },
   "id": "bc14aa3dfa11ccae"
  },
  {
   "cell_type": "code",
   "outputs": [],
   "source": [
    "for c in ['income', 'assets', 'debt']:\n",
    "    df[c] = df[c].replace(to_replace=99999999, value=np.nan)"
   ],
   "metadata": {
    "collapsed": false,
    "ExecuteTime": {
     "end_time": "2024-01-20T21:09:31.825529856Z",
     "start_time": "2024-01-20T21:09:31.802667144Z"
    }
   },
   "id": "dd855a5ab969db28",
   "execution_count": 55
  },
  {
   "cell_type": "code",
   "outputs": [
    {
     "data": {
      "text/plain": "       seniority    time     age  expenses  income    assets     debt  amount  \\\ncount     4455.0  4455.0  4455.0    4455.0  4421.0    4408.0   4437.0  4455.0   \nmean         8.0    46.0    37.0      56.0   131.0    5403.0    343.0  1039.0   \nstd          8.0    15.0    11.0      20.0    86.0   11573.0   1246.0   475.0   \nmin          0.0     6.0    18.0      35.0     0.0       0.0      0.0   100.0   \n25%          2.0    36.0    28.0      35.0    80.0       0.0      0.0   700.0   \n50%          5.0    48.0    36.0      51.0   120.0    3000.0      0.0  1000.0   \n75%         12.0    60.0    45.0      72.0   165.0    6000.0      0.0  1300.0   \nmax         48.0    72.0    68.0     180.0   959.0  300000.0  30000.0  5000.0   \n\n         price  \ncount   4455.0  \nmean    1463.0  \nstd      628.0  \nmin      105.0  \n25%     1118.0  \n50%     1400.0  \n75%     1692.0  \nmax    11140.0  ",
      "text/html": "<div>\n<style scoped>\n    .dataframe tbody tr th:only-of-type {\n        vertical-align: middle;\n    }\n\n    .dataframe tbody tr th {\n        vertical-align: top;\n    }\n\n    .dataframe thead th {\n        text-align: right;\n    }\n</style>\n<table border=\"1\" class=\"dataframe\">\n  <thead>\n    <tr style=\"text-align: right;\">\n      <th></th>\n      <th>seniority</th>\n      <th>time</th>\n      <th>age</th>\n      <th>expenses</th>\n      <th>income</th>\n      <th>assets</th>\n      <th>debt</th>\n      <th>amount</th>\n      <th>price</th>\n    </tr>\n  </thead>\n  <tbody>\n    <tr>\n      <th>count</th>\n      <td>4455.0</td>\n      <td>4455.0</td>\n      <td>4455.0</td>\n      <td>4455.0</td>\n      <td>4421.0</td>\n      <td>4408.0</td>\n      <td>4437.0</td>\n      <td>4455.0</td>\n      <td>4455.0</td>\n    </tr>\n    <tr>\n      <th>mean</th>\n      <td>8.0</td>\n      <td>46.0</td>\n      <td>37.0</td>\n      <td>56.0</td>\n      <td>131.0</td>\n      <td>5403.0</td>\n      <td>343.0</td>\n      <td>1039.0</td>\n      <td>1463.0</td>\n    </tr>\n    <tr>\n      <th>std</th>\n      <td>8.0</td>\n      <td>15.0</td>\n      <td>11.0</td>\n      <td>20.0</td>\n      <td>86.0</td>\n      <td>11573.0</td>\n      <td>1246.0</td>\n      <td>475.0</td>\n      <td>628.0</td>\n    </tr>\n    <tr>\n      <th>min</th>\n      <td>0.0</td>\n      <td>6.0</td>\n      <td>18.0</td>\n      <td>35.0</td>\n      <td>0.0</td>\n      <td>0.0</td>\n      <td>0.0</td>\n      <td>100.0</td>\n      <td>105.0</td>\n    </tr>\n    <tr>\n      <th>25%</th>\n      <td>2.0</td>\n      <td>36.0</td>\n      <td>28.0</td>\n      <td>35.0</td>\n      <td>80.0</td>\n      <td>0.0</td>\n      <td>0.0</td>\n      <td>700.0</td>\n      <td>1118.0</td>\n    </tr>\n    <tr>\n      <th>50%</th>\n      <td>5.0</td>\n      <td>48.0</td>\n      <td>36.0</td>\n      <td>51.0</td>\n      <td>120.0</td>\n      <td>3000.0</td>\n      <td>0.0</td>\n      <td>1000.0</td>\n      <td>1400.0</td>\n    </tr>\n    <tr>\n      <th>75%</th>\n      <td>12.0</td>\n      <td>60.0</td>\n      <td>45.0</td>\n      <td>72.0</td>\n      <td>165.0</td>\n      <td>6000.0</td>\n      <td>0.0</td>\n      <td>1300.0</td>\n      <td>1692.0</td>\n    </tr>\n    <tr>\n      <th>max</th>\n      <td>48.0</td>\n      <td>72.0</td>\n      <td>68.0</td>\n      <td>180.0</td>\n      <td>959.0</td>\n      <td>300000.0</td>\n      <td>30000.0</td>\n      <td>5000.0</td>\n      <td>11140.0</td>\n    </tr>\n  </tbody>\n</table>\n</div>"
     },
     "execution_count": 56,
     "metadata": {},
     "output_type": "execute_result"
    }
   ],
   "source": [
    "df.describe().round()"
   ],
   "metadata": {
    "collapsed": false,
    "ExecuteTime": {
     "end_time": "2024-01-20T21:09:32.473413829Z",
     "start_time": "2024-01-20T21:09:32.447988370Z"
    }
   },
   "id": "2766b6ee3ba5588f",
   "execution_count": 56
  },
  {
   "cell_type": "code",
   "outputs": [
    {
     "data": {
      "text/plain": "status\ngood      3200\nbad       1254\nunknow       1\nName: count, dtype: int64"
     },
     "execution_count": 57,
     "metadata": {},
     "output_type": "execute_result"
    }
   ],
   "source": [
    "df.status.value_counts()"
   ],
   "metadata": {
    "collapsed": false,
    "ExecuteTime": {
     "end_time": "2024-01-20T21:09:33.604712118Z",
     "start_time": "2024-01-20T21:09:33.592327868Z"
    }
   },
   "id": "5c7f5d3b636eaaa6",
   "execution_count": 57
  },
  {
   "cell_type": "code",
   "outputs": [],
   "source": [
    "df = df[df.status != 'unknow'].reset_index(drop=True)"
   ],
   "metadata": {
    "collapsed": false,
    "ExecuteTime": {
     "end_time": "2024-01-20T21:09:34.408381817Z",
     "start_time": "2024-01-20T21:09:34.395938076Z"
    }
   },
   "id": "87af4c0b0387a2a2",
   "execution_count": 58
  },
  {
   "cell_type": "code",
   "outputs": [],
   "source": [
    "from sklearn.model_selection import train_test_split\n",
    "df_full_train, df_test = train_test_split(df, test_size=0.2, random_state=11)\n",
    "df_train, df_val = train_test_split(df_full_train, test_size=0.25, random_state=11)"
   ],
   "metadata": {
    "collapsed": false,
    "ExecuteTime": {
     "end_time": "2024-01-20T21:09:35.651717927Z",
     "start_time": "2024-01-20T21:09:35.644509866Z"
    }
   },
   "id": "e7aee908c4bebf86",
   "execution_count": 59
  },
  {
   "cell_type": "code",
   "outputs": [],
   "source": [
    "df_train = df_train.reset_index(drop=True)\n",
    "df_val = df_val.reset_index(drop=True)\n",
    "df_test = df_test.reset_index(drop=True)"
   ],
   "metadata": {
    "collapsed": false,
    "ExecuteTime": {
     "end_time": "2024-01-20T21:09:36.312999709Z",
     "start_time": "2024-01-20T21:09:36.300472454Z"
    }
   },
   "id": "237fdfef2a3d44f0",
   "execution_count": 60
  },
  {
   "cell_type": "code",
   "outputs": [],
   "source": [
    "y_train = (df_train.status == 'bad').astype('int').values\n",
    "y_val = (df_val.status == 'bad').astype('int').values\n",
    "y_test = (df_test.status == 'bad').astype('int').values"
   ],
   "metadata": {
    "collapsed": false,
    "ExecuteTime": {
     "end_time": "2024-01-20T21:09:37.007687305Z",
     "start_time": "2024-01-20T21:09:36.997460420Z"
    }
   },
   "id": "34e3692ac029e623",
   "execution_count": 61
  },
  {
   "cell_type": "code",
   "outputs": [],
   "source": [
    "df_train.drop('status', axis=1, inplace=True)\n",
    "df_val.drop('status', axis=1, inplace=True)\n",
    "df_test.drop('status', axis=1, inplace=True)"
   ],
   "metadata": {
    "collapsed": false,
    "ExecuteTime": {
     "end_time": "2024-01-20T21:09:37.640535112Z",
     "start_time": "2024-01-20T21:09:37.624143413Z"
    }
   },
   "id": "abc96812b5097804",
   "execution_count": 62
  },
  {
   "cell_type": "code",
   "outputs": [
    {
     "data": {
      "text/plain": "      seniority     home  time  age  marital  records        job  expenses  \\\n0            10    owner    36   36  married   no_rec  freelance        75   \n1             6  parents    48   32   single  yes_rec      fixed        35   \n2             1  parents    48   40  married   no_rec      fixed        75   \n3             1  parents    48   23   single   no_rec    partime        35   \n4             5    owner    36   46  married   no_rec  freelance        60   \n...         ...      ...   ...  ...      ...      ...        ...       ...   \n2667         18     priv    36   45  married   no_rec      fixed        45   \n2668          7     priv    60   29  married   no_rec      fixed        60   \n2669          1  parents    24   19   single   no_rec      fixed        35   \n2670         15    owner    48   43  married   no_rec  freelance        60   \n2671         12    owner    48   27  married  yes_rec      fixed        45   \n\n      income   assets    debt  amount  price  \n0        0.0  10000.0     0.0    1000   1400  \n1       85.0      0.0     0.0    1100   1330  \n2      121.0      0.0     0.0    1320   1600  \n3       72.0      0.0     0.0    1078   1079  \n4      100.0   4000.0     0.0    1100   1897  \n...      ...      ...     ...     ...    ...  \n2667   220.0  20000.0     0.0     800   1600  \n2668    51.0   3500.0   500.0    1000   1290  \n2669    28.0      0.0     0.0     400    600  \n2670   100.0  18000.0     0.0    2500   2976  \n2671   110.0   5000.0  1300.0     450   1636  \n\n[2672 rows x 13 columns]",
      "text/html": "<div>\n<style scoped>\n    .dataframe tbody tr th:only-of-type {\n        vertical-align: middle;\n    }\n\n    .dataframe tbody tr th {\n        vertical-align: top;\n    }\n\n    .dataframe thead th {\n        text-align: right;\n    }\n</style>\n<table border=\"1\" class=\"dataframe\">\n  <thead>\n    <tr style=\"text-align: right;\">\n      <th></th>\n      <th>seniority</th>\n      <th>home</th>\n      <th>time</th>\n      <th>age</th>\n      <th>marital</th>\n      <th>records</th>\n      <th>job</th>\n      <th>expenses</th>\n      <th>income</th>\n      <th>assets</th>\n      <th>debt</th>\n      <th>amount</th>\n      <th>price</th>\n    </tr>\n  </thead>\n  <tbody>\n    <tr>\n      <th>0</th>\n      <td>10</td>\n      <td>owner</td>\n      <td>36</td>\n      <td>36</td>\n      <td>married</td>\n      <td>no_rec</td>\n      <td>freelance</td>\n      <td>75</td>\n      <td>0.0</td>\n      <td>10000.0</td>\n      <td>0.0</td>\n      <td>1000</td>\n      <td>1400</td>\n    </tr>\n    <tr>\n      <th>1</th>\n      <td>6</td>\n      <td>parents</td>\n      <td>48</td>\n      <td>32</td>\n      <td>single</td>\n      <td>yes_rec</td>\n      <td>fixed</td>\n      <td>35</td>\n      <td>85.0</td>\n      <td>0.0</td>\n      <td>0.0</td>\n      <td>1100</td>\n      <td>1330</td>\n    </tr>\n    <tr>\n      <th>2</th>\n      <td>1</td>\n      <td>parents</td>\n      <td>48</td>\n      <td>40</td>\n      <td>married</td>\n      <td>no_rec</td>\n      <td>fixed</td>\n      <td>75</td>\n      <td>121.0</td>\n      <td>0.0</td>\n      <td>0.0</td>\n      <td>1320</td>\n      <td>1600</td>\n    </tr>\n    <tr>\n      <th>3</th>\n      <td>1</td>\n      <td>parents</td>\n      <td>48</td>\n      <td>23</td>\n      <td>single</td>\n      <td>no_rec</td>\n      <td>partime</td>\n      <td>35</td>\n      <td>72.0</td>\n      <td>0.0</td>\n      <td>0.0</td>\n      <td>1078</td>\n      <td>1079</td>\n    </tr>\n    <tr>\n      <th>4</th>\n      <td>5</td>\n      <td>owner</td>\n      <td>36</td>\n      <td>46</td>\n      <td>married</td>\n      <td>no_rec</td>\n      <td>freelance</td>\n      <td>60</td>\n      <td>100.0</td>\n      <td>4000.0</td>\n      <td>0.0</td>\n      <td>1100</td>\n      <td>1897</td>\n    </tr>\n    <tr>\n      <th>...</th>\n      <td>...</td>\n      <td>...</td>\n      <td>...</td>\n      <td>...</td>\n      <td>...</td>\n      <td>...</td>\n      <td>...</td>\n      <td>...</td>\n      <td>...</td>\n      <td>...</td>\n      <td>...</td>\n      <td>...</td>\n      <td>...</td>\n    </tr>\n    <tr>\n      <th>2667</th>\n      <td>18</td>\n      <td>priv</td>\n      <td>36</td>\n      <td>45</td>\n      <td>married</td>\n      <td>no_rec</td>\n      <td>fixed</td>\n      <td>45</td>\n      <td>220.0</td>\n      <td>20000.0</td>\n      <td>0.0</td>\n      <td>800</td>\n      <td>1600</td>\n    </tr>\n    <tr>\n      <th>2668</th>\n      <td>7</td>\n      <td>priv</td>\n      <td>60</td>\n      <td>29</td>\n      <td>married</td>\n      <td>no_rec</td>\n      <td>fixed</td>\n      <td>60</td>\n      <td>51.0</td>\n      <td>3500.0</td>\n      <td>500.0</td>\n      <td>1000</td>\n      <td>1290</td>\n    </tr>\n    <tr>\n      <th>2669</th>\n      <td>1</td>\n      <td>parents</td>\n      <td>24</td>\n      <td>19</td>\n      <td>single</td>\n      <td>no_rec</td>\n      <td>fixed</td>\n      <td>35</td>\n      <td>28.0</td>\n      <td>0.0</td>\n      <td>0.0</td>\n      <td>400</td>\n      <td>600</td>\n    </tr>\n    <tr>\n      <th>2670</th>\n      <td>15</td>\n      <td>owner</td>\n      <td>48</td>\n      <td>43</td>\n      <td>married</td>\n      <td>no_rec</td>\n      <td>freelance</td>\n      <td>60</td>\n      <td>100.0</td>\n      <td>18000.0</td>\n      <td>0.0</td>\n      <td>2500</td>\n      <td>2976</td>\n    </tr>\n    <tr>\n      <th>2671</th>\n      <td>12</td>\n      <td>owner</td>\n      <td>48</td>\n      <td>27</td>\n      <td>married</td>\n      <td>yes_rec</td>\n      <td>fixed</td>\n      <td>45</td>\n      <td>110.0</td>\n      <td>5000.0</td>\n      <td>1300.0</td>\n      <td>450</td>\n      <td>1636</td>\n    </tr>\n  </tbody>\n</table>\n<p>2672 rows × 13 columns</p>\n</div>"
     },
     "execution_count": 63,
     "metadata": {},
     "output_type": "execute_result"
    }
   ],
   "source": [
    "df_train"
   ],
   "metadata": {
    "collapsed": false,
    "ExecuteTime": {
     "end_time": "2024-01-20T21:09:38.424341995Z",
     "start_time": "2024-01-20T21:09:38.396459014Z"
    }
   },
   "id": "a6073582f62dd0d0",
   "execution_count": 63
  },
  {
   "cell_type": "markdown",
   "source": [
    "## 6.3 Decision trees\n",
    "* How a decision tree looks like\n",
    "* Training a decision tree\n",
    "* Overfitting\n",
    "* Controlling the size of a tree"
   ],
   "metadata": {
    "collapsed": false
   },
   "id": "693fe990f62d0e7a"
  },
  {
   "cell_type": "code",
   "outputs": [],
   "source": [
    "#la sortie c'est default ou ok -> sortie binaire\n",
    "def assess_risk(client):\n",
    "    if client['records'] == 'yes':\n",
    "        if client['job'] == 'parttime':\n",
    "            return 'default'\n",
    "        else:\n",
    "            return 'ok'\n",
    "    else:\n",
    "        if client['assets'] > 6000:\n",
    "            return 'ok'\n",
    "        else:\n",
    "            return 'default'"
   ],
   "metadata": {
    "collapsed": false,
    "ExecuteTime": {
     "end_time": "2024-01-20T21:22:09.018858149Z",
     "start_time": "2024-01-20T21:22:08.968151529Z"
    }
   },
   "id": "69096117d387f428",
   "execution_count": 64
  },
  {
   "cell_type": "code",
   "outputs": [],
   "source": [
    "xi = df_train.iloc[0].to_dict()"
   ],
   "metadata": {
    "collapsed": false,
    "ExecuteTime": {
     "end_time": "2024-01-20T21:25:36.819998108Z",
     "start_time": "2024-01-20T21:25:36.769374573Z"
    }
   },
   "id": "b1f1fe78a34ce780",
   "execution_count": 72
  },
  {
   "cell_type": "code",
   "outputs": [
    {
     "data": {
      "text/plain": "'ok'"
     },
     "execution_count": 73,
     "metadata": {},
     "output_type": "execute_result"
    }
   ],
   "source": [
    "assess_risk(xi)"
   ],
   "metadata": {
    "collapsed": false,
    "ExecuteTime": {
     "end_time": "2024-01-20T21:25:37.082294754Z",
     "start_time": "2024-01-20T21:25:37.077599891Z"
    }
   },
   "id": "86d08b0598065c9a",
   "execution_count": 73
  },
  {
   "cell_type": "code",
   "outputs": [],
   "source": [
    "from sklearn.tree import DecisionTreeClassifier\n",
    "from sklearn.feature_extraction import DictVectorizer\n",
    "from sklearn.metrics import roc_auc_score"
   ],
   "metadata": {
    "collapsed": false,
    "ExecuteTime": {
     "end_time": "2024-01-20T21:36:37.005123664Z",
     "start_time": "2024-01-20T21:36:36.941504801Z"
    }
   },
   "id": "ba0920a6d3d4d115",
   "execution_count": 86
  },
  {
   "cell_type": "code",
   "outputs": [],
   "source": [
    "train_dicts = df_train.fillna(0).to_dict(orient='records')"
   ],
   "metadata": {
    "collapsed": false,
    "ExecuteTime": {
     "end_time": "2024-01-20T21:36:37.906893968Z",
     "start_time": "2024-01-20T21:36:37.876750487Z"
    }
   },
   "id": "ddafa798fb6463c7",
   "execution_count": 87
  },
  {
   "cell_type": "code",
   "outputs": [],
   "source": [
    "dv = DictVectorizer(sparse=False)\n",
    "X_train = dv.fit_transform(train_dicts)"
   ],
   "metadata": {
    "collapsed": false,
    "ExecuteTime": {
     "end_time": "2024-01-20T21:36:38.349003172Z",
     "start_time": "2024-01-20T21:36:38.336092847Z"
    }
   },
   "id": "31cd1ff55ca8e86",
   "execution_count": 88
  },
  {
   "cell_type": "code",
   "outputs": [
    {
     "data": {
      "text/plain": "array(['age', 'amount', 'assets', 'debt', 'expenses', 'home=ignore',\n       'home=other', 'home=owner', 'home=parents', 'home=priv',\n       'home=rent', 'home=unknow', 'income', 'job=fixed', 'job=freelance',\n       'job=other', 'job=partime', 'job=unknow', 'marital=divorced',\n       'marital=married', 'marital=separated', 'marital=single',\n       'marital=unknow', 'marital=widow', 'price', 'records=no_rec',\n       'records=yes_rec', 'seniority', 'time'], dtype=object)"
     },
     "execution_count": 89,
     "metadata": {},
     "output_type": "execute_result"
    }
   ],
   "source": [
    "dv.get_feature_names_out()"
   ],
   "metadata": {
    "collapsed": false,
    "ExecuteTime": {
     "end_time": "2024-01-20T21:36:38.789739388Z",
     "start_time": "2024-01-20T21:36:38.783139211Z"
    }
   },
   "id": "18b91c04632b125c",
   "execution_count": 89
  },
  {
   "cell_type": "code",
   "outputs": [
    {
     "data": {
      "text/plain": "DecisionTreeClassifier()",
      "text/html": "<style>#sk-container-id-4 {color: black;}#sk-container-id-4 pre{padding: 0;}#sk-container-id-4 div.sk-toggleable {background-color: white;}#sk-container-id-4 label.sk-toggleable__label {cursor: pointer;display: block;width: 100%;margin-bottom: 0;padding: 0.3em;box-sizing: border-box;text-align: center;}#sk-container-id-4 label.sk-toggleable__label-arrow:before {content: \"▸\";float: left;margin-right: 0.25em;color: #696969;}#sk-container-id-4 label.sk-toggleable__label-arrow:hover:before {color: black;}#sk-container-id-4 div.sk-estimator:hover label.sk-toggleable__label-arrow:before {color: black;}#sk-container-id-4 div.sk-toggleable__content {max-height: 0;max-width: 0;overflow: hidden;text-align: left;background-color: #f0f8ff;}#sk-container-id-4 div.sk-toggleable__content pre {margin: 0.2em;color: black;border-radius: 0.25em;background-color: #f0f8ff;}#sk-container-id-4 input.sk-toggleable__control:checked~div.sk-toggleable__content {max-height: 200px;max-width: 100%;overflow: auto;}#sk-container-id-4 input.sk-toggleable__control:checked~label.sk-toggleable__label-arrow:before {content: \"▾\";}#sk-container-id-4 div.sk-estimator input.sk-toggleable__control:checked~label.sk-toggleable__label {background-color: #d4ebff;}#sk-container-id-4 div.sk-label input.sk-toggleable__control:checked~label.sk-toggleable__label {background-color: #d4ebff;}#sk-container-id-4 input.sk-hidden--visually {border: 0;clip: rect(1px 1px 1px 1px);clip: rect(1px, 1px, 1px, 1px);height: 1px;margin: -1px;overflow: hidden;padding: 0;position: absolute;width: 1px;}#sk-container-id-4 div.sk-estimator {font-family: monospace;background-color: #f0f8ff;border: 1px dotted black;border-radius: 0.25em;box-sizing: border-box;margin-bottom: 0.5em;}#sk-container-id-4 div.sk-estimator:hover {background-color: #d4ebff;}#sk-container-id-4 div.sk-parallel-item::after {content: \"\";width: 100%;border-bottom: 1px solid gray;flex-grow: 1;}#sk-container-id-4 div.sk-label:hover label.sk-toggleable__label {background-color: #d4ebff;}#sk-container-id-4 div.sk-serial::before {content: \"\";position: absolute;border-left: 1px solid gray;box-sizing: border-box;top: 0;bottom: 0;left: 50%;z-index: 0;}#sk-container-id-4 div.sk-serial {display: flex;flex-direction: column;align-items: center;background-color: white;padding-right: 0.2em;padding-left: 0.2em;position: relative;}#sk-container-id-4 div.sk-item {position: relative;z-index: 1;}#sk-container-id-4 div.sk-parallel {display: flex;align-items: stretch;justify-content: center;background-color: white;position: relative;}#sk-container-id-4 div.sk-item::before, #sk-container-id-4 div.sk-parallel-item::before {content: \"\";position: absolute;border-left: 1px solid gray;box-sizing: border-box;top: 0;bottom: 0;left: 50%;z-index: -1;}#sk-container-id-4 div.sk-parallel-item {display: flex;flex-direction: column;z-index: 1;position: relative;background-color: white;}#sk-container-id-4 div.sk-parallel-item:first-child::after {align-self: flex-end;width: 50%;}#sk-container-id-4 div.sk-parallel-item:last-child::after {align-self: flex-start;width: 50%;}#sk-container-id-4 div.sk-parallel-item:only-child::after {width: 0;}#sk-container-id-4 div.sk-dashed-wrapped {border: 1px dashed gray;margin: 0 0.4em 0.5em 0.4em;box-sizing: border-box;padding-bottom: 0.4em;background-color: white;}#sk-container-id-4 div.sk-label label {font-family: monospace;font-weight: bold;display: inline-block;line-height: 1.2em;}#sk-container-id-4 div.sk-label-container {text-align: center;}#sk-container-id-4 div.sk-container {/* jupyter's `normalize.less` sets `[hidden] { display: none; }` but bootstrap.min.css set `[hidden] { display: none !important; }` so we also need the `!important` here to be able to override the default hidden behavior on the sphinx rendered scikit-learn.org. See: https://github.com/scikit-learn/scikit-learn/issues/21755 */display: inline-block !important;position: relative;}#sk-container-id-4 div.sk-text-repr-fallback {display: none;}</style><div id=\"sk-container-id-4\" class=\"sk-top-container\"><div class=\"sk-text-repr-fallback\"><pre>DecisionTreeClassifier()</pre><b>In a Jupyter environment, please rerun this cell to show the HTML representation or trust the notebook. <br />On GitHub, the HTML representation is unable to render, please try loading this page with nbviewer.org.</b></div><div class=\"sk-container\" hidden><div class=\"sk-item\"><div class=\"sk-estimator sk-toggleable\"><input class=\"sk-toggleable__control sk-hidden--visually\" id=\"sk-estimator-id-4\" type=\"checkbox\" checked><label for=\"sk-estimator-id-4\" class=\"sk-toggleable__label sk-toggleable__label-arrow\">DecisionTreeClassifier</label><div class=\"sk-toggleable__content\"><pre>DecisionTreeClassifier()</pre></div></div></div></div></div>"
     },
     "execution_count": 92,
     "metadata": {},
     "output_type": "execute_result"
    }
   ],
   "source": [
    "dt = DecisionTreeClassifier()\n",
    "dt.fit(X_train, y_train)"
   ],
   "metadata": {
    "collapsed": false,
    "ExecuteTime": {
     "end_time": "2024-01-20T21:36:58.150901998Z",
     "start_time": "2024-01-20T21:36:58.101772328Z"
    }
   },
   "id": "bda72d6ca28ba266",
   "execution_count": 92
  },
  {
   "cell_type": "code",
   "outputs": [],
   "source": [
    "val_dicts = df_val.fillna(0).to_dict(orient='records')\n",
    "X_val = dv.transform(val_dicts) # only transform!"
   ],
   "metadata": {
    "collapsed": false,
    "ExecuteTime": {
     "end_time": "2024-01-20T21:36:58.596622286Z",
     "start_time": "2024-01-20T21:36:58.572418487Z"
    }
   },
   "id": "6c72e4fc7a63961c",
   "execution_count": 93
  },
  {
   "cell_type": "code",
   "outputs": [],
   "source": [
    "y_pred = dt.predict_proba(X_val)[:, 1]"
   ],
   "metadata": {
    "collapsed": false,
    "ExecuteTime": {
     "end_time": "2024-01-20T21:39:00.911939707Z",
     "start_time": "2024-01-20T21:39:00.824416624Z"
    }
   },
   "id": "9830e3108416552e",
   "execution_count": 96
  },
  {
   "cell_type": "code",
   "outputs": [
    {
     "data": {
      "text/plain": "0.6613396381778112"
     },
     "execution_count": 97,
     "metadata": {},
     "output_type": "execute_result"
    }
   ],
   "source": [
    "roc_auc_score(y_true=y_val, y_score=y_pred)"
   ],
   "metadata": {
    "collapsed": false,
    "ExecuteTime": {
     "end_time": "2024-01-20T21:39:01.284008326Z",
     "start_time": "2024-01-20T21:39:01.274610858Z"
    }
   },
   "id": "45be9819433de127",
   "execution_count": 97
  },
  {
   "cell_type": "code",
   "outputs": [
    {
     "data": {
      "text/plain": "1.0"
     },
     "execution_count": 99,
     "metadata": {},
     "output_type": "execute_result"
    }
   ],
   "source": [
    "y_pred = dt.predict_proba(X_train)[:,1]\n",
    "roc_auc_score(y_true=y_train, y_score=y_pred)"
   ],
   "metadata": {
    "collapsed": false,
    "ExecuteTime": {
     "end_time": "2024-01-20T21:41:11.568613727Z",
     "start_time": "2024-01-20T21:41:11.521126901Z"
    }
   },
   "id": "9420d9673538acbf",
   "execution_count": 99
  },
  {
   "cell_type": "markdown",
   "source": [
    "On peut voir que nous avons de l'overfitting, score parfait sur le train et mauvais sur le val "
   ],
   "metadata": {
    "collapsed": false
   },
   "id": "61652fa479000c40"
  },
  {
   "cell_type": "code",
   "outputs": [
    {
     "data": {
      "text/plain": "DecisionTreeClassifier(max_depth=3)",
      "text/html": "<style>#sk-container-id-5 {color: black;}#sk-container-id-5 pre{padding: 0;}#sk-container-id-5 div.sk-toggleable {background-color: white;}#sk-container-id-5 label.sk-toggleable__label {cursor: pointer;display: block;width: 100%;margin-bottom: 0;padding: 0.3em;box-sizing: border-box;text-align: center;}#sk-container-id-5 label.sk-toggleable__label-arrow:before {content: \"▸\";float: left;margin-right: 0.25em;color: #696969;}#sk-container-id-5 label.sk-toggleable__label-arrow:hover:before {color: black;}#sk-container-id-5 div.sk-estimator:hover label.sk-toggleable__label-arrow:before {color: black;}#sk-container-id-5 div.sk-toggleable__content {max-height: 0;max-width: 0;overflow: hidden;text-align: left;background-color: #f0f8ff;}#sk-container-id-5 div.sk-toggleable__content pre {margin: 0.2em;color: black;border-radius: 0.25em;background-color: #f0f8ff;}#sk-container-id-5 input.sk-toggleable__control:checked~div.sk-toggleable__content {max-height: 200px;max-width: 100%;overflow: auto;}#sk-container-id-5 input.sk-toggleable__control:checked~label.sk-toggleable__label-arrow:before {content: \"▾\";}#sk-container-id-5 div.sk-estimator input.sk-toggleable__control:checked~label.sk-toggleable__label {background-color: #d4ebff;}#sk-container-id-5 div.sk-label input.sk-toggleable__control:checked~label.sk-toggleable__label {background-color: #d4ebff;}#sk-container-id-5 input.sk-hidden--visually {border: 0;clip: rect(1px 1px 1px 1px);clip: rect(1px, 1px, 1px, 1px);height: 1px;margin: -1px;overflow: hidden;padding: 0;position: absolute;width: 1px;}#sk-container-id-5 div.sk-estimator {font-family: monospace;background-color: #f0f8ff;border: 1px dotted black;border-radius: 0.25em;box-sizing: border-box;margin-bottom: 0.5em;}#sk-container-id-5 div.sk-estimator:hover {background-color: #d4ebff;}#sk-container-id-5 div.sk-parallel-item::after {content: \"\";width: 100%;border-bottom: 1px solid gray;flex-grow: 1;}#sk-container-id-5 div.sk-label:hover label.sk-toggleable__label {background-color: #d4ebff;}#sk-container-id-5 div.sk-serial::before {content: \"\";position: absolute;border-left: 1px solid gray;box-sizing: border-box;top: 0;bottom: 0;left: 50%;z-index: 0;}#sk-container-id-5 div.sk-serial {display: flex;flex-direction: column;align-items: center;background-color: white;padding-right: 0.2em;padding-left: 0.2em;position: relative;}#sk-container-id-5 div.sk-item {position: relative;z-index: 1;}#sk-container-id-5 div.sk-parallel {display: flex;align-items: stretch;justify-content: center;background-color: white;position: relative;}#sk-container-id-5 div.sk-item::before, #sk-container-id-5 div.sk-parallel-item::before {content: \"\";position: absolute;border-left: 1px solid gray;box-sizing: border-box;top: 0;bottom: 0;left: 50%;z-index: -1;}#sk-container-id-5 div.sk-parallel-item {display: flex;flex-direction: column;z-index: 1;position: relative;background-color: white;}#sk-container-id-5 div.sk-parallel-item:first-child::after {align-self: flex-end;width: 50%;}#sk-container-id-5 div.sk-parallel-item:last-child::after {align-self: flex-start;width: 50%;}#sk-container-id-5 div.sk-parallel-item:only-child::after {width: 0;}#sk-container-id-5 div.sk-dashed-wrapped {border: 1px dashed gray;margin: 0 0.4em 0.5em 0.4em;box-sizing: border-box;padding-bottom: 0.4em;background-color: white;}#sk-container-id-5 div.sk-label label {font-family: monospace;font-weight: bold;display: inline-block;line-height: 1.2em;}#sk-container-id-5 div.sk-label-container {text-align: center;}#sk-container-id-5 div.sk-container {/* jupyter's `normalize.less` sets `[hidden] { display: none; }` but bootstrap.min.css set `[hidden] { display: none !important; }` so we also need the `!important` here to be able to override the default hidden behavior on the sphinx rendered scikit-learn.org. See: https://github.com/scikit-learn/scikit-learn/issues/21755 */display: inline-block !important;position: relative;}#sk-container-id-5 div.sk-text-repr-fallback {display: none;}</style><div id=\"sk-container-id-5\" class=\"sk-top-container\"><div class=\"sk-text-repr-fallback\"><pre>DecisionTreeClassifier(max_depth=3)</pre><b>In a Jupyter environment, please rerun this cell to show the HTML representation or trust the notebook. <br />On GitHub, the HTML representation is unable to render, please try loading this page with nbviewer.org.</b></div><div class=\"sk-container\" hidden><div class=\"sk-item\"><div class=\"sk-estimator sk-toggleable\"><input class=\"sk-toggleable__control sk-hidden--visually\" id=\"sk-estimator-id-5\" type=\"checkbox\" checked><label for=\"sk-estimator-id-5\" class=\"sk-toggleable__label sk-toggleable__label-arrow\">DecisionTreeClassifier</label><div class=\"sk-toggleable__content\"><pre>DecisionTreeClassifier(max_depth=3)</pre></div></div></div></div></div>"
     },
     "execution_count": 100,
     "metadata": {},
     "output_type": "execute_result"
    }
   ],
   "source": [
    "dt = DecisionTreeClassifier(max_depth=3)\n",
    "dt.fit(X_train, y_train)"
   ],
   "metadata": {
    "collapsed": false,
    "ExecuteTime": {
     "end_time": "2024-01-20T21:47:32.967185083Z",
     "start_time": "2024-01-20T21:47:32.922017817Z"
    }
   },
   "id": "c41c9afa610d7d3a",
   "execution_count": 100
  },
  {
   "cell_type": "code",
   "outputs": [
    {
     "name": "stdout",
     "output_type": "stream",
     "text": [
      "train: 0.7761016984958594\n",
      "val: 0.7389079944782155\n"
     ]
    }
   ],
   "source": [
    "y_pred = dt.predict_proba(X_train)[:,1]\n",
    "auc = roc_auc_score(y_true=y_train, y_score=y_pred)\n",
    "print('train:', auc)\n",
    "\n",
    "y_pred = dt.predict_proba(X_val)[:, 1]\n",
    "auc = roc_auc_score(y_true=y_val, y_score=y_pred)\n",
    "print('val:', auc)"
   ],
   "metadata": {
    "collapsed": false,
    "ExecuteTime": {
     "end_time": "2024-01-20T21:51:02.799939608Z",
     "start_time": "2024-01-20T21:51:02.731574052Z"
    }
   },
   "id": "80781523d83432c3",
   "execution_count": 101
  },
  {
   "cell_type": "code",
   "outputs": [],
   "source": [
    "from sklearn.tree import export_text"
   ],
   "metadata": {
    "collapsed": false,
    "ExecuteTime": {
     "end_time": "2024-01-20T21:52:49.141171089Z",
     "start_time": "2024-01-20T21:52:49.085904751Z"
    }
   },
   "id": "1bcba10ce8b47ee4",
   "execution_count": 102
  },
  {
   "cell_type": "code",
   "outputs": [
    {
     "name": "stdout",
     "output_type": "stream",
     "text": [
      "|--- records=yes_rec <= 0.50\n",
      "|   |--- job=partime <= 0.50\n",
      "|   |   |--- income <= 74.50\n",
      "|   |   |   |--- class: 0\n",
      "|   |   |--- income >  74.50\n",
      "|   |   |   |--- class: 0\n",
      "|   |--- job=partime >  0.50\n",
      "|   |   |--- assets <= 8750.00\n",
      "|   |   |   |--- class: 1\n",
      "|   |   |--- assets >  8750.00\n",
      "|   |   |   |--- class: 0\n",
      "|--- records=yes_rec >  0.50\n",
      "|   |--- seniority <= 6.50\n",
      "|   |   |--- amount <= 862.50\n",
      "|   |   |   |--- class: 0\n",
      "|   |   |--- amount >  862.50\n",
      "|   |   |   |--- class: 1\n",
      "|   |--- seniority >  6.50\n",
      "|   |   |--- income <= 103.50\n",
      "|   |   |   |--- class: 1\n",
      "|   |   |--- income >  103.50\n",
      "|   |   |   |--- class: 0\n"
     ]
    }
   ],
   "source": [
    "print(export_text(dt, feature_names=dv.get_feature_names_out()))"
   ],
   "metadata": {
    "collapsed": false,
    "ExecuteTime": {
     "end_time": "2024-01-20T21:53:23.549705815Z",
     "start_time": "2024-01-20T21:53:23.504175384Z"
    }
   },
   "id": "7ab94c02cf1101bd",
   "execution_count": 103
  },
  {
   "cell_type": "markdown",
   "source": [
    "@15:02 https://www.youtube.com/watch?v=YGiQvFbSIg8&list=PL3MmuxUbc_hIhxl5Ji8t4O6lPAOpHaCLR&index=59"
   ],
   "metadata": {
    "collapsed": false
   },
   "id": "a1e5f32882d47fd1"
  }
 ],
 "metadata": {
  "kernelspec": {
   "display_name": "Python 3",
   "language": "python",
   "name": "python3"
  },
  "language_info": {
   "codemirror_mode": {
    "name": "ipython",
    "version": 2
   },
   "file_extension": ".py",
   "mimetype": "text/x-python",
   "name": "python",
   "nbconvert_exporter": "python",
   "pygments_lexer": "ipython2",
   "version": "2.7.6"
  }
 },
 "nbformat": 4,
 "nbformat_minor": 5
}
