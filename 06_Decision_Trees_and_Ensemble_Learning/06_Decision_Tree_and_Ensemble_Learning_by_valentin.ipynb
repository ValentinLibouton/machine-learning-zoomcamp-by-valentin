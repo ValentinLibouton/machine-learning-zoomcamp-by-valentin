{
 "cells": [
  {
   "cell_type": "markdown",
   "source": [
    "# 6. Decision Tree and Ensemble Learning\n",
    "Exercice issu de ML Zoomcamp 6 [https://github.com/DataTalksClub/machine-learning-zoomcamp/tree/master/06-trees](https://github.com/DataTalksClub/machine-learning-zoomcamp/tree/master/06-trees)\n",
    "Reprise de son tutoriel avec certaines modifications et commentaires"
   ],
   "metadata": {
    "collapsed": false
   },
   "id": "bf2eb662733f4604"
  },
  {
   "cell_type": "markdown",
   "source": [
    "## 6.1 Credit risk scoring project\n",
    "* Dataset: https://github.com/gastonstat/CreditScoring"
   ],
   "metadata": {
    "collapsed": false
   },
   "id": "7774d089b408a2"
  },
  {
   "cell_type": "code",
   "outputs": [],
   "source": [
    "import pandas as pd\n",
    "import numpy as np\n",
    "\n",
    "import seaborn as sns\n",
    "from matplotlib import pyplot as plt\n",
    "%matplotlib inline"
   ],
   "metadata": {
    "collapsed": false,
    "ExecuteTime": {
     "end_time": "2024-01-18T14:24:03.338182165Z",
     "start_time": "2024-01-18T14:24:03.330323721Z"
    }
   },
   "id": "72cc7ce93e2a0cdf",
   "execution_count": 1
  },
  {
   "cell_type": "markdown",
   "source": [
    "## 6.2 Data cleaning and preparation"
   ],
   "metadata": {
    "collapsed": false
   },
   "id": "65a9f5cc1c431c59"
  },
  {
   "cell_type": "code",
   "outputs": [],
   "source": [
    "data_url = 'https://raw.githubusercontent.com/gastonstat/CreditScoring/master/CreditScoring.csv'"
   ],
   "metadata": {
    "collapsed": false,
    "ExecuteTime": {
     "end_time": "2024-01-18T14:26:23.432910789Z",
     "start_time": "2024-01-18T14:26:23.391740426Z"
    }
   },
   "id": "89e1b1d6898c8c42",
   "execution_count": 3
  },
  {
   "cell_type": "code",
   "outputs": [
    {
     "name": "stderr",
     "output_type": "stream",
     "text": [
      "--2024-01-18 15:32:35--  https://raw.githubusercontent.com/gastonstat/CreditScoring/master/CreditScoring.csv\n",
      "Resolving raw.githubusercontent.com (raw.githubusercontent.com)... 185.199.109.133, 185.199.108.133, 185.199.111.133, ...\n",
      "Connecting to raw.githubusercontent.com (raw.githubusercontent.com)|185.199.109.133|:443... connected.\n",
      "HTTP request sent, awaiting response... "
     ]
    },
    {
     "name": "stdout",
     "output_type": "stream",
     "text": [
      "Le fichier CreditScoring.csv a été téléchargé avec succès.\n"
     ]
    },
    {
     "name": "stderr",
     "output_type": "stream",
     "text": [
      "200 OK\n",
      "Length: 182489 (178K) [text/plain]\n",
      "Saving to: 'CreditScoring.csv'\n",
      "\n",
      "     0K .......... .......... .......... .......... .......... 28% 1.58M 0s\n",
      "    50K .......... .......... .......... .......... .......... 56% 3.95M 0s\n",
      "   100K .......... .......... .......... .......... .......... 84% 6.63M 0s\n",
      "   150K .......... .......... ........                        100% 2.33M=0.06s\n",
      "\n",
      "2024-01-18 15:32:36 (2.79 MB/s) - 'CreditScoring.csv' saved [182489/182489]\n",
      "\n"
     ]
    }
   ],
   "source": [
    "import os\n",
    "filename = 'CreditScoring.csv'\n",
    "if not os.path.exists(filename):\n",
    "    os.system(f'wget {data_url} -O {filename}')\n",
    "    print(f\"Le fichier {filename} a été téléchargé avec succès.\")\n",
    "else:\n",
    "    # Si le fichier existe déjà, imprimez un message\n",
    "    print(f\"Le fichier {filename} existe déjà.\")"
   ],
   "metadata": {
    "collapsed": false,
    "ExecuteTime": {
     "end_time": "2024-01-18T14:32:36.184695535Z",
     "start_time": "2024-01-18T14:32:35.726656695Z"
    }
   },
   "id": "d9288d4a1f862696",
   "execution_count": 9
  },
  {
   "cell_type": "code",
   "outputs": [
    {
     "name": "stdout",
     "output_type": "stream",
     "text": [
      "/bin/bash: warning: setlocale: LC_ALL: cannot change locale (en_US.UTF-8)\r\n",
      "\"Status\",\"Seniority\",\"Home\",\"Time\",\"Age\",\"Marital\",\"Records\",\"Job\",\"Expenses\",\"Income\",\"Assets\",\"Debt\",\"Amount\",\"Price\"\r\n",
      "1,9,1,60,30,2,1,3,73,129,0,0,800,846\r\n",
      "1,17,1,60,58,3,1,1,48,131,0,0,1000,1658\r\n",
      "2,10,2,36,46,2,2,3,90,200,3000,0,2000,2985\r\n",
      "1,0,1,60,24,1,1,1,63,182,2500,0,900,1325\r\n",
      "1,0,1,36,26,1,1,1,46,107,0,0,310,910\r\n",
      "1,1,2,60,36,2,1,1,75,214,3500,0,650,1645\r\n",
      "1,29,2,60,44,2,1,1,75,125,10000,0,1600,1800\r\n",
      "1,9,5,12,27,1,1,1,35,80,0,0,200,1093\r\n",
      "1,0,2,60,32,2,1,3,90,107,15000,0,1200,1957\r\n"
     ]
    }
   ],
   "source": [
    "!head CreditScoring.csv"
   ],
   "metadata": {
    "collapsed": false,
    "ExecuteTime": {
     "end_time": "2024-01-18T14:32:47.994585667Z",
     "start_time": "2024-01-18T14:32:47.762859418Z"
    }
   },
   "id": "ce31613a9a8630ec",
   "execution_count": 10
  },
  {
   "cell_type": "code",
   "outputs": [
    {
     "data": {
      "text/plain": "   Status  Seniority  Home  Time  Age  Marital  Records  Job  Expenses  \\\n0       1          9     1    60   30        2        1    3        73   \n1       1         17     1    60   58        3        1    1        48   \n2       2         10     2    36   46        2        2    3        90   \n3       1          0     1    60   24        1        1    1        63   \n4       1          0     1    36   26        1        1    1        46   \n\n   Income  Assets  Debt  Amount  Price  \n0     129       0     0     800    846  \n1     131       0     0    1000   1658  \n2     200    3000     0    2000   2985  \n3     182    2500     0     900   1325  \n4     107       0     0     310    910  ",
      "text/html": "<div>\n<style scoped>\n    .dataframe tbody tr th:only-of-type {\n        vertical-align: middle;\n    }\n\n    .dataframe tbody tr th {\n        vertical-align: top;\n    }\n\n    .dataframe thead th {\n        text-align: right;\n    }\n</style>\n<table border=\"1\" class=\"dataframe\">\n  <thead>\n    <tr style=\"text-align: right;\">\n      <th></th>\n      <th>Status</th>\n      <th>Seniority</th>\n      <th>Home</th>\n      <th>Time</th>\n      <th>Age</th>\n      <th>Marital</th>\n      <th>Records</th>\n      <th>Job</th>\n      <th>Expenses</th>\n      <th>Income</th>\n      <th>Assets</th>\n      <th>Debt</th>\n      <th>Amount</th>\n      <th>Price</th>\n    </tr>\n  </thead>\n  <tbody>\n    <tr>\n      <th>0</th>\n      <td>1</td>\n      <td>9</td>\n      <td>1</td>\n      <td>60</td>\n      <td>30</td>\n      <td>2</td>\n      <td>1</td>\n      <td>3</td>\n      <td>73</td>\n      <td>129</td>\n      <td>0</td>\n      <td>0</td>\n      <td>800</td>\n      <td>846</td>\n    </tr>\n    <tr>\n      <th>1</th>\n      <td>1</td>\n      <td>17</td>\n      <td>1</td>\n      <td>60</td>\n      <td>58</td>\n      <td>3</td>\n      <td>1</td>\n      <td>1</td>\n      <td>48</td>\n      <td>131</td>\n      <td>0</td>\n      <td>0</td>\n      <td>1000</td>\n      <td>1658</td>\n    </tr>\n    <tr>\n      <th>2</th>\n      <td>2</td>\n      <td>10</td>\n      <td>2</td>\n      <td>36</td>\n      <td>46</td>\n      <td>2</td>\n      <td>2</td>\n      <td>3</td>\n      <td>90</td>\n      <td>200</td>\n      <td>3000</td>\n      <td>0</td>\n      <td>2000</td>\n      <td>2985</td>\n    </tr>\n    <tr>\n      <th>3</th>\n      <td>1</td>\n      <td>0</td>\n      <td>1</td>\n      <td>60</td>\n      <td>24</td>\n      <td>1</td>\n      <td>1</td>\n      <td>1</td>\n      <td>63</td>\n      <td>182</td>\n      <td>2500</td>\n      <td>0</td>\n      <td>900</td>\n      <td>1325</td>\n    </tr>\n    <tr>\n      <th>4</th>\n      <td>1</td>\n      <td>0</td>\n      <td>1</td>\n      <td>36</td>\n      <td>26</td>\n      <td>1</td>\n      <td>1</td>\n      <td>1</td>\n      <td>46</td>\n      <td>107</td>\n      <td>0</td>\n      <td>0</td>\n      <td>310</td>\n      <td>910</td>\n    </tr>\n  </tbody>\n</table>\n</div>"
     },
     "execution_count": 36,
     "metadata": {},
     "output_type": "execute_result"
    }
   ],
   "source": [
    "df = pd.read_csv(filename)\n",
    "df.head()"
   ],
   "metadata": {
    "collapsed": false,
    "ExecuteTime": {
     "end_time": "2024-01-18T15:14:33.913568978Z",
     "start_time": "2024-01-18T15:14:33.868673Z"
    }
   },
   "id": "8b120bf182732507",
   "execution_count": 36
  },
  {
   "cell_type": "markdown",
   "source": [
    "On remarque que le nom des colonnes du dataset contient des majuscules "
   ],
   "metadata": {
    "collapsed": false
   },
   "id": "6fc80e9b32d3f1b4"
  },
  {
   "cell_type": "code",
   "outputs": [],
   "source": [
    "def clean_headers(df:pd.DataFrame)->pd.DataFrame:\n",
    "    df.columns = df.columns.str.lower().str.replace(' ','_')\n",
    "    return df\n",
    "\n",
    "def clean_rows(df:pd.DataFrame)->pd.DataFrame:\n",
    "    for column in df.columns:\n",
    "        if pd.api.types.is_string_dtype(df[column]):\n",
    "            df[column] = df[column].str.lower().str.replace(' ', '_')\n",
    "    return df\n",
    "\n",
    "def clean_headers_rows(df:pd.DataFrame)->pd.DataFrame:\n",
    "    df = clean_headers(df)\n",
    "    df = clean_rows(df)\n",
    "    return df"
   ],
   "metadata": {
    "collapsed": false,
    "ExecuteTime": {
     "end_time": "2024-01-18T15:14:35.324398475Z",
     "start_time": "2024-01-18T15:14:35.317983092Z"
    }
   },
   "id": "f54f2b6c0c47f4d0",
   "execution_count": 37
  },
  {
   "cell_type": "code",
   "outputs": [
    {
     "data": {
      "text/plain": "   status  seniority  home  time  age  marital  records  job  expenses  \\\n0       1          9     1    60   30        2        1    3        73   \n1       1         17     1    60   58        3        1    1        48   \n2       2         10     2    36   46        2        2    3        90   \n3       1          0     1    60   24        1        1    1        63   \n4       1          0     1    36   26        1        1    1        46   \n\n   income  assets  debt  amount  price  \n0     129       0     0     800    846  \n1     131       0     0    1000   1658  \n2     200    3000     0    2000   2985  \n3     182    2500     0     900   1325  \n4     107       0     0     310    910  ",
      "text/html": "<div>\n<style scoped>\n    .dataframe tbody tr th:only-of-type {\n        vertical-align: middle;\n    }\n\n    .dataframe tbody tr th {\n        vertical-align: top;\n    }\n\n    .dataframe thead th {\n        text-align: right;\n    }\n</style>\n<table border=\"1\" class=\"dataframe\">\n  <thead>\n    <tr style=\"text-align: right;\">\n      <th></th>\n      <th>status</th>\n      <th>seniority</th>\n      <th>home</th>\n      <th>time</th>\n      <th>age</th>\n      <th>marital</th>\n      <th>records</th>\n      <th>job</th>\n      <th>expenses</th>\n      <th>income</th>\n      <th>assets</th>\n      <th>debt</th>\n      <th>amount</th>\n      <th>price</th>\n    </tr>\n  </thead>\n  <tbody>\n    <tr>\n      <th>0</th>\n      <td>1</td>\n      <td>9</td>\n      <td>1</td>\n      <td>60</td>\n      <td>30</td>\n      <td>2</td>\n      <td>1</td>\n      <td>3</td>\n      <td>73</td>\n      <td>129</td>\n      <td>0</td>\n      <td>0</td>\n      <td>800</td>\n      <td>846</td>\n    </tr>\n    <tr>\n      <th>1</th>\n      <td>1</td>\n      <td>17</td>\n      <td>1</td>\n      <td>60</td>\n      <td>58</td>\n      <td>3</td>\n      <td>1</td>\n      <td>1</td>\n      <td>48</td>\n      <td>131</td>\n      <td>0</td>\n      <td>0</td>\n      <td>1000</td>\n      <td>1658</td>\n    </tr>\n    <tr>\n      <th>2</th>\n      <td>2</td>\n      <td>10</td>\n      <td>2</td>\n      <td>36</td>\n      <td>46</td>\n      <td>2</td>\n      <td>2</td>\n      <td>3</td>\n      <td>90</td>\n      <td>200</td>\n      <td>3000</td>\n      <td>0</td>\n      <td>2000</td>\n      <td>2985</td>\n    </tr>\n    <tr>\n      <th>3</th>\n      <td>1</td>\n      <td>0</td>\n      <td>1</td>\n      <td>60</td>\n      <td>24</td>\n      <td>1</td>\n      <td>1</td>\n      <td>1</td>\n      <td>63</td>\n      <td>182</td>\n      <td>2500</td>\n      <td>0</td>\n      <td>900</td>\n      <td>1325</td>\n    </tr>\n    <tr>\n      <th>4</th>\n      <td>1</td>\n      <td>0</td>\n      <td>1</td>\n      <td>36</td>\n      <td>26</td>\n      <td>1</td>\n      <td>1</td>\n      <td>1</td>\n      <td>46</td>\n      <td>107</td>\n      <td>0</td>\n      <td>0</td>\n      <td>310</td>\n      <td>910</td>\n    </tr>\n  </tbody>\n</table>\n</div>"
     },
     "execution_count": 38,
     "metadata": {},
     "output_type": "execute_result"
    }
   ],
   "source": [
    "df = clean_headers_rows(df)\n",
    "df.head()"
   ],
   "metadata": {
    "collapsed": false,
    "ExecuteTime": {
     "end_time": "2024-01-18T15:14:35.845742506Z",
     "start_time": "2024-01-18T15:14:35.836105727Z"
    }
   },
   "id": "e623bc4ab936486e",
   "execution_count": 38
  },
  {
   "cell_type": "markdown",
   "source": [
    "Il nous manque des informations pour comprendre le dataset, elles sont disponibles sur le github d'où provient de fichier csv. Les voici sous forme de dictionnaire:\n",
    "status = {0:\"unknow\", 1:\"good\", 2:\"bad\"}\n",
    "home = {0:\"unknow\", 1:\"rent\", 2:\"owner\", 3:\"priv\", 4:\"ignore\", 5:\"parents\", 6:\"other\"}\n",
    "marital = {0:\"unknow\", 1:\"single\", 2:\"married\", 3:\"widow\", 4:\"separated\", 5:\"divorced\"}\n",
    "records = {0:\"unknow\", 1:\"no_rec\", 2:\"yes_rec\"}\n",
    "job = {0:\"unknow\", 1:\"fixed\", 2:\"partime\", 3:\"freelance\", 4:\"other\"}\n",
    "\n",
    "On va créer un dataframe lisible pour mieux comprendre les données:"
   ],
   "metadata": {
    "collapsed": false
   },
   "id": "26712576dd59b86c"
  },
  {
   "cell_type": "code",
   "outputs": [],
   "source": [
    "dict_status = {0:\"unknow\", 1:\"good\", 2:\"bad\"}\n",
    "home = {0:\"unknow\", 1:\"rent\", 2:\"owner\", 3:\"priv\", 4:\"ignore\", 5:\"parents\", 6:\"other\"}\n",
    "marital = {0:\"unknow\", 1:\"single\", 2:\"married\", 3:\"widow\", 4:\"separated\", 5:\"divorced\"}\n",
    "records = {0:\"unknow\", 1:\"no_rec\", 2:\"yes_rec\"}\n",
    "job = {0:\"unknow\", 1:\"fixed\", 2:\"partime\", 3:\"freelance\", 4:\"other\"}\n",
    "df_readable = df.copy()\n",
    "df_readable.status = df.status.map(dict_status)\n",
    "df_readable['home'] = df.status.map(home)\n",
    "df_readable['marital'] = df.status.map(marital)\n",
    "df_readable['records'] = df.status.map(records)\n",
    "df_readable['job'] = df.status.map(job)\n"
   ],
   "metadata": {
    "collapsed": false,
    "ExecuteTime": {
     "end_time": "2024-01-18T15:14:38.422924350Z",
     "start_time": "2024-01-18T15:14:38.409834233Z"
    }
   },
   "id": "3d2491aa32684201",
   "execution_count": 39
  },
  {
   "cell_type": "code",
   "outputs": [
    {
     "data": {
      "text/plain": "  status  seniority   home  time  age  marital  records      job  expenses  \\\n0   good          9   rent    60   30   single   no_rec    fixed        73   \n1   good         17   rent    60   58   single   no_rec    fixed        48   \n2    bad         10  owner    36   46  married  yes_rec  partime        90   \n3   good          0   rent    60   24   single   no_rec    fixed        63   \n4   good          0   rent    36   26   single   no_rec    fixed        46   \n\n   income  assets  debt  amount  price  \n0     129       0     0     800    846  \n1     131       0     0    1000   1658  \n2     200    3000     0    2000   2985  \n3     182    2500     0     900   1325  \n4     107       0     0     310    910  ",
      "text/html": "<div>\n<style scoped>\n    .dataframe tbody tr th:only-of-type {\n        vertical-align: middle;\n    }\n\n    .dataframe tbody tr th {\n        vertical-align: top;\n    }\n\n    .dataframe thead th {\n        text-align: right;\n    }\n</style>\n<table border=\"1\" class=\"dataframe\">\n  <thead>\n    <tr style=\"text-align: right;\">\n      <th></th>\n      <th>status</th>\n      <th>seniority</th>\n      <th>home</th>\n      <th>time</th>\n      <th>age</th>\n      <th>marital</th>\n      <th>records</th>\n      <th>job</th>\n      <th>expenses</th>\n      <th>income</th>\n      <th>assets</th>\n      <th>debt</th>\n      <th>amount</th>\n      <th>price</th>\n    </tr>\n  </thead>\n  <tbody>\n    <tr>\n      <th>0</th>\n      <td>good</td>\n      <td>9</td>\n      <td>rent</td>\n      <td>60</td>\n      <td>30</td>\n      <td>single</td>\n      <td>no_rec</td>\n      <td>fixed</td>\n      <td>73</td>\n      <td>129</td>\n      <td>0</td>\n      <td>0</td>\n      <td>800</td>\n      <td>846</td>\n    </tr>\n    <tr>\n      <th>1</th>\n      <td>good</td>\n      <td>17</td>\n      <td>rent</td>\n      <td>60</td>\n      <td>58</td>\n      <td>single</td>\n      <td>no_rec</td>\n      <td>fixed</td>\n      <td>48</td>\n      <td>131</td>\n      <td>0</td>\n      <td>0</td>\n      <td>1000</td>\n      <td>1658</td>\n    </tr>\n    <tr>\n      <th>2</th>\n      <td>bad</td>\n      <td>10</td>\n      <td>owner</td>\n      <td>36</td>\n      <td>46</td>\n      <td>married</td>\n      <td>yes_rec</td>\n      <td>partime</td>\n      <td>90</td>\n      <td>200</td>\n      <td>3000</td>\n      <td>0</td>\n      <td>2000</td>\n      <td>2985</td>\n    </tr>\n    <tr>\n      <th>3</th>\n      <td>good</td>\n      <td>0</td>\n      <td>rent</td>\n      <td>60</td>\n      <td>24</td>\n      <td>single</td>\n      <td>no_rec</td>\n      <td>fixed</td>\n      <td>63</td>\n      <td>182</td>\n      <td>2500</td>\n      <td>0</td>\n      <td>900</td>\n      <td>1325</td>\n    </tr>\n    <tr>\n      <th>4</th>\n      <td>good</td>\n      <td>0</td>\n      <td>rent</td>\n      <td>36</td>\n      <td>26</td>\n      <td>single</td>\n      <td>no_rec</td>\n      <td>fixed</td>\n      <td>46</td>\n      <td>107</td>\n      <td>0</td>\n      <td>0</td>\n      <td>310</td>\n      <td>910</td>\n    </tr>\n  </tbody>\n</table>\n</div>"
     },
     "execution_count": 40,
     "metadata": {},
     "output_type": "execute_result"
    }
   ],
   "source": [
    "df_readable.head()"
   ],
   "metadata": {
    "collapsed": false,
    "ExecuteTime": {
     "end_time": "2024-01-18T15:14:40.807697929Z",
     "start_time": "2024-01-18T15:14:40.795613718Z"
    }
   },
   "id": "4549edb2881d479c",
   "execution_count": 40
  },
  {
   "cell_type": "markdown",
   "source": [
    "Dans les sources, il est indiqué que les valeurs manquantes sont remplacées par le nombre 99999999. Nous devons donc remplacer par np.nan afin de ne pas fausser les résultats"
   ],
   "metadata": {
    "collapsed": false
   },
   "id": "9d27c010b811cda3"
  },
  {
   "cell_type": "code",
   "outputs": [
    {
     "data": {
      "text/plain": "       status  seniority    home    time     age  marital  records     job  \\\ncount  4455.0     4455.0  4455.0  4455.0  4455.0   4455.0   4455.0  4455.0   \nmean      1.0        8.0     3.0    46.0    37.0      2.0      1.0     2.0   \nstd       0.0        8.0     2.0    15.0    11.0      1.0      0.0     1.0   \nmin       0.0        0.0     0.0     6.0    18.0      0.0      1.0     0.0   \n25%       1.0        2.0     2.0    36.0    28.0      2.0      1.0     1.0   \n50%       1.0        5.0     2.0    48.0    36.0      2.0      1.0     1.0   \n75%       2.0       12.0     4.0    60.0    45.0      2.0      1.0     3.0   \nmax       2.0       48.0     6.0    72.0    68.0      5.0      2.0     4.0   \n\n       expenses      income      assets        debt  amount    price  \ncount    4455.0      4455.0      4455.0      4455.0  4455.0   4455.0  \nmean       56.0    763317.0   1060341.0    404382.0  1039.0   1463.0  \nstd        20.0   8703625.0  10217569.0   6344253.0   475.0    628.0  \nmin        35.0         0.0         0.0         0.0   100.0    105.0  \n25%        35.0        80.0         0.0         0.0   700.0   1118.0  \n50%        51.0       120.0      3500.0         0.0  1000.0   1400.0  \n75%        72.0       166.0      6000.0         0.0  1300.0   1692.0  \nmax       180.0  99999999.0  99999999.0  99999999.0  5000.0  11140.0  ",
      "text/html": "<div>\n<style scoped>\n    .dataframe tbody tr th:only-of-type {\n        vertical-align: middle;\n    }\n\n    .dataframe tbody tr th {\n        vertical-align: top;\n    }\n\n    .dataframe thead th {\n        text-align: right;\n    }\n</style>\n<table border=\"1\" class=\"dataframe\">\n  <thead>\n    <tr style=\"text-align: right;\">\n      <th></th>\n      <th>status</th>\n      <th>seniority</th>\n      <th>home</th>\n      <th>time</th>\n      <th>age</th>\n      <th>marital</th>\n      <th>records</th>\n      <th>job</th>\n      <th>expenses</th>\n      <th>income</th>\n      <th>assets</th>\n      <th>debt</th>\n      <th>amount</th>\n      <th>price</th>\n    </tr>\n  </thead>\n  <tbody>\n    <tr>\n      <th>count</th>\n      <td>4455.0</td>\n      <td>4455.0</td>\n      <td>4455.0</td>\n      <td>4455.0</td>\n      <td>4455.0</td>\n      <td>4455.0</td>\n      <td>4455.0</td>\n      <td>4455.0</td>\n      <td>4455.0</td>\n      <td>4455.0</td>\n      <td>4455.0</td>\n      <td>4455.0</td>\n      <td>4455.0</td>\n      <td>4455.0</td>\n    </tr>\n    <tr>\n      <th>mean</th>\n      <td>1.0</td>\n      <td>8.0</td>\n      <td>3.0</td>\n      <td>46.0</td>\n      <td>37.0</td>\n      <td>2.0</td>\n      <td>1.0</td>\n      <td>2.0</td>\n      <td>56.0</td>\n      <td>763317.0</td>\n      <td>1060341.0</td>\n      <td>404382.0</td>\n      <td>1039.0</td>\n      <td>1463.0</td>\n    </tr>\n    <tr>\n      <th>std</th>\n      <td>0.0</td>\n      <td>8.0</td>\n      <td>2.0</td>\n      <td>15.0</td>\n      <td>11.0</td>\n      <td>1.0</td>\n      <td>0.0</td>\n      <td>1.0</td>\n      <td>20.0</td>\n      <td>8703625.0</td>\n      <td>10217569.0</td>\n      <td>6344253.0</td>\n      <td>475.0</td>\n      <td>628.0</td>\n    </tr>\n    <tr>\n      <th>min</th>\n      <td>0.0</td>\n      <td>0.0</td>\n      <td>0.0</td>\n      <td>6.0</td>\n      <td>18.0</td>\n      <td>0.0</td>\n      <td>1.0</td>\n      <td>0.0</td>\n      <td>35.0</td>\n      <td>0.0</td>\n      <td>0.0</td>\n      <td>0.0</td>\n      <td>100.0</td>\n      <td>105.0</td>\n    </tr>\n    <tr>\n      <th>25%</th>\n      <td>1.0</td>\n      <td>2.0</td>\n      <td>2.0</td>\n      <td>36.0</td>\n      <td>28.0</td>\n      <td>2.0</td>\n      <td>1.0</td>\n      <td>1.0</td>\n      <td>35.0</td>\n      <td>80.0</td>\n      <td>0.0</td>\n      <td>0.0</td>\n      <td>700.0</td>\n      <td>1118.0</td>\n    </tr>\n    <tr>\n      <th>50%</th>\n      <td>1.0</td>\n      <td>5.0</td>\n      <td>2.0</td>\n      <td>48.0</td>\n      <td>36.0</td>\n      <td>2.0</td>\n      <td>1.0</td>\n      <td>1.0</td>\n      <td>51.0</td>\n      <td>120.0</td>\n      <td>3500.0</td>\n      <td>0.0</td>\n      <td>1000.0</td>\n      <td>1400.0</td>\n    </tr>\n    <tr>\n      <th>75%</th>\n      <td>2.0</td>\n      <td>12.0</td>\n      <td>4.0</td>\n      <td>60.0</td>\n      <td>45.0</td>\n      <td>2.0</td>\n      <td>1.0</td>\n      <td>3.0</td>\n      <td>72.0</td>\n      <td>166.0</td>\n      <td>6000.0</td>\n      <td>0.0</td>\n      <td>1300.0</td>\n      <td>1692.0</td>\n    </tr>\n    <tr>\n      <th>max</th>\n      <td>2.0</td>\n      <td>48.0</td>\n      <td>6.0</td>\n      <td>72.0</td>\n      <td>68.0</td>\n      <td>5.0</td>\n      <td>2.0</td>\n      <td>4.0</td>\n      <td>180.0</td>\n      <td>99999999.0</td>\n      <td>99999999.0</td>\n      <td>99999999.0</td>\n      <td>5000.0</td>\n      <td>11140.0</td>\n    </tr>\n  </tbody>\n</table>\n</div>"
     },
     "execution_count": 42,
     "metadata": {},
     "output_type": "execute_result"
    }
   ],
   "source": [
    "df.describe().round()"
   ],
   "metadata": {
    "collapsed": false,
    "ExecuteTime": {
     "end_time": "2024-01-18T15:22:57.633061392Z",
     "start_time": "2024-01-18T15:22:57.589670961Z"
    }
   },
   "id": "3be61a1dffcb9a1f",
   "execution_count": 42
  },
  {
   "cell_type": "markdown",
   "source": [
    "On constate avec la commande ```df.describe().round()``` en valeur **max** nous avons income, assets et debt qui contiennent le nombre 99999999"
   ],
   "metadata": {
    "collapsed": false
   },
   "id": "bc14aa3dfa11ccae"
  },
  {
   "cell_type": "code",
   "outputs": [],
   "source": [
    "for c in ['income', 'assets', 'debt']:\n",
    "    df[c] = df[c].replace(to_replace=99999999, value=np.nan)"
   ],
   "metadata": {
    "collapsed": false,
    "ExecuteTime": {
     "end_time": "2024-01-18T15:30:03.328822460Z",
     "start_time": "2024-01-18T15:30:03.288650981Z"
    }
   },
   "id": "dd855a5ab969db28",
   "execution_count": 43
  },
  {
   "cell_type": "code",
   "outputs": [
    {
     "data": {
      "text/plain": "       status  seniority    home    time     age  marital  records     job  \\\ncount  4455.0     4455.0  4455.0  4455.0  4455.0   4455.0   4455.0  4455.0   \nmean      1.0        8.0     3.0    46.0    37.0      2.0      1.0     2.0   \nstd       0.0        8.0     2.0    15.0    11.0      1.0      0.0     1.0   \nmin       0.0        0.0     0.0     6.0    18.0      0.0      1.0     0.0   \n25%       1.0        2.0     2.0    36.0    28.0      2.0      1.0     1.0   \n50%       1.0        5.0     2.0    48.0    36.0      2.0      1.0     1.0   \n75%       2.0       12.0     4.0    60.0    45.0      2.0      1.0     3.0   \nmax       2.0       48.0     6.0    72.0    68.0      5.0      2.0     4.0   \n\n       expenses  income    assets     debt  amount    price  \ncount    4455.0  4421.0    4408.0   4437.0  4455.0   4455.0  \nmean       56.0   131.0    5403.0    343.0  1039.0   1463.0  \nstd        20.0    86.0   11573.0   1246.0   475.0    628.0  \nmin        35.0     0.0       0.0      0.0   100.0    105.0  \n25%        35.0    80.0       0.0      0.0   700.0   1118.0  \n50%        51.0   120.0    3000.0      0.0  1000.0   1400.0  \n75%        72.0   165.0    6000.0      0.0  1300.0   1692.0  \nmax       180.0   959.0  300000.0  30000.0  5000.0  11140.0  ",
      "text/html": "<div>\n<style scoped>\n    .dataframe tbody tr th:only-of-type {\n        vertical-align: middle;\n    }\n\n    .dataframe tbody tr th {\n        vertical-align: top;\n    }\n\n    .dataframe thead th {\n        text-align: right;\n    }\n</style>\n<table border=\"1\" class=\"dataframe\">\n  <thead>\n    <tr style=\"text-align: right;\">\n      <th></th>\n      <th>status</th>\n      <th>seniority</th>\n      <th>home</th>\n      <th>time</th>\n      <th>age</th>\n      <th>marital</th>\n      <th>records</th>\n      <th>job</th>\n      <th>expenses</th>\n      <th>income</th>\n      <th>assets</th>\n      <th>debt</th>\n      <th>amount</th>\n      <th>price</th>\n    </tr>\n  </thead>\n  <tbody>\n    <tr>\n      <th>count</th>\n      <td>4455.0</td>\n      <td>4455.0</td>\n      <td>4455.0</td>\n      <td>4455.0</td>\n      <td>4455.0</td>\n      <td>4455.0</td>\n      <td>4455.0</td>\n      <td>4455.0</td>\n      <td>4455.0</td>\n      <td>4421.0</td>\n      <td>4408.0</td>\n      <td>4437.0</td>\n      <td>4455.0</td>\n      <td>4455.0</td>\n    </tr>\n    <tr>\n      <th>mean</th>\n      <td>1.0</td>\n      <td>8.0</td>\n      <td>3.0</td>\n      <td>46.0</td>\n      <td>37.0</td>\n      <td>2.0</td>\n      <td>1.0</td>\n      <td>2.0</td>\n      <td>56.0</td>\n      <td>131.0</td>\n      <td>5403.0</td>\n      <td>343.0</td>\n      <td>1039.0</td>\n      <td>1463.0</td>\n    </tr>\n    <tr>\n      <th>std</th>\n      <td>0.0</td>\n      <td>8.0</td>\n      <td>2.0</td>\n      <td>15.0</td>\n      <td>11.0</td>\n      <td>1.0</td>\n      <td>0.0</td>\n      <td>1.0</td>\n      <td>20.0</td>\n      <td>86.0</td>\n      <td>11573.0</td>\n      <td>1246.0</td>\n      <td>475.0</td>\n      <td>628.0</td>\n    </tr>\n    <tr>\n      <th>min</th>\n      <td>0.0</td>\n      <td>0.0</td>\n      <td>0.0</td>\n      <td>6.0</td>\n      <td>18.0</td>\n      <td>0.0</td>\n      <td>1.0</td>\n      <td>0.0</td>\n      <td>35.0</td>\n      <td>0.0</td>\n      <td>0.0</td>\n      <td>0.0</td>\n      <td>100.0</td>\n      <td>105.0</td>\n    </tr>\n    <tr>\n      <th>25%</th>\n      <td>1.0</td>\n      <td>2.0</td>\n      <td>2.0</td>\n      <td>36.0</td>\n      <td>28.0</td>\n      <td>2.0</td>\n      <td>1.0</td>\n      <td>1.0</td>\n      <td>35.0</td>\n      <td>80.0</td>\n      <td>0.0</td>\n      <td>0.0</td>\n      <td>700.0</td>\n      <td>1118.0</td>\n    </tr>\n    <tr>\n      <th>50%</th>\n      <td>1.0</td>\n      <td>5.0</td>\n      <td>2.0</td>\n      <td>48.0</td>\n      <td>36.0</td>\n      <td>2.0</td>\n      <td>1.0</td>\n      <td>1.0</td>\n      <td>51.0</td>\n      <td>120.0</td>\n      <td>3000.0</td>\n      <td>0.0</td>\n      <td>1000.0</td>\n      <td>1400.0</td>\n    </tr>\n    <tr>\n      <th>75%</th>\n      <td>2.0</td>\n      <td>12.0</td>\n      <td>4.0</td>\n      <td>60.0</td>\n      <td>45.0</td>\n      <td>2.0</td>\n      <td>1.0</td>\n      <td>3.0</td>\n      <td>72.0</td>\n      <td>165.0</td>\n      <td>6000.0</td>\n      <td>0.0</td>\n      <td>1300.0</td>\n      <td>1692.0</td>\n    </tr>\n    <tr>\n      <th>max</th>\n      <td>2.0</td>\n      <td>48.0</td>\n      <td>6.0</td>\n      <td>72.0</td>\n      <td>68.0</td>\n      <td>5.0</td>\n      <td>2.0</td>\n      <td>4.0</td>\n      <td>180.0</td>\n      <td>959.0</td>\n      <td>300000.0</td>\n      <td>30000.0</td>\n      <td>5000.0</td>\n      <td>11140.0</td>\n    </tr>\n  </tbody>\n</table>\n</div>"
     },
     "execution_count": 45,
     "metadata": {},
     "output_type": "execute_result"
    }
   ],
   "source": [
    "df.describe().round()"
   ],
   "metadata": {
    "collapsed": false,
    "ExecuteTime": {
     "end_time": "2024-01-18T15:30:17.040755296Z",
     "start_time": "2024-01-18T15:30:16.983023191Z"
    }
   },
   "id": "2766b6ee3ba5588f",
   "execution_count": 45
  },
  {
   "cell_type": "markdown",
   "source": [
    "@7:32 https://www.youtube.com/watch?v=tfuQdI3YO2c&list=PL3MmuxUbc_hIhxl5Ji8t4O6lPAOpHaCLR&index=58"
   ],
   "metadata": {
    "collapsed": false
   },
   "id": "d4df46c740a2235d"
  }
 ],
 "metadata": {
  "kernelspec": {
   "display_name": "Python 3",
   "language": "python",
   "name": "python3"
  },
  "language_info": {
   "codemirror_mode": {
    "name": "ipython",
    "version": 2
   },
   "file_extension": ".py",
   "mimetype": "text/x-python",
   "name": "python",
   "nbconvert_exporter": "python",
   "pygments_lexer": "ipython2",
   "version": "2.7.6"
  }
 },
 "nbformat": 4,
 "nbformat_minor": 5
}
