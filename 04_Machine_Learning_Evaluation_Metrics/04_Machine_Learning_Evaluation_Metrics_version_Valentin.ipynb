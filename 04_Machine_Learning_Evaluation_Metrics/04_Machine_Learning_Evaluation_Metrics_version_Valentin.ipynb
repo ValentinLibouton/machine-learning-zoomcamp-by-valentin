{
 "cells": [
  {
   "cell_type": "markdown",
   "source": [
    "# 4. Evaluation Metrice for Classification\n",
    "In the previous session we trainted a model for predicting churn. How do we know if it's good? "
   ],
   "metadata": {
    "collapsed": false
   },
   "id": "d3f5ed4747096a6b"
  },
  {
   "cell_type": "markdown",
   "source": [
    "## 4.1 Evaluation metrics: session overview\n",
    "* Dataset: https//www.kaggle.com/blastchar/telco-customer-churn\n",
    "* https:://raw.githubusercontent.com/alexeygrigorev/mlbookcamp-code/master/chapter-03-churn-prediction/WA_Fn-UseC_-Telco-Customer-Churn.csv\n",
    "Metric - function that compares the predictions with the actual values and outputs a single number that tells how good the predictions are"
   ],
   "metadata": {
    "collapsed": false
   },
   "id": "85dedfba42662ace"
  },
  {
   "cell_type": "code",
   "execution_count": 78,
   "outputs": [],
   "source": [
    "import pandas as pd\n",
    "import numpy as np\n",
    "import matplotlib.pyplot as plt"
   ],
   "metadata": {
    "collapsed": false,
    "ExecuteTime": {
     "end_time": "2024-01-18T08:00:16.153218679Z",
     "start_time": "2024-01-18T08:00:15.092198202Z"
    }
   },
   "id": "6855e250d7776244"
  },
  {
   "cell_type": "code",
   "execution_count": 79,
   "outputs": [],
   "source": [
    "from sklearn.model_selection import train_test_split\n",
    "from sklearn.feature_extraction import DictVectorizer\n",
    "from sklearn.linear_model import LogisticRegression"
   ],
   "metadata": {
    "collapsed": false,
    "ExecuteTime": {
     "end_time": "2024-01-18T08:00:16.225422771Z",
     "start_time": "2024-01-18T08:00:16.142188613Z"
    }
   },
   "id": "27ccd2df9620b1c1"
  },
  {
   "cell_type": "code",
   "execution_count": 80,
   "outputs": [],
   "source": [
    "data_url = 'https://raw.githubusercontent.com/alexeygrigorev/mlbookcamp-code/master/chapter-03-churn-prediction/WA_Fn-UseC_-Telco-Customer-Churn.csv'"
   ],
   "metadata": {
    "collapsed": false,
    "ExecuteTime": {
     "end_time": "2024-01-18T08:00:16.322977218Z",
     "start_time": "2024-01-18T08:00:16.218608964Z"
    }
   },
   "id": "4cb26c42f7070861"
  },
  {
   "cell_type": "code",
   "execution_count": 81,
   "outputs": [
    {
     "name": "stdout",
     "output_type": "stream",
     "text": [
      "Le fichier data-week-4.csv existe déjà.\n"
     ]
    }
   ],
   "source": [
    "import os\n",
    "filename = 'data-week-4.csv'\n",
    "if not os.path.exists(filename):\n",
    "    os.system(f'wget {data_url} -O {filename}')\n",
    "    print(f\"Le fichier {filename} a été téléchargé avec succès.\")\n",
    "else:\n",
    "    # Si le fichier existe déjà, imprimez un message\n",
    "    print(f\"Le fichier {filename} existe déjà.\")"
   ],
   "metadata": {
    "collapsed": false,
    "ExecuteTime": {
     "end_time": "2024-01-18T08:00:16.362355755Z",
     "start_time": "2024-01-18T08:00:16.313402031Z"
    }
   },
   "id": "5d54c32fd1608d04"
  },
  {
   "cell_type": "code",
   "execution_count": 82,
   "outputs": [],
   "source": [
    "df = pd.read_csv(filename)\n",
    "df.columns = df.columns.str.lower().str.replace(' ', '_') # edit columns names\n",
    "categorical_columns = list(df.dtypes[df.dtypes == 'object'].index)\n",
    "for c in categorical_columns:\n",
    "    df[c] = df[c].str.lower().str.replace(' ', '_') # edit content of column"
   ],
   "metadata": {
    "collapsed": false,
    "ExecuteTime": {
     "end_time": "2024-01-18T08:00:16.561843765Z",
     "start_time": "2024-01-18T08:00:16.354869550Z"
    }
   },
   "id": "8443ac78be2c1ed9"
  },
  {
   "cell_type": "code",
   "execution_count": 83,
   "outputs": [],
   "source": [
    "df['totalcharges'] = pd.to_numeric(df['totalcharges'], errors='coerce')\n",
    "df.totalcharges = df.totalcharges.fillna(0)\n",
    "df.churn = (df.churn == 'yes').astype(int)"
   ],
   "metadata": {
    "collapsed": false,
    "ExecuteTime": {
     "end_time": "2024-01-18T08:00:16.571760383Z",
     "start_time": "2024-01-18T08:00:16.522362541Z"
    }
   },
   "id": "39ad15c385b7e52f"
  },
  {
   "cell_type": "code",
   "execution_count": 84,
   "outputs": [],
   "source": [
    "df_full_train, df_test = train_test_split(df, test_size=0.2, random_state=1)\n",
    "df_train, df_val = train_test_split(df_full_train, test_size=0.25, random_state=1)\n",
    "\n",
    "df_train.reset_index(drop=True, inplace=True)\n",
    "df_val.reset_index(drop=True, inplace=True)\n",
    "df_test.reset_index(drop=True, inplace=True)\n",
    "\n",
    "y_train = df_train.churn.values\n",
    "y_val = df_val.churn.values\n",
    "y_test = df_test.churn.values\n",
    "\n",
    "df_train.drop('churn', axis=1, inplace=True)\n",
    "df_val.drop('churn', axis=1, inplace=True)\n",
    "df_test.drop('churn', axis=1, inplace=True)"
   ],
   "metadata": {
    "collapsed": false,
    "ExecuteTime": {
     "end_time": "2024-01-18T08:00:16.693336602Z",
     "start_time": "2024-01-18T08:00:16.551451226Z"
    }
   },
   "id": "f74498131d0447ce"
  },
  {
   "cell_type": "code",
   "execution_count": 85,
   "outputs": [],
   "source": [
    "numerical = ['tenure', 'monthlycharges', 'totalcharges']\n",
    "categorical = ['customerid', 'gender', 'seniorcitizen', 'partner', 'dependents', 'phoneservice', 'multiplelines', 'internetservice',\n",
    "       'onlinesecurity', 'onlinebackup', 'deviceprotection', 'techsupport',\n",
    "       'streamingtv', 'streamingmovies', 'contract', 'paperlessbilling',\n",
    "       'paymentmethod']"
   ],
   "metadata": {
    "collapsed": false,
    "ExecuteTime": {
     "end_time": "2024-01-18T08:00:16.728663483Z",
     "start_time": "2024-01-18T08:00:16.600298267Z"
    }
   },
   "id": "a5bd18f8004756de"
  },
  {
   "cell_type": "code",
   "execution_count": 86,
   "outputs": [
    {
     "name": "stderr",
     "output_type": "stream",
     "text": [
      "/home/wm18vw/miniconda3/envs/machineLearning_env/lib/python3.10/site-packages/sklearn/linear_model/_logistic.py:460: ConvergenceWarning: lbfgs failed to converge (status=1):\n",
      "STOP: TOTAL NO. of ITERATIONS REACHED LIMIT.\n",
      "\n",
      "Increase the number of iterations (max_iter) or scale the data as shown in:\n",
      "    https://scikit-learn.org/stable/modules/preprocessing.html\n",
      "Please also refer to the documentation for alternative solver options:\n",
      "    https://scikit-learn.org/stable/modules/linear_model.html#logistic-regression\n",
      "  n_iter_i = _check_optimize_result(\n"
     ]
    },
    {
     "data": {
      "text/plain": "LogisticRegression()",
      "text/html": "<style>#sk-container-id-2 {color: black;}#sk-container-id-2 pre{padding: 0;}#sk-container-id-2 div.sk-toggleable {background-color: white;}#sk-container-id-2 label.sk-toggleable__label {cursor: pointer;display: block;width: 100%;margin-bottom: 0;padding: 0.3em;box-sizing: border-box;text-align: center;}#sk-container-id-2 label.sk-toggleable__label-arrow:before {content: \"▸\";float: left;margin-right: 0.25em;color: #696969;}#sk-container-id-2 label.sk-toggleable__label-arrow:hover:before {color: black;}#sk-container-id-2 div.sk-estimator:hover label.sk-toggleable__label-arrow:before {color: black;}#sk-container-id-2 div.sk-toggleable__content {max-height: 0;max-width: 0;overflow: hidden;text-align: left;background-color: #f0f8ff;}#sk-container-id-2 div.sk-toggleable__content pre {margin: 0.2em;color: black;border-radius: 0.25em;background-color: #f0f8ff;}#sk-container-id-2 input.sk-toggleable__control:checked~div.sk-toggleable__content {max-height: 200px;max-width: 100%;overflow: auto;}#sk-container-id-2 input.sk-toggleable__control:checked~label.sk-toggleable__label-arrow:before {content: \"▾\";}#sk-container-id-2 div.sk-estimator input.sk-toggleable__control:checked~label.sk-toggleable__label {background-color: #d4ebff;}#sk-container-id-2 div.sk-label input.sk-toggleable__control:checked~label.sk-toggleable__label {background-color: #d4ebff;}#sk-container-id-2 input.sk-hidden--visually {border: 0;clip: rect(1px 1px 1px 1px);clip: rect(1px, 1px, 1px, 1px);height: 1px;margin: -1px;overflow: hidden;padding: 0;position: absolute;width: 1px;}#sk-container-id-2 div.sk-estimator {font-family: monospace;background-color: #f0f8ff;border: 1px dotted black;border-radius: 0.25em;box-sizing: border-box;margin-bottom: 0.5em;}#sk-container-id-2 div.sk-estimator:hover {background-color: #d4ebff;}#sk-container-id-2 div.sk-parallel-item::after {content: \"\";width: 100%;border-bottom: 1px solid gray;flex-grow: 1;}#sk-container-id-2 div.sk-label:hover label.sk-toggleable__label {background-color: #d4ebff;}#sk-container-id-2 div.sk-serial::before {content: \"\";position: absolute;border-left: 1px solid gray;box-sizing: border-box;top: 0;bottom: 0;left: 50%;z-index: 0;}#sk-container-id-2 div.sk-serial {display: flex;flex-direction: column;align-items: center;background-color: white;padding-right: 0.2em;padding-left: 0.2em;position: relative;}#sk-container-id-2 div.sk-item {position: relative;z-index: 1;}#sk-container-id-2 div.sk-parallel {display: flex;align-items: stretch;justify-content: center;background-color: white;position: relative;}#sk-container-id-2 div.sk-item::before, #sk-container-id-2 div.sk-parallel-item::before {content: \"\";position: absolute;border-left: 1px solid gray;box-sizing: border-box;top: 0;bottom: 0;left: 50%;z-index: -1;}#sk-container-id-2 div.sk-parallel-item {display: flex;flex-direction: column;z-index: 1;position: relative;background-color: white;}#sk-container-id-2 div.sk-parallel-item:first-child::after {align-self: flex-end;width: 50%;}#sk-container-id-2 div.sk-parallel-item:last-child::after {align-self: flex-start;width: 50%;}#sk-container-id-2 div.sk-parallel-item:only-child::after {width: 0;}#sk-container-id-2 div.sk-dashed-wrapped {border: 1px dashed gray;margin: 0 0.4em 0.5em 0.4em;box-sizing: border-box;padding-bottom: 0.4em;background-color: white;}#sk-container-id-2 div.sk-label label {font-family: monospace;font-weight: bold;display: inline-block;line-height: 1.2em;}#sk-container-id-2 div.sk-label-container {text-align: center;}#sk-container-id-2 div.sk-container {/* jupyter's `normalize.less` sets `[hidden] { display: none; }` but bootstrap.min.css set `[hidden] { display: none !important; }` so we also need the `!important` here to be able to override the default hidden behavior on the sphinx rendered scikit-learn.org. See: https://github.com/scikit-learn/scikit-learn/issues/21755 */display: inline-block !important;position: relative;}#sk-container-id-2 div.sk-text-repr-fallback {display: none;}</style><div id=\"sk-container-id-2\" class=\"sk-top-container\"><div class=\"sk-text-repr-fallback\"><pre>LogisticRegression()</pre><b>In a Jupyter environment, please rerun this cell to show the HTML representation or trust the notebook. <br />On GitHub, the HTML representation is unable to render, please try loading this page with nbviewer.org.</b></div><div class=\"sk-container\" hidden><div class=\"sk-item\"><div class=\"sk-estimator sk-toggleable\"><input class=\"sk-toggleable__control sk-hidden--visually\" id=\"sk-estimator-id-2\" type=\"checkbox\" checked><label for=\"sk-estimator-id-2\" class=\"sk-toggleable__label sk-toggleable__label-arrow\">LogisticRegression</label><div class=\"sk-toggleable__content\"><pre>LogisticRegression()</pre></div></div></div></div></div>"
     },
     "execution_count": 86,
     "metadata": {},
     "output_type": "execute_result"
    }
   ],
   "source": [
    "dv = DictVectorizer(sparse=False)\n",
    "train_dicts = df_train[categorical + numerical].to_dict(orient='records')\n",
    "X_train = dv.fit_transform(train_dicts)\n",
    "model = LogisticRegression()\n",
    "model.fit(X_train, y_train)"
   ],
   "metadata": {
    "collapsed": false,
    "ExecuteTime": {
     "end_time": "2024-01-18T08:00:17.777463772Z",
     "start_time": "2024-01-18T08:00:16.703994661Z"
    }
   },
   "id": "33745c4827a8ef10"
  },
  {
   "cell_type": "code",
   "execution_count": 87,
   "outputs": [
    {
     "data": {
      "text/plain": "0.8005677785663591"
     },
     "execution_count": 87,
     "metadata": {},
     "output_type": "execute_result"
    }
   ],
   "source": [
    "val_dicts = df_val[categorical + numerical].to_dict(orient='records')\n",
    "X_val = dv.transform(val_dicts)\n",
    "\n",
    "y_pred = model.predict_proba(X_val)[:,1] # soft prediction\n",
    "churn_decision = (y_pred >= 0.5)\n",
    "(y_val == churn_decision).mean()"
   ],
   "metadata": {
    "collapsed": false,
    "ExecuteTime": {
     "end_time": "2024-01-18T08:00:17.982649702Z",
     "start_time": "2024-01-18T08:00:17.740869884Z"
    }
   },
   "id": "4ab3323a3d2c0950"
  },
  {
   "cell_type": "markdown",
   "source": [
    "## 4.2 Accuracy and dummy model"
   ],
   "metadata": {
    "collapsed": false
   },
   "id": "f893224698a20fd0"
  },
  {
   "cell_type": "code",
   "execution_count": 88,
   "outputs": [
    {
     "data": {
      "text/plain": "1409"
     },
     "execution_count": 88,
     "metadata": {},
     "output_type": "execute_result"
    }
   ],
   "source": [
    "len(y_val)"
   ],
   "metadata": {
    "collapsed": false,
    "ExecuteTime": {
     "end_time": "2024-01-18T08:00:18.005755688Z",
     "start_time": "2024-01-18T08:00:17.891434052Z"
    }
   },
   "id": "512d5b34f2e0936c"
  },
  {
   "cell_type": "code",
   "execution_count": 89,
   "outputs": [
    {
     "data": {
      "text/plain": "1128"
     },
     "execution_count": 89,
     "metadata": {},
     "output_type": "execute_result"
    }
   ],
   "source": [
    "(y_val == churn_decision).sum()"
   ],
   "metadata": {
    "collapsed": false,
    "ExecuteTime": {
     "end_time": "2024-01-18T08:00:18.235995998Z",
     "start_time": "2024-01-18T08:00:17.909338934Z"
    }
   },
   "id": "3c679892d64c7eab"
  },
  {
   "cell_type": "code",
   "execution_count": 90,
   "outputs": [
    {
     "data": {
      "text/plain": "0.7984386089425124"
     },
     "execution_count": 90,
     "metadata": {},
     "output_type": "execute_result"
    }
   ],
   "source": [
    "1125/1409"
   ],
   "metadata": {
    "collapsed": false,
    "ExecuteTime": {
     "end_time": "2024-01-18T08:00:18.328879024Z",
     "start_time": "2024-01-18T08:00:18.085869095Z"
    }
   },
   "id": "835113903e2f1bcc"
  },
  {
   "cell_type": "code",
   "execution_count": 91,
   "outputs": [],
   "source": [
    "from sklearn.metrics import accuracy_score"
   ],
   "metadata": {
    "collapsed": false,
    "ExecuteTime": {
     "end_time": "2024-01-18T08:00:18.367722572Z",
     "start_time": "2024-01-18T08:00:18.135964732Z"
    }
   },
   "id": "db1a2ec5d9a23171"
  },
  {
   "cell_type": "code",
   "execution_count": 92,
   "outputs": [
    {
     "data": {
      "text/plain": "0.8005677785663591"
     },
     "execution_count": 92,
     "metadata": {},
     "output_type": "execute_result"
    }
   ],
   "source": [
    "accuracy_score(y_val, y_pred >= 0.5)"
   ],
   "metadata": {
    "collapsed": false,
    "ExecuteTime": {
     "end_time": "2024-01-18T08:00:18.482344368Z",
     "start_time": "2024-01-18T08:00:18.152016551Z"
    }
   },
   "id": "a205b8d7f20898da"
  },
  {
   "cell_type": "markdown",
   "source": [
    "Accuracy $= \\frac{1125}{1409} \\approx 80\\%$"
   ],
   "metadata": {
    "collapsed": false
   },
   "id": "15d41fc4071dc7b4"
  },
  {
   "cell_type": "code",
   "execution_count": 93,
   "outputs": [
    {
     "name": "stdout",
     "output_type": "stream",
     "text": [
      "0.00 0.274\n",
      "0.05 0.510\n",
      "0.10 0.592\n",
      "0.15 0.666\n",
      "0.20 0.708\n",
      "0.25 0.734\n",
      "0.30 0.756\n",
      "0.35 0.769\n",
      "0.40 0.783\n",
      "0.45 0.797\n",
      "0.50 0.801\n",
      "0.55 0.803\n",
      "0.60 0.794\n",
      "0.65 0.784\n",
      "0.70 0.759\n",
      "0.75 0.744\n",
      "0.80 0.732\n",
      "0.85 0.726\n",
      "0.90 0.726\n",
      "0.95 0.726\n",
      "1.00 0.726\n"
     ]
    }
   ],
   "source": [
    "thresholds = np.linspace(0,1,21)\n",
    "scores = []\n",
    "\n",
    "for t in thresholds:\n",
    "    #churn_decision = (y_pred >= t)\n",
    "    #score = (y_val == churn_decision).mean()\n",
    "    score = accuracy_score(y_val, y_pred >= t)\n",
    "    print('%.2f %.3f' % (t, score))\n",
    "    scores.append(score)"
   ],
   "metadata": {
    "collapsed": false,
    "ExecuteTime": {
     "end_time": "2024-01-18T08:00:18.507901290Z",
     "start_time": "2024-01-18T08:00:18.199661574Z"
    }
   },
   "id": "1401886866a16cbf"
  },
  {
   "cell_type": "code",
   "execution_count": 94,
   "outputs": [
    {
     "data": {
      "text/plain": "[<matplotlib.lines.Line2D at 0x7f26003be230>]"
     },
     "execution_count": 94,
     "metadata": {},
     "output_type": "execute_result"
    },
    {
     "data": {
      "text/plain": "<Figure size 640x480 with 1 Axes>",
      "image/png": "[encoded data removed]"
     },
     "metadata": {},
     "output_type": "display_data"
    }
   ],
   "source": [
    "plt.plot(thresholds, scores)"
   ],
   "metadata": {
    "collapsed": false,
    "ExecuteTime": {
     "end_time": "2024-01-18T08:00:18.756758057Z",
     "start_time": "2024-01-18T08:00:18.203509456Z"
    }
   },
   "id": "25acce493d8ae993"
  },
  {
   "cell_type": "code",
   "execution_count": 95,
   "outputs": [],
   "source": [
    "from collections import Counter"
   ],
   "metadata": {
    "collapsed": false,
    "ExecuteTime": {
     "end_time": "2024-01-18T08:00:18.929251844Z",
     "start_time": "2024-01-18T08:00:18.430337660Z"
    }
   },
   "id": "b3f0d8fcc4c889cb"
  },
  {
   "cell_type": "code",
   "execution_count": 96,
   "outputs": [
    {
     "data": {
      "text/plain": "Counter({False: 1409})"
     },
     "execution_count": 96,
     "metadata": {},
     "output_type": "execute_result"
    }
   ],
   "source": [
    "Counter(y_pred >=1.0)"
   ],
   "metadata": {
    "collapsed": false,
    "ExecuteTime": {
     "end_time": "2024-01-18T08:00:19.072378995Z",
     "start_time": "2024-01-18T08:00:18.439956204Z"
    }
   },
   "id": "939693437dd3f629"
  },
  {
   "cell_type": "code",
   "execution_count": 97,
   "outputs": [
    {
     "data": {
      "text/plain": "0.7260468417317246"
     },
     "execution_count": 97,
     "metadata": {},
     "output_type": "execute_result"
    }
   ],
   "source": [
    "1 - y_val.mean()"
   ],
   "metadata": {
    "collapsed": false,
    "ExecuteTime": {
     "end_time": "2024-01-18T08:00:19.080473357Z",
     "start_time": "2024-01-18T08:00:18.503368379Z"
    }
   },
   "id": "c8ac0a9baf8b83eb"
  },
  {
   "cell_type": "markdown",
   "source": [
    "## 4.3 Confusion table\n",
    "* Different types of errors correct decisions\n",
    "* Arranging therm in a table"
   ],
   "metadata": {
    "collapsed": false
   },
   "id": "b632f5ae6e412e97"
  },
  {
   "cell_type": "code",
   "execution_count": 98,
   "outputs": [],
   "source": [
    "actual_positive = (y_val == 1)\n",
    "actual_negative = (y_val == 0)"
   ],
   "metadata": {
    "collapsed": false,
    "ExecuteTime": {
     "end_time": "2024-01-18T08:00:19.101265992Z",
     "start_time": "2024-01-18T08:00:18.503777579Z"
    }
   },
   "id": "c4d9a0526f5615a"
  },
  {
   "cell_type": "code",
   "execution_count": 99,
   "outputs": [
    {
     "data": {
      "text/plain": "array([False, False, False, ..., False,  True,  True])"
     },
     "execution_count": 99,
     "metadata": {},
     "output_type": "execute_result"
    }
   ],
   "source": [
    "actual_positive"
   ],
   "metadata": {
    "collapsed": false,
    "ExecuteTime": {
     "end_time": "2024-01-18T08:00:19.136445007Z",
     "start_time": "2024-01-18T08:00:18.504106597Z"
    }
   },
   "id": "9e7b8f31f374415d"
  },
  {
   "cell_type": "code",
   "execution_count": 100,
   "outputs": [],
   "source": [
    "t = 0.5\n",
    "predict_positive = (y_pred >= t)\n",
    "predict_negative = (y_pred < t)"
   ],
   "metadata": {
    "collapsed": false,
    "ExecuteTime": {
     "end_time": "2024-01-18T08:00:19.163958294Z",
     "start_time": "2024-01-18T08:00:18.510650598Z"
    }
   },
   "id": "6dc32ff0efea715a"
  },
  {
   "cell_type": "code",
   "execution_count": 101,
   "outputs": [
    {
     "data": {
      "text/plain": "array([False, False, False,  True, False])"
     },
     "execution_count": 101,
     "metadata": {},
     "output_type": "execute_result"
    }
   ],
   "source": [
    "predict_positive[:5]"
   ],
   "metadata": {
    "collapsed": false,
    "ExecuteTime": {
     "end_time": "2024-01-18T08:00:19.185489844Z",
     "start_time": "2024-01-18T08:00:18.551387034Z"
    }
   },
   "id": "409b32fa3bdf2b31"
  },
  {
   "cell_type": "code",
   "execution_count": 102,
   "outputs": [
    {
     "data": {
      "text/plain": "array([False, False, False,  True, False])"
     },
     "execution_count": 102,
     "metadata": {},
     "output_type": "execute_result"
    }
   ],
   "source": [
    "actual_positive[:5]"
   ],
   "metadata": {
    "collapsed": false,
    "ExecuteTime": {
     "end_time": "2024-01-18T08:00:19.210053209Z",
     "start_time": "2024-01-18T08:00:18.551792970Z"
    }
   },
   "id": "d4a2d52fbaa704ad"
  },
  {
   "cell_type": "code",
   "execution_count": 103,
   "outputs": [],
   "source": [
    "tp = (predict_positive & actual_positive).sum() #true positive\n",
    "tn = (predict_negative & actual_negative).sum() #true positive"
   ],
   "metadata": {
    "collapsed": false,
    "ExecuteTime": {
     "end_time": "2024-01-18T08:00:19.601932132Z",
     "start_time": "2024-01-18T08:00:19.043174434Z"
    }
   },
   "id": "2ec308b593385a0c"
  },
  {
   "cell_type": "code",
   "execution_count": 104,
   "outputs": [],
   "source": [
    "fp = (predict_positive & actual_negative).sum()\n",
    "fn = (predict_negative & actual_positive).sum()"
   ],
   "metadata": {
    "collapsed": false,
    "ExecuteTime": {
     "end_time": "2024-01-18T08:00:19.794835139Z",
     "start_time": "2024-01-18T08:00:19.586273220Z"
    }
   },
   "id": "8ab8f1c7aee79653"
  },
  {
   "cell_type": "code",
   "execution_count": 105,
   "outputs": [
    {
     "data": {
      "text/plain": "(105, 176)"
     },
     "execution_count": 105,
     "metadata": {},
     "output_type": "execute_result"
    }
   ],
   "source": [
    "fp, fn"
   ],
   "metadata": {
    "collapsed": false,
    "ExecuteTime": {
     "end_time": "2024-01-18T08:00:19.924873058Z",
     "start_time": "2024-01-18T08:00:19.780184887Z"
    }
   },
   "id": "8c8c1b250a804e10"
  },
  {
   "cell_type": "code",
   "execution_count": 106,
   "outputs": [
    {
     "data": {
      "text/plain": "array([[918, 105],\n       [176, 210]])"
     },
     "execution_count": 106,
     "metadata": {},
     "output_type": "execute_result"
    }
   ],
   "source": [
    "confusion_matrix = np.array([\n",
    "    [tn, fp],\n",
    "    [fn, tp]])\n",
    "confusion_matrix"
   ],
   "metadata": {
    "collapsed": false,
    "ExecuteTime": {
     "end_time": "2024-01-18T08:00:19.988978474Z",
     "start_time": "2024-01-18T08:00:19.909840408Z"
    }
   },
   "id": "eedace440c509e2b"
  },
  {
   "cell_type": "code",
   "execution_count": 107,
   "outputs": [
    {
     "data": {
      "text/plain": "array([[0.65, 0.07],\n       [0.12, 0.15]])"
     },
     "execution_count": 107,
     "metadata": {},
     "output_type": "execute_result"
    }
   ],
   "source": [
    "(confusion_matrix / confusion_matrix.sum()).round(2) # % de l'accuracy"
   ],
   "metadata": {
    "collapsed": false,
    "ExecuteTime": {
     "end_time": "2024-01-18T08:00:20.234993268Z",
     "start_time": "2024-01-18T08:00:19.989859362Z"
    }
   },
   "id": "353f182f670cd6af"
  },
  {
   "cell_type": "markdown",
   "source": [
    "Accuracy $= 0.65 + 0.15 = 0.8 \\rightarrow 80\\%$"
   ],
   "metadata": {
    "collapsed": false
   },
   "id": "d3eb8a9ca9984d2"
  },
  {
   "cell_type": "markdown",
   "source": [
    "## 4.4 Precision and Recall"
   ],
   "metadata": {
    "collapsed": false
   },
   "id": "9b8ee23996b61eb8"
  },
  {
   "cell_type": "code",
   "execution_count": 108,
   "outputs": [
    {
     "data": {
      "text/plain": "0.8005677785663591"
     },
     "execution_count": 108,
     "metadata": {},
     "output_type": "execute_result"
    }
   ],
   "source": [
    "(tp + tn) / (tp + tn + fp + fn)"
   ],
   "metadata": {
    "collapsed": false,
    "ExecuteTime": {
     "end_time": "2024-01-18T08:00:20.357168726Z",
     "start_time": "2024-01-18T08:00:20.177550766Z"
    }
   },
   "id": "e0c076373af72eaa"
  },
  {
   "cell_type": "code",
   "execution_count": 109,
   "outputs": [
    {
     "data": {
      "text/plain": "0.6666666666666666"
     },
     "execution_count": 109,
     "metadata": {},
     "output_type": "execute_result"
    }
   ],
   "source": [
    "p = tp / (tp +fp)\n",
    "p"
   ],
   "metadata": {
    "collapsed": false,
    "ExecuteTime": {
     "end_time": "2024-01-18T08:00:20.506964539Z",
     "start_time": "2024-01-18T08:00:20.285888396Z"
    }
   },
   "id": "87a6b3df4ccf8ef2"
  },
  {
   "cell_type": "markdown",
   "source": [
    "Precision $= 67\\%$\n",
    "Erreur: $33\\%$"
   ],
   "metadata": {
    "collapsed": false
   },
   "id": "eceff43e5ec5a558"
  },
  {
   "cell_type": "markdown",
   "source": [
    "Recall = Fraction of correctly identified positive examples"
   ],
   "metadata": {
    "collapsed": false
   },
   "id": "30e3a4491ca9bce3"
  },
  {
   "cell_type": "code",
   "execution_count": 110,
   "outputs": [
    {
     "data": {
      "text/plain": "0.5440414507772021"
     },
     "execution_count": 110,
     "metadata": {},
     "output_type": "execute_result"
    }
   ],
   "source": [
    "r = tp / (tp + fn)\n",
    "r"
   ],
   "metadata": {
    "collapsed": false,
    "ExecuteTime": {
     "end_time": "2024-01-18T08:00:20.598233710Z",
     "start_time": "2024-01-18T08:00:20.442586506Z"
    }
   },
   "id": "61a81fd16f29b0f"
  },
  {
   "cell_type": "markdown",
   "source": [
    "## 4.5 ROC Curves\n",
    "ROC stands for Receiver Operating Characteristics\n",
    "This is a way of describing the performance of a binary classification model\n",
    "### TPR and FPR"
   ],
   "metadata": {
    "collapsed": false
   },
   "id": "4b901c89e8d50eef"
  },
  {
   "cell_type": "code",
   "execution_count": 111,
   "outputs": [
    {
     "data": {
      "text/plain": "0.5440414507772021"
     },
     "execution_count": 111,
     "metadata": {},
     "output_type": "execute_result"
    }
   ],
   "source": [
    "# True Positive Ratio. It's the same as Recall\n",
    "tpr = tp / (tp + fn)\n",
    "tpr"
   ],
   "metadata": {
    "collapsed": false,
    "ExecuteTime": {
     "end_time": "2024-01-18T08:00:20.828883737Z",
     "start_time": "2024-01-18T08:00:20.598397103Z"
    }
   },
   "id": "f5d91dc91ec27d5"
  },
  {
   "cell_type": "code",
   "execution_count": 112,
   "outputs": [
    {
     "data": {
      "text/plain": "0.10263929618768329"
     },
     "execution_count": 112,
     "metadata": {},
     "output_type": "execute_result"
    }
   ],
   "source": [
    "# False Positive Ratio\n",
    "fpr = fp / (fp + tn)\n",
    "fpr"
   ],
   "metadata": {
    "collapsed": false,
    "ExecuteTime": {
     "end_time": "2024-01-18T08:00:20.901911576Z",
     "start_time": "2024-01-18T08:00:20.800595904Z"
    }
   },
   "id": "aa8f4265ef0ebdd"
  },
  {
   "cell_type": "code",
   "execution_count": 113,
   "outputs": [],
   "source": [
    "scores = []\n",
    "\n",
    "thresholds = np.linspace(0,1,101)\n",
    "for t in thresholds:\n",
    "    actual_positive = (y_val == 1)\n",
    "    actual_negative = (y_val == 0)\n",
    "    \n",
    "    \n",
    "    predict_positive = (y_pred >= t)\n",
    "    predict_negative = (y_pred < t)\n",
    "    \n",
    "    tp = (predict_positive & actual_positive).sum() #true positive\n",
    "    tn = (predict_negative & actual_negative).sum() #true positive\n",
    "    \n",
    "    fp = (predict_positive & actual_negative).sum()\n",
    "    fn = (predict_negative & actual_positive).sum()\n",
    "    \n",
    "    scores.append((t, tp, fp, fn, tn))\n",
    "    "
   ],
   "metadata": {
    "collapsed": false,
    "ExecuteTime": {
     "end_time": "2024-01-18T08:00:21.086490539Z",
     "start_time": "2024-01-18T08:00:20.888245473Z"
    }
   },
   "id": "1edeeb930ee1148b"
  },
  {
   "cell_type": "code",
   "execution_count": 114,
   "outputs": [],
   "source": [
    "columns = ['threshold', 'tp', 'fp', 'fn', 'tn']\n",
    "df_scores = pd.DataFrame(scores, columns=columns)"
   ],
   "metadata": {
    "collapsed": false,
    "ExecuteTime": {
     "end_time": "2024-01-18T08:00:21.138111577Z",
     "start_time": "2024-01-18T08:00:21.061732903Z"
    }
   },
   "id": "9ba36b7f9823ac68"
  },
  {
   "cell_type": "code",
   "execution_count": 115,
   "outputs": [
    {
     "data": {
      "text/plain": "     threshold   tp    fp   fn    tn\n0          0.0  386  1023    0     0\n10         0.1  366   555   20   468\n20         0.2  334   360   52   663\n30         0.3  283   241  103   782\n40         0.4  250   170  136   853\n50         0.5  210   105  176   918\n60         0.6  150    54  236   969\n70         0.7   67    20  319  1003\n80         0.8    9     1  377  1022\n90         0.9    0     0  386  1023\n100        1.0    0     0  386  1023",
      "text/html": "<div>\n<style scoped>\n    .dataframe tbody tr th:only-of-type {\n        vertical-align: middle;\n    }\n\n    .dataframe tbody tr th {\n        vertical-align: top;\n    }\n\n    .dataframe thead th {\n        text-align: right;\n    }\n</style>\n<table border=\"1\" class=\"dataframe\">\n  <thead>\n    <tr style=\"text-align: right;\">\n      <th></th>\n      <th>threshold</th>\n      <th>tp</th>\n      <th>fp</th>\n      <th>fn</th>\n      <th>tn</th>\n    </tr>\n  </thead>\n  <tbody>\n    <tr>\n      <th>0</th>\n      <td>0.0</td>\n      <td>386</td>\n      <td>1023</td>\n      <td>0</td>\n      <td>0</td>\n    </tr>\n    <tr>\n      <th>10</th>\n      <td>0.1</td>\n      <td>366</td>\n      <td>555</td>\n      <td>20</td>\n      <td>468</td>\n    </tr>\n    <tr>\n      <th>20</th>\n      <td>0.2</td>\n      <td>334</td>\n      <td>360</td>\n      <td>52</td>\n      <td>663</td>\n    </tr>\n    <tr>\n      <th>30</th>\n      <td>0.3</td>\n      <td>283</td>\n      <td>241</td>\n      <td>103</td>\n      <td>782</td>\n    </tr>\n    <tr>\n      <th>40</th>\n      <td>0.4</td>\n      <td>250</td>\n      <td>170</td>\n      <td>136</td>\n      <td>853</td>\n    </tr>\n    <tr>\n      <th>50</th>\n      <td>0.5</td>\n      <td>210</td>\n      <td>105</td>\n      <td>176</td>\n      <td>918</td>\n    </tr>\n    <tr>\n      <th>60</th>\n      <td>0.6</td>\n      <td>150</td>\n      <td>54</td>\n      <td>236</td>\n      <td>969</td>\n    </tr>\n    <tr>\n      <th>70</th>\n      <td>0.7</td>\n      <td>67</td>\n      <td>20</td>\n      <td>319</td>\n      <td>1003</td>\n    </tr>\n    <tr>\n      <th>80</th>\n      <td>0.8</td>\n      <td>9</td>\n      <td>1</td>\n      <td>377</td>\n      <td>1022</td>\n    </tr>\n    <tr>\n      <th>90</th>\n      <td>0.9</td>\n      <td>0</td>\n      <td>0</td>\n      <td>386</td>\n      <td>1023</td>\n    </tr>\n    <tr>\n      <th>100</th>\n      <td>1.0</td>\n      <td>0</td>\n      <td>0</td>\n      <td>386</td>\n      <td>1023</td>\n    </tr>\n  </tbody>\n</table>\n</div>"
     },
     "execution_count": 115,
     "metadata": {},
     "output_type": "execute_result"
    }
   ],
   "source": [
    "df_scores[::10]"
   ],
   "metadata": {
    "collapsed": false,
    "ExecuteTime": {
     "end_time": "2024-01-18T08:00:21.309169719Z",
     "start_time": "2024-01-18T08:00:21.144936933Z"
    }
   },
   "id": "4b2fed63ce16204f"
  },
  {
   "cell_type": "code",
   "execution_count": 116,
   "outputs": [
    {
     "data": {
      "text/plain": "     threshold   tp    fp   fn    tn       tpr       fpr\n0          0.0  386  1023    0     0  1.000000  1.000000\n10         0.1  366   555   20   468  0.948187  0.542522\n20         0.2  334   360   52   663  0.865285  0.351906\n30         0.3  283   241  103   782  0.733161  0.235582\n40         0.4  250   170  136   853  0.647668  0.166178\n50         0.5  210   105  176   918  0.544041  0.102639\n60         0.6  150    54  236   969  0.388601  0.052786\n70         0.7   67    20  319  1003  0.173575  0.019550\n80         0.8    9     1  377  1022  0.023316  0.000978\n90         0.9    0     0  386  1023  0.000000  0.000000\n100        1.0    0     0  386  1023  0.000000  0.000000",
      "text/html": "<div>\n<style scoped>\n    .dataframe tbody tr th:only-of-type {\n        vertical-align: middle;\n    }\n\n    .dataframe tbody tr th {\n        vertical-align: top;\n    }\n\n    .dataframe thead th {\n        text-align: right;\n    }\n</style>\n<table border=\"1\" class=\"dataframe\">\n  <thead>\n    <tr style=\"text-align: right;\">\n      <th></th>\n      <th>threshold</th>\n      <th>tp</th>\n      <th>fp</th>\n      <th>fn</th>\n      <th>tn</th>\n      <th>tpr</th>\n      <th>fpr</th>\n    </tr>\n  </thead>\n  <tbody>\n    <tr>\n      <th>0</th>\n      <td>0.0</td>\n      <td>386</td>\n      <td>1023</td>\n      <td>0</td>\n      <td>0</td>\n      <td>1.000000</td>\n      <td>1.000000</td>\n    </tr>\n    <tr>\n      <th>10</th>\n      <td>0.1</td>\n      <td>366</td>\n      <td>555</td>\n      <td>20</td>\n      <td>468</td>\n      <td>0.948187</td>\n      <td>0.542522</td>\n    </tr>\n    <tr>\n      <th>20</th>\n      <td>0.2</td>\n      <td>334</td>\n      <td>360</td>\n      <td>52</td>\n      <td>663</td>\n      <td>0.865285</td>\n      <td>0.351906</td>\n    </tr>\n    <tr>\n      <th>30</th>\n      <td>0.3</td>\n      <td>283</td>\n      <td>241</td>\n      <td>103</td>\n      <td>782</td>\n      <td>0.733161</td>\n      <td>0.235582</td>\n    </tr>\n    <tr>\n      <th>40</th>\n      <td>0.4</td>\n      <td>250</td>\n      <td>170</td>\n      <td>136</td>\n      <td>853</td>\n      <td>0.647668</td>\n      <td>0.166178</td>\n    </tr>\n    <tr>\n      <th>50</th>\n      <td>0.5</td>\n      <td>210</td>\n      <td>105</td>\n      <td>176</td>\n      <td>918</td>\n      <td>0.544041</td>\n      <td>0.102639</td>\n    </tr>\n    <tr>\n      <th>60</th>\n      <td>0.6</td>\n      <td>150</td>\n      <td>54</td>\n      <td>236</td>\n      <td>969</td>\n      <td>0.388601</td>\n      <td>0.052786</td>\n    </tr>\n    <tr>\n      <th>70</th>\n      <td>0.7</td>\n      <td>67</td>\n      <td>20</td>\n      <td>319</td>\n      <td>1003</td>\n      <td>0.173575</td>\n      <td>0.019550</td>\n    </tr>\n    <tr>\n      <th>80</th>\n      <td>0.8</td>\n      <td>9</td>\n      <td>1</td>\n      <td>377</td>\n      <td>1022</td>\n      <td>0.023316</td>\n      <td>0.000978</td>\n    </tr>\n    <tr>\n      <th>90</th>\n      <td>0.9</td>\n      <td>0</td>\n      <td>0</td>\n      <td>386</td>\n      <td>1023</td>\n      <td>0.000000</td>\n      <td>0.000000</td>\n    </tr>\n    <tr>\n      <th>100</th>\n      <td>1.0</td>\n      <td>0</td>\n      <td>0</td>\n      <td>386</td>\n      <td>1023</td>\n      <td>0.000000</td>\n      <td>0.000000</td>\n    </tr>\n  </tbody>\n</table>\n</div>"
     },
     "execution_count": 116,
     "metadata": {},
     "output_type": "execute_result"
    }
   ],
   "source": [
    "df_scores['tpr'] = df_scores.tp / (df_scores.tp + df_scores.fn)\n",
    "df_scores['fpr'] = df_scores.fp / (df_scores.fp + df_scores.tn)\n",
    "df_scores[::10]"
   ],
   "metadata": {
    "collapsed": false,
    "ExecuteTime": {
     "end_time": "2024-01-18T08:00:21.418382288Z",
     "start_time": "2024-01-18T08:00:21.278301910Z"
    }
   },
   "id": "d7cbf7d47e537c03"
  },
  {
   "cell_type": "code",
   "execution_count": 117,
   "outputs": [
    {
     "data": {
      "text/plain": "<matplotlib.legend.Legend at 0x7f26002745e0>"
     },
     "execution_count": 117,
     "metadata": {},
     "output_type": "execute_result"
    },
    {
     "data": {
      "text/plain": "<Figure size 640x480 with 1 Axes>",
      "image/png": "[encoded data removed]"
     },
     "metadata": {},
     "output_type": "display_data"
    }
   ],
   "source": [
    "plt.plot(df_scores.threshold, df_scores['tpr'], label='TPR')\n",
    "plt.plot(df_scores.threshold, df_scores['fpr'], label='FPR')\n",
    "plt.legend()"
   ],
   "metadata": {
    "collapsed": false,
    "ExecuteTime": {
     "end_time": "2024-01-18T08:00:21.855831673Z",
     "start_time": "2024-01-18T08:00:21.348106851Z"
    }
   },
   "id": "8a8e86972938be2b"
  },
  {
   "cell_type": "markdown",
   "source": [
    "### Random model"
   ],
   "metadata": {
    "collapsed": false
   },
   "id": "9e94229a29a2d92"
  },
  {
   "cell_type": "code",
   "execution_count": 118,
   "outputs": [],
   "source": [
    "np.random.seed(1)\n",
    "y_rand = np.random.uniform(0, 1, size=len(y_val))"
   ],
   "metadata": {
    "collapsed": false,
    "ExecuteTime": {
     "end_time": "2024-01-18T08:00:21.928417496Z",
     "start_time": "2024-01-18T08:00:21.598427107Z"
    }
   },
   "id": "90d26298ed45d0b8"
  },
  {
   "cell_type": "code",
   "execution_count": 119,
   "outputs": [
    {
     "data": {
      "text/plain": "0.5017743080198722"
     },
     "execution_count": 119,
     "metadata": {},
     "output_type": "execute_result"
    }
   ],
   "source": [
    "((y_rand >= 0.5) == y_val).mean()"
   ],
   "metadata": {
    "collapsed": false,
    "ExecuteTime": {
     "end_time": "2024-01-18T08:00:22.018344591Z",
     "start_time": "2024-01-18T08:00:21.770600159Z"
    }
   },
   "id": "eaa4af462b8e12c1"
  },
  {
   "cell_type": "code",
   "execution_count": 120,
   "outputs": [],
   "source": [
    "def tpr_fpr_dataframe(y_val, y_pred):\n",
    "    scores = []\n",
    "\n",
    "    thresholds = np.linspace(0,1,101)\n",
    "    for t in thresholds:\n",
    "        actual_positive = (y_val == 1)\n",
    "        actual_negative = (y_val == 0)\n",
    "        \n",
    "        \n",
    "        predict_positive = (y_pred >= t)\n",
    "        predict_negative = (y_pred < t)\n",
    "        \n",
    "        tp = (predict_positive & actual_positive).sum() #true positive\n",
    "        tn = (predict_negative & actual_negative).sum() #true positive\n",
    "        \n",
    "        fp = (predict_positive & actual_negative).sum()\n",
    "        fn = (predict_negative & actual_positive).sum()\n",
    "        \n",
    "        scores.append((t, tp, fp, fn, tn))\n",
    "        \n",
    "    columns = ['threshold', 'tp', 'fp', 'fn', 'tn']\n",
    "    df_scores = pd.DataFrame(scores, columns=columns)\n",
    "    \n",
    "    df_scores['tpr'] = df_scores.tp / (df_scores.tp + df_scores.fn)\n",
    "    df_scores['fpr'] = df_scores.fp / (df_scores.fp + df_scores.tn)\n",
    "    \n",
    "    return df_scores"
   ],
   "metadata": {
    "collapsed": false,
    "ExecuteTime": {
     "end_time": "2024-01-18T08:00:22.282148994Z",
     "start_time": "2024-01-18T08:00:21.999981912Z"
    }
   },
   "id": "d726514b639d401e"
  },
  {
   "cell_type": "code",
   "execution_count": 121,
   "outputs": [],
   "source": [
    "df_rand = tpr_fpr_dataframe(y_val, y_rand)"
   ],
   "metadata": {
    "collapsed": false,
    "ExecuteTime": {
     "end_time": "2024-01-18T08:00:22.406879680Z",
     "start_time": "2024-01-18T08:00:22.282504833Z"
    }
   },
   "id": "f977cd91d32075dd"
  },
  {
   "cell_type": "code",
   "execution_count": 122,
   "outputs": [
    {
     "data": {
      "text/plain": "     threshold   tp    fp   fn    tn       tpr       fpr\n0          0.0  386  1023    0     0  1.000000  1.000000\n10         0.1  347   923   39   100  0.898964  0.902248\n20         0.2  307   822   79   201  0.795337  0.803519\n30         0.3  276   724  110   299  0.715026  0.707722\n40         0.4  237   624  149   399  0.613990  0.609971\n50         0.5  202   518  184   505  0.523316  0.506354\n60         0.6  161   409  225   614  0.417098  0.399804\n70         0.7  121   302  265   721  0.313472  0.295210\n80         0.8   78   206  308   817  0.202073  0.201369\n90         0.9   40   101  346   922  0.103627  0.098729\n100        1.0    0     0  386  1023  0.000000  0.000000",
      "text/html": "<div>\n<style scoped>\n    .dataframe tbody tr th:only-of-type {\n        vertical-align: middle;\n    }\n\n    .dataframe tbody tr th {\n        vertical-align: top;\n    }\n\n    .dataframe thead th {\n        text-align: right;\n    }\n</style>\n<table border=\"1\" class=\"dataframe\">\n  <thead>\n    <tr style=\"text-align: right;\">\n      <th></th>\n      <th>threshold</th>\n      <th>tp</th>\n      <th>fp</th>\n      <th>fn</th>\n      <th>tn</th>\n      <th>tpr</th>\n      <th>fpr</th>\n    </tr>\n  </thead>\n  <tbody>\n    <tr>\n      <th>0</th>\n      <td>0.0</td>\n      <td>386</td>\n      <td>1023</td>\n      <td>0</td>\n      <td>0</td>\n      <td>1.000000</td>\n      <td>1.000000</td>\n    </tr>\n    <tr>\n      <th>10</th>\n      <td>0.1</td>\n      <td>347</td>\n      <td>923</td>\n      <td>39</td>\n      <td>100</td>\n      <td>0.898964</td>\n      <td>0.902248</td>\n    </tr>\n    <tr>\n      <th>20</th>\n      <td>0.2</td>\n      <td>307</td>\n      <td>822</td>\n      <td>79</td>\n      <td>201</td>\n      <td>0.795337</td>\n      <td>0.803519</td>\n    </tr>\n    <tr>\n      <th>30</th>\n      <td>0.3</td>\n      <td>276</td>\n      <td>724</td>\n      <td>110</td>\n      <td>299</td>\n      <td>0.715026</td>\n      <td>0.707722</td>\n    </tr>\n    <tr>\n      <th>40</th>\n      <td>0.4</td>\n      <td>237</td>\n      <td>624</td>\n      <td>149</td>\n      <td>399</td>\n      <td>0.613990</td>\n      <td>0.609971</td>\n    </tr>\n    <tr>\n      <th>50</th>\n      <td>0.5</td>\n      <td>202</td>\n      <td>518</td>\n      <td>184</td>\n      <td>505</td>\n      <td>0.523316</td>\n      <td>0.506354</td>\n    </tr>\n    <tr>\n      <th>60</th>\n      <td>0.6</td>\n      <td>161</td>\n      <td>409</td>\n      <td>225</td>\n      <td>614</td>\n      <td>0.417098</td>\n      <td>0.399804</td>\n    </tr>\n    <tr>\n      <th>70</th>\n      <td>0.7</td>\n      <td>121</td>\n      <td>302</td>\n      <td>265</td>\n      <td>721</td>\n      <td>0.313472</td>\n      <td>0.295210</td>\n    </tr>\n    <tr>\n      <th>80</th>\n      <td>0.8</td>\n      <td>78</td>\n      <td>206</td>\n      <td>308</td>\n      <td>817</td>\n      <td>0.202073</td>\n      <td>0.201369</td>\n    </tr>\n    <tr>\n      <th>90</th>\n      <td>0.9</td>\n      <td>40</td>\n      <td>101</td>\n      <td>346</td>\n      <td>922</td>\n      <td>0.103627</td>\n      <td>0.098729</td>\n    </tr>\n    <tr>\n      <th>100</th>\n      <td>1.0</td>\n      <td>0</td>\n      <td>0</td>\n      <td>386</td>\n      <td>1023</td>\n      <td>0.000000</td>\n      <td>0.000000</td>\n    </tr>\n  </tbody>\n</table>\n</div>"
     },
     "execution_count": 122,
     "metadata": {},
     "output_type": "execute_result"
    }
   ],
   "source": [
    "df_rand[::10]"
   ],
   "metadata": {
    "collapsed": false,
    "ExecuteTime": {
     "end_time": "2024-01-18T08:00:22.551242974Z",
     "start_time": "2024-01-18T08:00:22.393616039Z"
    }
   },
   "id": "88f951bf932c22a6"
  },
  {
   "cell_type": "code",
   "execution_count": 123,
   "outputs": [
    {
     "data": {
      "text/plain": "<matplotlib.legend.Legend at 0x7f260d8baa40>"
     },
     "execution_count": 123,
     "metadata": {},
     "output_type": "execute_result"
    },
    {
     "data": {
      "text/plain": "<Figure size 640x480 with 1 Axes>",
      "image/png": "[encoded data removed]"
     },
     "metadata": {},
     "output_type": "display_data"
    }
   ],
   "source": [
    "plt.plot(df_rand.threshold, df_rand['tpr'], label='TPR')\n",
    "plt.plot(df_rand.threshold, df_rand['fpr'], label='FPR')\n",
    "plt.legend()"
   ],
   "metadata": {
    "collapsed": false,
    "ExecuteTime": {
     "end_time": "2024-01-18T08:00:22.957922815Z",
     "start_time": "2024-01-18T08:00:22.503557259Z"
    }
   },
   "id": "9191d7aa65fe8966"
  },
  {
   "cell_type": "markdown",
   "source": [
    "### Ideal model"
   ],
   "metadata": {
    "collapsed": false
   },
   "id": "20020988ae1e1168"
  },
  {
   "cell_type": "code",
   "execution_count": 124,
   "outputs": [
    {
     "data": {
      "text/plain": "(1023, 386)"
     },
     "execution_count": 124,
     "metadata": {},
     "output_type": "execute_result"
    }
   ],
   "source": [
    "num_neg = (y_val == 0).sum()\n",
    "num_pos = (y_val == 1).sum()\n",
    "num_neg, num_pos"
   ],
   "metadata": {
    "collapsed": false,
    "ExecuteTime": {
     "end_time": "2024-01-18T08:00:23.012510400Z",
     "start_time": "2024-01-18T08:00:22.756312931Z"
    }
   },
   "id": "2c42c753e715e95c"
  },
  {
   "cell_type": "code",
   "outputs": [
    {
     "data": {
      "text/plain": "array([0, 0, 0, 0, 0, 0, 0, 0, 0, 0, 0, 1, 1, 1, 1])"
     },
     "execution_count": 125,
     "metadata": {},
     "output_type": "execute_result"
    }
   ],
   "source": [
    "y_ideal = np.repeat([0,1], [num_neg, num_pos])\n",
    "y_ideal[::100]#affiche les valeurs par pas de 100 (100, 200,..,1400)"
   ],
   "metadata": {
    "collapsed": false,
    "ExecuteTime": {
     "end_time": "2024-01-18T08:00:23.025314267Z",
     "start_time": "2024-01-18T08:00:22.764953785Z"
    }
   },
   "id": "9c83c75b6e96d4f5",
   "execution_count": 125
  },
  {
   "cell_type": "code",
   "outputs": [],
   "source": [
    "y_ideal_pred = np.linspace(0,1,len(y_val))"
   ],
   "metadata": {
    "collapsed": false,
    "ExecuteTime": {
     "end_time": "2024-01-18T08:00:23.145006326Z",
     "start_time": "2024-01-18T08:00:22.963084191Z"
    }
   },
   "id": "75004513f2abaf19",
   "execution_count": 126
  },
  {
   "cell_type": "code",
   "outputs": [
    {
     "data": {
      "text/plain": "0.7260468417317246"
     },
     "execution_count": 127,
     "metadata": {},
     "output_type": "execute_result"
    }
   ],
   "source": [
    "1 - y_val.mean()"
   ],
   "metadata": {
    "collapsed": false,
    "ExecuteTime": {
     "end_time": "2024-01-18T08:00:23.364273870Z",
     "start_time": "2024-01-18T08:00:23.127739530Z"
    }
   },
   "id": "3b3ccfa81d5a375a",
   "execution_count": 127
  },
  {
   "cell_type": "code",
   "outputs": [
    {
     "data": {
      "text/plain": "1.0"
     },
     "execution_count": 128,
     "metadata": {},
     "output_type": "execute_result"
    }
   ],
   "source": [
    "((y_ideal_pred >= 0.726) == y_ideal).mean()"
   ],
   "metadata": {
    "collapsed": false,
    "ExecuteTime": {
     "end_time": "2024-01-18T08:00:23.465275453Z",
     "start_time": "2024-01-18T08:00:23.365284Z"
    }
   },
   "id": "ba588618e23caec5",
   "execution_count": 128
  },
  {
   "cell_type": "code",
   "outputs": [],
   "source": [
    "df_ideal = tpr_fpr_dataframe(y_ideal, y_ideal_pred)"
   ],
   "metadata": {
    "collapsed": false,
    "ExecuteTime": {
     "end_time": "2024-01-18T08:00:23.593196789Z",
     "start_time": "2024-01-18T08:00:23.418854788Z"
    }
   },
   "id": "99cbcfdcb1a4aa54",
   "execution_count": 129
  },
  {
   "cell_type": "code",
   "outputs": [
    {
     "data": {
      "text/plain": "<matplotlib.legend.Legend at 0x7f260059b6a0>"
     },
     "execution_count": 130,
     "metadata": {},
     "output_type": "execute_result"
    },
    {
     "data": {
      "text/plain": "<Figure size 640x480 with 1 Axes>",
      "image/png": "[encoded data removed]"
     },
     "metadata": {},
     "output_type": "display_data"
    }
   ],
   "source": [
    "df_ideal\n",
    "\n",
    "plt.plot(df_ideal.threshold,df_ideal['tpr'], label='TPR')\n",
    "plt.plot(df_ideal.threshold, df_ideal['fpr'], label=\"FPR\")\n",
    "plt.legend()"
   ],
   "metadata": {
    "collapsed": false,
    "ExecuteTime": {
     "end_time": "2024-01-18T08:00:24.045726831Z",
     "start_time": "2024-01-18T08:00:23.593888895Z"
    }
   },
   "id": "c7ccd808547c678a",
   "execution_count": 130
  },
  {
   "cell_type": "markdown",
   "source": [
    "On voit que le threshold est a 0.726"
   ],
   "metadata": {
    "collapsed": false
   },
   "id": "da838c836d54e1d1"
  },
  {
   "cell_type": "markdown",
   "source": [
    "### Putting everything together"
   ],
   "metadata": {
    "collapsed": false
   },
   "id": "19a865e4bef1cb57"
  },
  {
   "cell_type": "code",
   "outputs": [
    {
     "data": {
      "text/plain": "<matplotlib.legend.Legend at 0x7f260cfe7be0>"
     },
     "execution_count": 131,
     "metadata": {},
     "output_type": "execute_result"
    },
    {
     "data": {
      "text/plain": "<Figure size 640x480 with 1 Axes>",
      "image/png": "[encoded data removed]"
     },
     "metadata": {},
     "output_type": "display_data"
    }
   ],
   "source": [
    "plt.plot(df_scores.threshold,df_scores['tpr'], label='TPR scores')\n",
    "plt.plot(df_scores.threshold, df_scores['fpr'], label=\"FPR scores\")\n",
    "\n",
    "plt.plot(df_rand.threshold,df_rand['tpr'], label='TPR rand')\n",
    "plt.plot(df_rand.threshold, df_rand['fpr'], label=\"FPR rand\")\n",
    "\n",
    "plt.plot(df_ideal.threshold,df_ideal['tpr'], label='TPR ideal', color='black')\n",
    "plt.plot(df_ideal.threshold, df_ideal['fpr'], label=\"FPR ideal\", color='black')\n",
    "plt.legend()"
   ],
   "metadata": {
    "collapsed": false,
    "ExecuteTime": {
     "end_time": "2024-01-18T08:00:24.303209242Z",
     "start_time": "2024-01-18T08:00:23.896027679Z"
    }
   },
   "id": "e53e6fc87b13e52d",
   "execution_count": 131
  },
  {
   "cell_type": "code",
   "outputs": [
    {
     "data": {
      "text/plain": "<matplotlib.legend.Legend at 0x7f260cf25f60>"
     },
     "execution_count": 132,
     "metadata": {},
     "output_type": "execute_result"
    },
    {
     "data": {
      "text/plain": "<Figure size 600x600 with 1 Axes>",
      "image/png": "[encoded data removed]"
     },
     "metadata": {},
     "output_type": "display_data"
    }
   ],
   "source": [
    "plt.figure(figsize=(6,6))\n",
    "plt.plot(df_scores.fpr, df_scores.tpr, label='model')\n",
    "plt.plot(df_rand.fpr, df_rand.tpr, label='random')\n",
    "plt.plot(df_ideal.fpr, df_ideal.tpr, label='ideal')\n",
    "\n",
    "plt.xlabel('False Positive Rate')\n",
    "plt.ylabel('True Positive Rate')\n",
    "\n",
    "plt.legend()"
   ],
   "metadata": {
    "collapsed": false,
    "ExecuteTime": {
     "end_time": "2024-01-18T08:00:24.602830003Z",
     "start_time": "2024-01-18T08:00:24.207575228Z"
    }
   },
   "id": "d0225b174190d322",
   "execution_count": 132
  },
  {
   "cell_type": "markdown",
   "source": [
    "La courbe du modèle doit idéalement être la plus éloignée possible de la random et donc le plus proche possible de l'ideal"
   ],
   "metadata": {
    "collapsed": false
   },
   "id": "ead4854f97d58978"
  },
  {
   "cell_type": "code",
   "outputs": [
    {
     "data": {
      "text/plain": "<matplotlib.legend.Legend at 0x7f260d2c9ff0>"
     },
     "execution_count": 133,
     "metadata": {},
     "output_type": "execute_result"
    },
    {
     "data": {
      "text/plain": "<Figure size 600x600 with 1 Axes>",
      "image/png": "[encoded data removed]"
     },
     "metadata": {},
     "output_type": "display_data"
    }
   ],
   "source": [
    "plt.figure(figsize=(6,6))\n",
    "plt.plot(df_scores.fpr, df_scores.tpr, label='model')\n",
    "plt.plot([0,1], [0,1], label='random', linestyle='--')\n",
    "\n",
    "plt.xlabel('False Positive Rate')\n",
    "plt.ylabel('True Positive Rate')\n",
    "\n",
    "plt.legend()"
   ],
   "metadata": {
    "collapsed": false,
    "ExecuteTime": {
     "end_time": "2024-01-18T08:00:24.861497683Z",
     "start_time": "2024-01-18T08:00:24.482542148Z"
    }
   },
   "id": "79fdebfc1550b644",
   "execution_count": 133
  },
  {
   "cell_type": "markdown",
   "source": [
    "https://www.youtube.com/watch?v=B5PATo1J6yw&list=PL3MmuxUbc_hIhxl5Ji8t4O6lPAOpHaCLR&index=45"
   ],
   "metadata": {
    "collapsed": false
   },
   "id": "9c025b3c2cac3435"
  },
  {
   "cell_type": "code",
   "outputs": [],
   "source": [
    "from sklearn.metrics import roc_curve"
   ],
   "metadata": {
    "collapsed": false,
    "ExecuteTime": {
     "end_time": "2024-01-18T08:00:24.865333318Z",
     "start_time": "2024-01-18T08:00:24.718054389Z"
    }
   },
   "id": "555afefeb7626007",
   "execution_count": 134
  },
  {
   "cell_type": "code",
   "execution_count": 135,
   "outputs": [],
   "source": [
    "fpr, tpr, thresholds = roc_curve(y_val, y_pred)"
   ],
   "metadata": {
    "collapsed": false,
    "ExecuteTime": {
     "end_time": "2024-01-18T08:00:24.986181895Z",
     "start_time": "2024-01-18T08:00:24.723188235Z"
    }
   },
   "id": "a6143a301e804097"
  },
  {
   "cell_type": "code",
   "execution_count": 136,
   "outputs": [
    {
     "data": {
      "text/plain": "<matplotlib.legend.Legend at 0x7f260d31ff40>"
     },
     "execution_count": 136,
     "metadata": {},
     "output_type": "execute_result"
    },
    {
     "data": {
      "text/plain": "<Figure size 500x500 with 1 Axes>",
      "image/png": "[encoded data removed]"
     },
     "metadata": {},
     "output_type": "display_data"
    }
   ],
   "source": [
    "plt.figure(figsize=(5,5))\n",
    "\n",
    "plt.plot(fpr, tpr, label='Model')\n",
    "plt.plot([0,1], [0,1], label='random', linestyle='--')\n",
    "\n",
    "plt.xlabel('False Positive Rate')\n",
    "plt.ylabel('True Positive Rate')\n",
    "\n",
    "plt.legend()"
   ],
   "metadata": {
    "collapsed": false,
    "ExecuteTime": {
     "end_time": "2024-01-18T08:00:25.164862703Z",
     "start_time": "2024-01-18T08:00:24.750540467Z"
    }
   },
   "id": "739cda1cacb3092b"
  },
  {
   "cell_type": "markdown",
   "source": [
    "## 4.6 ROC AUC"
   ],
   "metadata": {
    "collapsed": false
   },
   "id": "a60c00ae6ba950c4"
  },
  {
   "cell_type": "markdown",
   "source": [
    "* Area under the ROC curve - useful metric\n",
    "* Interpretation of AUC\n",
    "Le but est de mesurer l'air du graphique (1.0,1.0). Plus l'air sous la courbe est proche de 1.0² plus le modèle est bon. La droite correspond à 0.5. 0.6 c'est mauvais sous 0.5 c'est anormal."
   ],
   "metadata": {
    "collapsed": false
   },
   "id": "32d900b4eea78168"
  },
  {
   "cell_type": "code",
   "outputs": [],
   "source": [
    "from sklearn.metrics import auc"
   ],
   "metadata": {
    "collapsed": false,
    "ExecuteTime": {
     "end_time": "2024-01-18T08:00:25.168904224Z",
     "start_time": "2024-01-18T08:00:25.015136405Z"
    }
   },
   "id": "3f87fa9e257788e9",
   "execution_count": 137
  },
  {
   "cell_type": "code",
   "outputs": [
    {
     "data": {
      "text/plain": "0.8421841682747582"
     },
     "execution_count": 138,
     "metadata": {},
     "output_type": "execute_result"
    }
   ],
   "source": [
    "auc(x=fpr, y=tpr)"
   ],
   "metadata": {
    "collapsed": false,
    "ExecuteTime": {
     "end_time": "2024-01-18T08:00:25.266508761Z",
     "start_time": "2024-01-18T08:00:25.039215839Z"
    }
   },
   "id": "2412547b222b822",
   "execution_count": 138
  },
  {
   "cell_type": "code",
   "outputs": [
    {
     "data": {
      "text/plain": "0.8419372565703838"
     },
     "execution_count": 139,
     "metadata": {},
     "output_type": "execute_result"
    }
   ],
   "source": [
    "auc(x=df_scores.fpr, y=df_scores.tpr) #with fpr and tpr that we computed manually"
   ],
   "metadata": {
    "collapsed": false,
    "ExecuteTime": {
     "end_time": "2024-01-18T08:00:25.462386417Z",
     "start_time": "2024-01-18T08:00:25.247234582Z"
    }
   },
   "id": "3cda93faa74e1dfe",
   "execution_count": 139
  },
  {
   "cell_type": "markdown",
   "source": [
    "Pretty close but fpr & tpr calculated by Sklearn is more accurate. Because we have evaluated the model in 101 threshold. We must use more threshold"
   ],
   "metadata": {
    "collapsed": false
   },
   "id": "438b155d09fa09fa"
  },
  {
   "cell_type": "code",
   "outputs": [
    {
     "data": {
      "text/plain": "0.9999430203759136"
     },
     "execution_count": 140,
     "metadata": {},
     "output_type": "execute_result"
    }
   ],
   "source": [
    "auc(x=df_ideal.fpr, y=df_ideal.tpr)"
   ],
   "metadata": {
    "collapsed": false,
    "ExecuteTime": {
     "end_time": "2024-01-18T08:00:25.616863835Z",
     "start_time": "2024-01-18T08:00:25.463822322Z"
    }
   },
   "id": "3e6df9dc74ad44ec",
   "execution_count": 140
  },
  {
   "cell_type": "code",
   "outputs": [
    {
     "data": {
      "text/plain": "0.8421841682747582"
     },
     "execution_count": 141,
     "metadata": {},
     "output_type": "execute_result"
    }
   ],
   "source": [
    "fpr, tpr, thresholds = roc_curve(y_true=y_val, y_score=y_pred)\n",
    "auc(x=fpr, y=tpr)"
   ],
   "metadata": {
    "collapsed": false,
    "ExecuteTime": {
     "end_time": "2024-01-18T08:00:25.690508877Z",
     "start_time": "2024-01-18T08:00:25.530530958Z"
    }
   },
   "id": "705ae43de90033f",
   "execution_count": 141
  },
  {
   "cell_type": "code",
   "outputs": [],
   "source": [
    "from sklearn.metrics import roc_auc_score"
   ],
   "metadata": {
    "collapsed": false,
    "ExecuteTime": {
     "end_time": "2024-01-18T08:00:25.880290111Z",
     "start_time": "2024-01-18T08:00:25.659172875Z"
    }
   },
   "id": "4d51bbe5628ab756",
   "execution_count": 142
  },
  {
   "cell_type": "code",
   "outputs": [
    {
     "data": {
      "text/plain": "0.8421841682747582"
     },
     "execution_count": 143,
     "metadata": {},
     "output_type": "execute_result"
    }
   ],
   "source": [
    "roc_auc_score(y_true=y_val, y_score=y_pred)"
   ],
   "metadata": {
    "collapsed": false,
    "ExecuteTime": {
     "end_time": "2024-01-18T08:00:25.987189197Z",
     "start_time": "2024-01-18T08:00:25.846101965Z"
    }
   },
   "id": "a4fe11b4f899eb6c",
   "execution_count": 143
  },
  {
   "cell_type": "markdown",
   "source": [
    "On obtient les mêmes valeurs"
   ],
   "metadata": {
    "collapsed": false
   },
   "id": "8cc744404b5f2d9f"
  },
  {
   "cell_type": "code",
   "outputs": [],
   "source": [
    "neg = y_pred[y_val == 0]\n",
    "pos = y_pred[y_val == 1]"
   ],
   "metadata": {
    "collapsed": false,
    "ExecuteTime": {
     "end_time": "2024-01-18T08:00:26.059958713Z",
     "start_time": "2024-01-18T08:00:25.932732702Z"
    }
   },
   "id": "8ec63608d43bde4e",
   "execution_count": 144
  },
  {
   "cell_type": "code",
   "outputs": [],
   "source": [
    "import random"
   ],
   "metadata": {
    "collapsed": false,
    "ExecuteTime": {
     "end_time": "2024-01-18T08:00:26.222589826Z",
     "start_time": "2024-01-18T08:00:26.059324121Z"
    }
   },
   "id": "29095e13010bc7db",
   "execution_count": 145
  },
  {
   "cell_type": "code",
   "outputs": [
    {
     "data": {
      "text/plain": "0.84319"
     },
     "execution_count": 146,
     "metadata": {},
     "output_type": "execute_result"
    }
   ],
   "source": [
    "n = 100000\n",
    "success = 0\n",
    "for i in range(n):\n",
    "    pos_ind = random.randint(0,len(pos)-1)\n",
    "    neg_ind = random.randint(0,len(neg)-1)\n",
    "    \n",
    "    if pos[pos_ind] > neg[neg_ind]:\n",
    "        success = success +1\n",
    "success / n"
   ],
   "metadata": {
    "collapsed": false,
    "ExecuteTime": {
     "end_time": "2024-01-18T08:00:26.614321495Z",
     "start_time": "2024-01-18T08:00:26.218631344Z"
    }
   },
   "id": "5dac78db1d4e2948",
   "execution_count": 146
  },
  {
   "cell_type": "code",
   "outputs": [
    {
     "data": {
      "text/plain": "0.84448"
     },
     "execution_count": 147,
     "metadata": {},
     "output_type": "execute_result"
    }
   ],
   "source": [
    "n = 50000\n",
    "\n",
    "np.random.seed(1)\n",
    "pos_ind = np.random.randint(0,len(pos), size=n)\n",
    "neg_ind = np.random.randint(0,len(neg), size=n)\n",
    "(pos[pos_ind] > neg[neg_ind]).mean()"
   ],
   "metadata": {
    "collapsed": false,
    "ExecuteTime": {
     "end_time": "2024-01-18T08:00:26.690072110Z",
     "start_time": "2024-01-18T08:00:26.527352712Z"
    }
   },
   "id": "aaf0ffc4c088278b",
   "execution_count": 147
  },
  {
   "cell_type": "markdown",
   "source": [
    "## 4.7 Cross-Validation\n",
    "* Evaluating the same model on different subsets of data\n",
    "* Getting the average prediction and the spread within predictions"
   ],
   "metadata": {
    "collapsed": false
   },
   "id": "f4f3cb82d90ddcd6"
  },
  {
   "cell_type": "code",
   "outputs": [],
   "source": [
    "def train(df_train, y_train, C=1.0):\n",
    "    dicts = df_train[categorical + numerical].to_dict(orient='records')\n",
    "    \n",
    "    dv = DictVectorizer(sparse=False)\n",
    "    X_train = dv.fit_transform(dicts)\n",
    "    \n",
    "    model = LogisticRegression(C=C, max_iter=1000)\n",
    "    model.fit(X_train, y_train)\n",
    "    return dv, model"
   ],
   "metadata": {
    "collapsed": false,
    "ExecuteTime": {
     "end_time": "2024-01-18T08:00:26.726128537Z",
     "start_time": "2024-01-18T08:00:26.527765091Z"
    }
   },
   "id": "e9db2a928cfbcd06",
   "execution_count": 148
  },
  {
   "cell_type": "code",
   "outputs": [],
   "source": [
    "dv, model = train(df_train=df_train, y_train=y_train, C=0.001) # smaller C specify stronger regularisation"
   ],
   "metadata": {
    "collapsed": false,
    "ExecuteTime": {
     "end_time": "2024-01-18T08:00:27.558581814Z",
     "start_time": "2024-01-18T08:00:26.529309553Z"
    }
   },
   "id": "f9c9f6e23aa7894d",
   "execution_count": 149
  },
  {
   "cell_type": "code",
   "outputs": [],
   "source": [
    "def predict(df, dv, model):\n",
    "    dicts = df[categorical + numerical].to_dict(orient='records')\n",
    "    \n",
    "    X = dv.transform(dicts)\n",
    "    y_pred = model.predict_proba(X)[:,1]\n",
    "    \n",
    "    return y_pred"
   ],
   "metadata": {
    "collapsed": false,
    "ExecuteTime": {
     "end_time": "2024-01-18T08:00:27.567706163Z",
     "start_time": "2024-01-18T08:00:27.555256103Z"
    }
   },
   "id": "c9e0f8935deb6b1c",
   "execution_count": 150
  },
  {
   "cell_type": "code",
   "outputs": [],
   "source": [
    "y_pred = predict(df_val, dv, model)"
   ],
   "metadata": {
    "collapsed": false,
    "ExecuteTime": {
     "end_time": "2024-01-18T08:00:27.745296508Z",
     "start_time": "2024-01-18T08:00:27.556626522Z"
    }
   },
   "id": "3ddaa873d6a57d4b",
   "execution_count": 151
  },
  {
   "cell_type": "code",
   "outputs": [],
   "source": [
    "from sklearn.model_selection import KFold"
   ],
   "metadata": {
    "collapsed": false,
    "ExecuteTime": {
     "end_time": "2024-01-18T08:00:27.789764344Z",
     "start_time": "2024-01-18T08:00:27.716411339Z"
    }
   },
   "id": "d98cfb2f02a2668d",
   "execution_count": 152
  },
  {
   "cell_type": "code",
   "outputs": [],
   "source": [
    "kfold = KFold(n_splits=10, shuffle=True, random_state=1)"
   ],
   "metadata": {
    "collapsed": false,
    "ExecuteTime": {
     "end_time": "2024-01-18T08:00:27.861885966Z",
     "start_time": "2024-01-18T08:00:27.726374727Z"
    }
   },
   "id": "9f67de62845f3a91",
   "execution_count": 153
  },
  {
   "cell_type": "code",
   "outputs": [],
   "source": [
    "from tqdm.auto import tqdm"
   ],
   "metadata": {
    "collapsed": false,
    "ExecuteTime": {
     "end_time": "2024-01-18T08:00:28.011763458Z",
     "start_time": "2024-01-18T08:00:27.753782505Z"
    }
   },
   "id": "28268230c56af589",
   "execution_count": 154
  },
  {
   "cell_type": "code",
   "outputs": [
    {
     "data": {
      "text/plain": "  0%|          | 0/7 [00:00<?, ?it/s]",
      "application/vnd.jupyter.widget-view+json": {
       "version_major": 2,
       "version_minor": 0,
       "model_id": "9398f00a29c940deac4e740e11d7333d"
      }
     },
     "metadata": {},
     "output_type": "display_data"
    },
    {
     "name": "stdout",
     "output_type": "stream",
     "text": [
      "C=0.001 0.824 +- 0.010\n",
      "C=0.01 0.840 +- 0.008\n",
      "C=0.1 0.841 +- 0.008\n"
     ]
    },
    {
     "name": "stderr",
     "output_type": "stream",
     "text": [
      "/home/wm18vw/miniconda3/envs/machineLearning_env/lib/python3.10/site-packages/sklearn/linear_model/_logistic.py:460: ConvergenceWarning: lbfgs failed to converge (status=1):\n",
      "STOP: TOTAL NO. of ITERATIONS REACHED LIMIT.\n",
      "\n",
      "Increase the number of iterations (max_iter) or scale the data as shown in:\n",
      "    https://scikit-learn.org/stable/modules/preprocessing.html\n",
      "Please also refer to the documentation for alternative solver options:\n",
      "    https://scikit-learn.org/stable/modules/linear_model.html#logistic-regression\n",
      "  n_iter_i = _check_optimize_result(\n",
      "/home/wm18vw/miniconda3/envs/machineLearning_env/lib/python3.10/site-packages/sklearn/linear_model/_logistic.py:460: ConvergenceWarning: lbfgs failed to converge (status=1):\n",
      "STOP: TOTAL NO. of ITERATIONS REACHED LIMIT.\n",
      "\n",
      "Increase the number of iterations (max_iter) or scale the data as shown in:\n",
      "    https://scikit-learn.org/stable/modules/preprocessing.html\n",
      "Please also refer to the documentation for alternative solver options:\n",
      "    https://scikit-learn.org/stable/modules/linear_model.html#logistic-regression\n",
      "  n_iter_i = _check_optimize_result(\n",
      "/home/wm18vw/miniconda3/envs/machineLearning_env/lib/python3.10/site-packages/sklearn/linear_model/_logistic.py:460: ConvergenceWarning: lbfgs failed to converge (status=1):\n",
      "STOP: TOTAL NO. of ITERATIONS REACHED LIMIT.\n",
      "\n",
      "Increase the number of iterations (max_iter) or scale the data as shown in:\n",
      "    https://scikit-learn.org/stable/modules/preprocessing.html\n",
      "Please also refer to the documentation for alternative solver options:\n",
      "    https://scikit-learn.org/stable/modules/linear_model.html#logistic-regression\n",
      "  n_iter_i = _check_optimize_result(\n",
      "/home/wm18vw/miniconda3/envs/machineLearning_env/lib/python3.10/site-packages/sklearn/linear_model/_logistic.py:460: ConvergenceWarning: lbfgs failed to converge (status=1):\n",
      "STOP: TOTAL NO. of ITERATIONS REACHED LIMIT.\n",
      "\n",
      "Increase the number of iterations (max_iter) or scale the data as shown in:\n",
      "    https://scikit-learn.org/stable/modules/preprocessing.html\n",
      "Please also refer to the documentation for alternative solver options:\n",
      "    https://scikit-learn.org/stable/modules/linear_model.html#logistic-regression\n",
      "  n_iter_i = _check_optimize_result(\n",
      "/home/wm18vw/miniconda3/envs/machineLearning_env/lib/python3.10/site-packages/sklearn/linear_model/_logistic.py:460: ConvergenceWarning: lbfgs failed to converge (status=1):\n",
      "STOP: TOTAL NO. of ITERATIONS REACHED LIMIT.\n",
      "\n",
      "Increase the number of iterations (max_iter) or scale the data as shown in:\n",
      "    https://scikit-learn.org/stable/modules/preprocessing.html\n",
      "Please also refer to the documentation for alternative solver options:\n",
      "    https://scikit-learn.org/stable/modules/linear_model.html#logistic-regression\n",
      "  n_iter_i = _check_optimize_result(\n"
     ]
    },
    {
     "name": "stdout",
     "output_type": "stream",
     "text": [
      "C=0.5 0.842 +- 0.009\n"
     ]
    },
    {
     "name": "stderr",
     "output_type": "stream",
     "text": [
      "/home/wm18vw/miniconda3/envs/machineLearning_env/lib/python3.10/site-packages/sklearn/linear_model/_logistic.py:460: ConvergenceWarning: lbfgs failed to converge (status=1):\n",
      "STOP: TOTAL NO. of ITERATIONS REACHED LIMIT.\n",
      "\n",
      "Increase the number of iterations (max_iter) or scale the data as shown in:\n",
      "    https://scikit-learn.org/stable/modules/preprocessing.html\n",
      "Please also refer to the documentation for alternative solver options:\n",
      "    https://scikit-learn.org/stable/modules/linear_model.html#logistic-regression\n",
      "  n_iter_i = _check_optimize_result(\n",
      "/home/wm18vw/miniconda3/envs/machineLearning_env/lib/python3.10/site-packages/sklearn/linear_model/_logistic.py:460: ConvergenceWarning: lbfgs failed to converge (status=1):\n",
      "STOP: TOTAL NO. of ITERATIONS REACHED LIMIT.\n",
      "\n",
      "Increase the number of iterations (max_iter) or scale the data as shown in:\n",
      "    https://scikit-learn.org/stable/modules/preprocessing.html\n",
      "Please also refer to the documentation for alternative solver options:\n",
      "    https://scikit-learn.org/stable/modules/linear_model.html#logistic-regression\n",
      "  n_iter_i = _check_optimize_result(\n",
      "/home/wm18vw/miniconda3/envs/machineLearning_env/lib/python3.10/site-packages/sklearn/linear_model/_logistic.py:460: ConvergenceWarning: lbfgs failed to converge (status=1):\n",
      "STOP: TOTAL NO. of ITERATIONS REACHED LIMIT.\n",
      "\n",
      "Increase the number of iterations (max_iter) or scale the data as shown in:\n",
      "    https://scikit-learn.org/stable/modules/preprocessing.html\n",
      "Please also refer to the documentation for alternative solver options:\n",
      "    https://scikit-learn.org/stable/modules/linear_model.html#logistic-regression\n",
      "  n_iter_i = _check_optimize_result(\n",
      "/home/wm18vw/miniconda3/envs/machineLearning_env/lib/python3.10/site-packages/sklearn/linear_model/_logistic.py:460: ConvergenceWarning: lbfgs failed to converge (status=1):\n",
      "STOP: TOTAL NO. of ITERATIONS REACHED LIMIT.\n",
      "\n",
      "Increase the number of iterations (max_iter) or scale the data as shown in:\n",
      "    https://scikit-learn.org/stable/modules/preprocessing.html\n",
      "Please also refer to the documentation for alternative solver options:\n",
      "    https://scikit-learn.org/stable/modules/linear_model.html#logistic-regression\n",
      "  n_iter_i = _check_optimize_result(\n"
     ]
    },
    {
     "name": "stdout",
     "output_type": "stream",
     "text": [
      "C=1.0 0.835 +- 0.005\n"
     ]
    },
    {
     "name": "stderr",
     "output_type": "stream",
     "text": [
      "/home/wm18vw/miniconda3/envs/machineLearning_env/lib/python3.10/site-packages/sklearn/linear_model/_logistic.py:460: ConvergenceWarning: lbfgs failed to converge (status=1):\n",
      "STOP: TOTAL NO. of ITERATIONS REACHED LIMIT.\n",
      "\n",
      "Increase the number of iterations (max_iter) or scale the data as shown in:\n",
      "    https://scikit-learn.org/stable/modules/preprocessing.html\n",
      "Please also refer to the documentation for alternative solver options:\n",
      "    https://scikit-learn.org/stable/modules/linear_model.html#logistic-regression\n",
      "  n_iter_i = _check_optimize_result(\n",
      "/home/wm18vw/miniconda3/envs/machineLearning_env/lib/python3.10/site-packages/sklearn/linear_model/_logistic.py:460: ConvergenceWarning: lbfgs failed to converge (status=1):\n",
      "STOP: TOTAL NO. of ITERATIONS REACHED LIMIT.\n",
      "\n",
      "Increase the number of iterations (max_iter) or scale the data as shown in:\n",
      "    https://scikit-learn.org/stable/modules/preprocessing.html\n",
      "Please also refer to the documentation for alternative solver options:\n",
      "    https://scikit-learn.org/stable/modules/linear_model.html#logistic-regression\n",
      "  n_iter_i = _check_optimize_result(\n",
      "/home/wm18vw/miniconda3/envs/machineLearning_env/lib/python3.10/site-packages/sklearn/linear_model/_logistic.py:460: ConvergenceWarning: lbfgs failed to converge (status=1):\n",
      "STOP: TOTAL NO. of ITERATIONS REACHED LIMIT.\n",
      "\n",
      "Increase the number of iterations (max_iter) or scale the data as shown in:\n",
      "    https://scikit-learn.org/stable/modules/preprocessing.html\n",
      "Please also refer to the documentation for alternative solver options:\n",
      "    https://scikit-learn.org/stable/modules/linear_model.html#logistic-regression\n",
      "  n_iter_i = _check_optimize_result(\n",
      "/home/wm18vw/miniconda3/envs/machineLearning_env/lib/python3.10/site-packages/sklearn/linear_model/_logistic.py:460: ConvergenceWarning: lbfgs failed to converge (status=1):\n",
      "STOP: TOTAL NO. of ITERATIONS REACHED LIMIT.\n",
      "\n",
      "Increase the number of iterations (max_iter) or scale the data as shown in:\n",
      "    https://scikit-learn.org/stable/modules/preprocessing.html\n",
      "Please also refer to the documentation for alternative solver options:\n",
      "    https://scikit-learn.org/stable/modules/linear_model.html#logistic-regression\n",
      "  n_iter_i = _check_optimize_result(\n"
     ]
    },
    {
     "name": "stdout",
     "output_type": "stream",
     "text": [
      "C=5.0 0.839 +- 0.007\n"
     ]
    },
    {
     "name": "stderr",
     "output_type": "stream",
     "text": [
      "/home/wm18vw/miniconda3/envs/machineLearning_env/lib/python3.10/site-packages/sklearn/linear_model/_logistic.py:460: ConvergenceWarning: lbfgs failed to converge (status=1):\n",
      "STOP: TOTAL NO. of ITERATIONS REACHED LIMIT.\n",
      "\n",
      "Increase the number of iterations (max_iter) or scale the data as shown in:\n",
      "    https://scikit-learn.org/stable/modules/preprocessing.html\n",
      "Please also refer to the documentation for alternative solver options:\n",
      "    https://scikit-learn.org/stable/modules/linear_model.html#logistic-regression\n",
      "  n_iter_i = _check_optimize_result(\n",
      "/home/wm18vw/miniconda3/envs/machineLearning_env/lib/python3.10/site-packages/sklearn/linear_model/_logistic.py:460: ConvergenceWarning: lbfgs failed to converge (status=1):\n",
      "STOP: TOTAL NO. of ITERATIONS REACHED LIMIT.\n",
      "\n",
      "Increase the number of iterations (max_iter) or scale the data as shown in:\n",
      "    https://scikit-learn.org/stable/modules/preprocessing.html\n",
      "Please also refer to the documentation for alternative solver options:\n",
      "    https://scikit-learn.org/stable/modules/linear_model.html#logistic-regression\n",
      "  n_iter_i = _check_optimize_result(\n"
     ]
    },
    {
     "name": "stdout",
     "output_type": "stream",
     "text": [
      "C=10.0 0.839 +- 0.007\n"
     ]
    }
   ],
   "source": [
    "n_splits = 5\n",
    "\n",
    "for C in tqdm([0.001, 0.01, 0.1, 0.5, 1.0, 5.0, 10.0]):\n",
    "    kfold = KFold(n_splits=n_splits, shuffle=True, random_state=1)\n",
    "    scores = []\n",
    "    \n",
    "    for train_idx, val_idx in kfold.split(df_full_train):\n",
    "        df_train = df_full_train.iloc[train_idx]\n",
    "        df_val = df_full_train.iloc[val_idx]\n",
    "        \n",
    "        y_train = df_train.churn.values\n",
    "        y_val = df_val.churn.values\n",
    "        \n",
    "        dv, model = train(df_train, y_train, C=C)\n",
    "        y_pred = predict(df_val, dv, model)\n",
    "        \n",
    "        auc = roc_auc_score(y_val, y_pred)\n",
    "        scores.append(auc)\n",
    "    print('C=%s %.3f +- %.3f' % (C, np.mean(scores), np.std(scores)))"
   ],
   "metadata": {
    "collapsed": false,
    "ExecuteTime": {
     "end_time": "2024-01-18T08:02:50.449782784Z",
     "start_time": "2024-01-18T08:00:28.018869859Z"
    }
   },
   "id": "f5ed027dfdaa8352",
   "execution_count": 155
  },
  {
   "cell_type": "code",
   "outputs": [
    {
     "data": {
      "text/plain": "[0.8406520083836377,\n 0.8352474010064892,\n 0.832269717037929,\n 0.8358041024493189,\n 0.8518441529917479]"
     },
     "execution_count": 161,
     "metadata": {},
     "output_type": "execute_result"
    }
   ],
   "source": [
    "scores"
   ],
   "metadata": {
    "collapsed": false,
    "ExecuteTime": {
     "end_time": "2024-01-18T08:16:01.060028365Z",
     "start_time": "2024-01-18T08:16:00.950608971Z"
    }
   },
   "id": "f24ab12a5421eedf",
   "execution_count": 161
  },
  {
   "cell_type": "code",
   "outputs": [
    {
     "data": {
      "text/plain": "(4508, 1126)"
     },
     "execution_count": 156,
     "metadata": {},
     "output_type": "execute_result"
    }
   ],
   "source": [
    "len(train_idx), len(val_idx)"
   ],
   "metadata": {
    "collapsed": false,
    "ExecuteTime": {
     "end_time": "2024-01-18T08:02:50.474326350Z",
     "start_time": "2024-01-18T08:02:50.459887277Z"
    }
   },
   "id": "60d7e23c5f1224f0",
   "execution_count": 156
  },
  {
   "cell_type": "code",
   "outputs": [
    {
     "data": {
      "text/plain": "5634"
     },
     "execution_count": 157,
     "metadata": {},
     "output_type": "execute_result"
    }
   ],
   "source": [
    "len(df_full_train)"
   ],
   "metadata": {
    "collapsed": false,
    "ExecuteTime": {
     "end_time": "2024-01-18T08:02:50.535406013Z",
     "start_time": "2024-01-18T08:02:50.465661651Z"
    }
   },
   "id": "356bc6e324b02e5",
   "execution_count": 157
  },
  {
   "cell_type": "code",
   "outputs": [
    {
     "data": {
      "text/plain": "0.8547821400327168"
     },
     "execution_count": 160,
     "metadata": {},
     "output_type": "execute_result"
    }
   ],
   "source": [
    "dv, model = train(df_full_train, df_full_train.churn.values, C=1.0)\n",
    "y_pred = predict(df_test, dv, model)\n",
    "\n",
    "auc = roc_auc_score(y_test, y_pred)\n",
    "auc"
   ],
   "metadata": {
    "collapsed": false,
    "ExecuteTime": {
     "end_time": "2024-01-18T08:15:13.183607702Z",
     "start_time": "2024-01-18T08:15:06.446121326Z"
    }
   },
   "id": "843f47c44e11db0c",
   "execution_count": 160
  },
  {
   "cell_type": "markdown",
   "source": [
    "@ 4:30 https://www.youtube.com/watch?v=-v8XEQ2AHvQ&list=PL3MmuxUbc_hIhxl5Ji8t4O6lPAOpHaCLR&index=48"
   ],
   "metadata": {
    "collapsed": false
   },
   "id": "bdd84f3a46d031f1"
  },
  {
   "cell_type": "code",
   "outputs": [],
   "source": [],
   "metadata": {
    "collapsed": false,
    "ExecuteTime": {
     "end_time": "2024-01-18T08:02:50.563223214Z",
     "start_time": "2024-01-18T08:02:50.478862316Z"
    }
   },
   "id": "dabb8b5da940b67a",
   "execution_count": 157
  },
  {
   "cell_type": "code",
   "outputs": [],
   "source": [],
   "metadata": {
    "collapsed": false,
    "ExecuteTime": {
     "end_time": "2024-01-18T08:02:50.611800024Z",
     "start_time": "2024-01-18T08:02:50.484749679Z"
    }
   },
   "id": "9f35709c1684116f",
   "execution_count": 157
  },
  {
   "cell_type": "code",
   "outputs": [],
   "source": [],
   "metadata": {
    "collapsed": false
   },
   "id": "5516f2422e59fd2a"
  }
 ],
 "metadata": {
  "kernelspec": {
   "display_name": "Python 3",
   "language": "python",
   "name": "python3"
  },
  "language_info": {
   "codemirror_mode": {
    "name": "ipython",
    "version": 2
   },
   "file_extension": ".py",
   "mimetype": "text/x-python",
   "name": "python",
   "nbconvert_exporter": "python",
   "pygments_lexer": "ipython2",
   "version": "2.7.6"
  }
 },
 "nbformat": 4,
 "nbformat_minor": 5
}
