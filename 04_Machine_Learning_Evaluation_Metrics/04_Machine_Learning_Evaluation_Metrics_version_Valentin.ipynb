{
 "cells": [
  {
   "cell_type": "markdown",
   "source": [
    "# 4. Evaluation Metrice for Classification\n",
    "In the previous session we trainted a model for predicting churn. How do we know if it's good? "
   ],
   "metadata": {
    "collapsed": false
   },
   "id": "d3f5ed4747096a6b"
  },
  {
   "cell_type": "markdown",
   "source": [
    "## 4.1 Evaluation metrics: session overview\n",
    "* Dataset: https//www.kaggle.com/blastchar/telco-customer-churn\n",
    "* https:://raw.githubusercontent.com/alexeygrigorev/mlbookcamp-code/master/chapter-03-churn-prediction/WA_Fn-UseC_-Telco-Customer-Churn.csv\n",
    "Metric - function that compares the predictions with the actual values and outputs a single number that tells how good the predictions are"
   ],
   "metadata": {
    "collapsed": false
   },
   "id": "85dedfba42662ace"
  },
  {
   "cell_type": "code",
   "execution_count": 1,
   "outputs": [],
   "source": [
    "import pandas as pd\n",
    "import numpy as np\n",
    "import matplotlib.pyplot as plt"
   ],
   "metadata": {
    "collapsed": false,
    "ExecuteTime": {
     "end_time": "2024-01-16T08:34:12.601048675Z",
     "start_time": "2024-01-16T08:34:11.008298607Z"
    }
   },
   "id": "6855e250d7776244"
  },
  {
   "cell_type": "code",
   "execution_count": 2,
   "outputs": [],
   "source": [
    "from sklearn.model_selection import train_test_split\n",
    "from sklearn.feature_extraction import DictVectorizer\n",
    "from sklearn.linear_model import LogisticRegression"
   ],
   "metadata": {
    "collapsed": false,
    "ExecuteTime": {
     "end_time": "2024-01-16T08:35:05.080568212Z",
     "start_time": "2024-01-16T08:35:03.276385192Z"
    }
   },
   "id": "27ccd2df9620b1c1"
  },
  {
   "cell_type": "code",
   "execution_count": 3,
   "outputs": [],
   "source": [
    "data_url = 'https://raw.githubusercontent.com/alexeygrigorev/mlbookcamp-code/master/chapter-03-churn-prediction/WA_Fn-UseC_-Telco-Customer-Churn.csv'"
   ],
   "metadata": {
    "collapsed": false,
    "ExecuteTime": {
     "end_time": "2024-01-16T08:41:10.789262773Z",
     "start_time": "2024-01-16T08:41:10.706963441Z"
    }
   },
   "id": "4cb26c42f7070861"
  },
  {
   "cell_type": "code",
   "execution_count": 6,
   "outputs": [
    {
     "name": "stderr",
     "output_type": "stream",
     "text": [
      "--2024-01-16 09:46:17--  https://raw.githubusercontent.com/alexeygrigorev/mlbookcamp-code/master/chapter-03-churn-prediction/WA_Fn-UseC_-Telco-Customer-Churn.csv\n",
      "Resolving raw.githubusercontent.com (raw.githubusercontent.com)... 185.199.108.133, 185.199.109.133, 185.199.110.133, ...\n",
      "Connecting to raw.githubusercontent.com (raw.githubusercontent.com)|185.199.108.133|:443... connected.\n",
      "HTTP request sent, awaiting response... 200 OK\n",
      "Length: 977501 (955K) [text/plain]\n",
      "Saving to: 'data-week-4.csv'\n",
      "\n",
      "     0K .......... .......... .......... .......... ..........  5% 1.06M 1s\n",
      "    50K .......... .......... .......... .......... .......... 10% 1.68M 1s\n",
      "   100K .......... .......... .......... .......... .......... 15% 1.32M 1s\n",
      "   150K .......... .......... .......... .......... .......... 20% 2.12M 1s\n",
      "   200K .......... .......... .......... .......... .......... 26% 2.82M 0s\n",
      "   250K .......... .......... .......... .......... .......... 31% 2.48M 0s\n",
      "   300K .......... .......... .......... .......... .......... 36% 2.61M 0s\n",
      "   350K .......... .......... .......... .......... .......... 41% 2.62M 0s\n",
      "   400K .......... .......... .......... .......... .......... 47% 2.03M 0s\n",
      "   450K .......... .......... .......... .......... .......... 52% 2.62M 0s\n",
      "   500K .......... .......... .......... .......... .......... 57% 2.95M 0s\n",
      "   550K .......... .......... .......... .......... .......... 62% 2.74M 0s\n",
      "   600K .......... .......... .......... .......... .......... 68% 2.77M 0s\n",
      "   650K .......... .......... .......... .......... .......... 73% 2.05M 0s\n",
      "   700K .......... .......... .......... .......... .......... 78% 2.67M 0s\n",
      "   750K .......... .......... .......... .......... .......... 83% 2.74M 0s\n",
      "   800K .......... .......... .......... .......... .......... 89% 3.24M 0s\n",
      "   850K .......... .......... .......... .......... .......... 94% 2.90M 0s\n",
      "   900K .......... ......"
     ]
    },
    {
     "name": "stdout",
     "output_type": "stream",
     "text": [
      "Le fichier data-week-4.csv a été téléchargé avec succès.\n"
     ]
    },
    {
     "name": "stderr",
     "output_type": "stream",
     "text": [
      ".... .......... .......... .......... 99% 2.38M 0s\n",
      "   950K ....                                                  100% 8.55T=0.4s\n",
      "\n",
      "2024-01-16 09:46:17 (2.24 MB/s) - 'data-week-4.csv' saved [977501/977501]\n",
      "\n"
     ]
    }
   ],
   "source": [
    "import os\n",
    "filename = 'data-week-4.csv'\n",
    "if not os.path.exists(filename):\n",
    "    os.system(f'wget {data_url} -O {filename}')\n",
    "    print(f\"Le fichier {filename} a été téléchargé avec succès.\")\n",
    "else:\n",
    "    # Si le fichier existe déjà, imprimez un message\n",
    "    print(f\"Le fichier {filename} existe déjà.\")"
   ],
   "metadata": {
    "collapsed": false,
    "ExecuteTime": {
     "end_time": "2024-01-16T08:46:18.256572093Z",
     "start_time": "2024-01-16T08:46:17.332625991Z"
    }
   },
   "id": "5d54c32fd1608d04"
  },
  {
   "cell_type": "code",
   "execution_count": 12,
   "outputs": [],
   "source": [
    "df = pd.read_csv(filename)\n",
    "df.columns = df.columns.str.lower().str.replace(' ', '_') # edit columns names\n",
    "categorical_columns = list(df.dtypes[df.dtypes == 'object'].index)\n",
    "for c in categorical_columns:\n",
    "    df[c] = df[c].str.lower().str.replace(' ', '_') # edit content of column"
   ],
   "metadata": {
    "collapsed": false,
    "ExecuteTime": {
     "end_time": "2024-01-16T08:58:49.706583598Z",
     "start_time": "2024-01-16T08:58:48.998084755Z"
    }
   },
   "id": "8443ac78be2c1ed9"
  },
  {
   "cell_type": "code",
   "execution_count": 13,
   "outputs": [],
   "source": [
    "df['totalcharges'] = pd.to_numeric(df['totalcharges'], errors='coerce')\n",
    "df.totalcharges = df.totalcharges.fillna(0)\n",
    "df.churn = (df.churn == 'yes').astype(int)"
   ],
   "metadata": {
    "collapsed": false,
    "ExecuteTime": {
     "end_time": "2024-01-16T08:58:51.186148645Z",
     "start_time": "2024-01-16T08:58:50.502822418Z"
    }
   },
   "id": "39ad15c385b7e52f"
  },
  {
   "cell_type": "code",
   "execution_count": 14,
   "outputs": [],
   "source": [
    "df_full_train, df_test = train_test_split(df, test_size=0.2, random_state=1)\n",
    "df_train, df_val = train_test_split(df_full_train, test_size=0.25, random_state=1)\n",
    "\n",
    "df_train.reset_index(drop=True, inplace=True)\n",
    "df_val.reset_index(drop=True, inplace=True)\n",
    "df_test.reset_index(drop=True, inplace=True)\n",
    "\n",
    "y_train = df_train.churn.values\n",
    "y_val = df_val.churn.values\n",
    "y_test = df_test.churn.values\n",
    "\n",
    "df_train.drop('churn', axis=1, inplace=True)\n",
    "df_val.drop('churn', axis=1, inplace=True)\n",
    "df_test.drop('churn', axis=1, inplace=True)"
   ],
   "metadata": {
    "collapsed": false,
    "ExecuteTime": {
     "end_time": "2024-01-16T08:58:52.482027477Z",
     "start_time": "2024-01-16T08:58:52.237817917Z"
    }
   },
   "id": "f74498131d0447ce"
  },
  {
   "cell_type": "code",
   "execution_count": 18,
   "outputs": [],
   "source": [
    "numerical = ['tenure', 'monthlycharges', 'totalcharges']\n",
    "categorical = ['customerid', 'gender', 'seniorcitizen', 'partner', 'dependents', 'phoneservice', 'multiplelines', 'internetservice',\n",
    "       'onlinesecurity', 'onlinebackup', 'deviceprotection', 'techsupport',\n",
    "       'streamingtv', 'streamingmovies', 'contract', 'paperlessbilling',\n",
    "       'paymentmethod']"
   ],
   "metadata": {
    "collapsed": false,
    "ExecuteTime": {
     "end_time": "2024-01-16T09:00:52.206303563Z",
     "start_time": "2024-01-16T09:00:51.969963429Z"
    }
   },
   "id": "a5bd18f8004756de"
  },
  {
   "cell_type": "code",
   "execution_count": 19,
   "outputs": [
    {
     "name": "stderr",
     "output_type": "stream",
     "text": [
      "/home/wm18vw/miniconda3/envs/machineLearning/lib/python3.11/site-packages/sklearn/linear_model/_logistic.py:458: ConvergenceWarning: lbfgs failed to converge (status=1):\n",
      "STOP: TOTAL NO. of ITERATIONS REACHED LIMIT.\n",
      "\n",
      "Increase the number of iterations (max_iter) or scale the data as shown in:\n",
      "    https://scikit-learn.org/stable/modules/preprocessing.html\n",
      "Please also refer to the documentation for alternative solver options:\n",
      "    https://scikit-learn.org/stable/modules/linear_model.html#logistic-regression\n",
      "  n_iter_i = _check_optimize_result(\n"
     ]
    },
    {
     "data": {
      "text/plain": "LogisticRegression()",
      "text/html": "<style>#sk-container-id-1 {color: black;background-color: white;}#sk-container-id-1 pre{padding: 0;}#sk-container-id-1 div.sk-toggleable {background-color: white;}#sk-container-id-1 label.sk-toggleable__label {cursor: pointer;display: block;width: 100%;margin-bottom: 0;padding: 0.3em;box-sizing: border-box;text-align: center;}#sk-container-id-1 label.sk-toggleable__label-arrow:before {content: \"▸\";float: left;margin-right: 0.25em;color: #696969;}#sk-container-id-1 label.sk-toggleable__label-arrow:hover:before {color: black;}#sk-container-id-1 div.sk-estimator:hover label.sk-toggleable__label-arrow:before {color: black;}#sk-container-id-1 div.sk-toggleable__content {max-height: 0;max-width: 0;overflow: hidden;text-align: left;background-color: #f0f8ff;}#sk-container-id-1 div.sk-toggleable__content pre {margin: 0.2em;color: black;border-radius: 0.25em;background-color: #f0f8ff;}#sk-container-id-1 input.sk-toggleable__control:checked~div.sk-toggleable__content {max-height: 200px;max-width: 100%;overflow: auto;}#sk-container-id-1 input.sk-toggleable__control:checked~label.sk-toggleable__label-arrow:before {content: \"▾\";}#sk-container-id-1 div.sk-estimator input.sk-toggleable__control:checked~label.sk-toggleable__label {background-color: #d4ebff;}#sk-container-id-1 div.sk-label input.sk-toggleable__control:checked~label.sk-toggleable__label {background-color: #d4ebff;}#sk-container-id-1 input.sk-hidden--visually {border: 0;clip: rect(1px 1px 1px 1px);clip: rect(1px, 1px, 1px, 1px);height: 1px;margin: -1px;overflow: hidden;padding: 0;position: absolute;width: 1px;}#sk-container-id-1 div.sk-estimator {font-family: monospace;background-color: #f0f8ff;border: 1px dotted black;border-radius: 0.25em;box-sizing: border-box;margin-bottom: 0.5em;}#sk-container-id-1 div.sk-estimator:hover {background-color: #d4ebff;}#sk-container-id-1 div.sk-parallel-item::after {content: \"\";width: 100%;border-bottom: 1px solid gray;flex-grow: 1;}#sk-container-id-1 div.sk-label:hover label.sk-toggleable__label {background-color: #d4ebff;}#sk-container-id-1 div.sk-serial::before {content: \"\";position: absolute;border-left: 1px solid gray;box-sizing: border-box;top: 0;bottom: 0;left: 50%;z-index: 0;}#sk-container-id-1 div.sk-serial {display: flex;flex-direction: column;align-items: center;background-color: white;padding-right: 0.2em;padding-left: 0.2em;position: relative;}#sk-container-id-1 div.sk-item {position: relative;z-index: 1;}#sk-container-id-1 div.sk-parallel {display: flex;align-items: stretch;justify-content: center;background-color: white;position: relative;}#sk-container-id-1 div.sk-item::before, #sk-container-id-1 div.sk-parallel-item::before {content: \"\";position: absolute;border-left: 1px solid gray;box-sizing: border-box;top: 0;bottom: 0;left: 50%;z-index: -1;}#sk-container-id-1 div.sk-parallel-item {display: flex;flex-direction: column;z-index: 1;position: relative;background-color: white;}#sk-container-id-1 div.sk-parallel-item:first-child::after {align-self: flex-end;width: 50%;}#sk-container-id-1 div.sk-parallel-item:last-child::after {align-self: flex-start;width: 50%;}#sk-container-id-1 div.sk-parallel-item:only-child::after {width: 0;}#sk-container-id-1 div.sk-dashed-wrapped {border: 1px dashed gray;margin: 0 0.4em 0.5em 0.4em;box-sizing: border-box;padding-bottom: 0.4em;background-color: white;}#sk-container-id-1 div.sk-label label {font-family: monospace;font-weight: bold;display: inline-block;line-height: 1.2em;}#sk-container-id-1 div.sk-label-container {text-align: center;}#sk-container-id-1 div.sk-container {/* jupyter's `normalize.less` sets `[hidden] { display: none; }` but bootstrap.min.css set `[hidden] { display: none !important; }` so we also need the `!important` here to be able to override the default hidden behavior on the sphinx rendered scikit-learn.org. See: https://github.com/scikit-learn/scikit-learn/issues/21755 */display: inline-block !important;position: relative;}#sk-container-id-1 div.sk-text-repr-fallback {display: none;}</style><div id=\"sk-container-id-1\" class=\"sk-top-container\"><div class=\"sk-text-repr-fallback\"><pre>LogisticRegression()</pre><b>In a Jupyter environment, please rerun this cell to show the HTML representation or trust the notebook. <br />On GitHub, the HTML representation is unable to render, please try loading this page with nbviewer.org.</b></div><div class=\"sk-container\" hidden><div class=\"sk-item\"><div class=\"sk-estimator sk-toggleable\"><input class=\"sk-toggleable__control sk-hidden--visually\" id=\"sk-estimator-id-1\" type=\"checkbox\" checked><label for=\"sk-estimator-id-1\" class=\"sk-toggleable__label sk-toggleable__label-arrow\">LogisticRegression</label><div class=\"sk-toggleable__content\"><pre>LogisticRegression()</pre></div></div></div></div></div>"
     },
     "execution_count": 19,
     "metadata": {},
     "output_type": "execute_result"
    }
   ],
   "source": [
    "dv = DictVectorizer(sparse=False)\n",
    "train_dicts = df_train[categorical + numerical].to_dict(orient='records')\n",
    "X_train = dv.fit_transform(train_dicts)\n",
    "model = LogisticRegression()\n",
    "model.fit(X_train, y_train)"
   ],
   "metadata": {
    "collapsed": false,
    "ExecuteTime": {
     "end_time": "2024-01-16T09:03:06.481363104Z",
     "start_time": "2024-01-16T09:03:00.057438066Z"
    }
   },
   "id": "33745c4827a8ef10"
  },
  {
   "cell_type": "code",
   "execution_count": 20,
   "outputs": [
    {
     "data": {
      "text/plain": "0.7984386089425124"
     },
     "execution_count": 20,
     "metadata": {},
     "output_type": "execute_result"
    }
   ],
   "source": [
    "val_dicts = df_val[categorical + numerical].to_dict(orient='records')\n",
    "X_val = dv.transform(val_dicts)\n",
    "\n",
    "y_pred = model.predict_proba(X_val)[:,1] # soft prediction\n",
    "churn_decision = (y_pred >= 0.5)\n",
    "(y_val == churn_decision).mean()"
   ],
   "metadata": {
    "collapsed": false,
    "ExecuteTime": {
     "end_time": "2024-01-16T09:05:51.668452316Z",
     "start_time": "2024-01-16T09:05:51.231009853Z"
    }
   },
   "id": "4ab3323a3d2c0950"
  },
  {
   "cell_type": "markdown",
   "source": [
    "## 4.2 Accuracy and dummy model"
   ],
   "metadata": {
    "collapsed": false
   },
   "id": "f893224698a20fd0"
  },
  {
   "cell_type": "code",
   "execution_count": 22,
   "outputs": [
    {
     "data": {
      "text/plain": "1409"
     },
     "execution_count": 22,
     "metadata": {},
     "output_type": "execute_result"
    }
   ],
   "source": [
    "len(y_val)"
   ],
   "metadata": {
    "collapsed": false,
    "ExecuteTime": {
     "end_time": "2024-01-16T09:15:43.063863699Z",
     "start_time": "2024-01-16T09:15:42.409698026Z"
    }
   },
   "id": "512d5b34f2e0936c"
  },
  {
   "cell_type": "code",
   "execution_count": 24,
   "outputs": [
    {
     "data": {
      "text/plain": "1125"
     },
     "execution_count": 24,
     "metadata": {},
     "output_type": "execute_result"
    }
   ],
   "source": [
    "(y_val == churn_decision).sum()"
   ],
   "metadata": {
    "collapsed": false,
    "ExecuteTime": {
     "end_time": "2024-01-16T09:18:52.622966798Z",
     "start_time": "2024-01-16T09:18:52.488635567Z"
    }
   },
   "id": "3c679892d64c7eab"
  },
  {
   "cell_type": "code",
   "execution_count": 25,
   "outputs": [
    {
     "data": {
      "text/plain": "0.7984386089425124"
     },
     "execution_count": 25,
     "metadata": {},
     "output_type": "execute_result"
    }
   ],
   "source": [
    "1125/1409"
   ],
   "metadata": {
    "collapsed": false,
    "ExecuteTime": {
     "end_time": "2024-01-16T09:21:40.098924781Z",
     "start_time": "2024-01-16T09:21:40.022058708Z"
    }
   },
   "id": "835113903e2f1bcc"
  },
  {
   "cell_type": "code",
   "execution_count": 33,
   "outputs": [],
   "source": [
    "from sklearn.metrics import accuracy_score"
   ],
   "metadata": {
    "collapsed": false,
    "ExecuteTime": {
     "end_time": "2024-01-16T10:07:53.600930324Z",
     "start_time": "2024-01-16T10:07:53.544420712Z"
    }
   },
   "id": "db1a2ec5d9a23171"
  },
  {
   "cell_type": "code",
   "execution_count": 35,
   "outputs": [
    {
     "data": {
      "text/plain": "0.7984386089425124"
     },
     "execution_count": 35,
     "metadata": {},
     "output_type": "execute_result"
    }
   ],
   "source": [
    "accuracy_score(y_val, y_pred >= 0.5)"
   ],
   "metadata": {
    "collapsed": false,
    "ExecuteTime": {
     "end_time": "2024-01-16T10:09:10.129860296Z",
     "start_time": "2024-01-16T10:09:09.307656019Z"
    }
   },
   "id": "a205b8d7f20898da"
  },
  {
   "cell_type": "markdown",
   "source": [
    "Accuracy $= \\frac{1125}{1409} \\approx 80\\%$"
   ],
   "metadata": {
    "collapsed": false
   },
   "id": "15d41fc4071dc7b4"
  },
  {
   "cell_type": "code",
   "execution_count": 36,
   "outputs": [
    {
     "name": "stdout",
     "output_type": "stream",
     "text": [
      "0.00 0.274\n",
      "0.05 0.512\n",
      "0.10 0.597\n",
      "0.15 0.668\n",
      "0.20 0.709\n",
      "0.25 0.735\n",
      "0.30 0.755\n",
      "0.35 0.769\n",
      "0.40 0.783\n",
      "0.45 0.797\n",
      "0.50 0.798\n",
      "0.55 0.802\n",
      "0.60 0.796\n",
      "0.65 0.787\n",
      "0.70 0.764\n",
      "0.75 0.745\n",
      "0.80 0.735\n",
      "0.85 0.726\n",
      "0.90 0.726\n",
      "0.95 0.726\n",
      "1.00 0.726\n"
     ]
    }
   ],
   "source": [
    "thresholds = np.linspace(0,1,21)\n",
    "scores = []\n",
    "\n",
    "for t in thresholds:\n",
    "    #churn_decision = (y_pred >= t)\n",
    "    #score = (y_val == churn_decision).mean()\n",
    "    score = accuracy_score(y_val, y_pred >= t)\n",
    "    print('%.2f %.3f' % (t, score))\n",
    "    scores.append(score)"
   ],
   "metadata": {
    "collapsed": false,
    "ExecuteTime": {
     "end_time": "2024-01-16T10:32:48.342298755Z",
     "start_time": "2024-01-16T10:32:48.180253978Z"
    }
   },
   "id": "1401886866a16cbf"
  },
  {
   "cell_type": "code",
   "execution_count": 37,
   "outputs": [
    {
     "data": {
      "text/plain": "[<matplotlib.lines.Line2D at 0x7ffef1ff44d0>]"
     },
     "execution_count": 37,
     "metadata": {},
     "output_type": "execute_result"
    },
    {
     "data": {
      "text/plain": "<Figure size 640x480 with 1 Axes>",
      "image/png": "[encoded data removed]"
     },
     "metadata": {},
     "output_type": "display_data"
    }
   ],
   "source": [
    "plt.plot(thresholds, scores)"
   ],
   "metadata": {
    "collapsed": false,
    "ExecuteTime": {
     "end_time": "2024-01-16T10:32:53.788852146Z",
     "start_time": "2024-01-16T10:32:53.447861419Z"
    }
   },
   "id": "25acce493d8ae993"
  },
  {
   "cell_type": "code",
   "execution_count": 38,
   "outputs": [],
   "source": [
    "from collections import Counter"
   ],
   "metadata": {
    "collapsed": false,
    "ExecuteTime": {
     "end_time": "2024-01-16T10:35:27.625399379Z",
     "start_time": "2024-01-16T10:35:27.462580750Z"
    }
   },
   "id": "b3f0d8fcc4c889cb"
  },
  {
   "cell_type": "code",
   "execution_count": 39,
   "outputs": [
    {
     "data": {
      "text/plain": "Counter({False: 1409})"
     },
     "execution_count": 39,
     "metadata": {},
     "output_type": "execute_result"
    }
   ],
   "source": [
    "Counter(y_pred >=1.0)"
   ],
   "metadata": {
    "collapsed": false,
    "ExecuteTime": {
     "end_time": "2024-01-16T10:35:46.988352328Z",
     "start_time": "2024-01-16T10:35:46.779499460Z"
    }
   },
   "id": "939693437dd3f629"
  },
  {
   "cell_type": "code",
   "execution_count": 40,
   "outputs": [
    {
     "data": {
      "text/plain": "0.7260468417317246"
     },
     "execution_count": 40,
     "metadata": {},
     "output_type": "execute_result"
    }
   ],
   "source": [
    "1 - y_val.mean()"
   ],
   "metadata": {
    "collapsed": false,
    "ExecuteTime": {
     "end_time": "2024-01-16T10:41:50.486975158Z",
     "start_time": "2024-01-16T10:41:50.337060366Z"
    }
   },
   "id": "c8ac0a9baf8b83eb"
  },
  {
   "cell_type": "markdown",
   "source": [
    "## 4.3 Confusion table\n",
    "* Different types of errors correct decisions\n",
    "* Arranging therm in a table"
   ],
   "metadata": {
    "collapsed": false
   },
   "id": "b632f5ae6e412e97"
  },
  {
   "cell_type": "code",
   "execution_count": 41,
   "outputs": [],
   "source": [
    "actual_positive = (y_val == 1)\n",
    "actual_negative = (y_val == 0)"
   ],
   "metadata": {
    "collapsed": false,
    "ExecuteTime": {
     "end_time": "2024-01-16T11:03:47.344595396Z",
     "start_time": "2024-01-16T11:03:47.092295129Z"
    }
   },
   "id": "c4d9a0526f5615a"
  },
  {
   "cell_type": "code",
   "execution_count": 42,
   "outputs": [
    {
     "data": {
      "text/plain": "array([False, False, False, ..., False,  True,  True])"
     },
     "execution_count": 42,
     "metadata": {},
     "output_type": "execute_result"
    }
   ],
   "source": [
    "actual_positive"
   ],
   "metadata": {
    "collapsed": false,
    "ExecuteTime": {
     "end_time": "2024-01-16T11:03:54.356505050Z",
     "start_time": "2024-01-16T11:03:54.114758817Z"
    }
   },
   "id": "9e7b8f31f374415d"
  },
  {
   "cell_type": "code",
   "execution_count": 43,
   "outputs": [],
   "source": [
    "t = 0.5\n",
    "predict_positive = (y_pred >= t)\n",
    "predict_negative = (y_pred < t)"
   ],
   "metadata": {
    "collapsed": false,
    "ExecuteTime": {
     "end_time": "2024-01-16T11:05:37.630727636Z",
     "start_time": "2024-01-16T11:05:37.297919509Z"
    }
   },
   "id": "6dc32ff0efea715a"
  },
  {
   "cell_type": "code",
   "execution_count": 45,
   "outputs": [
    {
     "data": {
      "text/plain": "array([False, False, False,  True, False])"
     },
     "execution_count": 45,
     "metadata": {},
     "output_type": "execute_result"
    }
   ],
   "source": [
    "predict_positive[:5]"
   ],
   "metadata": {
    "collapsed": false,
    "ExecuteTime": {
     "end_time": "2024-01-16T11:08:13.162109883Z",
     "start_time": "2024-01-16T11:08:13.034496601Z"
    }
   },
   "id": "409b32fa3bdf2b31"
  },
  {
   "cell_type": "code",
   "execution_count": 46,
   "outputs": [
    {
     "data": {
      "text/plain": "array([False, False, False,  True, False])"
     },
     "execution_count": 46,
     "metadata": {},
     "output_type": "execute_result"
    }
   ],
   "source": [
    "actual_positive[:5]"
   ],
   "metadata": {
    "collapsed": false,
    "ExecuteTime": {
     "end_time": "2024-01-16T11:08:17.956439895Z",
     "start_time": "2024-01-16T11:08:17.886113301Z"
    }
   },
   "id": "d4a2d52fbaa704ad"
  },
  {
   "cell_type": "code",
   "execution_count": 48,
   "outputs": [],
   "source": [
    "tp = (predict_positive & actual_positive).sum() #true positive\n",
    "tn = (predict_negative & actual_negative).sum() #true positive"
   ],
   "metadata": {
    "collapsed": false,
    "ExecuteTime": {
     "end_time": "2024-01-16T11:11:30.889572081Z",
     "start_time": "2024-01-16T11:11:30.517404859Z"
    }
   },
   "id": "2ec308b593385a0c"
  },
  {
   "cell_type": "code",
   "execution_count": 50,
   "outputs": [],
   "source": [
    "fp = (predict_positive & actual_negative).sum()\n",
    "fn = (predict_negative & actual_positive).sum()"
   ],
   "metadata": {
    "collapsed": false,
    "ExecuteTime": {
     "end_time": "2024-01-16T11:13:39.841955266Z",
     "start_time": "2024-01-16T11:13:39.473833947Z"
    }
   },
   "id": "8ab8f1c7aee79653"
  },
  {
   "cell_type": "code",
   "execution_count": 51,
   "outputs": [
    {
     "data": {
      "text/plain": "(109, 175)"
     },
     "execution_count": 51,
     "metadata": {},
     "output_type": "execute_result"
    }
   ],
   "source": [
    "fp, fn"
   ],
   "metadata": {
    "collapsed": false,
    "ExecuteTime": {
     "end_time": "2024-01-16T11:13:48.267185105Z",
     "start_time": "2024-01-16T11:13:47.918509549Z"
    }
   },
   "id": "8c8c1b250a804e10"
  },
  {
   "cell_type": "code",
   "execution_count": 52,
   "outputs": [
    {
     "data": {
      "text/plain": "array([[914, 109],\n       [175, 211]])"
     },
     "execution_count": 52,
     "metadata": {},
     "output_type": "execute_result"
    }
   ],
   "source": [
    "confusion_matrix = np.array([\n",
    "    [tn, fp],\n",
    "    [fn, tp]])\n",
    "confusion_matrix"
   ],
   "metadata": {
    "collapsed": false,
    "ExecuteTime": {
     "end_time": "2024-01-16T11:18:42.079954171Z",
     "start_time": "2024-01-16T11:18:41.623047663Z"
    }
   },
   "id": "eedace440c509e2b"
  },
  {
   "cell_type": "code",
   "execution_count": 53,
   "outputs": [
    {
     "data": {
      "text/plain": "array([[0.65, 0.08],\n       [0.12, 0.15]])"
     },
     "execution_count": 53,
     "metadata": {},
     "output_type": "execute_result"
    }
   ],
   "source": [
    "(confusion_matrix / confusion_matrix.sum()).round(2) # % de l'accuracy"
   ],
   "metadata": {
    "collapsed": false,
    "ExecuteTime": {
     "end_time": "2024-01-16T11:27:10.953050936Z",
     "start_time": "2024-01-16T11:27:10.611712329Z"
    }
   },
   "id": "353f182f670cd6af"
  },
  {
   "cell_type": "markdown",
   "source": [
    "Accuracy $= 0.65 + 0.15 = 0.8 \\rightarrow 80\\%$"
   ],
   "metadata": {
    "collapsed": false
   },
   "id": "d3eb8a9ca9984d2"
  },
  {
   "cell_type": "markdown",
   "source": [
    "## 4.4 Precision and Recall"
   ],
   "metadata": {
    "collapsed": false
   },
   "id": "9b8ee23996b61eb8"
  },
  {
   "cell_type": "code",
   "execution_count": 54,
   "outputs": [
    {
     "data": {
      "text/plain": "0.7984386089425124"
     },
     "execution_count": 54,
     "metadata": {},
     "output_type": "execute_result"
    }
   ],
   "source": [
    "(tp + tn) / (tp + tn + fp + fn)"
   ],
   "metadata": {
    "collapsed": false,
    "ExecuteTime": {
     "end_time": "2024-01-16T11:29:59.758726144Z",
     "start_time": "2024-01-16T11:29:59.258559569Z"
    }
   },
   "id": "e0c076373af72eaa"
  },
  {
   "cell_type": "code",
   "execution_count": 56,
   "outputs": [
    {
     "data": {
      "text/plain": "0.659375"
     },
     "execution_count": 56,
     "metadata": {},
     "output_type": "execute_result"
    }
   ],
   "source": [
    "p = tp / (tp +fp)\n",
    "p"
   ],
   "metadata": {
    "collapsed": false,
    "ExecuteTime": {
     "end_time": "2024-01-16T12:18:17.043244890Z",
     "start_time": "2024-01-16T12:18:16.848026584Z"
    }
   },
   "id": "87a6b3df4ccf8ef2"
  },
  {
   "cell_type": "markdown",
   "source": [
    "Precision $= 67\\%$\n",
    "Erreur: $33\\%$"
   ],
   "metadata": {
    "collapsed": false
   },
   "id": "eceff43e5ec5a558"
  },
  {
   "cell_type": "markdown",
   "source": [
    "Recall = Fraction of correctly identified positive examples"
   ],
   "metadata": {
    "collapsed": false
   },
   "id": "30e3a4491ca9bce3"
  },
  {
   "cell_type": "code",
   "execution_count": 58,
   "outputs": [
    {
     "data": {
      "text/plain": "0.5466321243523317"
     },
     "execution_count": 58,
     "metadata": {},
     "output_type": "execute_result"
    }
   ],
   "source": [
    "r = tp / (tp + fn)\n",
    "r"
   ],
   "metadata": {
    "collapsed": false,
    "ExecuteTime": {
     "end_time": "2024-01-16T12:23:49.683007910Z",
     "start_time": "2024-01-16T12:23:49.133347785Z"
    }
   },
   "id": "61a81fd16f29b0f"
  },
  {
   "cell_type": "markdown",
   "source": [
    "## 4.5 ROC Curves\n",
    "ROC stands for Receiver Operating Characteristics\n",
    "This is a way of describing the performance of a binary classification model\n",
    "### TPR and FPR"
   ],
   "metadata": {
    "collapsed": false
   },
   "id": "4b901c89e8d50eef"
  },
  {
   "cell_type": "code",
   "execution_count": 60,
   "outputs": [
    {
     "data": {
      "text/plain": "0.5466321243523317"
     },
     "execution_count": 60,
     "metadata": {},
     "output_type": "execute_result"
    }
   ],
   "source": [
    "# True Positive Ratio. It's the same as Recall\n",
    "tpr = tp / (tp + fn)\n",
    "tpr"
   ],
   "metadata": {
    "collapsed": false,
    "ExecuteTime": {
     "end_time": "2024-01-16T13:17:47.794460520Z",
     "start_time": "2024-01-16T13:17:47.450917585Z"
    }
   },
   "id": "f5d91dc91ec27d5"
  },
  {
   "cell_type": "code",
   "execution_count": 61,
   "outputs": [
    {
     "data": {
      "text/plain": "0.10654936461388075"
     },
     "execution_count": 61,
     "metadata": {},
     "output_type": "execute_result"
    }
   ],
   "source": [
    "# False Positive Ratio\n",
    "fpr = fp / (fp + tn)\n",
    "fpr"
   ],
   "metadata": {
    "collapsed": false,
    "ExecuteTime": {
     "end_time": "2024-01-16T13:18:58.656023629Z",
     "start_time": "2024-01-16T13:18:58.368790171Z"
    }
   },
   "id": "aa8f4265ef0ebdd"
  },
  {
   "cell_type": "code",
   "execution_count": 64,
   "outputs": [],
   "source": [
    "scores = []\n",
    "\n",
    "thresholds = np.linspace(0,1,101)\n",
    "for t in thresholds:\n",
    "    actual_positive = (y_val == 1)\n",
    "    actual_negative = (y_val == 0)\n",
    "    \n",
    "    \n",
    "    predict_positive = (y_pred >= t)\n",
    "    predict_negative = (y_pred < t)\n",
    "    \n",
    "    tp = (predict_positive & actual_positive).sum() #true positive\n",
    "    tn = (predict_negative & actual_negative).sum() #true positive\n",
    "    \n",
    "    fp = (predict_positive & actual_negative).sum()\n",
    "    fn = (predict_negative & actual_positive).sum()\n",
    "    \n",
    "    scores.append((t, tp, fp, fn, tn))\n",
    "    "
   ],
   "metadata": {
    "collapsed": false,
    "ExecuteTime": {
     "end_time": "2024-01-16T13:35:39.569181432Z",
     "start_time": "2024-01-16T13:35:39.377614447Z"
    }
   },
   "id": "1edeeb930ee1148b"
  },
  {
   "cell_type": "code",
   "execution_count": 66,
   "outputs": [],
   "source": [
    "columns = ['threshold', 'tp', 'fp', 'fn', 'tn']\n",
    "df_scores = pd.DataFrame(scores, columns=columns)"
   ],
   "metadata": {
    "collapsed": false,
    "ExecuteTime": {
     "end_time": "2024-01-16T13:37:58.202746740Z",
     "start_time": "2024-01-16T13:37:58.123632962Z"
    }
   },
   "id": "9ba36b7f9823ac68"
  },
  {
   "cell_type": "code",
   "execution_count": 68,
   "outputs": [
    {
     "data": {
      "text/plain": "     threshold   tp    fp   fn    tn\n0          0.0  386  1023    0     0\n10         0.1  366   548   20   475\n20         0.2  334   358   52   665\n30         0.3  283   242  103   781\n40         0.4  250   170  136   853\n50         0.5  211   109  175   914\n60         0.6  153    55  233   968\n70         0.7   77    24  309   999\n80         0.8   14     1  372  1022\n90         0.9    0     0  386  1023\n100        1.0    0     0  386  1023",
      "text/html": "<div>\n<style scoped>\n    .dataframe tbody tr th:only-of-type {\n        vertical-align: middle;\n    }\n\n    .dataframe tbody tr th {\n        vertical-align: top;\n    }\n\n    .dataframe thead th {\n        text-align: right;\n    }\n</style>\n<table border=\"1\" class=\"dataframe\">\n  <thead>\n    <tr style=\"text-align: right;\">\n      <th></th>\n      <th>threshold</th>\n      <th>tp</th>\n      <th>fp</th>\n      <th>fn</th>\n      <th>tn</th>\n    </tr>\n  </thead>\n  <tbody>\n    <tr>\n      <th>0</th>\n      <td>0.0</td>\n      <td>386</td>\n      <td>1023</td>\n      <td>0</td>\n      <td>0</td>\n    </tr>\n    <tr>\n      <th>10</th>\n      <td>0.1</td>\n      <td>366</td>\n      <td>548</td>\n      <td>20</td>\n      <td>475</td>\n    </tr>\n    <tr>\n      <th>20</th>\n      <td>0.2</td>\n      <td>334</td>\n      <td>358</td>\n      <td>52</td>\n      <td>665</td>\n    </tr>\n    <tr>\n      <th>30</th>\n      <td>0.3</td>\n      <td>283</td>\n      <td>242</td>\n      <td>103</td>\n      <td>781</td>\n    </tr>\n    <tr>\n      <th>40</th>\n      <td>0.4</td>\n      <td>250</td>\n      <td>170</td>\n      <td>136</td>\n      <td>853</td>\n    </tr>\n    <tr>\n      <th>50</th>\n      <td>0.5</td>\n      <td>211</td>\n      <td>109</td>\n      <td>175</td>\n      <td>914</td>\n    </tr>\n    <tr>\n      <th>60</th>\n      <td>0.6</td>\n      <td>153</td>\n      <td>55</td>\n      <td>233</td>\n      <td>968</td>\n    </tr>\n    <tr>\n      <th>70</th>\n      <td>0.7</td>\n      <td>77</td>\n      <td>24</td>\n      <td>309</td>\n      <td>999</td>\n    </tr>\n    <tr>\n      <th>80</th>\n      <td>0.8</td>\n      <td>14</td>\n      <td>1</td>\n      <td>372</td>\n      <td>1022</td>\n    </tr>\n    <tr>\n      <th>90</th>\n      <td>0.9</td>\n      <td>0</td>\n      <td>0</td>\n      <td>386</td>\n      <td>1023</td>\n    </tr>\n    <tr>\n      <th>100</th>\n      <td>1.0</td>\n      <td>0</td>\n      <td>0</td>\n      <td>386</td>\n      <td>1023</td>\n    </tr>\n  </tbody>\n</table>\n</div>"
     },
     "execution_count": 68,
     "metadata": {},
     "output_type": "execute_result"
    }
   ],
   "source": [
    "df_scores[::10]"
   ],
   "metadata": {
    "collapsed": false,
    "ExecuteTime": {
     "end_time": "2024-01-16T13:39:21.308659400Z",
     "start_time": "2024-01-16T13:39:21.229779773Z"
    }
   },
   "id": "4b2fed63ce16204f"
  },
  {
   "cell_type": "code",
   "execution_count": 70,
   "outputs": [
    {
     "data": {
      "text/plain": "     threshold   tp    fp   fn    tn       tpr       fpr\n0          0.0  386  1023    0     0  1.000000  1.000000\n10         0.1  366   548   20   475  0.948187  0.535679\n20         0.2  334   358   52   665  0.865285  0.349951\n30         0.3  283   242  103   781  0.733161  0.236559\n40         0.4  250   170  136   853  0.647668  0.166178\n50         0.5  211   109  175   914  0.546632  0.106549\n60         0.6  153    55  233   968  0.396373  0.053763\n70         0.7   77    24  309   999  0.199482  0.023460\n80         0.8   14     1  372  1022  0.036269  0.000978\n90         0.9    0     0  386  1023  0.000000  0.000000\n100        1.0    0     0  386  1023  0.000000  0.000000",
      "text/html": "<div>\n<style scoped>\n    .dataframe tbody tr th:only-of-type {\n        vertical-align: middle;\n    }\n\n    .dataframe tbody tr th {\n        vertical-align: top;\n    }\n\n    .dataframe thead th {\n        text-align: right;\n    }\n</style>\n<table border=\"1\" class=\"dataframe\">\n  <thead>\n    <tr style=\"text-align: right;\">\n      <th></th>\n      <th>threshold</th>\n      <th>tp</th>\n      <th>fp</th>\n      <th>fn</th>\n      <th>tn</th>\n      <th>tpr</th>\n      <th>fpr</th>\n    </tr>\n  </thead>\n  <tbody>\n    <tr>\n      <th>0</th>\n      <td>0.0</td>\n      <td>386</td>\n      <td>1023</td>\n      <td>0</td>\n      <td>0</td>\n      <td>1.000000</td>\n      <td>1.000000</td>\n    </tr>\n    <tr>\n      <th>10</th>\n      <td>0.1</td>\n      <td>366</td>\n      <td>548</td>\n      <td>20</td>\n      <td>475</td>\n      <td>0.948187</td>\n      <td>0.535679</td>\n    </tr>\n    <tr>\n      <th>20</th>\n      <td>0.2</td>\n      <td>334</td>\n      <td>358</td>\n      <td>52</td>\n      <td>665</td>\n      <td>0.865285</td>\n      <td>0.349951</td>\n    </tr>\n    <tr>\n      <th>30</th>\n      <td>0.3</td>\n      <td>283</td>\n      <td>242</td>\n      <td>103</td>\n      <td>781</td>\n      <td>0.733161</td>\n      <td>0.236559</td>\n    </tr>\n    <tr>\n      <th>40</th>\n      <td>0.4</td>\n      <td>250</td>\n      <td>170</td>\n      <td>136</td>\n      <td>853</td>\n      <td>0.647668</td>\n      <td>0.166178</td>\n    </tr>\n    <tr>\n      <th>50</th>\n      <td>0.5</td>\n      <td>211</td>\n      <td>109</td>\n      <td>175</td>\n      <td>914</td>\n      <td>0.546632</td>\n      <td>0.106549</td>\n    </tr>\n    <tr>\n      <th>60</th>\n      <td>0.6</td>\n      <td>153</td>\n      <td>55</td>\n      <td>233</td>\n      <td>968</td>\n      <td>0.396373</td>\n      <td>0.053763</td>\n    </tr>\n    <tr>\n      <th>70</th>\n      <td>0.7</td>\n      <td>77</td>\n      <td>24</td>\n      <td>309</td>\n      <td>999</td>\n      <td>0.199482</td>\n      <td>0.023460</td>\n    </tr>\n    <tr>\n      <th>80</th>\n      <td>0.8</td>\n      <td>14</td>\n      <td>1</td>\n      <td>372</td>\n      <td>1022</td>\n      <td>0.036269</td>\n      <td>0.000978</td>\n    </tr>\n    <tr>\n      <th>90</th>\n      <td>0.9</td>\n      <td>0</td>\n      <td>0</td>\n      <td>386</td>\n      <td>1023</td>\n      <td>0.000000</td>\n      <td>0.000000</td>\n    </tr>\n    <tr>\n      <th>100</th>\n      <td>1.0</td>\n      <td>0</td>\n      <td>0</td>\n      <td>386</td>\n      <td>1023</td>\n      <td>0.000000</td>\n      <td>0.000000</td>\n    </tr>\n  </tbody>\n</table>\n</div>"
     },
     "execution_count": 70,
     "metadata": {},
     "output_type": "execute_result"
    }
   ],
   "source": [
    "df_scores['tpr'] = df_scores.tp / (df_scores.tp + df_scores.fn)\n",
    "df_scores['fpr'] = df_scores.fp / (df_scores.fp + df_scores.tn)\n",
    "df_scores[::10]"
   ],
   "metadata": {
    "collapsed": false,
    "ExecuteTime": {
     "end_time": "2024-01-16T13:51:35.560683035Z",
     "start_time": "2024-01-16T13:51:34.333262090Z"
    }
   },
   "id": "d7cbf7d47e537c03"
  },
  {
   "cell_type": "code",
   "execution_count": 72,
   "outputs": [
    {
     "data": {
      "text/plain": "<matplotlib.legend.Legend at 0x7ffef1777e90>"
     },
     "execution_count": 72,
     "metadata": {},
     "output_type": "execute_result"
    },
    {
     "data": {
      "text/plain": "<Figure size 640x480 with 1 Axes>",
      "image/png": "[encoded data removed]"
     },
     "metadata": {},
     "output_type": "display_data"
    }
   ],
   "source": [
    "plt.plot(df_scores.threshold, df_scores['tpr'], label='TPR')\n",
    "plt.plot(df_scores.threshold, df_scores['fpr'], label='FPR')\n",
    "plt.legend()"
   ],
   "metadata": {
    "collapsed": false,
    "ExecuteTime": {
     "end_time": "2024-01-16T13:54:16.905195468Z",
     "start_time": "2024-01-16T13:54:16.416701453Z"
    }
   },
   "id": "8a8e86972938be2b"
  },
  {
   "cell_type": "markdown",
   "source": [
    "### Random model"
   ],
   "metadata": {
    "collapsed": false
   },
   "id": "9e94229a29a2d92"
  },
  {
   "cell_type": "code",
   "execution_count": 75,
   "outputs": [],
   "source": [
    "np.random.seed(1)\n",
    "y_rand = np.random.uniform(0, 1, size=len(y_val))"
   ],
   "metadata": {
    "collapsed": false,
    "ExecuteTime": {
     "end_time": "2024-01-16T14:13:21.562886910Z",
     "start_time": "2024-01-16T14:13:21.173245932Z"
    }
   },
   "id": "90d26298ed45d0b8"
  },
  {
   "cell_type": "code",
   "execution_count": 76,
   "outputs": [
    {
     "data": {
      "text/plain": "0.5017743080198722"
     },
     "execution_count": 76,
     "metadata": {},
     "output_type": "execute_result"
    }
   ],
   "source": [
    "((y_rand >= 0.5) == y_val).mean()"
   ],
   "metadata": {
    "collapsed": false,
    "ExecuteTime": {
     "end_time": "2024-01-16T14:19:02.824463528Z",
     "start_time": "2024-01-16T14:19:02.163548886Z"
    }
   },
   "id": "eaa4af462b8e12c1"
  },
  {
   "cell_type": "code",
   "execution_count": 77,
   "outputs": [],
   "source": [
    "def tpr_fpr_dataframe(y_val, y_pred):\n",
    "    scores = []\n",
    "\n",
    "    thresholds = np.linspace(0,1,101)\n",
    "    for t in thresholds:\n",
    "        actual_positive = (y_val == 1)\n",
    "        actual_negative = (y_val == 0)\n",
    "        \n",
    "        \n",
    "        predict_positive = (y_pred >= t)\n",
    "        predict_negative = (y_pred < t)\n",
    "        \n",
    "        tp = (predict_positive & actual_positive).sum() #true positive\n",
    "        tn = (predict_negative & actual_negative).sum() #true positive\n",
    "        \n",
    "        fp = (predict_positive & actual_negative).sum()\n",
    "        fn = (predict_negative & actual_positive).sum()\n",
    "        \n",
    "        scores.append((t, tp, fp, fn, tn))\n",
    "        \n",
    "    columns = ['threshold', 'tp', 'fp', 'fn', 'tn']\n",
    "    df_scores = pd.DataFrame(scores, columns=columns)\n",
    "    \n",
    "    df_scores['tpr'] = df_scores.tp / (df_scores.tp + df_scores.fn)\n",
    "    df_scores['fpr'] = df_scores.fp / (df_scores.fp + df_scores.tn)\n",
    "    \n",
    "    return df_scores"
   ],
   "metadata": {
    "collapsed": false,
    "ExecuteTime": {
     "end_time": "2024-01-16T14:28:36.842160971Z",
     "start_time": "2024-01-16T14:28:36.076138039Z"
    }
   },
   "id": "d726514b639d401e"
  },
  {
   "cell_type": "code",
   "execution_count": 78,
   "outputs": [],
   "source": [
    "df_rand = tpr_fpr_dataframe(y_val, y_rand)"
   ],
   "metadata": {
    "collapsed": false,
    "ExecuteTime": {
     "end_time": "2024-01-16T14:29:29.131081306Z",
     "start_time": "2024-01-16T14:29:28.288407046Z"
    }
   },
   "id": "f977cd91d32075dd"
  },
  {
   "cell_type": "code",
   "execution_count": 79,
   "outputs": [
    {
     "data": {
      "text/plain": "     threshold   tp    fp   fn    tn       tpr       fpr\n0          0.0  386  1023    0     0  1.000000  1.000000\n10         0.1  347   923   39   100  0.898964  0.902248\n20         0.2  307   822   79   201  0.795337  0.803519\n30         0.3  276   724  110   299  0.715026  0.707722\n40         0.4  237   624  149   399  0.613990  0.609971\n50         0.5  202   518  184   505  0.523316  0.506354\n60         0.6  161   409  225   614  0.417098  0.399804\n70         0.7  121   302  265   721  0.313472  0.295210\n80         0.8   78   206  308   817  0.202073  0.201369\n90         0.9   40   101  346   922  0.103627  0.098729\n100        1.0    0     0  386  1023  0.000000  0.000000",
      "text/html": "<div>\n<style scoped>\n    .dataframe tbody tr th:only-of-type {\n        vertical-align: middle;\n    }\n\n    .dataframe tbody tr th {\n        vertical-align: top;\n    }\n\n    .dataframe thead th {\n        text-align: right;\n    }\n</style>\n<table border=\"1\" class=\"dataframe\">\n  <thead>\n    <tr style=\"text-align: right;\">\n      <th></th>\n      <th>threshold</th>\n      <th>tp</th>\n      <th>fp</th>\n      <th>fn</th>\n      <th>tn</th>\n      <th>tpr</th>\n      <th>fpr</th>\n    </tr>\n  </thead>\n  <tbody>\n    <tr>\n      <th>0</th>\n      <td>0.0</td>\n      <td>386</td>\n      <td>1023</td>\n      <td>0</td>\n      <td>0</td>\n      <td>1.000000</td>\n      <td>1.000000</td>\n    </tr>\n    <tr>\n      <th>10</th>\n      <td>0.1</td>\n      <td>347</td>\n      <td>923</td>\n      <td>39</td>\n      <td>100</td>\n      <td>0.898964</td>\n      <td>0.902248</td>\n    </tr>\n    <tr>\n      <th>20</th>\n      <td>0.2</td>\n      <td>307</td>\n      <td>822</td>\n      <td>79</td>\n      <td>201</td>\n      <td>0.795337</td>\n      <td>0.803519</td>\n    </tr>\n    <tr>\n      <th>30</th>\n      <td>0.3</td>\n      <td>276</td>\n      <td>724</td>\n      <td>110</td>\n      <td>299</td>\n      <td>0.715026</td>\n      <td>0.707722</td>\n    </tr>\n    <tr>\n      <th>40</th>\n      <td>0.4</td>\n      <td>237</td>\n      <td>624</td>\n      <td>149</td>\n      <td>399</td>\n      <td>0.613990</td>\n      <td>0.609971</td>\n    </tr>\n    <tr>\n      <th>50</th>\n      <td>0.5</td>\n      <td>202</td>\n      <td>518</td>\n      <td>184</td>\n      <td>505</td>\n      <td>0.523316</td>\n      <td>0.506354</td>\n    </tr>\n    <tr>\n      <th>60</th>\n      <td>0.6</td>\n      <td>161</td>\n      <td>409</td>\n      <td>225</td>\n      <td>614</td>\n      <td>0.417098</td>\n      <td>0.399804</td>\n    </tr>\n    <tr>\n      <th>70</th>\n      <td>0.7</td>\n      <td>121</td>\n      <td>302</td>\n      <td>265</td>\n      <td>721</td>\n      <td>0.313472</td>\n      <td>0.295210</td>\n    </tr>\n    <tr>\n      <th>80</th>\n      <td>0.8</td>\n      <td>78</td>\n      <td>206</td>\n      <td>308</td>\n      <td>817</td>\n      <td>0.202073</td>\n      <td>0.201369</td>\n    </tr>\n    <tr>\n      <th>90</th>\n      <td>0.9</td>\n      <td>40</td>\n      <td>101</td>\n      <td>346</td>\n      <td>922</td>\n      <td>0.103627</td>\n      <td>0.098729</td>\n    </tr>\n    <tr>\n      <th>100</th>\n      <td>1.0</td>\n      <td>0</td>\n      <td>0</td>\n      <td>386</td>\n      <td>1023</td>\n      <td>0.000000</td>\n      <td>0.000000</td>\n    </tr>\n  </tbody>\n</table>\n</div>"
     },
     "execution_count": 79,
     "metadata": {},
     "output_type": "execute_result"
    }
   ],
   "source": [
    "df_rand[::10]"
   ],
   "metadata": {
    "collapsed": false,
    "ExecuteTime": {
     "end_time": "2024-01-16T14:29:51.770704531Z",
     "start_time": "2024-01-16T14:29:50.678666218Z"
    }
   },
   "id": "88f951bf932c22a6"
  },
  {
   "cell_type": "code",
   "execution_count": 80,
   "outputs": [
    {
     "data": {
      "text/plain": "<matplotlib.legend.Legend at 0x7ffef25a4a10>"
     },
     "execution_count": 80,
     "metadata": {},
     "output_type": "execute_result"
    },
    {
     "data": {
      "text/plain": "<Figure size 640x480 with 1 Axes>",
      "image/png": "[encoded data removed]"
     },
     "metadata": {},
     "output_type": "display_data"
    }
   ],
   "source": [
    "plt.plot(df_rand.threshold, df_rand['tpr'], label='TPR')\n",
    "plt.plot(df_rand.threshold, df_rand['fpr'], label='FPR')\n",
    "plt.legend()"
   ],
   "metadata": {
    "collapsed": false,
    "ExecuteTime": {
     "end_time": "2024-01-16T14:35:23.164207610Z",
     "start_time": "2024-01-16T14:35:22.462923263Z"
    }
   },
   "id": "9191d7aa65fe8966"
  },
  {
   "cell_type": "markdown",
   "source": [
    "### Ideal model"
   ],
   "metadata": {
    "collapsed": false
   },
   "id": "20020988ae1e1168"
  },
  {
   "cell_type": "code",
   "execution_count": 82,
   "outputs": [
    {
     "data": {
      "text/plain": "(1023, 386)"
     },
     "execution_count": 82,
     "metadata": {},
     "output_type": "execute_result"
    }
   ],
   "source": [
    "num_neg = (y_val == 0).sum()\n",
    "num_pos = (y_val == 1).sum()\n",
    "num_neg, num_pos"
   ],
   "metadata": {
    "collapsed": false,
    "ExecuteTime": {
     "end_time": "2024-01-16T15:10:55.223112398Z",
     "start_time": "2024-01-16T15:10:54.908930067Z"
    }
   },
   "id": "2c42c753e715e95c"
  },
  {
   "cell_type": "markdown",
   "source": [
    "### Putting everything together"
   ],
   "metadata": {
    "collapsed": false
   },
   "id": "19a865e4bef1cb57"
  },
  {
   "cell_type": "code",
   "execution_count": null,
   "outputs": [],
   "source": [],
   "metadata": {
    "collapsed": false
   },
   "id": "a6143a301e804097"
  },
  {
   "cell_type": "markdown",
   "source": [
    "# 4.5 @ 18:57"
   ],
   "metadata": {
    "collapsed": false
   },
   "id": "347bd4b808bb08d"
  },
  {
   "cell_type": "code",
   "execution_count": null,
   "outputs": [],
   "source": [],
   "metadata": {
    "collapsed": false
   },
   "id": "739cda1cacb3092b"
  }
 ],
 "metadata": {
  "kernelspec": {
   "display_name": "Python 3",
   "language": "python",
   "name": "python3"
  },
  "language_info": {
   "codemirror_mode": {
    "name": "ipython",
    "version": 2
   },
   "file_extension": ".py",
   "mimetype": "text/x-python",
   "name": "python",
   "nbconvert_exporter": "python",
   "pygments_lexer": "ipython2",
   "version": "2.7.6"
  }
 },
 "nbformat": 4,
 "nbformat_minor": 5
}
